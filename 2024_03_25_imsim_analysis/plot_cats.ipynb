{
 "cells": [
  {
   "cell_type": "code",
   "execution_count": 1,
   "metadata": {},
   "outputs": [],
   "source": [
    "# import proplot as pplt\n",
    "import numpy as np\n",
    "import glob\n",
    "import fitsio\n",
    "# from des_y6utils.mdet import make_mdet_cuts"
   ]
  },
  {
   "cell_type": "code",
   "execution_count": 19,
   "metadata": {},
   "outputs": [
    {
     "name": "stdout",
     "output_type": "stream",
     "text": [
      "['./sim_outputs_DES0433-2332_1/truth_files/DES0433-2332-truthfile.fits', './sim_outputs_DES0433-2332_2/truth_files/DES0433-2332-truthfile.fits']\n"
     ]
    }
   ],
   "source": [
    "fnames = glob.glob(\"./sim_outputs_*_?/**/truth_files/*\", recursive=True)\n",
    "print(fnames)"
   ]
  },
  {
   "cell_type": "code",
   "execution_count": 20,
   "metadata": {
    "scrolled": true
   },
   "outputs": [],
   "source": [
    "def _get_rots(ind):\n",
    "    d = fitsio.read(fnames[ind])\n",
    "    d = d[d[\"obj_type\"] == \"g\"]\n",
    "    urot, uinds = np.unique(d[\"rotate\"], return_index=True)\n",
    "    urows = d[\"gal_catalog_row\"][uinds]\n",
    "\n",
    "    sinds = np.argsort(urows)\n",
    "    return urot[sinds], urows[sinds]"
   ]
  },
  {
   "cell_type": "code",
   "execution_count": 21,
   "metadata": {
    "tags": []
   },
   "outputs": [
    {
     "name": "stdout",
     "output_type": "stream",
     "text": [
      "mean repeats: 0.0\n",
      "rots: [2.52705581 1.08442654 4.63146285 0.21061471 3.98503434 2.82280454\n",
      " 2.48457926 0.29584418 2.29104104 2.51494018] [1.15194394 3.01493616 2.93939098 1.64738698 5.09419465 0.36946952\n",
      " 1.16822183 1.0562892  1.60908234 0.06939845]\n",
      "rows: [ 21  27  33  42  66 140 149 151 175 175] [ 15  28  32  63  68  95  99 131 175 258]\n"
     ]
    }
   ],
   "source": [
    "rot0, ind0 = _get_rots(0)\n",
    "rot1, ind1 = _get_rots(1)\n",
    "\n",
    "print(\"mean repeats:\", np.mean(np.in1d(rot1, rot0)))\n",
    "print(\"rots:\", rot0[0:10], rot1[0:10])\n",
    "print(\"rows:\", ind0[0:10], ind1[0:10])"
   ]
  },
  {
   "cell_type": "code",
   "execution_count": 22,
   "metadata": {},
   "outputs": [
    {
     "name": "stdout",
     "output_type": "stream",
     "text": [
      "10000 90911\n"
     ]
    }
   ],
   "source": [
    "ind = 0\n",
    "\n",
    "d = fitsio.read(fnames[ind])\n",
    "d = d[d[\"obj_type\"] == \"g\"]\n",
    "print(np.unique(d[\"id\"]).shape[0], len(d))"
   ]
  },
  {
   "cell_type": "code",
   "execution_count": 24,
   "metadata": {},
   "outputs": [
    {
     "name": "stdout",
     "output_type": "stream",
     "text": [
      "10000 10000\n"
     ]
    }
   ],
   "source": [
    "uids, uinds = np.unique(d[\"id\"], return_index=True)\n",
    "print(np.unique(d[\"rotate\"][uinds]).shape[0], len(uinds))"
   ]
  },
  {
   "cell_type": "code",
   "execution_count": null,
   "metadata": {},
   "outputs": [],
   "source": [
    "d = fitsio.read(\"/astro/u/beckermr/workarea/des-y6-imsims/debug-cosmos-rand-piff-sum-median_color/DES0000-0250/9258/plus/des-pizza-slices-y6/DES0000-0250/metadetect/DES0000-0250_metadetect-config_mdetcat_part0000.fits\")"
   ]
  },
  {
   "cell_type": "code",
   "execution_count": null,
   "metadata": {},
   "outputs": [],
   "source": [
    "msk = d[\"mdet_step\"] == \"noshear\"\n",
    "d = d[msk]"
   ]
  },
  {
   "cell_type": "code",
   "execution_count": null,
   "metadata": {},
   "outputs": [],
   "source": [
    "fig, axs = pplt.subplots()\n",
    "\n",
    "axs.hexbin(\n",
    "    d[\"pgauss_T_err\"],\n",
    "    d[\"pgauss_T\"],\n",
    "    norm=\"log\",\n",
    "    extent=(0, 0.8, -2, 6),\n",
    ")"
   ]
  },
  {
   "cell_type": "code",
   "execution_count": null,
   "metadata": {},
   "outputs": [],
   "source": [
    "msk = make_mdet_cuts(d, \"6\")"
   ]
  },
  {
   "cell_type": "code",
   "execution_count": null,
   "metadata": {},
   "outputs": [],
   "source": [
    "fig, axs = pplt.subplots()\n",
    "axs.hist(d[\"gauss_g_1\"][msk], log=True, bins=100)\n",
    "print(np.mean(d[\"gauss_g_1\"][msk]))"
   ]
  },
  {
   "cell_type": "code",
   "execution_count": null,
   "metadata": {},
   "outputs": [],
   "source": [
    "g = np.sqrt(d[\"gauss_g_1\"][msk]**2 + d[\"gauss_g_2\"][msk]**2)\n",
    "\n",
    "fig, axs = pplt.subplots()\n",
    "axs.hexbin(\n",
    "    d[\"gauss_T\"][msk],\n",
    "    d[\"gauss_g_2\"][msk],\n",
    "    norm=\"log\",\n",
    ")\n",
    "axs.invert_xaxis()"
   ]
  },
  {
   "cell_type": "code",
   "execution_count": null,
   "metadata": {},
   "outputs": [],
   "source": [
    "np.mean(g > 1.0)"
   ]
  },
  {
   "cell_type": "code",
   "execution_count": null,
   "metadata": {},
   "outputs": [],
   "source": []
  },
  {
   "cell_type": "code",
   "execution_count": 25,
   "metadata": {},
   "outputs": [
    {
     "ename": "ValueError",
     "evalue": "need at least one array to concatenate",
     "output_type": "error",
     "traceback": [
      "\u001b[0;31m---------------------------------------------------------------------------\u001b[0m",
      "\u001b[0;31mValueError\u001b[0m                                Traceback (most recent call last)",
      "Cell \u001b[0;32mIn[25], line 2\u001b[0m\n\u001b[1;32m      1\u001b[0m data \u001b[38;5;241m=\u001b[39m []\n\u001b[0;32m----> 2\u001b[0m data \u001b[38;5;241m=\u001b[39m \u001b[43mnp\u001b[49m\u001b[38;5;241;43m.\u001b[39;49m\u001b[43mconcatenate\u001b[49m\u001b[43m(\u001b[49m\u001b[43mdata\u001b[49m\u001b[43m)\u001b[49m\n\u001b[1;32m      3\u001b[0m data \u001b[38;5;241m=\u001b[39m np\u001b[38;5;241m.\u001b[39msort(data, order\u001b[38;5;241m=\u001b[39m[\u001b[38;5;124m\"\u001b[39m\u001b[38;5;124mid\u001b[39m\u001b[38;5;124m\"\u001b[39m, \u001b[38;5;124m\"\u001b[39m\u001b[38;5;124mband\u001b[39m\u001b[38;5;124m\"\u001b[39m])\n",
      "\u001b[0;31mValueError\u001b[0m: need at least one array to concatenate"
     ]
    }
   ],
   "source": [
    "data = []\n",
    "data = np.concatenate(data)\n",
    "data = np.sort(data, order=[\"id\", \"band\"])\n"
   ]
  },
  {
   "cell_type": "code",
   "execution_count": null,
   "metadata": {},
   "outputs": [],
   "source": []
  },
  {
   "cell_type": "code",
   "execution_count": null,
   "metadata": {
    "tags": []
   },
   "outputs": [],
   "source": [
    "!cat /astro/u/beckermr/workarea/des-y6-imsims/debug-cosmos-rand-piff-sum-median_color/DES0157-2332/25029/plus/orig-config.yaml"
   ]
  },
  {
   "cell_type": "code",
   "execution_count": null,
   "metadata": {},
   "outputs": [],
   "source": []
  }
 ],
 "metadata": {
  "kernelspec": {
   "display_name": "Python 3",
   "language": "python",
   "name": "python3"
  },
  "language_info": {
   "codemirror_mode": {
    "name": "ipython",
    "version": 3
   },
   "file_extension": ".py",
   "mimetype": "text/x-python",
   "name": "python",
   "nbconvert_exporter": "python",
   "pygments_lexer": "ipython3",
   "version": "3.11.8"
  }
 },
 "nbformat": 4,
 "nbformat_minor": 4
}
