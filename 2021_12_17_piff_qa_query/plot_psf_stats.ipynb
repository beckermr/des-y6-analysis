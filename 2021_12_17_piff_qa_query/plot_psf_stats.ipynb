{
 "cells": [
  {
   "cell_type": "code",
   "execution_count": null,
   "id": "704e91e5",
   "metadata": {},
   "outputs": [],
   "source": [
    "import fitsio\n",
    "import proplot as pplt\n",
    "import numpy as np"
   ]
  },
  {
   "cell_type": "code",
   "execution_count": null,
   "id": "1db4d073",
   "metadata": {},
   "outputs": [],
   "source": [
    "import subprocess\n",
    "\n",
    "subprocess.run(\n",
    "    '''\\\n",
    "rm -f qadata*.fits && easyaccess --db desoper \\\n",
    "-c \"select * from (\\\n",
    " select qa.*, dbms_random.value as rnd from PIFF_HSM_MODEL_QA qa\\\n",
    ") r where r.rnd < 1.1; \\\n",
    "> qadata.fits\"\\\n",
    " ''',\n",
    "    shell=True,\n",
    "    check=True,\n",
    ")"
   ]
  },
  {
   "cell_type": "code",
   "execution_count": null,
   "id": "2e002c7c",
   "metadata": {},
   "outputs": [],
   "source": [
    "import glob\n",
    "\n",
    "fnames = glob.glob(\"qadata*.fits\")\n",
    "dall = [fitsio.read(f, lower=True) for f in fnames]\n",
    "dall = np.hstack(dall)\n",
    "dall.dtype.names"
   ]
  },
  {
   "cell_type": "code",
   "execution_count": null,
   "id": "234fb54c",
   "metadata": {},
   "outputs": [],
   "source": [
    "d = dall[(dall[\"flag\"] == 0) & (dall[\"nstar\"] >= 30)]"
   ]
  },
  {
   "cell_type": "code",
   "execution_count": null,
   "id": "fe2fc48c",
   "metadata": {},
   "outputs": [],
   "source": [
    "fig, axs = pplt.subplots(nrows=1, ncols=3, share=0)\n",
    "\n",
    "ax = axs[0]\n",
    "ax.hist(\n",
    "    np.abs(d[\"star_t_mean\"] - d[\"exp_star_t_mean\"])/d[\"exp_star_t_std\"],\n",
    "    bins=50,\n",
    "    log=True\n",
    ");\n",
    "ax.set_xlabel(\"|T-Mean(Texp)|/Std(Texp)\")\n",
    "ax.axvline(4, color=\"k\")\n",
    "frac = np.mean(np.abs(d[\"star_t_mean\"] - d[\"exp_star_t_mean\"])/d[\"exp_star_t_std\"] > 4)\n",
    "print(\"exposure cut:\", frac)\n",
    "ax.set_title(\"cut: %0.3f%%\" % (frac*100))\n",
    "\n",
    "ax = axs[1]\n",
    "ax.hist(\n",
    "    d[\"star_t_std\"]/d[\"star_t_mean\"],\n",
    "    bins=50,\n",
    "    log=True\n",
    ");\n",
    "frac = np.mean(d[\"star_t_std\"]/d[\"star_t_mean\"] >= 0.3)\n",
    "print(\"star T cut:\", frac)\n",
    "ax.set_xlabel(\"Std(T)/Mean(T)\")\n",
    "ax.axvline(0.3, color=\"k\")\n",
    "ax.set_title(\"cut: %0.3f%%\" % (frac*100))\n",
    "\n",
    "ax = axs[2]\n",
    "ax.hist(\n",
    "    d[\"fwhm_cen\"],\n",
    "    bins=50,\n",
    "    log=True\n",
    ");\n",
    "frac = np.mean(d[\"fwhm_cen\"] > 3.6)\n",
    "print(\"fwhm_cen cut:\", frac)\n",
    "ax.set_xlabel(\"fwhm_cen\")\n",
    "ax.axvline(3.6, color=\"k\")\n",
    "ax.set_title(\"cut: %0.3f%%\" % (frac*100))\n"
   ]
  },
  {
   "cell_type": "code",
   "execution_count": null,
   "id": "d562be99",
   "metadata": {},
   "outputs": [],
   "source": []
  }
 ],
 "metadata": {
  "kernelspec": {
   "display_name": "Python [conda env:desy6]",
   "language": "python",
   "name": "conda-env-desy6-py"
  },
  "language_info": {
   "codemirror_mode": {
    "name": "ipython",
    "version": 3
   },
   "file_extension": ".py",
   "mimetype": "text/x-python",
   "name": "python",
   "nbconvert_exporter": "python",
   "pygments_lexer": "ipython3",
   "version": "3.8.12"
  }
 },
 "nbformat": 4,
 "nbformat_minor": 5
}
