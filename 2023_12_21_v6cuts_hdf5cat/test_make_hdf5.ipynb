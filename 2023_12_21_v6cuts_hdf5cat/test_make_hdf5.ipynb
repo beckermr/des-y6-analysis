{
 "cells": [
  {
   "cell_type": "code",
   "execution_count": 1,
   "id": "fc1c5d92-9948-40ff-94f4-19c62b631184",
   "metadata": {},
   "outputs": [],
   "source": [
    "import hdf5plugin\n",
    "import h5py\n",
    "import glob\n",
    "import fitsio\n",
    "import numpy as np"
   ]
  },
  {
   "cell_type": "code",
   "execution_count": 2,
   "id": "6044458a-216a-4cfc-892b-fe4f708a4624",
   "metadata": {},
   "outputs": [],
   "source": [
    "cut_files = glob.glob(\"mdet_data_v6cuts/*.fits\")"
   ]
  },
  {
   "cell_type": "code",
   "execution_count": 3,
   "id": "edbfb75d",
   "metadata": {},
   "outputs": [],
   "source": [
    "d = fitsio.read(cut_files[0])\n",
    "cols = d.dtype.names"
   ]
  },
  {
   "cell_type": "code",
   "execution_count": 7,
   "id": "23661418",
   "metadata": {},
   "outputs": [
    {
     "name": "stderr",
     "output_type": "stream",
     "text": [
      "making HDF5 file: |--------------------| 0/5   0% [elapsed: 00:00 left: ?]"
     ]
    },
    {
     "name": "stderr",
     "output_type": "stream",
     "text": [
      "making HDF5 file: |####################| 5/5 100% [elapsed: 00:00 left: 00:00]\n"
     ]
    }
   ],
   "source": [
    "from esutil.pbar import PBar\n",
    "\n",
    "ofile_hdf5 = \"metadetect_cutsv6.h5\"\n",
    "\n",
    "with h5py.File(ofile_hdf5, \"w\") as fp:\n",
    "    mdet_grp = fp.create_group(\"mdet\")\n",
    "    for mdet_step in PBar(\n",
    "        [\"noshear\", \"1p\", \"1m\", \"2p\", \"2m\"],\n",
    "        desc=\"making HDF5 file\",\n",
    "\n",
    "    ):\n",
    "        grp = mdet_grp.create_group(mdet_step)\n",
    "        for col in d.dtype.names:\n",
    "            if col == \"mdet_step\":\n",
    "                continue\n",
    "            dt = d[col].dtype\n",
    "            if col.endswith(\"_nodered\"):\n",
    "                dt = np.dtype(\">f4\")\n",
    "            elif col == \"tilename\":\n",
    "                dt = np.dtype(\"<S12\")\n",
    "            elif col == \"mdet_step\":\n",
    "                dt = np.dtype(\"<S7\")\n",
    "\n",
    "            grp.create_dataset(\n",
    "                col,\n",
    "                dtype=dt,\n",
    "                shape=(160_000_000,),\n",
    "                maxshape=(None,),\n",
    "                # **hdf5plugin.LZ4(),\n",
    "            )\n"
   ]
  },
  {
   "cell_type": "code",
   "execution_count": 8,
   "id": "be9dd613",
   "metadata": {},
   "outputs": [
    {
     "name": "stderr",
     "output_type": "stream",
     "text": [
      "processing files: |####################| 9928/9928 100% [elapsed: 1:11:14 left: 00:00]\n"
     ]
    }
   ],
   "source": [
    "def _process_file(fname, loc, fp):\n",
    "    d = fitsio.read(fname)\n",
    "    for mdet_step in [\"noshear\", \"1p\", \"1m\", \"2p\", \"2m\"]:\n",
    "        msk = d[\"mdet_step\"] == mdet_step\n",
    "        d_mdet = d[msk]\n",
    "        num = d_mdet.shape[0]\n",
    "        for col in d.dtype.names:\n",
    "            if col == \"mdet_step\":\n",
    "                continue\n",
    "            fp[\"mdet\"][mdet_step][col][loc:loc + num] = d_mdet[col].astype(fp[\"mdet\"][mdet_step][col].dtype)\n",
    "    return loc + num\n",
    "\n",
    "with h5py.File(ofile_hdf5, \"a\") as fp:\n",
    "    num = 0\n",
    "    for i, fname in PBar(\n",
    "        enumerate(cut_files),\n",
    "        desc=\"processing files\",\n",
    "        total=len(cut_files),\n",
    "    ):\n",
    "        num = _process_file(fname, num, fp)\n",
    "        if i % 100 == 0:\n",
    "            fp.flush()\n",
    "\n",
    "with h5py.File(ofile_hdf5, \"a\") as fp:\n",
    "    for grp in fp.values():\n",
    "        for mdet_grp in grp.values():\n",
    "            for dset in mdet_grp.values():\n",
    "                dset.resize(num, axis=0)"
   ]
  },
  {
   "cell_type": "code",
   "execution_count": 9,
   "id": "95d95572",
   "metadata": {},
   "outputs": [
    {
     "name": "stdout",
     "output_type": "stream",
     "text": [
      "151630637\n"
     ]
    }
   ],
   "source": [
    "print(num)"
   ]
  },
  {
   "cell_type": "code",
   "execution_count": 10,
   "id": "a7bfe7ff",
   "metadata": {},
   "outputs": [],
   "source": [
    "# blind things\n",
    "import os\n",
    "import io\n",
    "import sys\n",
    "from des_y6utils.shear_masking import generate_shear_masking_factor\n",
    "from ngmix.shape import g1g2_to_eta1eta2, eta1eta2_to_g1g2\n",
    "import contextlib\n",
    "\n",
    "COLS_TO_KEEP = [\"pgauss\", \"gauss\"]\n",
    "\n",
    "with open(os.path.expanduser(\"~/.test_des_blinding_v7\"), \"r\") as fp:\n",
    "        passphrase = fp.read().strip()\n",
    "\n",
    "fac = generate_shear_masking_factor(passphrase)\n",
    "\n",
    "bofile_hdf5 = ofile_hdf5.rsplit(\".\", maxsplit=1)[0] + \"_blinded.h5\"\n",
    "\n",
    "os.system(f\"rm -f {bofile_hdf5}\")\n",
    "os.system(f\"cp {ofile_hdf5} {bofile_hdf5}\")\n",
    "buff = io.StringIO()\n",
    "with contextlib.redirect_stderr(sys.stdout):\n",
    "    with contextlib.redirect_stdout(buff):\n",
    "        try:\n",
    "            with h5py.File(bofile_hdf5, \"a\") as fp:\n",
    "                for pre in COLS_TO_KEEP:\n",
    "                    e1o, e2o = (\n",
    "                        fp[\"mdet\"][\"noshear\"][pre + \"_g_1\"][:].copy(),\n",
    "                        fp[\"mdet\"][\"noshear\"][pre + \"_g_2\"][:].copy(),\n",
    "                    )\n",
    "                    if pre not in [\"gauss\"]:\n",
    "                        e1 = e1o * fac\n",
    "                        e2 = e2o * fac\n",
    "                    else:\n",
    "                        # use eta due to bounds\n",
    "                        eta1o, eta2o = g1g2_to_eta1eta2(e1o, e2o)\n",
    "                        eta1 = eta1o * fac\n",
    "                        eta2 = eta2o * fac\n",
    "                        e1, e2 = eta1eta2_to_g1g2(eta1, eta2)\n",
    "\n",
    "                    fp[\"mdet\"][\"noshear\"][pre + \"_g_1\"][:] = e1\n",
    "                    fp[\"mdet\"][\"noshear\"][pre + \"_g_2\"][:] = e2\n",
    "\n",
    "                    fp.flush()\n",
    "\n",
    "                    assert not np.array_equal(fp[\"mdet\"][\"noshear\"][pre + \"_g_1\"][:], e1o)\n",
    "                    assert not np.array_equal(fp[\"mdet\"][\"noshear\"][pre + \"_g_2\"][:], e2o)\n",
    "\n",
    "        except Exception:\n",
    "            failed = True\n",
    "            print(\"blinding error\")"
   ]
  },
  {
   "cell_type": "code",
   "execution_count": null,
   "id": "486ec9ac",
   "metadata": {},
   "outputs": [],
   "source": []
  }
 ],
 "metadata": {
  "kernelspec": {
   "display_name": "des-hacking",
   "language": "python",
   "name": "python3"
  },
  "language_info": {
   "codemirror_mode": {
    "name": "ipython",
    "version": 3
   },
   "file_extension": ".py",
   "mimetype": "text/x-python",
   "name": "python",
   "nbconvert_exporter": "python",
   "pygments_lexer": "ipython3",
   "version": "3.9.19"
  }
 },
 "nbformat": 4,
 "nbformat_minor": 5
}
