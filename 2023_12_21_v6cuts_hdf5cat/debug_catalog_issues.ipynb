{
 "cells": [
  {
   "cell_type": "code",
   "execution_count": 5,
   "id": "fc1c5d92-9948-40ff-94f4-19c62b631184",
   "metadata": {
    "metadata": {}
   },
   "outputs": [],
   "source": [
    "import h5py\n",
    "import fitsio\n",
    "import numpy as np\n",
    "import proplot as pplt"
   ]
  },
  {
   "cell_type": "code",
   "execution_count": 6,
   "id": "b7cee8a1",
   "metadata": {
    "metadata": {}
   },
   "outputs": [],
   "source": [
    "from des_y6utils.mdet import make_mdet_cuts\n",
    "\n",
    "def dict2array(d):\n",
    "    desc = []\n",
    "    for k, v in d.items():\n",
    "        desc.append((k, v.dtype))\n",
    "    arr = np.zeros(len(d[list(d.keys())[0]]), dtype=desc)\n",
    "    for k in list(d.keys()):\n",
    "        v = d.pop(k)\n",
    "        arr[k] = v\n",
    "    return arr\n",
    "\n",
    "def read_h5toarray(filename, mdet_step, columns=None):\n",
    "    with h5py.File(filename, 'r') as f:\n",
    "        cols = columns or list(f[\"mdet\"][mdet_step].keys())\n",
    "        return dict2array(\n",
    "            {col: f[\"mdet\"][mdet_step][col][...] for col in cols}\n",
    "        )"
   ]
  },
  {
   "cell_type": "code",
   "execution_count": 7,
   "id": "a6dcb82c",
   "metadata": {
    "metadata": {}
   },
   "outputs": [],
   "source": [
    "comb_file = \"metadetect_cutsv6_all.h5\"\n",
    "comb = read_h5toarray(comb_file, \"noshear\", columns=[\"uid\", \"ra\", \"dec\"])"
   ]
  },
  {
   "cell_type": "code",
   "execution_count": 26,
   "id": "ce2c2515",
   "metadata": {
    "metadata": {}
   },
   "outputs": [
    {
     "name": "stderr",
     "output_type": "stream",
     "text": [
      "100%|███████████████████████████████████████| 200/200 [1:08:28<00:00, 20.54s/it]\n"
     ]
    }
   ],
   "source": [
    "import tqdm\n",
    "\n",
    "for patch_ind in tqdm.tqdm(range(200), ncols=80):\n",
    "    patch_file = \"metadetect_cutsv6_patch%03d.h5\" % patch_ind\n",
    "    patch = read_h5toarray(patch_file, \"noshear\")\n",
    "    # msk_patch = make_mdet_cuts(patch, \"6\")\n",
    "    msk_patch = patch[\"mdet_flags\"] == 0\n",
    "    if np.isin(patch[\"uid\"][msk_patch], comb[\"uid\"]).sum() != msk_patch.sum():\n",
    "        print(\"bad patch!\", patch_file, flush=True)\n",
    "        break"
   ]
  },
  {
   "cell_type": "code",
   "execution_count": 22,
   "id": "f92f8209",
   "metadata": {
    "metadata": {}
   },
   "outputs": [],
   "source": [
    "have_it = np.isin(patch[\"uid\"], comb[\"uid\"])"
   ]
  },
  {
   "cell_type": "code",
   "execution_count": 25,
   "id": "d32d5eea",
   "metadata": {
    "metadata": {}
   },
   "outputs": [
    {
     "name": "stdout",
     "output_type": "stream",
     "text": [
      "dec [-59.36320767]\n",
      "gauss_T_err [0.00890999]\n",
      "gauss_T_ratio [0.5]\n",
      "gauss_g_cov_1_1 [0.00027757]\n",
      "gauss_g_cov_1_2 [-1.991365e-06]\n",
      "gauss_g_cov_2_2 [0.00027988]\n",
      "gauss_psf_T [0.53573644]\n",
      "gauss_s2n [79.72109]\n",
      "mdet_flags [1]\n",
      "mfrac [0.00027187]\n",
      "mfrac_img [0.11672208]\n",
      "nepoch_g [11]\n",
      "nepoch_i [7]\n",
      "nepoch_r [7]\n",
      "nepoch_z [6]\n",
      "patch_num [5]\n",
      "pgauss_T [0.36237574]\n",
      "pgauss_T_err [0.0166576]\n",
      "pgauss_band_flux_err_g [16.768435]\n",
      "pgauss_band_flux_err_i [34.163074]\n",
      "pgauss_band_flux_err_r [23.531755]\n",
      "pgauss_band_flux_err_z [70.56815]\n",
      "pgauss_band_flux_g [182.3662]\n",
      "pgauss_band_flux_g_nodered [162.92986]\n",
      "pgauss_band_flux_i [2284.587]\n",
      "pgauss_band_flux_i_nodered [2189.9521]\n",
      "pgauss_band_flux_r [734.0579]\n",
      "pgauss_band_flux_r_nodered [680.54285]\n",
      "pgauss_band_flux_z [4763.7397]\n",
      "pgauss_band_flux_z_nodered [4590.379]\n",
      "pgauss_psf_T [0.33517718]\n",
      "psfrec_T [0.4971072]\n",
      "ra [319.90718674]\n",
      "slice_id [3200]\n",
      "tilename [b'DES2118-5914']\n",
      "uid [13985434897]\n",
      "x [3286.0605]\n",
      "y [3256.6106]\n"
     ]
    }
   ],
   "source": [
    "for col in patch.dtype.names:\n",
    "    if \"g_1\" in col or \"g_2\" in col:\n",
    "        continue\n",
    "    print(col, patch[col][msk_patch & (~have_it)])"
   ]
  },
  {
   "cell_type": "code",
   "execution_count": null,
   "id": "137a2635",
   "metadata": {},
   "outputs": [],
   "source": []
  }
 ],
 "metadata": {
  "kernelspec": {
   "display_name": "des-hacking",
   "language": "python",
   "name": "python3"
  },
  "language_info": {
   "codemirror_mode": {
    "name": "ipython",
    "version": 3
   },
   "file_extension": ".py",
   "mimetype": "text/x-python",
   "name": "python",
   "nbconvert_exporter": "python",
   "pygments_lexer": "ipython3",
   "version": "3.9.19"
  }
 },
 "nbformat": 4,
 "nbformat_minor": 5
}
