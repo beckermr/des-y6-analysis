{
 "cells": [
  {
   "cell_type": "code",
   "execution_count": 1,
   "id": "c1ebc568",
   "metadata": {},
   "outputs": [],
   "source": [
    "import subprocess\n",
    "import os\n",
    "from functools import lru_cache\n",
    "import piff\n",
    "from ngmix.prepsfmom import PGaussMom\n",
    "from ngmix.medsreaders import NGMixMEDS\n",
    "import numpy as np\n",
    "import galsim\n",
    "import fitsio\n",
    "import wurlitzer\n",
    "from contextlib import redirect_stdout, redirect_stderr"
   ]
  },
  {
   "cell_type": "code",
   "execution_count": 2,
   "id": "36997a4b",
   "metadata": {},
   "outputs": [],
   "source": [
    "def _download_file(fname):\n",
    "    os.makedirs(\"data\", exist_ok=True)\n",
    "    if not os.path.exists(\"./data/%s\" % os.path.basename(fname)):\n",
    "        cmd = \"\"\"\\\n",
    "rsync \\\n",
    "-avP \\\n",
    "--password-file $DES_RSYNC_PASSFILE \\\n",
    "${DESREMOTE_RSYNC_USER}@${DESREMOTE_RSYNC}/%s \\\n",
    "./data/%s\n",
    "    \"\"\" % (fname, os.path.basename(fname))\n",
    "        s = subprocess.run(cmd, shell=True, capture_output=True)\n",
    "        if s.returncode != 0:\n",
    "            print(\n",
    "                \"download failed: %s\" % (fname),\n",
    "                flush=True,\n",
    "            )\n",
    "            raise RuntimeError(\n",
    "                \"download failed: %s %s\" % (\n",
    "                    s.stdout.decode(\"utf-8\"), s.stderr.decode(\"utf-8\"))\n",
    "            )\n",
    "\n",
    "    return \"./data/%s\" % os.path.basename(fname)\n"
   ]
  },
  {
   "cell_type": "code",
   "execution_count": 3,
   "id": "7253c52f",
   "metadata": {},
   "outputs": [],
   "source": [
    "@lru_cache(maxsize=1024)\n",
    "def _get_piff_path(se_filename):\n",
    "    parts = se_filename.split(\"_\")\n",
    "    expnum = int(parts[0][1:])\n",
    "    ccdnum = int(parts[2][1:])\n",
    "    \n",
    "    _query = \"\"\"\n",
    "    select\n",
    "        d2.filename as redfile,\n",
    "        fai.filename as filename,\n",
    "        fai.path as path,\n",
    "        m.band as band,\n",
    "        m.expnum as expnum,\n",
    "        m.ccdnum as ccdnum\n",
    "    from\n",
    "        desfile d1,\n",
    "        desfile d2,\n",
    "        proctag t,\n",
    "        opm_was_derived_from wdf,\n",
    "        miscfile m,\n",
    "        file_archive_info fai\n",
    "    where\n",
    "        d2.filename = '%s'\n",
    "        and d2.id = wdf.parent_desfile_id\n",
    "        and wdf.child_desfile_id = d1.id\n",
    "        and d1.filetype = 'piff_model'\n",
    "        and d1.pfw_attempt_id = t.pfw_attempt_id\n",
    "        and t.tag = 'Y6A2_PIFF_V2'\n",
    "        and d1.filename = m.filename\n",
    "        and d1.id = fai.desfile_id\n",
    "        and fai.archive_name = 'desar2home'\n",
    "    \"\"\" % (se_filename[:-3] if se_filename.endswith(\".fz\") else se_filename)\n",
    "    \n",
    "    piff_file = None\n",
    "    \n",
    "    import easyaccess as ea\n",
    "    conn = ea.connect(section='desoper')\n",
    "    curs = conn.cursor()\n",
    "    curs.execute(_query)\n",
    "    for row in curs:\n",
    "        if row[4] == expnum and row[5] == ccdnum:\n",
    "            piff_file = os.path.join(row[2], row[1])\n",
    "    if piff_file is None:\n",
    "        raise RuntimeError(\"could not find piff model for %s\" % se_filename)\n",
    "    \n",
    "    return piff_file\n",
    "\n",
    "\n",
    "@lru_cache(maxsize=200)\n",
    "def _read_piff(fname):\n",
    "    return piff.read(fname)"
   ]
  },
  {
   "cell_type": "code",
   "execution_count": 4,
   "id": "8141b760",
   "metadata": {},
   "outputs": [],
   "source": [
    "@lru_cache(maxsize=1024)\n",
    "def _get_tile_path(tilename, band):\n",
    "    _query = \"\"\"select\n",
    "        fai.path,\n",
    "        concat(fai.filename, fai.compression) as filename,\n",
    "        m.band,\n",
    "        m.tilename\n",
    "    from proctag t, miscfile m, file_archive_info fai\n",
    "    where\n",
    "        t.tag='Y6A2_COADD'\n",
    "        and t.pfw_attempt_id=m.pfw_attempt_id\n",
    "        and m.filetype='coadd_meds'\n",
    "        and m.filename=fai.filename\n",
    "        and m.tilename = '%s'\n",
    "        and m.band = '%s'\n",
    "    \"\"\" % (tilename, band)\n",
    "    meds_file = None\n",
    "\n",
    "    import easyaccess as ea\n",
    "    conn = ea.connect(section='desoper')\n",
    "    curs = conn.cursor()\n",
    "    curs.execute(_query)\n",
    "    for row in curs:\n",
    "        if row[3] == tilename:\n",
    "            meds_file = os.path.join(row[0], row[1])\n",
    "    if meds_file is None:\n",
    "        raise RuntimeError(\"could not find meds file for %s\" % tilename)\n",
    "    \n",
    "    return meds_file\n",
    "\n",
    "\n",
    "def _query_gold(tilename, band):\n",
    "    os.makedirs(\"./gold_ids\", exist_ok=True)\n",
    "    gf = \"./gold_ids/%s.fits\" % tilename\n",
    "\n",
    "    if not os.path.exists(gf):\n",
    "        q = \"\"\"\\\n",
    "    SELECT\n",
    "        coadd_object_id\n",
    "    FROM\n",
    "        y6_gold_2_0\n",
    "    WHERE\n",
    "        flags_footprint > 0\n",
    "        AND flags_gold = 0\n",
    "        AND flags_foreground = 0\n",
    "        AND ext_mash = 4\n",
    "        AND tilename = '%s'; > gold_ids.fits\n",
    "    \"\"\" % tilename\n",
    "        with open(\"query.txt\", \"w\") as fp:\n",
    "            fp.write(q)\n",
    "        subprocess.run(\"easyaccess --db dessci -l query.txt\", shell=True, check=True)\n",
    "        d = fitsio.read(\"gold_ids.fits\")\n",
    "        if band == \"r\":\n",
    "            fitsio.write(gf, d, clobber=True)\n",
    "\n",
    "        subprocess.run(\"rm -f gold_ids.fits\", shell=True)\n",
    "    else:\n",
    "        d = fitsio.read(gf)\n",
    "\n",
    "    return d[\"COADD_OBJECT_ID\"]"
   ]
  },
  {
   "cell_type": "code",
   "execution_count": 5,
   "id": "30e48daf",
   "metadata": {},
   "outputs": [],
   "source": [
    "def _draw_piff(x, y, pmod, color, use_piff_rend=False):\n",
    "    PIFF_STAMP_SIZE = 25\n",
    "    wcs = list(pmod.wcs.values())[0]\n",
    "    chipnum = list(pmod.wcs.keys())[0]\n",
    "\n",
    "    # compute the lower left corner of the stamp\n",
    "    # we find the nearest pixel to the input (x, y)\n",
    "    # and offset by half the stamp size in pixels\n",
    "    # assumes the stamp size is odd\n",
    "    # there is an assert for this below\n",
    "    half = (PIFF_STAMP_SIZE - 1) / 2\n",
    "    x_cen = np.floor(x+0.5)\n",
    "    y_cen = np.floor(y+0.5)\n",
    "\n",
    "    # make sure this is true so pixel index math is ok\n",
    "    assert y_cen - half == int(y_cen - half)\n",
    "    assert x_cen - half == int(x_cen - half)\n",
    "\n",
    "    # compute bounds in Piff wcs coords\n",
    "    xmin = int(x_cen - half)\n",
    "    ymin = int(y_cen - half)\n",
    "\n",
    "    dx = x - np.floor(x+0.5)\n",
    "    dy = y - np.floor(y+0.5)    \n",
    "    \n",
    "    bounds = galsim.BoundsI(\n",
    "        xmin, xmin+PIFF_STAMP_SIZE-1,\n",
    "        ymin, ymin+PIFF_STAMP_SIZE-1,\n",
    "    )\n",
    "    image = galsim.ImageD(bounds, wcs=wcs)\n",
    "    if use_piff_rend:\n",
    "        return pmod.draw(\n",
    "            x=x,\n",
    "            y=y,\n",
    "            chipnum=chipnum,\n",
    "            GI_COLOR=color,\n",
    "            stamp_size=25,\n",
    "        )    \n",
    "        \n",
    "    else:\n",
    "        return pmod.draw(\n",
    "        x=x,\n",
    "        y=y,\n",
    "        chipnum=chipnum,\n",
    "        image=image,\n",
    "        GI_COLOR=color,\n",
    "    )    "
   ]
  },
  {
   "cell_type": "code",
   "execution_count": 6,
   "id": "18884bd6",
   "metadata": {},
   "outputs": [
    {
     "name": "stdout",
     "output_type": "stream",
     "text": [
      "Connecting to DB ** desoper ** ...\n"
     ]
    }
   ],
   "source": [
    "tname = \"DES0131-3206\"\n",
    "band = \"g\"\n",
    "\n",
    "gold_ids = _query_gold(tname, band)\n",
    "meds_pth = _download_file(_get_tile_path(tname, band))"
   ]
  },
  {
   "cell_type": "code",
   "execution_count": 7,
   "id": "3c2a4965",
   "metadata": {},
   "outputs": [],
   "source": [
    "try:\n",
    "    mfile.close()\n",
    "except Exception:\n",
    "    pass\n",
    "mfile = NGMixMEDS(meds_pth)"
   ]
  },
  {
   "cell_type": "code",
   "execution_count": 8,
   "id": "80e9d87e",
   "metadata": {},
   "outputs": [],
   "source": [
    "ii = mfile.get_image_info()"
   ]
  },
  {
   "cell_type": "code",
   "execution_count": 17,
   "id": "f78ec12b",
   "metadata": {},
   "outputs": [
    {
     "name": "stderr",
     "output_type": "stream",
     "text": [
      "100%|████████████████████████████████████████| 166/166 [04:16<00:00,  1.54s/it]\n"
     ]
    }
   ],
   "source": [
    "import tqdm\n",
    "\n",
    "base_color = 0.61\n",
    "color_min = 1.0\n",
    "color_max = 1.7\n",
    "rng = np.random.RandomState(seed=10)\n",
    "\n",
    "dTmax = []\n",
    "dTmin = []\n",
    "for ind in tqdm.trange(1, len(ii), ncols=79):\n",
    "    fname = os.path.basename(ii[\"image_path\"][ind])[:-3]\n",
    "    piff_file = _get_piff_path(fname)\n",
    "    try:\n",
    "        piff_file = _download_file(piff_file)\n",
    "        pmod = _read_piff(piff_file)\n",
    "    except Exception:\n",
    "        os.system(\"rm -f %s\" % piff_file)\n",
    "        \n",
    "    for _ in range(100):\n",
    "        y = rng.uniform(low=100, high=3900)\n",
    "        x = rng.uniform(low=100, high=1900)\n",
    "        pmed = _draw_piff(x, y, pmod, base_color)\n",
    "        ptrue = _draw_piff(x, y, pmod, color_max)\n",
    "        Tmed = 2*pmed.FindAdaptiveMom().moments_sigma**2\n",
    "        Ttrue = 2*ptrue.FindAdaptiveMom().moments_sigma**2\n",
    "        dTmax.append(Tmed-Ttrue)\n",
    "\n",
    "        ptrue = _draw_piff(x, y, pmod, color_min)\n",
    "        Tmed = 2*pmed.FindAdaptiveMom().moments_sigma**2\n",
    "        Ttrue = 2*ptrue.FindAdaptiveMom().moments_sigma**2\n",
    "        dTmin.append(Tmed-Ttrue)"
   ]
  },
  {
   "cell_type": "code",
   "execution_count": 18,
   "id": "3edd636e",
   "metadata": {},
   "outputs": [
    {
     "data": {
      "text/plain": [
       "<matplotlib.legend.Legend at 0x7f7499470700>"
      ]
     },
     "execution_count": 18,
     "metadata": {},
     "output_type": "execute_result"
    },
    {
     "data": {
      "image/png": "[encoded data removed]",
      "text/plain": [
       "Figure(nrows=1, ncols=1, refwidth=2.5)"
      ]
     },
     "metadata": {
      "image/png": {
       "height": 282,
       "width": 298
      }
     },
     "output_type": "display_data"
    }
   ],
   "source": [
    "import proplot as pplt\n",
    "\n",
    "fig, axs = pplt.subplots()\n",
    "\n",
    "axs.hist(dTmax, bins=100, label=\"g-i: 1.7\")\n",
    "axs.hist(dTmin, bins=100, label=\"g-i: 1.0\")\n",
    "axs.legend()"
   ]
  },
  {
   "cell_type": "code",
   "execution_count": 19,
   "id": "81977dae",
   "metadata": {},
   "outputs": [
    {
     "data": {
      "text/plain": [
       "0.14089027787879616"
      ]
     },
     "execution_count": 19,
     "metadata": {},
     "output_type": "execute_result"
    }
   ],
   "source": [
    "np.median(dTmax)"
   ]
  },
  {
   "cell_type": "code",
   "execution_count": null,
   "id": "00a2584f",
   "metadata": {},
   "outputs": [],
   "source": []
  }
 ],
 "metadata": {
  "kernelspec": {
   "display_name": "Python [conda env:desy6]",
   "language": "python",
   "name": "conda-env-desy6-py"
  },
  "language_info": {
   "codemirror_mode": {
    "name": "ipython",
    "version": 3
   },
   "file_extension": ".py",
   "mimetype": "text/x-python",
   "name": "python",
   "nbconvert_exporter": "python",
   "pygments_lexer": "ipython3",
   "version": "3.9.7"
  }
 },
 "nbformat": 4,
 "nbformat_minor": 5
}
