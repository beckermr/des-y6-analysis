{
 "cells": [
  {
   "cell_type": "code",
   "execution_count": 1,
   "id": "c1ebc568",
   "metadata": {},
   "outputs": [],
   "source": [
    "import subprocess\n",
    "import os\n",
    "from functools import lru_cache\n",
    "import piff\n",
    "from ngmix.prepsfmom import PGaussMom\n",
    "from ngmix.medsreaders import NGMixMEDS\n",
    "import numpy as np\n",
    "import galsim\n",
    "import fitsio\n",
    "import wurlitzer\n",
    "from contextlib import redirect_stdout, redirect_stderr"
   ]
  },
  {
   "cell_type": "code",
   "execution_count": 2,
   "id": "36997a4b",
   "metadata": {},
   "outputs": [],
   "source": [
    "def _download_file(fname):\n",
    "    os.makedirs(\"data\", exist_ok=True)\n",
    "    if not os.path.exists(\"./data/%s\" % os.path.basename(fname)):\n",
    "        cmd = \"\"\"\\\n",
    "rsync \\\n",
    "-avP \\\n",
    "--password-file $DES_RSYNC_PASSFILE \\\n",
    "${DESREMOTE_RSYNC_USER}@${DESREMOTE_RSYNC}/%s \\\n",
    "./data/%s\n",
    "    \"\"\" % (fname, os.path.basename(fname))\n",
    "        s = subprocess.run(cmd, shell=True, capture_output=True)\n",
    "        if s.returncode != 0:\n",
    "            print(\n",
    "                \"download failed: %s\" % (fname),\n",
    "                flush=True,\n",
    "            )\n",
    "            raise RuntimeError(\n",
    "                \"download failed: %s %s\" % (\n",
    "                    s.stdout.decode(\"utf-8\"), s.stderr.decode(\"utf-8\"))\n",
    "            )\n",
    "\n",
    "    return \"./data/%s\" % os.path.basename(fname)\n"
   ]
  },
  {
   "cell_type": "code",
   "execution_count": 3,
   "id": "7253c52f",
   "metadata": {},
   "outputs": [],
   "source": [
    "@lru_cache(maxsize=1024)\n",
    "def _get_piff_path(se_filename):\n",
    "    parts = se_filename.split(\"_\")\n",
    "    expnum = int(parts[0][1:])\n",
    "    ccdnum = int(parts[2][1:])\n",
    "    \n",
    "    _query = \"\"\"\n",
    "    select\n",
    "        d2.filename as redfile,\n",
    "        fai.filename as filename,\n",
    "        fai.path as path,\n",
    "        m.band as band,\n",
    "        m.expnum as expnum,\n",
    "        m.ccdnum as ccdnum\n",
    "    from\n",
    "        desfile d1,\n",
    "        desfile d2,\n",
    "        proctag t,\n",
    "        opm_was_derived_from wdf,\n",
    "        miscfile m,\n",
    "        file_archive_info fai\n",
    "    where\n",
    "        d2.filename = '%s'\n",
    "        and d2.id = wdf.parent_desfile_id\n",
    "        and wdf.child_desfile_id = d1.id\n",
    "        and d1.filetype = 'piff_model'\n",
    "        and d1.pfw_attempt_id = t.pfw_attempt_id\n",
    "        and t.tag = 'Y6A2_PIFF_V2'\n",
    "        and d1.filename = m.filename\n",
    "        and d1.id = fai.desfile_id\n",
    "        and fai.archive_name = 'desar2home'\n",
    "    \"\"\" % (se_filename[:-3] if se_filename.endswith(\".fz\") else se_filename)\n",
    "    \n",
    "    piff_file = None\n",
    "    \n",
    "    with wurlitzer.pipes():\n",
    "        with redirect_stderr(None), redirect_stdout(None):\n",
    "            import easyaccess as ea\n",
    "            conn = ea.connect(section='desoper')\n",
    "            curs = conn.cursor()\n",
    "            curs.execute(_query)\n",
    "    for row in curs:\n",
    "        if row[4] == expnum and row[5] == ccdnum:\n",
    "            piff_file = os.path.join(row[2], row[1])\n",
    "    if piff_file is None:\n",
    "        raise RuntimeError(\"could not find piff model for %s\" % se_filename)\n",
    "    \n",
    "    return piff_file\n",
    "\n",
    "\n",
    "@lru_cache(maxsize=200)\n",
    "def _read_piff(fname):\n",
    "    return piff.read(fname)"
   ]
  },
  {
   "cell_type": "code",
   "execution_count": 4,
   "id": "8141b760",
   "metadata": {},
   "outputs": [],
   "source": [
    "@lru_cache(maxsize=1024)\n",
    "def _get_tile_path(tilename, band):\n",
    "    _query = \"\"\"select\n",
    "        fai.path,\n",
    "        concat(fai.filename, fai.compression) as filename,\n",
    "        m.band,\n",
    "        m.tilename\n",
    "    from proctag t, miscfile m, file_archive_info fai\n",
    "    where\n",
    "        t.tag='Y6A2_COADD'\n",
    "        and t.pfw_attempt_id=m.pfw_attempt_id\n",
    "        and m.filetype='coadd_meds'\n",
    "        and m.filename=fai.filename\n",
    "        and m.tilename = '%s'\n",
    "        and m.band = '%s'\n",
    "    \"\"\" % (tilename, band)\n",
    "    meds_file = None\n",
    "\n",
    "    with wurlitzer.pipes():\n",
    "        with redirect_stderr(None), redirect_stdout(None):\n",
    "            import easyaccess as ea\n",
    "            conn = ea.connect(section='desoper')\n",
    "            curs = conn.cursor()\n",
    "            curs.execute(_query)\n",
    "    for row in curs:\n",
    "        if row[3] == tilename:\n",
    "            meds_file = os.path.join(row[0], row[1])\n",
    "    if meds_file is None:\n",
    "        raise RuntimeError(\"could not find meds file for %s\" % tilename)\n",
    "    \n",
    "    return meds_file\n",
    "\n",
    "\n",
    "def _query_gold(tilename, band):\n",
    "    os.makedirs(\"./gold_ids\", exist_ok=True)\n",
    "    gf = \"./gold_ids/%s.fits\" % tilename\n",
    "\n",
    "    if not os.path.exists(gf):\n",
    "        q = \"\"\"\\\n",
    "    SELECT\n",
    "        coadd_object_id\n",
    "    FROM\n",
    "        y6_gold_2_0\n",
    "    WHERE\n",
    "        flags_footprint > 0\n",
    "        AND flags_gold = 0\n",
    "        AND flags_foreground = 0\n",
    "        AND ext_mash = 4\n",
    "        AND tilename = '%s'; > gold_ids.fits\n",
    "    \"\"\" % tilename\n",
    "        with open(\"query.txt\", \"w\") as fp:\n",
    "            fp.write(q)\n",
    "        subprocess.run(\"easyaccess --db dessci -l query.txt\", shell=True, check=True)\n",
    "        d = fitsio.read(\"gold_ids.fits\")\n",
    "        if band == \"r\":\n",
    "            fitsio.write(gf, d, clobber=True)\n",
    "\n",
    "        subprocess.run(\"rm -f gold_ids.fits\", shell=True)\n",
    "    else:\n",
    "        d = fitsio.read(gf)\n",
    "\n",
    "    return d[\"COADD_OBJECT_ID\"]"
   ]
  },
  {
   "cell_type": "code",
   "execution_count": 5,
   "id": "30e48daf",
   "metadata": {},
   "outputs": [],
   "source": [
    "def _draw_piff(x, y, pmod, color, use_piff_rend=False):\n",
    "    PIFF_STAMP_SIZE = 25\n",
    "    wcs = list(pmod.wcs.values())[0]\n",
    "    chipnum = list(pmod.wcs.keys())[0]\n",
    "\n",
    "    # compute the lower left corner of the stamp\n",
    "    # we find the nearest pixel to the input (x, y)\n",
    "    # and offset by half the stamp size in pixels\n",
    "    # assumes the stamp size is odd\n",
    "    # there is an assert for this below\n",
    "    half = (PIFF_STAMP_SIZE - 1) / 2\n",
    "    x_cen = np.floor(x+0.5)\n",
    "    y_cen = np.floor(y+0.5)\n",
    "\n",
    "    # make sure this is true so pixel index math is ok\n",
    "    assert y_cen - half == int(y_cen - half)\n",
    "    assert x_cen - half == int(x_cen - half)\n",
    "\n",
    "    # compute bounds in Piff wcs coords\n",
    "    xmin = int(x_cen - half)\n",
    "    ymin = int(y_cen - half)\n",
    "\n",
    "    dx = x - np.floor(x+0.5)\n",
    "    dy = y - np.floor(y+0.5)    \n",
    "    \n",
    "    bounds = galsim.BoundsI(\n",
    "        xmin, xmin+PIFF_STAMP_SIZE-1,\n",
    "        ymin, ymin+PIFF_STAMP_SIZE-1,\n",
    "    )\n",
    "    image = galsim.ImageD(bounds, wcs=wcs)\n",
    "    if use_piff_rend:\n",
    "        return pmod.draw(\n",
    "            x=x,\n",
    "            y=y,\n",
    "            chipnum=chipnum,\n",
    "            GI_COLOR=color,\n",
    "            stamp_size=25,\n",
    "        )    \n",
    "        \n",
    "    else:\n",
    "        return pmod.draw(\n",
    "        x=x,\n",
    "        y=y,\n",
    "        chipnum=chipnum,\n",
    "        image=image,\n",
    "        GI_COLOR=color,\n",
    "    )    "
   ]
  },
  {
   "cell_type": "code",
   "execution_count": 6,
   "id": "18884bd6",
   "metadata": {},
   "outputs": [],
   "source": [
    "tname = \"DES0131-3206\"\n",
    "band = \"g\"\n",
    "\n",
    "gold_ids = _query_gold(tname, band)\n",
    "meds_pth = _download_file(_get_tile_path(tname, band))"
   ]
  },
  {
   "cell_type": "code",
   "execution_count": 7,
   "id": "3c2a4965",
   "metadata": {},
   "outputs": [],
   "source": [
    "try:\n",
    "    mfile.close()\n",
    "except Exception:\n",
    "    pass\n",
    "mfile = NGMixMEDS(meds_pth)"
   ]
  },
  {
   "cell_type": "code",
   "execution_count": 8,
   "id": "80e9d87e",
   "metadata": {},
   "outputs": [],
   "source": [
    "ii = mfile.get_image_info()"
   ]
  },
  {
   "cell_type": "code",
   "execution_count": 9,
   "id": "27c34cab",
   "metadata": {
    "scrolled": false
   },
   "outputs": [
    {
     "name": "stderr",
     "output_type": "stream",
     "text": [
      "  2%|▋                                   | 174/10000 [01:50<1:22:35,  1.98it/s]"
     ]
    },
    {
     "name": "stdout",
     "output_type": "stream",
     "text": [
      "\n",
      "meds object 10174\n",
      "    e1 [10^-4, 3sigma]: 2.4696 +/- 1.2548\n",
      "    e2 [10^-4, 3sigma]: 0.5803 +/- 1.0860\n"
     ]
    },
    {
     "name": "stderr",
     "output_type": "stream",
     "text": [
      "  4%|█▎                                  | 368/10000 [03:02<1:15:28,  2.13it/s]"
     ]
    },
    {
     "name": "stdout",
     "output_type": "stream",
     "text": [
      "\n",
      "meds object 10368\n",
      "    e1 [10^-4, 3sigma]: 1.9840 +/- 0.7935\n",
      "    e2 [10^-4, 3sigma]: 0.5667 +/- 0.6752\n"
     ]
    },
    {
     "name": "stderr",
     "output_type": "stream",
     "text": [
      "  7%|██▌                                   | 683/10000 [04:24<15:24, 10.07it/s]"
     ]
    },
    {
     "name": "stdout",
     "output_type": "stream",
     "text": [
      "\n",
      "meds object 10683\n",
      "    e1 [10^-4, 3sigma]: 2.0572 +/- 0.6175\n",
      "    e2 [10^-4, 3sigma]: 0.6213 +/- 0.5242\n"
     ]
    },
    {
     "name": "stderr",
     "output_type": "stream",
     "text": [
      " 10%|███▋                                  | 980/10000 [05:02<18:31,  8.12it/s]"
     ]
    },
    {
     "name": "stdout",
     "output_type": "stream",
     "text": [
      "\n",
      "meds object 10981\n",
      "    e1 [10^-4, 3sigma]: 2.0463 +/- 0.5154\n",
      "    e2 [10^-4, 3sigma]: 0.6296 +/- 0.4287\n"
     ]
    },
    {
     "name": "stderr",
     "output_type": "stream",
     "text": [
      " 11%|████▏                                | 1129/10000 [05:25<30:56,  4.78it/s]"
     ]
    },
    {
     "name": "stdout",
     "output_type": "stream",
     "text": [
      "\n",
      "meds object 11131\n",
      "    e1 [10^-4, 3sigma]: 1.9003 +/- 0.4529\n",
      "    e2 [10^-4, 3sigma]: 0.5722 +/- 0.3682\n"
     ]
    },
    {
     "name": "stderr",
     "output_type": "stream",
     "text": [
      " 13%|████▉                                | 1321/10000 [05:56<08:28, 17.08it/s]"
     ]
    },
    {
     "name": "stdout",
     "output_type": "stream",
     "text": [
      "\n",
      "meds object 11321\n",
      "    e1 [10^-4, 3sigma]: 1.9338 +/- 0.4275\n",
      "    e2 [10^-4, 3sigma]: 0.4470 +/- 0.3349\n"
     ]
    },
    {
     "name": "stderr",
     "output_type": "stream",
     "text": [
      " 15%|█████▋                               | 1529/10000 [06:19<11:47, 11.98it/s]"
     ]
    },
    {
     "name": "stdout",
     "output_type": "stream",
     "text": [
      "\n",
      "meds object 11529\n",
      "    e1 [10^-4, 3sigma]: 2.0844 +/- 0.3993\n",
      "    e2 [10^-4, 3sigma]: 0.5272 +/- 0.3139\n"
     ]
    },
    {
     "name": "stderr",
     "output_type": "stream",
     "text": [
      " 17%|██████▎                              | 1707/10000 [06:40<28:42,  4.81it/s]"
     ]
    },
    {
     "name": "stdout",
     "output_type": "stream",
     "text": [
      "\n",
      "meds object 11707\n",
      "    e1 [10^-4, 3sigma]: 2.0151 +/- 0.3654\n",
      "    e2 [10^-4, 3sigma]: 0.5369 +/- 0.2848\n"
     ]
    },
    {
     "name": "stderr",
     "output_type": "stream",
     "text": [
      " 19%|██████▉                              | 1887/10000 [07:01<14:02,  9.63it/s]"
     ]
    },
    {
     "name": "stdout",
     "output_type": "stream",
     "text": [
      "\n",
      "meds object 11888\n",
      "    e1 [10^-4, 3sigma]: 1.9440 +/- 0.3421\n",
      "    e2 [10^-4, 3sigma]: 0.5873 +/- 0.2640\n"
     ]
    },
    {
     "name": "stderr",
     "output_type": "stream",
     "text": [
      " 21%|███████▋                             | 2078/10000 [07:21<10:44, 12.29it/s]"
     ]
    },
    {
     "name": "stdout",
     "output_type": "stream",
     "text": [
      "\n",
      "meds object 12078\n",
      "    e1 [10^-4, 3sigma]: 1.8913 +/- 0.3190\n",
      "    e2 [10^-4, 3sigma]: 0.6209 +/- 0.2454\n"
     ]
    },
    {
     "name": "stderr",
     "output_type": "stream",
     "text": [
      " 23%|████████▌                            | 2310/10000 [07:54<07:44, 16.56it/s]"
     ]
    },
    {
     "name": "stdout",
     "output_type": "stream",
     "text": [
      "\n",
      "meds object 12311\n",
      "    e1 [10^-4, 3sigma]: 1.8145 +/- 0.2941\n",
      "    e2 [10^-4, 3sigma]: 0.6584 +/- 0.2267\n"
     ]
    },
    {
     "name": "stderr",
     "output_type": "stream",
     "text": [
      " 25%|█████████▎                           | 2518/10000 [08:18<10:20, 12.05it/s]"
     ]
    },
    {
     "name": "stdout",
     "output_type": "stream",
     "text": [
      "\n",
      "meds object 12520\n",
      "    e1 [10^-4, 3sigma]: 1.7430 +/- 0.2746\n",
      "    e2 [10^-4, 3sigma]: 0.6901 +/- 0.2109\n"
     ]
    },
    {
     "name": "stderr",
     "output_type": "stream",
     "text": [
      " 27%|██████████                           | 2705/10000 [08:43<25:32,  4.76it/s]"
     ]
    },
    {
     "name": "stdout",
     "output_type": "stream",
     "text": [
      "\n",
      "meds object 12705\n",
      "    e1 [10^-4, 3sigma]: 1.6838 +/- 0.2581\n",
      "    e2 [10^-4, 3sigma]: 0.7056 +/- 0.1979\n"
     ]
    },
    {
     "name": "stderr",
     "output_type": "stream",
     "text": [
      " 29%|██████████▉                          | 2947/10000 [09:12<11:03, 10.64it/s]"
     ]
    },
    {
     "name": "stdout",
     "output_type": "stream",
     "text": [
      "\n",
      "meds object 12947\n",
      "    e1 [10^-4, 3sigma]: 1.6788 +/- 0.2484\n",
      "    e2 [10^-4, 3sigma]: 0.7002 +/- 0.1898\n"
     ]
    },
    {
     "name": "stderr",
     "output_type": "stream",
     "text": [
      " 31%|███████████▍                         | 3075/10000 [09:28<14:07,  8.17it/s]"
     ]
    },
    {
     "name": "stdout",
     "output_type": "stream",
     "text": [
      "\n",
      "meds object 13075\n",
      "    e1 [10^-4, 3sigma]: 1.6173 +/- 0.2366\n",
      "    e2 [10^-4, 3sigma]: 0.6894 +/- 0.1805\n"
     ]
    },
    {
     "name": "stderr",
     "output_type": "stream",
     "text": [
      " 33%|████████████▏                        | 3288/10000 [09:54<13:40,  8.18it/s]"
     ]
    },
    {
     "name": "stdout",
     "output_type": "stream",
     "text": [
      "\n",
      "meds object 13289\n",
      "    e1 [10^-4, 3sigma]: 1.5840 +/- 0.2281\n",
      "    e2 [10^-4, 3sigma]: 0.6711 +/- 0.1733\n"
     ]
    },
    {
     "name": "stderr",
     "output_type": "stream",
     "text": [
      " 35%|████████████▉                        | 3483/10000 [10:22<11:24,  9.53it/s]"
     ]
    },
    {
     "name": "stdout",
     "output_type": "stream",
     "text": [
      "\n",
      "meds object 13484\n",
      "    e1 [10^-4, 3sigma]: 1.5944 +/- 0.2216\n",
      "    e2 [10^-4, 3sigma]: 0.6547 +/- 0.1682\n"
     ]
    },
    {
     "name": "stderr",
     "output_type": "stream",
     "text": [
      " 38%|██████████████                       | 3793/10000 [10:56<18:48,  5.50it/s]"
     ]
    },
    {
     "name": "stdout",
     "output_type": "stream",
     "text": [
      "\n",
      "meds object 13794\n",
      "    e1 [10^-4, 3sigma]: 1.6194 +/- 0.2164\n",
      "    e2 [10^-4, 3sigma]: 0.6349 +/- 0.1640\n"
     ]
    },
    {
     "name": "stderr",
     "output_type": "stream",
     "text": [
      " 40%|██████████████▋                      | 3960/10000 [11:18<13:19,  7.55it/s]"
     ]
    },
    {
     "name": "stdout",
     "output_type": "stream",
     "text": [
      "\n",
      "meds object 13962\n",
      "    e1 [10^-4, 3sigma]: 1.6198 +/- 0.2101\n",
      "    e2 [10^-4, 3sigma]: 0.6563 +/- 0.1586\n"
     ]
    },
    {
     "name": "stderr",
     "output_type": "stream",
     "text": [
      " 40%|██████████████▉                      | 4049/10000 [11:33<29:09,  3.40it/s]"
     ]
    },
    {
     "name": "stdout",
     "output_type": "stream",
     "text": [
      "\n",
      "meds object 14049\n",
      "    e1 [10^-4, 3sigma]: 1.6002 +/- 0.2039\n",
      "    e2 [10^-4, 3sigma]: 0.6323 +/- 0.1537\n"
     ]
    },
    {
     "name": "stderr",
     "output_type": "stream",
     "text": [
      " 43%|███████████████▊                     | 4258/10000 [12:02<13:17,  7.20it/s]"
     ]
    },
    {
     "name": "stdout",
     "output_type": "stream",
     "text": [
      "\n",
      "meds object 14258\n",
      "    e1 [10^-4, 3sigma]: 1.6297 +/- 0.1989\n",
      "    e2 [10^-4, 3sigma]: 0.6384 +/- 0.1500\n"
     ]
    },
    {
     "name": "stderr",
     "output_type": "stream",
     "text": [
      " 45%|████████████████▍                    | 4459/10000 [12:28<15:49,  5.84it/s]"
     ]
    },
    {
     "name": "stdout",
     "output_type": "stream",
     "text": [
      "\n",
      "meds object 14459\n",
      "    e1 [10^-4, 3sigma]: 1.5989 +/- 0.1936\n",
      "    e2 [10^-4, 3sigma]: 0.6134 +/- 0.1469\n"
     ]
    },
    {
     "name": "stderr",
     "output_type": "stream",
     "text": [
      " 47%|█████████████████▍                   | 4729/10000 [13:00<07:46, 11.30it/s]"
     ]
    },
    {
     "name": "stdout",
     "output_type": "stream",
     "text": [
      "\n",
      "meds object 14730\n",
      "    e1 [10^-4, 3sigma]: 1.6213 +/- 0.1906\n",
      "    e2 [10^-4, 3sigma]: 0.6129 +/- 0.1429\n"
     ]
    },
    {
     "name": "stderr",
     "output_type": "stream",
     "text": [
      " 49%|█████████████████▉                   | 4853/10000 [13:20<14:18,  5.99it/s]"
     ]
    },
    {
     "name": "stdout",
     "output_type": "stream",
     "text": [
      "\n",
      "meds object 14853\n",
      "    e1 [10^-4, 3sigma]: 1.6113 +/- 0.1857\n",
      "    e2 [10^-4, 3sigma]: 0.6298 +/- 0.1390\n"
     ]
    },
    {
     "name": "stderr",
     "output_type": "stream",
     "text": [
      " 50%|██████████████████▌                  | 5031/10000 [13:40<14:21,  5.77it/s]"
     ]
    },
    {
     "name": "stdout",
     "output_type": "stream",
     "text": [
      "\n",
      "meds object 15032\n",
      "    e1 [10^-4, 3sigma]: 1.5759 +/- 0.1828\n",
      "    e2 [10^-4, 3sigma]: 0.6228 +/- 0.1361\n"
     ]
    },
    {
     "name": "stderr",
     "output_type": "stream",
     "text": [
      " 52%|███████████████████▍                 | 5242/10000 [14:02<06:21, 12.46it/s]"
     ]
    },
    {
     "name": "stdout",
     "output_type": "stream",
     "text": [
      "\n",
      "meds object 15243\n",
      "    e1 [10^-4, 3sigma]: 1.5493 +/- 0.1783\n",
      "    e2 [10^-4, 3sigma]: 0.6291 +/- 0.1326\n"
     ]
    },
    {
     "name": "stderr",
     "output_type": "stream",
     "text": [
      " 55%|████████████████████▏                | 5450/10000 [14:28<11:31,  6.58it/s]"
     ]
    },
    {
     "name": "stdout",
     "output_type": "stream",
     "text": [
      "\n",
      "meds object 15451\n",
      "    e1 [10^-4, 3sigma]: 1.5560 +/- 0.1747\n",
      "    e2 [10^-4, 3sigma]: 0.6464 +/- 0.1300\n"
     ]
    },
    {
     "name": "stderr",
     "output_type": "stream",
     "text": [
      " 56%|████████████████████▋                | 5590/10000 [14:59<14:25,  5.10it/s]"
     ]
    },
    {
     "name": "stdout",
     "output_type": "stream",
     "text": [
      "\n",
      "meds object 15590\n",
      "    e1 [10^-4, 3sigma]: 1.5194 +/- 0.1708\n",
      "    e2 [10^-4, 3sigma]: 0.6382 +/- 0.1265\n"
     ]
    },
    {
     "name": "stderr",
     "output_type": "stream",
     "text": [
      " 58%|█████████████████████▎               | 5768/10000 [15:32<12:46,  5.52it/s]"
     ]
    },
    {
     "name": "stdout",
     "output_type": "stream",
     "text": [
      "\n",
      "meds object 15768\n",
      "    e1 [10^-4, 3sigma]: 1.5117 +/- 0.1671\n",
      "    e2 [10^-4, 3sigma]: 0.6454 +/- 0.1233\n"
     ]
    },
    {
     "name": "stderr",
     "output_type": "stream",
     "text": [
      " 59%|█████████████████████▊               | 5911/10000 [15:50<07:18,  9.33it/s]"
     ]
    },
    {
     "name": "stdout",
     "output_type": "stream",
     "text": [
      "\n",
      "meds object 15912\n",
      "    e1 [10^-4, 3sigma]: 1.5359 +/- 0.1684\n",
      "    e2 [10^-4, 3sigma]: 0.6319 +/- 0.1225\n"
     ]
    },
    {
     "name": "stderr",
     "output_type": "stream",
     "text": [
      " 61%|██████████████████████▌              | 6111/10000 [16:18<06:39,  9.72it/s]"
     ]
    },
    {
     "name": "stdout",
     "output_type": "stream",
     "text": [
      "\n",
      "meds object 16111\n",
      "    e1 [10^-4, 3sigma]: 1.5465 +/- 0.1669\n",
      "    e2 [10^-4, 3sigma]: 0.6347 +/- 0.1203\n"
     ]
    },
    {
     "name": "stderr",
     "output_type": "stream",
     "text": [
      " 63%|███████████████████████▍             | 6321/10000 [16:41<05:01, 12.19it/s]"
     ]
    },
    {
     "name": "stdout",
     "output_type": "stream",
     "text": [
      "\n",
      "meds object 16324\n",
      "    e1 [10^-4, 3sigma]: 1.5835 +/- 0.1680\n",
      "    e2 [10^-4, 3sigma]: 0.6208 +/- 0.1196\n"
     ]
    },
    {
     "name": "stderr",
     "output_type": "stream",
     "text": [
      " 65%|████████████████████████▏            | 6539/10000 [17:05<09:02,  6.38it/s]\n"
     ]
    },
    {
     "ename": "KeyboardInterrupt",
     "evalue": "",
     "output_type": "error",
     "traceback": [
      "\u001b[0;31m---------------------------------------------------------------------------\u001b[0m",
      "\u001b[0;31mKeyboardInterrupt\u001b[0m                         Traceback (most recent call last)",
      "\u001b[0;32m/var/folders/5w/65hhf7d16cvbrv_wsj7y1_nm0000gn/T/ipykernel_92394/1829987912.py\u001b[0m in \u001b[0;36m<module>\u001b[0;34m\u001b[0m\n\u001b[1;32m     13\u001b[0m     \u001b[0;32mfor\u001b[0m \u001b[0mk\u001b[0m \u001b[0;32min\u001b[0m \u001b[0mrange\u001b[0m\u001b[0;34m(\u001b[0m\u001b[0;36m1\u001b[0m\u001b[0;34m,\u001b[0m \u001b[0mncutout\u001b[0m\u001b[0;34m)\u001b[0m\u001b[0;34m:\u001b[0m\u001b[0;34m\u001b[0m\u001b[0;34m\u001b[0m\u001b[0m\n\u001b[1;32m     14\u001b[0m         \u001b[0;32mtry\u001b[0m\u001b[0;34m:\u001b[0m\u001b[0;34m\u001b[0m\u001b[0;34m\u001b[0m\u001b[0m\n\u001b[0;32m---> 15\u001b[0;31m             \u001b[0mobs\u001b[0m \u001b[0;34m=\u001b[0m \u001b[0mmfile\u001b[0m\u001b[0;34m.\u001b[0m\u001b[0mget_obs\u001b[0m\u001b[0;34m(\u001b[0m\u001b[0mi\u001b[0m\u001b[0;34m,\u001b[0m \u001b[0mk\u001b[0m\u001b[0;34m)\u001b[0m\u001b[0;34m\u001b[0m\u001b[0;34m\u001b[0m\u001b[0m\n\u001b[0m\u001b[1;32m     16\u001b[0m         \u001b[0;32mexcept\u001b[0m \u001b[0mException\u001b[0m\u001b[0;34m:\u001b[0m\u001b[0;34m\u001b[0m\u001b[0;34m\u001b[0m\u001b[0m\n\u001b[1;32m     17\u001b[0m             \u001b[0;32mcontinue\u001b[0m\u001b[0;34m\u001b[0m\u001b[0;34m\u001b[0m\u001b[0m\n",
      "\u001b[0;32m~/Desktop/des_y6_shear/ngmix/ngmix/medsreaders.py\u001b[0m in \u001b[0;36mget_obs\u001b[0;34m(self, iobj, icutout, weight_type)\u001b[0m\n\u001b[1;32m    267\u001b[0m \u001b[0;34m\u001b[0m\u001b[0m\n\u001b[1;32m    268\u001b[0m         \u001b[0;32mif\u001b[0m \u001b[0mself\u001b[0m\u001b[0;34m.\u001b[0m\u001b[0mhas_psf\u001b[0m\u001b[0;34m(\u001b[0m\u001b[0;34m)\u001b[0m\u001b[0;34m:\u001b[0m\u001b[0;34m\u001b[0m\u001b[0;34m\u001b[0m\u001b[0m\n\u001b[0;32m--> 269\u001b[0;31m             \u001b[0mpsf_obs\u001b[0m \u001b[0;34m=\u001b[0m \u001b[0mself\u001b[0m\u001b[0;34m.\u001b[0m\u001b[0mget_psf_obs\u001b[0m\u001b[0;34m(\u001b[0m\u001b[0miobj\u001b[0m\u001b[0;34m,\u001b[0m \u001b[0micutout\u001b[0m\u001b[0;34m)\u001b[0m\u001b[0;34m\u001b[0m\u001b[0;34m\u001b[0m\u001b[0m\n\u001b[0m\u001b[1;32m    270\u001b[0m         \u001b[0;32melse\u001b[0m\u001b[0;34m:\u001b[0m\u001b[0;34m\u001b[0m\u001b[0;34m\u001b[0m\u001b[0m\n\u001b[1;32m    271\u001b[0m             \u001b[0mpsf_obs\u001b[0m \u001b[0;34m=\u001b[0m \u001b[0;32mNone\u001b[0m\u001b[0;34m\u001b[0m\u001b[0;34m\u001b[0m\u001b[0m\n",
      "\u001b[0;32m~/Desktop/des_y6_shear/ngmix/ngmix/medsreaders.py\u001b[0m in \u001b[0;36mget_psf_obs\u001b[0;34m(self, iobj, icutout)\u001b[0m\n\u001b[1;32m    300\u001b[0m             \u001b[0mThe\u001b[0m \u001b[0mPSF\u001b[0m\u001b[0;31m \u001b[0m\u001b[0;31m`\u001b[0m\u001b[0mObservation\u001b[0m\u001b[0;31m`\u001b[0m\u001b[0;34m.\u001b[0m\u001b[0;34m\u001b[0m\u001b[0;34m\u001b[0m\u001b[0m\n\u001b[1;32m    301\u001b[0m         \"\"\"\n\u001b[0;32m--> 302\u001b[0;31m         \u001b[0mpsf_im\u001b[0m \u001b[0;34m=\u001b[0m \u001b[0mself\u001b[0m\u001b[0;34m.\u001b[0m\u001b[0mget_psf\u001b[0m\u001b[0;34m(\u001b[0m\u001b[0miobj\u001b[0m\u001b[0;34m,\u001b[0m \u001b[0micutout\u001b[0m\u001b[0;34m)\u001b[0m\u001b[0;34m\u001b[0m\u001b[0;34m\u001b[0m\u001b[0m\n\u001b[0m\u001b[1;32m    303\u001b[0m \u001b[0;34m\u001b[0m\u001b[0m\n\u001b[1;32m    304\u001b[0m         \u001b[0;31m# FIXME: fake the noise\u001b[0m\u001b[0;34m\u001b[0m\u001b[0;34m\u001b[0m\u001b[0;34m\u001b[0m\u001b[0m\n",
      "\u001b[0;32m~/miniconda3/envs/desy6/lib/python3.8/site-packages/meds/meds.py\u001b[0m in \u001b[0;36mget_psf\u001b[0;34m(self, iobj, icutout)\u001b[0m\n\u001b[1;32m    314\u001b[0m         \u001b[0mrow_end\u001b[0m \u001b[0;34m=\u001b[0m \u001b[0mstart_row\u001b[0m \u001b[0;34m+\u001b[0m \u001b[0mnpix\u001b[0m\u001b[0;34m\u001b[0m\u001b[0;34m\u001b[0m\u001b[0m\n\u001b[1;32m    315\u001b[0m \u001b[0;34m\u001b[0m\u001b[0m\n\u001b[0;32m--> 316\u001b[0;31m         \u001b[0mimflat\u001b[0m \u001b[0;34m=\u001b[0m \u001b[0mself\u001b[0m\u001b[0;34m.\u001b[0m\u001b[0m_fits\u001b[0m\u001b[0;34m[\u001b[0m\u001b[0;34m'psf'\u001b[0m\u001b[0;34m]\u001b[0m\u001b[0;34m[\u001b[0m\u001b[0mstart_row\u001b[0m\u001b[0;34m:\u001b[0m\u001b[0mrow_end\u001b[0m\u001b[0;34m]\u001b[0m\u001b[0;34m\u001b[0m\u001b[0;34m\u001b[0m\u001b[0m\n\u001b[0m\u001b[1;32m    317\u001b[0m         \u001b[0mim\u001b[0m \u001b[0;34m=\u001b[0m \u001b[0mimflat\u001b[0m\u001b[0;34m.\u001b[0m\u001b[0mreshape\u001b[0m\u001b[0;34m(\u001b[0m\u001b[0mshape\u001b[0m\u001b[0;34m)\u001b[0m\u001b[0;34m\u001b[0m\u001b[0;34m\u001b[0m\u001b[0m\n\u001b[1;32m    318\u001b[0m         \u001b[0;32mreturn\u001b[0m \u001b[0mim\u001b[0m\u001b[0;34m\u001b[0m\u001b[0;34m\u001b[0m\u001b[0m\n",
      "\u001b[0;32m~/miniconda3/envs/desy6/lib/python3.8/site-packages/fitsio/hdu/image.py\u001b[0m in \u001b[0;36m__getitem__\u001b[0;34m(self, arg)\u001b[0m\n\u001b[1;32m    218\u001b[0m         \u001b[0me\u001b[0m\u001b[0;34m.\u001b[0m\u001b[0mg\u001b[0m\u001b[0;34m.\u001b[0m\u001b[0;34m,\u001b[0m \u001b[0;34m[\u001b[0m\u001b[0;36m2\u001b[0m\u001b[0;34m:\u001b[0m\u001b[0;36m25\u001b[0m\u001b[0;34m,\u001b[0m \u001b[0;36m4\u001b[0m\u001b[0;34m:\u001b[0m\u001b[0;36m45\u001b[0m\u001b[0;34m]\u001b[0m\u001b[0;34m.\u001b[0m\u001b[0;34m\u001b[0m\u001b[0;34m\u001b[0m\u001b[0m\n\u001b[1;32m    219\u001b[0m         \"\"\"\n\u001b[0;32m--> 220\u001b[0;31m         \u001b[0;32mreturn\u001b[0m \u001b[0mself\u001b[0m\u001b[0;34m.\u001b[0m\u001b[0m_read_image_slice\u001b[0m\u001b[0;34m(\u001b[0m\u001b[0marg\u001b[0m\u001b[0;34m)\u001b[0m\u001b[0;34m\u001b[0m\u001b[0;34m\u001b[0m\u001b[0m\n\u001b[0m\u001b[1;32m    221\u001b[0m \u001b[0;34m\u001b[0m\u001b[0m\n\u001b[1;32m    222\u001b[0m     \u001b[0;32mdef\u001b[0m \u001b[0m_read_image_slice\u001b[0m\u001b[0;34m(\u001b[0m\u001b[0mself\u001b[0m\u001b[0;34m,\u001b[0m \u001b[0marg\u001b[0m\u001b[0;34m)\u001b[0m\u001b[0;34m:\u001b[0m\u001b[0;34m\u001b[0m\u001b[0;34m\u001b[0m\u001b[0m\n",
      "\u001b[0;32m~/miniconda3/envs/desy6/lib/python3.8/site-packages/fitsio/hdu/image.py\u001b[0m in \u001b[0;36m_read_image_slice\u001b[0;34m(self, arg)\u001b[0m\n\u001b[1;32m    229\u001b[0m         \u001b[0;32mif\u001b[0m \u001b[0misinstance\u001b[0m\u001b[0;34m(\u001b[0m\u001b[0marg\u001b[0m\u001b[0;34m,\u001b[0m \u001b[0mslice\u001b[0m\u001b[0;34m)\u001b[0m\u001b[0;34m:\u001b[0m\u001b[0;34m\u001b[0m\u001b[0;34m\u001b[0m\u001b[0m\n\u001b[1;32m    230\u001b[0m             \u001b[0;31m# one-dimensional, e.g. 2:20\u001b[0m\u001b[0;34m\u001b[0m\u001b[0;34m\u001b[0m\u001b[0;34m\u001b[0m\u001b[0m\n\u001b[0;32m--> 231\u001b[0;31m             \u001b[0;32mreturn\u001b[0m \u001b[0mself\u001b[0m\u001b[0;34m.\u001b[0m\u001b[0m_read_image_slice\u001b[0m\u001b[0;34m(\u001b[0m\u001b[0;34m(\u001b[0m\u001b[0marg\u001b[0m\u001b[0;34m,\u001b[0m\u001b[0;34m)\u001b[0m\u001b[0;34m)\u001b[0m\u001b[0;34m\u001b[0m\u001b[0;34m\u001b[0m\u001b[0m\n\u001b[0m\u001b[1;32m    232\u001b[0m \u001b[0;34m\u001b[0m\u001b[0m\n\u001b[1;32m    233\u001b[0m         \u001b[0;32mif\u001b[0m \u001b[0;32mnot\u001b[0m \u001b[0misinstance\u001b[0m\u001b[0;34m(\u001b[0m\u001b[0marg\u001b[0m\u001b[0;34m,\u001b[0m \u001b[0mtuple\u001b[0m\u001b[0;34m)\u001b[0m\u001b[0;34m:\u001b[0m\u001b[0;34m\u001b[0m\u001b[0;34m\u001b[0m\u001b[0m\n",
      "\u001b[0;32m~/miniconda3/envs/desy6/lib/python3.8/site-packages/fitsio/hdu/image.py\u001b[0m in \u001b[0;36m_read_image_slice\u001b[0;34m(self, arg)\u001b[0m\n\u001b[1;32m    322\u001b[0m \u001b[0;34m\u001b[0m\u001b[0m\n\u001b[1;32m    323\u001b[0m         \u001b[0marray\u001b[0m \u001b[0;34m=\u001b[0m \u001b[0mnumpy\u001b[0m\u001b[0;34m.\u001b[0m\u001b[0mzeros\u001b[0m\u001b[0;34m(\u001b[0m\u001b[0marrdims\u001b[0m\u001b[0;34m,\u001b[0m \u001b[0mdtype\u001b[0m\u001b[0;34m=\u001b[0m\u001b[0mnpy_dtype\u001b[0m\u001b[0;34m)\u001b[0m\u001b[0;34m\u001b[0m\u001b[0;34m\u001b[0m\u001b[0m\n\u001b[0;32m--> 324\u001b[0;31m         self._FITS.read_image_slice(self._ext+1, first, last, steps,\n\u001b[0m\u001b[1;32m    325\u001b[0m                                     self._ignore_scaling, array)\n\u001b[1;32m    326\u001b[0m         \u001b[0;32mreturn\u001b[0m \u001b[0marray\u001b[0m\u001b[0;34m\u001b[0m\u001b[0;34m\u001b[0m\u001b[0m\n",
      "\u001b[0;31mKeyboardInterrupt\u001b[0m: "
     ]
    }
   ],
   "source": [
    "import tqdm\n",
    "\n",
    "base_color = 1.4\n",
    "\n",
    "e1arr = []\n",
    "e2arr = []\n",
    "for i in tqdm.trange(10000, 20000, ncols=79):\n",
    "    if mfile[\"id\"][i] not in gold_ids:\n",
    "        continue\n",
    "    ncutout = mfile[\"ncutout\"][i]\n",
    "    if ncutout <= 1:\n",
    "        continue\n",
    "    for k in range(1, ncutout):\n",
    "        try:\n",
    "            obs = mfile.get_obs(i, k)\n",
    "        except Exception:\n",
    "            continue\n",
    "            \n",
    "        if np.any(obs.weight == 0) or np.any((obs.bmask & 2**30) != 0):\n",
    "            continue\n",
    "        \n",
    "        res = PGaussMom(2).go(obs)\n",
    "        pres = PGaussMom(2).go(obs.psf, no_psf=True)\n",
    "        if (\n",
    "            res[\"flags\"] == 0 \n",
    "            and res[\"s2n\"] > 10 \n",
    "            and pres[\"flags\"] == 0\n",
    "            and res[\"T\"]/pres[\"T\"] > 0.5\n",
    "        ):\n",
    "            fname = os.path.basename(ii[\"image_path\"][k])[:-3]\n",
    "            piff_file = _get_piff_path(fname)\n",
    "            try:\n",
    "                piff_file = _download_file(piff_file)\n",
    "                pmod = _read_piff(piff_file)\n",
    "            except Exception:\n",
    "                os.system(\"rm -f %s\" % piff_file)\n",
    "            wcs = list(pmod.wcs.values())[0]\n",
    "            xy1 = np.array(wcs.radecToxy(mfile[\"ra\"][i], mfile[\"dec\"][i], \"degrees\", color=base_color))\n",
    "            xy2 = np.array(wcs.radecToxy(mfile[\"ra\"][i], mfile[\"dec\"][i], \"degrees\", color=1.7))\n",
    "            xy = (xy1 + xy2)/2\n",
    "            dxy = xy1-xy2\n",
    "            jac = wcs.jacobian(image_pos=galsim.PositionD(xy[0], xy[1]), color=base_color)\n",
    "            du = jac.dudx * dxy[0] + jac.dudy * dxy[1]\n",
    "            dv = jac.dvdx * dxy[0] + jac.dvdy * dxy[1]\n",
    "            dxy = np.array([du, dv])\n",
    "            e1arr.append((dxy[0]**2 - dxy[1]**2)/res[\"T\"])\n",
    "            e2arr.append(2*dxy[0]*dxy[1]/res[\"T\"])\n",
    "            \n",
    "            if len(e1arr) % 100 == 0 and len(e1arr) > 2:\n",
    "                print(\"\\nmeds object %d\" % i, flush=True)\n",
    "                print(\"    e1 [10^-4, 3sigma]: %0.4f +/- %0.4f\" % (\n",
    "                    np.mean(e1arr)/1e-4, 3*np.std(e1arr)/np.sqrt(len(e1arr))/1e-4\n",
    "                ), flush=True)\n",
    "                print(\"    e2 [10^-4, 3sigma]: %0.4f +/- %0.4f\" % (\n",
    "                    np.mean(e2arr)/1e-4, 3*np.std(e2arr)/np.sqrt(len(e2arr))/1e-4\n",
    "                ), flush=True)"
   ]
  },
  {
   "cell_type": "code",
   "execution_count": null,
   "id": "c39654d0",
   "metadata": {},
   "outputs": [],
   "source": [
    "import proplot as pplt\n",
    "\n",
    "fig, axs = pplt.subplots()\n",
    "\n",
    "axs.imshow(p1.array, cmap=\"rocket\")"
   ]
  },
  {
   "cell_type": "code",
   "execution_count": null,
   "id": "10541e64",
   "metadata": {},
   "outputs": [],
   "source": [
    "p1.FindAdaptiveMom().moments_sigma**2/p2.FindAdaptiveMom().moments_sigma**2"
   ]
  },
  {
   "cell_type": "code",
   "execution_count": null,
   "id": "81977dae",
   "metadata": {},
   "outputs": [],
   "source": []
  }
 ],
 "metadata": {
  "kernelspec": {
   "display_name": "Python [conda env:desy6]",
   "language": "python",
   "name": "conda-env-desy6-py"
  },
  "language_info": {
   "codemirror_mode": {
    "name": "ipython",
    "version": 3
   },
   "file_extension": ".py",
   "mimetype": "text/x-python",
   "name": "python",
   "nbconvert_exporter": "python",
   "pygments_lexer": "ipython3",
   "version": "3.8.12"
  }
 },
 "nbformat": 4,
 "nbformat_minor": 5
}
