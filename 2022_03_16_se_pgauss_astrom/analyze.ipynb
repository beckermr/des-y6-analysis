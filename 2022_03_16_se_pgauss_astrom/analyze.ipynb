{
 "cells": [
  {
   "cell_type": "code",
   "execution_count": 1,
   "id": "8c7392bc",
   "metadata": {},
   "outputs": [],
   "source": [
    "import numpy as np\n",
    "import fitsio\n",
    "import tqdm\n",
    "import glob\n",
    "from esutil.pbar import PBar"
   ]
  },
  {
   "cell_type": "code",
   "execution_count": 2,
   "id": "e5d21dba",
   "metadata": {},
   "outputs": [],
   "source": [
    "def bootstrap(x, func, n=500, rng=None):\n",
    "    if rng is None:\n",
    "        rng = np.random.RandomState()\n",
    "    vals = []\n",
    "    for _ in range(n):\n",
    "        inds = rng.choice(x.shape[0], replace=True, size=x.shape[0])\n",
    "        vals.append(func(x[inds]))\n",
    "    return func(x), np.std(vals)"
   ]
  },
  {
   "cell_type": "code",
   "execution_count": 3,
   "id": "e31c94b9",
   "metadata": {},
   "outputs": [],
   "source": [
    "def groupby(a, key):\n",
    "    a.sort(axis=0, order=key)\n",
    "    for item in np.split(a, np.unique(a[key], return_index=True)[1][1:]):\n",
    "        yield item[key][0], item"
   ]
  },
  {
   "cell_type": "code",
   "execution_count": 4,
   "id": "b581bbc4",
   "metadata": {},
   "outputs": [],
   "source": [
    "func = np.median"
   ]
  },
  {
   "cell_type": "code",
   "execution_count": 5,
   "id": "19a4c613",
   "metadata": {},
   "outputs": [
    {
     "name": "stdout",
     "output_type": "stream",
     "text": [
      "[Parallel(n_jobs=8)]: Using backend LokyBackend with 8 concurrent workers.\n",
      "[Parallel(n_jobs=8)]: Done   1 tasks      | elapsed:  1.1min\n",
      "[Parallel(n_jobs=8)]: Done   2 tasks      | elapsed:  1.1min\n",
      "[Parallel(n_jobs=8)]: Done   3 tasks      | elapsed:  1.1min\n",
      "[Parallel(n_jobs=8)]: Done   4 tasks      | elapsed:  1.2min\n",
      "[Parallel(n_jobs=8)]: Done   5 tasks      | elapsed:  1.2min\n",
      "[Parallel(n_jobs=8)]: Done   6 tasks      | elapsed:  1.2min\n",
      "[Parallel(n_jobs=8)]: Done   7 tasks      | elapsed:  1.2min\n",
      "[Parallel(n_jobs=8)]: Done   8 tasks      | elapsed:  1.2min\n",
      "[Parallel(n_jobs=8)]: Done   9 tasks      | elapsed:  2.2min\n",
      "[Parallel(n_jobs=8)]: Done  10 tasks      | elapsed:  2.2min\n",
      "[Parallel(n_jobs=8)]: Done  11 tasks      | elapsed:  2.3min\n",
      "[Parallel(n_jobs=8)]: Done  12 tasks      | elapsed:  2.3min\n",
      "[Parallel(n_jobs=8)]: Done  13 tasks      | elapsed:  2.3min\n",
      "[Parallel(n_jobs=8)]: Done  14 tasks      | elapsed:  2.3min\n",
      "[Parallel(n_jobs=8)]: Done  15 tasks      | elapsed:  2.3min\n",
      "[Parallel(n_jobs=8)]: Done  16 tasks      | elapsed:  2.4min\n",
      "[Parallel(n_jobs=8)]: Done  17 out of  31 | elapsed:  3.3min remaining:  2.8min\n",
      "[Parallel(n_jobs=8)]: Done  18 out of  31 | elapsed:  3.3min remaining:  2.4min\n",
      "[Parallel(n_jobs=8)]: Done  19 out of  31 | elapsed:  3.3min remaining:  2.1min\n",
      "[Parallel(n_jobs=8)]: Done  20 out of  31 | elapsed:  3.4min remaining:  1.9min\n",
      "[Parallel(n_jobs=8)]: Done  21 out of  31 | elapsed:  3.4min remaining:  1.6min\n",
      "[Parallel(n_jobs=8)]: Done  22 out of  31 | elapsed:  3.4min remaining:  1.4min\n",
      "[Parallel(n_jobs=8)]: Done  23 out of  31 | elapsed:  3.4min remaining:  1.2min\n",
      "[Parallel(n_jobs=8)]: Done  24 out of  31 | elapsed:  3.5min remaining:  1.0min\n",
      "[Parallel(n_jobs=8)]: Done  25 out of  31 | elapsed:  3.9min remaining:   56.4s\n",
      "[Parallel(n_jobs=8)]: Done  26 out of  31 | elapsed:  4.3min remaining:   49.3s\n",
      "[Parallel(n_jobs=8)]: Done  27 out of  31 | elapsed:  4.3min remaining:   38.0s\n",
      "[Parallel(n_jobs=8)]: Done  28 out of  31 | elapsed:  4.3min remaining:   27.6s\n",
      "[Parallel(n_jobs=8)]: Done  29 out of  31 | elapsed:  4.3min remaining:   17.8s\n",
      "[Parallel(n_jobs=8)]: Done  31 out of  31 | elapsed:  4.3min remaining:    0.0s\n",
      "[Parallel(n_jobs=8)]: Done  31 out of  31 | elapsed:  4.3min finished\n"
     ]
    }
   ],
   "source": [
    "import joblib\n",
    "\n",
    "def _process_file(f):\n",
    "    d = []\n",
    "    _d = fitsio.read(f)\n",
    "    bands = np.unique(_d[\"band\"])\n",
    "    for tn, dtn in groupby(_d, \"tilename\"):\n",
    "        assert np.all(dtn[\"tilename\"] == tn)\n",
    "        for b in bands:\n",
    "            msk = dtn[\"band\"] == b\n",
    "            if not np.any(msk):\n",
    "                continue\n",
    "                \n",
    "            d.append((\n",
    "                func(dtn[\"de1\"][msk]),\n",
    "                func(dtn[\"de2\"][msk]),\n",
    "                np.sum(msk),\n",
    "                tn,\n",
    "                b,\n",
    "            ))\n",
    "    return np.array(d, dtype=[\n",
    "        (\"de1\", \"f8\"),\n",
    "        (\"de2\", \"f8\"),\n",
    "        (\"n\", \"f8\"),\n",
    "        (\"tilename\", \"U12\"),\n",
    "        (\"band\", \"U1\"),\n",
    "    ])    \n",
    "\n",
    "\n",
    "fnames = glob.glob(\"astrom_data_all_basecolor1.40_*.fits\")\n",
    "jobs = [joblib.delayed(_process_file)(f) for f in fnames]\n",
    "\n",
    "with joblib.Parallel(n_jobs=8, verbose=100) as par:\n",
    "    outputs = par(jobs)\n",
    "\n",
    "d = np.concatenate(outputs)"
   ]
  },
  {
   "cell_type": "code",
   "execution_count": 6,
   "id": "ea497429",
   "metadata": {},
   "outputs": [],
   "source": [
    "bands = np.unique(d[\"band\"])\n",
    "tilenames = np.unique(d[\"tilename\"])"
   ]
  },
  {
   "cell_type": "code",
   "execution_count": 9,
   "id": "20bfd72a",
   "metadata": {},
   "outputs": [],
   "source": [
    "all_res = {}\n",
    "\n",
    "for _bands in [\"g\", \"ri\", \"gri\"]:\n",
    "    bands = [b for b in _bands]\n",
    "    e1 = []\n",
    "    e2 = []\n",
    "    for tilename in tilenames:\n",
    "        msk = (\n",
    "            (d[\"tilename\"] == tilename)\n",
    "            & np.isin(d[\"band\"], bands)\n",
    "        )\n",
    "        if not np.any(msk):\n",
    "            continue\n",
    "        e1.append(np.mean(d[\"de1\"][msk]))\n",
    "        e2.append(np.mean(d[\"de2\"][msk]))\n",
    "\n",
    "    e1 = np.array(e1)\n",
    "    e2 = np.array(e2)\n",
    "    all_res[_bands] = dict(e1=e1, e2=e2)"
   ]
  },
  {
   "cell_type": "code",
   "execution_count": 10,
   "id": "3fde1805",
   "metadata": {},
   "outputs": [
    {
     "name": "stdout",
     "output_type": "stream",
     "text": [
      "g:\n",
      "    e1 [10^-4, 3sigma]: 0.912 +/- 0.147\n",
      "    e2 [10^-4, 3sigma]: 0.573 +/- 0.125\n",
      "ri:\n",
      "    e1 [10^-4, 3sigma]: 0.032 +/- 0.003\n",
      "    e2 [10^-4, 3sigma]: 0.017 +/- 0.003\n",
      "gri:\n",
      "    e1 [10^-4, 3sigma]: 0.387 +/- 0.058\n",
      "    e2 [10^-4, 3sigma]: 0.204 +/- 0.047\n"
     ]
    }
   ],
   "source": [
    "for b in all_res:\n",
    "    e1 = all_res[b][\"e1\"]\n",
    "    e2 = all_res[b][\"e2\"]\n",
    "    e1mn, e1std = bootstrap(e1, np.mean)\n",
    "    e2mn, e2std = bootstrap(e2, np.mean)\n",
    "\n",
    "    print(\"%s:\" % b)\n",
    "    print(\"    e1 [10^-4, 3sigma]: %0.3f +/- %0.3f\" % (e1mn/1e-4, 3*e1std/1e-4))\n",
    "    print(\"    e2 [10^-4, 3sigma]: %0.3f +/- %0.3f\" % (e2mn/1e-4, 3*e2std/1e-4), flush=True)"
   ]
  },
  {
   "cell_type": "code",
   "execution_count": null,
   "id": "cb886dca",
   "metadata": {},
   "outputs": [],
   "source": []
  }
 ],
 "metadata": {
  "kernelspec": {
   "display_name": "Python [conda env:desy6]",
   "language": "python",
   "name": "conda-env-desy6-py"
  },
  "language_info": {
   "codemirror_mode": {
    "name": "ipython",
    "version": 3
   },
   "file_extension": ".py",
   "mimetype": "text/x-python",
   "name": "python",
   "nbconvert_exporter": "python",
   "pygments_lexer": "ipython3",
   "version": "3.9.7"
  }
 },
 "nbformat": 4,
 "nbformat_minor": 5
}
