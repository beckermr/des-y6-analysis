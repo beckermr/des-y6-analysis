{
 "cells": [
  {
   "cell_type": "code",
   "execution_count": null,
   "id": "f7409a18",
   "metadata": {},
   "outputs": [],
   "source": [
    "import ngmix\n",
    "import fitsio\n",
    "import proplot as pplt\n",
    "import numpy as np\n",
    "import piff\n",
    "import galsim\n",
    "import yaml"
   ]
  },
  {
   "cell_type": "code",
   "execution_count": null,
   "id": "077c57db",
   "metadata": {},
   "outputs": [],
   "source": [
    "%matplotlib inline"
   ]
  },
  {
   "cell_type": "code",
   "execution_count": null,
   "id": "47a17e6e",
   "metadata": {},
   "outputs": [],
   "source": [
    "TNAMES = [\"DES0131-3206\", \"DES0137-3749\", \"DES0221-0750\", \"DES0229-0416\"]\n",
    "BANDS = [\"g\", \"r\", \"i\", \"z\"]\n",
    "\n",
    "with open(\n",
    "    \"/Users/beckermr/MEDS_DIR/des-pizza-slices-y6-test/pizza_cutter_info/\"\n",
    "    \"%s_%s_pizza_cutter_info.yaml\" % (TNAMES[1], BANDS[1])\n",
    ") as fp:\n",
    "    yml = yaml.safe_load(fp.read())"
   ]
  },
  {
   "cell_type": "code",
   "execution_count": null,
   "id": "ba61ba42",
   "metadata": {},
   "outputs": [],
   "source": [
    "from des_y6utils.piff import (\n",
    "    measure_star_t_for_piff_model,\n",
    "    map_star_t_to_grid,\n",
    "    measure_t_grid_for_piff_model,\n",
    "    make_good_regions_for_piff_model_gal_grid,\n",
    "    make_good_regions_for_piff_model_star_and_gal_grid,\n",
    "    nanmad,\n",
    ")"
   ]
  },
  {
   "cell_type": "code",
   "execution_count": null,
   "id": "80404931",
   "metadata": {},
   "outputs": [],
   "source": [
    "# find a bad model\n",
    "for sind, src in enumerate(yml[\"src_info\"]):\n",
    "    print(sind)\n",
    "    piff_mod = piff.read(src[\"piff_path\"])\n",
    "    res = make_good_regions_for_piff_model(piff_mod, piff_kwargs={\"GI_COLOR\": 0.61}, seed=11, verbose=False)\n",
    "    \n",
    "    b = res[\"bbox\"]\n",
    "    flags = res[\"flags\"]\n",
    "    if flags == 0:\n",
    "        bf = np.mean(res[\"bad\"])\n",
    "    else:\n",
    "        bf = 1.0\n",
    "    if bf > 1/512:\n",
    "        break"
   ]
  },
  {
   "cell_type": "code",
   "execution_count": null,
   "id": "d36c49e8",
   "metadata": {},
   "outputs": [],
   "source": [
    "sind = 40\n",
    "\n",
    "src = yml[\"src_info\"][sind]\n",
    "piff_mod = piff.read(src[\"piff_path\"])\n",
    "\n",
    "img = (\n",
    "    fitsio.read(src[\"image_path\"], ext=src[\"image_ext\"])\n",
    "    - fitsio.read(src[\"bkg_path\"], ext=src[\"bkg_ext\"])\n",
    ")\n",
    "wgt = fitsio.read(src[\"weight_path\"], ext=src[\"weight_ext\"])"
   ]
  },
  {
   "cell_type": "code",
   "execution_count": null,
   "id": "01cce4cc",
   "metadata": {},
   "outputs": [],
   "source": [
    "thresh = 5\n",
    "t_arr = measure_t_grid_for_piff_model(piff_mod, {\"GI_COLOR\": 0.61})\n",
    "data = measure_star_t_for_piff_model(piff_mod, img, wgt, piff_prop=\"GI_COLOR\")\n",
    "ts_arr = map_star_t_to_grid(data)\n",
    "\n",
    "res_g = make_good_regions_for_piff_model_gal_grid(piff_mod, piff_kwargs={\"GI_COLOR\": 0.61}, seed=11, verbose=False)\n",
    "res_sg = make_good_regions_for_piff_model_star_and_gal_grid(\n",
    "    piff_mod, img, wgt, piff_kwargs={\"GI_COLOR\": 0.61}, seed=11, verbose=False,\n",
    "    flag_bad_thresh=2, any_bad_thresh=5,\n",
    ")"
   ]
  },
  {
   "cell_type": "code",
   "execution_count": null,
   "id": "1479831d",
   "metadata": {},
   "outputs": [],
   "source": [
    "vmin = min(np.nanmin(ts_arr), np.nanmin(t_arr))\n",
    "vmax = max(np.nanmax(ts_arr), np.nanmax(t_arr))\n",
    "\n",
    "fig, axs = pplt.subplots(ncols=4, share=0)\n",
    "h0 = axs[0].imshow(ts_arr, vmin=vmin, vmax=vmax, cmap=\"rocket\")\n",
    "axs[0].grid(False)\n",
    "axs[0].set_title(\"stars on grid w/ 2d poly\")\n",
    "axs[0].colorbar(h0, loc='l')\n",
    "\n",
    "axs[1].imshow(t_arr, vmin=vmin, vmax=vmax, cmap=\"rocket\")\n",
    "axs[1].grid(False)\n",
    "axs[1].set_title(\"grid of shapes at gal color\")\n",
    "\n",
    "b = res_g[\"bbox\"]\n",
    "axs[1].plot([b[\"xmin\"]/128, b[\"xmin\"]/128], [b[\"ymin\"]/128, b[\"ymax\"]/128 - 1], color=\"red\")\n",
    "axs[1].plot([b[\"xmax\"]/128 - 1, b[\"xmax\"]/128 - 1], [b[\"ymin\"]/128, b[\"ymax\"]/128 - 1], color=\"red\")\n",
    "axs[1].plot([b[\"xmin\"]/128, b[\"xmax\"]/128 - 1], [b[\"ymin\"]/128, b[\"ymin\"]/128], color=\"red\")\n",
    "axs[1].plot([b[\"xmin\"]/128, b[\"xmax\"]/128 - 1], [b[\"ymax\"]/128 - 1, b[\"ymax\"]/128 - 1], color=\"red\")\n",
    "\n",
    "b = res_sg[\"bbox\"]\n",
    "axs[1].plot([b[\"xmin\"]/128, b[\"xmin\"]/128], [b[\"ymin\"]/128, b[\"ymax\"]/128 - 1], color=\"blue\")\n",
    "axs[1].plot([b[\"xmax\"]/128 - 1, b[\"xmax\"]/128 - 1], [b[\"ymin\"]/128, b[\"ymax\"]/128 - 1], color=\"blue\")\n",
    "axs[1].plot([b[\"xmin\"]/128, b[\"xmax\"]/128 - 1], [b[\"ymin\"]/128, b[\"ymin\"]/128], color=\"blue\")\n",
    "axs[1].plot([b[\"xmin\"]/128, b[\"xmax\"]/128 - 1], [b[\"ymax\"]/128 - 1, b[\"ymax\"]/128 - 1], color=\"blue\")\n",
    "\n",
    "axs[2].imshow(res_sg[\"bad_msk\"], cmap=\"rocket\")\n",
    "\n",
    "harr = (t_arr-ts_arr).ravel()\n",
    "std5 = nanmad(harr) * 2\n",
    "h = axs[3].hist(harr, bins=50)\n",
    "axs[3].vlines([-std5, np.nanmedian(harr)+std5], 0, np.max(h[0]), color=\"k\")\n",
    "axs[3].set_xlabel(\"gal T - star T\")"
   ]
  },
  {
   "cell_type": "code",
   "execution_count": null,
   "id": "9de359e4",
   "metadata": {},
   "outputs": [],
   "source": [
    "np.mean(res_sg[\"bad_msk\"])"
   ]
  },
  {
   "cell_type": "code",
   "execution_count": null,
   "id": "a18eb5ec",
   "metadata": {},
   "outputs": [],
   "source": []
  },
  {
   "cell_type": "code",
   "execution_count": null,
   "id": "a41f5a93",
   "metadata": {},
   "outputs": [],
   "source": []
  },
  {
   "cell_type": "code",
   "execution_count": null,
   "id": "8fc2c60c",
   "metadata": {},
   "outputs": [],
   "source": []
  },
  {
   "cell_type": "code",
   "execution_count": null,
   "id": "7544af54",
   "metadata": {},
   "outputs": [],
   "source": []
  },
  {
   "cell_type": "code",
   "execution_count": null,
   "id": "6b048689",
   "metadata": {},
   "outputs": [],
   "source": []
  },
  {
   "cell_type": "code",
   "execution_count": null,
   "id": "e7bfc66d",
   "metadata": {},
   "outputs": [],
   "source": [
    "import ngmix\n",
    "\n",
    "def get_star_stamp_pos(s, img, wgt):\n",
    "    xint = int(np.floor(s.x - 1 + 0.5))\n",
    "    yint = int(np.floor(s.y - 1 + 0.5))\n",
    "    bbox = 17\n",
    "    bbox_2 = (bbox - 1)//2\n",
    "    \n",
    "    return dict(\n",
    "        img=img[yint-bbox_2: yint+bbox_2+1, xint-bbox_2: xint+bbox_2+1],\n",
    "        wgt=wgt[yint-bbox_2: yint+bbox_2+1, xint-bbox_2: xint+bbox_2+1],\n",
    "        xstart=xint-bbox_2, \n",
    "        ystart=yint-bbox_2,\n",
    "        dim=bbox,\n",
    "        x=s.x - 1,\n",
    "        y=s.y - 1,\n",
    "    )\n",
    "\n",
    "def get_star_piff_obs(piff_mod, s, img, wgt):\n",
    "    \n",
    "    sres = get_star_stamp_pos(s, img, wgt)\n",
    "    \n",
    "    xv = sres[\"x\"]+1\n",
    "    yv = sres[\"y\"]+1\n",
    "    wcs = list(piff_mod.wcs.values())[0].local(\n",
    "        image_pos=galsim.PositionD(x=xv, y=yv)\n",
    "    ).jacobian()\n",
    "    img = galsim.ImageD(sres[\"dim\"], sres[\"dim\"], wcs=wcs)\n",
    "    cen = (\n",
    "        sres[\"x\"] - sres[\"xstart\"] + 1,\n",
    "        sres[\"y\"] - sres[\"ystart\"] + 1,\n",
    "    )\n",
    "    img = piff_mod.draw(\n",
    "        x=xv, y=yv, chipnum=list(piff_mod.wcs.keys())[0],\n",
    "        GI_COLOR=s.data.properties[\"GI_COLOR\"],\n",
    "        image=img, center=cen,\n",
    "    )\n",
    "    model_obs = ngmix.Observation(\n",
    "        image=img.array,\n",
    "        jacobian=ngmix.Jacobian(\n",
    "            y=cen[1]-1,\n",
    "            x=cen[0]-1,\n",
    "            wcs=wcs,\n",
    "        )\n",
    "    )\n",
    "    star_obs = ngmix.Observation(\n",
    "        image=sres[\"img\"],\n",
    "        weight=sres[\"wgt\"],\n",
    "        jacobian=ngmix.Jacobian(\n",
    "            y=cen[1]-1,\n",
    "            x=cen[0]-1,\n",
    "            wcs=wcs,\n",
    "        )\n",
    "    )\n",
    "    return model_obs, star_obs, sres"
   ]
  },
  {
   "cell_type": "code",
   "execution_count": null,
   "id": "8662533d",
   "metadata": {},
   "outputs": [],
   "source": [
    "\n",
    "x = []\n",
    "y = []\n",
    "t = []\n",
    "\n",
    "for s in piff_mod.stars:\n",
    "\n",
    "    mobs, sobs, sres = get_star_piff_obs(piff_mod, s, img, wgt)\n",
    "    \n",
    "    res = ngmix.admom.AdmomFitter(\n",
    "        rng=np.random.RandomState(seed=10)\n",
    "    ).go(mobs, ngmix.moments.fwhm_to_T(1))\n",
    "    t.append(res[\"T\"])\n",
    "    x.append(sres[\"x\"])\n",
    "    y.append(sres[\"y\"])\n",
    "    "
   ]
  },
  {
   "cell_type": "code",
   "execution_count": null,
   "id": "3cb5660a",
   "metadata": {},
   "outputs": [],
   "source": [
    "from sklearn.preprocessing import PolynomialFeatures\n",
    "from sklearn.pipeline import make_pipeline\n",
    "from sklearn.linear_model import LinearRegression\n",
    "\n",
    "degree = 2\n",
    "polyreg = make_pipeline(PolynomialFeatures(degree), LinearRegression())\n",
    "polyreg.fit(np.array([x, y]).T, np.array(t))"
   ]
  },
  {
   "cell_type": "code",
   "execution_count": null,
   "id": "f1784c06",
   "metadata": {},
   "outputs": [],
   "source": [
    "y, x = np.mgrid[0:4096:128, 0:2048:128] + 64\n",
    "tg = polyreg.predict(np.array([x.ravel(), y.ravel()]).T)"
   ]
  },
  {
   "cell_type": "code",
   "execution_count": null,
   "id": "ad4b8146",
   "metadata": {},
   "outputs": [],
   "source": [
    "tg = tg.reshape(x.shape)"
   ]
  },
  {
   "cell_type": "code",
   "execution_count": null,
   "id": "711c8451",
   "metadata": {},
   "outputs": [],
   "source": [
    "fig, axs = pplt.subplots(ncols=2)\n",
    "axs[0].imshow(tg)\n",
    "axs[1].imshow(res[\"t_arr\"])"
   ]
  },
  {
   "cell_type": "code",
   "execution_count": null,
   "id": "780d90e4",
   "metadata": {},
   "outputs": [],
   "source": [
    "def _nanmad(x, axis=None):\n",
    "    \"\"\"\n",
    "    median absolute deviation - scaled like a standard deviation\n",
    "\n",
    "        mad = 1.4826*median(|x-median(x)|)\n",
    "\n",
    "    Parameters\n",
    "    ----------\n",
    "    x: array-like\n",
    "        array to take MAD of\n",
    "    axis : {int, sequence of int, None}, optional\n",
    "        `axis` keyword for\n",
    "\n",
    "    Returns\n",
    "    -------\n",
    "    mad: float\n",
    "        MAD of array x\n",
    "    \"\"\"\n",
    "    return 1.4826*np.nanmedian(np.abs(x - np.nanmedian(x, axis=axis)), axis=axis)\n"
   ]
  },
  {
   "cell_type": "code",
   "execution_count": null,
   "id": "8ee74428",
   "metadata": {},
   "outputs": [],
   "source": [
    "print(_nanmad(t), _nanmad(tg))"
   ]
  },
  {
   "cell_type": "code",
   "execution_count": null,
   "id": "ebd98453",
   "metadata": {},
   "outputs": [],
   "source": [
    "from des_y6utils.piff import make_good_regions_for_piff_model"
   ]
  },
  {
   "cell_type": "code",
   "execution_count": null,
   "id": "0d8cc9cf",
   "metadata": {},
   "outputs": [],
   "source": [
    "res = make_good_regions_for_piff_model(piff_mod, piff_kwargs={\"GI_COLOR\": 0.61}, seed=10, verbose=False)"
   ]
  },
  {
   "cell_type": "code",
   "execution_count": null,
   "id": "844193d9",
   "metadata": {},
   "outputs": [],
   "source": [
    "res[\"t_std\"]"
   ]
  },
  {
   "cell_type": "code",
   "execution_count": null,
   "id": "4f02efa1",
   "metadata": {},
   "outputs": [],
   "source": [
    "fig, axs = pplt.subplots()\n",
    "\n",
    "axs.hist((res[\"t_arr\"] - tg).ravel(), bins=50)"
   ]
  },
  {
   "cell_type": "code",
   "execution_count": null,
   "id": "2c04c2b0",
   "metadata": {},
   "outputs": [],
   "source": [
    "np.std((res[\"t_arr\"] - tg).ravel()) * 5"
   ]
  },
  {
   "cell_type": "code",
   "execution_count": null,
   "id": "9968a4af",
   "metadata": {},
   "outputs": [],
   "source": [
    "np.max(np.abs(np.max(t) - np.median(t)))"
   ]
  },
  {
   "cell_type": "code",
   "execution_count": null,
   "id": "c45c5c97",
   "metadata": {},
   "outputs": [],
   "source": [
    "_nanmad(t)"
   ]
  },
  {
   "cell_type": "code",
   "execution_count": null,
   "id": "3d8d080b",
   "metadata": {},
   "outputs": [],
   "source": [
    "g = galsim.Gaussian(fwhm=0.5).dilate(1.1)"
   ]
  },
  {
   "cell_type": "code",
   "execution_count": null,
   "id": "70928fe8",
   "metadata": {},
   "outputs": [],
   "source": [
    "g"
   ]
  },
  {
   "cell_type": "code",
   "execution_count": null,
   "id": "503a10d7",
   "metadata": {},
   "outputs": [],
   "source": []
  }
 ],
 "metadata": {
  "kernelspec": {
   "display_name": "Python [conda env:desy6] *",
   "language": "python",
   "name": "conda-env-desy6-py"
  },
  "language_info": {
   "codemirror_mode": {
    "name": "ipython",
    "version": 3
   },
   "file_extension": ".py",
   "mimetype": "text/x-python",
   "name": "python",
   "nbconvert_exporter": "python",
   "pygments_lexer": "ipython3",
   "version": "3.8.12"
  }
 },
 "nbformat": 4,
 "nbformat_minor": 5
}
