{
 "cells": [
  {
   "cell_type": "code",
   "execution_count": 1,
   "id": "be1cc499",
   "metadata": {},
   "outputs": [],
   "source": [
    "import meds\n",
    "import proplot as pplt\n",
    "import numpy as np"
   ]
  },
  {
   "cell_type": "code",
   "execution_count": 2,
   "id": "08ddc4a4",
   "metadata": {},
   "outputs": [],
   "source": [
    "%matplotlib inline"
   ]
  },
  {
   "cell_type": "code",
   "execution_count": null,
   "id": "3aee440e",
   "metadata": {},
   "outputs": [],
   "source": [
    "from des_y6utils.piff import make_good_regions_for_piff_model_star_and_gal_grid, nanmad"
   ]
  },
  {
   "cell_type": "code",
   "execution_count": null,
   "id": "9c5f6d39",
   "metadata": {
    "scrolled": true
   },
   "outputs": [],
   "source": [
    "import yaml\n",
    "import os\n",
    "from esutil.pbar import PBar\n",
    "import pprint\n",
    "import piff\n",
    "import json\n",
    "import joblib\n",
    "import fitsio\n",
    "\n",
    "\n",
    "def _run_file(fname, img, img_ext, wgt, wgt_ext, bkg, bkg_ext):\n",
    "    pmod = piff.read(fname)\n",
    "    \n",
    "    _img = (\n",
    "        fitsio.read(img, ext=img_ext)\n",
    "        - fitsio.read(bkg, ext=bkg_ext)\n",
    "    )\n",
    "    _wgt = fitsio.read(wgt, ext=wgt_ext)\n",
    "    \n",
    "    any_bad_thresh = 5\n",
    "    flag_bad_thresh = 2\n",
    "    res = make_good_regions_for_piff_model_star_and_gal_grid(\n",
    "        pmod, _img, _wgt, piff_kwargs={\"GI_COLOR\": 0.61}, seed=11, verbose=False,\n",
    "        flag_bad_thresh=flag_bad_thresh, any_bad_thresh=any_bad_thresh,\n",
    "    )   \n",
    "        \n",
    "    return fname, res[\"flags\"], np.mean(res[\"bad_msk\"])\n",
    "\n",
    "\n",
    "TNAMES = [\"DES0131-3206\", \"DES0137-3749\", \"DES0221-0750\", \"DES0229-0416\"]\n",
    "BANDS = [\"g\", \"r\", \"i\", \"z\"]\n",
    "\n",
    "results = {}\n",
    "\n",
    "for tname in TNAMES:\n",
    "    results[tname] = {}\n",
    "    for band in BANDS:\n",
    "        print(\"%s-%s\" % (tname, band), flush=True)\n",
    "        \n",
    "        results[tname][band] = {}\n",
    "\n",
    "        with open(\n",
    "            \"/Users/beckermr/MEDS_DIR/des-pizza-slices-y6-test/pizza_cutter_info/\"\n",
    "            \"%s_%s_pizza_cutter_info.yaml\" % (tname, band)\n",
    "        ) as fp:\n",
    "            yml = yaml.safe_load(fp.read())\n",
    "            \n",
    "        jobs = []\n",
    "        for i, src in PBar(enumerate(yml[\"src_info\"]), total=len(yml[\"src_info\"])):\n",
    "            jobs.append(joblib.delayed(_run_file)(\n",
    "                src[\"piff_path\"],\n",
    "                src[\"image_path\"],\n",
    "                src[\"image_ext\"],\n",
    "                src[\"weight_path\"],\n",
    "                src[\"weight_ext\"],\n",
    "                src[\"bkg_path\"],\n",
    "                src[\"bkg_ext\"],\n",
    "            ))\n",
    "            if False:\n",
    "                _run_file(\n",
    "                    src[\"piff_path\"],\n",
    "                    src[\"image_path\"],\n",
    "                    src[\"image_ext\"],\n",
    "                    src[\"weight_path\"],\n",
    "                    src[\"weight_ext\"],\n",
    "                    src[\"bkg_path\"],\n",
    "                    src[\"bkg_ext\"],\n",
    "                )\n",
    "\n",
    "        with joblib.Parallel(n_jobs=2, backend=\"loky\", verbose=100) as par:\n",
    "            outputs = par(jobs)\n",
    "            \n",
    "        for fname, flags, bf in outputs:\n",
    "            results[tname][band][os.path.basename(fname)] = {\n",
    "                \"no_box_frac\": bf,\n",
    "                \"flags\": flags,\n",
    "                \"bbox\": b,\n",
    "            }\n",
    "            \n",
    "        with open(\"data.json\", \"w\") as fp:\n",
    "            json.dump(results, fp)"
   ]
  },
  {
   "cell_type": "code",
   "execution_count": null,
   "id": "a464be07",
   "metadata": {},
   "outputs": [],
   "source": []
  },
  {
   "cell_type": "code",
   "execution_count": null,
   "id": "559d3c10",
   "metadata": {},
   "outputs": [],
   "source": []
  },
  {
   "cell_type": "code",
   "execution_count": null,
   "id": "72486045",
   "metadata": {},
   "outputs": [],
   "source": []
  },
  {
   "cell_type": "code",
   "execution_count": null,
   "id": "553f99b1",
   "metadata": {},
   "outputs": [],
   "source": []
  },
  {
   "cell_type": "code",
   "execution_count": null,
   "id": "bbb034a1",
   "metadata": {},
   "outputs": [],
   "source": []
  },
  {
   "cell_type": "code",
   "execution_count": null,
   "id": "c1884832",
   "metadata": {},
   "outputs": [],
   "source": [
    "for fname, flags, b in outputs:\n",
    "    if flags == 0:\n",
    "        bf = 1.0 - ((b[\"xmax\"] - b[\"xmin\"])*(b[\"ymax\"] - b[\"ymin\"]))/(4096*2048)\n",
    "    else:\n",
    "        bf = 1.0\n",
    "\n",
    "    results[tname][band][os.path.basename(fname)] = {\n",
    "        \"no_box_frac\": bf,\n",
    "        \"flags\": flags,\n",
    "        \"bbox\": b,\n",
    "    }\n",
    "\n",
    "with open(\"data.json\", \"w\") as fp:\n",
    "    json.dump(results, fp)"
   ]
  },
  {
   "cell_type": "code",
   "execution_count": null,
   "id": "60866b83",
   "metadata": {},
   "outputs": [],
   "source": []
  },
  {
   "cell_type": "code",
   "execution_count": null,
   "id": "c34919dd",
   "metadata": {},
   "outputs": [],
   "source": []
  },
  {
   "cell_type": "code",
   "execution_count": null,
   "id": "97728ef1",
   "metadata": {},
   "outputs": [],
   "source": []
  },
  {
   "cell_type": "code",
   "execution_count": null,
   "id": "1c59938d",
   "metadata": {},
   "outputs": [],
   "source": []
  },
  {
   "cell_type": "code",
   "execution_count": null,
   "id": "2dfa735a",
   "metadata": {
    "scrolled": false
   },
   "outputs": [],
   "source": [
    "os.system(\"mkdir -p piff_plots_%s\" % BAND)\n",
    "\n",
    "for i, src in PBar(enumerate(yml[\"src_info\"]), total=len(yml[\"src_info\"])):\n",
    "    pmod = piff.read(src[\"piff_path\"])\n",
    "    print(src[\"image_path\"])\n",
    "    res = make_good_regions_for_piff_model(pmod, piff_kwargs={\"GI_COLOR\": 0.61}, seed=10, verbose=True)\n",
    "    print(\"    \" + pprint.pformat(src[\"piff_info\"]))\n",
    "    \n",
    "    t_arr = res[\"t_arr\"]\n",
    "    t_mn = res[\"t_mn\"]\n",
    "    t_std = res[\"t_std\"]\n",
    "    flags = res[\"flags\"]\n",
    "    b = res[\"bbox\"]\n",
    "    \n",
    "    msk = (~np.isfinite(t_arr)) | (np.abs(t_arr - t_mn) > 25 * t_std)\n",
    "\n",
    "    if np.any(msk):\n",
    "\n",
    "        msk = (~np.isfinite(t_arr)) | (np.abs(t_arr - t_mn) > 15 * t_std)\n",
    "        fig, axs = pplt.subplots(nrows=1, ncols=2)\n",
    "        axs[0].imshow(np.log10(t_arr/t_std), cmap=\"rocket\", origin=\"lower\")\n",
    "        axs[0].grid(False)\n",
    "        axs[0].set_title(\"T\")\n",
    "\n",
    "        axs[1].imshow(msk, cmap=\"rocket\", origin=\"lower\")\n",
    "        axs[1].grid(False)\n",
    "        axs[1].set_title(\"|T - <T>| > 15 sigma(T)\")\n",
    "        axs[1].plot([b[\"xmin\"]/128, b[\"xmin\"]/128], [b[\"ymin\"]/128, b[\"ymax\"]/128 - 1], color=\"red\")\n",
    "        axs[1].plot([b[\"xmax\"]/128 - 1, b[\"xmax\"]/128 - 1], [b[\"ymin\"]/128, b[\"ymax\"]/128 - 1], color=\"red\")\n",
    "        axs[1].plot([b[\"xmin\"]/128, b[\"xmax\"]/128 - 1], [b[\"ymin\"]/128, b[\"ymin\"]/128], color=\"red\")\n",
    "        axs[1].plot([b[\"xmin\"]/128, b[\"xmax\"]/128 - 1], [b[\"ymax\"]/128 - 1, b[\"ymax\"]/128 - 1], color=\"red\")\n",
    "\n",
    "        fig.savefig(\"piff_plots_%s/psf_%d.png\" % (BAND, i))"
   ]
  },
  {
   "cell_type": "code",
   "execution_count": null,
   "id": "55f889a5",
   "metadata": {},
   "outputs": [],
   "source": []
  },
  {
   "cell_type": "code",
   "execution_count": null,
   "id": "fe40a9d7",
   "metadata": {},
   "outputs": [],
   "source": []
  },
  {
   "cell_type": "code",
   "execution_count": null,
   "id": "cf8c907b",
   "metadata": {},
   "outputs": [],
   "source": []
  },
  {
   "cell_type": "code",
   "execution_count": null,
   "id": "5d8ee2ed",
   "metadata": {},
   "outputs": [],
   "source": []
  },
  {
   "cell_type": "code",
   "execution_count": null,
   "id": "292cb308",
   "metadata": {},
   "outputs": [],
   "source": [
    "import meds\n",
    "\n",
    "bands = [\"g\", \"r\", \"i\", \"z\"]\n",
    "mfiles = []\n",
    "for band in bands:\n",
    "    mfiles.append(meds.MEDS(\"DES0221-0750_r5592p01_%s_pizza-cutter-slices.fits.fz\" % band))"
   ]
  },
  {
   "cell_type": "code",
   "execution_count": null,
   "id": "c93507da",
   "metadata": {
    "scrolled": false
   },
   "outputs": [],
   "source": [
    "# start_obj = 9008\n",
    "# nrows = 16\n",
    "\n",
    "# fig, axs = pplt.subplots(nrows=nrows, ncols=4)\n",
    "\n",
    "# for row in range(nrows):\n",
    "#     obj = start_obj + row\n",
    "#     for col in range(4):\n",
    "#         psf = mfiles[col].get_psf(obj, 0)\n",
    "#         axs[row, col].imshow(np.arcsinh(psf/np.std(psf[20, :])), origin=\"lower\", cmap=\"rocket\")\n",
    "#         axs[row, col].grid(False)"
   ]
  },
  {
   "cell_type": "code",
   "execution_count": null,
   "id": "2d868ee4",
   "metadata": {},
   "outputs": [],
   "source": [
    "psf = mfiles[1].get_psf(9008, 0)\n",
    "\n",
    "fig, axs = pplt.subplots()\n",
    "axs.imshow(psf)"
   ]
  },
  {
   "cell_type": "code",
   "execution_count": null,
   "id": "c8e8c7c2",
   "metadata": {},
   "outputs": [],
   "source": [
    "import fitsio\n",
    "d = fitsio.read(\"DES0221-0750_r5592p01_%s_pizza-cutter-slices.fits.fz\" % \"r\", ext=\"epochs_info\")"
   ]
  },
  {
   "cell_type": "code",
   "execution_count": null,
   "id": "b6b0c232",
   "metadata": {},
   "outputs": [],
   "source": [
    "msk = d[\"id\"] == 9008"
   ]
  },
  {
   "cell_type": "code",
   "execution_count": null,
   "id": "e8a68681",
   "metadata": {},
   "outputs": [],
   "source": [
    "d[msk]"
   ]
  },
  {
   "cell_type": "code",
   "execution_count": null,
   "id": "4f3515e3",
   "metadata": {},
   "outputs": [],
   "source": [
    "ii = fitsio.read(\"DES0221-0750_r5592p01_%s_pizza-cutter-slices.fits.fz\" % \"r\", ext=\"image_info\")"
   ]
  },
  {
   "cell_type": "code",
   "execution_count": null,
   "id": "a5b9bfb9",
   "metadata": {},
   "outputs": [],
   "source": [
    "ii[d[msk][\"image_id\"]][\"image_path\"]"
   ]
  },
  {
   "cell_type": "code",
   "execution_count": null,
   "id": "41cd9edd",
   "metadata": {},
   "outputs": [],
   "source": []
  },
  {
   "cell_type": "code",
   "execution_count": null,
   "id": "dbd7e29a",
   "metadata": {},
   "outputs": [],
   "source": [
    "from pizza_cutter.des_pizza_cutter._piff_tools import compute_piff_flags"
   ]
  },
  {
   "cell_type": "code",
   "execution_count": null,
   "id": "050fdeba",
   "metadata": {},
   "outputs": [],
   "source": [
    "import piff\n",
    "\n",
    "piffs = []\n",
    "psf_imgs = []\n",
    "piff_flags = []\n",
    "einds = np.where(msk)[0]\n",
    "for eind in einds:\n",
    "    arr = d[eind:eind+1]\n",
    "    image_id = arr[\"image_id\"][0]\n",
    "    fname = ii[image_id][\"image_path\"]\n",
    "    src = None\n",
    "    for i, _src in enumerate(yml[\"src_info\"]):\n",
    "        if _src[\"image_path\"].endswith(fname.split(\"/\")[1]):\n",
    "            src = _src\n",
    "            \n",
    "    assert src is not None, fname.split(\"/\")[1]\n",
    "    print(fname, src[\"piff_path\"])\n",
    "    piffs.append(piff.read(src[\"piff_path\"]))\n",
    "    row = arr[\"psf_row_start\"][0] + 13\n",
    "    col = arr[\"psf_col_start\"][0] + 13\n",
    "    print(row, col, src[\"piff_info\"])\n",
    "    psf_imgs.append(piffs[-1].draw(x=col, y=row, GI_COLOR=0.61, chipnum=list(piffs[-1].wcs.keys())[0]).array)\n",
    "    piff_flags.append(compute_piff_flags(\n",
    "        piff_info=src[\"piff_info\"],\n",
    "        max_fwhm_cen=3.6, \n",
    "        min_nstar=25, \n",
    "        max_exp_T_mean_fac=4, \n",
    "        max_ccd_T_std_fac=0.3,\n",
    "    ))"
   ]
  },
  {
   "cell_type": "code",
   "execution_count": null,
   "id": "c54b9368",
   "metadata": {},
   "outputs": [],
   "source": [
    "piff_flags"
   ]
  },
  {
   "cell_type": "code",
   "execution_count": null,
   "id": "bf57f097",
   "metadata": {},
   "outputs": [],
   "source": [
    "fig, axs = pplt.subplots(nrows=len(psf_imgs), ncols=1)\n",
    "\n",
    "for i, ax in enumerate(axs):\n",
    "    ax.imshow(psf_imgs[i])\n",
    "    print(psf_imgs[i].sum())"
   ]
  },
  {
   "cell_type": "code",
   "execution_count": null,
   "id": "ab18e4c2",
   "metadata": {},
   "outputs": [],
   "source": []
  },
  {
   "cell_type": "code",
   "execution_count": null,
   "id": "fe178ec7",
   "metadata": {},
   "outputs": [],
   "source": []
  },
  {
   "cell_type": "code",
   "execution_count": null,
   "id": "c7bf9cd6",
   "metadata": {},
   "outputs": [],
   "source": [
    "%matplotlib inline"
   ]
  },
  {
   "cell_type": "code",
   "execution_count": null,
   "id": "53ca80d0",
   "metadata": {
    "scrolled": false
   },
   "outputs": [],
   "source": []
  },
  {
   "cell_type": "code",
   "execution_count": 3,
   "id": "c727641e",
   "metadata": {},
   "outputs": [],
   "source": [
    "m = meds.MEDS(\"DES0221-0750_r_des-pizza-slices-y6-test_meds-pizza-slices-range9005-9010.fits.fz\")"
   ]
  },
  {
   "cell_type": "code",
   "execution_count": 4,
   "id": "8957431d",
   "metadata": {},
   "outputs": [
    {
     "data": {
      "text/plain": [
       "<matplotlib.image.AxesImage at 0x10632e820>"
      ]
     },
     "execution_count": 4,
     "metadata": {},
     "output_type": "execute_result"
    },
    {
     "data": {
      "image/png": "[encoded data removed]",
      "text/plain": [
       "Figure(nrows=1, ncols=1, refwidth=2.5)"
      ]
     },
     "metadata": {
      "image/png": {
       "height": 284,
       "width": 289
      }
     },
     "output_type": "display_data"
    }
   ],
   "source": [
    "psf = m.get_psf(9008, 0)\n",
    "\n",
    "fig, axs = pplt.subplots()\n",
    "axs.imshow(psf)"
   ]
  },
  {
   "cell_type": "code",
   "execution_count": 5,
   "id": "c598fd47",
   "metadata": {},
   "outputs": [],
   "source": [
    "import fitsio\n",
    "ei = fitsio.read(\"DES0221-0750_r_des-pizza-slices-y6-test_meds-pizza-slices-range9005-9010.fits.fz\", ext=\"epochs_info\")"
   ]
  },
  {
   "cell_type": "code",
   "execution_count": 6,
   "id": "c8c10b1b",
   "metadata": {},
   "outputs": [
    {
     "data": {
      "text/plain": [
       "array([(9008,  41,  0, 1206, 1599, 200, 1293, 1686, 25, 0.18500005),\n",
       "       (9008,  66,  0, 2457, 1073, 200, 2544, 1160, 25, 0.23099706),\n",
       "       (9008,  73,  0,  992, 1587, 200, 1079, 1674, 25, 0.13306306),\n",
       "       (9008,  89,  0,  151, 1527, 200,  238, 1614, 25, 0.2363372 ),\n",
       "       (9008, 152,  0, 2062, 1324, 200, 2149, 1411, 25, 0.21460263),\n",
       "       (9008,  19, 32,  388,  728, 200,  475,  815, 25, 0.        ),\n",
       "       (9008, 126, 32,  164,  596, 200,  251,  683, 25, 0.        )],\n",
       "      dtype=[('id', '>i8'), ('image_id', '>i8'), ('flags', '>i4'), ('row_start', '>i8'), ('col_start', '>i8'), ('box_size', '>i8'), ('psf_row_start', '>i8'), ('psf_col_start', '>i8'), ('psf_box_size', '>i8'), ('weight', '>f8')])"
      ]
     },
     "execution_count": 6,
     "metadata": {},
     "output_type": "execute_result"
    }
   ],
   "source": [
    "ei[ei[\"id\"] == 9008]"
   ]
  },
  {
   "cell_type": "code",
   "execution_count": null,
   "id": "9844203c",
   "metadata": {},
   "outputs": [],
   "source": [
    "2**5"
   ]
  },
  {
   "cell_type": "code",
   "execution_count": null,
   "id": "99344d0c",
   "metadata": {},
   "outputs": [],
   "source": []
  }
 ],
 "metadata": {
  "kernelspec": {
   "display_name": "Python [conda env:desy6] *",
   "language": "python",
   "name": "conda-env-desy6-py"
  },
  "language_info": {
   "codemirror_mode": {
    "name": "ipython",
    "version": 3
   },
   "file_extension": ".py",
   "mimetype": "text/x-python",
   "name": "python",
   "nbconvert_exporter": "python",
   "pygments_lexer": "ipython3",
   "version": "3.8.12"
  }
 },
 "nbformat": 4,
 "nbformat_minor": 5
}
