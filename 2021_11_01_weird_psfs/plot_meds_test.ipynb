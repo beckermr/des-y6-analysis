{
 "cells": [
  {
   "cell_type": "code",
   "execution_count": null,
   "id": "d325a12b",
   "metadata": {},
   "outputs": [],
   "source": [
    "import meds\n",
    "import proplot as pplt\n",
    "import numpy as np\n",
    "\n",
    "%matplotlib inline"
   ]
  },
  {
   "cell_type": "code",
   "execution_count": null,
   "id": "0b0ef13c",
   "metadata": {},
   "outputs": [],
   "source": [
    "m = meds.MEDS(\"DES0221-0750_r_des-pizza-slices-y6-test_meds-pizza-slices-range9005-9010.fits.fz\")"
   ]
  },
  {
   "cell_type": "code",
   "execution_count": null,
   "id": "ac627e7f",
   "metadata": {},
   "outputs": [],
   "source": [
    "start = 9005\n",
    "stop = 9010\n",
    "\n",
    "num = stop - start\n",
    "\n",
    "fig, axs = pplt.subplots(nrows=2, ncols=num, share=0)\n",
    "\n",
    "for i in range(num):\n",
    "    img = m.get_cutout(start+i, 0)\n",
    "    wgt = m.get_cutout(start+i, 0, type=\"weight\")\n",
    "    axs[0, i].imshow(np.arcsinh(img*np.sqrt(wgt)), origin='lower', cmap='rocket')\n",
    "    \n",
    "    psf = m.get_cutout(start+i, 0, type=\"psf\")\n",
    "    axs[1, i].imshow(psf, origin='lower', cmap='rocket')"
   ]
  },
  {
   "cell_type": "code",
   "execution_count": null,
   "id": "efbdf8d1",
   "metadata": {},
   "outputs": [],
   "source": [
    "import fitsio\n",
    "\n",
    "ei = fitsio.read(\n",
    "    \"DES0221-0750_r_des-pizza-slices-y6-test_meds-pizza-slices-range9005-9010.fits.fz\", \n",
    "    ext=\"epochs_info\",\n",
    ")"
   ]
  },
  {
   "cell_type": "code",
   "execution_count": null,
   "id": "b25c647b",
   "metadata": {},
   "outputs": [],
   "source": [
    "ei[\"flags\"]"
   ]
  },
  {
   "cell_type": "code",
   "execution_count": null,
   "id": "16450869",
   "metadata": {},
   "outputs": [],
   "source": [
    "2**5"
   ]
  },
  {
   "cell_type": "code",
   "execution_count": null,
   "id": "fef21247",
   "metadata": {},
   "outputs": [],
   "source": []
  }
 ],
 "metadata": {
  "kernelspec": {
   "display_name": "Python [conda env:desy6] *",
   "language": "python",
   "name": "conda-env-desy6-py"
  },
  "language_info": {
   "codemirror_mode": {
    "name": "ipython",
    "version": 3
   },
   "file_extension": ".py",
   "mimetype": "text/x-python",
   "name": "python",
   "nbconvert_exporter": "python",
   "pygments_lexer": "ipython3",
   "version": "3.8.12"
  }
 },
 "nbformat": 4,
 "nbformat_minor": 5
}
