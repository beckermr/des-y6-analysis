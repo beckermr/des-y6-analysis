{
 "cells": [
  {
   "cell_type": "code",
   "execution_count": null,
   "id": "fc98a1d4",
   "metadata": {},
   "outputs": [],
   "source": [
    "import numpy as np\n",
    "import proplot as pplt\n",
    "import fitsio\n",
    "import glob\n",
    "\n",
    "%matplotlib inline"
   ]
  },
  {
   "cell_type": "code",
   "execution_count": null,
   "id": "097196bb",
   "metadata": {},
   "outputs": [],
   "source": [
    "fnames = glob.glob(\"cat_*\", recursive=True)\n",
    "\n",
    "d = np.concatenate([fitsio.read(f, lower=True) for f in fnames])"
   ]
  },
  {
   "cell_type": "code",
   "execution_count": null,
   "id": "c8dd6e5d",
   "metadata": {},
   "outputs": [],
   "source": [
    "msk = (\n",
    "    (d[\"mask_flags\"] == 0)\n",
    "    & (d[\"flags\"] == 0)\n",
    "    & (d[\"mdet_s2n\"] > 10)\n",
    "    & (d[\"mdet_t_ratio\"] > 1.2)\n",
    "    & (d[\"mfrac\"] < 0.1)\n",
    ")\n",
    "\n",
    "bin_edges = np.quantile(\n",
    "    np.hstack([d[\"psfrec_g_1\"][msk], d[\"psfrec_g_2\"][msk]]), \n",
    "    np.linspace(0, 1, 16),\n",
    ")\n",
    "print(bin_edges)    "
   ]
  },
  {
   "cell_type": "code",
   "execution_count": null,
   "id": "29f6c7e2",
   "metadata": {},
   "outputs": [],
   "source": [
    "def _bin_stats(bin_edges, binvals, mdet_step, g1, g2):\n",
    "    binds = np.searchsorted(bin_edges, binvals, side='left')\n",
    "    binds = np.clip(binds, 0, len(bin_edges)-2)\n",
    "    \n",
    "    res = {}\n",
    "    for col in [\"g1\", \"g2\", \"g1p\", \"g1m\", \"g2p\", \"g2m\"]:\n",
    "        res[col] = np.zeros(len(bin_edges)-1)\n",
    "        res[\"n_%s\" % col] = np.zeros(len(bin_edges)-1)\n",
    "    \n",
    "    for step in [\"noshear\", \"1p\", \"1m\", \"2p\", \"2m\"]:\n",
    "        msk = mdet_step == step\n",
    "        if step == \"noshear\":\n",
    "            np.add.at(res[\"g1\"], binds[msk], g1[msk])\n",
    "            np.add.at(res[\"n_g1\"], binds[msk], 1)\n",
    "            np.add.at(res[\"g2\"], binds[msk], g2[msk])\n",
    "            np.add.at(res[\"n_g2\"], binds[msk], 1)\n",
    "        elif step == \"1p\":\n",
    "            np.add.at(res[\"g1p\"], binds[msk], g1[msk])\n",
    "            np.add.at(res[\"n_g1p\"], binds[msk], 1)\n",
    "        elif step == \"1m\":\n",
    "            np.add.at(res[\"g1m\"], binds[msk], g1[msk])\n",
    "            np.add.at(res[\"n_g1m\"], binds[msk], 1)\n",
    "        elif step == \"2p\":\n",
    "            np.add.at(res[\"g2p\"], binds[msk], g2[msk])\n",
    "            np.add.at(res[\"n_g2p\"], binds[msk], 1)\n",
    "        elif step == \"2m\":\n",
    "            np.add.at(res[\"g2m\"], binds[msk], g2[msk])\n",
    "            np.add.at(res[\"n_g2m\"], binds[msk], 1)\n",
    "    return res"
   ]
  },
  {
   "cell_type": "code",
   "execution_count": null,
   "id": "16bc8998",
   "metadata": {},
   "outputs": [],
   "source": [
    "res = _bin_stats(\n",
    "    bin_edges, \n",
    "    d[\"psfrec_g_1\"][msk], \n",
    "    d[\"mdet_step\"][msk], \n",
    "    d[\"mdet_g_1\"][msk], \n",
    "    d[\"mdet_g_2\"][msk],\n",
    ")"
   ]
  },
  {
   "cell_type": "code",
   "execution_count": null,
   "id": "1bd05b00",
   "metadata": {},
   "outputs": [],
   "source": [
    "R11 = (res[\"g1p\"]/res[\"n_g1p\"] - res[\"g1m\"]/res[\"n_g1m\"])\n",
    "g1 = res[\"g1\"]/res[\"n_g1\"]\n",
    "\n",
    "R22 = (res[\"g2p\"]/res[\"n_g2p\"] - res[\"g2m\"]/res[\"n_g2m\"])\n",
    "g2 = res[\"g2\"]/res[\"n_g2\"]\n",
    "\n",
    "Rbar = np.mean(R11) + np.mean(R22)"
   ]
  },
  {
   "cell_type": "code",
   "execution_count": null,
   "id": "584c8b92",
   "metadata": {},
   "outputs": [],
   "source": [
    "fig, axs = pplt.subplots()\n",
    "axs.plot(bin_edges[:-1][res[\"n_g1\"] > 1e1], (g1/Rbar)[res[\"n_g1\"] > 1e1], \".\")\n",
    "axs.plot(bin_edges[:-1][res[\"n_g2\"] > 1e1], (g2/Rbar)[res[\"n_g2\"] > 1e1], \".\")"
   ]
  },
  {
   "cell_type": "code",
   "execution_count": null,
   "id": "0b88b30a",
   "metadata": {},
   "outputs": [],
   "source": [
    "d.dtype.names"
   ]
  },
  {
   "cell_type": "code",
   "execution_count": null,
   "id": "76b42f8f",
   "metadata": {},
   "outputs": [],
   "source": [
    "len(np.unique(d[\"tilename\"]))"
   ]
  },
  {
   "cell_type": "code",
   "execution_count": null,
   "id": "58eb7391",
   "metadata": {},
   "outputs": [],
   "source": []
  }
 ],
 "metadata": {
  "kernelspec": {
   "display_name": "Python [conda env:desy6]",
   "language": "python",
   "name": "conda-env-desy6-py"
  },
  "language_info": {
   "codemirror_mode": {
    "name": "ipython",
    "version": 3
   },
   "file_extension": ".py",
   "mimetype": "text/x-python",
   "name": "python",
   "nbconvert_exporter": "python",
   "pygments_lexer": "ipython3",
   "version": "3.9.7"
  }
 },
 "nbformat": 4,
 "nbformat_minor": 5
}
