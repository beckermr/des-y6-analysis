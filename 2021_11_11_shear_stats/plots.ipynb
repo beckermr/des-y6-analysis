{
 "cells": [
  {
   "cell_type": "code",
   "execution_count": 1,
   "id": "fc98a1d4",
   "metadata": {},
   "outputs": [],
   "source": [
    "import numpy as np\n",
    "import proplot as pplt\n",
    "import fitsio\n",
    "import glob\n",
    "\n",
    "%matplotlib inline"
   ]
  },
  {
   "cell_type": "code",
   "execution_count": 54,
   "id": "097196bb",
   "metadata": {},
   "outputs": [],
   "source": [
    "fnames = glob.glob(\"cat_*\", recursive=True)\n",
    "\n",
    "d = np.concatenate([fitsio.read(f, lower=True) for f in fnames])"
   ]
  },
  {
   "cell_type": "code",
   "execution_count": 59,
   "id": "c8dd6e5d",
   "metadata": {},
   "outputs": [
    {
     "name": "stdout",
     "output_type": "stream",
     "text": [
      "[-2.59658135e-01 -1.63830500e-02 -1.23423409e-02 -9.74912675e-03\n",
      " -7.67673964e-03 -5.90821885e-03 -4.26948475e-03 -2.71923121e-03\n",
      " -1.22685253e-03  2.77857553e-04  1.89453868e-03  3.70081124e-03\n",
      "  5.69190002e-03  8.17618851e-03  1.18153624e-02  7.81977466e-01]\n"
     ]
    }
   ],
   "source": [
    "msk = (\n",
    "    (d[\"mask_flags\"] == 0)\n",
    "    & (d[\"flags\"] == 0)\n",
    "    & (d[\"mdet_s2n\"] > 10)\n",
    "    & (d[\"mdet_t_ratio\"] > 1.2)\n",
    "    & (d[\"mfrac\"] < 0.1)\n",
    ")\n",
    "\n",
    "bin_edges = np.quantile(\n",
    "    np.hstack([d[\"psfrec_g_1\"][msk], d[\"psfrec_g_2\"][msk]]), \n",
    "    np.linspace(0, 1, 16),\n",
    ")\n",
    "print(bin_edges)    "
   ]
  },
  {
   "cell_type": "code",
   "execution_count": 60,
   "id": "29f6c7e2",
   "metadata": {},
   "outputs": [],
   "source": [
    "def _bin_stats(bin_edges, binvals, mdet_step, g1, g2):\n",
    "    binds = np.searchsorted(bin_edges, binvals, side='left')\n",
    "    binds = np.clip(binds, 0, len(bin_edges)-2)\n",
    "    \n",
    "    res = {}\n",
    "    for col in [\"g1\", \"g2\", \"g1p\", \"g1m\", \"g2p\", \"g2m\"]:\n",
    "        res[col] = np.zeros(len(bin_edges)-1)\n",
    "        res[\"n_%s\" % col] = np.zeros(len(bin_edges)-1)\n",
    "    \n",
    "    for step in [\"noshear\", \"1p\", \"1m\", \"2p\", \"2m\"]:\n",
    "        msk = mdet_step == step\n",
    "        if step == \"noshear\":\n",
    "            np.add.at(res[\"g1\"], binds[msk], g1[msk])\n",
    "            np.add.at(res[\"n_g1\"], binds[msk], 1)\n",
    "            np.add.at(res[\"g2\"], binds[msk], g2[msk])\n",
    "            np.add.at(res[\"n_g2\"], binds[msk], 1)\n",
    "        elif step == \"1p\":\n",
    "            np.add.at(res[\"g1p\"], binds[msk], g1[msk])\n",
    "            np.add.at(res[\"n_g1p\"], binds[msk], 1)\n",
    "        elif step == \"1m\":\n",
    "            np.add.at(res[\"g1m\"], binds[msk], g1[msk])\n",
    "            np.add.at(res[\"n_g1m\"], binds[msk], 1)\n",
    "        elif step == \"2p\":\n",
    "            np.add.at(res[\"g2p\"], binds[msk], g2[msk])\n",
    "            np.add.at(res[\"n_g2p\"], binds[msk], 1)\n",
    "        elif step == \"2m\":\n",
    "            np.add.at(res[\"g2m\"], binds[msk], g2[msk])\n",
    "            np.add.at(res[\"n_g2m\"], binds[msk], 1)\n",
    "    return res"
   ]
  },
  {
   "cell_type": "code",
   "execution_count": 87,
   "id": "16bc8998",
   "metadata": {},
   "outputs": [],
   "source": [
    "res = _bin_stats(\n",
    "    bin_edges, \n",
    "    d[\"psfrec_g_1\"][msk], \n",
    "    d[\"mdet_step\"][msk], \n",
    "    d[\"mdet_g_1\"][msk], \n",
    "    d[\"mdet_g_2\"][msk],\n",
    ")"
   ]
  },
  {
   "cell_type": "code",
   "execution_count": 91,
   "id": "1bd05b00",
   "metadata": {},
   "outputs": [],
   "source": [
    "R11 = (res[\"g1p\"]/res[\"n_g1p\"] - res[\"g1m\"]/res[\"n_g1m\"])\n",
    "g1 = res[\"g1\"]/res[\"n_g1\"]\n",
    "\n",
    "R22 = (res[\"g2p\"]/res[\"n_g2p\"] - res[\"g2m\"]/res[\"n_g2m\"])\n",
    "g2 = res[\"g2\"]/res[\"n_g2\"]\n",
    "\n",
    "Rbar = np.mean(R11) + np.mean(R22)"
   ]
  },
  {
   "cell_type": "code",
   "execution_count": 92,
   "id": "584c8b92",
   "metadata": {},
   "outputs": [
    {
     "data": {
      "text/plain": [
       "<a list of 1 Line2D objects>"
      ]
     },
     "execution_count": 92,
     "metadata": {},
     "output_type": "execute_result"
    },
    {
     "data": {
      "image/png": "[encoded data removed]",
      "text/plain": [
       "Figure(nrows=1, ncols=1, refwidth=2.5)"
      ]
     },
     "metadata": {
      "image/png": {
       "height": 282,
       "width": 302
      }
     },
     "output_type": "display_data"
    }
   ],
   "source": [
    "fig, axs = pplt.subplots()\n",
    "axs.plot(bin_edges[:-1][res[\"n_g1\"] > 1e1], (g1/Rbar)[res[\"n_g1\"] > 1e1], \".\")\n",
    "axs.plot(bin_edges[:-1][res[\"n_g2\"] > 1e1], (g2/Rbar)[res[\"n_g2\"] > 1e1], \".\")"
   ]
  },
  {
   "cell_type": "code",
   "execution_count": 93,
   "id": "0b88b30a",
   "metadata": {},
   "outputs": [
    {
     "data": {
      "text/plain": [
       "('id',\n",
       " 'slice_id',\n",
       " 'mdet_step',\n",
       " 'ra',\n",
       " 'dec',\n",
       " 'ra_det',\n",
       " 'dec_det',\n",
       " 'row_det',\n",
       " 'col_det',\n",
       " 'irow',\n",
       " 'icol',\n",
       " 'slice_row',\n",
       " 'slice_col',\n",
       " 'slice_row_det',\n",
       " 'slice_col_det',\n",
       " 'mask_flags',\n",
       " 'filename',\n",
       " 'tilename',\n",
       " 'flags',\n",
       " 'mdet_flags',\n",
       " 'mdet_s2n',\n",
       " 'mdet_t',\n",
       " 'mdet_t_err',\n",
       " 'mdet_g_1',\n",
       " 'mdet_g_2',\n",
       " 'mdet_g_cov_1_1',\n",
       " 'mdet_g_cov_1_2',\n",
       " 'mdet_g_cov_2_1',\n",
       " 'mdet_g_cov_2_2',\n",
       " 'psf_g_1',\n",
       " 'psf_g_2',\n",
       " 'psf_t',\n",
       " 'mdet_t_ratio',\n",
       " 'mdet_band_flux_flags',\n",
       " 'mdet_r_flux',\n",
       " 'mdet_i_flux',\n",
       " 'mdet_z_flux',\n",
       " 'mdet_r_flux_err',\n",
       " 'mdet_i_flux_err',\n",
       " 'mdet_z_flux_err',\n",
       " 'ormask',\n",
       " 'mfrac',\n",
       " 'bmask',\n",
       " 'psfrec_flags',\n",
       " 'psfrec_g_1',\n",
       " 'psfrec_g_2',\n",
       " 'psfrec_t')"
      ]
     },
     "execution_count": 93,
     "metadata": {},
     "output_type": "execute_result"
    }
   ],
   "source": [
    "d.dtype.names"
   ]
  },
  {
   "cell_type": "code",
   "execution_count": 95,
   "id": "76b42f8f",
   "metadata": {},
   "outputs": [
    {
     "data": {
      "text/plain": [
       "39"
      ]
     },
     "execution_count": 95,
     "metadata": {},
     "output_type": "execute_result"
    }
   ],
   "source": [
    "len(np.unique(d[\"tilename\"]))"
   ]
  },
  {
   "cell_type": "code",
   "execution_count": null,
   "id": "58eb7391",
   "metadata": {},
   "outputs": [],
   "source": []
  }
 ],
 "metadata": {
  "kernelspec": {
   "display_name": "Python [conda env:desy6] *",
   "language": "python",
   "name": "conda-env-desy6-py"
  },
  "language_info": {
   "codemirror_mode": {
    "name": "ipython",
    "version": 3
   },
   "file_extension": ".py",
   "mimetype": "text/x-python",
   "name": "python",
   "nbconvert_exporter": "python",
   "pygments_lexer": "ipython3",
   "version": "3.8.12"
  }
 },
 "nbformat": 4,
 "nbformat_minor": 5
}
