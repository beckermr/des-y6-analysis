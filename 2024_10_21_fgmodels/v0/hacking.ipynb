{
 "cells": [
  {
   "cell_type": "code",
   "execution_count": 26,
   "id": "5c0c5f24-9f49-4d35-8127-91836356d77a",
   "metadata": {},
   "outputs": [],
   "source": [
    "import jax\n",
    "jax.config.update(\"jax_enable_x64\", True)\n",
    "\n",
    "import jax.numpy as jnp  # noqa: E402\n",
    "import numpy as np  # noqa: E402\n",
    "import scipy.optimize  # noqa: E402\n",
    "\n",
    "DZ = 0.01\n",
    "ZVALS = np.linspace(0, 3, 301)[:-1] + DZ \n",
    "ZBINS = np.concatenate([np.zeros(1), ZVALS])\n",
    "ZLOW = ZBINS[:-1]\n",
    "ZHIGH = ZBINS[1:]"
   ]
  },
  {
   "cell_type": "code",
   "execution_count": 294,
   "id": "db6e4a8d-db5c-43f6-aea4-334c9470dcce",
   "metadata": {},
   "outputs": [],
   "source": [
    "@jax.jit\n",
    "def sompz_integral(y, x, low, high):\n",
    "    \"\"\"Integrate a linearly interpolated set of values \n",
    "    on a grid in a range (low, high).\"\"\"\n",
    "    low = jnp.minimum(x[-1], jnp.maximum(low, x[0]))\n",
    "    high = jnp.minimum(x[-1], jnp.maximum(high, x[0]))\n",
    "    low_ind = jnp.digitize(low, x)\n",
    "    high_ind = jnp.digitize(high, x, right=True)\n",
    "    dx = x[1:] - x[:-1]\n",
    "\n",
    "    # high point not in same bin as low point\n",
    "    not_in_single_bin = high_ind > low_ind  \n",
    "\n",
    "    # at least one bin between high point and low point\n",
    "    has_cen_contribution = high_ind - 1 > low_ind\n",
    "    \n",
    "    # fractional bit on the left\n",
    "    ileft = jax.lax.select(\n",
    "        not_in_single_bin,\n",
    "        (y[low_ind-1] + y[low_ind]) / 2.0 * (1.0 - (low - x[low_ind-1]) / dx[low_ind-1]) * dx[low_ind-1],\n",
    "        (y[low_ind-1] + y[low_ind]) / 2.0 * (high - low),\n",
    "    )\n",
    "\n",
    "    # fractional bit on the right\n",
    "    iright = jax.lax.select(\n",
    "        not_in_single_bin,\n",
    "        (y[high_ind-1] + y[high_ind]) / 2.0 * (high - x[high_ind-1]),\n",
    "        0.0\n",
    "    )\n",
    "\n",
    "    # central bits\n",
    "    yint = (y[1:] + y[:-1]) / 2.0 * dx\n",
    "    yind = jnp.arange(yint.shape[0])\n",
    "    msk = (yind >= low_ind) & (yind < high_ind - 1)\n",
    "    icen = jax.lax.select(\n",
    "        jnp.any(msk),\n",
    "        jnp.sum(jnp.where(\n",
    "            msk,\n",
    "            yint,\n",
    "            jnp.zeros_like(yint),\n",
    "        )),\n",
    "        0.0,\n",
    "    )\n",
    "\n",
    "    return (ileft + icen + iright)"
   ]
  },
  {
   "cell_type": "code",
   "execution_count": 297,
   "id": "1b8aac03-5110-43b8-8ced-8328cf534404",
   "metadata": {},
   "outputs": [
    {
     "data": {
      "text/plain": [
       "Array(2.7, dtype=float64)"
      ]
     },
     "execution_count": 297,
     "metadata": {},
     "output_type": "execute_result"
    }
   ],
   "source": [
    "y = np.arange(10, dtype=float) * 0 + 1\n",
    "dx = 1\n",
    "x = np.arange(10) * dx\n",
    "\n",
    "sompz_integral(y, x, 3, 5.7)"
   ]
  },
  {
   "cell_type": "code",
   "execution_count": 15,
   "id": "79d4fdf8-f8bd-4194-bf72-b41c5cde0ba1",
   "metadata": {},
   "outputs": [
    {
     "data": {
      "text/plain": [
       "Array([0, 1, 2, 3, 4, 5, 6, 7, 8, 9], dtype=int64)"
      ]
     },
     "execution_count": 15,
     "metadata": {},
     "output_type": "execute_result"
    }
   ],
   "source": [
    "jnp.arange(10)"
   ]
  },
  {
   "cell_type": "code",
   "execution_count": 53,
   "id": "7b06ab93-4182-4cd7-a84e-e275c5c94f5a",
   "metadata": {},
   "outputs": [
    {
     "data": {
      "text/plain": [
       "Array(1, dtype=int32)"
      ]
     },
     "execution_count": 53,
     "metadata": {},
     "output_type": "execute_result"
    }
   ],
   "source": [
    "jnp.digitize(0.5, jnp.arange(10))"
   ]
  },
  {
   "cell_type": "code",
   "execution_count": 45,
   "id": "157e8a50-16c6-4c4e-8ac2-a3aa46929f7c",
   "metadata": {},
   "outputs": [
    {
     "data": {
      "text/plain": [
       "(Array(3, dtype=int32), Array(3, dtype=int32))"
      ]
     },
     "execution_count": 45,
     "metadata": {},
     "output_type": "execute_result"
    }
   ],
   "source": [
    "jnp.searchsorted(jnp.arange(10), 3, side=\"right\")-1, jnp.searchsorted(jnp.arange(10), 3.5, side=\"right\")-1"
   ]
  },
  {
   "cell_type": "code",
   "execution_count": 46,
   "id": "b6b2af7a-69f0-448f-ac4d-d22872854eda",
   "metadata": {},
   "outputs": [
    {
     "data": {
      "text/plain": [
       "(Array(4, dtype=int32), Array(4, dtype=int32))"
      ]
     },
     "execution_count": 46,
     "metadata": {},
     "output_type": "execute_result"
    }
   ],
   "source": [
    "jnp.searchsorted(jnp.arange(10), 3.5, side=\"left\"), jnp.searchsorted(jnp.arange(10), 4, side=\"left\")"
   ]
  },
  {
   "cell_type": "code",
   "execution_count": 39,
   "id": "222c5f14-8c7a-410b-97c9-22263fd93a7a",
   "metadata": {},
   "outputs": [
    {
     "data": {
      "text/plain": [
       "Array(3, dtype=int32)"
      ]
     },
     "execution_count": 39,
     "metadata": {},
     "output_type": "execute_result"
    }
   ],
   "source": [
    "-1"
   ]
  },
  {
   "cell_type": "code",
   "execution_count": 27,
   "id": "c60895cb-c63e-476a-a7a8-2bb9ae5bd719",
   "metadata": {},
   "outputs": [
    {
     "data": {
      "text/plain": [
       "array([0.  , 0.  , 0.01, 0.02, 0.03, 0.04, 0.05, 0.06, 0.07, 0.08, 0.09,\n",
       "       0.1 , 0.11, 0.12, 0.13, 0.14, 0.15, 0.16, 0.17, 0.18, 0.19, 0.2 ,\n",
       "       0.21, 0.22, 0.23, 0.24, 0.25, 0.26, 0.27, 0.28, 0.29, 0.3 , 0.31,\n",
       "       0.32, 0.33, 0.34, 0.35, 0.36, 0.37, 0.38, 0.39, 0.4 , 0.41, 0.42,\n",
       "       0.43, 0.44, 0.45, 0.46, 0.47, 0.48, 0.49, 0.5 , 0.51, 0.52, 0.53,\n",
       "       0.54, 0.55, 0.56, 0.57, 0.58, 0.59, 0.6 , 0.61, 0.62, 0.63, 0.64,\n",
       "       0.65, 0.66, 0.67, 0.68, 0.69, 0.7 , 0.71, 0.72, 0.73, 0.74, 0.75,\n",
       "       0.76, 0.77, 0.78, 0.79, 0.8 , 0.81, 0.82, 0.83, 0.84, 0.85, 0.86,\n",
       "       0.87, 0.88, 0.89, 0.9 , 0.91, 0.92, 0.93, 0.94, 0.95, 0.96, 0.97,\n",
       "       0.98, 0.99, 1.  , 1.01, 1.02, 1.03, 1.04, 1.05, 1.06, 1.07, 1.08,\n",
       "       1.09, 1.1 , 1.11, 1.12, 1.13, 1.14, 1.15, 1.16, 1.17, 1.18, 1.19,\n",
       "       1.2 , 1.21, 1.22, 1.23, 1.24, 1.25, 1.26, 1.27, 1.28, 1.29, 1.3 ,\n",
       "       1.31, 1.32, 1.33, 1.34, 1.35, 1.36, 1.37, 1.38, 1.39, 1.4 , 1.41,\n",
       "       1.42, 1.43, 1.44, 1.45, 1.46, 1.47, 1.48, 1.49, 1.5 , 1.51, 1.52,\n",
       "       1.53, 1.54, 1.55, 1.56, 1.57, 1.58, 1.59, 1.6 , 1.61, 1.62, 1.63,\n",
       "       1.64, 1.65, 1.66, 1.67, 1.68, 1.69, 1.7 , 1.71, 1.72, 1.73, 1.74,\n",
       "       1.75, 1.76, 1.77, 1.78, 1.79, 1.8 , 1.81, 1.82, 1.83, 1.84, 1.85,\n",
       "       1.86, 1.87, 1.88, 1.89, 1.9 , 1.91, 1.92, 1.93, 1.94, 1.95, 1.96,\n",
       "       1.97, 1.98, 1.99, 2.  , 2.01, 2.02, 2.03, 2.04, 2.05, 2.06, 2.07,\n",
       "       2.08, 2.09, 2.1 , 2.11, 2.12, 2.13, 2.14, 2.15, 2.16, 2.17, 2.18,\n",
       "       2.19, 2.2 , 2.21, 2.22, 2.23, 2.24, 2.25, 2.26, 2.27, 2.28, 2.29,\n",
       "       2.3 , 2.31, 2.32, 2.33, 2.34, 2.35, 2.36, 2.37, 2.38, 2.39, 2.4 ,\n",
       "       2.41, 2.42, 2.43, 2.44, 2.45, 2.46, 2.47, 2.48, 2.49, 2.5 , 2.51,\n",
       "       2.52, 2.53, 2.54, 2.55, 2.56, 2.57, 2.58, 2.59, 2.6 , 2.61, 2.62,\n",
       "       2.63, 2.64, 2.65, 2.66, 2.67, 2.68, 2.69, 2.7 , 2.71, 2.72, 2.73,\n",
       "       2.74, 2.75, 2.76, 2.77, 2.78, 2.79, 2.8 , 2.81, 2.82, 2.83, 2.84,\n",
       "       2.85, 2.86, 2.87, 2.88, 2.89, 2.9 , 2.91, 2.92, 2.93, 2.94, 2.95,\n",
       "       2.96, 2.97, 2.98, 2.99])"
      ]
     },
     "execution_count": 27,
     "metadata": {},
     "output_type": "execute_result"
    }
   ],
   "source": [
    "ZBINS"
   ]
  },
  {
   "cell_type": "code",
   "execution_count": 197,
   "id": "f5e327f6-98ab-476e-b452-bf15eaac3c16",
   "metadata": {},
   "outputs": [
    {
     "data": {
      "text/plain": [
       "\u001b[0;31mSignature:\u001b[0m      \u001b[0mjnp\u001b[0m\u001b[0;34m.\u001b[0m\u001b[0mminimum\u001b[0m\u001b[0;34m(\u001b[0m\u001b[0mx1\u001b[0m\u001b[0;34m,\u001b[0m \u001b[0mx2\u001b[0m\u001b[0;34m,\u001b[0m \u001b[0;34m/\u001b[0m\u001b[0;34m)\u001b[0m\u001b[0;34m\u001b[0m\u001b[0;34m\u001b[0m\u001b[0m\n",
       "\u001b[0;31mCall signature:\u001b[0m \u001b[0mjnp\u001b[0m\u001b[0;34m.\u001b[0m\u001b[0mminimum\u001b[0m\u001b[0;34m(\u001b[0m\u001b[0;34m*\u001b[0m\u001b[0margs\u001b[0m\u001b[0;34m,\u001b[0m \u001b[0;34m**\u001b[0m\u001b[0mkwargs\u001b[0m\u001b[0;34m)\u001b[0m\u001b[0;34m\u001b[0m\u001b[0;34m\u001b[0m\u001b[0m\n",
       "\u001b[0;31mType:\u001b[0m           PjitFunction\n",
       "\u001b[0;31mString form:\u001b[0m    <PjitFunction of <function jax.numpy.minimum at 0x11e5be170>>\n",
       "\u001b[0;31mFile:\u001b[0m           ~/mambaforge/envs/work/lib/python3.10/site-packages/jax/_src/numpy/ufuncs.py\n",
       "\u001b[0;31mDocstring:\u001b[0m     \n",
       "Element-wise minimum of array elements.\n",
       "\n",
       "LAX-backend implementation of :func:`numpy.minimum`.\n",
       "\n",
       "*Original docstring below.*\n",
       "\n",
       "Compare two arrays and return a new array containing the element-wise\n",
       "minima. If one of the elements being compared is a NaN, then that\n",
       "element is returned. If both elements are NaNs then the first is\n",
       "returned. The latter distinction is important for complex NaNs, which\n",
       "are defined as at least one of the real or imaginary parts being a NaN.\n",
       "The net effect is that NaNs are propagated.\n",
       "\n",
       "Parameters\n",
       "----------\n",
       "x1, x2 : array_like\n",
       "    The arrays holding the elements to be compared.\n",
       "    If ``x1.shape != x2.shape``, they must be broadcastable to a common\n",
       "    shape (which becomes the shape of the output).\n",
       "\n",
       "Returns\n",
       "-------\n",
       "y : ndarray or scalar\n",
       "    The minimum of `x1` and `x2`, element-wise.\n",
       "    This is a scalar if both `x1` and `x2` are scalars."
      ]
     },
     "metadata": {},
     "output_type": "display_data"
    }
   ],
   "source": [
    "jnp.minimum?"
   ]
  },
  {
   "cell_type": "code",
   "execution_count": null,
   "id": "8367c051-0af6-4060-82f3-39c427f1f497",
   "metadata": {},
   "outputs": [],
   "source": []
  }
 ],
 "metadata": {
  "kernelspec": {
   "display_name": "Python [conda env:work]",
   "language": "python",
   "name": "conda-env-work-py"
  },
  "language_info": {
   "codemirror_mode": {
    "name": "ipython",
    "version": 3
   },
   "file_extension": ".py",
   "mimetype": "text/x-python",
   "name": "python",
   "nbconvert_exporter": "python",
   "pygments_lexer": "ipython3",
   "version": "3.10.12"
  }
 },
 "nbformat": 4,
 "nbformat_minor": 5
}
