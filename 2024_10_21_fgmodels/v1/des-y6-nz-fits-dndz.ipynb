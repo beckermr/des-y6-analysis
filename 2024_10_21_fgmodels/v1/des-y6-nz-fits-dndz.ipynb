{
 "cells": [
  {
   "cell_type": "code",
   "execution_count": 1,
   "id": "23a2ea54-b555-417f-82a3-e845ae574ed3",
   "metadata": {},
   "outputs": [],
   "source": [
    "import jax\n",
    "jax.config.update(\"jax_enable_x64\", True)\n",
    "\n",
    "import numpy as np\n",
    "import h5py"
   ]
  },
  {
   "cell_type": "code",
   "execution_count": 2,
   "id": "1ffeb706",
   "metadata": {},
   "outputs": [],
   "source": [
    "from des_y6_nz_modeling import (\n",
    "    nz_binned_to_interp,\n",
    "    compute_nz_binned_mean,\n",
    "    compute_lin_interp_mean,\n",
    ")"
   ]
  },
  {
   "cell_type": "code",
   "execution_count": 3,
   "id": "3ed87834",
   "metadata": {},
   "outputs": [],
   "source": [
    "with h5py.File(\"N_gamma_alpha_v1.hdf5\") as d:\n",
    "    z = d[\"redshift/true/zbinsc\"][:].astype(np.float64)[1:]\n",
    "    nzs = {}\n",
    "    for _bin in range(4):\n",
    "        nzs[_bin] = d[f\"redshift/true/bin{_bin}\"][:].astype(np.float64)[1:]\n",
    "\n",
    "DZ = z[1] - z[0]\n",
    "Z0 = z[0]\n",
    "\n",
    "assert np.allclose(DZ, 0.05)\n",
    "assert np.allclose(Z0, 0.035)\n"
   ]
  },
  {
   "cell_type": "code",
   "execution_count": 5,
   "id": "b147d1c1",
   "metadata": {},
   "outputs": [
    {
     "name": "stdout",
     "output_type": "stream",
     "text": [
      "bin   mn05         mn01         shift\n",
      "  0   0.35137865   0.35143923  6.05810680e-05\n",
      "  1   0.50898812   0.50899682  8.69600971e-06\n",
      "  2   0.78432162   0.78433202  1.04000302e-05\n",
      "  3   1.06991688   1.07000504  8.81596043e-05\n"
     ]
    }
   ],
   "source": [
    "print(\"bin   mn05         mn01         shift\")\n",
    "\n",
    "shifts = {}\n",
    "for _bin in range(4):\n",
    "    nz = nzs[_bin]\n",
    "    nz /= np.sum(nz)\n",
    "\n",
    "    mn05 = compute_nz_binned_mean(nz, DZ, Z0)\n",
    "\n",
    "    z, dndz = nz_binned_to_interp(nz, DZ, Z0)\n",
    "    zhr = np.arange(0.0, 4, 0.01)\n",
    "    dndzhr = np.interp(zhr, z, dndz, left=0, right=0)\n",
    "    mn01 = compute_lin_interp_mean(zhr, dndzhr)\n",
    "\n",
    "    shifts[_bin] = {\"mn05\": mn05, \"mn01\": mn01}\n",
    "\n",
    "    print(f\"{_bin: 3d} {mn05: 12.8f} {mn01: 12.8f} {mn01 - mn05: 12.8e}\")"
   ]
  }
 ],
 "metadata": {
  "kernelspec": {
   "display_name": "des-y6",
   "language": "python",
   "name": "python3"
  },
  "language_info": {
   "codemirror_mode": {
    "name": "ipython",
    "version": 3
   },
   "file_extension": ".py",
   "mimetype": "text/x-python",
   "name": "python",
   "nbconvert_exporter": "python",
   "pygments_lexer": "ipython3",
   "version": "3.11.11"
  }
 },
 "nbformat": 4,
 "nbformat_minor": 5
}
