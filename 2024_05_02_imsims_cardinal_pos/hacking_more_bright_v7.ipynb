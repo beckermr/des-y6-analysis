{
 "cells": [
  {
   "cell_type": "code",
   "execution_count": 1,
   "id": "9ee5de64-90e9-4b4e-b29d-1d319d20bf0b",
   "metadata": {
    "tags": []
   },
   "outputs": [],
   "source": [
    "%load_ext autoreload\n",
    "%autoreload 2"
   ]
  },
  {
   "cell_type": "code",
   "execution_count": 2,
   "id": "9d4a42a7-74ee-4d33-945d-143b277a0429",
   "metadata": {
    "tags": []
   },
   "outputs": [],
   "source": [
    "import os\n",
    "import tqdm\n",
    "import fitsio\n",
    "import matplotlib.pyplot as plt\n",
    "import healpy as hp\n",
    "import glob\n",
    "import hpgeom\n",
    "import numpy as np\n",
    "import galsim\n",
    "import yaml\n",
    "import requests\n",
    "\n",
    "# from sim_match_tools import project_to_tile, sample_from_pixel\n",
    "from montara.make_input_desgal import make_input_cosmos_cat, ratio_mag, build_resampled_cosmos_cat"
   ]
  },
  {
   "cell_type": "markdown",
   "id": "92323a16",
   "metadata": {},
   "source": [
    "## Resample Cosmos Catalog Once"
   ]
  },
  {
   "cell_type": "code",
   "execution_count": 3,
   "id": "9339e39a",
   "metadata": {
    "tags": []
   },
   "outputs": [],
   "source": [
    "cosmos = fitsio.read(\"/dvs_ro/cfs/cdirs/des/y3-image-sims/input_cosmos_v4.fits\")\n",
    "_msk = (\n",
    "    (cosmos[\"isgal\"] == 1)\n",
    "    & (cosmos[\"mask_flags\"] == 0)\n",
    ")\n",
    "gcosmos = cosmos[_msk]"
   ]
  },
  {
   "cell_type": "code",
   "execution_count": 4,
   "id": "1643d7b0",
   "metadata": {
    "tags": []
   },
   "outputs": [
    {
     "name": "stdout",
     "output_type": "stream",
     "text": [
      "renormalization factor: 1.0066240756746554\n",
      "need to draw 214119 objects\n"
     ]
    }
   ],
   "source": [
    "rcosmos = build_resampled_cosmos_cat(cosmos, 42)"
   ]
  },
  {
   "cell_type": "code",
   "execution_count": 13,
   "id": "88a639c7-96e9-4b0c-be19-e334ca686d36",
   "metadata": {
    "tags": []
   },
   "outputs": [
    {
     "data": {
      "text/plain": [
       "0"
      ]
     },
     "execution_count": 13,
     "metadata": {},
     "output_type": "execute_result"
    }
   ],
   "source": [
    "pth = os.path.join(\n",
    "    os.path.expandvars(\"$PSCRATCH\"),\n",
    "    f\"input_cosmos_v4_montara_simcat_v7_seed42.fits\",\n",
    ")\n",
    "fitsio.write(pth, rcosmos, clobber=True)\n",
    "os.system(\"chgrp des %s\" % pth)\n",
    "os.system(\"chmod g+r %s\" % pth)"
   ]
  },
  {
   "cell_type": "code",
   "execution_count": 5,
   "id": "6bf1a767",
   "metadata": {
    "tags": []
   },
   "outputs": [],
   "source": [
    "bes = np.array([17.        , 17.1010101 , 17.2020202 , 17.3030303 , 17.4040404 ,\n",
    "        17.50505051, 17.60606061, 17.70707071, 17.80808081, 17.90909091,\n",
    "        18.01010101, 18.11111111, 18.21212121, 18.31313131, 18.41414141,\n",
    "        18.51515152, 18.61616162, 18.71717172, 18.81818182, 18.91919192,\n",
    "        19.02020202, 19.12121212, 19.22222222, 19.32323232, 19.42424242,\n",
    "        19.52525253, 19.62626263, 19.72727273, 19.82828283, 19.92929293,\n",
    "        20.03030303, 20.13131313, 20.23232323, 20.33333333, 20.43434343,\n",
    "        20.53535354, 20.63636364, 20.73737374, 20.83838384, 20.93939394,\n",
    "        21.04040404, 21.14141414, 21.24242424, 21.34343434, 21.44444444,\n",
    "        21.54545455, 21.64646465, 21.74747475, 21.84848485, 21.94949495,\n",
    "        22.05050505, 22.15151515, 22.25252525, 22.35353535, 22.45454545,\n",
    "        22.55555556, 22.65656566, 22.75757576, 22.85858586, 22.95959596,\n",
    "        23.06060606, 23.16161616, 23.26262626, 23.36363636, 23.46464646,\n",
    "        23.56565657, 23.66666667, 23.76767677, 23.86868687, 23.96969697,\n",
    "        24.07070707, 24.17171717, 24.27272727, 24.37373737, 24.47474747,\n",
    "        24.57575758, 24.67676768, 24.77777778, 24.87878788, 24.97979798,\n",
    "        25.08080808, 25.18181818, 25.28282828, 25.38383838, 25.48484848,\n",
    "        25.58585859, 25.68686869, 25.78787879, 25.88888889, 25.98989899,\n",
    "        26.09090909, 26.19191919, 26.29292929, 26.39393939, 26.49494949,\n",
    "        26.5959596 , 26.6969697 , 26.7979798 , 26.8989899 , 27.        ])\n",
    "\n",
    "fnames = glob.glob(\"/pscratch/sd/c/chto100/Cardinalv3/truth_v4_v8_y6/Chinchilla-3_camv6.*.fits\")\n",
    "find = 0\n",
    "cardinal = fitsio.read(fnames[find])\n",
    "nside = 8\n",
    "pix = int(fnames[find].split(\".\")[-2])\n",
    "# cosmos = fitsio.read(\"/dvs_ro/cfs/cdirs/des/y3-image-sims/input_cosmos_v4.fits\")\n",
    "\n",
    "hgcosmos = np.histogram(gcosmos[\"mag_i_dered\"], bins=bes, density=True)[0]\n",
    "hcardinal = np.histogram(cardinal[\"TMAG\"][:, 2], bins=bes, density=True)[0]"
   ]
  },
  {
   "cell_type": "code",
   "execution_count": 6,
   "id": "191c2bf4",
   "metadata": {
    "tags": []
   },
   "outputs": [
    {
     "data": {
      "image/png": "[encoded data removed]",
      "text/plain": [
       "<Figure size 640x480 with 1 Axes>"
      ]
     },
     "metadata": {},
     "output_type": "display_data"
    }
   ],
   "source": [
    "sample = rcosmos[\"mag_i_dered\"]\n",
    "\n",
    "fig, axs = plt.subplots(1, 1)\n",
    "\n",
    "mag = (bes[:-1] + bes[1:]) / 2\n",
    "axs.hist(sample, bins=bes, density=True, alpha=0.5, label=\"sampled\")\n",
    "axs.plot(mag, hgcosmos, '-k', label=\"cosmos\")\n",
    "axs.plot(mag, hcardinal, '--r', label=\"mdet\")\n",
    "axs.set_yscale(\"log\")"
   ]
  },
  {
   "cell_type": "markdown",
   "id": "b454f78d",
   "metadata": {},
   "source": [
    "## Make a Bunch"
   ]
  },
  {
   "cell_type": "code",
   "execution_count": 7,
   "id": "bc41f966",
   "metadata": {
    "tags": []
   },
   "outputs": [],
   "source": [
    "# get the seeds\n",
    "req = requests.get('https://raw.githubusercontent.com/des-science/y6-image-sims/main/args-y6.txt')\n",
    "\n",
    "req.raise_for_status()\n",
    "\n",
    "seed_dict = {}\n",
    "for line in req.text.split('\\n'):\n",
    "    line = line.strip()\n",
    "    if not line:\n",
    "        continue\n",
    "    line = line.split()\n",
    "    seed_dict[line[0]] = [int(x) for x in line[1:]]\n",
    "\n",
    "assert len(seed_dict) == 1000\n",
    "for v in seed_dict.values():\n",
    "    assert len(v) == 10"
   ]
  },
  {
   "cell_type": "code",
   "execution_count": 9,
   "id": "e7cd1ac4",
   "metadata": {
    "tags": []
   },
   "outputs": [
    {
     "name": "stderr",
     "output_type": "stream",
     "text": [
      "100%|█████████████████████████████████████| 1000/1000 [7:04:06<00:00, 25.45s/it]\n"
     ]
    }
   ],
   "source": [
    "partial_fnames = \"\"\"\\\n",
    "/pscratch/sd/c/chto100/Cardinalv3/truth_v4_v8_y6/Chinchilla-3_camv6.277.fits\n",
    "/pscratch/sd/c/chto100/Cardinalv3/truth_v4_v8_y6/Chinchilla-3_camv6.278.fits\n",
    "/pscratch/sd/c/chto100/Cardinalv3/truth_v4_v8_y6/Chinchilla-3_camv6.281.fits\n",
    "/pscratch/sd/c/chto100/Cardinalv3/truth_v4_v8_y6/Chinchilla-3_camv6.282.fits\n",
    "/pscratch/sd/c/chto100/Cardinalv3/truth_v4_v8_y6/Chinchilla-3_camv6.304.fits\n",
    "/pscratch/sd/c/chto100/Cardinalv3/truth_v4_v8_y6/Chinchilla-3_camv6.307.fits\n",
    "/pscratch/sd/c/chto100/Cardinalv3/truth_v4_v8_y6/Chinchilla-3_camv6.316.fits\n",
    "/pscratch/sd/c/chto100/Cardinalv3/truth_v4_v8_y6/Chinchilla-3_camv6.319.fits\n",
    "/pscratch/sd/c/chto100/Cardinalv3/truth_v4_v8_y6/Chinchilla-3_camv6.341.fits\n",
    "/pscratch/sd/c/chto100/Cardinalv3/truth_v4_v8_y6/Chinchilla-3_camv6.342.fits\n",
    "/pscratch/sd/c/chto100/Cardinalv3/truth_v4_v8_y6/Chinchilla-3_camv6.345.fits\n",
    "/pscratch/sd/c/chto100/Cardinalv3/truth_v4_v8_y6/Chinchilla-3_camv6.346.fits\n",
    "/pscratch/sd/c/chto100/Cardinalv3/truth_v4_v8_y6/Chinchilla-3_camv6.357.fits\n",
    "/pscratch/sd/c/chto100/Cardinalv3/truth_v4_v8_y6/Chinchilla-3_camv6.358.fits\n",
    "/pscratch/sd/c/chto100/Cardinalv3/truth_v4_v8_y6/Chinchilla-3_camv6.361.fits\n",
    "/pscratch/sd/c/chto100/Cardinalv3/truth_v4_v8_y6/Chinchilla-3_camv6.362.fits\n",
    "/pscratch/sd/c/chto100/Cardinalv3/truth_v4_v8_y6/Chinchilla-3_camv6.421.fits\n",
    "/pscratch/sd/c/chto100/Cardinalv3/truth_v4_v8_y6/Chinchilla-3_camv6.422.fits\n",
    "/pscratch/sd/c/chto100/Cardinalv3/truth_v4_v8_y6/Chinchilla-3_camv6.425.fits\n",
    "/pscratch/sd/c/chto100/Cardinalv3/truth_v4_v8_y6/Chinchilla-3_camv6.426.fits\n",
    "/pscratch/sd/c/chto100/Cardinalv3/truth_v4_v8_y6/Chinchilla-3_camv6.432.fits\n",
    "/pscratch/sd/c/chto100/Cardinalv3/truth_v4_v8_y6/Chinchilla-3_camv6.435.fits\n",
    "/pscratch/sd/c/chto100/Cardinalv3/truth_v4_v8_y6/Chinchilla-3_camv6.444.fits\n",
    "/pscratch/sd/c/chto100/Cardinalv3/truth_v4_v8_y6/Chinchilla-3_camv6.447.fits\"\"\".splitlines()\n",
    "\n",
    "partial_fnames = [os.path.basename(fn) for fn in partial_fnames]\n",
    "\n",
    "all_fnames = set(\n",
    "    os.path.basename(fn)\n",
    "    for fn in glob.glob(\"/pscratch/sd/c/chto100/Cardinalv3/truth_v4_v8_y6/Chinchilla-3_camv6.*.fits\")\n",
    ")\n",
    "init_fnames = len(all_fnames)\n",
    "all_fnames = all_fnames - set(partial_fnames)\n",
    "assert len(all_fnames) == init_fnames - len(partial_fnames)\n",
    "all_fnames = sorted(all_fnames)\n",
    "all_fnames = [os.path.join(\"/pscratch/sd/c/chto100/Cardinalv3/truth_v4_v8_y6/\", fn) for fn in all_fnames]\n",
    "\n",
    "done = 0\n",
    "\n",
    "nside = 8\n",
    "n_per_tile = 1\n",
    "for tname, seeds in tqdm.tqdm(seed_dict.items(), ncols=80, total=len(seed_dict)):\n",
    "    tile = (\n",
    "        \"/global/cfs/cdirs/desbalro/des-pizza-slices-y6/pizza_cutter_info/\"\n",
    "        f\"{tname}_g_pizza_cutter_info.yaml\"\n",
    "    )\n",
    "    with open(tile) as f:\n",
    "        info = yaml.safe_load(f)\n",
    "    wcs = galsim.FitsWCS(info[\"image_path\"], hdu=1)\n",
    "\n",
    "    for seed_ind in range(n_per_tile):\n",
    "        _seed = seeds[seed_ind]\n",
    "        _rng = np.random.RandomState(_seed)\n",
    "\n",
    "        find = int(_rng.choice(len(all_fnames)))\n",
    "        pix = int(all_fnames[find].split(\".\")[-2])\n",
    "        cardinal = fitsio.read(all_fnames[find])\n",
    "\n",
    "        tcat = make_input_cosmos_cat(\n",
    "            cosmos=rcosmos,\n",
    "            sim=cardinal,\n",
    "            nside=nside,\n",
    "            pix=pix,\n",
    "            seed=_seed,\n",
    "            wcs=wcs,\n",
    "            dz=0.1,\n",
    "            dustmap_fname=\"SFD_dust_4096.hsp\",\n",
    "        )\n",
    "\n",
    "        msk = (\n",
    "            (tcat[\"x_sim\"] >= 250)\n",
    "            & (tcat[\"x_sim\"] <= 9750)\n",
    "            & (tcat[\"y_sim\"] >= 250)\n",
    "            & (tcat[\"y_sim\"] <= 9750)\n",
    "            & (tcat[\"mag_i\"] <= 25)\n",
    "        )\n",
    "        _nobj = np.sum(msk)\n",
    "        assert _nobj > 40000\n",
    "        assert _nobj < 80000\n",
    "        # print(\"    # of objects:\", np.sum(msk), flush=True)\n",
    "\n",
    "        pth = os.path.join(\n",
    "            os.path.expandvars(\"$PSCRATCH\"),\n",
    "            f\"cosmos_simcat_v7_{tname}_seed{_seed}.fits\",\n",
    "        )\n",
    "\n",
    "        fitsio.write(pth, tcat, clobber=True)\n",
    "        os.system(\"chgrp des %s\" % pth)\n",
    "        os.system(\"chmod g+r %s\" % pth)\n",
    "\n",
    "        done += 1"
   ]
  },
  {
   "cell_type": "code",
   "execution_count": 10,
   "id": "ad321e23",
   "metadata": {
    "tags": []
   },
   "outputs": [
    {
     "name": "stdout",
     "output_type": "stream",
     "text": [
      "-0.006542393976942007 0.30090649395369695 0.03819898491968843\n"
     ]
    },
    {
     "data": {
      "image/png": "[encoded data removed]",
      "text/plain": [
       "<Figure size 1500x500 with 3 Axes>"
      ]
     },
     "metadata": {},
     "output_type": "display_data"
    }
   ],
   "source": [
    "msk = tcat[\"cat_index_sim\"] != -1\n",
    "assert np.all(msk)\n",
    "msk1 = (tcat[\"cat_index_sim\"] != -1) & (tcat[\"match_type_sim\"] == 1)\n",
    "msk2 = (tcat[\"cat_index_sim\"] != -1) & (tcat[\"match_type_sim\"] == 2)\n",
    "\n",
    "fig, axs = plt.subplots(nrows=1, ncols=3, figsize=(15, 5))\n",
    "\n",
    "ax = axs[0]\n",
    "be = None\n",
    "for _msk in [msk, msk1, msk2]:\n",
    "    _dz = cardinal[\"Z\"][tcat[\"cat_index_sim\"][_msk]] - tcat[\"photoz\"][_msk]\n",
    "    _, be, _ = ax.hist(_dz, bins=100 if be is None else be, density=False, log=True, alpha=0.5)\n",
    "    if _msk is msk:\n",
    "        dz = _dz\n",
    "\n",
    "ax = axs[1]\n",
    "be = None\n",
    "for _msk in [msk, msk1, msk2]:\n",
    "    _di = cardinal[\"TMAG\"][tcat[\"cat_index_sim\"][_msk], 2] - tcat[\"mag_i_dered\"][_msk]\n",
    "    _, be, _ = ax.hist(_di, bins=100 if be is None else be, density=False, log=True, alpha=0.5)\n",
    "    if _msk is msk:\n",
    "        di = _di\n",
    "\n",
    "ax = axs[2]\n",
    "be = None\n",
    "for _msk in [msk, msk1, msk2]:\n",
    "    _dgmi = (\n",
    "        (cardinal[\"TMAG\"][tcat[\"cat_index_sim\"][_msk], 0] - cardinal[\"TMAG\"][tcat[\"cat_index_sim\"][_msk], 2])\n",
    "        - (tcat[\"mag_g_dered\"][_msk] - tcat[\"mag_i_dered\"][_msk])\n",
    "    )\n",
    "    _, be, _ = ax.hist(_dgmi, bins=100 if be is None else be, density=False, log=True, alpha=0.5)\n",
    "    if _msk is msk:\n",
    "        dgmi = _dgmi\n",
    "\n",
    "print(np.median(dz), np.median(di), np.median(dgmi))"
   ]
  },
  {
   "cell_type": "code",
   "execution_count": 11,
   "id": "ea2453a3",
   "metadata": {
    "tags": []
   },
   "outputs": [
    {
     "data": {
      "text/plain": [
       "array([1, 2], dtype=int32)"
      ]
     },
     "execution_count": 11,
     "metadata": {},
     "output_type": "execute_result"
    }
   ],
   "source": [
    "np.unique(tcat[\"match_type_sim\"])"
   ]
  },
  {
   "cell_type": "markdown",
   "id": "86a1a46f",
   "metadata": {},
   "source": [
    "## Try to Adjust the COSMOS Catalog to get More Brighter Things"
   ]
  },
  {
   "cell_type": "code",
   "execution_count": null,
   "id": "2215e437",
   "metadata": {},
   "outputs": [],
   "source": [
    "ratio_sim = \"\"\"\n",
    "18.20913, -0.87218\n",
    "18.24124, -0.87216\n",
    "18.28405, -0.87215\n",
    "18.32686, -0.87462\n",
    "18.36968, -0.87709\n",
    "18.40179, -0.87708\n",
    "18.42319, -0.75253\n",
    "18.50882, -0.75250\n",
    "18.61585, -0.81223\n",
    "18.64796, -0.81221\n",
    "18.69077, -0.81220\n",
    "18.72288, -0.81218\n",
    "18.75499, -0.83708\n",
    "18.78710, -0.83706\n",
    "18.80850, -0.83705\n",
    "18.84061, -0.84700\n",
    "18.88342, -0.84699\n",
    "18.91553, -0.75731\n",
    "18.94764, -0.75231\n",
    "18.97975, -0.75230\n",
    "19.02256, -0.69250\n",
    "19.05467, -0.68751\n",
    "19.09749, -0.68749\n",
    "19.12959, -0.56792\n",
    "19.16170, -0.56790\n",
    "19.19381, -0.56789\n",
    "19.21522, -0.54795\n",
    "19.24733, -0.54794\n",
    "19.29014, -0.54792\n",
    "19.32225, -0.45824\n",
    "19.35436, -0.45823\n",
    "19.39717, -0.45821\n",
    "19.42928, -0.45820\n",
    "19.46139, -0.59268\n",
    "19.50420, -0.59267\n",
    "19.53631, -0.53287\n",
    "19.56842, -0.53286\n",
    "19.60053, -0.53285\n",
    "19.62194, -0.48800\n",
    "19.65404, -0.48799\n",
    "19.69686, -0.48797\n",
    "19.72897, -0.36840\n",
    "19.76108, -0.36839\n",
    "19.80389, -0.36837\n",
    "19.83600, -0.36836\n",
    "19.86811, -0.43310\n",
    "19.90022, -0.43309\n",
    "19.92162, -0.38825\n",
    "19.95373, -0.38823\n",
    "19.98584, -0.38822\n",
    "20.02865, -0.37326\n",
    "20.06076, -0.36826\n",
    "20.10357, -0.36824\n",
    "20.14639, -0.36823\n",
    "20.18920, -0.36821\n",
    "20.22131, -0.36820\n",
    "20.24271, -0.29844\n",
    "20.27482, -0.29843\n",
    "20.30693, -0.29842\n",
    "20.32834, -0.25357\n",
    "20.36045, -0.24360\n",
    "20.40326, -0.24358\n",
    "20.43537, -0.20371\n",
    "20.46748, -0.20370\n",
    "20.51029, -0.20368\n",
    "20.54240, -0.20367\n",
    "20.57451, -0.32321\n",
    "20.60662, -0.32320\n",
    "20.62802, -0.26839\n",
    "20.66013, -0.26838\n",
    "20.70295, -0.26836\n",
    "20.73506, -0.26835\n",
    "20.76716, -0.34804\n",
    "20.80998, -0.34802\n",
    "20.84209, -0.26830\n",
    "20.87420, -0.26829\n",
    "20.91701, -0.26827\n",
    "20.94912, -0.23339\n",
    "20.97052, -0.23338\n",
    "21.01334, -0.23336\n",
    "21.03474, -0.21841\n",
    "21.06685, -0.21839\n",
    "21.10966, -0.21837\n",
    "21.14177, -0.16356\n",
    "21.17388, -0.16355\n",
    "21.21669, -0.16353\n",
    "21.24880, -0.16352\n",
    "21.28091, -0.23325\n",
    "21.32372, -0.23323\n",
    "21.35583, -0.16846\n",
    "21.38794, -0.16844\n",
    "21.42005, -0.16843\n",
    "21.44146, -0.16842\n",
    "21.47357, -0.20826\n",
    "21.51638, -0.20824\n",
    "21.54849, -0.18830\n",
    "21.58060, -0.18829\n",
    "21.62341, -0.18827\n",
    "21.65552, -0.18826\n",
    "21.68763, -0.20817\n",
    "21.71974, -0.20815\n",
    "21.74114, -0.20815\n",
    "21.77325, -0.21809\n",
    "21.81607, -0.21808\n",
    "21.84817, -0.17323\n",
    "21.88028, -0.17322\n",
    "21.92310, -0.17320\n",
    "21.95521, -0.15824\n",
    "21.97661, -0.15823\n",
    "22.03013, -0.15821\n",
    "22.06224, -0.15819\n",
    "22.09435, -0.19803\n",
    "22.12645, -0.19802\n",
    "22.14786, -0.19801\n",
    "22.17997, -0.22291\n",
    "22.22278, -0.22289\n",
    "22.25489, -0.18302\n",
    "22.28700, -0.18301\n",
    "22.32981, -0.18299\n",
    "22.36192, -0.13316\n",
    "22.39403, -0.13315\n",
    "22.42614, -0.13313\n",
    "22.44755, -0.11818\n",
    "22.47966, -0.11817\n",
    "22.52247, -0.11815\n",
    "22.55458, -0.10319\n",
    "22.58669, -0.10318\n",
    "22.62950, -0.10316\n",
    "22.66161, -0.09318\n",
    "22.69372, -0.09317\n",
    "22.73653, -0.09315\n",
    "22.76864, -0.07819\n",
    "22.80075, -0.07818\n",
    "22.83286, -0.07817\n",
    "22.85426, -0.03332\n",
    "22.88637, -0.03331\n",
    "22.92919, -0.03329\n",
    "22.97200, -0.03576\n",
    "23.03622, -0.03823\n",
    "23.06833, -0.01829\n",
    "23.10043, -0.01827\n",
    "23.14325, -0.01826\n",
    "23.17536, -0.00828\n",
    "23.20747, -0.00827\n",
    "23.25028, -0.00825\n",
    "23.29309, -0.00325\n",
    "23.33590, -0.00323\n",
    "23.36801, 0.01671\n",
    "23.40012, 0.01672\n",
    "23.44293, 0.01674\n",
    "23.47504, 0.01675\n",
    "23.50715, 0.00680\n",
    "23.53926, 0.00682\n",
    "23.56067, 0.03672\n",
    "23.59278, 0.03673\n",
    "23.63559, 0.03675\n",
    "23.66770, 0.07163\n",
    "23.69981, 0.07165\n",
    "23.74262, 0.07166\n",
    "23.77473, 0.09160\n",
    "23.80684, 0.09162\n",
    "23.84965, 0.09164\n",
    "23.88176, 0.12652\n",
    "23.91387, 0.12653\n",
    "23.94598, 0.12655\n",
    "23.96738, 0.15644\n",
    "23.98879, 0.15645\n",
    "24.04230, 0.15648\n",
    "24.07441, 0.18638\n",
    "24.10652, 0.18639\n",
    "24.14934, 0.18641\n",
    "24.18144, 0.20635\n",
    "24.21355, 0.20636\n",
    "24.24566, 0.20638\n",
    "24.26707, 0.20639\n",
    "24.29918, 0.19644\n",
    "24.34199, 0.19646\n",
    "24.37410, 0.23632\n",
    "24.40621, 0.23633\n",
    "24.44902, 0.23635\n",
    "24.49183, 0.23637\n",
    "24.53465, 0.23639\n",
    "24.57746, 0.23641\n",
    "24.62027, 0.23642\n",
    "24.66308, 0.23893\n",
    "24.70590, 0.24144\n",
    "24.74871, 0.24146\n",
    "24.78082, 0.24147\n",
    "\"\"\"\n",
    "\n",
    "data = np.loadtxt(ratio_sim.split('\\n'), delimiter=',', dtype=[(\"mag_i\", \"f8\"), (\"ratio\", \"f8\")])"
   ]
  },
  {
   "cell_type": "code",
   "execution_count": null,
   "id": "51c2c3e1",
   "metadata": {},
   "outputs": [],
   "source": [
    "bes = np.array([17.        , 17.1010101 , 17.2020202 , 17.3030303 , 17.4040404 ,\n",
    "        17.50505051, 17.60606061, 17.70707071, 17.80808081, 17.90909091,\n",
    "        18.01010101, 18.11111111, 18.21212121, 18.31313131, 18.41414141,\n",
    "        18.51515152, 18.61616162, 18.71717172, 18.81818182, 18.91919192,\n",
    "        19.02020202, 19.12121212, 19.22222222, 19.32323232, 19.42424242,\n",
    "        19.52525253, 19.62626263, 19.72727273, 19.82828283, 19.92929293,\n",
    "        20.03030303, 20.13131313, 20.23232323, 20.33333333, 20.43434343,\n",
    "        20.53535354, 20.63636364, 20.73737374, 20.83838384, 20.93939394,\n",
    "        21.04040404, 21.14141414, 21.24242424, 21.34343434, 21.44444444,\n",
    "        21.54545455, 21.64646465, 21.74747475, 21.84848485, 21.94949495,\n",
    "        22.05050505, 22.15151515, 22.25252525, 22.35353535, 22.45454545,\n",
    "        22.55555556, 22.65656566, 22.75757576, 22.85858586, 22.95959596,\n",
    "        23.06060606, 23.16161616, 23.26262626, 23.36363636, 23.46464646,\n",
    "        23.56565657, 23.66666667, 23.76767677, 23.86868687, 23.96969697,\n",
    "        24.07070707, 24.17171717, 24.27272727, 24.37373737, 24.47474747,\n",
    "        24.57575758, 24.67676768, 24.77777778, 24.87878788, 24.97979798,\n",
    "        25.08080808, 25.18181818, 25.28282828, 25.38383838, 25.48484848,\n",
    "        25.58585859, 25.68686869, 25.78787879, 25.88888889, 25.98989899,\n",
    "        26.09090909, 26.19191919, 26.29292929, 26.39393939, 26.49494949,\n",
    "        26.5959596 , 26.6969697 , 26.7979798 , 26.8989899 , 27.        ])\n",
    "\n",
    "sims = np.array([0.00000000e+00, 0.00000000e+00, 0.00000000e+00, 0.00000000e+00,\n",
    "       0.00000000e+00, 0.00000000e+00, 0.00000000e+00, 0.00000000e+00,\n",
    "       0.00000000e+00, 0.00000000e+00, 0.00000000e+00, 0.00000000e+00,\n",
    "       8.07653809e-01, 1.03841204e+00, 2.76911745e+00, 0.00000000e+00,\n",
    "       3.28831880e+00, 3.51904902e+00, 4.03825037e+00, 7.90348343e+00,\n",
    "       1.18840769e+01, 1.96721345e+01, 2.39988747e+01, 3.31714724e+01,\n",
    "       2.85563451e+01, 3.74982499e+01, 4.64977089e+01, 6.47854901e+01,\n",
    "       6.50160896e+01, 7.85731871e+01, 9.06301973e+01, 1.00091537e+02,\n",
    "       1.23801642e+02, 1.46993161e+02, 1.70588093e+02, 1.58357776e+02,\n",
    "       1.87375618e+02, 1.82875964e+02, 2.23258719e+02, 2.55103150e+02,\n",
    "       2.82505751e+02, 3.29292229e+02, 3.26580517e+02, 3.82481666e+02,\n",
    "       3.91481377e+02, 4.32902619e+02, 4.53613138e+02, 4.79573374e+02,\n",
    "       5.43608876e+02, 5.89645134e+02, 6.00894210e+02, 6.19989925e+02,\n",
    "       6.89274902e+02, 7.75117198e+02, 8.36555984e+02, 8.97419462e+02,\n",
    "       9.57530020e+02, 1.02329796e+03, 1.12731201e+03, 1.18107740e+03,\n",
    "       1.27072897e+03, 1.34612819e+03, 1.42331749e+03, 1.51158183e+03,\n",
    "       1.54908047e+03, 1.61080868e+03, 1.63307621e+03, 1.54544540e+03,\n",
    "       1.38679854e+03, 1.15292516e+03, 8.91477507e+02, 6.40238853e+02,\n",
    "       4.25345497e+02, 2.84179583e+02, 1.78838068e+02, 1.11513957e+02,\n",
    "       2.06529084e+01, 0.00000000e+00, 0.00000000e+00, 0.00000000e+00,\n",
    "       0.00000000e+00, 0.00000000e+00, 0.00000000e+00, 0.00000000e+00,\n",
    "       0.00000000e+00, 0.00000000e+00, 0.00000000e+00, 0.00000000e+00,\n",
    "       0.00000000e+00, 0.00000000e+00, 0.00000000e+00, 0.00000000e+00,\n",
    "       0.00000000e+00, 0.00000000e+00, 0.00000000e+00, 0.00000000e+00,\n",
    "       0.00000000e+00, 0.00000000e+00, 0.00000000e+00])\n",
    "\n",
    "mdet = np.array([5.31467170e-02, 8.93317158e-02, 1.32527558e-01, 2.33619398e-01,\n",
    "       3.80620956e-01, 5.78959981e-01, 8.60298346e-01, 1.24589474e+00,\n",
    "       1.88297687e+00, 2.59989216e+00, 3.64337707e+00, 4.93902618e+00,\n",
    "       6.63655493e+00, 8.69141055e+00, 1.12478807e+01, 1.42643527e+01,\n",
    "       1.78923511e+01, 2.21985921e+01, 2.71294767e+01, 3.25963515e+01,\n",
    "       3.87952941e+01, 4.57572879e+01, 5.33617916e+01, 6.18207135e+01,\n",
    "       7.07400895e+01, 8.06717409e+01, 9.14770339e+01, 1.02975270e+02,\n",
    "       1.15674847e+02, 1.29392806e+02, 1.44233405e+02, 1.60095778e+02,\n",
    "       1.76902579e+02, 1.95252670e+02, 2.14882806e+02, 2.36126567e+02,\n",
    "       2.58012837e+02, 2.82811321e+02, 3.07627220e+02, 3.35011348e+02,\n",
    "       3.64138915e+02, 3.94435032e+02, 4.27401827e+02, 4.61542373e+02,\n",
    "       4.98245496e+02, 5.35125925e+02, 5.76114483e+02, 6.17444762e+02,\n",
    "       6.60966270e+02, 7.05790437e+02, 7.52261474e+02, 8.01137909e+02,\n",
    "       8.50088749e+02, 9.00238669e+02, 9.50870981e+02, 1.00451298e+03,\n",
    "       1.05906842e+03, 1.11534288e+03, 1.17368124e+03, 1.23608680e+03,\n",
    "       1.30036945e+03, 1.36586565e+03, 1.43148127e+03, 1.49470867e+03,\n",
    "       1.54496375e+03, 1.56250195e+03, 1.52974118e+03, 1.42174140e+03,\n",
    "       1.23698916e+03, 1.00098811e+03, 7.53826701e+02, 5.32129129e+02,\n",
    "       3.56857589e+02, 2.30246278e+02, 1.45224874e+02, 9.04034702e+01,\n",
    "       1.67052570e+01, 0.00000000e+00, 0.00000000e+00, 0.00000000e+00,\n",
    "       0.00000000e+00, 0.00000000e+00, 0.00000000e+00, 0.00000000e+00,\n",
    "       0.00000000e+00, 0.00000000e+00, 0.00000000e+00, 0.00000000e+00,\n",
    "       0.00000000e+00, 0.00000000e+00, 0.00000000e+00, 0.00000000e+00,\n",
    "       0.00000000e+00, 0.00000000e+00, 0.00000000e+00, 0.00000000e+00,\n",
    "       0.00000000e+00, 0.00000000e+00, 0.00000000e+00])"
   ]
  },
  {
   "cell_type": "code",
   "execution_count": null,
   "id": "ad5da621",
   "metadata": {},
   "outputs": [],
   "source": [
    "fnames = glob.glob(\"/pscratch/sd/c/chto100/Cardinalv3/truth_v4_v8_y6/Chinchilla-3_camv6.*.fits\")\n",
    "find = 0\n",
    "cardinal = fitsio.read(fnames[find])\n",
    "nside = 8\n",
    "pix = int(fnames[find].split(\".\")[-2])\n",
    "cosmos = fitsio.read(\"/dvs_ro/cfs/cdirs/des/y3-image-sims/input_cosmos_v4.fits\")\n",
    "\n",
    "_msk = (\n",
    "    (cosmos[\"isgal\"] == 1)\n",
    "    & (cosmos[\"mask_flags\"] == 0)\n",
    ")\n",
    "cosmos = cosmos[_msk]\n",
    "\n",
    "hcosmos = np.histogram(cosmos[\"mag_i_dered\"], bins=bes, density=True)[0]\n",
    "hcardinal = np.histogram(cardinal[\"TMAG\"][:, 2], bins=bes, density=True)[0]"
   ]
  },
  {
   "cell_type": "code",
   "execution_count": null,
   "id": "a5baa4d2",
   "metadata": {},
   "outputs": [],
   "source": [
    "from scipy.optimize import curve_fit\n",
    "\n",
    "def _ratio_mag(mag):\n",
    "    coeffs = [-6.40307034e+01,  3.72467033e-01, -7.33654409e-04,  5.49759244e-07]\n",
    "    x = mag\n",
    "    poly = np.zeros_like(x)\n",
    "    for i, c in enumerate(coeffs):\n",
    "        poly += c * x**(2*i)\n",
    "    return 1.0 / (1.0 + np.exp(-poly))\n",
    "\n",
    "mag = ((bes[:-1] + bes[1:])/2)\n",
    "ratio = hcosmos / hcardinal\n",
    "sigma = np.sqrt(hcosmos * (bes[1:] - bes[:-1]) * cosmos.shape) / ((bes[1:] - bes[:-1]) * cosmos.shape) / hcardinal\n",
    "msk = (hcosmos > 0) & (hcardinal > 0) & (ratio <= 1.0) & (mag < 22)\n",
    "ratio = hcosmos[msk] / hcardinal[msk]\n",
    "mag = mag[msk]\n",
    "sigma = sigma[msk]\n",
    "\n",
    "fmag = np.concatenate([\n",
    "    np.linspace(1, 12, 13),\n",
    "    [14, 16, 16.5, 17],\n",
    "    mag,\n",
    "    np.linspace(23, 30, 4)\n",
    "])\n",
    "\n",
    "fratio = np.concatenate([\n",
    "    np.zeros(13),\n",
    "    [0, 0.01, 0.02, 0.04],\n",
    "    ratio,\n",
    "    np.ones(4)\n",
    "])\n",
    "fsigma = np.concatenate([\n",
    "    0.1 * np.ones(13),\n",
    "    0.1 * np.ones(4),\n",
    "    sigma,\n",
    "    0.1 * np.ones(4),\n",
    "])\n",
    "\n",
    "res = curve_fit(\n",
    "    ratio_mag, fmag, fratio,\n",
    "    p0=np.zeros(4),\n",
    "    ftol=1e-12,\n",
    "    xtol=1e-12,\n",
    "    sigma=fsigma,\n",
    "    absolute_sigma=True,\n",
    ")[0]\n",
    "\n",
    "res_ns = curve_fit(\n",
    "    ratio_mag, fmag, fratio,\n",
    "    p0=np.zeros(4),\n",
    "    ftol=1e-12,\n",
    "    xtol=1e-12,\n",
    ")[0]\n",
    "\n",
    "fig, axs = plt.subplots(1, 1)\n",
    "\n",
    "axs.plot(fmag, fratio, '-b', label=\"cosmos sim/mdet\")\n",
    "\n",
    "xp = np.linspace(1, 30, 1000)\n",
    "axs.plot(xp, ratio_mag(xp, *res), '--k', label=\"model\")\n",
    "axs.plot(xp, ratio_mag(xp, *res_ns), ':k', label=\"model ns\")\n",
    "axs.set_xlim(15, 25)\n",
    "axs.axhline(1.0, color='k', linestyle=':')\n",
    "\n",
    "res"
   ]
  },
  {
   "cell_type": "code",
   "execution_count": null,
   "id": "6f1ab29f",
   "metadata": {},
   "outputs": [],
   "source": [
    "hcosmos = np.histogram(cosmos[\"mag_i_dered\"], bins=bes, density=True)[0]\n",
    "\n",
    "mag = (bes[:-1] + bes[1:]) / 2\n",
    "denom = np.trapz(hcosmos, mag)\n",
    "numer = np.trapz(hcosmos / _ratio_mag(mag), mag)\n",
    "\n",
    "print(denom, numer, numer / denom, len(bes))\n"
   ]
  },
  {
   "cell_type": "code",
   "execution_count": null,
   "id": "2617a8f9",
   "metadata": {},
   "outputs": [],
   "source": [
    "rng = np.random.RandomState(1234)\n",
    "\n",
    "\n",
    "prob = 1.0 / ratio_mag(cosmos[\"mag_i_dered\"])\n",
    "prob /= np.sum(prob)\n",
    "sample = rng.choice(cosmos[\"mag_i_dered\"], size=1000000, p=prob, replace=True)\n",
    "\n",
    "fig, axs = plt.subplots(1, 1)\n",
    "\n",
    "mag = (bes[:-1] + bes[1:]) / 2\n",
    "axs.hist(sample, bins=bes, density=True, alpha=0.5, label=\"sampled\")\n",
    "axs.plot(mag, hcosmos, '-k', label=\"cosmos\")\n",
    "axs.plot(mag, hcardinal, '--r', label=\"mdet\")\n",
    "axs.set_yscale(\"log\")"
   ]
  },
  {
   "cell_type": "markdown",
   "id": "acf6d152",
   "metadata": {},
   "source": [
    "## Try the New CLI Utils and Functions"
   ]
  },
  {
   "cell_type": "code",
   "execution_count": null,
   "id": "e98c3564",
   "metadata": {},
   "outputs": [],
   "source": [
    "from montara.make_input_desgal import make_input_cosmos_cat"
   ]
  },
  {
   "cell_type": "code",
   "execution_count": null,
   "id": "799591d6",
   "metadata": {},
   "outputs": [],
   "source": [
    "fnames = glob.glob(\"/pscratch/sd/c/chto100/Cardinalv3/truth_v4_v8_y6/Chinchilla-3_camv6.*.fits\")\n",
    "find = 0\n",
    "cardinal = fitsio.read(fnames[find])\n",
    "nside = 8\n",
    "pix = int(fnames[find].split(\".\")[-2])\n",
    "\n",
    "cosmos = fitsio.read(\"/dvs_ro/cfs/cdirs/des/y3-image-sims/input_cosmos_v4.fits\")\n",
    "\n",
    "with open(\n",
    "    \"/global/cfs/cdirs/desbalro/des-pizza-slices-y6/pizza_cutter_info/\"\n",
    "    \"DES0000-0250_g_pizza_cutter_info.yaml\",\n",
    "    \"r\",\n",
    ") as fp:\n",
    "    info = yaml.safe_load(fp)\n",
    "wcs = galsim.FitsWCS(info[\"image_path\"], hdu=1)"
   ]
  },
  {
   "cell_type": "code",
   "execution_count": null,
   "id": "b36c17eb",
   "metadata": {},
   "outputs": [],
   "source": [
    "seed = 10\n",
    "\n",
    "rng = np.random.RandomState(seed)\n",
    "\n",
    "for i in range(10):\n",
    "    _seed = rng.randint(1, 2 ** 28)\n",
    "\n",
    "    tcat = make_input_cosmos_cat(\n",
    "        cosmos=cosmos,\n",
    "        sim=cardinal,\n",
    "        nside=nside,\n",
    "        pix=pix,\n",
    "        seed=_seed,\n",
    "        wcs=wcs,\n",
    "        dz=0.1,\n",
    "        di=0.5,\n",
    "        dgmi=0.5,\n",
    "        dustmap_fname=\"SFD_dust_4096.hsp\",\n",
    "    )\n",
    "\n",
    "    msk = (\n",
    "        (tcat[\"x_sim\"] >= 250)\n",
    "        & (tcat[\"x_sim\"] <= 9750)\n",
    "        & (tcat[\"y_sim\"] >= 250)\n",
    "        & (tcat[\"y_sim\"] <= 9750)\n",
    "        & (tcat[\"mag_i\"] <= 25)\n",
    "    )\n",
    "    print(\"# of objects:\", np.sum(msk), flush=True)\n",
    "\n",
    "    pth = os.path.join(\n",
    "        os.path.expandvars(\"$PSCRATCH\"),\n",
    "        \"cosmos_simcat_DES0000-0250_seed%d.fits\" % _seed,\n",
    "    )\n",
    "\n",
    "    fitsio.write(pth, tcat, clobber=True)\n",
    "    os.system(\"chgrp des %s\" % pth)\n",
    "    os.system(\"chmod g+r %s\" % pth)"
   ]
  },
  {
   "cell_type": "code",
   "execution_count": null,
   "id": "2e0e7e68",
   "metadata": {},
   "outputs": [],
   "source": [
    "tcat.shape"
   ]
  },
  {
   "cell_type": "code",
   "execution_count": null,
   "id": "1b7ad72c",
   "metadata": {},
   "outputs": [],
   "source": [
    "msk = (\n",
    "    (tcat[\"x_sim\"] >= 250)\n",
    "    & (tcat[\"x_sim\"] <= 9750)\n",
    "    & (tcat[\"y_sim\"] >= 250)\n",
    "    & (tcat[\"y_sim\"] <= 9750)\n",
    "    & (tcat[\"mag_i\"] <= 25)\n",
    ")\n",
    "np.sum(msk)"
   ]
  },
  {
   "cell_type": "code",
   "execution_count": null,
   "id": "45d67c3a",
   "metadata": {},
   "outputs": [],
   "source": [
    "msk = tcat[\"cat_index_sim\"] != -1\n",
    "\n",
    "fig, axs = plt.subplots(nrows=1, ncols=3, figsize=(15, 5))\n",
    "\n",
    "ax = axs[0]\n",
    "dz = cardinal[\"Z\"][tcat[\"cat_index_sim\"][msk]] - tcat[\"photoz\"][msk]\n",
    "ax.hist(dz, bins=100, density=True, log=True)\n",
    "\n",
    "ax = axs[1]\n",
    "di = cardinal[\"TMAG\"][tcat[\"cat_index_sim\"][msk], 2] - tcat[\"mag_i_dered\"][msk]\n",
    "ax.hist(di, bins=100, density=True, log=True)\n",
    "\n",
    "ax = axs[2]\n",
    "dgmi = (\n",
    "    (cardinal[\"TMAG\"][tcat[\"cat_index_sim\"][msk], 0] - cardinal[\"TMAG\"][tcat[\"cat_index_sim\"][msk], 2])\n",
    "    - (tcat[\"mag_g_dered\"][msk] - tcat[\"mag_i_dered\"][msk])\n",
    ")\n",
    "ax.hist(dgmi, bins=100, density=True, log=True)\n",
    "\n",
    "print(np.median(dz), np.median(di), np.median(dgmi))"
   ]
  },
  {
   "cell_type": "code",
   "execution_count": null,
   "id": "875c06ed",
   "metadata": {},
   "outputs": [],
   "source": []
  },
  {
   "cell_type": "code",
   "execution_count": null,
   "id": "04668d6f",
   "metadata": {},
   "outputs": [],
   "source": []
  },
  {
   "cell_type": "markdown",
   "id": "760ede6d-1bf0-4002-8991-41e60d9aa520",
   "metadata": {},
   "source": [
    "## Plot a Sim and Test Rotations"
   ]
  },
  {
   "cell_type": "code",
   "execution_count": null,
   "id": "783c72fa",
   "metadata": {},
   "outputs": [],
   "source": []
  },
  {
   "cell_type": "code",
   "execution_count": null,
   "id": "3d62d9ff-52f7-4155-b210-53beae4008fa",
   "metadata": {
    "tags": []
   },
   "outputs": [],
   "source": [
    "fnames = glob.glob(\"/pscratch/sd/c/chto100/Cardinalv3/truth_v4_v8_y6/Chinchilla-3_camv6.*.fits\")"
   ]
  },
  {
   "cell_type": "code",
   "execution_count": null,
   "id": "ffc00dde-6aca-4950-866c-e4f5a91fa736",
   "metadata": {
    "tags": []
   },
   "outputs": [],
   "source": [
    "fnames[0]"
   ]
  },
  {
   "cell_type": "code",
   "execution_count": null,
   "id": "cf69d007-9286-45a9-9a4c-b50925060148",
   "metadata": {
    "tags": []
   },
   "outputs": [],
   "source": [
    "d = fitsio.read(fnames[0])"
   ]
  },
  {
   "cell_type": "code",
   "execution_count": null,
   "id": "ef025536",
   "metadata": {},
   "outputs": [],
   "source": []
  },
  {
   "cell_type": "code",
   "execution_count": null,
   "id": "8be60153-4c47-4f4e-a28a-9230b8608f24",
   "metadata": {
    "tags": []
   },
   "outputs": [],
   "source": [
    "d.dtype.names"
   ]
  },
  {
   "cell_type": "code",
   "execution_count": null,
   "id": "b063b4f0-2954-4138-834b-15d76597a1fd",
   "metadata": {
    "tags": []
   },
   "outputs": [],
   "source": [
    "nside = 8\n",
    "pix = int(fnames[0].split(\".\")[-2])\n",
    "\n",
    "fig, axs = plt.subplots()\n",
    "\n",
    "msk = d[\"AMAG\"][:, 2] < -23.75\n",
    "\n",
    "axs.plot(d[\"TRA\"][msk], d[\"TDEC\"][msk], \".\")\n",
    "\n",
    "rab, decb = hpgeom.boundaries(\n",
    "    nside,\n",
    "    pix,\n",
    "    nest=True,\n",
    "    step=10,\n",
    ")\n",
    "\n",
    "for i in range(rab.shape[0]):\n",
    "    ip1 = (i+1) % rab.shape[0]\n",
    "    axs.plot(\n",
    "        [rab[i], rab[ip1]],\n",
    "        [decb[i], decb[ip1]],\n",
    "        color=\"k\",\n",
    "    )"
   ]
  },
  {
   "cell_type": "code",
   "execution_count": null,
   "id": "9106a922-5363-4a43-b2b4-6cac0ca760db",
   "metadata": {
    "tags": []
   },
   "outputs": [],
   "source": [
    "import yaml\n",
    "\n",
    "with open(\n",
    "    \"/global/cfs/cdirs/desbalro/des-pizza-slices-y6/pizza_cutter_info/\"\n",
    "    \"DES0000-0250_g_pizza_cutter_info.yaml\",\n",
    "    \"r\",\n",
    ") as fp:\n",
    "    info = yaml.safe_load(fp)"
   ]
  },
  {
   "cell_type": "code",
   "execution_count": null,
   "id": "0498d95a-45c9-4107-b1c7-e521b43fff73",
   "metadata": {
    "tags": []
   },
   "outputs": [],
   "source": [
    "wcs = galsim.FitsWCS(info[\"image_path\"], hdu=1)"
   ]
  },
  {
   "cell_type": "code",
   "execution_count": null,
   "id": "d44553c8-d20b-4a2e-bc7e-d90b20466d36",
   "metadata": {
    "tags": []
   },
   "outputs": [],
   "source": [
    "rac, decc = hpgeom.pixel_to_angle(nside, pix)\n",
    "\n",
    "new_ra, new_dec, _, _ = project_to_tile(\n",
    "    d[\"TRA\"][msk],\n",
    "    d[\"TDEC\"][msk],\n",
    "    rac,\n",
    "    decc,\n",
    "    wcs,\n",
    ")"
   ]
  },
  {
   "cell_type": "code",
   "execution_count": null,
   "id": "43722917-f976-4aef-a1e5-2ae4659777ef",
   "metadata": {
    "tags": []
   },
   "outputs": [],
   "source": [
    "fig, axs = plt.subplots()\n",
    "\n",
    "axs.set_aspect(\"equal\")\n",
    "axs.plot(new_ra, new_dec, \".\")\n",
    "\n",
    "xv = np.array([1, 1, 10000, 10000])\n",
    "yv = np.array([1, 10000, 10000, 1])\n",
    "\n",
    "rav, decv = wcs.xyToradec(xv, yv, units=galsim.degrees)\n",
    "\n",
    "for i in range(rav.shape[0]):\n",
    "    ip1 = (i+1) % rav.shape[0]\n",
    "    axs.plot(\n",
    "        [rav[i], rav[ip1]],\n",
    "        [decv[i], decv[ip1]],\n",
    "        \"-k\",\n",
    "    )\n"
   ]
  },
  {
   "cell_type": "code",
   "execution_count": null,
   "id": "4e69edea-3c83-4fbe-a4ad-35aa81f040ec",
   "metadata": {
    "tags": []
   },
   "outputs": [],
   "source": [
    "fig, axs = plt.subplots()\n",
    "\n",
    "ra, dec = sample_from_pixel(nside, pix, size=1000000)\n",
    "\n",
    "rac, decc = hpgeom.pixel_to_angle(nside, pix)\n",
    "\n",
    "new_ra, new_dec, _, _ = project_to_tile(\n",
    "    ra,\n",
    "    dec,\n",
    "    rac,\n",
    "    decc,\n",
    "    wcs,\n",
    ")\n",
    "axs.hexbin(new_ra, new_dec, bins=100)"
   ]
  },
  {
   "cell_type": "code",
   "execution_count": null,
   "id": "ff8dc864-1adb-4c3b-a977-eed96f97cbdb",
   "metadata": {
    "tags": []
   },
   "outputs": [],
   "source": [
    "fig, axs = plt.subplots()\n",
    "\n",
    "ra, dec = sample_from_pixel(nside, pix, size=1000000)\n",
    "\n",
    "axs.hexbin(ra, dec, bins=100)\n",
    "\n",
    "rab, decb = hpgeom.boundaries(\n",
    "    nside,\n",
    "    pix,\n",
    "    nest=True,\n",
    "    step=10,\n",
    ")\n",
    "\n",
    "for i in range(rab.shape[0]):\n",
    "    ip1 = (i+1) % rab.shape[0]\n",
    "    axs.plot(\n",
    "        [rab[i], rab[ip1]],\n",
    "        [decb[i], decb[ip1]],\n",
    "        color=\"k\",\n",
    "    )"
   ]
  },
  {
   "cell_type": "markdown",
   "id": "e4ec9c1d-d273-44f1-a803-6edfa876ff87",
   "metadata": {},
   "source": [
    "## Now Try to Sample and Match a Cosmos \"insta\" Catalog"
   ]
  },
  {
   "cell_type": "code",
   "execution_count": null,
   "id": "be8616c9-f966-4d90-90d7-1997c5c16714",
   "metadata": {
    "tags": []
   },
   "outputs": [],
   "source": [
    "d = fitsio.read(fnames[0])"
   ]
  },
  {
   "cell_type": "code",
   "execution_count": null,
   "id": "af9fdf5b-8768-46d9-b457-c89e38bb0836",
   "metadata": {
    "tags": []
   },
   "outputs": [],
   "source": [
    "# catalog_sampler:\n",
    "#   file_name: /dvs_ro/cfs/cdirs/des/y3-image-sims/input_cosmos_v4.fits\n",
    "#   cuts:\n",
    "#     mag_i: [15., 25.]  # use only 15<mag_i<25. for now.\n",
    "#     isgal: [1,]  # select galaxies only since we're simulating stars separately.\n",
    "#     mask_flags: [0,]  # apply mask flags\n",
    "#     bdf_hlr: [0., 5.]\n",
    "cosmos = fitsio.read(\"/dvs_ro/cfs/cdirs/des/y3-image-sims/input_cosmos_v4.fits\")"
   ]
  },
  {
   "cell_type": "code",
   "execution_count": null,
   "id": "e715f428-8d51-40c3-862b-30abb096113d",
   "metadata": {
    "tags": []
   },
   "outputs": [],
   "source": [
    "cosmos.dtype.names"
   ]
  },
  {
   "cell_type": "code",
   "execution_count": null,
   "id": "f63ec143-ad07-4c8d-a6c2-ae511f061a78",
   "metadata": {
    "tags": []
   },
   "outputs": [],
   "source": [
    "cmsk = (\n",
    "    (cosmos[\"mag_i\"] > 15)\n",
    "    & (cosmos[\"mag_i\"] <= 25)\n",
    "    & (cosmos[\"isgal\"] == 1)\n",
    "    & (cosmos[\"mask_flags\"] == 0)\n",
    "    & (cosmos[\"bdf_hlr\"] > 0)\n",
    "    & (cosmos[\"bdf_hlr\"] <= 5)\n",
    ")\n",
    "cosmos = cosmos[cmsk]"
   ]
  },
  {
   "cell_type": "code",
   "execution_count": null,
   "id": "2328cc76-a357-4641-867a-ac3928451572",
   "metadata": {
    "tags": []
   },
   "outputs": [],
   "source": [
    "mn_ndraw = 170_000\n",
    "seed = 10\n",
    "rng = np.random.RandomState(seed=seed)\n",
    "ndraw = rng.poisson(mn_ndraw)\n",
    "cinds = rng.choice(cosmos.shape[0], size=ndraw, replace=True)"
   ]
  },
  {
   "cell_type": "code",
   "execution_count": null,
   "id": "a7c9fc09-fb6b-4afd-83d1-e66558da3b7e",
   "metadata": {
    "tags": []
   },
   "outputs": [],
   "source": [
    "tcat = cosmos[cinds]"
   ]
  },
  {
   "cell_type": "code",
   "execution_count": null,
   "id": "b0a2df90-97db-4b2a-8dbd-4bafa693c3ac",
   "metadata": {
    "tags": []
   },
   "outputs": [],
   "source": [
    "fig, axs = plt.subplots()\n",
    "\n",
    "axs.hist(tcat[\"photoz\"], bins=100, density=True);\n",
    "axs.hist(d[\"Z\"], density=True, bins=100, alpha=0.5)\n",
    "\n",
    "fig, axs = plt.subplots()\n",
    "\n",
    "axs.hist(tcat[\"mag_i_dered\"], bins=100, log=True, density=True, alpha=0.5);\n",
    "axs.hist(d[\"TMAG\"][:, 2], density=True, bins=100, alpha=0.5)\n",
    "axs.xaxis.set_inverted(True)"
   ]
  },
  {
   "cell_type": "code",
   "execution_count": null,
   "id": "fbf8b6b8-6565-4054-8cce-597e93f53a1b",
   "metadata": {
    "tags": []
   },
   "outputs": [],
   "source": [
    "%%time\n",
    "\n",
    "rac, decc = hpgeom.pixel_to_angle(nside, pix)\n",
    "wcs = galsim.FitsWCS(info[\"image_path\"], hdu=1)\n",
    "\n",
    "new_ra, new_dec, new_x, new_y = project_to_tile(\n",
    "    d[\"TRA\"],\n",
    "    d[\"TDEC\"],\n",
    "    rac,\n",
    "    decc,\n",
    "    wcs,\n",
    ")\n",
    "\n",
    "tmsk = (\n",
    "    (new_x >= 0.5)\n",
    "    & (new_x <= 10000.5)\n",
    "    & (new_y >= 0.5)\n",
    "    & (new_y <= 10000.5)\n",
    ")"
   ]
  },
  {
   "cell_type": "code",
   "execution_count": null,
   "id": "f58dac39-d188-4e3c-8219-e62756fd126d",
   "metadata": {
    "tags": []
   },
   "outputs": [],
   "source": [
    "fig, axs = plt.subplots()\n",
    "\n",
    "axs.set_aspect(\"equal\")\n",
    "axs.plot(new_ra[tmsk][0:1000], new_dec[tmsk][0:1000], \".\")\n",
    "\n",
    "xv = np.array([1, 1, 10000, 10000])\n",
    "yv = np.array([1, 10000, 10000, 1])\n",
    "\n",
    "rav, decv = wcs.xyToradec(xv, yv, units=\"degrees\")\n",
    "\n",
    "for i in range(rav.shape[0]):\n",
    "    ip1 = (i+1) % rav.shape[0]\n",
    "    axs.plot(\n",
    "        [rav[i], rav[ip1]],\n",
    "        [decv[i], decv[ip1]],\n",
    "        \"-k\",\n",
    "    )\n"
   ]
  },
  {
   "cell_type": "code",
   "execution_count": null,
   "id": "c1b0882d-a371-4f70-b2f1-ecc77c0eda39",
   "metadata": {
    "tags": []
   },
   "outputs": [],
   "source": [
    "from sim_match_tools import match_cosmos_to_cardinal\n",
    "\n",
    "match_inds, match_flags = match_cosmos_to_cardinal(tcat, d[tmsk], max_dz=0.1, max_di=0.1, max_dgmi=0.1, rng=10)"
   ]
  },
  {
   "cell_type": "code",
   "execution_count": null,
   "id": "05509cab",
   "metadata": {},
   "outputs": [],
   "source": [
    "dtmsk = d[tmsk]\n",
    "\n",
    "msk = match_inds != -1\n",
    "\n",
    "fig, axs = plt.subplots(nrows=1, ncols=3, figsize=(15, 5))\n",
    "\n",
    "ax = axs[0]\n",
    "dz = dtmsk[\"Z\"][match_inds[msk]] - tcat[\"photoz\"][msk]\n",
    "ax.hist(dz, bins=100, density=True, log=True)\n",
    "\n",
    "ax = axs[1]\n",
    "di = dtmsk[\"TMAG\"][match_inds[msk], 2] - tcat[\"mag_i_dered\"][msk]\n",
    "ax.hist(di, bins=100, density=True, log=True)\n",
    "\n",
    "ax = axs[2]\n",
    "dgmi = dtmsk[\"TMAG\"][match_inds[msk], 0] - dtmsk[\"TMAG\"][match_inds[msk], 2] - (tcat[\"mag_g_dered\"][msk] - tcat[\"mag_i_dered\"][msk])\n",
    "ax.hist(dgmi, bins=100, density=True, log=True)\n",
    "\n",
    "print(np.median(dz), np.median(di), np.median(dgmi))"
   ]
  },
  {
   "cell_type": "code",
   "execution_count": null,
   "id": "ec539b40",
   "metadata": {},
   "outputs": [],
   "source": [
    "msk = match_inds != -1\n",
    "\n",
    "fig, axs = plt.subplots()\n",
    "\n",
    "zbins = np.linspace(0, 6, 100)\n",
    "axs.hist(d[\"Z\"], density=False, bins=zbins, alpha=0.5, weights=np.ones(d.shape[0]) / d.shape[0] * tcat.shape[0])\n",
    "axs.hist(tcat[\"photoz\"], bins=zbins, density=False, alpha=0.5)\n",
    "axs.hist(tcat[\"photoz\"][msk], bins=zbins, alpha=0.5, density=False)\n",
    "\n",
    "fig, axs = plt.subplots()\n",
    "\n",
    "mbins = np.linspace(15, 27, 100)\n",
    "axs.hist(d[\"TMAG\"][:, 2], density=False, bins=mbins, alpha=0.5, weights=np.ones(d.shape[0]) / d.shape[0] * tcat.shape[0])\n",
    "axs.hist(tcat[\"mag_i_dered\"], bins=mbins, log=True, density=False, alpha=0.5)\n",
    "axs.hist(tcat[\"mag_i_dered\"][msk], bins=mbins, log=True, density=False, alpha=0.5)\n",
    "axs.xaxis.set_inverted(True)"
   ]
  },
  {
   "cell_type": "code",
   "execution_count": null,
   "id": "d0ff7e07",
   "metadata": {},
   "outputs": [],
   "source": [
    "import os\n",
    "import subprocess\n",
    "\n",
    "import esutil.numpy_util\n",
    "import healsparse\n",
    "\n",
    "\n",
    "def _compute_dered_flux_fac(i, ebv_map_val):\n",
    "    \"\"\"This function computes the dereddening factor for the flux.\n",
    "\n",
    "    Eli says we cannot apply the correction to the asinh mag.\n",
    "\n",
    "    You use like this:\n",
    "\n",
    "        dered_flux = flux * _compute_dered_flux_fac(i, map)\n",
    "\n",
    "    Parameters\n",
    "    ----------\n",
    "    i : int\n",
    "        The index of the band in griz (i.e., 0 for g, 1 for r, 2 for i, 3 for z).\n",
    "    ebv_map_val : float or np.ndarray\n",
    "        The E(B-V) value(s) from the dust map.\n",
    "\n",
    "    Returns\n",
    "    -------\n",
    "    dered_flux : float or np.ndarray\n",
    "        The dereddened flux.\n",
    "    \"\"\"\n",
    "\n",
    "    dered_fac = [3.186, 2.140, 1.196, 1.048]\n",
    "    dmag = dered_fac[i] * ebv_map_val\n",
    "    return 10**(dmag / 2.5)\n",
    "\n",
    "\n",
    "def _read_hsp_file(fname):\n",
    "    mpth = _get_hsp_file_path(fname)\n",
    "    return healsparse.HealSparseMap.read(mpth)\n",
    "\n",
    "\n",
    "def _read_hsp_file_local(fname):\n",
    "    return healsparse.HealSparseMap.read(fname)\n",
    "\n",
    "\n",
    "def _get_hsp_file_path(fname):\n",
    "    # get or make meds dir\n",
    "    meds_dir = os.environ.get(\"MEDS_DIR\", None)\n",
    "    if meds_dir is None:\n",
    "        meds_dir = os.path.expandvars(\n",
    "            os.path.expanduser(\"~/MEDS_DIR\")\n",
    "        )\n",
    "        os.makedirs(meds_dir, exist_ok=True)\n",
    "\n",
    "    # download if needed\n",
    "    fpth = os.path.join(meds_dir, fname)\n",
    "    if not os.path.exists(fpth):\n",
    "        _download_fname_from_bnl(fpth)\n",
    "\n",
    "    return fpth\n",
    "\n",
    "\n",
    "def _download_fname_from_bnl(fpth):\n",
    "    fdir, fname = os.path.split(fpth)\n",
    "\n",
    "    wget_res = subprocess.run(\"which wget\", shell=True, capture_output=True)\n",
    "    curl_res = subprocess.run(\"which curl\", shell=True, capture_output=True)\n",
    "\n",
    "    base_urls_to_try = [\n",
    "        \"https://www.cosmo.bnl.gov/www/esheldon/data/y6-healsparse\",\n",
    "    ]\n",
    "\n",
    "    if wget_res.returncode == 0:\n",
    "        for bnl in base_urls_to_try:\n",
    "            ret = subprocess.run(\n",
    "                \"cd %s && wget %s/%s\" % (\n",
    "                    fdir, bnl, fname,\n",
    "                ),\n",
    "                shell=True,\n",
    "                capture_output=True,\n",
    "            )\n",
    "            if ret.returncode == 0:\n",
    "                break\n",
    "\n",
    "        ret.check_returncode()\n",
    "\n",
    "    elif curl_res.returncode == 0:\n",
    "        for bnl in base_urls_to_try:\n",
    "            ret = subprocess.run(\n",
    "                \"cd %s && curl -L %s/%s --output %s\" % (\n",
    "                    fdir, bnl, fname, fname,\n",
    "                ),\n",
    "                shell=True,\n",
    "                capture_output=True,\n",
    "            )\n",
    "            if ret.returncode == 0:\n",
    "                break\n",
    "\n",
    "        ret.check_returncode()\n",
    "\n",
    "    else:\n",
    "        raise RuntimeError(\n",
    "            \"Could not download mask '%s' from BNL due \"\n",
    "            \"to wget or curl missing!\" % fname,\n",
    "        )\n",
    "\n",
    "\n",
    "dtmsk = d[tmsk]\n",
    "\n",
    "final_tcat = esutil.numpy_util.add_fields(\n",
    "    tcat,\n",
    "    [\n",
    "        (\"ra_sim\", \"f8\"),\n",
    "        (\"dec_sim\", \"f8\"),\n",
    "        (\"x_sim\", \"f8\"),\n",
    "        (\"y_sim\", \"f8\"),\n",
    "        (\"sim_match_flags\", \"i4\"),\n",
    "        (\"mag_g_red_sim\", \"f8\"),\n",
    "        (\"mag_r_red_sim\", \"f8\"),\n",
    "        (\"mag_i_red_sim\", \"f8\"),\n",
    "        (\"mag_z_red_sim\", \"f8\"),\n",
    "    ]\n",
    ")\n",
    "final_tcat[\"ra_sim\"] = new_ra[tmsk][match_inds]\n",
    "final_tcat[\"dec_sim\"] = new_dec[tmsk][match_inds]\n",
    "final_tcat[\"x_sim\"] = new_x[tmsk][match_inds]\n",
    "final_tcat[\"y_sim\"] = new_y[tmsk][match_inds]\n",
    "final_tcat[\"sim_match_flags\"] = match_flags\n",
    "\n",
    "bands = ['g', 'r', 'i', 'z']\n",
    "dustmap = _read_hsp_file(\"SFD_dust_4096.hsp\")\n",
    "\n",
    "dered = dustmap.get_values_pos(final_tcat[\"ra_sim\"], final_tcat[\"dec_sim\"])\n",
    "for ii, b in enumerate(bands):\n",
    "    dered_fac = _compute_dered_flux_fac(ii, dered)\n",
    "    red_shift = 2.5 * np.log10(dered_fac)\n",
    "    final_tcat[\"mag_\" + b + \"_red_sim\"] = final_tcat[\"mag_\" + b + \"_dered\"] + red_shift"
   ]
  },
  {
   "cell_type": "code",
   "execution_count": null,
   "id": "db01dada",
   "metadata": {},
   "outputs": [],
   "source": [
    "final_tcat[\"mag_z_red_sim\"][0:10]"
   ]
  },
  {
   "cell_type": "code",
   "execution_count": null,
   "id": "037db660",
   "metadata": {},
   "outputs": [],
   "source": [
    "final_tcat[\"mag_z_dered\"][0:10]"
   ]
  },
  {
   "cell_type": "code",
   "execution_count": null,
   "id": "42f6e357",
   "metadata": {},
   "outputs": [],
   "source": [
    "!ls $PSCRATCH"
   ]
  },
  {
   "cell_type": "code",
   "execution_count": null,
   "id": "aff2993f",
   "metadata": {},
   "outputs": [],
   "source": [
    "pth = os.path.join(\n",
    "    os.path.expandvars(\"$PSCRATCH\"),\n",
    "    \"cosmos_simcat_DES0000-0250_seed10.fits\",\n",
    ")\n",
    "\n",
    "fitsio.write(pth, final_tcat, clobber=True)"
   ]
  },
  {
   "cell_type": "code",
   "execution_count": null,
   "id": "d729502a",
   "metadata": {},
   "outputs": [],
   "source": [
    "final_tcat.dtype.names"
   ]
  },
  {
   "cell_type": "markdown",
   "id": "51163cc6",
   "metadata": {},
   "source": [
    "## Code for Hacking"
   ]
  },
  {
   "cell_type": "code",
   "execution_count": null,
   "id": "7a7230c6",
   "metadata": {},
   "outputs": [],
   "source": [
    "match_inds = match_cosmos_to_cardinal(tcat, d[tmsk], photo_scale_factor=3, max_radius=0.5)"
   ]
  },
  {
   "cell_type": "code",
   "execution_count": null,
   "id": "539586f9",
   "metadata": {},
   "outputs": [],
   "source": [
    "match_inds = match_cosmos_to_cardinal(tcat, d[tmsk], photo_scale_factor=3, max_nbrs=500)"
   ]
  },
  {
   "cell_type": "code",
   "execution_count": null,
   "id": "a27c6010",
   "metadata": {},
   "outputs": [],
   "source": [
    "match_inds = match_cosmos_to_cardinal(tcat, d[tmsk], photo_scale_factor=3, max_nbrs=100)"
   ]
  },
  {
   "cell_type": "code",
   "execution_count": null,
   "id": "b6c221e0-3538-4d08-9746-1ce2339f662a",
   "metadata": {
    "tags": []
   },
   "outputs": [],
   "source": [
    "tdata = np.zeros((int(np.sum(tmsk)), 3))\n",
    "tdata[:, 0] = d[\"TMAG\"][tmsk, 1]  # r-band\n",
    "tdata[:, 1] = d[\"TMAG\"][tmsk, 0] - d[\"TMAG\"][tmsk, 2]  # g-i color\n",
    "# tdata[:, 2] = d[\"TMAG\"][tmsk, 2] - d[\"TMAG\"][tmsk, 3] # i-z color\n",
    "tdata[:, 2] = d[\"Z\"][tmsk] * 10"
   ]
  },
  {
   "cell_type": "code",
   "execution_count": null,
   "id": "f0fd5c81-f125-43ad-bcd6-037fea485044",
   "metadata": {
    "tags": []
   },
   "outputs": [],
   "source": [
    "tree = cKDTree(tdata)"
   ]
  },
  {
   "cell_type": "code",
   "execution_count": null,
   "id": "e82f2541-888b-40a5-b4b2-d82f3aab0202",
   "metadata": {
    "tags": []
   },
   "outputs": [],
   "source": [
    "cmsk = tcat[\"photoz\"] < 2.3\n",
    "nk = 1000\n",
    "\n",
    "cx = np.zeros((int(np.sum(cmsk)), 3))\n",
    "cx[:, 0] = tcat[\"mag_r_dered\"][cmsk]\n",
    "cx[:, 1] = tcat[\"mag_g_dered\"][cmsk] - tcat[\"mag_i_dered\"][cmsk]\n",
    "# cx[:, 2] = tcat[\"mag_i_dered\"] - tcat[\"mag_z_dered\"]\n",
    "cx[:, 2] = tcat[\"photoz\"][cmsk] * 10\n",
    "dd, ii = tree.query(cx, k=nk)"
   ]
  },
  {
   "cell_type": "code",
   "execution_count": null,
   "id": "ab53e732-23b0-4fd7-b10b-574a444935e5",
   "metadata": {
    "tags": []
   },
   "outputs": [],
   "source": [
    "np.unique(ii[:, 0:nk]).shape, np.sum(cmsk)"
   ]
  },
  {
   "cell_type": "code",
   "execution_count": null,
   "id": "0a052c25-11d6-41f6-ad82-6512d912a104",
   "metadata": {
    "tags": []
   },
   "outputs": [],
   "source": [
    "fig, axs = plt.subplots()\n",
    "\n",
    "axs.hexbin(tcat[cmsk][\"mag_i_dered\"], tcat[cmsk][\"photoz\"], bins=\"log\")\n",
    "\n",
    "fig, axs = plt.subplots()\n",
    "\n",
    "axs.hexbin(d[tmsk][\"TMAG\"][:, 2], d[tmsk][\"Z\"], bins=\"log\")"
   ]
  },
  {
   "cell_type": "code",
   "execution_count": null,
   "id": "31bc09ea-ce68-4e9e-8091-ef41ace88c77",
   "metadata": {
    "tags": []
   },
   "outputs": [],
   "source": [
    "axs.hexbin?"
   ]
  },
  {
   "cell_type": "code",
   "execution_count": null,
   "id": "8d8ddeb0-b0c0-44c1-bad2-d3910382b259",
   "metadata": {},
   "outputs": [],
   "source": [
    "list(range(3, 1, -1))"
   ]
  },
  {
   "cell_type": "code",
   "execution_count": null,
   "id": "88a480cf",
   "metadata": {},
   "outputs": [],
   "source": []
  }
 ],
 "metadata": {
  "kernelspec": {
   "display_name": "des-y6",
   "language": "python",
   "name": "des-y6"
  },
  "language_info": {
   "codemirror_mode": {
    "name": "ipython",
    "version": 3
   },
   "file_extension": ".py",
   "mimetype": "text/x-python",
   "name": "python",
   "nbconvert_exporter": "python",
   "pygments_lexer": "ipython3",
   "version": "3.11.9"
  }
 },
 "nbformat": 4,
 "nbformat_minor": 5
}
