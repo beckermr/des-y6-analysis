{
 "cells": [
  {
   "cell_type": "code",
   "execution_count": null,
   "id": "58a08c1a",
   "metadata": {},
   "outputs": [],
   "source": [
    "import meds\n",
    "import numpy as np\n",
    "import proplot as plot\n",
    "\n",
    "from ngmix.medsreaders import MultiBandNGMixMEDS, NGMixMEDS"
   ]
  },
  {
   "cell_type": "code",
   "execution_count": null,
   "id": "123da090",
   "metadata": {},
   "outputs": [],
   "source": [
    "m = NGMixMEDS(\"DES2132-5748_r5227p01_i_pizza-cutter-slices.fits.fz\")\n",
    "\n",
    "mbmeds = MultiBandNGMixMEDS([m])"
   ]
  },
  {
   "cell_type": "code",
   "execution_count": null,
   "id": "478e07e2",
   "metadata": {},
   "outputs": [],
   "source": [
    "from pizza_cutter_metadetect.gaia_stars import load_gaia_stars, mask_gaia_stars, BMASK_GAIA_STAR\n",
    "\n",
    "gaia_stars = load_gaia_stars(\n",
    "    mbmeds,\n",
    "    [1.36055007e-03, -1.55098040e-01,  3.46641671e+00],\n",
    "    18,\n",
    ")"
   ]
  },
  {
   "cell_type": "code",
   "execution_count": null,
   "id": "fa435303",
   "metadata": {},
   "outputs": [],
   "source": [
    "import fitsio\n",
    "\n",
    "data = fitsio.read(\"DES2132-5748_metadetect-v2_mdetcat_range0012-0012.fits\")"
   ]
  },
  {
   "cell_type": "code",
   "execution_count": null,
   "id": "8718673d",
   "metadata": {},
   "outputs": [],
   "source": [
    "data['mfrac']"
   ]
  },
  {
   "cell_type": "code",
   "execution_count": null,
   "id": "68adeab3",
   "metadata": {},
   "outputs": [],
   "source": []
  },
  {
   "cell_type": "code",
   "execution_count": null,
   "id": "f4a93c61",
   "metadata": {},
   "outputs": [],
   "source": [
    "i = 0\n",
    "msk = data['mcal_step'] == 'noshear'\n",
    "msk1p = data['mcal_step'] == '2m'\n",
    "\n",
    "mbobs = mbmeds.get_mbobs(i)\n",
    "mask_gaia_stars(mbobs, gaia_stars, {\"symmetrize\": True})\n",
    "\n",
    "fig, axs = plot.subplots(nrows=1, ncols=5)\n",
    "im = m.get_cutout(i, 0, type='image')\n",
    "axs[0].imshow(np.arcsinh(im), cmap='rocket')\n",
    "axs[1].imshow(np.arcsinh(mbobs[0][0].image), cmap='rocket')\n",
    "axs[2].imshow((mbobs[0][0].bmask & BMASK_GAIA_STAR) != 0, cmap='rocket')\n",
    "axs[3].imshow(np.arcsinh(mbobs[0][0].noise), cmap='rocket')\n",
    "axs[4].imshow(mbobs[0][0].mfrac, cmap='rocket')\n",
    "\n",
    "for ax in axs:\n",
    "    ax.plot(data['sx_col_noshear'][msk], data['sx_row_noshear'][msk], 'b.')\n",
    "    ax.plot(data['sx_col_noshear'][msk1p], data['sx_row_noshear'][msk1p], '.', color='purple')\n",
    "axs.grid(False)"
   ]
  },
  {
   "cell_type": "markdown",
   "id": "0e008f47",
   "metadata": {},
   "source": [
    "## Look at a Bigger Run"
   ]
  },
  {
   "cell_type": "code",
   "execution_count": null,
   "id": "77167057",
   "metadata": {},
   "outputs": [],
   "source": [
    "d = fitsio.read(\"DES2132-5748_metadetect-v2_mdetcat_range0000-0209.fits\")"
   ]
  },
  {
   "cell_type": "code",
   "execution_count": null,
   "id": "f7b07424",
   "metadata": {},
   "outputs": [],
   "source": [
    "msk = (\n",
    "    (d['slice_id'] == 0)\n",
    "    | (d['slice_id'] == 1)\n",
    "    | (d['slice_id'] == 2)\n",
    "    | (d['slice_id'] == 99)\n",
    "    | (d['slice_id'] == 100)\n",
    "    | (d['slice_id'] == 101)\n",
    "    | (d['slice_id'] == 198)\n",
    "    | (d['slice_id'] == 199)\n",
    "    | (d['slice_id'] == 200)\n",
    ")\n",
    "\n",
    "sids = np.unique(d[\"slice_id\"][msk])"
   ]
  },
  {
   "cell_type": "code",
   "execution_count": null,
   "id": "98ae3c7c",
   "metadata": {},
   "outputs": [],
   "source": [
    "import seaborn as sns\n",
    "colors = sns.mpl_palette('blues', n_colors=len(sids))\n",
    "\n",
    "# np.random.shuffle(colors)"
   ]
  },
  {
   "cell_type": "code",
   "execution_count": null,
   "id": "4a15d706",
   "metadata": {},
   "outputs": [],
   "source": [
    "fig, axs = plot.subplots(figsize=(12, 12))\n",
    "\n",
    "imgs = []\n",
    "for i, sid in enumerate(sids):\n",
    "    row_min = m['orig_start_row'][sid][0]+50\n",
    "    col_min = m['orig_start_col'][sid][0]+50\n",
    "    x = np.arange(col_min, col_min+101)\n",
    "    y = np.arange(row_min, row_min+101)\n",
    "    mbobs = mbmeds.get_mbobs(sid)\n",
    "    mask_gaia_stars(mbobs, gaia_stars, {\"symmetrize\": False})\n",
    "    imgs.append(mbobs[0][0].image[50:-50, 50:-50])\n",
    "\n",
    "vmin = np.min(np.arcsinh(imgs))\n",
    "vmax = np.max(np.arcsinh(imgs))\n",
    "\n",
    "for i, sid in enumerate(sids):\n",
    "    row_min = m['orig_start_row'][sid][0]+50\n",
    "    col_min = m['orig_start_col'][sid][0]+50\n",
    "    x = np.arange(col_min, col_min+101)\n",
    "    y = np.arange(row_min, row_min+101)\n",
    "    mbobs = mbmeds.get_mbobs(sid)\n",
    "    mask_gaia_stars(mbobs, gaia_stars, {\"symmetrize\": False})\n",
    "    axs.pcolormesh(x, y, np.arcsinh(mbobs[0][0].image[50:-50, 50:-50]), cmap='rocket', vmin=vmin, vmax=vmax)\n",
    "\n",
    "    \n",
    "for i, sid in enumerate(sids):\n",
    "    msk = d['slice_id'] == sid\n",
    "    # axs.plot(d[\"col\"][msk], d[\"row\"][msk], 'o', color='blue')\n",
    "    axs.plot(d[\"col\"][msk], d[\"row\"][msk], '.', color=colors[i])\n",
    "axs.set_aspect(1)\n",
    "axs.set_xlim(50, 350)\n",
    "axs.set_ylim(50, 350)"
   ]
  },
  {
   "cell_type": "code",
   "execution_count": null,
   "id": "56eb99d1",
   "metadata": {},
   "outputs": [],
   "source": [
    "d.dtype.descr"
   ]
  },
  {
   "cell_type": "code",
   "execution_count": null,
   "id": "90df5ed3",
   "metadata": {},
   "outputs": [],
   "source": []
  }
 ],
 "metadata": {
  "kernelspec": {
   "display_name": "Python [conda env:desy6] *",
   "language": "python",
   "name": "conda-env-desy6-py"
  },
  "language_info": {
   "codemirror_mode": {
    "name": "ipython",
    "version": 3
   },
   "file_extension": ".py",
   "mimetype": "text/x-python",
   "name": "python",
   "nbconvert_exporter": "python",
   "pygments_lexer": "ipython3",
   "version": "3.7.6"
  }
 },
 "nbformat": 4,
 "nbformat_minor": 5
}
