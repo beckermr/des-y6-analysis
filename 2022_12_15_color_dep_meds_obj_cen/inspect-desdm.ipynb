{
 "cells": [
  {
   "cell_type": "code",
   "execution_count": 1,
   "id": "8e9b9a71",
   "metadata": {},
   "outputs": [],
   "source": [
    "import os\n",
    "import fitsio\n",
    "import subprocess\n",
    "import meds\n",
    "from metadetect.fitting import fit_mbobs_list_wavg\n",
    "import ngmix\n",
    "from ngmix.medsreaders import NGMixMEDS, MultiBandNGMixMEDS\n",
    "import more_itertools\n",
    "import joblib"
   ]
  },
  {
   "cell_type": "code",
   "execution_count": 2,
   "id": "5ac6f272",
   "metadata": {},
   "outputs": [],
   "source": [
    "def _download(fname):\n",
    "    os.makedirs(\"./data\", exist_ok=True)\n",
    "    cmd = \"\"\"\\\n",
    "    rsync \\\n",
    "            -av \\\n",
    "            --password-file $DES_RSYNC_PASSFILE \\\n",
    "            ${DESREMOTE_RSYNC_USER}@${DESREMOTE_RSYNC}/%s \\\n",
    "            ./data/%s\n",
    "    \"\"\" % (fname, os.path.basename(fname))\n",
    "    subprocess.run(cmd, shell=True, check=True)\n",
    "    return \"./data/%s\" % os.path.basename(fname)"
   ]
  },
  {
   "cell_type": "code",
   "execution_count": 3,
   "id": "5eed1c25",
   "metadata": {},
   "outputs": [],
   "source": [
    "fnames = fitsio.read(\"fnames.fits\")"
   ]
  },
  {
   "cell_type": "code",
   "execution_count": 4,
   "id": "db1f210f",
   "metadata": {},
   "outputs": [
    {
     "name": "stdout",
     "output_type": "stream",
     "text": [
      "\n",
      "    DES rsync daemon\n",
      "\n",
      "receiving incremental file list\n",
      "\n",
      "sent 19 bytes  received 98 bytes  78.00 bytes/sec\n",
      "total size is 1050166080  speedup is 8975778.46\n",
      "\n",
      "    DES rsync daemon\n",
      "\n",
      "receiving incremental file list\n",
      "\n",
      "sent 19 bytes  received 98 bytes  234.00 bytes/sec\n",
      "total size is 940207680  speedup is 8035963.08\n",
      "\n",
      "    DES rsync daemon\n",
      "\n",
      "receiving incremental file list\n",
      "\n",
      "sent 19 bytes  received 98 bytes  78.00 bytes/sec\n",
      "total size is 988254720  speedup is 8446621.54\n",
      "\n",
      "    DES rsync daemon\n",
      "\n",
      "receiving incremental file list\n",
      "\n",
      "sent 19 bytes  received 98 bytes  234.00 bytes/sec\n",
      "total size is 962167680  speedup is 8223655.38\n"
     ]
    }
   ],
   "source": [
    "mfiles = [\n",
    "    _download(os.path.join(fnames[\"PATH\"][i], fnames[\"FILENAME\"][i]))\n",
    "    for i in range(fnames.shape[0])\n",
    "]"
   ]
  },
  {
   "cell_type": "code",
   "execution_count": 5,
   "id": "7cccca55",
   "metadata": {},
   "outputs": [],
   "source": [
    "def _fit(jinds, mpths):\n",
    "    m = None\n",
    "    try:\n",
    "        m = MultiBandNGMixMEDS([NGMixMEDS(pth) for pth in mpths])\n",
    "\n",
    "        mbobs_list = [\n",
    "            m.get_mbobs(i)\n",
    "            for i in jinds\n",
    "        ]       \n",
    "        fitter = ngmix.gaussmom.GaussMom(1.2)\n",
    "\n",
    "        return fit_mbobs_list_wavg(\n",
    "            mbobs_list=mbobs_list,\n",
    "            fitter=fitter,\n",
    "            bmask_flags=2**30,\n",
    "            symmetrize=False,\n",
    "        )\n",
    "    finally:\n",
    "        if m is not None:\n",
    "            for _m in m.mlist:\n",
    "                _m.close()"
   ]
  },
  {
   "cell_type": "code",
   "execution_count": 6,
   "id": "2a0a2bf2",
   "metadata": {},
   "outputs": [],
   "source": [
    "m = meds.MEDS(mfiles[0])\n",
    "n = m.size\n",
    "m.close()\n",
    "\n",
    "job_inds = list(more_itertools.chunked(range(n), n//99))\n",
    "\n",
    "jobs = []\n",
    "for jinds in job_inds:\n",
    "    jobs.append(\n",
    "        joblib.delayed(_fit)(jinds, mfiles)\n",
    "    )"
   ]
  },
  {
   "cell_type": "code",
   "execution_count": 7,
   "id": "93b5587f",
   "metadata": {
    "scrolled": false
   },
   "outputs": [
    {
     "name": "stdout",
     "output_type": "stream",
     "text": [
      "[Parallel(n_jobs=10)]: Using backend MultiprocessingBackend with 10 concurrent workers.\n",
      "[Parallel(n_jobs=10)]: Done   1 tasks      | elapsed:  1.9min\n",
      "[Parallel(n_jobs=10)]: Done   2 tasks      | elapsed:  2.0min\n",
      "[Parallel(n_jobs=10)]: Done   3 tasks      | elapsed:  2.0min\n",
      "[Parallel(n_jobs=10)]: Done   4 tasks      | elapsed:  2.2min\n",
      "[Parallel(n_jobs=10)]: Done   5 tasks      | elapsed:  2.2min\n",
      "[Parallel(n_jobs=10)]: Done   6 tasks      | elapsed:  3.3min\n",
      "[Parallel(n_jobs=10)]: Done   7 tasks      | elapsed:  3.5min\n",
      "[Parallel(n_jobs=10)]: Done   8 tasks      | elapsed:  3.6min\n",
      "[Parallel(n_jobs=10)]: Done   9 tasks      | elapsed:  3.6min\n",
      "[Parallel(n_jobs=10)]: Done  10 tasks      | elapsed:  3.6min\n",
      "[Parallel(n_jobs=10)]: Done  11 tasks      | elapsed:  4.7min\n",
      "[Parallel(n_jobs=10)]: Done  12 tasks      | elapsed:  4.7min\n",
      "[Parallel(n_jobs=10)]: Done  13 tasks      | elapsed:  4.8min\n",
      "[Parallel(n_jobs=10)]: Done  14 tasks      | elapsed:  4.8min\n",
      "[Parallel(n_jobs=10)]: Done  15 tasks      | elapsed:  4.8min\n",
      "[Parallel(n_jobs=10)]: Done  16 tasks      | elapsed:  8.0min\n",
      "[Parallel(n_jobs=10)]: Done  17 tasks      | elapsed:  8.5min\n",
      "[Parallel(n_jobs=10)]: Done  18 tasks      | elapsed:  9.0min\n",
      "[Parallel(n_jobs=10)]: Done  19 tasks      | elapsed:  9.1min\n",
      "[Parallel(n_jobs=10)]: Done  20 tasks      | elapsed:  9.3min\n",
      "[Parallel(n_jobs=10)]: Done  21 tasks      | elapsed:  9.4min\n",
      "[Parallel(n_jobs=10)]: Done  22 tasks      | elapsed:  9.9min\n",
      "[Parallel(n_jobs=10)]: Done  23 tasks      | elapsed: 10.1min\n",
      "[Parallel(n_jobs=10)]: Done  24 tasks      | elapsed: 10.5min\n",
      "[Parallel(n_jobs=10)]: Done  25 tasks      | elapsed: 11.8min\n",
      "[Parallel(n_jobs=10)]: Done  26 tasks      | elapsed: 12.7min\n",
      "[Parallel(n_jobs=10)]: Done  27 tasks      | elapsed: 14.1min\n",
      "[Parallel(n_jobs=10)]: Done  28 tasks      | elapsed: 14.3min\n",
      "[Parallel(n_jobs=10)]: Done  29 tasks      | elapsed: 14.9min\n",
      "[Parallel(n_jobs=10)]: Done  30 tasks      | elapsed: 17.2min\n",
      "[Parallel(n_jobs=10)]: Done  31 tasks      | elapsed: 17.2min\n",
      "[Parallel(n_jobs=10)]: Done  32 tasks      | elapsed: 17.9min\n",
      "[Parallel(n_jobs=10)]: Done  33 tasks      | elapsed: 18.6min\n",
      "[Parallel(n_jobs=10)]: Done  34 tasks      | elapsed: 18.9min\n",
      "[Parallel(n_jobs=10)]: Done  35 tasks      | elapsed: 19.5min\n",
      "[Parallel(n_jobs=10)]: Done  36 tasks      | elapsed: 20.0min\n",
      "[Parallel(n_jobs=10)]: Done  37 tasks      | elapsed: 20.1min\n",
      "[Parallel(n_jobs=10)]: Done  38 tasks      | elapsed: 20.3min\n",
      "[Parallel(n_jobs=10)]: Done  39 tasks      | elapsed: 20.6min\n",
      "[Parallel(n_jobs=10)]: Done  40 tasks      | elapsed: 20.7min\n",
      "[Parallel(n_jobs=10)]: Done  41 tasks      | elapsed: 21.1min\n",
      "[Parallel(n_jobs=10)]: Done  42 tasks      | elapsed: 21.2min\n",
      "[Parallel(n_jobs=10)]: Done  43 tasks      | elapsed: 21.3min\n",
      "[Parallel(n_jobs=10)]: Done  44 tasks      | elapsed: 22.0min\n",
      "[Parallel(n_jobs=10)]: Done  45 tasks      | elapsed: 22.6min\n",
      "[Parallel(n_jobs=10)]: Done  46 tasks      | elapsed: 23.3min\n",
      "[Parallel(n_jobs=10)]: Done  47 tasks      | elapsed: 23.8min\n",
      "[Parallel(n_jobs=10)]: Done  48 tasks      | elapsed: 24.6min\n",
      "[Parallel(n_jobs=10)]: Done  49 tasks      | elapsed: 25.1min\n",
      "[Parallel(n_jobs=10)]: Done  50 tasks      | elapsed: 25.1min\n",
      "[Parallel(n_jobs=10)]: Done  51 tasks      | elapsed: 25.1min\n",
      "[Parallel(n_jobs=10)]: Done  52 tasks      | elapsed: 25.3min\n",
      "[Parallel(n_jobs=10)]: Done  53 tasks      | elapsed: 25.6min\n",
      "[Parallel(n_jobs=10)]: Done  54 tasks      | elapsed: 26.1min\n",
      "[Parallel(n_jobs=10)]: Done  55 tasks      | elapsed: 26.1min\n",
      "[Parallel(n_jobs=10)]: Done  56 tasks      | elapsed: 26.4min\n",
      "[Parallel(n_jobs=10)]: Done  57 tasks      | elapsed: 26.6min\n",
      "[Parallel(n_jobs=10)]: Done  58 tasks      | elapsed: 27.1min\n",
      "[Parallel(n_jobs=10)]: Done  59 tasks      | elapsed: 27.4min\n",
      "[Parallel(n_jobs=10)]: Done  60 tasks      | elapsed: 27.5min\n",
      "[Parallel(n_jobs=10)]: Done  61 tasks      | elapsed: 27.7min\n",
      "[Parallel(n_jobs=10)]: Done  62 tasks      | elapsed: 27.9min\n",
      "[Parallel(n_jobs=10)]: Done  63 tasks      | elapsed: 28.5min\n",
      "[Parallel(n_jobs=10)]: Done  64 tasks      | elapsed: 28.5min\n",
      "[Parallel(n_jobs=10)]: Done  65 tasks      | elapsed: 28.5min\n",
      "[Parallel(n_jobs=10)]: Done  66 tasks      | elapsed: 29.0min\n",
      "[Parallel(n_jobs=10)]: Done  67 tasks      | elapsed: 29.0min\n",
      "[Parallel(n_jobs=10)]: Done  68 tasks      | elapsed: 29.1min\n",
      "[Parallel(n_jobs=10)]: Done  69 tasks      | elapsed: 29.3min\n",
      "[Parallel(n_jobs=10)]: Done  70 tasks      | elapsed: 29.5min\n",
      "[Parallel(n_jobs=10)]: Done  71 tasks      | elapsed: 29.5min\n",
      "[Parallel(n_jobs=10)]: Done  72 tasks      | elapsed: 29.5min\n",
      "[Parallel(n_jobs=10)]: Done  73 tasks      | elapsed: 29.8min\n",
      "[Parallel(n_jobs=10)]: Done  74 tasks      | elapsed: 29.9min\n",
      "[Parallel(n_jobs=10)]: Done  75 tasks      | elapsed: 30.0min\n",
      "[Parallel(n_jobs=10)]: Done  76 tasks      | elapsed: 30.1min\n",
      "[Parallel(n_jobs=10)]: Done  77 tasks      | elapsed: 30.1min\n",
      "[Parallel(n_jobs=10)]: Done  78 tasks      | elapsed: 30.2min\n",
      "[Parallel(n_jobs=10)]: Done  79 tasks      | elapsed: 30.3min\n",
      "[Parallel(n_jobs=10)]: Done  80 tasks      | elapsed: 30.5min\n",
      "[Parallel(n_jobs=10)]: Done  81 tasks      | elapsed: 30.9min\n",
      "[Parallel(n_jobs=10)]: Done  83 out of 100 | elapsed: 31.0min remaining:  6.4min\n",
      "[Parallel(n_jobs=10)]: Done  85 out of 100 | elapsed: 31.6min remaining:  5.6min\n",
      "[Parallel(n_jobs=10)]: Done  87 out of 100 | elapsed: 31.8min remaining:  4.7min\n",
      "[Parallel(n_jobs=10)]: Done  89 out of 100 | elapsed: 32.0min remaining:  4.0min\n",
      "[Parallel(n_jobs=10)]: Done  91 out of 100 | elapsed: 32.1min remaining:  3.2min\n",
      "[Parallel(n_jobs=10)]: Done  93 out of 100 | elapsed: 32.3min remaining:  2.4min\n",
      "[Parallel(n_jobs=10)]: Done  95 out of 100 | elapsed: 32.5min remaining:  1.7min\n",
      "[Parallel(n_jobs=10)]: Done  97 out of 100 | elapsed: 32.7min remaining:  1.0min\n",
      "[Parallel(n_jobs=10)]: Done 100 out of 100 | elapsed: 33.1min finished\n"
     ]
    }
   ],
   "source": [
    "with joblib.Parallel(n_jobs=10, backend=\"multiprocessing\", verbose=100) as exc:\n",
    "    res = exc(jobs)"
   ]
  },
  {
   "cell_type": "code",
   "execution_count": 8,
   "id": "40a915b8",
   "metadata": {},
   "outputs": [],
   "source": [
    "import numpy as np\n",
    "\n",
    "res = np.concatenate(res, axis=0)"
   ]
  },
  {
   "cell_type": "code",
   "execution_count": 9,
   "id": "b4e08c42",
   "metadata": {},
   "outputs": [
    {
     "ename": "ModuleNotFoundError",
     "evalue": "No module named 'proplot'",
     "output_type": "error",
     "traceback": [
      "\u001b[0;31m---------------------------------------------------------------------------\u001b[0m",
      "\u001b[0;31mModuleNotFoundError\u001b[0m                       Traceback (most recent call last)",
      "Cell \u001b[0;32mIn[9], line 3\u001b[0m\n\u001b[1;32m      1\u001b[0m msk \u001b[38;5;241m=\u001b[39m res[\u001b[38;5;124m\"\u001b[39m\u001b[38;5;124mwmom_flags\u001b[39m\u001b[38;5;124m\"\u001b[39m] \u001b[38;5;241m==\u001b[39m \u001b[38;5;241m0\u001b[39m\n\u001b[0;32m----> 3\u001b[0m \u001b[38;5;28;01mimport\u001b[39;00m \u001b[38;5;21;01mproplot\u001b[39;00m \u001b[38;5;28;01mas\u001b[39;00m \u001b[38;5;21;01mpplt\u001b[39;00m\n\u001b[1;32m      6\u001b[0m fig, axs \u001b[38;5;241m=\u001b[39m pplt\u001b[38;5;241m.\u001b[39msubplots()\n\u001b[1;32m      7\u001b[0m axs\u001b[38;5;241m.\u001b[39mhexbin(\n\u001b[1;32m      8\u001b[0m     np\u001b[38;5;241m.\u001b[39mlog10(res[msk][\u001b[38;5;124m\"\u001b[39m\u001b[38;5;124mwmom_s2n\u001b[39m\u001b[38;5;124m\"\u001b[39m]),\n\u001b[1;32m      9\u001b[0m     res[msk][\u001b[38;5;124m\"\u001b[39m\u001b[38;5;124mwmom_T_ratio\u001b[39m\u001b[38;5;124m\"\u001b[39m],\n\u001b[0;32m   (...)\u001b[0m\n\u001b[1;32m     13\u001b[0m     cmap\u001b[38;5;241m=\u001b[39m\u001b[38;5;124m\"\u001b[39m\u001b[38;5;124mrocket\u001b[39m\u001b[38;5;124m\"\u001b[39m,\n\u001b[1;32m     14\u001b[0m )\n",
      "\u001b[0;31mModuleNotFoundError\u001b[0m: No module named 'proplot'"
     ]
    }
   ],
   "source": [
    "msk = res[\"wmom_flags\"] == 0\n",
    "\n",
    "import proplot as pplt\n",
    "\n",
    "\n",
    "fig, axs = pplt.subplots()\n",
    "axs.hexbin(\n",
    "    np.log10(res[msk][\"wmom_s2n\"]),\n",
    "    res[msk][\"wmom_T_ratio\"],\n",
    "    extent=(0, 4, 0.5, 1.25),\n",
    "    gridsize=100,\n",
    "    norm=\"log\",\n",
    "    cmap=\"rocket\",\n",
    ")\n",
    "axs.format(xlim=(0, 4), ylim=(0.5, 1.25))\n",
    "\n",
    "np.median(res[msk & (res[\"wmom_s2n\"] > 1e3)][\"wmom_T_ratio\"])-1"
   ]
  },
  {
   "cell_type": "code",
   "execution_count": null,
   "id": "a1225af9",
   "metadata": {},
   "outputs": [],
   "source": [
    "import esutil\n",
    "\n",
    "s2n = 0.0\n",
    "for i in esutil.pbar.PBar(list(range(m.size))):\n",
    "    mbobs = m.get_mbobs(i, weight_type=\"uberseg\")\n",
    "    s2n += mbobs.get_s2n()\n",
    "s2n /= m.size"
   ]
  },
  {
   "cell_type": "code",
   "execution_count": null,
   "id": "317be002",
   "metadata": {},
   "outputs": [],
   "source": [
    "import numpy as np\n",
    "\n",
    "last = None\n",
    "for i in range(m.size):\n",
    "    for j in range(m[\"ncutout\"][i]):\n",
    "        if last is None:\n",
    "            assert m[\"psf_start_row\"][i, j] == 0\n",
    "        else:\n",
    "            assert m[\"psf_start_row\"][i, j] == last\n",
    "        last = m[\"psf_start_row\"][i, j] + m[\"psf_row_size\"][i, j] * m[\"psf_col_size\"][i, j]\n",
    "        \n",
    "        assert (\n",
    "            (m[\"psf_cutout_row\"][i, j] >= 0)\n",
    "            & ((m[\"psf_cutout_row\"][i, j] <= m[\"psf_row_size\"][i, j]))\n",
    "        )\n",
    "        \n",
    "        assert (\n",
    "            (m[\"psf_cutout_col\"][i, j] >= 0)\n",
    "            & ((m[\"psf_cutout_col\"][i, j] <= m[\"psf_col_size\"][i, j]))\n",
    "        )"
   ]
  },
  {
   "cell_type": "code",
   "execution_count": null,
   "id": "85ac97db",
   "metadata": {},
   "outputs": [],
   "source": []
  },
  {
   "cell_type": "code",
   "execution_count": null,
   "id": "e54faf2b",
   "metadata": {},
   "outputs": [],
   "source": [
    "with fitsio.FITS(pth) as f:\n",
    "    print(f[\"psf\"])"
   ]
  },
  {
   "cell_type": "code",
   "execution_count": null,
   "id": "358ade25",
   "metadata": {},
   "outputs": [],
   "source": []
  }
 ],
 "metadata": {
  "kernelspec": {
   "display_name": "Python [conda env:desmeds-dev-test]",
   "language": "python",
   "name": "conda-env-desmeds-dev-test-py"
  },
  "language_info": {
   "codemirror_mode": {
    "name": "ipython",
    "version": 3
   },
   "file_extension": ".py",
   "mimetype": "text/x-python",
   "name": "python",
   "nbconvert_exporter": "python",
   "pygments_lexer": "ipython3",
   "version": "3.10.8"
  }
 },
 "nbformat": 4,
 "nbformat_minor": 5
}
