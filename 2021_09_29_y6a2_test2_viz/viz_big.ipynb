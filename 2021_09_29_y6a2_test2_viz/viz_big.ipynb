{
 "cells": [
  {
   "cell_type": "code",
   "execution_count": null,
   "id": "e793dd6b",
   "metadata": {},
   "outputs": [],
   "source": [
    "import numpy as np\n",
    "import proplot as pplt\n",
    "import meds\n",
    "import fitsio\n",
    "import glob\n",
    "import tqdm"
   ]
  },
  {
   "cell_type": "code",
   "execution_count": null,
   "id": "15607b11",
   "metadata": {},
   "outputs": [],
   "source": [
    "fnames = glob.glob(\"cat_*.fits\")\n",
    "print(fnames)\n",
    "d = np.hstack([fitsio.read(f) for f in tqdm.tqdm(fnames)])"
   ]
  },
  {
   "cell_type": "code",
   "execution_count": null,
   "id": "889f15d4",
   "metadata": {},
   "outputs": [],
   "source": [
    "fig, axs = pplt.subplots()\n",
    "axs.hist(d['MDET_T_RATIO'], log=True)\n",
    "\n",
    "fig, axs = pplt.subplots()\n",
    "axs.hist(d['MDET_T'], log=True)"
   ]
  },
  {
   "cell_type": "code",
   "execution_count": null,
   "id": "54fe96d9",
   "metadata": {},
   "outputs": [],
   "source": [
    "m = meds.MEDS(\"DES0420-6039_r5366p01_r_pizza-cutter-slices.fits.fz\")\n",
    "m = meds.MEDS(\"DES0219-0541_r5366p01_r_pizza-cutter-slices.fits.fz\")\n",
    "m = meds.MEDS(\"DES0455-5123_r5366p01_r_pizza-cutter-slices.fits.fz\")"
   ]
  },
  {
   "cell_type": "code",
   "execution_count": null,
   "id": "da67b37d",
   "metadata": {},
   "outputs": [],
   "source": [
    "msk = (\n",
    "    (d[\"TILENAME\"] == \"DES0455-5123\")\n",
    "    & (d[\"MDET_T\"] > 0.7)\n",
    "    & (d[\"MDET_STEP\"] == \"noshear\")\n",
    ")\n",
    "\n",
    "print(np.unique(d[msk][\"TILENAME\"]))"
   ]
  },
  {
   "cell_type": "code",
   "execution_count": null,
   "id": "47ff9191",
   "metadata": {},
   "outputs": [],
   "source": [
    "slice_ids = np.unique(d[msk][\"SLICE_ID\"])\n",
    "print(len(slice_ids))"
   ]
  },
  {
   "cell_type": "code",
   "execution_count": null,
   "id": "78b1685e",
   "metadata": {},
   "outputs": [],
   "source": [
    "rc = fitsio.read(\"DES0455-5123_r5366p01_metadetect.fits.fz\")"
   ]
  },
  {
   "cell_type": "code",
   "execution_count": null,
   "id": "ecaca254",
   "metadata": {},
   "outputs": [],
   "source": []
  },
  {
   "cell_type": "code",
   "execution_count": null,
   "id": "467ae29d",
   "metadata": {},
   "outputs": [],
   "source": [
    "import sxdes\n",
    "\n",
    "for i, slice_id in enumerate(slice_ids):\n",
    "    \n",
    "    # get the catalog and seg map using the convenience function\n",
    "    \n",
    "    img = m.get_cutout(slice_id, 0)\n",
    "    wgt = m.get_cutout(slice_id, 0, type=\"weight\")\n",
    "    ormask = m.get_cutout(slice_id, 0, type=\"mfrac\")\n",
    "    fig, axs = pplt.subplots(refaspect=1, refwidth=8, nrows=1, ncols=2)\n",
    "    ax = axs[0]\n",
    "    ax.imshow(np.arcsinh(img * np.sqrt(wgt)), origin=\"lower\", cmap=\"rocket\")\n",
    "    smsk = d[msk][\"SLICE_ID\"] == slice_id\n",
    "    ax.plot(d[msk][\"SLICE_COL\"][smsk], d[msk][\"SLICE_ROW\"][smsk], \"b.\")\n",
    "    print(d[msk][\"MDET_T\"][smsk], d[msk][\"PSF_T\"][smsk], d[msk][\"MDET_S2N\"][smsk])\n",
    "    ax.grid(False)\n",
    "    ax.format(title=slice_id)\n",
    "\n",
    "#     cat, _ = sxdes.run_sep(img, 1.0/np.sqrt(wgt))\n",
    "#     print(cat.shape)\n",
    "#     ax.plot(cat[\"x\"], cat[\"y\"], \"g.\")\n",
    "    \n",
    "    rmsk = (\n",
    "        (rc[\"slice_id\"] == slice_id) & \n",
    "(\n",
    "            (rc[\"mdet_T_ratio\"] > 1.2) & (rc[\"mdet_s2n\"] > 15)\n",
    "        )\n",
    "    )\n",
    "    print(np.sum(rmsk))\n",
    "    print(rc[rmsk][\"mdet_T_ratio\"])\n",
    "    ax.plot(rc[rmsk][\"slice_col\"], rc[rmsk][\"slice_row\"], \"c.\")\n",
    "    \n",
    "#     omsk = (\n",
    "#         (d[\"TILENAME\"] == \"DES0455-5123\")\n",
    "#         & (d[\"SLICE_ID\"] == slice_id)\n",
    "#     )\n",
    "#     print(np.sum(omsk))\n",
    "#     ax.plot(d[omsk][\"SLICE_COL\"], d[omsk][\"SLICE_ROW\"], \"b.\")\n",
    "    \n",
    "    ax = axs[1]\n",
    "    ax.imshow(np.arcsinh(ormask), cmap=\"rocket\", origin=\"lower\")\n",
    "    if i == 10:\n",
    "        break"
   ]
  },
  {
   "cell_type": "code",
   "execution_count": null,
   "id": "59f0b3e3",
   "metadata": {},
   "outputs": [],
   "source": [
    "ppmsk = rc[\"flags\"] == 0\n",
    "\n",
    "fig, axs = pplt.subplots(refwidth=6)\n",
    "axs.hexbin(\n",
    "    np.log10(rc[\"mdet_s2n\"][ppmsk]), \n",
    "    rc[\"mdet_T_ratio\"][ppmsk], \n",
    "    bins='log', \n",
    "    cmap=\"rocket\",\n",
    "    extent=[np.log10(5), 3, 0.0, 3.0]\n",
    ")\n",
    "axs.hlines(1.1, 0.5, 3)\n",
    "axs.hlines(1.2, 0.5, 3)"
   ]
  },
  {
   "cell_type": "code",
   "execution_count": null,
   "id": "9b73d31c",
   "metadata": {},
   "outputs": [],
   "source": [
    "rc[rmsk][\"mdet_T_ratio\"]"
   ]
  },
  {
   "cell_type": "code",
   "execution_count": null,
   "id": "7cfbfaab",
   "metadata": {},
   "outputs": [],
   "source": []
  }
 ],
 "metadata": {
  "kernelspec": {
   "display_name": "Python [conda env:desy6] *",
   "language": "python",
   "name": "conda-env-desy6-py"
  },
  "language_info": {
   "codemirror_mode": {
    "name": "ipython",
    "version": 3
   },
   "file_extension": ".py",
   "mimetype": "text/x-python",
   "name": "python",
   "nbconvert_exporter": "python",
   "pygments_lexer": "ipython3",
   "version": "3.8.10"
  }
 },
 "nbformat": 4,
 "nbformat_minor": 5
}
