{
 "cells": [
  {
   "cell_type": "code",
   "execution_count": 1,
   "metadata": {},
   "outputs": [],
   "source": [
    "import joblib\n",
    "import tqdm\n",
    "import numpy as np\n",
    "import fitsio\n",
    "\n",
    "import proplot as pplt\n",
    "\n",
    "%matplotlib inline"
   ]
  },
  {
   "cell_type": "code",
   "execution_count": 6,
   "metadata": {},
   "outputs": [],
   "source": [
    "def grid_file(*, fname, ngrid):\n",
    "    d = fitsio.read(fname)\n",
    "\n",
    "    dgrid = 1e4/ngrid\n",
    "    xind = np.floor(d[\"x\"] / dgrid)\n",
    "    yind = np.floor(d[\"y\"] / dgrid)\n",
    "    gind = yind * ngrid + xind\n",
    "\n",
    "    msk = (\n",
    "        ((d[\"mask_flags\"] & (~16)) == 0)\n",
    "        & \n",
    "        (d[\"gauss_flags\"] == 0)\n",
    "        &\n",
    "        (d[\"gauss_psf_flags\"] == 0)\n",
    "        & \n",
    "        (d[\"gauss_obj_flags\"] == 0)\n",
    "        &\n",
    "        (d[\"psfrec_flags\"] == 0)\n",
    "        & \n",
    "        (d[\"gauss_T_ratio\"] > 0.5)\n",
    "        & (d[\"gauss_s2n\"] > 10)\n",
    "    )\n",
    "\n",
    "    vals = []\n",
    "\n",
    "    ugind = np.unique(gind)\n",
    "    for _gind in range(ngrid*ngrid):\n",
    "        gmsk = msk & (_gind == gind)\n",
    "        if np.any(gmsk):\n",
    "            sval = []\n",
    "            for shear in [\"noshear\", \"1p\", \"1m\"]:\n",
    "                sgmsk = gmsk & (d[\"mdet_step\"] == shear)\n",
    "                if np.any(sgmsk):\n",
    "                    sval.append(np.mean(d[\"gauss_g_1\"][sgmsk]))\n",
    "                    sval.append(np.sum(sgmsk))\n",
    "                else:\n",
    "                    sval.append(np.nan)\n",
    "                    sval.append(np.nan)\n",
    "            vals.append(tuple(sval + [_gind]))\n",
    "        else:\n",
    "            vals.append(tuple([np.nan] * 6 + [_gind]))\n",
    "    \n",
    "    return np.array(vals, dtype=[(\"g1\", \"f8\"), (\"ng1\", \"f8\"), (\"g1p\", \"f8\"), (\"ng1p\", \"f8\"), (\"g1m\", \"f8\"), (\"ng1m\", \"f8\"), (\"grid_ind\", \"i4\")])\n",
    "            \n",
    "\n",
    "def grid_file_pair(*, fplus, fminus, ngrid):\n",
    "    dp = grid_file(fname=fplus, ngrid=ngrid)\n",
    "    dm = grid_file(fname=fminus, ngrid=ngrid)\n",
    "\n",
    "    assert np.all(dp[\"grid_ind\"] == dm[\"grid_ind\"])\n",
    "\n",
    "    dt = []\n",
    "    for tail in [\"_p\", \"_m\"]:\n",
    "        for name in dp.dtype.names:\n",
    "            if name != \"grid_ind\":\n",
    "                dt.append((name + tail, \"f8\"))\n",
    "    dt.append((\"grid_ind\", \"i4\"))\n",
    "    d = np.zeros(ngrid * ngrid, dtype=dt)\n",
    "    for _d, tail in [(dp, \"_p\"), (dm, \"_m\")]:\n",
    "        for name in dp.dtype.names:\n",
    "            if name != \"grid_ind\":\n",
    "                d[name + tail] = _d[name]\n",
    "    d[\"grid_ind\"] = dp[\"grid_ind\"]\n",
    "    \n",
    "    return d"
   ]
  },
  {
   "cell_type": "code",
   "execution_count": 7,
   "metadata": {},
   "outputs": [],
   "source": [
    "def compute_shear_pair(d):\n",
    "    g1_p = np.nansum(d[\"g1_p\"] * d[\"ng1_p\"]) / np.nansum(d[\"ng1_p\"])\n",
    "    g1p_p = np.nansum(d[\"g1p_p\"] * d[\"ng1p_p\"]) / np.nansum(d[\"ng1p_p\"])\n",
    "    g1m_p = np.nansum(d[\"g1m_p\"] * d[\"ng1m_p\"]) / np.nansum(d[\"ng1m_p\"])\n",
    "    R11_p = (g1p_p - g1m_p) / 0.02\n",
    "\n",
    "    g1_m = np.nansum(d[\"g1_m\"] * d[\"ng1_m\"]) / np.nansum(d[\"ng1_m\"])\n",
    "    g1p_m = np.nansum(d[\"g1p_m\"] * d[\"ng1p_m\"]) / np.nansum(d[\"ng1p_m\"])\n",
    "    g1m_m = np.nansum(d[\"g1m_m\"] * d[\"ng1m_m\"]) / np.nansum(d[\"ng1m_m\"])\n",
    "    R11_m = (g1p_m - g1m_m) / 0.02\n",
    "\n",
    "    return (g1_p - g1_m) / (R11_p + R11_m)"
   ]
  },
  {
   "cell_type": "code",
   "execution_count": 8,
   "metadata": {},
   "outputs": [],
   "source": [
    "import glob\n",
    "\n",
    "pfiles = sorted(glob.glob(\"sim_outputs_plus_23_*/*/*/metadetect/*_mdetcat_part*.fits\"))\n",
    "mfiles = sorted(glob.glob(\"sim_outputs_minus_23_*/*/*/metadetect/*_mdetcat_part*.fits\"))"
   ]
  },
  {
   "cell_type": "code",
   "execution_count": 9,
   "metadata": {},
   "outputs": [],
   "source": [
    "pmap = {pfile.split(\"/\")[0]: pfile for pfile in pfiles}\n",
    "mmap = {mfile.split(\"/\")[0]: mfile for mfile in mfiles}\n",
    "\n",
    "pairs = {}\n",
    "for pk, pv in pmap.items():\n",
    "    mk = pk.replace(\"_plus_\", \"_minus_\")\n",
    "    if mk in mmap:\n",
    "        pairs[(pk, mk)] = (pv, mmap[mk])"
   ]
  },
  {
   "cell_type": "code",
   "execution_count": 10,
   "metadata": {},
   "outputs": [
    {
     "data": {
      "text/plain": [
       "50"
      ]
     },
     "execution_count": 10,
     "metadata": {},
     "output_type": "execute_result"
    }
   ],
   "source": [
    "len(pairs)"
   ]
  },
  {
   "cell_type": "code",
   "execution_count": 11,
   "metadata": {},
   "outputs": [
    {
     "name": "stdout",
     "output_type": "stream",
     "text": [
      "[Parallel(n_jobs=8)]: Using backend LokyBackend with 8 concurrent workers.\n",
      "[Parallel(n_jobs=8)]: Done   1 tasks      | elapsed:   39.3s\n",
      "[Parallel(n_jobs=8)]: Done   2 tasks      | elapsed:   40.9s\n",
      "[Parallel(n_jobs=8)]: Done   3 tasks      | elapsed:   41.2s\n",
      "[Parallel(n_jobs=8)]: Done   4 tasks      | elapsed:   41.7s\n",
      "[Parallel(n_jobs=8)]: Done   5 tasks      | elapsed:   42.1s\n",
      "[Parallel(n_jobs=8)]: Done   6 tasks      | elapsed:   42.5s\n",
      "[Parallel(n_jobs=8)]: Done   7 tasks      | elapsed:   43.0s\n",
      "[Parallel(n_jobs=8)]: Done   8 tasks      | elapsed:   43.2s\n",
      "[Parallel(n_jobs=8)]: Done   9 tasks      | elapsed:  1.1min\n",
      "[Parallel(n_jobs=8)]: Done  10 tasks      | elapsed:  1.2min\n",
      "[Parallel(n_jobs=8)]: Done  11 tasks      | elapsed:  1.2min\n",
      "[Parallel(n_jobs=8)]: Done  12 tasks      | elapsed:  1.2min\n",
      "[Parallel(n_jobs=8)]: Done  13 tasks      | elapsed:  1.2min\n",
      "[Parallel(n_jobs=8)]: Done  14 tasks      | elapsed:  1.2min\n",
      "[Parallel(n_jobs=8)]: Done  15 tasks      | elapsed:  1.2min\n",
      "[Parallel(n_jobs=8)]: Done  16 tasks      | elapsed:  1.3min\n",
      "[Parallel(n_jobs=8)]: Done  17 tasks      | elapsed:  1.6min\n",
      "[Parallel(n_jobs=8)]: Done  18 tasks      | elapsed:  1.7min\n",
      "[Parallel(n_jobs=8)]: Done  19 tasks      | elapsed:  1.7min\n",
      "[Parallel(n_jobs=8)]: Done  20 tasks      | elapsed:  1.7min\n",
      "[Parallel(n_jobs=8)]: Done  21 tasks      | elapsed:  1.7min\n",
      "[Parallel(n_jobs=8)]: Done  22 tasks      | elapsed:  1.7min\n",
      "[Parallel(n_jobs=8)]: Done  23 tasks      | elapsed:  1.8min\n",
      "[Parallel(n_jobs=8)]: Done  24 tasks      | elapsed:  1.8min\n",
      "[Parallel(n_jobs=8)]: Done  25 tasks      | elapsed:  2.1min\n",
      "[Parallel(n_jobs=8)]: Done  26 tasks      | elapsed:  2.1min\n",
      "[Parallel(n_jobs=8)]: Done  27 tasks      | elapsed:  2.2min\n",
      "[Parallel(n_jobs=8)]: Done  28 tasks      | elapsed:  2.2min\n",
      "[Parallel(n_jobs=8)]: Done  29 tasks      | elapsed:  2.2min\n",
      "[Parallel(n_jobs=8)]: Done  30 tasks      | elapsed:  2.2min\n",
      "[Parallel(n_jobs=8)]: Done  31 tasks      | elapsed:  2.3min\n",
      "[Parallel(n_jobs=8)]: Done  32 tasks      | elapsed:  2.3min\n",
      "[Parallel(n_jobs=8)]: Done  33 tasks      | elapsed:  2.6min\n",
      "[Parallel(n_jobs=8)]: Done  34 tasks      | elapsed:  2.6min\n",
      "[Parallel(n_jobs=8)]: Done  35 tasks      | elapsed:  2.7min\n",
      "[Parallel(n_jobs=8)]: Done  36 out of  50 | elapsed:  2.7min remaining:  1.1min\n",
      "[Parallel(n_jobs=8)]: Done  37 out of  50 | elapsed:  2.7min remaining:   57.5s\n",
      "[Parallel(n_jobs=8)]: Done  38 out of  50 | elapsed:  2.8min remaining:   52.2s\n",
      "[Parallel(n_jobs=8)]: Done  39 out of  50 | elapsed:  2.8min remaining:   46.8s\n",
      "[Parallel(n_jobs=8)]: Done  40 out of  50 | elapsed:  2.8min remaining:   41.6s\n",
      "[Parallel(n_jobs=8)]: Done  41 out of  50 | elapsed:  3.1min remaining:   40.7s\n",
      "[Parallel(n_jobs=8)]: Done  42 out of  50 | elapsed:  3.1min remaining:   35.9s\n",
      "[Parallel(n_jobs=8)]: Done  43 out of  50 | elapsed:  3.2min remaining:   31.1s\n",
      "[Parallel(n_jobs=8)]: Done  44 out of  50 | elapsed:  3.2min remaining:   26.2s\n",
      "[Parallel(n_jobs=8)]: Done  45 out of  50 | elapsed:  3.2min remaining:   21.5s\n",
      "[Parallel(n_jobs=8)]: Done  46 out of  50 | elapsed:  3.2min remaining:   16.9s\n",
      "[Parallel(n_jobs=8)]: Done  47 out of  50 | elapsed:  3.3min remaining:   12.5s\n",
      "[Parallel(n_jobs=8)]: Done  48 out of  50 | elapsed:  3.3min remaining:    8.2s\n",
      "[Parallel(n_jobs=8)]: Done  50 out of  50 | elapsed:  3.4min remaining:    0.0s\n",
      "[Parallel(n_jobs=8)]: Done  50 out of  50 | elapsed:  3.4min finished\n"
     ]
    }
   ],
   "source": [
    "import joblib\n",
    "\n",
    "jobs = [\n",
    "    joblib.delayed(grid_file_pair)(fplus=pfile, fminus=mfile, ngrid=10)\n",
    "    for pfile, mfile in pairs.values()\n",
    "]\n",
    "\n",
    "with joblib.Parallel(n_jobs=8, backend=\"loky\", verbose=100) as par:\n",
    "    d = par(jobs)\n",
    "\n",
    "d = np.concatenate(d, axis=0)"
   ]
  },
  {
   "cell_type": "code",
   "execution_count": 12,
   "metadata": {},
   "outputs": [
    {
     "name": "stderr",
     "output_type": "stream",
     "text": [
      "100%|██████████████████████████████████████| 1000/1000 [00:01<00:00, 566.23it/s]\n"
     ]
    },
    {
     "name": "stdout",
     "output_type": "stream",
     "text": [
      "m = -4.081 +/- 7.165 [1e-3, 3-sigma]\n"
     ]
    }
   ],
   "source": [
    "import tqdm\n",
    "\n",
    "ns = 1000\n",
    "seed = 10\n",
    "rng = np.random.RandomState(seed=seed)\n",
    "\n",
    "mn = compute_shear_pair(d)/0.02-1\n",
    "vals = []\n",
    "for i in tqdm.trange(ns, ncols=80):\n",
    "    rind = rng.choice(d.shape[0], size=d.shape[0], replace=True)\n",
    "    vals.append(compute_shear_pair(d[rind])/0.02-1)\n",
    "\n",
    "print(\"m = %0.3f +/- %0.3f [1e-3, 3-sigma]\" % (mn/1e-3, np.std(vals)*3/1e-3))"
   ]
  },
  {
   "cell_type": "code",
   "execution_count": null,
   "metadata": {},
   "outputs": [],
   "source": [
    "!tail -f log23_*"
   ]
  },
  {
   "cell_type": "code",
   "execution_count": null,
   "metadata": {},
   "outputs": [],
   "source": []
  }
 ],
 "metadata": {
  "kernelspec": {
   "display_name": "des-y6-imsims",
   "language": "python",
   "name": "python3"
  },
  "language_info": {
   "codemirror_mode": {
    "name": "ipython",
    "version": 3
   },
   "file_extension": ".py",
   "mimetype": "text/x-python",
   "name": "python",
   "nbconvert_exporter": "python",
   "pygments_lexer": "ipython3",
   "version": "3.9.16"
  },
  "orig_nbformat": 4
 },
 "nbformat": 4,
 "nbformat_minor": 2
}
