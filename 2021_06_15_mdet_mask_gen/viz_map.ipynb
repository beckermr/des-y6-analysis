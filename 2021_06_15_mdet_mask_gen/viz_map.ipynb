{
 "cells": [
  {
   "cell_type": "code",
   "execution_count": null,
   "id": "6fe6077b",
   "metadata": {},
   "outputs": [],
   "source": [
    "import proplot as pplt\n",
    "import healsparse\n",
    "import numpy as np\n",
    "import fitsio"
   ]
  },
  {
   "cell_type": "code",
   "execution_count": null,
   "id": "822c73d5",
   "metadata": {},
   "outputs": [],
   "source": [
    "hsp_map = healsparse.HealSparseMap.read(\"DES0007-5957_metadetect-v3_mdetcat_range0000-0009-healsparse-mask.hs\")"
   ]
  },
  {
   "cell_type": "code",
   "execution_count": null,
   "id": "665a8b22",
   "metadata": {},
   "outputs": [],
   "source": [
    "fig, axs = pplt.subplots(figsize=(10, 10))\n",
    "\n",
    "vpix, ra, dec = hsp_map.valid_pixels_pos(return_pixels=True)\n",
    "\n",
    "axs.hexbin(\n",
    "    ra, dec, C=hsp_map[vpix], \n",
    "    gridsize=1000, \n",
    "    # extent=[1.8, 2.2, -60.2, -60.24], \n",
    "    reduce_C_function=np.max,\n",
    "    vmin=0, vmax=4,\n",
    "    # levels=[0, 1, 2, 3, 4, 5],\n",
    "    colorbar='r',\n",
    "    cmap='rocket',\n",
    ")\n",
    "axs.grid(False)\n",
    "axs.invert_xaxis()\n",
    "# axs.hexbin(ra, dec, gridsize=100, colorbar='r', extent=[1.8, 2.2, -60.2, -60.24])"
   ]
  },
  {
   "cell_type": "code",
   "execution_count": null,
   "id": "4c118358",
   "metadata": {},
   "outputs": [],
   "source": [
    "import fitsio\n",
    "\n",
    "d = fitsio.read(\"DES0007-5957_metadetect-v3_mdetcat_range0000-0009.fits.fz\", ext=\"msk\")"
   ]
  },
  {
   "cell_type": "code",
   "execution_count": null,
   "id": "a95162d2",
   "metadata": {},
   "outputs": [],
   "source": [
    "fig, axs = pplt.subplots(figsize=(10, 10))\n",
    "axs.imshow(d[:, ::-1], origin='lower')"
   ]
  },
  {
   "cell_type": "code",
   "execution_count": null,
   "id": "46dab12d",
   "metadata": {},
   "outputs": [],
   "source": [
    "ii = fitsio.read(\"DES0007-5957_r5227p01_z_pizza-cutter-slices.fits.fz\", ext=\"image_info\")"
   ]
  },
  {
   "cell_type": "code",
   "execution_count": null,
   "id": "f8229f01",
   "metadata": {},
   "outputs": [],
   "source": [
    "import json\n",
    "from esutil.wcsutil import WCS\n",
    "\n",
    "wcs = WCS(json.loads(ii[\"wcs\"][0]))"
   ]
  },
  {
   "cell_type": "code",
   "execution_count": null,
   "id": "8bbf5c77",
   "metadata": {},
   "outputs": [],
   "source": [
    "print(wcs.image2sky(np.array([10]), np.array([0]))[0] - wcs.image2sky(np.array([0]), np.array([0]))[0])\n",
    "print(wcs.image2sky(np.array([0]), np.array([10]))[1] - wcs.image2sky(np.array([0]), np.array([0]))[1])"
   ]
  },
  {
   "cell_type": "code",
   "execution_count": null,
   "id": "a54726d7",
   "metadata": {},
   "outputs": [],
   "source": [
    "axs.imshow?"
   ]
  },
  {
   "cell_type": "code",
   "execution_count": null,
   "id": "8ec069f2",
   "metadata": {},
   "outputs": [],
   "source": [
    "wcs\n"
   ]
  },
  {
   "cell_type": "code",
   "execution_count": null,
   "id": "0ee7297d",
   "metadata": {},
   "outputs": [],
   "source": []
  }
 ],
 "metadata": {
  "kernelspec": {
   "display_name": "Python [conda env:desy6] *",
   "language": "python",
   "name": "conda-env-desy6-py"
  },
  "language_info": {
   "codemirror_mode": {
    "name": "ipython",
    "version": 3
   },
   "file_extension": ".py",
   "mimetype": "text/x-python",
   "name": "python",
   "nbconvert_exporter": "python",
   "pygments_lexer": "ipython3",
   "version": "3.8.10"
  }
 },
 "nbformat": 4,
 "nbformat_minor": 5
}
