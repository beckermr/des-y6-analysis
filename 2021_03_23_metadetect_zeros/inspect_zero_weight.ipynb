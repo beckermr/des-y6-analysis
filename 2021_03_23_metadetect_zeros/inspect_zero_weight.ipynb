{
 "cells": [
  {
   "cell_type": "code",
   "execution_count": null,
   "id": "biblical-electric",
   "metadata": {},
   "outputs": [],
   "source": [
    "import matplotlib.pyplot as plt\n",
    "import seaborn as sns\n",
    "\n",
    "%matplotlib notebook\n",
    "sns.set()"
   ]
  },
  {
   "cell_type": "code",
   "execution_count": null,
   "id": "attended-attempt",
   "metadata": {},
   "outputs": [],
   "source": [
    "import meds\n",
    "import numpy as np\n",
    "from metadetect import do_metadetect\n",
    "from ngmix.medsreaders import MultiBandNGMixMEDS, NGMixMEDS\n",
    "import yaml"
   ]
  },
  {
   "cell_type": "code",
   "execution_count": null,
   "id": "voluntary-mathematics",
   "metadata": {},
   "outputs": [],
   "source": [
    "config = yaml.safe_load(\"\"\"\n",
    "\n",
    "metacal:\n",
    "  psf: fitgauss\n",
    "  types: [noshear, 1p, 1m, 2p, 2m]\n",
    "  use_noise_image: True\n",
    "\n",
    "psf:\n",
    "  lm_pars:\n",
    "    maxfev: 2000\n",
    "    ftol: 1.0e-05\n",
    "    xtol: 1.0e-05\n",
    "  model: gauss\n",
    "\n",
    "  # we try many times because if this fails we get no psf info\n",
    "  # for the entire patch\n",
    "  ntry: 10\n",
    "\n",
    "sx:\n",
    "  # Minimum contrast parameter for deblending\n",
    "  deblend_cont: 1.0e-05\n",
    "\n",
    "  # in sky sigma\n",
    "  detect_thresh: 0.8\n",
    "\n",
    "  # minimum number of pixels above threshold\n",
    "  minarea: 4\n",
    "\n",
    "  filter_type: conv\n",
    "  # 7x7 convolution mask of a gaussian PSF with FWHM = 3.0 pixels.\n",
    "  filter_kernel:\n",
    "    - [0.004963, 0.021388, 0.051328, 0.068707, 0.051328, 0.021388, 0.004963]\n",
    "    - [0.021388, 0.092163, 0.221178, 0.296069, 0.221178, 0.092163, 0.021388]\n",
    "    - [0.051328, 0.221178, 0.530797, 0.710525, 0.530797, 0.221178, 0.051328]\n",
    "    - [0.068707, 0.296069, 0.710525, 0.951108, 0.710525, 0.296069, 0.068707]\n",
    "    - [0.051328, 0.221178, 0.530797, 0.710525, 0.530797, 0.221178, 0.051328]\n",
    "    - [0.021388, 0.092163, 0.221178, 0.296069, 0.221178, 0.092163, 0.021388]\n",
    "    - [0.004963, 0.021388, 0.051328, 0.068707, 0.051328, 0.021388, 0.004963]\n",
    "\n",
    "weight:\n",
    "  fwhm: 1.2  # arcsec\n",
    "\n",
    "# check for hitting the edge\n",
    "bmask_flags: 1610612736  # 2**29 | 2**30\n",
    "\n",
    "# fraction of slice where STAR or TRAIL was set.  We may cut objects detected\n",
    "# there\n",
    "star_flags: 96\n",
    "\n",
    "# we don't interpolate over tapebumps\n",
    "tapebump_flags: 16384\n",
    "\n",
    "# things interpolated using the spline\n",
    "spline_interp_flags: 3155\n",
    "\n",
    "# replaced with noise\n",
    "noise_interp_flags: 908\n",
    "\n",
    "# pixels will have these flag set in the ormask if they were interpolated\n",
    "# plus adding in tapebump and star\n",
    "imperfect_flags: 20479\n",
    "\n",
    "meds:\n",
    "  box_padding: 2\n",
    "  box_type: iso_radius\n",
    "  max_box_size: 32\n",
    "  min_box_size: 32\n",
    "  rad_fac: 2\n",
    "  rad_min: 4\n",
    "\"\"\")"
   ]
  },
  {
   "cell_type": "code",
   "execution_count": null,
   "id": "immediate-scoop",
   "metadata": {},
   "outputs": [],
   "source": [
    "meds_list = [\n",
    "    NGMixMEDS(\"/Users/beckermr/Downloads/DES0000-0207_r_des-pizza-slices-y6-v2_meds-pizza-slices.fits.fz\"),\n",
    "    NGMixMEDS(\"/Users/beckermr/Downloads/DES0000-0207_z_des-pizza-slices-y6-v2_meds-pizza-slices.fits.fz\"),\n",
    "]\n",
    "mbmeds = MultiBandNGMixMEDS(meds_list)"
   ]
  },
  {
   "cell_type": "code",
   "execution_count": null,
   "id": "ordered-closure",
   "metadata": {},
   "outputs": [],
   "source": [
    "slice_ind = 7\n",
    "\n",
    "fig, axs = plt.subplots(nrows=3, ncols=2, figsize=(8, 8))\n",
    "\n",
    "for ax, name in zip(axs.ravel(), [\"image\", \"weight\", \"bmask\", \"ormask\", \"noise\"]):\n",
    "    ax.imshow(np.arcsinh(m.get_cutout(slice_ind, 0, type=name)))\n",
    "    ax.grid(False)\n",
    "    ax.set_aspect(1)\n",
    "    ax.set_title(name)\n",
    "    ax.xaxis.set_visible(False)\n",
    "    ax.yaxis.set_visible(False)    \n",
    "    \n",
    "axs.ravel()[-1].axis(\"off\")\n",
    "fig.tight_layout()"
   ]
  },
  {
   "cell_type": "code",
   "execution_count": null,
   "id": "funny-consumption",
   "metadata": {},
   "outputs": [],
   "source": [
    "import tqdm\n",
    "from ngmix import ObsList, MultiBandObsList\n",
    "\n",
    "for i in tqdm.trange(8, 9):\n",
    "    rng = np.random.RandomState(seed=i)\n",
    "    #     obs = m.get_obs(i, 0)\n",
    "    #     obsl = ObsList()\n",
    "    #     obsl.append(obs)\n",
    "    #     mbobs = MultiBandObsList()\n",
    "    #     mbobs.append(obsl)\n",
    "    mbobs = mbmeds.get_mbobs(i)\n",
    "    res = do_metadetect(config, mbobs, rng)"
   ]
  },
  {
   "cell_type": "code",
   "execution_count": null,
   "id": "bigger-fitting",
   "metadata": {},
   "outputs": [],
   "source": [
    "mbobs = mbmeds.get_mbobs(8)\n",
    "obs = mbobs[1][0]\n",
    "\n",
    "fig, axs = plt.subplots(nrows=3, ncols=2, figsize=(8, 8))\n",
    "\n",
    "for ax, name in zip(axs.ravel(), [\"image\", \"weight\", \"bmask\", \"ormask\", \"noise\"]):\n",
    "    img = getattr(obs, name)\n",
    "    ax.imshow(np.arcsinh(img))\n",
    "    ax.grid(False)\n",
    "    ax.set_aspect(1)\n",
    "    ax.set_title(name)\n",
    "    ax.xaxis.set_visible(False)\n",
    "    ax.yaxis.set_visible(False)    \n",
    "    \n",
    "axs.ravel()[-1].axis(\"off\")\n",
    "fig.tight_layout()"
   ]
  },
  {
   "cell_type": "code",
   "execution_count": null,
   "id": "dedicated-atlas",
   "metadata": {},
   "outputs": [],
   "source": [
    "np.all(np.isfinite(obs.noise))"
   ]
  },
  {
   "cell_type": "code",
   "execution_count": null,
   "id": "thick-saturday",
   "metadata": {},
   "outputs": [],
   "source": [
    "2**29 | 2**30"
   ]
  },
  {
   "cell_type": "code",
   "execution_count": null,
   "id": "capable-seminar",
   "metadata": {},
   "outputs": [],
   "source": []
  }
 ],
 "metadata": {
  "kernelspec": {
   "display_name": "Python [conda env:desy6] *",
   "language": "python",
   "name": "conda-env-desy6-py"
  },
  "language_info": {
   "codemirror_mode": {
    "name": "ipython",
    "version": 3
   },
   "file_extension": ".py",
   "mimetype": "text/x-python",
   "name": "python",
   "nbconvert_exporter": "python",
   "pygments_lexer": "ipython3",
   "version": "3.7.6"
  }
 },
 "nbformat": 4,
 "nbformat_minor": 5
}
