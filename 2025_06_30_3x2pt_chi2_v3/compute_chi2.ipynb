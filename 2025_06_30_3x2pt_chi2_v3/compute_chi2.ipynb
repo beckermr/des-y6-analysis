{
 "cells": [
  {
   "cell_type": "code",
   "execution_count": null,
   "id": "d1ee8d50",
   "metadata": {},
   "outputs": [],
   "source": [
    "import fitsio\n",
    "import scipy.stats\n",
    "import numpy as np"
   ]
  },
  {
   "cell_type": "code",
   "execution_count": null,
   "id": "6cc4865a",
   "metadata": {},
   "outputs": [],
   "source": [
    "f = fitsio.FITS(\"3x2pt_2025-06-18-09h_UNBLINDED.fits\")"
   ]
  },
  {
   "cell_type": "code",
   "execution_count": null,
   "id": "33966f23",
   "metadata": {},
   "outputs": [],
   "source": [
    "f"
   ]
  },
  {
   "cell_type": "code",
   "execution_count": null,
   "id": "89359e87",
   "metadata": {},
   "outputs": [],
   "source": [
    "f[\"xip\"].read()"
   ]
  },
  {
   "cell_type": "code",
   "execution_count": null,
   "id": "6047a7a1",
   "metadata": {},
   "outputs": [],
   "source": [
    "da = np.log(3.96223298/3.14731353)"
   ]
  },
  {
   "cell_type": "code",
   "execution_count": null,
   "id": "8d722a74",
   "metadata": {},
   "outputs": [],
   "source": [
    "np.log(5.9253/2.5) / da, np.log(3.7386/2.5) / da"
   ]
  },
  {
   "cell_type": "code",
   "execution_count": null,
   "id": "2876b3ec",
   "metadata": {},
   "outputs": [],
   "source": []
  }
 ],
 "metadata": {
  "kernelspec": {
   "display_name": "work",
   "language": "python",
   "name": "python3"
  },
  "language_info": {
   "codemirror_mode": {
    "name": "ipython",
    "version": 3
   },
   "file_extension": ".py",
   "mimetype": "text/x-python",
   "name": "python",
   "nbconvert_exporter": "python",
   "pygments_lexer": "ipython3",
   "version": "3.10.18"
  }
 },
 "nbformat": 4,
 "nbformat_minor": 5
}
