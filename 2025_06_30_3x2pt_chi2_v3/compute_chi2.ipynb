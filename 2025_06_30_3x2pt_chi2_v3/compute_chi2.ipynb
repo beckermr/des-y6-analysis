{
 "cells": [
  {
   "cell_type": "code",
   "execution_count": null,
   "id": "34df2e7c",
   "metadata": {},
   "outputs": [],
   "source": [
    "import yaml\n",
    "import numpy as np\n",
    "import ultraplot as uplt\n",
    "\n",
    "from mattspy.twoptdata import TwoPtData\n",
    "\n",
    "dmap = TwoPtData.read_des_twopoint(\"3x2pt_map.fits\")\n",
    "\n",
    "# read data, cut to only <250 arcmin and remove wtheta cross corr\n",
    "d = TwoPtData.read_des_twopoint(\"3x2pt_2025-06-18-09h_UNBLINDED.fits\")\n",
    "d = d.cut_angle(-1, 250).cut_wtheta_crosscorr()\n",
    "\n",
    "# get the correct cov matrix w/ point mass marg. and rebuild with it\n",
    "icov = np.load(\"invcov_with_pm_1000.npy\")\n",
    "cov = np.linalg.inv(icov)\n",
    "d = d.rebuild_only_unmasked().replace_full_cov(cov)\n",
    "\n",
    "# apply analysis cuts\n",
    "with open(\"cuts.yml\") as fp:\n",
    "    cut_yml = yaml.load(fp.read(), Loader=yaml.SafeLoader)\n",
    "\n",
    "d = d.cut_cosmosis(cut_yml['cuts_linb_32_965']['params'])"
   ]
  },
  {
   "cell_type": "code",
   "execution_count": null,
   "id": "61ffcd2e",
   "metadata": {},
   "outputs": [],
   "source": [
    "from itertools import combinations\n",
    "\n",
    "vals = [\"l2\", \"s3\", \"s4\", \"l5\", \"l6\"]\n",
    "\n",
    "res = {}\n",
    "\n",
    "res[None] = d.chi2_stats(dmap, 18)\n",
    "\n",
    "for i in range(len(vals)):\n",
    "    for c in combinations(vals, i+1):\n",
    "        _d = d\n",
    "        for si in c:\n",
    "            _d = _d.cut_component(si[0], si[1])\n",
    "\n",
    "        key = \"_\".join([str(si) for si in c])\n",
    "        res[key] = _d.chi2_stats(dmap, 18)"
   ]
  },
  {
   "cell_type": "code",
   "execution_count": null,
   "id": "4e772fe9",
   "metadata": {},
   "outputs": [],
   "source": [
    "print(yaml.dump(res, indent=2, default_flow_style=False))"
   ]
  },
  {
   "cell_type": "code",
   "execution_count": null,
   "id": "cb35be4c",
   "metadata": {},
   "outputs": [],
   "source": [
    "import numpy as np\n",
    "\n",
    "dnl = d.cut_component(\"l\", 2)\n",
    "\n",
    "res = {}\n",
    "for frac in np.linspace(0.0, 0.15, 10):\n",
    "    _d = dnl.increase_cov_fractionally(frac)\n",
    "    res[f\"{frac:0.3}\"] = _d.chi2_stats(dmap, 18)\n",
    "\n",
    "print(yaml.dump(res, indent=2, default_flow_style=False))"
   ]
  },
  {
   "cell_type": "code",
   "execution_count": null,
   "id": "9afec742",
   "metadata": {},
   "outputs": [],
   "source": [
    "fig, axs = uplt.subplots()\n",
    "\n",
    "fracs = []\n",
    "nsigs = []\n",
    "for k in res:\n",
    "    fracs.append(float(k))\n",
    "    nsigs.append(res[k][\"nsigma\"])\n",
    "\n",
    "\n",
    "axs.plot(fracs, nsigs)\n",
    "axs.format(xlabel=\"fractional increase in std\", ylabel=\"# of sigmas\", title=\"3x2pt w/o lens bin 2\")"
   ]
  },
  {
   "cell_type": "code",
   "execution_count": null,
   "id": "91b08c0d",
   "metadata": {},
   "outputs": [],
   "source": []
  }
 ],
 "metadata": {
  "kernelspec": {
   "display_name": "work",
   "language": "python",
   "name": "python3"
  },
  "language_info": {
   "codemirror_mode": {
    "name": "ipython",
    "version": 3
   },
   "file_extension": ".py",
   "mimetype": "text/x-python",
   "name": "python",
   "nbconvert_exporter": "python",
   "pygments_lexer": "ipython3",
   "version": "3.12.11"
  }
 },
 "nbformat": 4,
 "nbformat_minor": 5
}
