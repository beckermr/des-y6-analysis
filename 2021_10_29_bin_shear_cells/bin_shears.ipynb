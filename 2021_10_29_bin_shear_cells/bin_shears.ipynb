{
 "cells": [
  {
   "cell_type": "code",
   "execution_count": null,
   "id": "f5ea3e41",
   "metadata": {},
   "outputs": [],
   "source": [
    "%load_ext pycodestyle_magic\n",
    "%flake8_on --max_line_length 119 --ignore W293,W291"
   ]
  },
  {
   "cell_type": "code",
   "execution_count": null,
   "id": "57228e3f",
   "metadata": {},
   "outputs": [],
   "source": [
    "import numpy as np\n",
    "import fitsio\n",
    "import meds\n",
    "import json\n",
    "import esutil as eu\n",
    "import galsim"
   ]
  },
  {
   "cell_type": "code",
   "execution_count": null,
   "id": "35b0d8d9",
   "metadata": {},
   "outputs": [],
   "source": [
    "d = fitsio.read(\"DES2120-4706_metadetect-v4_mdetcat_range0000-0019.fits.fz\")"
   ]
  },
  {
   "cell_type": "code",
   "execution_count": null,
   "id": "b1221757",
   "metadata": {},
   "outputs": [],
   "source": [
    "m = meds.MEDS(\"DES2120-4706_r5581p01_r_pizza-cutter-slices.fits.fz\")"
   ]
  },
  {
   "cell_type": "code",
   "execution_count": null,
   "id": "f8de00de",
   "metadata": {},
   "outputs": [],
   "source": [
    "einfo = fitsio.read(\"DES2120-4706_r5581p01_r_pizza-cutter-slices.fits.fz\", ext=\"epochs_info\")\n",
    "iinfo = fitsio.read(\"DES2120-4706_r5581p01_r_pizza-cutter-slices.fits.fz\", ext=\"image_info\")\n",
    "\n",
    "pcat = m.get_cat()"
   ]
  },
  {
   "cell_type": "code",
   "execution_count": null,
   "id": "9af355f3",
   "metadata": {},
   "outputs": [],
   "source": [
    "einfo.dtype.names"
   ]
  },
  {
   "cell_type": "code",
   "execution_count": null,
   "id": "a1fd0078",
   "metadata": {},
   "outputs": [],
   "source": [
    "assert np.array_equal(iinfo[\"image_id\"], np.arange(len(iinfo)))"
   ]
  },
  {
   "cell_type": "code",
   "execution_count": null,
   "id": "784e2194",
   "metadata": {},
   "outputs": [],
   "source": [
    "from esutil.pbar import PBar\n",
    "import sys\n",
    "\n",
    "buff = 48\n",
    "xlen = 2048\n",
    "ylen = 4096\n",
    "xmin = buff\n",
    "xmax = xlen - buff\n",
    "ymin = buff \n",
    "ymax = ylen - buff\n",
    "dx = 32\n",
    "dy = 32\n",
    "\n",
    "nx = (xmax - xmin) // dx\n",
    "ny = (ymax - ymin) // dy\n",
    "assert nx * dx == (xmax-xmin)\n",
    "assert ny * dy == (ymax-ymin)\n",
    "print(\"# of (y, x) bins:\", (ny, nx))\n",
    "\n",
    "\n",
    "def _get_ccd_num(pth):\n",
    "    return pth.split(\"/\")[1].split(\"_\")[2][1:]\n",
    "\n",
    "\n",
    "def _get_bin_locs(gs_wcs, ra, dec, msk):\n",
    "    # compute the bin locations for the objects\n",
    "    x, y = gs_wcs.radecToxy(ra, dec, units=\"degrese\")\n",
    "    x -= 1\n",
    "    y -= 1\n",
    "    # print(x.min(), x.max(), y.min(), y.max())\n",
    "    \n",
    "    # the factor of 0.5 is here because the first pixel \n",
    "    # starts at -0.5 in 0 indexed pixel-centered coords\n",
    "    xind = np.floor((x-xmin + 0.5)/dx).astype(int)\n",
    "    yind = np.floor((y-ymin + 0.5)/dy).astype(int)\n",
    "    \n",
    "    # cut points outside the array\n",
    "    msk_c = np.where(\n",
    "        (xind >= 0)\n",
    "        & (xind < nx)\n",
    "        & (yind >= 0)\n",
    "        & (yind < ny)\n",
    "    )[0]\n",
    "    if len(msk_c) == 0:\n",
    "        return None\n",
    "\n",
    "    msk = msk[msk_c]\n",
    "    xind = xind[msk_c]\n",
    "    yind = yind[msk_c]\n",
    "    # print(xind.min(), xind.max(), yind.min(), yind.max())\n",
    "    \n",
    "    return xind, yind, msk\n",
    "    \n",
    "\n",
    "def _accum_shear(ccdres, ccdnum, cname, shear, mdet_step, xind, yind, g):\n",
    "    msk_s = mdet_step == shear\n",
    "    ccdres[ccdnum][cname] = np.zeros((ny, nx))\n",
    "    ccdres[ccdnum][\"num_\" + cname] = np.zeros((ny, nx))\n",
    "    if np.any(msk_s):\n",
    "        # see https://numpy.org/doc/stable/reference/generated/numpy.ufunc.at.html#numpy.ufunc.at\n",
    "        np.add.at(\n",
    "            ccdres[ccdnum][cname], \n",
    "            (yind[msk_s], xind[msk_s]), \n",
    "            g[msk_s],\n",
    "        )\n",
    "        np.add.at(\n",
    "            ccdres[ccdnum][\"num_\" + cname], \n",
    "            (yind[msk_s], xind[msk_s]), \n",
    "            np.ones_like(g[msk_s]),\n",
    "        )\n",
    "\n",
    "\n",
    "ccdres = {}\n",
    "for image_id in PBar(np.arange(1, len(iinfo)), file=sys.stdout):\n",
    "    # get all slices that used this SE image\n",
    "    msk = (\n",
    "        (einfo[\"flags\"] == 0) \n",
    "        & (einfo[\"image_id\"] == image_id)\n",
    "        & (einfo[\"weight\"] > 0)\n",
    "    )\n",
    "    if not np.any(msk):\n",
    "        # if nothing move on\n",
    "        continue\n",
    "    unique_slices = np.unique(einfo[\"id\"][msk])\n",
    "\n",
    "    # find all detections that used this slice\n",
    "    msk_d = np.where(np.in1d(d[\"slice_id\"], unique_slices))[0]\n",
    "    if len(msk_d) == 0:\n",
    "        # if nothing move on\n",
    "        continue\n",
    "    \n",
    "    # now construct the WCS and other metadata\n",
    "    gs_wcs = galsim.FitsWCS(header=json.loads(iinfo['wcs'][image_id]))    \n",
    "    ccdnum = _get_ccd_num(iinfo['image_path'][image_id])\n",
    "    \n",
    "    ind_res = _get_bin_locs(gs_wcs, d[\"ra\"][msk_d], d[\"dec\"][msk_d], msk_d)\n",
    "    if ind_res is None:\n",
    "        continue\n",
    "    xind, yind, msk_d = ind_res\n",
    "    \n",
    "    ccdres[ccdnum] = {}\n",
    "    mdet_step = d[\"mdet_step\"][msk_d]\n",
    "    _accum_shear(ccdres, ccdnum, \"g1\", \"noshear\", mdet_step, xind, yind, d[\"mdet_g_1\"][msk_d])\n",
    "    _accum_shear(ccdres, ccdnum, \"g2\", \"noshear\", mdet_step, xind, yind, d[\"mdet_g_2\"][msk_d])\n",
    "    _accum_shear(ccdres, ccdnum, \"g1p\", \"1p\", mdet_step, xind, yind, d[\"mdet_g_1\"][msk_d])\n",
    "    _accum_shear(ccdres, ccdnum, \"g1m\", \"1m\", mdet_step, xind, yind, d[\"mdet_g_1\"][msk_d])\n",
    "    _accum_shear(ccdres, ccdnum, \"g2p\", \"2p\", mdet_step, xind, yind, d[\"mdet_g_2\"][msk_d])\n",
    "    _accum_shear(ccdres, ccdnum, \"g2m\", \"2m\", mdet_step, xind, yind, d[\"mdet_g_2\"][msk_d])"
   ]
  },
  {
   "cell_type": "code",
   "execution_count": null,
   "id": "45504d36",
   "metadata": {},
   "outputs": [],
   "source": [
    "import proplot as pplt"
   ]
  },
  {
   "cell_type": "code",
   "execution_count": null,
   "id": "6e3bb537",
   "metadata": {},
   "outputs": [],
   "source": [
    "def _compute_g1_g2(ccdres, ccdnum):\n",
    "    g1 = ccdres[ccdnum][\"g1\"] / ccdres[ccdnum][\"num_g1\"]\n",
    "    g1p = ccdres[ccdnum][\"g1p\"] / ccdres[ccdnum][\"num_g1p\"]\n",
    "    g1m = ccdres[ccdnum][\"g1m\"] / ccdres[ccdnum][\"num_g1m\"]\n",
    "    R11 = (g1p - g1m) / 2 / 0.01\n",
    "\n",
    "    g2 = ccdres[ccdnum][\"g2\"] / ccdres[ccdnum][\"num_g2\"]\n",
    "    g2p = ccdres[ccdnum][\"g2p\"] / ccdres[ccdnum][\"num_g2p\"]\n",
    "    g2m = ccdres[ccdnum][\"g2m\"] / ccdres[ccdnum][\"num_g2m\"]\n",
    "    R22 = (g2p - g2m) / 2 / 0.01\n",
    "    \n",
    "    return g1/R11, g2/R22\n",
    "\n",
    "\n",
    "ccdnum = list(ccdres)[0]\n",
    "g1, g2 = _compute_g1_g2(ccdres, ccdnum)\n",
    "\n",
    "fig, axs = pplt.subplots(refaspect=1, refwidth=6, ncols=2)\n",
    "axs[0].imshow(g1)\n",
    "axs[0].grid(False)\n",
    "\n",
    "axs[1].imshow(g2)\n",
    "axs[1].grid(False)"
   ]
  },
  {
   "cell_type": "code",
   "execution_count": null,
   "id": "f19bceb6",
   "metadata": {},
   "outputs": [],
   "source": []
  }
 ],
 "metadata": {
  "_draft": {
   "nbviewer_url": "https://gist.github.com/555279e9e6f9feaa067dbad3bc8abf84"
  },
  "gist": {
   "data": {
    "description": "binning shears on CCDs",
    "public": true
   },
   "id": "555279e9e6f9feaa067dbad3bc8abf84"
  },
  "kernelspec": {
   "display_name": "Python [conda env:desy6] *",
   "language": "python",
   "name": "conda-env-desy6-py"
  },
  "language_info": {
   "codemirror_mode": {
    "name": "ipython",
    "version": 3
   },
   "file_extension": ".py",
   "mimetype": "text/x-python",
   "name": "python",
   "nbconvert_exporter": "python",
   "pygments_lexer": "ipython3",
   "version": "3.8.12"
  }
 },
 "nbformat": 4,
 "nbformat_minor": 5
}
