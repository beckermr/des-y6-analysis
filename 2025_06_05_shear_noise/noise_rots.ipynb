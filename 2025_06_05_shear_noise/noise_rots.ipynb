{
 "cells": [
  {
   "cell_type": "code",
   "execution_count": 1,
   "id": "b7948446",
   "metadata": {},
   "outputs": [],
   "source": [
    "import numpy as np\n",
    "import h5py"
   ]
  },
  {
   "cell_type": "code",
   "execution_count": 2,
   "id": "b8b31926",
   "metadata": {},
   "outputs": [
    {
     "name": "stdout",
     "output_type": "stream",
     "text": [
      "1m\n",
      "read g1\n",
      "read g2\n",
      "read w\n",
      "1p\n",
      "read g1\n",
      "read g2\n",
      "read w\n",
      "2m\n",
      "read g1\n",
      "read g2\n",
      "read w\n",
      "2p\n",
      "read g1\n",
      "read g2\n",
      "read w\n",
      "noshear\n",
      "read g1\n",
      "read g2\n",
      "read w\n"
     ]
    }
   ],
   "source": [
    "bind = 0\n",
    "\n",
    "mn_g_steps = {}\n",
    "\n",
    "with h5py.File(\"../2025_06_04_double_check_cats/metadetect_2024-11-07.hdf5\", \"r\") as fp:\n",
    "    for mdet_step in fp.keys():\n",
    "        print(mdet_step, flush=True)\n",
    "        _g1 = fp[mdet_step][f\"tomo_bin_{bind}\"][\"gauss_g_1\"][:]\n",
    "        print(\"read g1\", flush=True)\n",
    "        _g2 = fp[mdet_step][f\"tomo_bin_{bind}\"][\"gauss_g_2\"][:]\n",
    "        print(\"read g2\", flush=True)\n",
    "        _w = fp[mdet_step][f\"tomo_bin_{bind}\"][\"w\"][:]\n",
    "        print(\"read w\", flush=True)\n",
    "        mn_g_steps[mdet_step] = np.array([\n",
    "            np.average(_g1, weights=_w),\n",
    "            np.average(_g2, weights=_w)\n",
    "        ])\n",
    "\n",
    "        if mdet_step == \"noshear\":\n",
    "            ra = fp[mdet_step][f\"tomo_bin_{bind}\"][\"ra\"][:]\n",
    "            dec = fp[mdet_step][f\"tomo_bin_{bind}\"][\"dec\"][:]\n",
    "            g1 = _g1.copy()\n",
    "            g2 = _g2.copy()\n",
    "            w = _w.copy()\n",
    "\n",
    "deltag = 0.01\n",
    "\n",
    "R11 = (\n",
    "    mn_g_steps[\"1p\"][0] - mn_g_steps[\"1m\"][0]\n",
    ") / 2 / deltag\n",
    "R22 = (\n",
    "    mn_g_steps[\"2p\"][1] - mn_g_steps[\"2m\"][1]\n",
    ") / 2 / deltag\n",
    "\n",
    "R = (R11 + R22) / 2.0\n"
   ]
  },
  {
   "cell_type": "code",
   "execution_count": 3,
   "id": "5a7cf005",
   "metadata": {},
   "outputs": [],
   "source": [
    "def compute_shape_noise_h12(g1, g2, w, R):\n",
    "    sumw = np.sum(w)\n",
    "    sumw2 = np.sum(w**2)\n",
    "    denom = (sumw * R)**2\n",
    "    mn_g1 = np.average(g1, weights=w)\n",
    "    numer_g1 = np.sum((w * (g1 - mn_g1))**2)\n",
    "\n",
    "    mn_g2 = np.average(g2, weights=w)\n",
    "    numer_g2 = np.sum((w * (g2 - mn_g2))**2)\n",
    "\n",
    "    Neff = sumw**2 / sumw2\n",
    "\n",
    "    return 0.5 * (numer_g1 / denom + numer_g2 / denom) * Neff"
   ]
  },
  {
   "cell_type": "markdown",
   "id": "293092fd",
   "metadata": {},
   "source": [
    "## Test 1-point Rotations"
   ]
  },
  {
   "cell_type": "code",
   "execution_count": 4,
   "id": "f78baa12",
   "metadata": {},
   "outputs": [],
   "source": [
    "Neff = np.sum(w)**2 / np.sum(w**2)\n",
    "\n",
    "rng = np.random.default_rng(seed=42)\n",
    "\n",
    "g = g1 + 1j * g2\n",
    "orig = np.sqrt(compute_shape_noise_h12(g1, g2, w, R))\n",
    "raw = np.sqrt(\n",
    "    0.5 * (\n",
    "        np.mean((g1 - np.average(g1, weights=w))**2)\n",
    "        + np.mean((g2 - np.average(g2, weights=w))**2)\n",
    "    )\n",
    ") / R"
   ]
  },
  {
   "cell_type": "code",
   "execution_count": 6,
   "id": "d67be21e",
   "metadata": {},
   "outputs": [
    {
     "name": "stderr",
     "output_type": "stream",
     "text": [
      "  1%|          | 9/1000 [00:32<57:45,  3.50s/it]  "
     ]
    },
    {
     "name": "stdout",
     "output_type": "stream",
     "text": [
      "    n_samples|H12|meas: 10 4.875233211806958e-05 3.300279141225322e-05\n"
     ]
    },
    {
     "name": "stderr",
     "output_type": "stream",
     "text": [
      "  2%|▏         | 19/1000 [01:03<53:34,  3.28s/it]"
     ]
    },
    {
     "name": "stdout",
     "output_type": "stream",
     "text": [
      "    n_samples|H12|meas: 20 4.875233211806958e-05 4.4592835678300515e-05\n"
     ]
    },
    {
     "name": "stderr",
     "output_type": "stream",
     "text": [
      "  3%|▎         | 29/1000 [01:31<44:17,  2.74s/it]"
     ]
    },
    {
     "name": "stdout",
     "output_type": "stream",
     "text": [
      "    n_samples|H12|meas: 30 4.875233211806958e-05 4.534750319451134e-05\n"
     ]
    },
    {
     "name": "stderr",
     "output_type": "stream",
     "text": [
      "  4%|▍         | 39/1000 [01:58<43:51,  2.74s/it]"
     ]
    },
    {
     "name": "stdout",
     "output_type": "stream",
     "text": [
      "    n_samples|H12|meas: 40 4.875233211806958e-05 4.486384134825728e-05\n"
     ]
    },
    {
     "name": "stderr",
     "output_type": "stream",
     "text": [
      "  5%|▍         | 49/1000 [02:24<42:31,  2.68s/it]"
     ]
    },
    {
     "name": "stdout",
     "output_type": "stream",
     "text": [
      "    n_samples|H12|meas: 50 4.875233211806958e-05 4.476964628508562e-05\n"
     ]
    },
    {
     "name": "stderr",
     "output_type": "stream",
     "text": [
      "  6%|▌         | 59/1000 [02:50<39:44,  2.53s/it]"
     ]
    },
    {
     "name": "stdout",
     "output_type": "stream",
     "text": [
      "    n_samples|H12|meas: 60 4.875233211806958e-05 4.528269389673347e-05\n"
     ]
    },
    {
     "name": "stderr",
     "output_type": "stream",
     "text": [
      "  7%|▋         | 69/1000 [03:16<39:16,  2.53s/it]"
     ]
    },
    {
     "name": "stdout",
     "output_type": "stream",
     "text": [
      "    n_samples|H12|meas: 70 4.875233211806958e-05 4.624737681940539e-05\n"
     ]
    },
    {
     "name": "stderr",
     "output_type": "stream",
     "text": [
      "  8%|▊         | 79/1000 [03:44<40:49,  2.66s/it]"
     ]
    },
    {
     "name": "stdout",
     "output_type": "stream",
     "text": [
      "    n_samples|H12|meas: 80 4.875233211806958e-05 4.576309888438103e-05\n"
     ]
    },
    {
     "name": "stderr",
     "output_type": "stream",
     "text": [
      "  9%|▉         | 89/1000 [04:14<46:17,  3.05s/it]"
     ]
    },
    {
     "name": "stdout",
     "output_type": "stream",
     "text": [
      "    n_samples|H12|meas: 90 4.875233211806958e-05 4.6852333567323656e-05\n"
     ]
    },
    {
     "name": "stderr",
     "output_type": "stream",
     "text": [
      " 10%|▉         | 99/1000 [04:43<42:17,  2.82s/it]"
     ]
    },
    {
     "name": "stdout",
     "output_type": "stream",
     "text": [
      "    n_samples|H12|meas: 100 4.875233211806958e-05 4.6432336000012175e-05\n"
     ]
    },
    {
     "name": "stderr",
     "output_type": "stream",
     "text": [
      " 11%|█         | 109/1000 [05:10<43:54,  2.96s/it]"
     ]
    },
    {
     "name": "stdout",
     "output_type": "stream",
     "text": [
      "    n_samples|H12|meas: 110 4.875233211806958e-05 4.678125765350145e-05\n"
     ]
    },
    {
     "name": "stderr",
     "output_type": "stream",
     "text": [
      " 12%|█▏        | 119/1000 [05:39<37:38,  2.56s/it]"
     ]
    },
    {
     "name": "stdout",
     "output_type": "stream",
     "text": [
      "    n_samples|H12|meas: 120 4.875233211806958e-05 4.7131987002116166e-05\n"
     ]
    },
    {
     "name": "stderr",
     "output_type": "stream",
     "text": [
      " 13%|█▎        | 129/1000 [06:06<37:58,  2.62s/it]"
     ]
    },
    {
     "name": "stdout",
     "output_type": "stream",
     "text": [
      "    n_samples|H12|meas: 130 4.875233211806958e-05 4.683887225481163e-05\n"
     ]
    },
    {
     "name": "stderr",
     "output_type": "stream",
     "text": [
      " 14%|█▍        | 139/1000 [06:33<37:18,  2.60s/it]"
     ]
    },
    {
     "name": "stdout",
     "output_type": "stream",
     "text": [
      "    n_samples|H12|meas: 140 4.875233211806958e-05 4.691171522595378e-05\n"
     ]
    },
    {
     "name": "stderr",
     "output_type": "stream",
     "text": [
      " 15%|█▍        | 149/1000 [07:01<36:24,  2.57s/it]"
     ]
    },
    {
     "name": "stdout",
     "output_type": "stream",
     "text": [
      "    n_samples|H12|meas: 150 4.875233211806958e-05 4.6181009242554805e-05\n"
     ]
    },
    {
     "name": "stderr",
     "output_type": "stream",
     "text": [
      " 16%|█▌        | 159/1000 [07:28<37:43,  2.69s/it]"
     ]
    },
    {
     "name": "stdout",
     "output_type": "stream",
     "text": [
      "    n_samples|H12|meas: 160 4.875233211806958e-05 4.6630280950994334e-05\n"
     ]
    },
    {
     "name": "stderr",
     "output_type": "stream",
     "text": [
      " 17%|█▋        | 169/1000 [07:56<37:39,  2.72s/it]"
     ]
    },
    {
     "name": "stdout",
     "output_type": "stream",
     "text": [
      "    n_samples|H12|meas: 170 4.875233211806958e-05 4.7220369653855816e-05\n"
     ]
    },
    {
     "name": "stderr",
     "output_type": "stream",
     "text": [
      " 18%|█▊        | 179/1000 [08:23<35:52,  2.62s/it]"
     ]
    },
    {
     "name": "stdout",
     "output_type": "stream",
     "text": [
      "    n_samples|H12|meas: 180 4.875233211806958e-05 4.758055954741671e-05\n"
     ]
    },
    {
     "name": "stderr",
     "output_type": "stream",
     "text": [
      " 19%|█▉        | 189/1000 [08:53<37:23,  2.77s/it]"
     ]
    },
    {
     "name": "stdout",
     "output_type": "stream",
     "text": [
      "    n_samples|H12|meas: 190 4.875233211806958e-05 4.7245092769097416e-05\n"
     ]
    },
    {
     "name": "stderr",
     "output_type": "stream",
     "text": [
      " 20%|█▉        | 199/1000 [09:20<34:12,  2.56s/it]"
     ]
    },
    {
     "name": "stdout",
     "output_type": "stream",
     "text": [
      "    n_samples|H12|meas: 200 4.875233211806958e-05 4.722165453167255e-05\n"
     ]
    },
    {
     "name": "stderr",
     "output_type": "stream",
     "text": [
      " 21%|██        | 209/1000 [09:47<36:23,  2.76s/it]"
     ]
    },
    {
     "name": "stdout",
     "output_type": "stream",
     "text": [
      "    n_samples|H12|meas: 210 4.875233211806958e-05 4.7210427829710844e-05\n"
     ]
    },
    {
     "name": "stderr",
     "output_type": "stream",
     "text": [
      " 22%|██▏       | 219/1000 [10:14<35:37,  2.74s/it]"
     ]
    },
    {
     "name": "stdout",
     "output_type": "stream",
     "text": [
      "    n_samples|H12|meas: 220 4.875233211806958e-05 4.725340137172787e-05\n"
     ]
    },
    {
     "name": "stderr",
     "output_type": "stream",
     "text": [
      " 23%|██▎       | 229/1000 [10:42<33:11,  2.58s/it]"
     ]
    },
    {
     "name": "stdout",
     "output_type": "stream",
     "text": [
      "    n_samples|H12|meas: 230 4.875233211806958e-05 4.7064763338485515e-05\n"
     ]
    },
    {
     "name": "stderr",
     "output_type": "stream",
     "text": [
      " 24%|██▍       | 239/1000 [11:11<36:10,  2.85s/it]"
     ]
    },
    {
     "name": "stdout",
     "output_type": "stream",
     "text": [
      "    n_samples|H12|meas: 240 4.875233211806958e-05 4.696448372647755e-05\n"
     ]
    },
    {
     "name": "stderr",
     "output_type": "stream",
     "text": [
      " 25%|██▍       | 249/1000 [11:40<35:44,  2.86s/it]"
     ]
    },
    {
     "name": "stdout",
     "output_type": "stream",
     "text": [
      "    n_samples|H12|meas: 250 4.875233211806958e-05 4.691937534153031e-05\n"
     ]
    },
    {
     "name": "stderr",
     "output_type": "stream",
     "text": [
      " 26%|██▌       | 259/1000 [12:08<35:33,  2.88s/it]"
     ]
    },
    {
     "name": "stdout",
     "output_type": "stream",
     "text": [
      "    n_samples|H12|meas: 260 4.875233211806958e-05 4.763269108819457e-05\n"
     ]
    },
    {
     "name": "stderr",
     "output_type": "stream",
     "text": [
      " 27%|██▋       | 269/1000 [12:36<35:13,  2.89s/it]"
     ]
    },
    {
     "name": "stdout",
     "output_type": "stream",
     "text": [
      "    n_samples|H12|meas: 270 4.875233211806958e-05 4.735212867084778e-05\n"
     ]
    },
    {
     "name": "stderr",
     "output_type": "stream",
     "text": [
      " 28%|██▊       | 279/1000 [13:09<49:11,  4.09s/it]"
     ]
    },
    {
     "name": "stdout",
     "output_type": "stream",
     "text": [
      "    n_samples|H12|meas: 280 4.875233211806958e-05 4.7806395999920615e-05\n"
     ]
    },
    {
     "name": "stderr",
     "output_type": "stream",
     "text": [
      " 29%|██▉       | 289/1000 [13:37<32:45,  2.76s/it]"
     ]
    },
    {
     "name": "stdout",
     "output_type": "stream",
     "text": [
      "    n_samples|H12|meas: 290 4.875233211806958e-05 4.803014763002275e-05\n"
     ]
    },
    {
     "name": "stderr",
     "output_type": "stream",
     "text": [
      " 30%|██▉       | 299/1000 [14:05<32:40,  2.80s/it]"
     ]
    },
    {
     "name": "stdout",
     "output_type": "stream",
     "text": [
      "    n_samples|H12|meas: 300 4.875233211806958e-05 4.840146795655699e-05\n"
     ]
    },
    {
     "name": "stderr",
     "output_type": "stream",
     "text": [
      " 31%|███       | 309/1000 [14:34<30:38,  2.66s/it]"
     ]
    },
    {
     "name": "stdout",
     "output_type": "stream",
     "text": [
      "    n_samples|H12|meas: 310 4.875233211806958e-05 4.823011399313639e-05\n"
     ]
    },
    {
     "name": "stderr",
     "output_type": "stream",
     "text": [
      " 32%|███▏      | 319/1000 [15:02<31:54,  2.81s/it]"
     ]
    },
    {
     "name": "stdout",
     "output_type": "stream",
     "text": [
      "    n_samples|H12|meas: 320 4.875233211806958e-05 4.832911694777694e-05\n"
     ]
    },
    {
     "name": "stderr",
     "output_type": "stream",
     "text": [
      " 33%|███▎      | 329/1000 [15:29<30:08,  2.70s/it]"
     ]
    },
    {
     "name": "stdout",
     "output_type": "stream",
     "text": [
      "    n_samples|H12|meas: 330 4.875233211806958e-05 4.8017840227768687e-05\n"
     ]
    },
    {
     "name": "stderr",
     "output_type": "stream",
     "text": [
      " 34%|███▍      | 339/1000 [15:54<27:42,  2.52s/it]"
     ]
    },
    {
     "name": "stdout",
     "output_type": "stream",
     "text": [
      "    n_samples|H12|meas: 340 4.875233211806958e-05 4.7679581654245766e-05\n"
     ]
    },
    {
     "name": "stderr",
     "output_type": "stream",
     "text": [
      " 35%|███▍      | 349/1000 [16:24<32:18,  2.98s/it]"
     ]
    },
    {
     "name": "stdout",
     "output_type": "stream",
     "text": [
      "    n_samples|H12|meas: 350 4.875233211806958e-05 4.824029204491365e-05\n"
     ]
    },
    {
     "name": "stderr",
     "output_type": "stream",
     "text": [
      " 36%|███▌      | 359/1000 [16:52<28:36,  2.68s/it]"
     ]
    },
    {
     "name": "stdout",
     "output_type": "stream",
     "text": [
      "    n_samples|H12|meas: 360 4.875233211806958e-05 4.8193814131676704e-05\n"
     ]
    },
    {
     "name": "stderr",
     "output_type": "stream",
     "text": [
      " 37%|███▋      | 369/1000 [17:18<26:20,  2.50s/it]"
     ]
    },
    {
     "name": "stdout",
     "output_type": "stream",
     "text": [
      "    n_samples|H12|meas: 370 4.875233211806958e-05 4.8286815459678e-05\n"
     ]
    },
    {
     "name": "stderr",
     "output_type": "stream",
     "text": [
      " 38%|███▊      | 379/1000 [17:46<27:53,  2.69s/it]"
     ]
    },
    {
     "name": "stdout",
     "output_type": "stream",
     "text": [
      "    n_samples|H12|meas: 380 4.875233211806958e-05 4.8294843217080404e-05\n"
     ]
    },
    {
     "name": "stderr",
     "output_type": "stream",
     "text": [
      " 39%|███▉      | 389/1000 [18:13<26:22,  2.59s/it]"
     ]
    },
    {
     "name": "stdout",
     "output_type": "stream",
     "text": [
      "    n_samples|H12|meas: 390 4.875233211806958e-05 4.8146014717628994e-05\n"
     ]
    },
    {
     "name": "stderr",
     "output_type": "stream",
     "text": [
      " 40%|███▉      | 399/1000 [18:42<26:50,  2.68s/it]"
     ]
    },
    {
     "name": "stdout",
     "output_type": "stream",
     "text": [
      "    n_samples|H12|meas: 400 4.875233211806958e-05 4.8410125056584174e-05\n"
     ]
    },
    {
     "name": "stderr",
     "output_type": "stream",
     "text": [
      " 41%|████      | 409/1000 [19:09<24:38,  2.50s/it]"
     ]
    },
    {
     "name": "stdout",
     "output_type": "stream",
     "text": [
      "    n_samples|H12|meas: 410 4.875233211806958e-05 4.831358527257748e-05\n"
     ]
    },
    {
     "name": "stderr",
     "output_type": "stream",
     "text": [
      " 42%|████▏     | 419/1000 [19:39<28:14,  2.92s/it]"
     ]
    },
    {
     "name": "stdout",
     "output_type": "stream",
     "text": [
      "    n_samples|H12|meas: 420 4.875233211806958e-05 4.8329953958254016e-05\n"
     ]
    },
    {
     "name": "stderr",
     "output_type": "stream",
     "text": [
      " 43%|████▎     | 429/1000 [20:05<25:51,  2.72s/it]"
     ]
    },
    {
     "name": "stdout",
     "output_type": "stream",
     "text": [
      "    n_samples|H12|meas: 430 4.875233211806958e-05 4.8246927386618025e-05\n"
     ]
    },
    {
     "name": "stderr",
     "output_type": "stream",
     "text": [
      " 44%|████▍     | 439/1000 [20:33<27:15,  2.92s/it]"
     ]
    },
    {
     "name": "stdout",
     "output_type": "stream",
     "text": [
      "    n_samples|H12|meas: 440 4.875233211806958e-05 4.819895413285034e-05\n"
     ]
    },
    {
     "name": "stderr",
     "output_type": "stream",
     "text": [
      " 45%|████▍     | 449/1000 [21:03<28:11,  3.07s/it]"
     ]
    },
    {
     "name": "stdout",
     "output_type": "stream",
     "text": [
      "    n_samples|H12|meas: 450 4.875233211806958e-05 4.845430285637609e-05\n"
     ]
    },
    {
     "name": "stderr",
     "output_type": "stream",
     "text": [
      " 46%|████▌     | 459/1000 [21:32<27:34,  3.06s/it]"
     ]
    },
    {
     "name": "stdout",
     "output_type": "stream",
     "text": [
      "    n_samples|H12|meas: 460 4.875233211806958e-05 4.842170467314304e-05\n"
     ]
    },
    {
     "name": "stderr",
     "output_type": "stream",
     "text": [
      " 47%|████▋     | 469/1000 [22:01<25:37,  2.89s/it]"
     ]
    },
    {
     "name": "stdout",
     "output_type": "stream",
     "text": [
      "    n_samples|H12|meas: 470 4.875233211806958e-05 4.848383590360206e-05\n"
     ]
    },
    {
     "name": "stderr",
     "output_type": "stream",
     "text": [
      " 48%|████▊     | 479/1000 [22:30<22:48,  2.63s/it]"
     ]
    },
    {
     "name": "stdout",
     "output_type": "stream",
     "text": [
      "    n_samples|H12|meas: 480 4.875233211806958e-05 4.8573649572286514e-05\n"
     ]
    },
    {
     "name": "stderr",
     "output_type": "stream",
     "text": [
      " 49%|████▉     | 489/1000 [23:02<24:46,  2.91s/it]"
     ]
    },
    {
     "name": "stdout",
     "output_type": "stream",
     "text": [
      "    n_samples|H12|meas: 490 4.875233211806958e-05 4.8505603997792764e-05\n"
     ]
    },
    {
     "name": "stderr",
     "output_type": "stream",
     "text": [
      " 50%|████▉     | 499/1000 [23:37<33:21,  3.99s/it]"
     ]
    },
    {
     "name": "stdout",
     "output_type": "stream",
     "text": [
      "    n_samples|H12|meas: 500 4.875233211806958e-05 4.826754328909138e-05\n"
     ]
    },
    {
     "name": "stderr",
     "output_type": "stream",
     "text": [
      " 51%|█████     | 509/1000 [24:07<24:35,  3.01s/it]"
     ]
    },
    {
     "name": "stdout",
     "output_type": "stream",
     "text": [
      "    n_samples|H12|meas: 510 4.875233211806958e-05 4.841524497924101e-05\n"
     ]
    },
    {
     "name": "stderr",
     "output_type": "stream",
     "text": [
      " 52%|█████▏    | 519/1000 [24:36<22:59,  2.87s/it]"
     ]
    },
    {
     "name": "stdout",
     "output_type": "stream",
     "text": [
      "    n_samples|H12|meas: 520 4.875233211806958e-05 4.8146073607557064e-05\n"
     ]
    },
    {
     "name": "stderr",
     "output_type": "stream",
     "text": [
      " 53%|█████▎    | 529/1000 [25:04<20:37,  2.63s/it]"
     ]
    },
    {
     "name": "stdout",
     "output_type": "stream",
     "text": [
      "    n_samples|H12|meas: 530 4.875233211806958e-05 4.812786672436852e-05\n"
     ]
    },
    {
     "name": "stderr",
     "output_type": "stream",
     "text": [
      " 54%|█████▍    | 539/1000 [25:32<21:16,  2.77s/it]"
     ]
    },
    {
     "name": "stdout",
     "output_type": "stream",
     "text": [
      "    n_samples|H12|meas: 540 4.875233211806958e-05 4.822698468471799e-05\n"
     ]
    },
    {
     "name": "stderr",
     "output_type": "stream",
     "text": [
      " 55%|█████▍    | 549/1000 [26:01<20:05,  2.67s/it]"
     ]
    },
    {
     "name": "stdout",
     "output_type": "stream",
     "text": [
      "    n_samples|H12|meas: 550 4.875233211806958e-05 4.802319571370445e-05\n"
     ]
    },
    {
     "name": "stderr",
     "output_type": "stream",
     "text": [
      " 56%|█████▌    | 559/1000 [26:30<20:22,  2.77s/it]"
     ]
    },
    {
     "name": "stdout",
     "output_type": "stream",
     "text": [
      "    n_samples|H12|meas: 560 4.875233211806958e-05 4.812141064986304e-05\n"
     ]
    },
    {
     "name": "stderr",
     "output_type": "stream",
     "text": [
      " 57%|█████▋    | 569/1000 [26:59<20:06,  2.80s/it]"
     ]
    },
    {
     "name": "stdout",
     "output_type": "stream",
     "text": [
      "    n_samples|H12|meas: 570 4.875233211806958e-05 4.8210389966802666e-05\n"
     ]
    },
    {
     "name": "stderr",
     "output_type": "stream",
     "text": [
      " 58%|█████▊    | 579/1000 [27:29<19:54,  2.84s/it]"
     ]
    },
    {
     "name": "stdout",
     "output_type": "stream",
     "text": [
      "    n_samples|H12|meas: 580 4.875233211806958e-05 4.801294214611062e-05\n"
     ]
    },
    {
     "name": "stderr",
     "output_type": "stream",
     "text": [
      " 59%|█████▉    | 589/1000 [28:01<21:34,  3.15s/it]"
     ]
    },
    {
     "name": "stdout",
     "output_type": "stream",
     "text": [
      "    n_samples|H12|meas: 590 4.875233211806958e-05 4.809592737429246e-05\n"
     ]
    },
    {
     "name": "stderr",
     "output_type": "stream",
     "text": [
      " 60%|█████▉    | 599/1000 [28:31<20:11,  3.02s/it]"
     ]
    },
    {
     "name": "stdout",
     "output_type": "stream",
     "text": [
      "    n_samples|H12|meas: 600 4.875233211806958e-05 4.807056607687974e-05\n"
     ]
    },
    {
     "name": "stderr",
     "output_type": "stream",
     "text": [
      " 61%|██████    | 609/1000 [29:00<17:39,  2.71s/it]"
     ]
    },
    {
     "name": "stdout",
     "output_type": "stream",
     "text": [
      "    n_samples|H12|meas: 610 4.875233211806958e-05 4.807151399503483e-05\n"
     ]
    },
    {
     "name": "stderr",
     "output_type": "stream",
     "text": [
      " 62%|██████▏   | 619/1000 [29:35<19:57,  3.14s/it]"
     ]
    },
    {
     "name": "stdout",
     "output_type": "stream",
     "text": [
      "    n_samples|H12|meas: 620 4.875233211806958e-05 4.810120533486787e-05\n"
     ]
    },
    {
     "name": "stderr",
     "output_type": "stream",
     "text": [
      " 63%|██████▎   | 629/1000 [30:07<20:41,  3.35s/it]"
     ]
    },
    {
     "name": "stdout",
     "output_type": "stream",
     "text": [
      "    n_samples|H12|meas: 630 4.875233211806958e-05 4.826397992520966e-05\n"
     ]
    },
    {
     "name": "stderr",
     "output_type": "stream",
     "text": [
      " 64%|██████▍   | 639/1000 [30:36<17:28,  2.90s/it]"
     ]
    },
    {
     "name": "stdout",
     "output_type": "stream",
     "text": [
      "    n_samples|H12|meas: 640 4.875233211806958e-05 4.84481686494069e-05\n"
     ]
    },
    {
     "name": "stderr",
     "output_type": "stream",
     "text": [
      " 65%|██████▍   | 649/1000 [31:07<18:23,  3.14s/it]"
     ]
    },
    {
     "name": "stdout",
     "output_type": "stream",
     "text": [
      "    n_samples|H12|meas: 650 4.875233211806958e-05 4.83417241512509e-05\n"
     ]
    },
    {
     "name": "stderr",
     "output_type": "stream",
     "text": [
      " 66%|██████▌   | 659/1000 [31:34<16:01,  2.82s/it]"
     ]
    },
    {
     "name": "stdout",
     "output_type": "stream",
     "text": [
      "    n_samples|H12|meas: 660 4.875233211806958e-05 4.846691917234379e-05\n"
     ]
    },
    {
     "name": "stderr",
     "output_type": "stream",
     "text": [
      " 67%|██████▋   | 669/1000 [32:03<16:15,  2.95s/it]"
     ]
    },
    {
     "name": "stdout",
     "output_type": "stream",
     "text": [
      "    n_samples|H12|meas: 670 4.875233211806958e-05 4.84428958985766e-05\n"
     ]
    },
    {
     "name": "stderr",
     "output_type": "stream",
     "text": [
      " 68%|██████▊   | 679/1000 [32:31<14:58,  2.80s/it]"
     ]
    },
    {
     "name": "stdout",
     "output_type": "stream",
     "text": [
      "    n_samples|H12|meas: 680 4.875233211806958e-05 4.8483963275385e-05\n"
     ]
    },
    {
     "name": "stderr",
     "output_type": "stream",
     "text": [
      " 69%|██████▉   | 689/1000 [33:00<14:36,  2.82s/it]"
     ]
    },
    {
     "name": "stdout",
     "output_type": "stream",
     "text": [
      "    n_samples|H12|meas: 690 4.875233211806958e-05 4.8305710722967816e-05\n"
     ]
    },
    {
     "name": "stderr",
     "output_type": "stream",
     "text": [
      " 70%|██████▉   | 699/1000 [33:33<15:52,  3.16s/it]"
     ]
    },
    {
     "name": "stdout",
     "output_type": "stream",
     "text": [
      "    n_samples|H12|meas: 700 4.875233211806958e-05 4.817295805535274e-05\n"
     ]
    },
    {
     "name": "stderr",
     "output_type": "stream",
     "text": [
      " 71%|███████   | 709/1000 [34:04<15:36,  3.22s/it]"
     ]
    },
    {
     "name": "stdout",
     "output_type": "stream",
     "text": [
      "    n_samples|H12|meas: 710 4.875233211806958e-05 4.8133619976971265e-05\n"
     ]
    },
    {
     "name": "stderr",
     "output_type": "stream",
     "text": [
      " 72%|███████▏  | 719/1000 [34:39<17:10,  3.67s/it]"
     ]
    },
    {
     "name": "stdout",
     "output_type": "stream",
     "text": [
      "    n_samples|H12|meas: 720 4.875233211806958e-05 4.7948387346571195e-05\n"
     ]
    },
    {
     "name": "stderr",
     "output_type": "stream",
     "text": [
      " 73%|███████▎  | 729/1000 [35:09<13:16,  2.94s/it]"
     ]
    },
    {
     "name": "stdout",
     "output_type": "stream",
     "text": [
      "    n_samples|H12|meas: 730 4.875233211806958e-05 4.790453020439774e-05\n"
     ]
    },
    {
     "name": "stderr",
     "output_type": "stream",
     "text": [
      " 74%|███████▍  | 739/1000 [35:37<11:58,  2.75s/it]"
     ]
    },
    {
     "name": "stdout",
     "output_type": "stream",
     "text": [
      "    n_samples|H12|meas: 740 4.875233211806958e-05 4.791750932261928e-05\n"
     ]
    },
    {
     "name": "stderr",
     "output_type": "stream",
     "text": [
      " 75%|███████▍  | 749/1000 [36:07<11:46,  2.82s/it]"
     ]
    },
    {
     "name": "stdout",
     "output_type": "stream",
     "text": [
      "    n_samples|H12|meas: 750 4.875233211806958e-05 4.8043264910397005e-05\n"
     ]
    },
    {
     "name": "stderr",
     "output_type": "stream",
     "text": [
      " 76%|███████▌  | 759/1000 [36:39<12:59,  3.23s/it]"
     ]
    },
    {
     "name": "stdout",
     "output_type": "stream",
     "text": [
      "    n_samples|H12|meas: 760 4.875233211806958e-05 4.789047187185423e-05\n"
     ]
    },
    {
     "name": "stderr",
     "output_type": "stream",
     "text": [
      " 77%|███████▋  | 769/1000 [37:08<11:00,  2.86s/it]"
     ]
    },
    {
     "name": "stdout",
     "output_type": "stream",
     "text": [
      "    n_samples|H12|meas: 770 4.875233211806958e-05 4.7882998551309266e-05\n"
     ]
    },
    {
     "name": "stderr",
     "output_type": "stream",
     "text": [
      " 78%|███████▊  | 779/1000 [37:37<10:39,  2.89s/it]"
     ]
    },
    {
     "name": "stdout",
     "output_type": "stream",
     "text": [
      "    n_samples|H12|meas: 780 4.875233211806958e-05 4.782452625013585e-05\n"
     ]
    },
    {
     "name": "stderr",
     "output_type": "stream",
     "text": [
      " 79%|███████▉  | 789/1000 [38:06<10:10,  2.89s/it]"
     ]
    },
    {
     "name": "stdout",
     "output_type": "stream",
     "text": [
      "    n_samples|H12|meas: 790 4.875233211806958e-05 4.771100903806112e-05\n"
     ]
    },
    {
     "name": "stderr",
     "output_type": "stream",
     "text": [
      " 80%|███████▉  | 799/1000 [38:40<10:59,  3.28s/it]"
     ]
    },
    {
     "name": "stdout",
     "output_type": "stream",
     "text": [
      "    n_samples|H12|meas: 800 4.875233211806958e-05 4.780559065182498e-05\n"
     ]
    },
    {
     "name": "stderr",
     "output_type": "stream",
     "text": [
      " 81%|████████  | 809/1000 [39:11<09:05,  2.86s/it]"
     ]
    },
    {
     "name": "stdout",
     "output_type": "stream",
     "text": [
      "    n_samples|H12|meas: 810 4.875233211806958e-05 4.801923373936466e-05\n"
     ]
    },
    {
     "name": "stderr",
     "output_type": "stream",
     "text": [
      " 82%|████████▏ | 819/1000 [39:40<08:16,  2.74s/it]"
     ]
    },
    {
     "name": "stdout",
     "output_type": "stream",
     "text": [
      "    n_samples|H12|meas: 820 4.875233211806958e-05 4.797824214994417e-05\n"
     ]
    },
    {
     "name": "stderr",
     "output_type": "stream",
     "text": [
      " 83%|████████▎ | 829/1000 [40:10<08:11,  2.88s/it]"
     ]
    },
    {
     "name": "stdout",
     "output_type": "stream",
     "text": [
      "    n_samples|H12|meas: 830 4.875233211806958e-05 4.799557880566839e-05\n"
     ]
    },
    {
     "name": "stderr",
     "output_type": "stream",
     "text": [
      " 84%|████████▍ | 839/1000 [40:39<07:26,  2.77s/it]"
     ]
    },
    {
     "name": "stdout",
     "output_type": "stream",
     "text": [
      "    n_samples|H12|meas: 840 4.875233211806958e-05 4.8018398678287994e-05\n"
     ]
    },
    {
     "name": "stderr",
     "output_type": "stream",
     "text": [
      " 85%|████████▍ | 849/1000 [41:08<07:13,  2.87s/it]"
     ]
    },
    {
     "name": "stdout",
     "output_type": "stream",
     "text": [
      "    n_samples|H12|meas: 850 4.875233211806958e-05 4.8004958086404154e-05\n"
     ]
    },
    {
     "name": "stderr",
     "output_type": "stream",
     "text": [
      " 86%|████████▌ | 859/1000 [41:37<06:37,  2.82s/it]"
     ]
    },
    {
     "name": "stdout",
     "output_type": "stream",
     "text": [
      "    n_samples|H12|meas: 860 4.875233211806958e-05 4.818217562561524e-05\n"
     ]
    },
    {
     "name": "stderr",
     "output_type": "stream",
     "text": [
      " 87%|████████▋ | 869/1000 [42:05<05:58,  2.74s/it]"
     ]
    },
    {
     "name": "stdout",
     "output_type": "stream",
     "text": [
      "    n_samples|H12|meas: 870 4.875233211806958e-05 4.808283728714987e-05\n"
     ]
    },
    {
     "name": "stderr",
     "output_type": "stream",
     "text": [
      " 88%|████████▊ | 879/1000 [42:35<06:13,  3.09s/it]"
     ]
    },
    {
     "name": "stdout",
     "output_type": "stream",
     "text": [
      "    n_samples|H12|meas: 880 4.875233211806958e-05 4.803413741881719e-05\n"
     ]
    },
    {
     "name": "stderr",
     "output_type": "stream",
     "text": [
      " 89%|████████▉ | 889/1000 [43:04<05:22,  2.91s/it]"
     ]
    },
    {
     "name": "stdout",
     "output_type": "stream",
     "text": [
      "    n_samples|H12|meas: 890 4.875233211806958e-05 4.818244524583718e-05\n"
     ]
    },
    {
     "name": "stderr",
     "output_type": "stream",
     "text": [
      " 90%|████████▉ | 899/1000 [43:36<04:47,  2.85s/it]"
     ]
    },
    {
     "name": "stdout",
     "output_type": "stream",
     "text": [
      "    n_samples|H12|meas: 900 4.875233211806958e-05 4.81508700110445e-05\n"
     ]
    },
    {
     "name": "stderr",
     "output_type": "stream",
     "text": [
      " 91%|█████████ | 909/1000 [44:06<04:12,  2.78s/it]"
     ]
    },
    {
     "name": "stdout",
     "output_type": "stream",
     "text": [
      "    n_samples|H12|meas: 910 4.875233211806958e-05 4.8188515351521996e-05\n"
     ]
    },
    {
     "name": "stderr",
     "output_type": "stream",
     "text": [
      " 92%|█████████▏| 919/1000 [44:35<03:46,  2.79s/it]"
     ]
    },
    {
     "name": "stdout",
     "output_type": "stream",
     "text": [
      "    n_samples|H12|meas: 920 4.875233211806958e-05 4.822770888281785e-05\n"
     ]
    },
    {
     "name": "stderr",
     "output_type": "stream",
     "text": [
      " 93%|█████████▎| 929/1000 [45:04<03:19,  2.81s/it]"
     ]
    },
    {
     "name": "stdout",
     "output_type": "stream",
     "text": [
      "    n_samples|H12|meas: 930 4.875233211806958e-05 4.828808236723317e-05\n"
     ]
    },
    {
     "name": "stderr",
     "output_type": "stream",
     "text": [
      " 94%|█████████▍| 939/1000 [45:32<02:56,  2.90s/it]"
     ]
    },
    {
     "name": "stdout",
     "output_type": "stream",
     "text": [
      "    n_samples|H12|meas: 940 4.875233211806958e-05 4.84546717779396e-05\n"
     ]
    },
    {
     "name": "stderr",
     "output_type": "stream",
     "text": [
      " 95%|█████████▍| 949/1000 [45:59<02:16,  2.68s/it]"
     ]
    },
    {
     "name": "stdout",
     "output_type": "stream",
     "text": [
      "    n_samples|H12|meas: 950 4.875233211806958e-05 4.842482892582608e-05\n"
     ]
    },
    {
     "name": "stderr",
     "output_type": "stream",
     "text": [
      " 96%|█████████▌| 959/1000 [46:27<01:49,  2.66s/it]"
     ]
    },
    {
     "name": "stdout",
     "output_type": "stream",
     "text": [
      "    n_samples|H12|meas: 960 4.875233211806958e-05 4.830248906354013e-05\n"
     ]
    },
    {
     "name": "stderr",
     "output_type": "stream",
     "text": [
      " 97%|█████████▋| 969/1000 [46:54<01:32,  2.97s/it]"
     ]
    },
    {
     "name": "stdout",
     "output_type": "stream",
     "text": [
      "    n_samples|H12|meas: 970 4.875233211806958e-05 4.822242219804527e-05\n"
     ]
    },
    {
     "name": "stderr",
     "output_type": "stream",
     "text": [
      " 98%|█████████▊| 979/1000 [47:21<00:58,  2.79s/it]"
     ]
    },
    {
     "name": "stdout",
     "output_type": "stream",
     "text": [
      "    n_samples|H12|meas: 980 4.875233211806958e-05 4.829104473584523e-05\n"
     ]
    },
    {
     "name": "stderr",
     "output_type": "stream",
     "text": [
      " 99%|█████████▉| 989/1000 [47:49<00:30,  2.76s/it]"
     ]
    },
    {
     "name": "stdout",
     "output_type": "stream",
     "text": [
      "    n_samples|H12|meas: 990 4.875233211806958e-05 4.8240207913357916e-05\n"
     ]
    },
    {
     "name": "stderr",
     "output_type": "stream",
     "text": [
      "100%|█████████▉| 999/1000 [48:17<00:02,  2.96s/it]"
     ]
    },
    {
     "name": "stdout",
     "output_type": "stream",
     "text": [
      "    n_samples|H12|meas: 1000 4.875233211806958e-05 4.815488098805658e-05\n"
     ]
    },
    {
     "name": "stderr",
     "output_type": "stream",
     "text": [
      "100%|██████████| 1000/1000 [48:20<00:00,  2.90s/it]"
     ]
    },
    {
     "name": "stdout",
     "output_type": "stream",
     "text": [
      "    n_samples|H12|meas: 1000 4.875233211806958e-05 4.815488098805658e-05\n"
     ]
    },
    {
     "name": "stderr",
     "output_type": "stream",
     "text": [
      "\n"
     ]
    }
   ],
   "source": [
    "from mattspy import LokyParallel\n",
    "import tqdm\n",
    "import joblib\n",
    "\n",
    "def _report(g1s, g2s, orig, Neff):\n",
    "    print(\n",
    "        \"    n_samples|H12|meas:\",\n",
    "        len(g1s),\n",
    "        orig / np.sqrt(Neff),\n",
    "        np.sqrt(0.5 * (np.std(g1s)**2 + np.std(g2s)**2)),\n",
    "        flush=True,\n",
    "    )\n",
    "\n",
    "\n",
    "def _measure(seed, g, R):\n",
    "    _rng = np.random.default_rng(seed=seed)\n",
    "    theta = _rng.uniform(size=w.shape[0]) * np.pi\n",
    "    rot = np.exp(2j * theta)\n",
    "    rg = g * rot\n",
    "    rg1 = rg.real\n",
    "    rg2 = rg.imag\n",
    "\n",
    "    # assert not np.allclose(g1, rg1)\n",
    "    # assert not np.allclose(g2, rg2)\n",
    "\n",
    "    return (\n",
    "        np.average(rg1, weights=w) / R,\n",
    "        np.average(rg2, weights=w) / R,\n",
    "    )\n",
    "\n",
    "\n",
    "n_samples = 1000\n",
    "seed = 56\n",
    "rng = np.random.default_rng(seed=seed)\n",
    "seeds = rng.uniform(low=1, high=1e10, size=n_samples).astype(np.int64)\n",
    "\n",
    "with LokyParallel(n_jobs=2) as exc:\n",
    "    g1s = []\n",
    "    g2s = []\n",
    "    for pr in tqdm.tqdm(\n",
    "        exc(joblib.delayed(_measure)(seed, g, R) for seed in seeds),\n",
    "        total=n_samples\n",
    "    ):\n",
    "        try:\n",
    "            _g1, _g2 = pr.result()\n",
    "        except Exception:\n",
    "            pass\n",
    "        else:\n",
    "            g1s.append(_g1)\n",
    "            g2s.append(_g2)\n",
    "\n",
    "        if (len(g1s) > 0 and (len(g1s) % 10) == 0):\n",
    "            _report(g1s, g2s, orig, Neff)\n",
    "\n",
    "_report(g1s, g2s, orig, Neff)"
   ]
  },
  {
   "cell_type": "code",
   "execution_count": null,
   "id": "a46346c9",
   "metadata": {},
   "outputs": [],
   "source": []
  },
  {
   "cell_type": "code",
   "execution_count": null,
   "id": "cb1e90d5",
   "metadata": {},
   "outputs": [],
   "source": []
  }
 ],
 "metadata": {
  "kernelspec": {
   "display_name": "des-hacking-2025-06-05-home",
   "language": "python",
   "name": "python3"
  },
  "language_info": {
   "codemirror_mode": {
    "name": "ipython",
    "version": 3
   },
   "file_extension": ".py",
   "mimetype": "text/x-python",
   "name": "python",
   "nbconvert_exporter": "python",
   "pygments_lexer": "ipython3",
   "version": "3.13.3"
  }
 },
 "nbformat": 4,
 "nbformat_minor": 5
}
