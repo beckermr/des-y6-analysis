{
 "cells": [
  {
   "cell_type": "code",
   "execution_count": 1,
   "id": "f8091182-c7ec-4f2a-b447-2925b47da129",
   "metadata": {},
   "outputs": [],
   "source": [
    "import numpy as np\n",
    "import healsparse as hsp"
   ]
  },
  {
   "cell_type": "code",
   "execution_count": 2,
   "id": "3905e1e6-d718-44e6-a768-ac8cdb5daf2d",
   "metadata": {},
   "outputs": [],
   "source": [
    "m1 = hsp.HealSparseMap.read(\"/Users/beckermr/Desktop/y6-combined-hleda-gaiafull-des-stars-hsmap131k-mdet-v1.hsp\")"
   ]
  },
  {
   "cell_type": "code",
   "execution_count": 4,
   "id": "b73249fe-c5ae-4e31-835a-d95bae6f9799",
   "metadata": {},
   "outputs": [
    {
     "data": {
      "text/plain": [
       "21594705574"
      ]
     },
     "execution_count": 4,
     "metadata": {},
     "output_type": "execute_result"
    }
   ],
   "source": [
    "m1.n_valid"
   ]
  },
  {
   "cell_type": "code",
   "execution_count": 5,
   "id": "fcfcf398-47c7-46aa-93a3-39d721cecc91",
   "metadata": {},
   "outputs": [],
   "source": [
    "m2 = hsp.HealSparseMap.read(\"/Users/beckermr/Desktop/y6-combined-hleda-gaiafull-des-stars-hsmap131k-mdet-v2.hsp\")"
   ]
  },
  {
   "cell_type": "code",
   "execution_count": 6,
   "id": "f3bd5670-e6cd-4a26-a220-f654168876dd",
   "metadata": {},
   "outputs": [
    {
     "data": {
      "text/plain": [
       "22097207303"
      ]
     },
     "execution_count": 6,
     "metadata": {},
     "output_type": "execute_result"
    }
   ],
   "source": [
    "m2.n_valid"
   ]
  },
  {
   "cell_type": "code",
   "execution_count": 7,
   "id": "28ab059b-e386-4c8a-9be8-61a1b8876e4e",
   "metadata": {},
   "outputs": [
    {
     "data": {
      "text/plain": [
       "1.0232696726185058"
      ]
     },
     "execution_count": 7,
     "metadata": {},
     "output_type": "execute_result"
    }
   ],
   "source": [
    "22097207303 / 21594705574"
   ]
  },
  {
   "cell_type": "code",
   "execution_count": null,
   "id": "ebcca862-0378-490f-a297-f84f56bb07fe",
   "metadata": {},
   "outputs": [],
   "source": []
  }
 ],
 "metadata": {
  "kernelspec": {
   "display_name": "Python [conda env:work]",
   "language": "python",
   "name": "conda-env-work-py"
  },
  "language_info": {
   "codemirror_mode": {
    "name": "ipython",
    "version": 3
   },
   "file_extension": ".py",
   "mimetype": "text/x-python",
   "name": "python",
   "nbconvert_exporter": "python",
   "pygments_lexer": "ipython3",
   "version": "3.10.12"
  }
 },
 "nbformat": 4,
 "nbformat_minor": 5
}
