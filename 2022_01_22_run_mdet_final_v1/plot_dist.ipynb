{
 "cells": [
  {
   "cell_type": "code",
   "execution_count": 1,
   "id": "2157b230",
   "metadata": {},
   "outputs": [],
   "source": [
    "import glob\n",
    "import fitsio\n",
    "import proplot as pplt\n",
    "import numpy as np"
   ]
  },
  {
   "cell_type": "code",
   "execution_count": 2,
   "id": "2f940e12",
   "metadata": {},
   "outputs": [],
   "source": [
    "import random\n",
    "\n",
    "fnames = sorted(glob.glob(\"./data_final/*.fits\"))\n",
    "n_keep = 10\n",
    "\n",
    "random.shuffle(fnames)"
   ]
  },
  {
   "cell_type": "code",
   "execution_count": 3,
   "id": "6b26b9b1",
   "metadata": {},
   "outputs": [
    {
     "name": "stderr",
     "output_type": "stream",
     "text": [
      "100%|█████████████████████████████████████████████████████████████████████████████████████████████████████████████████████████████████████| 10/10 [00:09<00:00,  1.04it/s]\n"
     ]
    }
   ],
   "source": [
    "import tqdm\n",
    "\n",
    "d = []\n",
    "for i in tqdm.trange(n_keep):\n",
    "    d.append(fitsio.read(fnames[i]))\n",
    "d = np.concatenate(d)"
   ]
  },
  {
   "cell_type": "code",
   "execution_count": 6,
   "id": "17042f42",
   "metadata": {},
   "outputs": [
    {
     "name": "stdout",
     "output_type": "stream",
     "text": [
      "8.3412\n",
      "0.3807955153671818\n",
      "150.4648\n",
      "0.37897596978657616\n"
     ]
    }
   ],
   "source": [
    "msk = (\n",
    "    (d[\"flags\"] == 0)\n",
    "    & (d[\"mask_flags\"] == 0)\n",
    "    & (d[\"mdet_s2n\"] > 8)\n",
    "    & (d[\"mdet_s2n\"] <= 100)    \n",
    "    & (d[\"mdet_T_ratio\"] > 0.5)\n",
    "    & (d[\"mdet_T\"] < 1.2)\n",
    "    & (d[\"mfrac\"] > 0.02)\n",
    "    & (d[\"mfrac\"] < 0.1)\n",
    ")\n",
    "print(np.sum(msk)/n_keep*1e4/1e6/5)\n",
    "print(np.std(d[\"mdet_g_1\"][msk]))\n",
    "\n",
    "msk = (\n",
    "    (d[\"flags\"] == 0)\n",
    "    & (d[\"mask_flags\"] == 0)\n",
    "    & (d[\"mdet_s2n\"] > 8)\n",
    "    & (d[\"mdet_s2n\"] <= 100)    \n",
    "    & (d[\"mdet_T_ratio\"] > 0.5)\n",
    "    & (d[\"mdet_T\"] < 1.2)\n",
    "    & (d[\"mfrac\"] < 0.02)\n",
    ")\n",
    "print(np.sum(msk)/n_keep*1e4/1e6/5)\n",
    "print(np.std(d[\"mdet_g_1\"][msk]))"
   ]
  },
  {
   "cell_type": "code",
   "execution_count": null,
   "id": "bfbd08b3",
   "metadata": {},
   "outputs": [],
   "source": [
    "keys = [\"mdet_s2n\", \"mdet_T\", \"mdet_T_ratio\"]\n",
    "n_keys = len(keys)\n",
    "\n",
    "fig, axs = pplt.subplots(nrows=n_keys, ncols=n_keys, share=0)\n",
    "for i in range(n_keys):\n",
    "    ax = axs[i, i]\n",
    "    ax.hist(np.log10(d[keys[i]][msk]), bins=100, log=True)\n",
    "\n",
    "    if i == n_keys - 1:\n",
    "        ax.set_xlabel(\"log10[%s]\" % keys[i])\n",
    "        \n",
    "    if i == 0:\n",
    "        ax.set_ylabel(\"log10[%s]\" % keys[i])\n",
    "\n",
    "    for j in range(i+1, n_keys):\n",
    "        ax = axs[j, i]\n",
    "        ax.hexbin(\n",
    "            np.log10(d[keys[i]][msk]), \n",
    "            np.log10(d[keys[j]][msk]), \n",
    "            norm=\"log\",\n",
    "        )\n",
    "        \n",
    "        if j == n_keys - 1:\n",
    "            ax.set_xlabel(\"log10[%s]\" % keys[i])\n",
    "\n",
    "        if i == 0:\n",
    "            ax.set_ylabel(\"log10[%s]\" % keys[j])\n",
    "        \n",
    "    for j in range(0, i):\n",
    "        ax = axs[j, i]\n",
    "        ax.axis(\"off\")\n"
   ]
  },
  {
   "cell_type": "code",
   "execution_count": null,
   "id": "529bc586",
   "metadata": {},
   "outputs": [],
   "source": []
  }
 ],
 "metadata": {
  "kernelspec": {
   "display_name": "Python [conda env:desy6]",
   "language": "python",
   "name": "conda-env-desy6-py"
  },
  "language_info": {
   "codemirror_mode": {
    "name": "ipython",
    "version": 3
   },
   "file_extension": ".py",
   "mimetype": "text/x-python",
   "name": "python",
   "nbconvert_exporter": "python",
   "pygments_lexer": "ipython3",
   "version": "3.9.7"
  }
 },
 "nbformat": 4,
 "nbformat_minor": 5
}
