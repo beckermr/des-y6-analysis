{
 "cells": [
  {
   "cell_type": "code",
   "execution_count": null,
   "id": "05c4cd09",
   "metadata": {},
   "outputs": [],
   "source": [
    "import piff\n",
    "import proplot as pplt\n",
    "import numpy as np"
   ]
  },
  {
   "cell_type": "code",
   "execution_count": null,
   "id": "4a41a9f5",
   "metadata": {},
   "outputs": [],
   "source": [
    "piff.__version__"
   ]
  },
  {
   "cell_type": "code",
   "execution_count": null,
   "id": "1e04104c",
   "metadata": {},
   "outputs": [],
   "source": [
    "models = {}\n",
    "for fname, band in zip([\n",
    "    \"D00226655_z_c10_r5702p01_piff-model.fits\",\n",
    "    \"D00229281_g_c05_r5702p01_piff-model.fits\",\n",
    "    \"D00229330_r_c08_r5702p01_piff-model.fits\",\n",
    "    \"D00229331_i_c04_r5702p01_piff-model.fits\",\n",
    "], [\"z\", \"g\", \"r\", \"i\"]):\n",
    "    models[band] = piff.read(fname)"
   ]
  },
  {
   "cell_type": "code",
   "execution_count": null,
   "id": "21ec5492",
   "metadata": {},
   "outputs": [],
   "source": [
    "fig, axs = pplt.subplots(nrows=2, ncols=2)\n",
    "\n",
    "ax = axs[0, 0]\n",
    "img = models[\"g\"].draw(x=10, y=11, chipnum=5, GI_COLOR=0.61).array\n",
    "ax.imshow(np.arcsinh(img/np.std(img[:, 12])), origin='lower', cmap='rocket')\n",
    "ax.grid(False)\n",
    "\n",
    "ax = axs[0, 1]\n",
    "img = models[\"r\"].draw(x=10, y=11, chipnum=8, GI_COLOR=0.61).array\n",
    "ax.imshow(np.arcsinh(img/np.std(img[:, 12])), origin='lower', cmap='rocket')\n",
    "ax.grid(False)\n",
    "\n",
    "ax = axs[1, 0]\n",
    "img = models[\"i\"].draw(x=10, y=11, chipnum=4, GI_COLOR=0.61).array\n",
    "ax.imshow(np.arcsinh(img/np.std(img[:, 12])), origin='lower', cmap='rocket')\n",
    "ax.grid(False)\n",
    "\n",
    "\n",
    "ax = axs[1, 1]\n",
    "img = models[\"z\"].draw(x=10, y=11, chipnum=10, IZ_COLOR=0.24).array\n",
    "ax.imshow(np.arcsinh(img/np.std(img[:, 12])), origin='lower', cmap='rocket')\n",
    "ax.grid(False)\n"
   ]
  },
  {
   "cell_type": "code",
   "execution_count": null,
   "id": "5fe0e450",
   "metadata": {},
   "outputs": [],
   "source": [
    "import galsim\n",
    "\n",
    "y, x = np.mgrid[:25, :25]\n",
    "\n",
    "msk = (\n",
    "    (y < 4)\n",
    "    | (y > 20)\n",
    "    | (x < 4)\n",
    "    | (x > 20)\n",
    ")\n",
    "\n",
    "pixels = []\n",
    "for i in range(100):\n",
    "    x = np.random.uniform() * 2048 + 1\n",
    "    y = np.random.uniform() * 4096 + 1\n",
    "    img = galsim.ImageD(25, 25, scale=0.263)\n",
    "    models[\"z\"].draw(x=x, y=y, chipnum=10, IZ_COLOR=0.61, image=img, center=(13, 13))\n",
    "    img = img.array\n",
    "    img = img/img.sum()\n",
    "    pixels.append(img[msk])\n",
    "    "
   ]
  },
  {
   "cell_type": "code",
   "execution_count": null,
   "id": "6caef1fe",
   "metadata": {},
   "outputs": [],
   "source": [
    "nse = np.std(np.hstack(pixels))\n",
    "print(nse, np.mean(np.hstack(pixels))/nse)"
   ]
  },
  {
   "cell_type": "code",
   "execution_count": null,
   "id": "a6764dbd",
   "metadata": {},
   "outputs": [],
   "source": [
    "np.sqrt(np.sum(img**2))/nse"
   ]
  },
  {
   "cell_type": "code",
   "execution_count": null,
   "id": "370d8e45",
   "metadata": {},
   "outputs": [],
   "source": [
    "fig, axs = pplt.subplots()\n",
    "axs.imshow(np.arcsinh(img/nse), cmap=\"rocket\")"
   ]
  },
  {
   "cell_type": "code",
   "execution_count": null,
   "id": "b5f8a705",
   "metadata": {},
   "outputs": [],
   "source": [
    "tst = img.copy()\n",
    "dim = (13-1)//2\n",
    "cen = (25-1)//2\n",
    "tst[cen-dim:cen+dim+1, cen-dim:cen+dim+1] = np.nan\n",
    "fig, axs = pplt.subplots()\n",
    "axs.imshow(tst, cmap=\"rocket\")"
   ]
  },
  {
   "cell_type": "code",
   "execution_count": null,
   "id": "0648b164",
   "metadata": {},
   "outputs": [],
   "source": [
    "np.sqrt(np.sum(np.isnan(tst)))"
   ]
  },
  {
   "cell_type": "code",
   "execution_count": null,
   "id": "59535d4b",
   "metadata": {},
   "outputs": [],
   "source": [
    "import galsim\n",
    "rng = np.random.RandomState(seed=10)\n",
    "\n",
    "psf = galsim.Gaussian(fwhm=0.9)\n",
    "scale = 0.263\n",
    "psf_dim = 25\n",
    "psf_cen = (psf_dim-1)//2\n",
    "psf_im = psf.drawImage(nx=psf_dim, ny=psf_dim, scale=scale).array\n",
    "psf_im /= np.sum(psf_im)\n",
    "psf_nse_dim = (21-1)//2\n",
    "psf_nse = 1.6e-4\n",
    "psf_mn = 0.5 * psf_nse\n",
    "psf_im[psf_cen-psf_nse_dim:psf_cen+psf_nse_dim+1, psf_cen-psf_nse_dim:psf_cen+psf_nse_dim+1] += psf_mn\n",
    "psf_im[\n",
    "    psf_cen-psf_nse_dim:psf_cen+psf_nse_dim+1, \n",
    "    psf_cen-psf_nse_dim:psf_cen+psf_nse_dim+1\n",
    "] += (rng.normal(size=(21, 21)) * psf_nse)\n",
    "\n",
    "\n",
    "fig, axs = pplt.subplots(nrows=1, ncols=2)\n",
    "axs[0].imshow(np.arcsinh(psf_im/psf_nse), cmap=\"rocket\")\n",
    "axs[1].imshow(psf_im, cmap=\"rocket\")"
   ]
  },
  {
   "cell_type": "code",
   "execution_count": null,
   "id": "b18defea",
   "metadata": {},
   "outputs": [],
   "source": []
  }
 ],
 "metadata": {
  "kernelspec": {
   "display_name": "Python [conda env:desy6] *",
   "language": "python",
   "name": "conda-env-desy6-py"
  },
  "language_info": {
   "codemirror_mode": {
    "name": "ipython",
    "version": 3
   },
   "file_extension": ".py",
   "mimetype": "text/x-python",
   "name": "python",
   "nbconvert_exporter": "python",
   "pygments_lexer": "ipython3",
   "version": "3.8.12"
  }
 },
 "nbformat": 4,
 "nbformat_minor": 5
}
