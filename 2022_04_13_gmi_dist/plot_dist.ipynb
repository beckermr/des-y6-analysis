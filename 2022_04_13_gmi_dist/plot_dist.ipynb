{
 "cells": [
  {
   "cell_type": "code",
   "execution_count": 1,
   "id": "2157b230",
   "metadata": {},
   "outputs": [],
   "source": [
    "import glob\n",
    "import fitsio\n",
    "import proplot as pplt\n",
    "import numpy as np"
   ]
  },
  {
   "cell_type": "code",
   "execution_count": 2,
   "id": "2f940e12",
   "metadata": {},
   "outputs": [],
   "source": [
    "import random\n",
    "\n",
    "fnames = sorted(glob.glob(\"../2022_01_22_run_mdet_final_v1/data_final/*.fits\"))\n",
    "n_keep = 10\n",
    "\n",
    "random.shuffle(fnames)"
   ]
  },
  {
   "cell_type": "code",
   "execution_count": 3,
   "id": "6b26b9b1",
   "metadata": {},
   "outputs": [
    {
     "name": "stderr",
     "output_type": "stream",
     "text": [
      "100%|██████████| 10/10 [00:32<00:00,  3.27s/it]\n"
     ]
    }
   ],
   "source": [
    "import tqdm\n",
    "\n",
    "d = []\n",
    "for i in tqdm.trange(n_keep):\n",
    "    d.append(fitsio.read(fnames[i]))\n",
    "d = np.concatenate(d)"
   ]
  },
  {
   "cell_type": "code",
   "execution_count": 4,
   "id": "313e7f66",
   "metadata": {},
   "outputs": [
    {
     "name": "stderr",
     "output_type": "stream",
     "text": [
      "/gpfs02/astro/workarea/beckermr/tmp/ipykernel_25833/2940946498.py:1: RuntimeWarning: invalid value encountered in log10\n",
      "  mag_g = 30.0 - 2.5*np.log10(d[\"mdet_g_flux\"])\n",
      "/gpfs02/astro/workarea/beckermr/tmp/ipykernel_25833/2940946498.py:2: RuntimeWarning: invalid value encountered in log10\n",
      "  mag_r = 30.0 - 2.5*np.log10(d[\"mdet_r_flux\"])\n",
      "/gpfs02/astro/workarea/beckermr/tmp/ipykernel_25833/2940946498.py:3: RuntimeWarning: invalid value encountered in log10\n",
      "  mag_i = 30.0 - 2.5*np.log10(d[\"mdet_i_flux\"])\n",
      "/gpfs02/astro/workarea/beckermr/tmp/ipykernel_25833/2940946498.py:4: RuntimeWarning: invalid value encountered in log10\n",
      "  mag_z = 30.0 - 2.5*np.log10(d[\"mdet_z_flux\"])\n"
     ]
    }
   ],
   "source": [
    "mag_g = 30.0 - 2.5*np.log10(d[\"mdet_g_flux\"])\n",
    "mag_r = 30.0 - 2.5*np.log10(d[\"mdet_r_flux\"])\n",
    "mag_i = 30.0 - 2.5*np.log10(d[\"mdet_i_flux\"])\n",
    "mag_z = 30.0 - 2.5*np.log10(d[\"mdet_z_flux\"])\n",
    "gmr = mag_g - mag_r\n",
    "rmi = mag_r - mag_i\n",
    "imz = mag_i - mag_z\n",
    "\n",
    "msk = (\n",
    "    (d[\"flags\"] == 0)\n",
    "    & (d[\"mask_flags\"] == 0)\n",
    "    & (d[\"mdet_flux_flags\"] == 0)\n",
    "    & (d[\"mdet_T_ratio\"] > 0.5)\n",
    "    & (d[\"mdet_s2n\"] > 10)\n",
    "    & (d[\"mfrac\"] < 0.1)\n",
    "    & (d[\"mdet_T\"] < 1.9 - 2.8*d[\"mdet_T_err\"])\n",
    "    & (np.abs(gmr) < 5)\n",
    "    & (np.abs(rmi) < 5)\n",
    "    & (np.abs(imz) < 5)\n",
    "    & np.isfinite(mag_g)\n",
    "    & np.isfinite(mag_r)\n",
    "    & np.isfinite(mag_i)\n",
    "    & np.isfinite(mag_z)\n",
    "    & (mag_g < 26.5)\n",
    "    & (mag_r < 26.5)\n",
    "    & (mag_i < 26.2)\n",
    "    & (mag_z < 25.6)\n",
    ")"
   ]
  },
  {
   "cell_type": "code",
   "execution_count": 5,
   "id": "307b5637",
   "metadata": {},
   "outputs": [
    {
     "data": {
      "text/plain": [
       "(array([1.0000e+00, 0.0000e+00, 0.0000e+00, 1.0000e+00, 0.0000e+00,\n",
       "        2.0000e+00, 1.0000e+00, 0.0000e+00, 6.0000e+00, 1.0000e+00,\n",
       "        0.0000e+00, 0.0000e+00, 2.0000e+00, 1.0000e+00, 6.0000e+00,\n",
       "        4.0000e+00, 4.0000e+00, 4.0000e+00, 7.0000e+00, 6.0000e+00,\n",
       "        1.4000e+01, 1.6000e+01, 3.2000e+01, 5.3000e+01, 6.4000e+01,\n",
       "        6.3000e+01, 9.5000e+01, 9.8000e+01, 1.3400e+02, 1.6600e+02,\n",
       "        2.0100e+02, 2.6300e+02, 2.6900e+02, 3.8300e+02, 5.2800e+02,\n",
       "        6.8000e+02, 8.6000e+02, 1.1980e+03, 1.6740e+03, 2.2250e+03,\n",
       "        2.9980e+03, 4.2630e+03, 5.6610e+03, 7.2250e+03, 9.7250e+03,\n",
       "        1.2828e+04, 1.6300e+04, 1.9726e+04, 2.3564e+04, 2.7911e+04,\n",
       "        3.1753e+04, 3.6842e+04, 4.0335e+04, 4.2257e+04, 4.4510e+04,\n",
       "        4.5537e+04, 4.4531e+04, 4.2028e+04, 3.8426e+04, 3.3264e+04,\n",
       "        2.8498e+04, 2.5772e+04, 2.2020e+04, 1.8544e+04, 1.6370e+04,\n",
       "        1.4519e+04, 1.3028e+04, 1.1745e+04, 1.0727e+04, 1.0254e+04,\n",
       "        9.4920e+03, 9.2100e+03, 7.7250e+03, 6.9610e+03, 6.1820e+03,\n",
       "        5.4030e+03, 4.5000e+03, 3.7360e+03, 3.0250e+03, 2.5450e+03,\n",
       "        2.0440e+03, 1.5310e+03, 1.0740e+03, 8.0300e+02, 7.2900e+02,\n",
       "        5.7200e+02, 4.1200e+02, 3.0200e+02, 2.2100e+02, 1.6600e+02,\n",
       "        1.1000e+02, 1.0000e+02, 7.0000e+01, 3.8000e+01, 1.7000e+01,\n",
       "        7.0000e+00, 1.1000e+01, 4.0000e+00, 1.0000e+00, 2.0000e+00]),\n",
       " array([-3.73874723, -3.65253081, -3.56631438, -3.48009795, -3.39388153,\n",
       "        -3.3076651 , -3.22144867, -3.13523225, -3.04901582, -2.96279939,\n",
       "        -2.87658297, -2.79036654, -2.70415011, -2.61793368, -2.53171726,\n",
       "        -2.44550083, -2.3592844 , -2.27306798, -2.18685155, -2.10063512,\n",
       "        -2.0144187 , -1.92820227, -1.84198584, -1.75576942, -1.66955299,\n",
       "        -1.58333656, -1.49712014, -1.41090371, -1.32468728, -1.23847086,\n",
       "        -1.15225443, -1.066038  , -0.97982158, -0.89360515, -0.80738872,\n",
       "        -0.72117229, -0.63495587, -0.54873944, -0.46252301, -0.37630659,\n",
       "        -0.29009016, -0.20387373, -0.11765731, -0.03144088,  0.05477555,\n",
       "         0.14099197,  0.2272084 ,  0.31342483,  0.39964125,  0.48585768,\n",
       "         0.57207411,  0.65829053,  0.74450696,  0.83072339,  0.91693982,\n",
       "         1.00315624,  1.08937267,  1.1755891 ,  1.26180552,  1.34802195,\n",
       "         1.43423838,  1.5204548 ,  1.60667123,  1.69288766,  1.77910408,\n",
       "         1.86532051,  1.95153694,  2.03775336,  2.12396979,  2.21018622,\n",
       "         2.29640264,  2.38261907,  2.4688355 ,  2.55505193,  2.64126835,\n",
       "         2.72748478,  2.81370121,  2.89991763,  2.98613406,  3.07235049,\n",
       "         3.15856691,  3.24478334,  3.33099977,  3.41721619,  3.50343262,\n",
       "         3.58964905,  3.67586547,  3.7620819 ,  3.84829833,  3.93451475,\n",
       "         4.02073118,  4.10694761,  4.19316404,  4.27938046,  4.36559689,\n",
       "         4.45181332,  4.53802974,  4.62424617,  4.7104626 ,  4.79667902,\n",
       "         4.88289545]),\n",
       " <BarContainer object of 100 artists>)"
      ]
     },
     "execution_count": 5,
     "metadata": {},
     "output_type": "execute_result"
    },
    {
     "data": {
      "image/png": "[encoded data removed]",
      "text/plain": [
       "Figure(nrows=1, ncols=1, refwidth=2.5)"
      ]
     },
     "metadata": {
      "image/png": {
       "height": 282,
       "width": 305
      }
     },
     "output_type": "display_data"
    }
   ],
   "source": [
    "gmi = mag_g - mag_i\n",
    "\n",
    "fig, axs = pplt.subplots()\n",
    "axs.hist(gmi[msk], bins=100)"
   ]
  },
  {
   "cell_type": "code",
   "execution_count": 6,
   "id": "ecdf44a5",
   "metadata": {},
   "outputs": [
    {
     "data": {
      "text/plain": [
       "array([1.10495284])"
      ]
     },
     "execution_count": 6,
     "metadata": {},
     "output_type": "execute_result"
    }
   ],
   "source": []
  },
  {
   "cell_type": "code",
   "execution_count": 14,
   "id": "44ec9a96",
   "metadata": {},
   "outputs": [
    {
     "name": "stdout",
     "output_type": "stream",
     "text": [
      "[1.10495284]\n",
      "[0.50420342 0.93930486 1.30403829 1.99624049]\n",
      "[0.375 1.125 1.875 2.625]\n"
     ]
    }
   ],
   "source": [
    "_msk = msk & (gmi > 0) & (gmi < 3)\n",
    "print(np.quantile(gmi[msk], [0.5]))\n",
    "print(np.quantile(gmi[_msk], np.arange(4) * 0.25 + 0.25/2))\n",
    "print(np.arange(4) * 1.5/2 + 1.5/4)"
   ]
  },
  {
   "cell_type": "code",
   "execution_count": 25,
   "id": "8772c08f",
   "metadata": {},
   "outputs": [
    {
     "data": {
      "text/plain": [
       "array([0.125, 0.375, 0.625, 0.875])"
      ]
     },
     "execution_count": 25,
     "metadata": {},
     "output_type": "execute_result"
    }
   ],
   "source": [
    "np.arange(4) * 0.25 + 0.25/2"
   ]
  },
  {
   "cell_type": "code",
   "execution_count": 26,
   "id": "1a657b11",
   "metadata": {},
   "outputs": [
    {
     "data": {
      "text/plain": [
       "array([0.   , 0.125, 0.25 , 0.375, 0.5  , 0.625, 0.75 , 0.875])"
      ]
     },
     "execution_count": 26,
     "metadata": {},
     "output_type": "execute_result"
    }
   ],
   "source": [
    "(np.arange(8) * 0.125)"
   ]
  },
  {
   "cell_type": "code",
   "execution_count": 7,
   "id": "12476a95",
   "metadata": {},
   "outputs": [],
   "source": [
    "DES_GMI_BE = np.array([\n",
    "    -2.8886816, -2.79877759, -2.70887357, -2.61896955, -2.52906553,\n",
    "    -2.43916152, -2.3492575, -2.25935348, -2.16944947, -2.07954545,\n",
    "    -1.98964143, -1.89973741, -1.8098334, -1.71992938, -1.63002536,\n",
    "    -1.54012135, -1.45021733, -1.36031331, -1.27040929, -1.18050528,\n",
    "    -1.09060126, -1.00069724, -0.91079323, -0.82088921, -0.73098519,\n",
    "    -0.64108117, -0.55117716, -0.46127314, -0.37136912, -0.28146511,\n",
    "    -0.19156109, -0.10165707, -0.01175305,  0.07815096,  0.16805498,\n",
    "    0.257959,  0.34786301,  0.43776703,  0.52767105, 0.61757506,\n",
    "    0.70747908,  0.7973831, 0.88728712,  0.97719113,  1.06709515,\n",
    "    1.15699917,  1.24690318,  1.3368072, 1.42671122,  1.51661524,\n",
    "    1.60651925,  1.69642327,  1.78632729,  1.8762313, 1.96613532,\n",
    "    2.05603934,  2.14594336,  2.23584737,  2.32575139,  2.41565541,\n",
    "    2.50555942,  2.59546344,  2.68536746,  2.77527148,  2.86517549,\n",
    "    2.95507951,  3.04498353,  3.13488754,  3.22479156,  3.31469558,\n",
    "    3.4045996, 3.49450361,  3.58440763,  3.67431165,  3.76421566,\n",
    "    3.85411968,  3.9440237, 4.03392771,  4.12383173,  4.21373575,\n",
    "    4.30363977,  4.39354378,  4.4834478, 4.57335182,  4.66325583,\n",
    "    4.75315985,  4.84306387,  4.93296789,  5.0228719, 5.11277592,\n",
    "    5.20267994,  5.29258395,  5.38248797,  5.47239199,  5.56229601,\n",
    "    5.65220002,  5.74210404,  5.83200806,  5.92191207,  6.01181609,\n",
    "    6.10172011\n",
    "])\n",
    "\n",
    "\n",
    "DES_GMI_CDF = np.array([\n",
    "    0.00000000e+00, 2.30887960e-06, 2.30887960e-06, 2.30887960e-06,\n",
    "    4.61775921e-06, 9.23551842e-06, 1.03899582e-05, 1.38532776e-05,\n",
    "    2.30887960e-05, 3.57876339e-05, 5.42586707e-05, 6.46486289e-05,\n",
    "    8.65829852e-05, 1.22370619e-04, 1.66239332e-04, 2.36660159e-04,\n",
    "    3.31324223e-04, 4.44459324e-04, 5.89918739e-04, 7.95409024e-04,\n",
    "    1.02052479e-03, 1.30451698e-03, 1.68317323e-03, 2.18073679e-03,\n",
    "    2.86416515e-03, 3.65380197e-03, 4.75051979e-03, 6.23166605e-03,\n",
    "    8.22653803e-03, 1.08944484e-02, 1.46336789e-02, 1.96716542e-02,\n",
    "    2.67806945e-02, 3.67319656e-02, 5.01130774e-02, 6.75335740e-02,\n",
    "    8.94933279e-02, 1.17302628e-01, 1.50583973e-01, 1.89486286e-01,\n",
    "    2.36229553e-01, 2.88100843e-01, 3.45242150e-01, 4.03848441e-01,\n",
    "    4.64133287e-01, 5.25280500e-01, 5.82576502e-01, 6.35287069e-01,\n",
    "    6.82508274e-01, 7.22752046e-01, 7.57407174e-01, 7.86948134e-01,\n",
    "    8.12696760e-01, 8.34314800e-01, 8.54055720e-01, 8.71745201e-01,\n",
    "    8.87671853e-01, 9.02349400e-01, 9.15968327e-01, 9.28925759e-01,\n",
    "    9.40861512e-01, 9.51694775e-01, 9.60682089e-01, 9.68386820e-01,\n",
    "    9.74789344e-01, 9.80054744e-01, 9.84427762e-01, 9.87958038e-01,\n",
    "    9.90974590e-01, 9.93310021e-01, 9.95089013e-01, 9.96529754e-01,\n",
    "    9.97524881e-01, 9.98170213e-01, 9.98704719e-01, 9.99124935e-01,\n",
    "    9.99414699e-01, 9.99613263e-01, 9.99742560e-01, 9.99830297e-01,\n",
    "    9.99891483e-01, 9.99936506e-01, 9.99965367e-01, 9.99971139e-01,\n",
    "    9.99981529e-01, 9.99983838e-01, 9.99987301e-01, 9.99991919e-01,\n",
    "    9.99996537e-01, 9.99996537e-01, 9.99996537e-01, 9.99996537e-01,\n",
    "    9.99996537e-01, 9.99996537e-01, 9.99996537e-01, 9.99996537e-01,\n",
    "    9.99996537e-01, 9.99996537e-01, 9.99996537e-01, 9.99998846e-01,\n",
    "    1.00000000e+00\n",
    "])\n",
    "\n",
    "\n",
    "def _draw_des_gmi(n, rng):\n",
    "    x = rng.uniform(size=n)\n",
    "    return np.interp(x, DES_GMI_CDF, DES_GMI_BE)\n"
   ]
  },
  {
   "cell_type": "code",
   "execution_count": 8,
   "id": "c39f3fe4",
   "metadata": {},
   "outputs": [
    {
     "data": {
      "text/plain": [
       "1.1198295515316978"
      ]
     },
     "execution_count": 8,
     "metadata": {},
     "output_type": "execute_result"
    }
   ],
   "source": [
    "np.interp(0.5, DES_GMI_CDF, DES_GMI_BE)"
   ]
  },
  {
   "cell_type": "code",
   "execution_count": 12,
   "id": "76e4d6f2",
   "metadata": {},
   "outputs": [
    {
     "data": {
      "text/plain": [
       "array([0.4585602 , 0.93293666, 1.3192614 , 2.07441229])"
      ]
     },
     "execution_count": 12,
     "metadata": {},
     "output_type": "execute_result"
    }
   ],
   "source": [
    "np.interp(np.arange(4) * 0.25 + 0.25/2, DES_GMI_CDF, DES_GMI_BE)"
   ]
  },
  {
   "cell_type": "code",
   "execution_count": 25,
   "id": "dd5c8481",
   "metadata": {},
   "outputs": [],
   "source": [
    "v = _draw_des_gmi(10000, np.random)"
   ]
  },
  {
   "cell_type": "code",
   "execution_count": 26,
   "id": "77ac01ae",
   "metadata": {},
   "outputs": [
    {
     "data": {
      "text/plain": [
       "(array([  1.,   0.,   0.,   0.,   0.,   0.,   1.,   0.,   1.,   1.,   0.,\n",
       "          0.,   1.,   0.,   2.,   3.,   1.,   2.,   3.,   5.,   4.,   7.,\n",
       "         12.,  20.,  16.,  30.,  29.,  36.,  70.,  86., 121., 161., 213.,\n",
       "        263., 309., 344., 435., 480., 489., 499., 553., 556., 573., 499.,\n",
       "        518., 442., 396., 305., 272., 272., 209., 180., 199., 157., 150.,\n",
       "        143., 118., 108., 108., 102.,  93.,  84.,  61.,  51.,  47.,  44.,\n",
       "         21.,  23.,  17.,  12.,   8.,   8.,   6.,   5.,   6.,   3.,   0.,\n",
       "          1.,   3.,   1.,   0.,   0.,   0.,   0.,   0.,   0.,   0.,   0.,\n",
       "          0.,   0.,   0.,   0.,   0.,   0.,   0.,   0.,   0.,   0.,   0.,\n",
       "          1.]),\n",
       " array([-2.44533998, -2.3613747 , -2.27740941, -2.19344412, -2.10947884,\n",
       "        -2.02551355, -1.94154826, -1.85758297, -1.77361769, -1.6896524 ,\n",
       "        -1.60568711, -1.52172183, -1.43775654, -1.35379125, -1.26982596,\n",
       "        -1.18586068, -1.10189539, -1.0179301 , -0.93396482, -0.84999953,\n",
       "        -0.76603424, -0.68206895, -0.59810367, -0.51413838, -0.43017309,\n",
       "        -0.34620781, -0.26224252, -0.17827723, -0.09431195, -0.01034666,\n",
       "         0.07361863,  0.15758392,  0.2415492 ,  0.32551449,  0.40947978,\n",
       "         0.49344506,  0.57741035,  0.66137564,  0.74534093,  0.82930621,\n",
       "         0.9132715 ,  0.99723679,  1.08120207,  1.16516736,  1.24913265,\n",
       "         1.33309794,  1.41706322,  1.50102851,  1.5849938 ,  1.66895908,\n",
       "         1.75292437,  1.83688966,  1.92085494,  2.00482023,  2.08878552,\n",
       "         2.17275081,  2.25671609,  2.34068138,  2.42464667,  2.50861195,\n",
       "         2.59257724,  2.67654253,  2.76050782,  2.8444731 ,  2.92843839,\n",
       "         3.01240368,  3.09636896,  3.18033425,  3.26429954,  3.34826483,\n",
       "         3.43223011,  3.5161954 ,  3.60016069,  3.68412597,  3.76809126,\n",
       "         3.85205655,  3.93602184,  4.01998712,  4.10395241,  4.1879177 ,\n",
       "         4.27188298,  4.35584827,  4.43981356,  4.52377884,  4.60774413,\n",
       "         4.69170942,  4.77567471,  4.85963999,  4.94360528,  5.02757057,\n",
       "         5.11153585,  5.19550114,  5.27946643,  5.36343172,  5.447397  ,\n",
       "         5.53136229,  5.61532758,  5.69929286,  5.78325815,  5.86722344,\n",
       "         5.95118873]),\n",
       " <BarContainer object of 100 artists>)"
      ]
     },
     "execution_count": 26,
     "metadata": {},
     "output_type": "execute_result"
    },
    {
     "data": {
      "image/png": "[encoded data removed]",
      "text/plain": [
       "Figure(nrows=1, ncols=1, refwidth=2.5)"
      ]
     },
     "metadata": {
      "image/png": {
       "height": 286,
       "width": 291
      }
     },
     "output_type": "display_data"
    }
   ],
   "source": [
    "fig, axs = pplt.subplots()\n",
    "axs.hist(v, bins=100)"
   ]
  },
  {
   "cell_type": "code",
   "execution_count": 22,
   "id": "c0b741f3",
   "metadata": {},
   "outputs": [
    {
     "data": {
      "text/plain": [
       "1"
      ]
     },
     "execution_count": 22,
     "metadata": {},
     "output_type": "execute_result"
    }
   ],
   "source": [
    "color = 1\n",
    "colors = np.array([0.50420342, 0.93930486, 1.30403829, 1.99624049])\n",
    "\n",
    "int(np.argmin(np.abs(color - colors)))"
   ]
  },
  {
   "cell_type": "code",
   "execution_count": 33,
   "id": "bc18f0fb",
   "metadata": {},
   "outputs": [
    {
     "name": "stdout",
     "output_type": "stream",
     "text": [
      "[0.61707776 1.72290952]\n",
      "[0.75754348 0.99408925 1.21975318 1.50845878]\n"
     ]
    }
   ],
   "source": [
    "ll = np.quantile(gmi[msk], [0.2, 0.8])\n",
    "print(ll)\n",
    "_msk = msk & (gmi > ll[0]) & (gmi < ll[1])\n",
    "print(np.quantile(gmi[_msk], np.arange(4) * 0.25 + 0.25/2))"
   ]
  },
  {
   "cell_type": "code",
   "execution_count": 34,
   "id": "fcbb49cf",
   "metadata": {},
   "outputs": [],
   "source": [
    "# PSF_FWHM g-band (27028965 total stars)\n",
    "fwhm = np.array([1.11300004, 1.11099994, 1.11099994, 1.10899997, 1.10699999,\n",
    "       1.10899997, 1.11399996, 1.12199998, 1.12800002, 1.13199997,\n",
    "       1.13      , 1.12899995, 1.12800002, 1.12800002, 1.12800002,\n",
    "       1.12699997, 1.125     , 1.12399995, 1.12300003, 1.12199998,\n",
    "       1.12      , 1.11899996, 1.11800003, 1.11600006, 1.11500001,\n",
    "       1.11399996, 1.15400004, 1.11099994, 1.11000001, 1.10800004,\n",
    "       1.10699999, 1.10500002, 1.10300004, 1.102     , 1.10099995,\n",
    "       1.09899998, 1.09800005, 1.09599996, 1.09399998, 1.09300005,\n",
    "       1.09300005, 1.09099996, 1.09000003, 1.08899999, 1.08800006,\n",
    "       1.08700001, 1.08500004, 1.08299994, 1.08099997, 1.079     ])\n",
    "\n",
    "# bin edges for g-i color\n",
    "c = np.array([0.  , 0.06, 0.12, 0.18, 0.24, 0.3 , 0.36, 0.42, 0.48, 0.54, 0.6 ,\n",
    "       0.66, 0.72, 0.78, 0.84, 0.9 , 0.96, 1.02, 1.08, 1.14, 1.2 , 1.26,\n",
    "       1.32, 1.38, 1.44, 1.5 , 1.56, 1.62, 1.68, 1.74, 1.8 , 1.86, 1.92,\n",
    "       1.98, 2.04, 2.1 , 2.16, 2.22, 2.28, 2.34, 2.4 , 2.46, 2.52, 2.58,\n",
    "       2.64, 2.7 , 2.76, 2.82, 2.88, 2.94, 3.  ])"
   ]
  },
  {
   "cell_type": "code",
   "execution_count": 36,
   "id": "4a1dbb36",
   "metadata": {},
   "outputs": [
    {
     "data": {
      "text/plain": [
       "<a list of 1 Line2D objects>"
      ]
     },
     "execution_count": 36,
     "metadata": {},
     "output_type": "execute_result"
    },
    {
     "data": {
      "image/png": "[encoded data removed]",
      "text/plain": [
       "Figure(nrows=1, ncols=1, refwidth=2.5)"
      ]
     },
     "metadata": {
      "image/png": {
       "height": 282,
       "width": 298
      }
     },
     "output_type": "display_data"
    }
   ],
   "source": [
    "fig, axs = pplt.subplots()\n",
    "axs.plot(c[1:], fwhm)"
   ]
  },
  {
   "cell_type": "code",
   "execution_count": 37,
   "id": "b368634c",
   "metadata": {},
   "outputs": [
    {
     "data": {
      "text/plain": [
       "1.046296296296296"
      ]
     },
     "execution_count": 37,
     "metadata": {},
     "output_type": "execute_result"
    }
   ],
   "source": [
    "1.13/1.08"
   ]
  },
  {
   "cell_type": "code",
   "execution_count": 40,
   "id": "fd2340f7",
   "metadata": {},
   "outputs": [
    {
     "name": "stdout",
     "output_type": "stream",
     "text": [
      "[0.375 1.125 1.875 2.625] [0.30094976 0.88187496 1.34161057 2.24524787]\n"
     ]
    }
   ],
   "source": [
    "md = np.quantile(gmi[msk], [0.5])\n",
    "v = np.quantile(gmi[msk], np.arange(4) * 0.25 + 0.25/2)\n",
    "v = (v-md)*1.2 + md\n",
    "print(np.arange(4) * 1.5/2 + 1.5/4, v)"
   ]
  },
  {
   "cell_type": "code",
   "execution_count": 5,
   "id": "6299ac6b",
   "metadata": {},
   "outputs": [
    {
     "name": "stdout",
     "output_type": "stream",
     "text": [
      "Quadratic model of errors:  [-0.69370018 -0.01898564  0.3540114   0.64113981  0.88696638  1.12346644\n",
      "  1.3670782   1.64196757  1.96983395  2.34574849  2.76583382  3.3587683 ]\n"
     ]
    }
   ],
   "source": [
    "import numpy as np\n",
    "import scipy.optimize as opt\n",
    "\n",
    "DES_GMI_BE = np.array([\n",
    "    -2.8886816, -2.79877759, -2.70887357, -2.61896955, -2.52906553,\n",
    "    -2.43916152, -2.3492575, -2.25935348, -2.16944947, -2.07954545,\n",
    "    -1.98964143, -1.89973741, -1.8098334, -1.71992938, -1.63002536,\n",
    "    -1.54012135, -1.45021733, -1.36031331, -1.27040929, -1.18050528,\n",
    "    -1.09060126, -1.00069724, -0.91079323, -0.82088921, -0.73098519,\n",
    "    -0.64108117, -0.55117716, -0.46127314, -0.37136912, -0.28146511,\n",
    "    -0.19156109, -0.10165707, -0.01175305,  0.07815096,  0.16805498,\n",
    "    0.257959,  0.34786301,  0.43776703,  0.52767105, 0.61757506,\n",
    "    0.70747908,  0.7973831, 0.88728712,  0.97719113,  1.06709515,\n",
    "    1.15699917,  1.24690318,  1.3368072, 1.42671122,  1.51661524,\n",
    "    1.60651925,  1.69642327,  1.78632729,  1.8762313, 1.96613532,\n",
    "    2.05603934,  2.14594336,  2.23584737,  2.32575139,  2.41565541,\n",
    "    2.50555942,  2.59546344,  2.68536746,  2.77527148,  2.86517549,\n",
    "    2.95507951,  3.04498353,  3.13488754,  3.22479156,  3.31469558,\n",
    "    3.4045996, 3.49450361,  3.58440763,  3.67431165,  3.76421566,\n",
    "    3.85411968,  3.9440237, 4.03392771,  4.12383173,  4.21373575,\n",
    "    4.30363977,  4.39354378,  4.4834478, 4.57335182,  4.66325583,\n",
    "    4.75315985,  4.84306387,  4.93296789,  5.0228719, 5.11277592,\n",
    "    5.20267994,  5.29258395,  5.38248797,  5.47239199,  5.56229601,\n",
    "    5.65220002,  5.74210404,  5.83200806,  5.92191207,  6.01181609,\n",
    "    6.10172011\n",
    "])\n",
    "\n",
    "\n",
    "DES_GMI_CDF = np.array([\n",
    "    0.00000000e+00, 2.30887960e-06, 2.30887960e-06, 2.30887960e-06,\n",
    "    4.61775921e-06, 9.23551842e-06, 1.03899582e-05, 1.38532776e-05,\n",
    "    2.30887960e-05, 3.57876339e-05, 5.42586707e-05, 6.46486289e-05,\n",
    "    8.65829852e-05, 1.22370619e-04, 1.66239332e-04, 2.36660159e-04,\n",
    "    3.31324223e-04, 4.44459324e-04, 5.89918739e-04, 7.95409024e-04,\n",
    "    1.02052479e-03, 1.30451698e-03, 1.68317323e-03, 2.18073679e-03,\n",
    "    2.86416515e-03, 3.65380197e-03, 4.75051979e-03, 6.23166605e-03,\n",
    "    8.22653803e-03, 1.08944484e-02, 1.46336789e-02, 1.96716542e-02,\n",
    "    2.67806945e-02, 3.67319656e-02, 5.01130774e-02, 6.75335740e-02,\n",
    "    8.94933279e-02, 1.17302628e-01, 1.50583973e-01, 1.89486286e-01,\n",
    "    2.36229553e-01, 2.88100843e-01, 3.45242150e-01, 4.03848441e-01,\n",
    "    4.64133287e-01, 5.25280500e-01, 5.82576502e-01, 6.35287069e-01,\n",
    "    6.82508274e-01, 7.22752046e-01, 7.57407174e-01, 7.86948134e-01,\n",
    "    8.12696760e-01, 8.34314800e-01, 8.54055720e-01, 8.71745201e-01,\n",
    "    8.87671853e-01, 9.02349400e-01, 9.15968327e-01, 9.28925759e-01,\n",
    "    9.40861512e-01, 9.51694775e-01, 9.60682089e-01, 9.68386820e-01,\n",
    "    9.74789344e-01, 9.80054744e-01, 9.84427762e-01, 9.87958038e-01,\n",
    "    9.90974590e-01, 9.93310021e-01, 9.95089013e-01, 9.96529754e-01,\n",
    "    9.97524881e-01, 9.98170213e-01, 9.98704719e-01, 9.99124935e-01,\n",
    "    9.99414699e-01, 9.99613263e-01, 9.99742560e-01, 9.99830297e-01,\n",
    "    9.99891483e-01, 9.99936506e-01, 9.99965367e-01, 9.99971139e-01,\n",
    "    9.99981529e-01, 9.99983838e-01, 9.99987301e-01, 9.99991919e-01,\n",
    "    9.99996537e-01, 9.99996537e-01, 9.99996537e-01, 9.99996537e-01,\n",
    "    9.99996537e-01, 9.99996537e-01, 9.99996537e-01, 9.99996537e-01,\n",
    "    9.99996537e-01, 9.99996537e-01, 9.99996537e-01, 9.99998846e-01,\n",
    "    1.00000000e+00\n",
    "])\n",
    "\n",
    "\n",
    "def _draw_des_gmi(n, rng):\n",
    "    x = rng.uniform(size=n)\n",
    "    return np.interp(x, DES_GMI_CDF, DES_GMI_BE)\n",
    "\n",
    "def find_optimal_colors_lin(c_gal, n):\n",
    "    \"\"\"\n",
    "    Find the optimal n colors to use given an instantiated set of abserved galaxy colors, c_gal.\n",
    "\n",
    "    This version assumes that the errors m(c) are proportional to |c_gal - c_nearest|.\n",
    "    \"\"\"\n",
    "    # The equations to solve (for n=4)\n",
    "    # int_-inf..c1 dc dN/dc = int_c1..c1.5 dc dN/dc\n",
    "    # int_c1.5..c2 dc dN/dc = int_c2..c2.5 dc dN/dc\n",
    "    # int_c2.5..c3 dc dN/dc = int_c3..c3.5 dc dN/dc\n",
    "    # int_c3.5..c4 dc dN/dc = int_c4..inf dc dN/dc\n",
    "\n",
    "    # These integrals turn into sums over the actual values c_gal.\n",
    "\n",
    "    # These equations can't actually be made to be equal, so this function looks for the\n",
    "    # solution that minimizes the squares of the differences (lhs-rhs)**2.\n",
    "    # And it turns out, that this seems to always (?) match the simple pseudo-quartile partition.\n",
    "\n",
    "    def func(c):\n",
    "        # The lhs - rhs for each of the above target equations.\n",
    "        # c on input are the n points = [c1,c2,c3,c4] for n=4.\n",
    "        c.sort()  # in place\n",
    "        bins = np.empty(n*2)\n",
    "        bins[0::2] = c\n",
    "        bins[1:-1:2] = (c[:-1] + c[1:])/2.\n",
    "        bins[-1] = np.inf\n",
    "        \n",
    "        indx = np.digitize(c_gal, bins)\n",
    "        ret = np.empty(n)\n",
    "        for i in range(n):\n",
    "            ret[i] = np.count_nonzero(indx==2*i) - np.count_nonzero(indx==2*i+1)\n",
    "        return ret\n",
    "\n",
    "    c0 = np.quantile(c_gal, np.arange(n)/n + 1./(2*n))\n",
    "\n",
    "    c = opt.root(func, c0).x\n",
    "    c.sort()\n",
    "    return c\n",
    "\n",
    "def find_optimal_colors_quad(c_gal, n):\n",
    "    \"\"\"\n",
    "    Find the optimal n colors to use given an instantiated set of abserved galaxy colors, c_gal.\n",
    "\n",
    "    This version assumes that the errors m(c) are proportional to (c_gal - c_nearest)**2.\n",
    "    \"\"\"\n",
    "    # The equations to solve (for n=4)\n",
    "    # int_-inf..c1 dc (c1-c) dN/dc = int_c1..c1.5 dc (c-c1) dN/dc\n",
    "    # int_c1.5..c2 dc (c2-c) dN/dc = int_c2..c2.5 dc (c-c2) dN/dc\n",
    "    # int_c2.5..c3 dc (c3-c) dN/dc = int_c3..c3.5 dc (c-c3) dN/dc\n",
    "    # int_c3.5..c4 dc (c4-c) dN/dc = int_c4..inf dc (c-c4) dN/dc\n",
    "\n",
    "    # These integrals turn into sums over the actual values c_gal.\n",
    "\n",
    "    def func(c):\n",
    "        # The lhs - rhs for each of the above target equations.\n",
    "        # c on input are the n points = [c1,c2,c3,c4] for n=4.\n",
    "        #print('c = ',c)\n",
    "        c.sort()  # in place\n",
    "        #print('c => ',c)\n",
    "        bins = np.empty(n*2)\n",
    "        bins[0::2] = c\n",
    "        bins[1:-1:2] = (c[:-1] + c[1:])/2.\n",
    "        bins[-1] = np.inf\n",
    "        #print('bins = ',bins)\n",
    "        \n",
    "        indx = np.digitize(c_gal, bins)\n",
    "        ret = np.empty(n)\n",
    "        for i in range(n):\n",
    "            ret[i] = np.sum(c[i]-c_gal[indx==2*i]) - np.sum(c_gal[indx==2*i+1]-c[i])\n",
    "        #print('sums = ',[(np.sum(c[i]-c_gal[indx==2*i]) , np.sum(c_gal[indx==2*i+1]-c[i]))\n",
    "        #                 for i in range(n)])\n",
    "        #print('ret = ',ret)\n",
    "        return ret\n",
    "\n",
    "    c0 = np.quantile(c_gal, np.arange(n)/n + 1./(2*n))\n",
    "\n",
    "    c = opt.root(func, c0).x\n",
    "    c.sort()\n",
    "    return c\n",
    "\n",
    "# Draw 10^7 colors\n",
    "rng = np.random.default_rng()\n",
    "c_gal = _draw_des_gmi(2*10**6, rng)\n",
    "\n",
    "# # Not really quartiles.  Rather, this is every other octile.\n",
    "# c_quart = np.quantile(c_gal, np.arange(4)/4 + 1./(2*4))\n",
    "\n",
    "# # Optimized colors for linear model of errors, m(c) = |c_gal - c_nearest|\n",
    "# c_lin = find_optimal_colors_lin(c_gal, 4)\n",
    "\n",
    "# Optimized colors for quadratic model of errors, m(c) = (c_gal - c_nearest)**2\n",
    "c_quad = find_optimal_colors_quad(c_gal, 12)\n",
    "\n",
    "# print('Simple pseudo-quartiles: ',c_quart)\n",
    "\n",
    "# print('Linear model of errors: ',c_lin)\n",
    "\n",
    "print('Quadratic model of errors: ',c_quad)"
   ]
  },
  {
   "cell_type": "code",
   "execution_count": null,
   "id": "7cc26cd3",
   "metadata": {},
   "outputs": [],
   "source": []
  }
 ],
 "metadata": {
  "kernelspec": {
   "display_name": "Python [conda env:desy6]",
   "language": "python",
   "name": "conda-env-desy6-py"
  },
  "language_info": {
   "codemirror_mode": {
    "name": "ipython",
    "version": 3
   },
   "file_extension": ".py",
   "mimetype": "text/x-python",
   "name": "python",
   "nbconvert_exporter": "python",
   "pygments_lexer": "ipython3",
   "version": "3.9.7"
  }
 },
 "nbformat": 4,
 "nbformat_minor": 5
}
