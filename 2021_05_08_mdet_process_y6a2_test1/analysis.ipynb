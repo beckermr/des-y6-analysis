{
 "cells": [
  {
   "cell_type": "markdown",
   "id": "5595266b",
   "metadata": {},
   "source": [
    "# DES Y6 Metadetection Cuts and Analysis\n",
    "\n",
    "This notebook has some basic examples, current default cuts, and an example response computation for DES Y6 metadetection catalogs.\n",
    "\n",
    "\n",
    "## Overview of Metadetection\n",
    "\n",
    "Metadetection is a technique where we include the object detection step in metacalibration. This change is needed because object detection appears to depend on the applied shear. Our Y3 pipelines only computed the response at fixed detections and so missed this crucial effect. \n",
    "\n",
    "For Y6, the metadetection pipeline works as follows:\n",
    "\n",
    "1. We create \"pizza slice\" coadds which are small, 200x200 square-cut slices of each coadd tile. We recoadd the data starting with the single epoch images, rejecting any image with an edge in the pizza slice. This procedure keeps the PSF exactly continuous across the pizza slice.\n",
    "\n",
    "2. For each pizza slice, we deconvolve the PSF at the center, apply one of the five metacalibration shears (`noshear`, `1p`, `1m`, `2p`, `2m`), and then reconvolve the image with a slightly larger, round PSF.\n",
    "\n",
    "3. Then, for each of the five metacalibration images per slice, we rerun source extractor detection and measure the shapes of the detected objects.\n",
    "\n",
    "4. Finally, we combine all of the catalogs, recording which metacalibration shear is associated with each detection.\n",
    "\n",
    "\n",
    "## Metadetection Response Computations\n",
    "\n",
    "Given the setup above, we can then compute the mean shear of the image as follows. For each of the five metacalibration shears we select all detections associated with that shear, make any cuts, and then compute the mean shape of the detections. Let's call this quantity $\\langle g_i \\rangle_{\\alpha}$ where $\\alpha\\in\\{{\\rm noshear}, 1p, 1m, 2p, 2m\\}$. Then, for example, the metadetection response of $g_1$ to a shear on the 1-axis is\n",
    "\n",
    "$$\n",
    "R_{11} = \\frac{\\langle g_1 \\rangle_{1p} - \\langle g_1 \\rangle_{1m}}{2\\Delta\\gamma} \n",
    "$$\n",
    "\n",
    "Finally, the estimator for the mean shear is \n",
    "\n",
    "$$\n",
    "{\\hat g_1} = \\frac{\\langle g_1 \\rangle_{\\rm noshear}}{R_{11}}\n",
    "$$\n",
    "\n",
    "where we have neglected off diagonal repsonse effects as usual. \n",
    "\n",
    "\n",
    "## The Dos and Don'ts of Metadetection\n",
    "\n",
    "1. Do take the catalogs for a test drive!\n",
    "2. Don't match the catalogs to other catalogs (e.g., gold). If you match the catalogs and only keep the matches, then you have reimparted the selection without shear dependence and the response will be wrong.\n",
    "3. Do match the catalogs to do simple sanity checks (e.g., does this magnitude column make sense? why are these objects so funny?)\n",
    "4. Don't make different cuts on each catalog. In order for the metadetection response to be correct, you have to make the same cuts on each catalog. So if you match one of the catalogs to a systematic map, then you have to match each one to the map and make the same cut on each."
   ]
  },
  {
   "cell_type": "markdown",
   "id": "d96c1f07",
   "metadata": {},
   "source": [
    "## Let's Take a Look!"
   ]
  },
  {
   "cell_type": "code",
   "execution_count": null,
   "id": "9afec822",
   "metadata": {},
   "outputs": [],
   "source": [
    "import matplotlib.pyplot as plt\n",
    "import seaborn as sns\n",
    "\n",
    "%matplotlib notebook\n",
    "sns.set()"
   ]
  },
  {
   "cell_type": "code",
   "execution_count": null,
   "id": "773ecb55",
   "metadata": {},
   "outputs": [],
   "source": [
    "import numpy as np\n",
    "import fitsio"
   ]
  },
  {
   "cell_type": "code",
   "execution_count": null,
   "id": "bdac5d04",
   "metadata": {},
   "outputs": [],
   "source": [
    "d = fitsio.read(\"/Users/beckermr/Downloads/DES0007-5957_metadetect-v3_mdetcat_part0000.fits\")"
   ]
  },
  {
   "cell_type": "markdown",
   "id": "936380f6",
   "metadata": {},
   "source": [
    "The catalog has columns of course!"
   ]
  },
  {
   "cell_type": "code",
   "execution_count": null,
   "id": "a9ab989b",
   "metadata": {},
   "outputs": [],
   "source": [
    "for col in d.dtype.names:\n",
    "    print(col)"
   ]
  },
  {
   "cell_type": "markdown",
   "id": "7dbc8505",
   "metadata": {},
   "source": [
    "Let's focus on a few of the ones we really care about.\n",
    "\n",
    " - `mdet_step`: one of `['1m', '1p', '2m', '2p', 'noshear']` denoting which shear was applied\n",
    " - `mdet_g`: the measure shear\n",
    " - `mdet_T_ratio`: the ratio of the area of the object to the reconvolved area of the PSF\n",
    " - `mdet_s2n`: the S/N of the detection\n",
    " - `flags`: total flags for the shear measurement\n",
    " - `ra`, `dec`: positions of the objects at their effective positions in the original image (i.e., \n",
    "   for the `1p` catalog, the positions are sheared back)\n",
    " - `psfrec_g`: the shape of the original PSF\n",
    " - `psfrec_T`: the area of the original PSF\n",
    " - `psfrec_flags`: flags for the original PSF measurement\n",
    " - `mfrac`: the fraction of the object that is composed of masked images computed in a 1.2 FWHM arcsec Gaussian \n",
    "   aperture\n",
    " - `mdet_band_flux`: the fluxes in each band - this column can include bands not used for shear, but doesn't yet\n",
    " - `mdet_band_flux_flags`: the combined flags for all of the band flux measurements\n",
    " \n",
    "And now plots"
   ]
  },
  {
   "cell_type": "code",
   "execution_count": null,
   "id": "fcc8eb62",
   "metadata": {},
   "outputs": [],
   "source": [
    "fig, axs = plt.subplots()\n",
    "\n",
    "for shear in ['noshear', '1p', '1m', '2p', '2m']:\n",
    "    msk = (\n",
    "        (d['mdet_step'] == shear)\n",
    "        & (d['flags'] == 0)\n",
    "        & (d['mdet_s2n'] > 0)\n",
    "    )\n",
    "    vals = np.random.choice(np.log10(d['mdet_s2n'][msk].astype(\"<f4\")), size=1000)\n",
    "    sns.histplot(vals, kde=False, ax=axs, label=shear)\n",
    "    axs.set_xlabel(\"log10[S/N]\")\n",
    "    axs.legend()"
   ]
  },
  {
   "cell_type": "code",
   "execution_count": null,
   "id": "cec98b47",
   "metadata": {},
   "outputs": [],
   "source": [
    "fig, axs = plt.subplots()\n",
    "\n",
    "for shear in ['noshear', '1p', '1m', '2p', '2m']:\n",
    "    msk = (\n",
    "        (d['mdet_step'] == shear)\n",
    "        & (d['flags'] == 0)\n",
    "        & (d['mdet_s2n'] > 0)\n",
    "        & (d['mfrac'] > 0)\n",
    "        & (d['mfrac'] <= 1)\n",
    "    )\n",
    "    vals = np.random.choice(d['mfrac'][msk].astype(\"<f4\"), size=1000)\n",
    "    sns.histplot(np.log10(vals), kde=False, ax=axs, label=shear)\n",
    "    axs.set_xlabel(\"log10[mfrac]\")\n",
    "    axs.legend()"
   ]
  },
  {
   "cell_type": "markdown",
   "id": "9e520d57",
   "metadata": {},
   "source": [
    "Finally, let's use some default cuts to compute a mean shear."
   ]
  },
  {
   "cell_type": "code",
   "execution_count": null,
   "id": "a2a48213",
   "metadata": {},
   "outputs": [],
   "source": [
    "def _make_cuts(d, shear):\n",
    "    msk = (\n",
    "        (d['flags'] == 0)\n",
    "        & (d['mdet_s2n'] > 10)\n",
    "        & (d['mdet_T_ratio'] > 1.2)\n",
    "        & (d['mfrac'] < 0.1)\n",
    "        & (d['mdet_step'] == shear)\n",
    "    )\n",
    "    return np.mean(d['mdet_g'][msk, :], axis=0)\n",
    "\n",
    "g_noshear = _make_cuts(d, 'noshear')\n",
    "g_1p = _make_cuts(d, '1p')\n",
    "g_1m = _make_cuts(d, '1m')\n",
    "g_2p = _make_cuts(d, '2p')\n",
    "g_2m = _make_cuts(d, '2m')\n",
    "\n",
    "R11 = (g_1p[0] - g_1m[0])/0.02\n",
    "R22 = (g_2p[1] - g_2m[1])/0.02\n",
    "\n",
    "print(\"g:\", g_noshear[0]/R11, g_noshear[1]/R22)"
   ]
  },
  {
   "cell_type": "markdown",
   "id": "0ae509ed",
   "metadata": {},
   "source": [
    "Happy lensing!"
   ]
  },
  {
   "cell_type": "code",
   "execution_count": null,
   "id": "cc4bc291",
   "metadata": {},
   "outputs": [],
   "source": []
  }
 ],
 "metadata": {
  "kernelspec": {
   "display_name": "Python [conda env:desy6] *",
   "language": "python",
   "name": "conda-env-desy6-py"
  },
  "language_info": {
   "codemirror_mode": {
    "name": "ipython",
    "version": 3
   },
   "file_extension": ".py",
   "mimetype": "text/x-python",
   "name": "python",
   "nbconvert_exporter": "python",
   "pygments_lexer": "ipython3",
   "version": "3.7.6"
  }
 },
 "nbformat": 4,
 "nbformat_minor": 5
}
