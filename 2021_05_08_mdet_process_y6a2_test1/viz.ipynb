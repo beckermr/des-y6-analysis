{
 "cells": [
  {
   "cell_type": "code",
   "execution_count": null,
   "id": "773ecb55",
   "metadata": {},
   "outputs": [],
   "source": [
    "import proplot as plot\n",
    "\n",
    "import meds\n",
    "import numpy as np"
   ]
  },
  {
   "cell_type": "code",
   "execution_count": null,
   "id": "bdac5d04",
   "metadata": {},
   "outputs": [],
   "source": [
    "from ngmix.medsreaders import MultiBandNGMixMEDS, NGMixMEDS\n",
    "\n",
    "mlist = {\n",
    "    b: NGMixMEDS(\"/Users/beckermr/Downloads/DES2359-6331_r5227p01_%s_pizza-cutter-slices.fits.fz\" % b)\n",
    "    for b in \"riz\"\n",
    "}"
   ]
  },
  {
   "cell_type": "code",
   "execution_count": null,
   "id": "f951631f",
   "metadata": {},
   "outputs": [],
   "source": [
    "mbm = MultiBandNGMixMEDS(mlist=list(mlist.values()))"
   ]
  },
  {
   "cell_type": "code",
   "execution_count": null,
   "id": "3c68d6a9",
   "metadata": {},
   "outputs": [],
   "source": [
    "import yaml\n",
    "\n",
    "with open(\"metadetect-v3.yaml\", \"r\") as fp:\n",
    "    config = yaml.safe_load(fp.read())\n",
    "    \n",
    "preconfig = config.pop(\"pizza-cutter-preprocessing\")"
   ]
  },
  {
   "cell_type": "code",
   "execution_count": null,
   "id": "a4cd91dd",
   "metadata": {},
   "outputs": [],
   "source": [
    "from pizza_cutter_metadetect.run_metadetect import _do_metadetect, _load_gaia_stars\n",
    "\n",
    "gaia_stars = _load_gaia_stars(mbm, preconfig)"
   ]
  },
  {
   "cell_type": "code",
   "execution_count": null,
   "id": "48e99137",
   "metadata": {},
   "outputs": [],
   "source": [
    "import tqdm\n",
    "\n",
    "for ind in tqdm.trange(9742,9742+1):\n",
    "    tqdm.tqdm.write(\"%d\" % ind)\n",
    "    mbobs = mbm.get_mbobs(ind)\n",
    "    try:\n",
    "         _do_metadetect(config, mbobs, gaia_stars, 413, ind, preconfig, [True, True, True])\n",
    "    except Exception as e:\n",
    "        fig, axs = plot.subplots(nrows=len(mlist), ncols=4, share=0)\n",
    "        axs.set_title(ind)\n",
    "\n",
    "        for i, b in enumerate(\"riz\"):\n",
    "            obs = mbobs[i][0]\n",
    "\n",
    "            ax = axs[i, 0]\n",
    "            ax.imshow(\n",
    "                np.arcsinh(obs.image * np.sqrt(obs.weight)),\n",
    "                cmap='rocket'\n",
    "            )\n",
    "            ax.grid(False)\n",
    "\n",
    "            ax = axs[i, 1]\n",
    "            ax.imshow(\n",
    "                np.arcsinh(obs.bmask),\n",
    "                cmap='rocket',\n",
    "            )\n",
    "            ax.grid(False)    \n",
    "\n",
    "            ax = axs[i, 2]\n",
    "            ax.imshow(\n",
    "                obs.mfrac,\n",
    "                cmap='rocket',\n",
    "                vmin=0,\n",
    "                vmax=0.25,\n",
    "            )\n",
    "            ax.grid(False)    \n",
    "\n",
    "            ax = axs[i, 3]\n",
    "            ax.imshow(\n",
    "                obs.psf.image,\n",
    "                cmap='rocket',\n",
    "            )\n",
    "            ax.grid(False)    \n",
    "        raise e"
   ]
  },
  {
   "cell_type": "code",
   "execution_count": null,
   "id": "5fbd8c6c",
   "metadata": {},
   "outputs": [],
   "source": [
    "import sys\n",
    "import logging\n",
    "\n",
    "logging.basicConfig(fp=sys.stdout)\n",
    "logging.getLogger(\"ngmix\").setLevel(logging.DEBUG)"
   ]
  },
  {
   "cell_type": "code",
   "execution_count": null,
   "id": "08f13975",
   "metadata": {},
   "outputs": [],
   "source": [
    "from ngmix.metacal import get_all_metacal\n",
    "\n",
    "get_all_metacal(mbobs[0][0], psf='fitgauss', rng=np.random.RandomState(seed=10))\n",
    "\n",
    "fig, axs = plot.subplots()\n",
    "\n",
    "axs.imshow(mbobs[0][0].image)"
   ]
  },
  {
   "cell_type": "code",
   "execution_count": null,
   "id": "baaecd13",
   "metadata": {},
   "outputs": [],
   "source": [
    "%debug"
   ]
  },
  {
   "cell_type": "code",
   "execution_count": null,
   "id": "22592564",
   "metadata": {},
   "outputs": [],
   "source": [
    "fig, axs = plot.subplots()\n",
    "axs.imshow(np.arcsinh(mbobs[0][0].psf.image))"
   ]
  },
  {
   "cell_type": "code",
   "execution_count": null,
   "id": "885e3dac",
   "metadata": {},
   "outputs": [],
   "source": [
    "mbobs[0][0].jacobian"
   ]
  },
  {
   "cell_type": "code",
   "execution_count": null,
   "id": "6c7f2c0c",
   "metadata": {},
   "outputs": [],
   "source": [
    "np.sum(mlist['z']['dudcol'][:, 0] < -1)"
   ]
  },
  {
   "cell_type": "code",
   "execution_count": null,
   "id": "3f9ecc1d",
   "metadata": {},
   "outputs": [],
   "source": [
    "mbobs = mbm.get_mbobs(9742)"
   ]
  },
  {
   "cell_type": "code",
   "execution_count": null,
   "id": "76b8fd18",
   "metadata": {},
   "outputs": [],
   "source": [
    "mbobs[2][0].jacobian"
   ]
  },
  {
   "cell_type": "code",
   "execution_count": null,
   "id": "6afc937b",
   "metadata": {},
   "outputs": [],
   "source": [
    "for col in mlist['z'][9742:9742+1].dtype.names:\n",
    "    print(col, mlist['z'][9742:9742+1][col])"
   ]
  },
  {
   "cell_type": "code",
   "execution_count": null,
   "id": "8cb0138f",
   "metadata": {},
   "outputs": [],
   "source": []
  }
 ],
 "metadata": {
  "kernelspec": {
   "display_name": "Python [conda env:desy6] *",
   "language": "python",
   "name": "conda-env-desy6-py"
  },
  "language_info": {
   "codemirror_mode": {
    "name": "ipython",
    "version": 3
   },
   "file_extension": ".py",
   "mimetype": "text/x-python",
   "name": "python",
   "nbconvert_exporter": "python",
   "pygments_lexer": "ipython3",
   "version": "3.7.6"
  }
 },
 "nbformat": 4,
 "nbformat_minor": 5
}
