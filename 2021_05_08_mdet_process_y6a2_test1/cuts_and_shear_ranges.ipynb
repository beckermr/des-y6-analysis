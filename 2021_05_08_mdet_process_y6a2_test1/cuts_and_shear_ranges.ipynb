{
 "cells": [
  {
   "cell_type": "code",
   "execution_count": null,
   "id": "0f4187f8",
   "metadata": {},
   "outputs": [],
   "source": [
    "import matplotlib.pyplot as plt\n",
    "\n",
    "%matplotlib notebook"
   ]
  },
  {
   "cell_type": "code",
   "execution_count": null,
   "id": "1bf39a71",
   "metadata": {},
   "outputs": [],
   "source": [
    "import numpy as np\n",
    "import fitsio\n",
    "import esutil\n",
    "import glob\n",
    "import tqdm\n",
    "import joblib"
   ]
  },
  {
   "cell_type": "code",
   "execution_count": null,
   "id": "146402ef",
   "metadata": {},
   "outputs": [],
   "source": [
    "import random\n",
    "\n",
    "fnames = glob.glob(\"outputs/DES*.fits\")\n",
    "random.shuffle(fnames)\n",
    "\n",
    "n_tiles = 100\n",
    "\n",
    "jobs = []\n",
    "for fname in tqdm.tqdm(fnames[0:n_tiles]):\n",
    "    jobs.append(joblib.delayed(fitsio.read)(fname))\n",
    "with joblib.Parallel(n_jobs=4, backend='loky', verbose=100) as exc:\n",
    "    ds = exc(jobs)\n",
    "\n",
    "d = esutil.numpy_util.combine_arrlist(ds)"
   ]
  },
  {
   "cell_type": "code",
   "execution_count": null,
   "id": "7a81f11e",
   "metadata": {},
   "outputs": [],
   "source": [
    "msk = (\n",
    "    (d[\"flags\"] == 0) \n",
    "    & (d[\"mdet_flags\"] == 0) \n",
    "    & (d[\"mdet_s2n\"] > 5) \n",
    "    & (d[\"mdet_T_ratio\"] > 1.2)\n",
    "    & (d[\"mfrac\"] < 0.1)\n",
    ")"
   ]
  },
  {
   "cell_type": "code",
   "execution_count": null,
   "id": "e025cffa",
   "metadata": {},
   "outputs": [],
   "source": [
    "gmsk = (\n",
    "    (np.sqrt(np.prod(d[\"mdet_g\"]**2, axis=1)) < 1)\n",
    "    & np.all(np.abs(d[\"mdet_g\"]) < 1, axis=1)\n",
    ")\n",
    "\n",
    "print(\"frac passes cuts                :\", np.mean(msk))\n",
    "print(\"total passes cuts               :\", np.sum(msk))\n",
    "print(\"total passes cuts and shear cuts:\", np.sum(msk & gmsk))\n",
    "print(\"frac diff:\", 1.0 - np.sum(msk & gmsk) / np.sum(msk))"
   ]
  },
  {
   "cell_type": "code",
   "execution_count": null,
   "id": "846d2dac",
   "metadata": {},
   "outputs": [],
   "source": [
    "pmsk = (\n",
    "    (d[\"flags\"] == 0) \n",
    "    & (d[\"mdet_flags\"] == 0) \n",
    "    & (d[\"mdet_s2n\"] > 1) \n",
    "    & (d[\"mdet_T_ratio\"] > 0.5)\n",
    "    & (d[\"mfrac\"] < 0.1)\n",
    ")\n",
    "\n",
    "plt.figure()\n",
    "plt.hexbin(\n",
    "    np.log10(d[\"mdet_s2n\"][pmsk]), \n",
    "    d[\"mdet_T_ratio\"][pmsk], \n",
    "    bins='log',\n",
    "    gridsize=1000,\n",
    "    extent=(0.5, 4, 0.5, 4),\n",
    ")\n",
    "ax = plt.gca()\n",
    "ax.set_xlim(0.5, 4)\n",
    "ax.set_ylim(0.5, 4)\n",
    "\n",
    "ax.set_xlabel(\"log10[S/N]\")\n",
    "ax.set_ylabel(\"Tgal/Tpsf\")"
   ]
  },
  {
   "cell_type": "code",
   "execution_count": null,
   "id": "90bf196b",
   "metadata": {},
   "outputs": [],
   "source": [
    "pmsk = (\n",
    "    (d[\"flags\"] == 0) \n",
    "    & (d[\"mdet_flags\"] == 0) \n",
    "    & (d[\"mdet_s2n\"] > np.power(10, 3.5)) \n",
    "    & (d[\"mdet_T_ratio\"] > 0.5)\n",
    "    & (d[\"mfrac\"] < 0.1)\n",
    ")\n",
    "\n",
    "plt.figure(figsize=(8, 6))\n",
    "plt.hist(d[\"mdet_T_ratio\"][pmsk], bins=200)\n",
    "ax = plt.gca()\n",
    "ax.set_xlabel(\"Tgal/Tpsf\")\n",
    "ax.vlines(1, 0, 6000, color='k')\n",
    "ax.set_ylim(0, 6000)"
   ]
  },
  {
   "cell_type": "code",
   "execution_count": null,
   "id": "be0823ad",
   "metadata": {},
   "outputs": [],
   "source": []
  }
 ],
 "metadata": {
  "kernelspec": {
   "display_name": "Python [conda env:desy6]",
   "language": "python",
   "name": "conda-env-desy6-py"
  },
  "language_info": {
   "codemirror_mode": {
    "name": "ipython",
    "version": 3
   },
   "file_extension": ".py",
   "mimetype": "text/x-python",
   "name": "python",
   "nbconvert_exporter": "python",
   "pygments_lexer": "ipython3",
   "version": "3.9.5"
  }
 },
 "nbformat": 4,
 "nbformat_minor": 5
}
