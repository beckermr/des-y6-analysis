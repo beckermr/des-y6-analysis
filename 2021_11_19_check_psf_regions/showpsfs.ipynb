{
 "cells": [
  {
   "cell_type": "code",
   "execution_count": 1,
   "id": "be1cc499",
   "metadata": {},
   "outputs": [],
   "source": [
    "import glob\n",
    "import proplot as pplt\n",
    "import numpy as np"
   ]
  },
  {
   "cell_type": "code",
   "execution_count": 2,
   "id": "08ddc4a4",
   "metadata": {},
   "outputs": [],
   "source": [
    "%matplotlib inline"
   ]
  },
  {
   "cell_type": "code",
   "execution_count": 8,
   "id": "3aee440e",
   "metadata": {},
   "outputs": [],
   "source": [
    "from des_y6utils.piff import (\n",
    "    measure_t_grid_for_piff_model, \n",
    "    nanmad, \n",
    "    make_good_regions_for_piff_model_star_and_gal_grid,\n",
    ")"
   ]
  },
  {
   "cell_type": "code",
   "execution_count": 9,
   "id": "9c5f6d39",
   "metadata": {
    "scrolled": false
   },
   "outputs": [
    {
     "name": "stdout",
     "output_type": "stream",
     "text": [
      "DES0229-0416-i\n"
     ]
    },
    {
     "name": "stderr",
     "output_type": "stream",
     "text": [
      "\r",
      "|--------------------| 0/164   0% [elapsed: 00:00 left: ?]"
     ]
    },
    {
     "name": "stdout",
     "output_type": "stream",
     "text": [
      "[Parallel(n_jobs=2)]: Using backend LokyBackend with 2 concurrent workers.\n",
      "[Parallel(n_jobs=2)]: Done   1 tasks      | elapsed:   17.1s\n",
      "[Parallel(n_jobs=2)]: Done   2 tasks      | elapsed:   17.4s\n",
      "[Parallel(n_jobs=2)]: Done   3 tasks      | elapsed:   25.8s\n",
      "[Parallel(n_jobs=2)]: Done   4 tasks      | elapsed:   25.9s\n",
      "[Parallel(n_jobs=2)]: Done   5 tasks      | elapsed:   34.3s\n",
      "[Parallel(n_jobs=2)]: Done   6 tasks      | elapsed:   34.7s\n",
      "[Parallel(n_jobs=2)]: Done   7 tasks      | elapsed:   43.7s\n",
      "[Parallel(n_jobs=2)]: Done   8 tasks      | elapsed:   43.9s\n",
      "[Parallel(n_jobs=2)]: Done   9 tasks      | elapsed:   52.3s\n",
      "[Parallel(n_jobs=2)]: Done  10 tasks      | elapsed:   52.5s\n",
      "[Parallel(n_jobs=2)]: Done  11 tasks      | elapsed:  1.0min\n",
      "[Parallel(n_jobs=2)]: Done  12 tasks      | elapsed:  1.1min\n",
      "[Parallel(n_jobs=2)]: Done  13 tasks      | elapsed:  1.2min\n",
      "[Parallel(n_jobs=2)]: Done  14 tasks      | elapsed:  1.2min\n",
      "[Parallel(n_jobs=2)]: Done  15 tasks      | elapsed:  1.4min\n",
      "[Parallel(n_jobs=2)]: Done  16 tasks      | elapsed:  1.4min\n",
      "[Parallel(n_jobs=2)]: Done  17 tasks      | elapsed:  1.5min\n",
      "[Parallel(n_jobs=2)]: Done  18 tasks      | elapsed:  1.5min\n",
      "[Parallel(n_jobs=2)]: Done  19 tasks      | elapsed:  1.7min\n",
      "[Parallel(n_jobs=2)]: Done  20 tasks      | elapsed:  1.7min\n",
      "[Parallel(n_jobs=2)]: Done  21 tasks      | elapsed:  1.8min\n",
      "[Parallel(n_jobs=2)]: Done  22 out of  24 | elapsed:  1.8min remaining:   10.0s\n"
     ]
    },
    {
     "name": "stderr",
     "output_type": "stream",
     "text": [
      "\r",
      "|###-----------------| 25/164  15% [elapsed: 01:58 left: 10:59]"
     ]
    },
    {
     "name": "stdout",
     "output_type": "stream",
     "text": [
      "[Parallel(n_jobs=2)]: Done  24 out of  24 | elapsed:  2.0min remaining:    0.0s\n",
      "[Parallel(n_jobs=2)]: Done  24 out of  24 | elapsed:  2.0min finished\n",
      "[Parallel(n_jobs=2)]: Using backend LokyBackend with 2 concurrent workers.\n",
      "[Parallel(n_jobs=2)]: Done   1 tasks      | elapsed:   10.1s\n",
      "[Parallel(n_jobs=2)]: Done   2 tasks      | elapsed:   10.2s\n",
      "[Parallel(n_jobs=2)]: Done   3 tasks      | elapsed:   18.9s\n",
      "[Parallel(n_jobs=2)]: Done   4 tasks      | elapsed:   18.9s\n",
      "[Parallel(n_jobs=2)]: Done   5 tasks      | elapsed:   28.6s\n",
      "[Parallel(n_jobs=2)]: Done   6 tasks      | elapsed:   28.6s\n",
      "[Parallel(n_jobs=2)]: Done   7 tasks      | elapsed:   39.7s\n",
      "[Parallel(n_jobs=2)]: Done   8 tasks      | elapsed:   39.8s\n",
      "[Parallel(n_jobs=2)]: Done   9 tasks      | elapsed:   49.9s\n",
      "[Parallel(n_jobs=2)]: Done  10 tasks      | elapsed:   50.1s\n",
      "[Parallel(n_jobs=2)]: Done  11 tasks      | elapsed:   58.8s\n",
      "[Parallel(n_jobs=2)]: Done  12 tasks      | elapsed:   58.9s\n",
      "[Parallel(n_jobs=2)]: Done  13 tasks      | elapsed:  1.1min\n",
      "[Parallel(n_jobs=2)]: Done  14 tasks      | elapsed:  1.1min\n",
      "[Parallel(n_jobs=2)]: Done  15 tasks      | elapsed:  1.3min\n",
      "[Parallel(n_jobs=2)]: Done  16 tasks      | elapsed:  1.3min\n",
      "[Parallel(n_jobs=2)]: Done  17 tasks      | elapsed:  1.4min\n",
      "[Parallel(n_jobs=2)]: Done  18 tasks      | elapsed:  1.4min\n",
      "[Parallel(n_jobs=2)]: Done  19 tasks      | elapsed:  1.5min\n",
      "[Parallel(n_jobs=2)]: Done  20 tasks      | elapsed:  1.5min\n",
      "[Parallel(n_jobs=2)]: Done  21 tasks      | elapsed:  1.7min\n",
      "[Parallel(n_jobs=2)]: Done  22 out of  24 | elapsed:  1.7min remaining:    9.4s\n"
     ]
    },
    {
     "name": "stderr",
     "output_type": "stream",
     "text": [
      "\r",
      "|######--------------| 50/164  30% [elapsed: 03:49 left: 08:44]"
     ]
    },
    {
     "name": "stdout",
     "output_type": "stream",
     "text": [
      "[Parallel(n_jobs=2)]: Done  24 out of  24 | elapsed:  1.9min remaining:    0.0s\n",
      "[Parallel(n_jobs=2)]: Done  24 out of  24 | elapsed:  1.9min finished\n",
      "[Parallel(n_jobs=2)]: Using backend LokyBackend with 2 concurrent workers.\n",
      "[Parallel(n_jobs=2)]: Done   1 tasks      | elapsed:    7.8s\n",
      "[Parallel(n_jobs=2)]: Done   2 tasks      | elapsed:    8.1s\n",
      "[Parallel(n_jobs=2)]: Done   3 tasks      | elapsed:   17.7s\n",
      "[Parallel(n_jobs=2)]: Done   4 tasks      | elapsed:   17.9s\n",
      "[Parallel(n_jobs=2)]: Done   5 tasks      | elapsed:   25.9s\n",
      "[Parallel(n_jobs=2)]: Done   6 tasks      | elapsed:   26.0s\n",
      "[Parallel(n_jobs=2)]: Done   7 tasks      | elapsed:   38.4s\n",
      "[Parallel(n_jobs=2)]: Done   8 tasks      | elapsed:   38.6s\n",
      "[Parallel(n_jobs=2)]: Done   9 tasks      | elapsed:   52.0s\n",
      "[Parallel(n_jobs=2)]: Done  10 tasks      | elapsed:   52.4s\n",
      "[Parallel(n_jobs=2)]: Done  11 tasks      | elapsed:  1.1min\n",
      "[Parallel(n_jobs=2)]: Done  12 tasks      | elapsed:  1.1min\n",
      "[Parallel(n_jobs=2)]: Done  13 tasks      | elapsed:  1.2min\n",
      "[Parallel(n_jobs=2)]: Done  14 tasks      | elapsed:  1.2min\n",
      "[Parallel(n_jobs=2)]: Done  15 tasks      | elapsed:  1.4min\n",
      "[Parallel(n_jobs=2)]: Done  16 tasks      | elapsed:  1.4min\n",
      "[Parallel(n_jobs=2)]: Done  17 tasks      | elapsed:  1.5min\n",
      "[Parallel(n_jobs=2)]: Done  18 tasks      | elapsed:  1.5min\n",
      "[Parallel(n_jobs=2)]: Done  19 tasks      | elapsed:  1.7min\n",
      "[Parallel(n_jobs=2)]: Done  20 tasks      | elapsed:  1.7min\n",
      "[Parallel(n_jobs=2)]: Done  21 tasks      | elapsed:  1.9min\n",
      "[Parallel(n_jobs=2)]: Done  22 out of  24 | elapsed:  1.9min remaining:   10.2s\n"
     ]
    },
    {
     "name": "stderr",
     "output_type": "stream",
     "text": [
      "\r",
      "|#########-----------| 75/164  45% [elapsed: 05:50 left: 06:56]"
     ]
    },
    {
     "name": "stdout",
     "output_type": "stream",
     "text": [
      "[Parallel(n_jobs=2)]: Done  24 out of  24 | elapsed:  2.0min remaining:    0.0s\n",
      "[Parallel(n_jobs=2)]: Done  24 out of  24 | elapsed:  2.0min finished\n",
      "[Parallel(n_jobs=2)]: Using backend LokyBackend with 2 concurrent workers.\n",
      "[Parallel(n_jobs=2)]: Done   1 tasks      | elapsed:    8.6s\n",
      "[Parallel(n_jobs=2)]: Done   2 tasks      | elapsed:    8.7s\n",
      "[Parallel(n_jobs=2)]: Done   3 tasks      | elapsed:   16.4s\n",
      "[Parallel(n_jobs=2)]: Done   4 tasks      | elapsed:   16.6s\n",
      "[Parallel(n_jobs=2)]: Done   5 tasks      | elapsed:   24.4s\n",
      "[Parallel(n_jobs=2)]: Done   6 tasks      | elapsed:   24.9s\n",
      "[Parallel(n_jobs=2)]: Done   7 tasks      | elapsed:   32.6s\n",
      "/Users/beckermr/MEDS_DIR/des-pizza-slices-y6-test/DES0229-0416/sources-i/OPS/finalcut/Y6A2_PIFF/20161230-r5702/D00605610/p01/psf/D00605610_i_c04_r5702p01_piff-model.fits 0.005859375 59.58986992474852\n",
      "[Parallel(n_jobs=2)]: Done   8 tasks      | elapsed:   33.2s\n",
      "[Parallel(n_jobs=2)]: Done   9 tasks      | elapsed:   42.4s\n",
      "[Parallel(n_jobs=2)]: Done  10 tasks      | elapsed:   43.0s\n",
      "[Parallel(n_jobs=2)]: Done  11 tasks      | elapsed:   50.8s\n",
      "[Parallel(n_jobs=2)]: Done  12 tasks      | elapsed:   51.8s\n",
      "[Parallel(n_jobs=2)]: Done  13 tasks      | elapsed:   59.0s\n",
      "[Parallel(n_jobs=2)]: Done  14 tasks      | elapsed:   59.6s\n",
      "[Parallel(n_jobs=2)]: Done  15 tasks      | elapsed:  1.1min\n",
      "[Parallel(n_jobs=2)]: Done  16 tasks      | elapsed:  1.1min\n",
      "[Parallel(n_jobs=2)]: Done  17 tasks      | elapsed:  1.2min\n",
      "[Parallel(n_jobs=2)]: Done  18 tasks      | elapsed:  1.3min\n",
      "[Parallel(n_jobs=2)]: Done  19 tasks      | elapsed:  1.4min\n",
      "[Parallel(n_jobs=2)]: Done  20 tasks      | elapsed:  1.4min\n",
      "[Parallel(n_jobs=2)]: Done  21 tasks      | elapsed:  1.5min\n",
      "[Parallel(n_jobs=2)]: Done  22 out of  24 | elapsed:  1.5min remaining:    8.3s\n"
     ]
    },
    {
     "name": "stderr",
     "output_type": "stream",
     "text": [
      "\r",
      "|############--------| 100/164  60% [elapsed: 07:29 left: 04:47]"
     ]
    },
    {
     "name": "stdout",
     "output_type": "stream",
     "text": [
      "[Parallel(n_jobs=2)]: Done  24 out of  24 | elapsed:  1.7min remaining:    0.0s\n",
      "[Parallel(n_jobs=2)]: Done  24 out of  24 | elapsed:  1.7min finished\n",
      "[Parallel(n_jobs=2)]: Using backend LokyBackend with 2 concurrent workers.\n",
      "[Parallel(n_jobs=2)]: Done   1 tasks      | elapsed:    9.0s\n",
      "[Parallel(n_jobs=2)]: Done   2 tasks      | elapsed:    9.2s\n",
      "[Parallel(n_jobs=2)]: Done   3 tasks      | elapsed:   18.8s\n",
      "[Parallel(n_jobs=2)]: Done   4 tasks      | elapsed:   18.9s\n",
      "[Parallel(n_jobs=2)]: Done   5 tasks      | elapsed:   26.7s\n",
      "[Parallel(n_jobs=2)]: Done   6 tasks      | elapsed:   27.0s\n",
      "[Parallel(n_jobs=2)]: Done   7 tasks      | elapsed:   35.4s\n",
      "[Parallel(n_jobs=2)]: Done   8 tasks      | elapsed:   35.9s\n",
      "[Parallel(n_jobs=2)]: Done   9 tasks      | elapsed:   43.1s\n",
      "[Parallel(n_jobs=2)]: Done  10 tasks      | elapsed:   43.5s\n",
      "[Parallel(n_jobs=2)]: Done  11 tasks      | elapsed:   50.7s\n",
      "[Parallel(n_jobs=2)]: Done  12 tasks      | elapsed:   51.3s\n",
      "[Parallel(n_jobs=2)]: Done  13 tasks      | elapsed:   58.8s\n",
      "[Parallel(n_jobs=2)]: Done  14 tasks      | elapsed:   59.4s\n",
      "[Parallel(n_jobs=2)]: Done  15 tasks      | elapsed:  1.1min\n",
      "[Parallel(n_jobs=2)]: Done  16 tasks      | elapsed:  1.1min\n",
      "[Parallel(n_jobs=2)]: Done  17 tasks      | elapsed:  1.2min\n",
      "[Parallel(n_jobs=2)]: Done  18 tasks      | elapsed:  1.2min\n",
      "[Parallel(n_jobs=2)]: Done  19 tasks      | elapsed:  1.4min\n",
      "[Parallel(n_jobs=2)]: Done  20 tasks      | elapsed:  1.4min\n",
      "[Parallel(n_jobs=2)]: Done  21 tasks      | elapsed:  1.5min\n",
      "[Parallel(n_jobs=2)]: Done  22 out of  24 | elapsed:  1.5min remaining:    8.2s\n"
     ]
    },
    {
     "name": "stderr",
     "output_type": "stream",
     "text": [
      "\r",
      "|###############-----| 125/164  76% [elapsed: 09:08 left: 02:51]"
     ]
    },
    {
     "name": "stdout",
     "output_type": "stream",
     "text": [
      "[Parallel(n_jobs=2)]: Done  24 out of  24 | elapsed:  1.6min remaining:    0.0s\n",
      "[Parallel(n_jobs=2)]: Done  24 out of  24 | elapsed:  1.6min finished\n",
      "[Parallel(n_jobs=2)]: Using backend LokyBackend with 2 concurrent workers.\n",
      "[Parallel(n_jobs=2)]: Done   1 tasks      | elapsed:    9.1s\n",
      "[Parallel(n_jobs=2)]: Done   2 tasks      | elapsed:    9.2s\n",
      "[Parallel(n_jobs=2)]: Done   3 tasks      | elapsed:   18.3s\n",
      "/Users/beckermr/MEDS_DIR/des-pizza-slices-y6-test/DES0229-0416/sources-i/OPS/finalcut/Y6A2_PIFF/20141028-r5702/D00372620/p01/psf/D00372620_i_c62_r5702p01_piff-model.fits 0.017578125 9.625451446275383\n",
      "[Parallel(n_jobs=2)]: Done   4 tasks      | elapsed:   18.6s\n",
      "[Parallel(n_jobs=2)]: Done   5 tasks      | elapsed:   26.6s\n",
      "[Parallel(n_jobs=2)]: Done   6 tasks      | elapsed:   26.7s\n",
      "[Parallel(n_jobs=2)]: Done   7 tasks      | elapsed:   33.6s\n",
      "[Parallel(n_jobs=2)]: Done   8 tasks      | elapsed:   33.6s\n",
      "[Parallel(n_jobs=2)]: Done   9 tasks      | elapsed:   40.8s\n",
      "[Parallel(n_jobs=2)]: Done  10 tasks      | elapsed:   40.8s\n",
      "[Parallel(n_jobs=2)]: Done  11 tasks      | elapsed:   47.6s\n",
      "[Parallel(n_jobs=2)]: Done  12 tasks      | elapsed:   47.8s\n",
      "[Parallel(n_jobs=2)]: Done  13 tasks      | elapsed:   54.4s\n",
      "[Parallel(n_jobs=2)]: Done  14 tasks      | elapsed:   54.6s\n",
      "[Parallel(n_jobs=2)]: Done  15 tasks      | elapsed:  1.0min\n",
      "[Parallel(n_jobs=2)]: Done  16 tasks      | elapsed:  1.0min\n",
      "[Parallel(n_jobs=2)]: Done  17 tasks      | elapsed:  1.1min\n",
      "[Parallel(n_jobs=2)]: Done  18 tasks      | elapsed:  1.1min\n",
      "[Parallel(n_jobs=2)]: Done  19 tasks      | elapsed:  1.3min\n",
      "[Parallel(n_jobs=2)]: Done  20 tasks      | elapsed:  1.3min\n",
      "[Parallel(n_jobs=2)]: Done  21 tasks      | elapsed:  1.4min\n",
      "[Parallel(n_jobs=2)]: Done  22 out of  24 | elapsed:  1.4min remaining:    7.5s\n"
     ]
    },
    {
     "name": "stderr",
     "output_type": "stream",
     "text": [
      "|####################| 164/164 100% [elapsed: 10:37 left: 00:00]"
     ]
    },
    {
     "name": "stdout",
     "output_type": "stream",
     "text": [
      "[Parallel(n_jobs=2)]: Done  24 out of  24 | elapsed:  1.5min remaining:    0.0s\n",
      "[Parallel(n_jobs=2)]: Done  24 out of  24 | elapsed:  1.5min finished\n",
      "DES0229-0416-z\n"
     ]
    },
    {
     "name": "stderr",
     "output_type": "stream",
     "text": [
      "\n",
      "|--------------------| 0/148   0% [elapsed: 00:00 left: ?]"
     ]
    },
    {
     "name": "stdout",
     "output_type": "stream",
     "text": [
      "[Parallel(n_jobs=2)]: Using backend LokyBackend with 2 concurrent workers.\n",
      "[Parallel(n_jobs=2)]: Done   1 tasks      | elapsed:    7.0s\n",
      "[Parallel(n_jobs=2)]: Done   2 tasks      | elapsed:    7.1s\n",
      "[Parallel(n_jobs=2)]: Done   3 tasks      | elapsed:   14.1s\n",
      "[Parallel(n_jobs=2)]: Done   4 tasks      | elapsed:   14.2s\n",
      "[Parallel(n_jobs=2)]: Done   5 tasks      | elapsed:   21.6s\n",
      "[Parallel(n_jobs=2)]: Done   6 tasks      | elapsed:   21.7s\n",
      "[Parallel(n_jobs=2)]: Done   7 tasks      | elapsed:   28.6s\n",
      "[Parallel(n_jobs=2)]: Done   8 tasks      | elapsed:   29.1s\n",
      "[Parallel(n_jobs=2)]: Done   9 tasks      | elapsed:   36.1s\n",
      "[Parallel(n_jobs=2)]: Done  10 tasks      | elapsed:   36.4s\n",
      "[Parallel(n_jobs=2)]: Done  11 tasks      | elapsed:   43.9s\n",
      "[Parallel(n_jobs=2)]: Done  12 tasks      | elapsed:   44.3s\n",
      "[Parallel(n_jobs=2)]: Done  13 tasks      | elapsed:   51.2s\n",
      "[Parallel(n_jobs=2)]: Done  14 tasks      | elapsed:   51.6s\n",
      "[Parallel(n_jobs=2)]: Done  15 tasks      | elapsed:   59.1s\n",
      "[Parallel(n_jobs=2)]: Done  16 tasks      | elapsed:   59.7s\n",
      "[Parallel(n_jobs=2)]: Done  17 tasks      | elapsed:  1.1min\n",
      "[Parallel(n_jobs=2)]: Done  18 tasks      | elapsed:  1.1min\n",
      "[Parallel(n_jobs=2)]: Done  19 tasks      | elapsed:  1.2min\n",
      "[Parallel(n_jobs=2)]: Done  20 tasks      | elapsed:  1.2min\n",
      "[Parallel(n_jobs=2)]: Done  21 tasks      | elapsed:  1.4min\n",
      "[Parallel(n_jobs=2)]: Done  22 out of  24 | elapsed:  1.4min remaining:    7.4s\n"
     ]
    },
    {
     "name": "stderr",
     "output_type": "stream",
     "text": [
      "\r",
      "|###-----------------| 25/148  16% [elapsed: 01:28 left: 07:16]"
     ]
    },
    {
     "name": "stdout",
     "output_type": "stream",
     "text": [
      "[Parallel(n_jobs=2)]: Done  24 out of  24 | elapsed:  1.5min remaining:    0.0s\n",
      "[Parallel(n_jobs=2)]: Done  24 out of  24 | elapsed:  1.5min finished\n",
      "[Parallel(n_jobs=2)]: Using backend LokyBackend with 2 concurrent workers.\n",
      "[Parallel(n_jobs=2)]: Done   1 tasks      | elapsed:    7.3s\n",
      "[Parallel(n_jobs=2)]: Done   2 tasks      | elapsed:    7.4s\n",
      "[Parallel(n_jobs=2)]: Done   3 tasks      | elapsed:   15.7s\n",
      "[Parallel(n_jobs=2)]: Done   4 tasks      | elapsed:   16.0s\n",
      "[Parallel(n_jobs=2)]: Done   5 tasks      | elapsed:   23.3s\n",
      "[Parallel(n_jobs=2)]: Done   6 tasks      | elapsed:   23.6s\n",
      "[Parallel(n_jobs=2)]: Done   7 tasks      | elapsed:   30.4s\n",
      "[Parallel(n_jobs=2)]: Done   8 tasks      | elapsed:   30.7s\n",
      "[Parallel(n_jobs=2)]: Done   9 tasks      | elapsed:   37.5s\n",
      "[Parallel(n_jobs=2)]: Done  10 tasks      | elapsed:   38.1s\n",
      "[Parallel(n_jobs=2)]: Done  11 tasks      | elapsed:   45.3s\n",
      "[Parallel(n_jobs=2)]: Done  12 tasks      | elapsed:   45.9s\n",
      "[Parallel(n_jobs=2)]: Done  13 tasks      | elapsed:   52.5s\n",
      "[Parallel(n_jobs=2)]: Done  14 tasks      | elapsed:   53.1s\n",
      "[Parallel(n_jobs=2)]: Done  15 tasks      | elapsed:   59.5s\n",
      "[Parallel(n_jobs=2)]: Done  16 tasks      | elapsed:  1.0min\n",
      "[Parallel(n_jobs=2)]: Done  17 tasks      | elapsed:  1.1min\n",
      "[Parallel(n_jobs=2)]: Done  18 tasks      | elapsed:  1.1min\n",
      "[Parallel(n_jobs=2)]: Done  19 tasks      | elapsed:  1.2min\n",
      "[Parallel(n_jobs=2)]: Done  20 tasks      | elapsed:  1.3min\n",
      "[Parallel(n_jobs=2)]: Done  21 tasks      | elapsed:  1.4min\n",
      "[Parallel(n_jobs=2)]: Done  22 out of  24 | elapsed:  1.4min remaining:    7.6s\n"
     ]
    },
    {
     "name": "stderr",
     "output_type": "stream",
     "text": [
      "\r",
      "|######--------------| 50/148  33% [elapsed: 02:59 left: 05:51]"
     ]
    },
    {
     "name": "stdout",
     "output_type": "stream",
     "text": [
      "[Parallel(n_jobs=2)]: Done  24 out of  24 | elapsed:  1.5min remaining:    0.0s\n",
      "[Parallel(n_jobs=2)]: Done  24 out of  24 | elapsed:  1.5min finished\n",
      "[Parallel(n_jobs=2)]: Using backend LokyBackend with 2 concurrent workers.\n",
      "[Parallel(n_jobs=2)]: Done   1 tasks      | elapsed:    7.7s\n",
      "[Parallel(n_jobs=2)]: Done   2 tasks      | elapsed:    8.0s\n",
      "[Parallel(n_jobs=2)]: Done   3 tasks      | elapsed:   15.4s\n",
      "[Parallel(n_jobs=2)]: Done   4 tasks      | elapsed:   15.8s\n",
      "[Parallel(n_jobs=2)]: Done   5 tasks      | elapsed:   23.0s\n",
      "[Parallel(n_jobs=2)]: Done   6 tasks      | elapsed:   23.2s\n",
      "[Parallel(n_jobs=2)]: Done   7 tasks      | elapsed:   30.4s\n",
      "[Parallel(n_jobs=2)]: Done   8 tasks      | elapsed:   30.4s\n",
      "[Parallel(n_jobs=2)]: Done   9 tasks      | elapsed:   37.7s\n",
      "[Parallel(n_jobs=2)]: Done  10 tasks      | elapsed:   37.9s\n",
      "[Parallel(n_jobs=2)]: Done  11 tasks      | elapsed:   48.4s\n",
      "[Parallel(n_jobs=2)]: Done  12 tasks      | elapsed:   48.7s\n",
      "[Parallel(n_jobs=2)]: Done  13 tasks      | elapsed:   56.1s\n",
      "[Parallel(n_jobs=2)]: Done  14 tasks      | elapsed:   56.4s\n",
      "[Parallel(n_jobs=2)]: Done  15 tasks      | elapsed:  1.1min\n",
      "[Parallel(n_jobs=2)]: Done  16 tasks      | elapsed:  1.1min\n",
      "[Parallel(n_jobs=2)]: Done  17 tasks      | elapsed:  1.2min\n",
      "[Parallel(n_jobs=2)]: Done  18 tasks      | elapsed:  1.2min\n",
      "[Parallel(n_jobs=2)]: Done  19 tasks      | elapsed:  1.3min\n",
      "[Parallel(n_jobs=2)]: Done  20 tasks      | elapsed:  1.3min\n",
      "[Parallel(n_jobs=2)]: Done  21 tasks      | elapsed:  1.4min\n",
      "[Parallel(n_jobs=2)]: Done  22 out of  24 | elapsed:  1.4min remaining:    7.8s\n"
     ]
    },
    {
     "name": "stderr",
     "output_type": "stream",
     "text": [
      "\r",
      "|##########----------| 75/148  50% [elapsed: 04:32 left: 04:25]"
     ]
    },
    {
     "name": "stdout",
     "output_type": "stream",
     "text": [
      "[Parallel(n_jobs=2)]: Done  24 out of  24 | elapsed:  1.5min remaining:    0.0s\n",
      "[Parallel(n_jobs=2)]: Done  24 out of  24 | elapsed:  1.5min finished\n",
      "[Parallel(n_jobs=2)]: Using backend LokyBackend with 2 concurrent workers.\n",
      "[Parallel(n_jobs=2)]: Done   1 tasks      | elapsed:    7.7s\n",
      "[Parallel(n_jobs=2)]: Done   2 tasks      | elapsed:    8.1s\n",
      "[Parallel(n_jobs=2)]: Done   3 tasks      | elapsed:   15.4s\n",
      "[Parallel(n_jobs=2)]: Done   4 tasks      | elapsed:   15.9s\n",
      "[Parallel(n_jobs=2)]: Done   5 tasks      | elapsed:   22.7s\n",
      "[Parallel(n_jobs=2)]: Done   6 tasks      | elapsed:   23.2s\n",
      "[Parallel(n_jobs=2)]: Done   7 tasks      | elapsed:   30.2s\n",
      "[Parallel(n_jobs=2)]: Done   8 tasks      | elapsed:   31.2s\n",
      "[Parallel(n_jobs=2)]: Done   9 tasks      | elapsed:   38.1s\n",
      "[Parallel(n_jobs=2)]: Done  10 tasks      | elapsed:   38.8s\n",
      "[Parallel(n_jobs=2)]: Done  11 tasks      | elapsed:   45.8s\n",
      "[Parallel(n_jobs=2)]: Done  12 tasks      | elapsed:   46.3s\n",
      "[Parallel(n_jobs=2)]: Done  13 tasks      | elapsed:   53.2s\n",
      "[Parallel(n_jobs=2)]: Done  14 tasks      | elapsed:   53.5s\n",
      "[Parallel(n_jobs=2)]: Done  15 tasks      | elapsed:  1.0min\n",
      "[Parallel(n_jobs=2)]: Done  16 tasks      | elapsed:  1.0min\n",
      "[Parallel(n_jobs=2)]: Done  17 tasks      | elapsed:  1.1min\n",
      "[Parallel(n_jobs=2)]: Done  18 tasks      | elapsed:  1.1min\n",
      "[Parallel(n_jobs=2)]: Done  19 tasks      | elapsed:  1.3min\n",
      "[Parallel(n_jobs=2)]: Done  20 tasks      | elapsed:  1.3min\n",
      "[Parallel(n_jobs=2)]: Done  21 tasks      | elapsed:  1.4min\n",
      "[Parallel(n_jobs=2)]: Done  22 out of  24 | elapsed:  1.4min remaining:    7.5s\n"
     ]
    },
    {
     "name": "stderr",
     "output_type": "stream",
     "text": [
      "\r",
      "|#############-------| 100/148  67% [elapsed: 06:03 left: 02:54]"
     ]
    },
    {
     "name": "stdout",
     "output_type": "stream",
     "text": [
      "[Parallel(n_jobs=2)]: Done  24 out of  24 | elapsed:  1.5min remaining:    0.0s\n",
      "[Parallel(n_jobs=2)]: Done  24 out of  24 | elapsed:  1.5min finished\n",
      "[Parallel(n_jobs=2)]: Using backend LokyBackend with 2 concurrent workers.\n",
      "[Parallel(n_jobs=2)]: Done   1 tasks      | elapsed:    7.5s\n",
      "[Parallel(n_jobs=2)]: Done   2 tasks      | elapsed:    7.7s\n",
      "[Parallel(n_jobs=2)]: Done   3 tasks      | elapsed:   15.0s\n",
      "[Parallel(n_jobs=2)]: Done   4 tasks      | elapsed:   15.0s\n",
      "[Parallel(n_jobs=2)]: Done   5 tasks      | elapsed:   22.1s\n",
      "[Parallel(n_jobs=2)]: Done   6 tasks      | elapsed:   22.2s\n",
      "[Parallel(n_jobs=2)]: Done   7 tasks      | elapsed:   29.2s\n",
      "[Parallel(n_jobs=2)]: Done   8 tasks      | elapsed:   29.5s\n",
      "[Parallel(n_jobs=2)]: Done   9 tasks      | elapsed:   36.4s\n",
      "[Parallel(n_jobs=2)]: Done  10 tasks      | elapsed:   36.5s\n",
      "[Parallel(n_jobs=2)]: Done  11 tasks      | elapsed:   44.4s\n",
      "[Parallel(n_jobs=2)]: Done  12 tasks      | elapsed:   44.7s\n",
      "[Parallel(n_jobs=2)]: Done  13 tasks      | elapsed:   51.7s\n",
      "[Parallel(n_jobs=2)]: Done  14 tasks      | elapsed:   52.1s\n",
      "[Parallel(n_jobs=2)]: Done  15 tasks      | elapsed:   59.3s\n",
      "[Parallel(n_jobs=2)]: Done  16 tasks      | elapsed:   59.8s\n",
      "[Parallel(n_jobs=2)]: Done  17 tasks      | elapsed:  1.1min\n",
      "[Parallel(n_jobs=2)]: Done  18 tasks      | elapsed:  1.1min\n",
      "[Parallel(n_jobs=2)]: Done  19 tasks      | elapsed:  1.2min\n",
      "[Parallel(n_jobs=2)]: Done  20 tasks      | elapsed:  1.3min\n",
      "[Parallel(n_jobs=2)]: Done  21 tasks      | elapsed:  1.4min\n",
      "[Parallel(n_jobs=2)]: Done  22 out of  24 | elapsed:  1.4min remaining:    7.6s\n"
     ]
    },
    {
     "name": "stderr",
     "output_type": "stream",
     "text": [
      "|####################| 148/148 100% [elapsed: 07:34 left: 00:00]"
     ]
    },
    {
     "name": "stdout",
     "output_type": "stream",
     "text": [
      "[Parallel(n_jobs=2)]: Done  24 out of  24 | elapsed:  1.5min remaining:    0.0s\n",
      "[Parallel(n_jobs=2)]: Done  24 out of  24 | elapsed:  1.5min finished\n",
      "DES0229-0416-r\n"
     ]
    },
    {
     "name": "stderr",
     "output_type": "stream",
     "text": [
      "\n",
      "|--------------------| 0/165   0% [elapsed: 00:00 left: ?]"
     ]
    },
    {
     "name": "stdout",
     "output_type": "stream",
     "text": [
      "[Parallel(n_jobs=2)]: Using backend LokyBackend with 2 concurrent workers.\n",
      "[Parallel(n_jobs=2)]: Done   1 tasks      | elapsed:    7.7s\n",
      "[Parallel(n_jobs=2)]: Done   2 tasks      | elapsed:    7.7s\n",
      "[Parallel(n_jobs=2)]: Done   3 tasks      | elapsed:   15.3s\n",
      "[Parallel(n_jobs=2)]: Done   4 tasks      | elapsed:   15.3s\n",
      "[Parallel(n_jobs=2)]: Done   5 tasks      | elapsed:   22.7s\n",
      "[Parallel(n_jobs=2)]: Done   6 tasks      | elapsed:   22.7s\n",
      "[Parallel(n_jobs=2)]: Done   7 tasks      | elapsed:   30.4s\n",
      "[Parallel(n_jobs=2)]: Done   8 tasks      | elapsed:   30.6s\n",
      "[Parallel(n_jobs=2)]: Done   9 tasks      | elapsed:   37.7s\n",
      "[Parallel(n_jobs=2)]: Done  10 tasks      | elapsed:   38.1s\n",
      "[Parallel(n_jobs=2)]: Done  11 tasks      | elapsed:   46.1s\n",
      "[Parallel(n_jobs=2)]: Done  12 tasks      | elapsed:   46.6s\n",
      "[Parallel(n_jobs=2)]: Done  13 tasks      | elapsed:   53.9s\n",
      "[Parallel(n_jobs=2)]: Done  14 tasks      | elapsed:   54.5s\n",
      "[Parallel(n_jobs=2)]: Done  15 tasks      | elapsed:  1.0min\n",
      "[Parallel(n_jobs=2)]: Done  16 tasks      | elapsed:  1.0min\n",
      "[Parallel(n_jobs=2)]: Done  17 tasks      | elapsed:  1.2min\n",
      "[Parallel(n_jobs=2)]: Done  18 tasks      | elapsed:  1.2min\n",
      "[Parallel(n_jobs=2)]: Done  19 tasks      | elapsed:  1.3min\n",
      "[Parallel(n_jobs=2)]: Done  20 tasks      | elapsed:  1.3min\n",
      "[Parallel(n_jobs=2)]: Done  21 tasks      | elapsed:  1.4min\n",
      "[Parallel(n_jobs=2)]: Done  22 out of  24 | elapsed:  1.4min remaining:    7.8s\n"
     ]
    },
    {
     "name": "stderr",
     "output_type": "stream",
     "text": [
      "\r",
      "|###-----------------| 25/165  15% [elapsed: 01:32 left: 08:39]"
     ]
    },
    {
     "name": "stdout",
     "output_type": "stream",
     "text": [
      "[Parallel(n_jobs=2)]: Done  24 out of  24 | elapsed:  1.5min remaining:    0.0s\n",
      "[Parallel(n_jobs=2)]: Done  24 out of  24 | elapsed:  1.5min finished\n",
      "[Parallel(n_jobs=2)]: Using backend LokyBackend with 2 concurrent workers.\n",
      "[Parallel(n_jobs=2)]: Done   1 tasks      | elapsed:    7.4s\n",
      "[Parallel(n_jobs=2)]: Done   2 tasks      | elapsed:    7.5s\n",
      "[Parallel(n_jobs=2)]: Done   3 tasks      | elapsed:   15.5s\n",
      "[Parallel(n_jobs=2)]: Done   4 tasks      | elapsed:   15.8s\n",
      "[Parallel(n_jobs=2)]: Done   5 tasks      | elapsed:   23.3s\n",
      "[Parallel(n_jobs=2)]: Done   6 tasks      | elapsed:   23.4s\n",
      "[Parallel(n_jobs=2)]: Done   7 tasks      | elapsed:   31.0s\n",
      "[Parallel(n_jobs=2)]: Done   8 tasks      | elapsed:   31.1s\n",
      "[Parallel(n_jobs=2)]: Done   9 tasks      | elapsed:   39.1s\n",
      "[Parallel(n_jobs=2)]: Done  10 tasks      | elapsed:   39.2s\n",
      "[Parallel(n_jobs=2)]: Done  11 tasks      | elapsed:   46.5s\n",
      "[Parallel(n_jobs=2)]: Done  12 tasks      | elapsed:   46.6s\n",
      "[Parallel(n_jobs=2)]: Done  13 tasks      | elapsed:   53.9s\n",
      "[Parallel(n_jobs=2)]: Done  14 tasks      | elapsed:   53.9s\n",
      "[Parallel(n_jobs=2)]: Done  15 tasks      | elapsed:  1.0min\n",
      "[Parallel(n_jobs=2)]: Done  16 tasks      | elapsed:  1.0min\n",
      "[Parallel(n_jobs=2)]: Done  17 tasks      | elapsed:  1.1min\n",
      "[Parallel(n_jobs=2)]: Done  18 tasks      | elapsed:  1.1min\n",
      "[Parallel(n_jobs=2)]: Done  19 tasks      | elapsed:  1.3min\n",
      "[Parallel(n_jobs=2)]: Done  20 tasks      | elapsed:  1.3min\n",
      "[Parallel(n_jobs=2)]: Done  21 tasks      | elapsed:  1.4min\n",
      "[Parallel(n_jobs=2)]: Done  22 out of  24 | elapsed:  1.4min remaining:    7.6s\n"
     ]
    },
    {
     "name": "stderr",
     "output_type": "stream",
     "text": [
      "\r",
      "|######--------------| 50/165  30% [elapsed: 03:03 left: 07:02]"
     ]
    },
    {
     "name": "stdout",
     "output_type": "stream",
     "text": [
      "[Parallel(n_jobs=2)]: Done  24 out of  24 | elapsed:  1.5min remaining:    0.0s\n",
      "[Parallel(n_jobs=2)]: Done  24 out of  24 | elapsed:  1.5min finished\n",
      "[Parallel(n_jobs=2)]: Using backend LokyBackend with 2 concurrent workers.\n",
      "[Parallel(n_jobs=2)]: Done   1 tasks      | elapsed:    8.2s\n",
      "[Parallel(n_jobs=2)]: Done   2 tasks      | elapsed:    8.3s\n",
      "[Parallel(n_jobs=2)]: Done   3 tasks      | elapsed:   15.9s\n",
      "[Parallel(n_jobs=2)]: Done   4 tasks      | elapsed:   15.9s\n",
      "[Parallel(n_jobs=2)]: Done   5 tasks      | elapsed:   23.6s\n",
      "[Parallel(n_jobs=2)]: Done   6 tasks      | elapsed:   23.6s\n",
      "[Parallel(n_jobs=2)]: Done   7 tasks      | elapsed:   30.8s\n",
      "[Parallel(n_jobs=2)]: Done   8 tasks      | elapsed:   31.0s\n",
      "[Parallel(n_jobs=2)]: Done   9 tasks      | elapsed:   38.5s\n",
      "[Parallel(n_jobs=2)]: Done  10 tasks      | elapsed:   39.0s\n",
      "[Parallel(n_jobs=2)]: Done  11 tasks      | elapsed:   46.8s\n",
      "[Parallel(n_jobs=2)]: Done  12 tasks      | elapsed:   47.4s\n",
      "[Parallel(n_jobs=2)]: Done  13 tasks      | elapsed:   54.2s\n",
      "[Parallel(n_jobs=2)]: Done  14 tasks      | elapsed:   54.8s\n",
      "[Parallel(n_jobs=2)]: Done  15 tasks      | elapsed:  1.0min\n",
      "[Parallel(n_jobs=2)]: Done  16 tasks      | elapsed:  1.0min\n",
      "[Parallel(n_jobs=2)]: Done  17 tasks      | elapsed:  1.2min\n",
      "[Parallel(n_jobs=2)]: Done  18 tasks      | elapsed:  1.2min\n",
      "[Parallel(n_jobs=2)]: Done  19 tasks      | elapsed:  1.3min\n",
      "[Parallel(n_jobs=2)]: Done  20 tasks      | elapsed:  1.3min\n",
      "[Parallel(n_jobs=2)]: Done  21 tasks      | elapsed:  1.4min\n",
      "[Parallel(n_jobs=2)]: Done  22 out of  24 | elapsed:  1.4min remaining:    7.7s\n"
     ]
    },
    {
     "name": "stderr",
     "output_type": "stream",
     "text": [
      "\r",
      "|#########-----------| 75/165  45% [elapsed: 04:35 left: 05:30]"
     ]
    },
    {
     "name": "stdout",
     "output_type": "stream",
     "text": [
      "[Parallel(n_jobs=2)]: Done  24 out of  24 | elapsed:  1.5min remaining:    0.0s\n",
      "[Parallel(n_jobs=2)]: Done  24 out of  24 | elapsed:  1.5min finished\n",
      "[Parallel(n_jobs=2)]: Using backend LokyBackend with 2 concurrent workers.\n",
      "[Parallel(n_jobs=2)]: Done   1 tasks      | elapsed:    7.2s\n",
      "[Parallel(n_jobs=2)]: Done   2 tasks      | elapsed:    7.3s\n",
      "[Parallel(n_jobs=2)]: Done   3 tasks      | elapsed:   14.6s\n",
      "[Parallel(n_jobs=2)]: Done   4 tasks      | elapsed:   14.7s\n",
      "[Parallel(n_jobs=2)]: Done   5 tasks      | elapsed:   22.0s\n",
      "[Parallel(n_jobs=2)]: Done   6 tasks      | elapsed:   22.2s\n",
      "[Parallel(n_jobs=2)]: Done   7 tasks      | elapsed:   29.4s\n",
      "[Parallel(n_jobs=2)]: Done   8 tasks      | elapsed:   29.9s\n",
      "[Parallel(n_jobs=2)]: Done   9 tasks      | elapsed:   37.4s\n",
      "[Parallel(n_jobs=2)]: Done  10 tasks      | elapsed:   37.7s\n",
      "[Parallel(n_jobs=2)]: Done  11 tasks      | elapsed:   44.9s\n",
      "[Parallel(n_jobs=2)]: Done  12 tasks      | elapsed:   45.1s\n",
      "[Parallel(n_jobs=2)]: Done  13 tasks      | elapsed:   52.6s\n",
      "[Parallel(n_jobs=2)]: Done  14 tasks      | elapsed:   52.8s\n",
      "[Parallel(n_jobs=2)]: Done  15 tasks      | elapsed:  1.0min\n",
      "[Parallel(n_jobs=2)]: Done  16 tasks      | elapsed:  1.0min\n",
      "[Parallel(n_jobs=2)]: Done  17 tasks      | elapsed:  1.1min\n",
      "[Parallel(n_jobs=2)]: Done  18 tasks      | elapsed:  1.1min\n",
      "[Parallel(n_jobs=2)]: Done  19 tasks      | elapsed:  1.3min\n",
      "[Parallel(n_jobs=2)]: Done  20 tasks      | elapsed:  1.3min\n",
      "[Parallel(n_jobs=2)]: Done  21 tasks      | elapsed:  1.4min\n",
      "[Parallel(n_jobs=2)]: Done  22 out of  24 | elapsed:  1.4min remaining:    7.6s\n"
     ]
    },
    {
     "name": "stderr",
     "output_type": "stream",
     "text": [
      "\r",
      "|############--------| 100/165  60% [elapsed: 06:07 left: 03:58]"
     ]
    },
    {
     "name": "stdout",
     "output_type": "stream",
     "text": [
      "[Parallel(n_jobs=2)]: Done  24 out of  24 | elapsed:  1.5min remaining:    0.0s\n",
      "[Parallel(n_jobs=2)]: Done  24 out of  24 | elapsed:  1.5min finished\n",
      "[Parallel(n_jobs=2)]: Using backend LokyBackend with 2 concurrent workers.\n",
      "[Parallel(n_jobs=2)]: Done   1 tasks      | elapsed:   10.3s\n",
      "[Parallel(n_jobs=2)]: Done   2 tasks      | elapsed:   10.4s\n",
      "[Parallel(n_jobs=2)]: Done   3 tasks      | elapsed:   19.5s\n",
      "[Parallel(n_jobs=2)]: Done   4 tasks      | elapsed:   19.9s\n",
      "[Parallel(n_jobs=2)]: Done   5 tasks      | elapsed:   27.3s\n",
      "[Parallel(n_jobs=2)]: Done   6 tasks      | elapsed:   27.4s\n",
      "[Parallel(n_jobs=2)]: Done   7 tasks      | elapsed:   34.9s\n",
      "[Parallel(n_jobs=2)]: Done   8 tasks      | elapsed:   34.9s\n",
      "[Parallel(n_jobs=2)]: Done   9 tasks      | elapsed:   42.3s\n",
      "[Parallel(n_jobs=2)]: Done  10 tasks      | elapsed:   42.5s\n",
      "[Parallel(n_jobs=2)]: Done  11 tasks      | elapsed:   49.9s\n",
      "[Parallel(n_jobs=2)]: Done  12 tasks      | elapsed:   50.0s\n",
      "[Parallel(n_jobs=2)]: Done  13 tasks      | elapsed:   58.0s\n",
      "[Parallel(n_jobs=2)]: Done  14 tasks      | elapsed:   58.0s\n",
      "[Parallel(n_jobs=2)]: Done  15 tasks      | elapsed:  1.1min\n",
      "[Parallel(n_jobs=2)]: Done  16 tasks      | elapsed:  1.1min\n",
      "[Parallel(n_jobs=2)]: Done  17 tasks      | elapsed:  1.2min\n",
      "[Parallel(n_jobs=2)]: Done  18 tasks      | elapsed:  1.2min\n",
      "[Parallel(n_jobs=2)]: Done  19 tasks      | elapsed:  1.4min\n",
      "[Parallel(n_jobs=2)]: Done  20 tasks      | elapsed:  1.4min\n",
      "[Parallel(n_jobs=2)]: Done  21 tasks      | elapsed:  1.5min\n",
      "[Parallel(n_jobs=2)]: Done  22 out of  24 | elapsed:  1.5min remaining:    8.2s\n"
     ]
    },
    {
     "name": "stderr",
     "output_type": "stream",
     "text": [
      "\r",
      "|###############-----| 125/165  75% [elapsed: 07:45 left: 02:28]"
     ]
    },
    {
     "name": "stdout",
     "output_type": "stream",
     "text": [
      "[Parallel(n_jobs=2)]: Done  24 out of  24 | elapsed:  1.6min remaining:    0.0s\n",
      "[Parallel(n_jobs=2)]: Done  24 out of  24 | elapsed:  1.6min finished\n",
      "[Parallel(n_jobs=2)]: Using backend LokyBackend with 2 concurrent workers.\n",
      "[Parallel(n_jobs=2)]: Done   1 tasks      | elapsed:    7.5s\n",
      "[Parallel(n_jobs=2)]: Done   2 tasks      | elapsed:    7.7s\n",
      "[Parallel(n_jobs=2)]: Done   3 tasks      | elapsed:   16.2s\n",
      "[Parallel(n_jobs=2)]: Done   4 tasks      | elapsed:   16.2s\n",
      "[Parallel(n_jobs=2)]: Done   5 tasks      | elapsed:   25.1s\n",
      "[Parallel(n_jobs=2)]: Done   6 tasks      | elapsed:   25.2s\n",
      "[Parallel(n_jobs=2)]: Done   7 tasks      | elapsed:   32.7s\n",
      "[Parallel(n_jobs=2)]: Done   8 tasks      | elapsed:   32.8s\n",
      "/Users/beckermr/MEDS_DIR/des-pizza-slices-y6-test/DES0229-0416/sources-r/OPS/finalcut/Y6A2_PIFF/20140923-r5702/D00361655/p01/psf/D00361655_r_c31_r5702p01_piff-model.fits 0.068359375 308.43652908866846\n",
      "[Parallel(n_jobs=2)]: Done   9 tasks      | elapsed:   40.7s\n",
      "[Parallel(n_jobs=2)]: Done  10 tasks      | elapsed:   41.0s\n",
      "[Parallel(n_jobs=2)]: Done  11 tasks      | elapsed:   48.5s\n",
      "[Parallel(n_jobs=2)]: Done  12 tasks      | elapsed:   49.0s\n",
      "[Parallel(n_jobs=2)]: Done  13 tasks      | elapsed:   56.7s\n",
      "[Parallel(n_jobs=2)]: Done  14 tasks      | elapsed:   57.3s\n",
      "[Parallel(n_jobs=2)]: Done  15 tasks      | elapsed:  1.1min\n",
      "[Parallel(n_jobs=2)]: Done  16 tasks      | elapsed:  1.1min\n",
      "[Parallel(n_jobs=2)]: Done  17 tasks      | elapsed:  1.2min\n",
      "[Parallel(n_jobs=2)]: Done  18 tasks      | elapsed:  1.2min\n",
      "[Parallel(n_jobs=2)]: Done  19 tasks      | elapsed:  1.3min\n",
      "[Parallel(n_jobs=2)]: Done  20 tasks      | elapsed:  1.3min\n",
      "[Parallel(n_jobs=2)]: Done  21 tasks      | elapsed:  1.5min\n",
      "[Parallel(n_jobs=2)]: Done  22 out of  24 | elapsed:  1.5min remaining:    8.1s\n"
     ]
    },
    {
     "name": "stderr",
     "output_type": "stream",
     "text": [
      "|####################| 165/165 100% [elapsed: 09:21 left: 00:00]"
     ]
    },
    {
     "name": "stdout",
     "output_type": "stream",
     "text": [
      "[Parallel(n_jobs=2)]: Done  24 out of  24 | elapsed:  1.6min remaining:    0.0s\n",
      "[Parallel(n_jobs=2)]: Done  24 out of  24 | elapsed:  1.6min finished\n",
      "DES0229-0416-g\n"
     ]
    },
    {
     "name": "stderr",
     "output_type": "stream",
     "text": [
      "\n",
      "|--------------------| 0/149   0% [elapsed: 00:00 left: ?]"
     ]
    },
    {
     "name": "stdout",
     "output_type": "stream",
     "text": [
      "[Parallel(n_jobs=2)]: Using backend LokyBackend with 2 concurrent workers.\n",
      "[Parallel(n_jobs=2)]: Done   1 tasks      | elapsed:    8.2s\n",
      "[Parallel(n_jobs=2)]: Done   2 tasks      | elapsed:    8.3s\n",
      "[Parallel(n_jobs=2)]: Done   3 tasks      | elapsed:   16.4s\n",
      "[Parallel(n_jobs=2)]: Done   4 tasks      | elapsed:   16.6s\n",
      "[Parallel(n_jobs=2)]: Done   5 tasks      | elapsed:   24.5s\n",
      "[Parallel(n_jobs=2)]: Done   6 tasks      | elapsed:   24.9s\n",
      "[Parallel(n_jobs=2)]: Done   7 tasks      | elapsed:   32.3s\n",
      "[Parallel(n_jobs=2)]: Done   8 tasks      | elapsed:   32.6s\n",
      "[Parallel(n_jobs=2)]: Done   9 tasks      | elapsed:   40.5s\n",
      "[Parallel(n_jobs=2)]: Done  10 tasks      | elapsed:   41.2s\n",
      "[Parallel(n_jobs=2)]: Done  11 tasks      | elapsed:   49.4s\n",
      "[Parallel(n_jobs=2)]: Done  12 tasks      | elapsed:   49.7s\n",
      "[Parallel(n_jobs=2)]: Done  13 tasks      | elapsed:   56.9s\n",
      "[Parallel(n_jobs=2)]: Done  14 tasks      | elapsed:   57.0s\n",
      "[Parallel(n_jobs=2)]: Done  15 tasks      | elapsed:  1.1min\n",
      "[Parallel(n_jobs=2)]: Done  16 tasks      | elapsed:  1.1min\n",
      "[Parallel(n_jobs=2)]: Done  17 tasks      | elapsed:  1.2min\n",
      "[Parallel(n_jobs=2)]: Done  18 tasks      | elapsed:  1.2min\n",
      "[Parallel(n_jobs=2)]: Done  19 tasks      | elapsed:  1.3min\n",
      "[Parallel(n_jobs=2)]: Done  20 tasks      | elapsed:  1.4min\n",
      "[Parallel(n_jobs=2)]: Done  21 tasks      | elapsed:  1.5min\n",
      "[Parallel(n_jobs=2)]: Done  22 out of  24 | elapsed:  1.5min remaining:    8.1s\n"
     ]
    },
    {
     "name": "stderr",
     "output_type": "stream",
     "text": [
      "\r",
      "|###-----------------| 25/149  16% [elapsed: 01:35 left: 07:55]"
     ]
    },
    {
     "name": "stdout",
     "output_type": "stream",
     "text": [
      "[Parallel(n_jobs=2)]: Done  24 out of  24 | elapsed:  1.6min remaining:    0.0s\n",
      "[Parallel(n_jobs=2)]: Done  24 out of  24 | elapsed:  1.6min finished\n",
      "[Parallel(n_jobs=2)]: Using backend LokyBackend with 2 concurrent workers.\n",
      "[Parallel(n_jobs=2)]: Done   1 tasks      | elapsed:    8.0s\n",
      "[Parallel(n_jobs=2)]: Done   2 tasks      | elapsed:    8.1s\n",
      "[Parallel(n_jobs=2)]: Done   3 tasks      | elapsed:   16.8s\n",
      "[Parallel(n_jobs=2)]: Done   4 tasks      | elapsed:   16.8s\n",
      "[Parallel(n_jobs=2)]: Done   5 tasks      | elapsed:   24.3s\n",
      "[Parallel(n_jobs=2)]: Done   6 tasks      | elapsed:   24.4s\n",
      "[Parallel(n_jobs=2)]: Done   7 tasks      | elapsed:   32.1s\n",
      "[Parallel(n_jobs=2)]: Done   8 tasks      | elapsed:   32.1s\n",
      "[Parallel(n_jobs=2)]: Done   9 tasks      | elapsed:   40.5s\n",
      "[Parallel(n_jobs=2)]: Done  10 tasks      | elapsed:   40.6s\n",
      "[Parallel(n_jobs=2)]: Done  11 tasks      | elapsed:   48.4s\n",
      "[Parallel(n_jobs=2)]: Done  12 tasks      | elapsed:   48.4s\n",
      "[Parallel(n_jobs=2)]: Done  13 tasks      | elapsed:   55.8s\n",
      "[Parallel(n_jobs=2)]: Done  14 tasks      | elapsed:   56.1s\n",
      "[Parallel(n_jobs=2)]: Done  15 tasks      | elapsed:  1.1min\n",
      "[Parallel(n_jobs=2)]: Done  16 tasks      | elapsed:  1.1min\n",
      "[Parallel(n_jobs=2)]: Done  17 tasks      | elapsed:  1.2min\n",
      "[Parallel(n_jobs=2)]: Done  18 tasks      | elapsed:  1.2min\n",
      "[Parallel(n_jobs=2)]: Done  19 tasks      | elapsed:  1.3min\n",
      "[Parallel(n_jobs=2)]: Done  20 tasks      | elapsed:  1.3min\n",
      "[Parallel(n_jobs=2)]: Done  21 tasks      | elapsed:  1.5min\n",
      "[Parallel(n_jobs=2)]: Done  22 out of  24 | elapsed:  1.5min remaining:    8.1s\n"
     ]
    },
    {
     "name": "stderr",
     "output_type": "stream",
     "text": [
      "\r",
      "|######--------------| 50/149  33% [elapsed: 03:13 left: 06:22]"
     ]
    },
    {
     "name": "stdout",
     "output_type": "stream",
     "text": [
      "[Parallel(n_jobs=2)]: Done  24 out of  24 | elapsed:  1.6min remaining:    0.0s\n",
      "[Parallel(n_jobs=2)]: Done  24 out of  24 | elapsed:  1.6min finished\n",
      "[Parallel(n_jobs=2)]: Using backend LokyBackend with 2 concurrent workers.\n",
      "[Parallel(n_jobs=2)]: Done   1 tasks      | elapsed:    7.9s\n",
      "[Parallel(n_jobs=2)]: Done   2 tasks      | elapsed:    8.1s\n",
      "[Parallel(n_jobs=2)]: Done   3 tasks      | elapsed:   15.7s\n",
      "[Parallel(n_jobs=2)]: Done   4 tasks      | elapsed:   15.9s\n",
      "[Parallel(n_jobs=2)]: Done   5 tasks      | elapsed:   23.5s\n",
      "[Parallel(n_jobs=2)]: Done   6 tasks      | elapsed:   23.7s\n",
      "[Parallel(n_jobs=2)]: Done   7 tasks      | elapsed:   31.6s\n",
      "[Parallel(n_jobs=2)]: Done   8 tasks      | elapsed:   31.9s\n",
      "[Parallel(n_jobs=2)]: Done   9 tasks      | elapsed:   39.3s\n",
      "[Parallel(n_jobs=2)]: Done  10 tasks      | elapsed:   39.6s\n",
      "[Parallel(n_jobs=2)]: Done  11 tasks      | elapsed:   47.3s\n",
      "[Parallel(n_jobs=2)]: Done  12 tasks      | elapsed:   47.8s\n",
      "[Parallel(n_jobs=2)]: Done  13 tasks      | elapsed:   54.6s\n",
      "[Parallel(n_jobs=2)]: Done  14 tasks      | elapsed:   55.3s\n",
      "[Parallel(n_jobs=2)]: Done  15 tasks      | elapsed:  1.0min\n",
      "[Parallel(n_jobs=2)]: Done  16 tasks      | elapsed:  1.0min\n",
      "[Parallel(n_jobs=2)]: Done  17 tasks      | elapsed:  1.2min\n",
      "[Parallel(n_jobs=2)]: Done  18 tasks      | elapsed:  1.2min\n",
      "[Parallel(n_jobs=2)]: Done  19 tasks      | elapsed:  1.3min\n",
      "[Parallel(n_jobs=2)]: Done  20 tasks      | elapsed:  1.3min\n",
      "[Parallel(n_jobs=2)]: Done  21 tasks      | elapsed:  1.4min\n",
      "[Parallel(n_jobs=2)]: Done  22 out of  24 | elapsed:  1.4min remaining:    7.8s\n"
     ]
    },
    {
     "name": "stderr",
     "output_type": "stream",
     "text": [
      "\r",
      "|##########----------| 75/149  50% [elapsed: 04:46 left: 04:42]"
     ]
    },
    {
     "name": "stdout",
     "output_type": "stream",
     "text": [
      "[Parallel(n_jobs=2)]: Done  24 out of  24 | elapsed:  1.5min remaining:    0.0s\n",
      "[Parallel(n_jobs=2)]: Done  24 out of  24 | elapsed:  1.5min finished\n",
      "[Parallel(n_jobs=2)]: Using backend LokyBackend with 2 concurrent workers.\n",
      "[Parallel(n_jobs=2)]: Done   1 tasks      | elapsed:    8.7s\n",
      "[Parallel(n_jobs=2)]: Done   2 tasks      | elapsed:    8.8s\n",
      "[Parallel(n_jobs=2)]: Done   3 tasks      | elapsed:   16.0s\n",
      "[Parallel(n_jobs=2)]: Done   4 tasks      | elapsed:   16.2s\n",
      "[Parallel(n_jobs=2)]: Done   5 tasks      | elapsed:   23.7s\n",
      "[Parallel(n_jobs=2)]: Done   6 tasks      | elapsed:   23.8s\n",
      "[Parallel(n_jobs=2)]: Done   7 tasks      | elapsed:   31.5s\n",
      "[Parallel(n_jobs=2)]: Done   8 tasks      | elapsed:   31.5s\n",
      "[Parallel(n_jobs=2)]: Done   9 tasks      | elapsed:   38.9s\n",
      "[Parallel(n_jobs=2)]: Done  10 tasks      | elapsed:   39.1s\n",
      "[Parallel(n_jobs=2)]: Done  11 tasks      | elapsed:   46.1s\n",
      "[Parallel(n_jobs=2)]: Done  12 tasks      | elapsed:   46.3s\n",
      "[Parallel(n_jobs=2)]: Done  13 tasks      | elapsed:   53.6s\n",
      "[Parallel(n_jobs=2)]: Done  14 tasks      | elapsed:   53.7s\n",
      "[Parallel(n_jobs=2)]: Done  15 tasks      | elapsed:  1.0min\n",
      "[Parallel(n_jobs=2)]: Done  16 tasks      | elapsed:  1.0min\n",
      "[Parallel(n_jobs=2)]: Done  17 tasks      | elapsed:  1.1min\n",
      "[Parallel(n_jobs=2)]: Done  18 tasks      | elapsed:  1.1min\n",
      "[Parallel(n_jobs=2)]: Done  19 tasks      | elapsed:  1.3min\n",
      "[Parallel(n_jobs=2)]: Done  20 tasks      | elapsed:  1.3min\n",
      "[Parallel(n_jobs=2)]: Done  21 tasks      | elapsed:  1.4min\n",
      "[Parallel(n_jobs=2)]: Done  22 out of  24 | elapsed:  1.4min remaining:    7.6s\n"
     ]
    },
    {
     "name": "stderr",
     "output_type": "stream",
     "text": [
      "\r",
      "|#############-------| 100/149  67% [elapsed: 06:17 left: 03:04]"
     ]
    },
    {
     "name": "stdout",
     "output_type": "stream",
     "text": [
      "[Parallel(n_jobs=2)]: Done  24 out of  24 | elapsed:  1.5min remaining:    0.0s\n",
      "[Parallel(n_jobs=2)]: Done  24 out of  24 | elapsed:  1.5min finished\n",
      "[Parallel(n_jobs=2)]: Using backend LokyBackend with 2 concurrent workers.\n",
      "[Parallel(n_jobs=2)]: Done   1 tasks      | elapsed:    7.1s\n",
      "[Parallel(n_jobs=2)]: Done   2 tasks      | elapsed:    7.3s\n",
      "[Parallel(n_jobs=2)]: Done   3 tasks      | elapsed:   14.6s\n",
      "[Parallel(n_jobs=2)]: Done   4 tasks      | elapsed:   14.8s\n",
      "[Parallel(n_jobs=2)]: Done   5 tasks      | elapsed:   21.9s\n",
      "[Parallel(n_jobs=2)]: Done   6 tasks      | elapsed:   22.0s\n",
      "[Parallel(n_jobs=2)]: Done   7 tasks      | elapsed:   31.9s\n",
      "[Parallel(n_jobs=2)]: Done   8 tasks      | elapsed:   32.4s\n",
      "[Parallel(n_jobs=2)]: Done   9 tasks      | elapsed:   40.2s\n",
      "[Parallel(n_jobs=2)]: Done  10 tasks      | elapsed:   40.6s\n",
      "[Parallel(n_jobs=2)]: Done  11 tasks      | elapsed:   47.8s\n",
      "[Parallel(n_jobs=2)]: Done  12 tasks      | elapsed:   48.0s\n",
      "[Parallel(n_jobs=2)]: Done  13 tasks      | elapsed:   55.4s\n",
      "[Parallel(n_jobs=2)]: Done  14 tasks      | elapsed:   55.6s\n",
      "[Parallel(n_jobs=2)]: Done  15 tasks      | elapsed:  1.1min\n",
      "[Parallel(n_jobs=2)]: Done  16 tasks      | elapsed:  1.1min\n",
      "[Parallel(n_jobs=2)]: Done  17 tasks      | elapsed:  1.2min\n",
      "[Parallel(n_jobs=2)]: Done  18 tasks      | elapsed:  1.2min\n",
      "[Parallel(n_jobs=2)]: Done  19 tasks      | elapsed:  1.3min\n",
      "[Parallel(n_jobs=2)]: Done  20 tasks      | elapsed:  1.3min\n",
      "[Parallel(n_jobs=2)]: Done  21 tasks      | elapsed:  1.4min\n",
      "[Parallel(n_jobs=2)]: Done  22 out of  24 | elapsed:  1.4min remaining:    7.9s\n"
     ]
    },
    {
     "name": "stderr",
     "output_type": "stream",
     "text": [
      "|####################| 149/149 100% [elapsed: 07:51 left: 00:00]"
     ]
    },
    {
     "name": "stdout",
     "output_type": "stream",
     "text": [
      "[Parallel(n_jobs=2)]: Done  24 out of  24 | elapsed:  1.6min remaining:    0.0s\n",
      "[Parallel(n_jobs=2)]: Done  24 out of  24 | elapsed:  1.6min finished\n",
      "[Parallel(n_jobs=2)]: Using backend LokyBackend with 2 concurrent workers.\n"
     ]
    },
    {
     "name": "stderr",
     "output_type": "stream",
     "text": [
      "\n"
     ]
    },
    {
     "name": "stdout",
     "output_type": "stream",
     "text": [
      "[Parallel(n_jobs=2)]: Done   1 tasks      | elapsed:    8.2s\n",
      "[Parallel(n_jobs=2)]: Done   2 tasks      | elapsed:    8.2s\n",
      "[Parallel(n_jobs=2)]: Done   3 tasks      | elapsed:   16.0s\n",
      "[Parallel(n_jobs=2)]: Done   4 tasks      | elapsed:   16.1s\n",
      "[Parallel(n_jobs=2)]: Done   5 tasks      | elapsed:   23.4s\n",
      "[Parallel(n_jobs=2)]: Done   6 tasks      | elapsed:   23.7s\n",
      "[Parallel(n_jobs=2)]: Done   7 tasks      | elapsed:   30.9s\n",
      "[Parallel(n_jobs=2)]: Done   8 tasks      | elapsed:   30.9s\n",
      "[Parallel(n_jobs=2)]: Done   9 tasks      | elapsed:   38.8s\n",
      "[Parallel(n_jobs=2)]: Done  10 tasks      | elapsed:   39.0s\n",
      "[Parallel(n_jobs=2)]: Done  11 tasks      | elapsed:   46.3s\n",
      "[Parallel(n_jobs=2)]: Done  12 tasks      | elapsed:   46.6s\n",
      "[Parallel(n_jobs=2)]: Done  13 tasks      | elapsed:   54.0s\n",
      "[Parallel(n_jobs=2)]: Done  14 tasks      | elapsed:   54.5s\n",
      "[Parallel(n_jobs=2)]: Done  15 tasks      | elapsed:  1.0min\n",
      "[Parallel(n_jobs=2)]: Done  16 tasks      | elapsed:  1.0min\n",
      "[Parallel(n_jobs=2)]: Done  17 tasks      | elapsed:  1.2min\n",
      "[Parallel(n_jobs=2)]: Done  18 tasks      | elapsed:  1.2min\n",
      "[Parallel(n_jobs=2)]: Done  19 tasks      | elapsed:  1.3min\n",
      "[Parallel(n_jobs=2)]: Done  20 tasks      | elapsed:  1.3min\n",
      "[Parallel(n_jobs=2)]: Done  21 tasks      | elapsed:  1.4min\n",
      "[Parallel(n_jobs=2)]: Done  22 out of  24 | elapsed:  1.4min remaining:    7.8s\n",
      "[Parallel(n_jobs=2)]: Done  24 out of  24 | elapsed:  1.6min remaining:    0.0s\n",
      "[Parallel(n_jobs=2)]: Done  24 out of  24 | elapsed:  1.6min finished\n",
      "DES0137-3749-i\n"
     ]
    },
    {
     "name": "stderr",
     "output_type": "stream",
     "text": [
      "\r",
      "|--------------------| 0/168   0% [elapsed: 00:00 left: ?]"
     ]
    },
    {
     "name": "stdout",
     "output_type": "stream",
     "text": [
      "[Parallel(n_jobs=2)]: Using backend LokyBackend with 2 concurrent workers.\n",
      "[Parallel(n_jobs=2)]: Done   1 tasks      | elapsed:    7.0s\n",
      "[Parallel(n_jobs=2)]: Done   2 tasks      | elapsed:    7.4s\n",
      "[Parallel(n_jobs=2)]: Done   3 tasks      | elapsed:   14.4s\n",
      "[Parallel(n_jobs=2)]: Done   4 tasks      | elapsed:   14.5s\n",
      "[Parallel(n_jobs=2)]: Done   5 tasks      | elapsed:   21.7s\n",
      "[Parallel(n_jobs=2)]: Done   6 tasks      | elapsed:   21.8s\n",
      "[Parallel(n_jobs=2)]: Done   7 tasks      | elapsed:   29.0s\n",
      "[Parallel(n_jobs=2)]: Done   8 tasks      | elapsed:   29.0s\n",
      "[Parallel(n_jobs=2)]: Done   9 tasks      | elapsed:   36.2s\n",
      "[Parallel(n_jobs=2)]: Done  10 tasks      | elapsed:   36.4s\n",
      "[Parallel(n_jobs=2)]: Done  11 tasks      | elapsed:   44.0s\n",
      "[Parallel(n_jobs=2)]: Done  12 tasks      | elapsed:   44.2s\n",
      "[Parallel(n_jobs=2)]: Done  13 tasks      | elapsed:   51.2s\n",
      "[Parallel(n_jobs=2)]: Done  14 tasks      | elapsed:   51.5s\n",
      "[Parallel(n_jobs=2)]: Done  15 tasks      | elapsed:   58.5s\n",
      "[Parallel(n_jobs=2)]: Done  16 tasks      | elapsed:   59.2s\n",
      "[Parallel(n_jobs=2)]: Done  17 tasks      | elapsed:  1.1min\n",
      "[Parallel(n_jobs=2)]: Done  18 tasks      | elapsed:  1.1min\n",
      "[Parallel(n_jobs=2)]: Done  19 tasks      | elapsed:  1.2min\n",
      "[Parallel(n_jobs=2)]: Done  20 tasks      | elapsed:  1.2min\n",
      "[Parallel(n_jobs=2)]: Done  21 tasks      | elapsed:  1.4min\n",
      "[Parallel(n_jobs=2)]: Done  22 out of  24 | elapsed:  1.4min remaining:    7.4s\n"
     ]
    },
    {
     "name": "stderr",
     "output_type": "stream",
     "text": [
      "\r",
      "|###-----------------| 26/168  15% [elapsed: 01:29 left: 08:07]"
     ]
    },
    {
     "name": "stdout",
     "output_type": "stream",
     "text": [
      "[Parallel(n_jobs=2)]: Done  24 out of  24 | elapsed:  1.5min remaining:    0.0s\n",
      "[Parallel(n_jobs=2)]: Done  24 out of  24 | elapsed:  1.5min finished\n",
      "[Parallel(n_jobs=2)]: Using backend LokyBackend with 2 concurrent workers.\n",
      "[Parallel(n_jobs=2)]: Done   1 tasks      | elapsed:    7.0s\n",
      "[Parallel(n_jobs=2)]: Done   2 tasks      | elapsed:    7.2s\n",
      "[Parallel(n_jobs=2)]: Done   3 tasks      | elapsed:   15.1s\n",
      "[Parallel(n_jobs=2)]: Done   4 tasks      | elapsed:   15.2s\n",
      "[Parallel(n_jobs=2)]: Done   5 tasks      | elapsed:   22.4s\n",
      "[Parallel(n_jobs=2)]: Done   6 tasks      | elapsed:   22.6s\n",
      "[Parallel(n_jobs=2)]: Done   7 tasks      | elapsed:   29.6s\n",
      "[Parallel(n_jobs=2)]: Done   8 tasks      | elapsed:   29.6s\n",
      "[Parallel(n_jobs=2)]: Done   9 tasks      | elapsed:   36.8s\n",
      "[Parallel(n_jobs=2)]: Done  10 tasks      | elapsed:   37.0s\n",
      "[Parallel(n_jobs=2)]: Done  11 tasks      | elapsed:   43.9s\n",
      "[Parallel(n_jobs=2)]: Done  12 tasks      | elapsed:   44.1s\n",
      "[Parallel(n_jobs=2)]: Done  13 tasks      | elapsed:   51.9s\n",
      "[Parallel(n_jobs=2)]: Done  14 tasks      | elapsed:   51.9s\n",
      "[Parallel(n_jobs=2)]: Done  15 tasks      | elapsed:   59.1s\n",
      "[Parallel(n_jobs=2)]: Done  16 tasks      | elapsed:   59.1s\n",
      "[Parallel(n_jobs=2)]: Done  17 tasks      | elapsed:  1.1min\n",
      "[Parallel(n_jobs=2)]: Done  18 tasks      | elapsed:  1.1min\n",
      "[Parallel(n_jobs=2)]: Done  19 tasks      | elapsed:  1.2min\n",
      "[Parallel(n_jobs=2)]: Done  20 tasks      | elapsed:  1.2min\n",
      "[Parallel(n_jobs=2)]: Done  21 tasks      | elapsed:  1.3min\n",
      "[Parallel(n_jobs=2)]: Done  22 out of  24 | elapsed:  1.3min remaining:    7.3s\n"
     ]
    },
    {
     "name": "stderr",
     "output_type": "stream",
     "text": [
      "\r",
      "|######--------------| 51/168  30% [elapsed: 02:56 left: 06:44]"
     ]
    },
    {
     "name": "stdout",
     "output_type": "stream",
     "text": [
      "[Parallel(n_jobs=2)]: Done  24 out of  24 | elapsed:  1.5min remaining:    0.0s\n",
      "[Parallel(n_jobs=2)]: Done  24 out of  24 | elapsed:  1.5min finished\n",
      "[Parallel(n_jobs=2)]: Using backend LokyBackend with 2 concurrent workers.\n",
      "[Parallel(n_jobs=2)]: Done   1 tasks      | elapsed:    7.6s\n",
      "[Parallel(n_jobs=2)]: Done   2 tasks      | elapsed:    7.8s\n",
      "[Parallel(n_jobs=2)]: Done   3 tasks      | elapsed:   14.9s\n",
      "[Parallel(n_jobs=2)]: Done   4 tasks      | elapsed:   15.1s\n",
      "[Parallel(n_jobs=2)]: Done   5 tasks      | elapsed:   22.8s\n",
      "[Parallel(n_jobs=2)]: Done   6 tasks      | elapsed:   23.0s\n",
      "[Parallel(n_jobs=2)]: Done   7 tasks      | elapsed:   29.8s\n",
      "[Parallel(n_jobs=2)]: Done   8 tasks      | elapsed:   29.9s\n",
      "[Parallel(n_jobs=2)]: Done   9 tasks      | elapsed:   37.2s\n",
      "[Parallel(n_jobs=2)]: Done  10 tasks      | elapsed:   37.4s\n",
      "[Parallel(n_jobs=2)]: Done  11 tasks      | elapsed:   44.5s\n",
      "[Parallel(n_jobs=2)]: Done  12 tasks      | elapsed:   44.8s\n",
      "[Parallel(n_jobs=2)]: Done  13 tasks      | elapsed:   52.2s\n",
      "[Parallel(n_jobs=2)]: Done  14 tasks      | elapsed:   52.2s\n",
      "[Parallel(n_jobs=2)]: Done  15 tasks      | elapsed:   59.6s\n",
      "[Parallel(n_jobs=2)]: Done  16 tasks      | elapsed:   59.9s\n",
      "[Parallel(n_jobs=2)]: Done  17 tasks      | elapsed:  1.1min\n",
      "[Parallel(n_jobs=2)]: Done  18 tasks      | elapsed:  1.1min\n",
      "[Parallel(n_jobs=2)]: Done  19 tasks      | elapsed:  1.2min\n",
      "[Parallel(n_jobs=2)]: Done  20 tasks      | elapsed:  1.2min\n",
      "[Parallel(n_jobs=2)]: Done  21 tasks      | elapsed:  1.4min\n",
      "[Parallel(n_jobs=2)]: Done  22 out of  24 | elapsed:  1.4min remaining:    7.5s\n"
     ]
    },
    {
     "name": "stderr",
     "output_type": "stream",
     "text": [
      "\r",
      "|#########-----------| 76/168  45% [elapsed: 04:26 left: 05:22]"
     ]
    },
    {
     "name": "stdout",
     "output_type": "stream",
     "text": [
      "[Parallel(n_jobs=2)]: Done  24 out of  24 | elapsed:  1.5min remaining:    0.0s\n",
      "[Parallel(n_jobs=2)]: Done  24 out of  24 | elapsed:  1.5min finished\n",
      "[Parallel(n_jobs=2)]: Using backend LokyBackend with 2 concurrent workers.\n",
      "[Parallel(n_jobs=2)]: Done   1 tasks      | elapsed:    7.7s\n",
      "[Parallel(n_jobs=2)]: Done   2 tasks      | elapsed:    7.7s\n",
      "[Parallel(n_jobs=2)]: Done   3 tasks      | elapsed:   14.9s\n",
      "[Parallel(n_jobs=2)]: Done   4 tasks      | elapsed:   14.9s\n",
      "[Parallel(n_jobs=2)]: Done   5 tasks      | elapsed:   22.3s\n",
      "[Parallel(n_jobs=2)]: Done   6 tasks      | elapsed:   22.5s\n",
      "[Parallel(n_jobs=2)]: Done   7 tasks      | elapsed:   30.1s\n",
      "/Users/beckermr/MEDS_DIR/des-pizza-slices-y6-test/DES0137-3749/sources-i/OPS/finalcut/Y6A2_PIFF/20181116-r5702/D00794802/p01/psf/D00794802_i_c31_r5702p01_piff-model.fits 0.044921875 77.30740495872281\n",
      "[Parallel(n_jobs=2)]: Done   8 tasks      | elapsed:   30.1s\n",
      "[Parallel(n_jobs=2)]: Done   9 tasks      | elapsed:   37.3s\n",
      "[Parallel(n_jobs=2)]: Done  10 tasks      | elapsed:   37.4s\n",
      "[Parallel(n_jobs=2)]: Done  11 tasks      | elapsed:   45.8s\n",
      "[Parallel(n_jobs=2)]: Done  12 tasks      | elapsed:   46.0s\n",
      "[Parallel(n_jobs=2)]: Done  13 tasks      | elapsed:   53.4s\n",
      "[Parallel(n_jobs=2)]: Done  14 tasks      | elapsed:   53.5s\n",
      "[Parallel(n_jobs=2)]: Done  15 tasks      | elapsed:  1.0min\n",
      "[Parallel(n_jobs=2)]: Done  16 tasks      | elapsed:  1.0min\n",
      "[Parallel(n_jobs=2)]: Done  17 tasks      | elapsed:  1.1min\n",
      "[Parallel(n_jobs=2)]: Done  18 tasks      | elapsed:  1.1min\n",
      "[Parallel(n_jobs=2)]: Done  19 tasks      | elapsed:  1.3min\n",
      "[Parallel(n_jobs=2)]: Done  20 tasks      | elapsed:  1.3min\n",
      "[Parallel(n_jobs=2)]: Done  21 tasks      | elapsed:  1.4min\n",
      "[Parallel(n_jobs=2)]: Done  22 out of  24 | elapsed:  1.4min remaining:    7.6s\n"
     ]
    },
    {
     "name": "stderr",
     "output_type": "stream",
     "text": [
      "\r",
      "|############--------| 101/168  60% [elapsed: 05:56 left: 03:56]"
     ]
    },
    {
     "name": "stdout",
     "output_type": "stream",
     "text": [
      "[Parallel(n_jobs=2)]: Done  24 out of  24 | elapsed:  1.5min remaining:    0.0s\n",
      "[Parallel(n_jobs=2)]: Done  24 out of  24 | elapsed:  1.5min finished\n",
      "[Parallel(n_jobs=2)]: Using backend LokyBackend with 2 concurrent workers.\n",
      "[Parallel(n_jobs=2)]: Done   1 tasks      | elapsed:    7.1s\n",
      "[Parallel(n_jobs=2)]: Done   2 tasks      | elapsed:    7.1s\n",
      "[Parallel(n_jobs=2)]: Done   3 tasks      | elapsed:   14.0s\n",
      "[Parallel(n_jobs=2)]: Done   4 tasks      | elapsed:   14.2s\n",
      "[Parallel(n_jobs=2)]: Done   5 tasks      | elapsed:   21.7s\n",
      "[Parallel(n_jobs=2)]: Done   6 tasks      | elapsed:   21.8s\n",
      "[Parallel(n_jobs=2)]: Done   7 tasks      | elapsed:   28.9s\n",
      "[Parallel(n_jobs=2)]: Done   8 tasks      | elapsed:   29.0s\n",
      "[Parallel(n_jobs=2)]: Done   9 tasks      | elapsed:   37.0s\n",
      "[Parallel(n_jobs=2)]: Done  10 tasks      | elapsed:   37.0s\n",
      "[Parallel(n_jobs=2)]: Done  11 tasks      | elapsed:   44.0s\n",
      "[Parallel(n_jobs=2)]: Done  12 tasks      | elapsed:   44.0s\n",
      "[Parallel(n_jobs=2)]: Done  13 tasks      | elapsed:   51.1s\n",
      "[Parallel(n_jobs=2)]: Done  14 tasks      | elapsed:   51.3s\n",
      "[Parallel(n_jobs=2)]: Done  15 tasks      | elapsed:   58.4s\n",
      "[Parallel(n_jobs=2)]: Done  16 tasks      | elapsed:   58.4s\n",
      "[Parallel(n_jobs=2)]: Done  17 tasks      | elapsed:  1.1min\n",
      "[Parallel(n_jobs=2)]: Done  18 tasks      | elapsed:  1.1min\n",
      "[Parallel(n_jobs=2)]: Done  19 tasks      | elapsed:  1.2min\n",
      "[Parallel(n_jobs=2)]: Done  20 tasks      | elapsed:  1.2min\n",
      "[Parallel(n_jobs=2)]: Done  21 tasks      | elapsed:  1.4min\n",
      "[Parallel(n_jobs=2)]: Done  22 out of  24 | elapsed:  1.4min remaining:    7.5s\n"
     ]
    },
    {
     "name": "stderr",
     "output_type": "stream",
     "text": [
      "\r",
      "|###############-----| 127/168  75% [elapsed: 07:29 left: 02:25]"
     ]
    },
    {
     "name": "stdout",
     "output_type": "stream",
     "text": [
      "[Parallel(n_jobs=2)]: Done  24 out of  24 | elapsed:  1.5min remaining:    0.0s\n",
      "[Parallel(n_jobs=2)]: Done  24 out of  24 | elapsed:  1.5min finished\n",
      "[Parallel(n_jobs=2)]: Using backend LokyBackend with 2 concurrent workers.\n",
      "[Parallel(n_jobs=2)]: Done   1 tasks      | elapsed:    8.8s\n",
      "[Parallel(n_jobs=2)]: Done   2 tasks      | elapsed:    8.9s\n",
      "[Parallel(n_jobs=2)]: Done   3 tasks      | elapsed:   16.2s\n",
      "[Parallel(n_jobs=2)]: Done   4 tasks      | elapsed:   16.3s\n",
      "[Parallel(n_jobs=2)]: Done   5 tasks      | elapsed:   23.6s\n",
      "[Parallel(n_jobs=2)]: Done   6 tasks      | elapsed:   23.7s\n",
      "[Parallel(n_jobs=2)]: Done   7 tasks      | elapsed:   31.8s\n",
      "[Parallel(n_jobs=2)]: Done   8 tasks      | elapsed:   32.2s\n",
      "[Parallel(n_jobs=2)]: Done   9 tasks      | elapsed:   39.5s\n",
      "[Parallel(n_jobs=2)]: Done  10 tasks      | elapsed:   39.7s\n",
      "[Parallel(n_jobs=2)]: Done  11 tasks      | elapsed:   47.9s\n",
      "[Parallel(n_jobs=2)]: Done  12 tasks      | elapsed:   47.9s\n",
      "[Parallel(n_jobs=2)]: Done  13 tasks      | elapsed:   54.7s\n",
      "[Parallel(n_jobs=2)]: Done  14 tasks      | elapsed:   55.0s\n",
      "[Parallel(n_jobs=2)]: Done  15 tasks      | elapsed:  1.0min\n",
      "[Parallel(n_jobs=2)]: Done  16 tasks      | elapsed:  1.0min\n",
      "[Parallel(n_jobs=2)]: Done  17 tasks      | elapsed:  1.2min\n",
      "[Parallel(n_jobs=2)]: Done  18 tasks      | elapsed:  1.2min\n",
      "[Parallel(n_jobs=2)]: Done  19 tasks      | elapsed:  1.3min\n",
      "[Parallel(n_jobs=2)]: Done  20 tasks      | elapsed:  1.3min\n",
      "[Parallel(n_jobs=2)]: Done  21 tasks      | elapsed:  1.4min\n",
      "[Parallel(n_jobs=2)]: Done  22 out of  24 | elapsed:  1.4min remaining:    7.7s\n"
     ]
    },
    {
     "name": "stderr",
     "output_type": "stream",
     "text": [
      "|####################| 168/168 100% [elapsed: 09:00 left: 00:00]"
     ]
    },
    {
     "name": "stdout",
     "output_type": "stream",
     "text": [
      "[Parallel(n_jobs=2)]: Done  24 out of  24 | elapsed:  1.5min remaining:    0.0s\n",
      "[Parallel(n_jobs=2)]: Done  24 out of  24 | elapsed:  1.5min finished\n",
      "DES0137-3749-z\n"
     ]
    },
    {
     "name": "stderr",
     "output_type": "stream",
     "text": [
      "\n",
      "|--------------------| 0/167   0% [elapsed: 00:00 left: ?]"
     ]
    },
    {
     "name": "stdout",
     "output_type": "stream",
     "text": [
      "[Parallel(n_jobs=2)]: Using backend LokyBackend with 2 concurrent workers.\n",
      "[Parallel(n_jobs=2)]: Done   1 tasks      | elapsed:    7.2s\n",
      "[Parallel(n_jobs=2)]: Done   2 tasks      | elapsed:    7.2s\n",
      "[Parallel(n_jobs=2)]: Done   3 tasks      | elapsed:   14.5s\n",
      "[Parallel(n_jobs=2)]: Done   4 tasks      | elapsed:   14.8s\n",
      "[Parallel(n_jobs=2)]: Done   5 tasks      | elapsed:   21.6s\n",
      "[Parallel(n_jobs=2)]: Done   6 tasks      | elapsed:   22.2s\n",
      "[Parallel(n_jobs=2)]: Done   7 tasks      | elapsed:   28.6s\n",
      "[Parallel(n_jobs=2)]: Done   8 tasks      | elapsed:   29.4s\n",
      "[Parallel(n_jobs=2)]: Done   9 tasks      | elapsed:   35.9s\n",
      "[Parallel(n_jobs=2)]: Done  10 tasks      | elapsed:   36.6s\n",
      "[Parallel(n_jobs=2)]: Done  11 tasks      | elapsed:   43.2s\n",
      "[Parallel(n_jobs=2)]: Done  12 tasks      | elapsed:   43.6s\n",
      "[Parallel(n_jobs=2)]: Done  13 tasks      | elapsed:   50.3s\n",
      "[Parallel(n_jobs=2)]: Done  14 tasks      | elapsed:   50.7s\n",
      "[Parallel(n_jobs=2)]: Done  15 tasks      | elapsed:   58.3s\n",
      "[Parallel(n_jobs=2)]: Done  16 tasks      | elapsed:   58.6s\n",
      "[Parallel(n_jobs=2)]: Done  17 tasks      | elapsed:  1.1min\n",
      "[Parallel(n_jobs=2)]: Done  18 tasks      | elapsed:  1.1min\n",
      "[Parallel(n_jobs=2)]: Done  19 tasks      | elapsed:  1.2min\n",
      "[Parallel(n_jobs=2)]: Done  20 tasks      | elapsed:  1.2min\n",
      "[Parallel(n_jobs=2)]: Done  21 tasks      | elapsed:  1.3min\n",
      "[Parallel(n_jobs=2)]: Done  22 out of  24 | elapsed:  1.3min remaining:    7.3s\n"
     ]
    },
    {
     "name": "stderr",
     "output_type": "stream",
     "text": [
      "\r",
      "|###-----------------| 26/167  15% [elapsed: 01:27 left: 07:53]"
     ]
    },
    {
     "name": "stdout",
     "output_type": "stream",
     "text": [
      "[Parallel(n_jobs=2)]: Done  24 out of  24 | elapsed:  1.5min remaining:    0.0s\n",
      "[Parallel(n_jobs=2)]: Done  24 out of  24 | elapsed:  1.5min finished\n",
      "[Parallel(n_jobs=2)]: Using backend LokyBackend with 2 concurrent workers.\n",
      "[Parallel(n_jobs=2)]: Done   1 tasks      | elapsed:    7.8s\n",
      "[Parallel(n_jobs=2)]: Done   2 tasks      | elapsed:    7.9s\n",
      "[Parallel(n_jobs=2)]: Done   3 tasks      | elapsed:   15.3s\n",
      "[Parallel(n_jobs=2)]: Done   4 tasks      | elapsed:   15.3s\n",
      "[Parallel(n_jobs=2)]: Done   5 tasks      | elapsed:   22.5s\n",
      "[Parallel(n_jobs=2)]: Done   6 tasks      | elapsed:   22.7s\n",
      "[Parallel(n_jobs=2)]: Done   7 tasks      | elapsed:   29.8s\n",
      "[Parallel(n_jobs=2)]: Done   8 tasks      | elapsed:   30.0s\n",
      "[Parallel(n_jobs=2)]: Done   9 tasks      | elapsed:   37.5s\n",
      "[Parallel(n_jobs=2)]: Done  10 tasks      | elapsed:   37.5s\n",
      "[Parallel(n_jobs=2)]: Done  11 tasks      | elapsed:   44.8s\n",
      "[Parallel(n_jobs=2)]: Done  12 tasks      | elapsed:   44.9s\n",
      "[Parallel(n_jobs=2)]: Done  13 tasks      | elapsed:   52.7s\n",
      "[Parallel(n_jobs=2)]: Done  14 tasks      | elapsed:   52.8s\n",
      "[Parallel(n_jobs=2)]: Done  15 tasks      | elapsed:  1.0min\n",
      "[Parallel(n_jobs=2)]: Done  16 tasks      | elapsed:  1.0min\n",
      "[Parallel(n_jobs=2)]: Done  17 tasks      | elapsed:  1.1min\n",
      "[Parallel(n_jobs=2)]: Done  18 tasks      | elapsed:  1.1min\n",
      "[Parallel(n_jobs=2)]: Done  19 tasks      | elapsed:  1.2min\n",
      "[Parallel(n_jobs=2)]: Done  20 tasks      | elapsed:  1.2min\n",
      "[Parallel(n_jobs=2)]: Done  21 tasks      | elapsed:  1.4min\n",
      "[Parallel(n_jobs=2)]: Done  22 out of  24 | elapsed:  1.4min remaining:    7.4s\n"
     ]
    },
    {
     "name": "stderr",
     "output_type": "stream",
     "text": [
      "\r",
      "|######--------------| 52/167  31% [elapsed: 02:55 left: 06:29]"
     ]
    },
    {
     "name": "stdout",
     "output_type": "stream",
     "text": [
      "[Parallel(n_jobs=2)]: Done  24 out of  24 | elapsed:  1.5min remaining:    0.0s\n",
      "[Parallel(n_jobs=2)]: Done  24 out of  24 | elapsed:  1.5min finished\n",
      "[Parallel(n_jobs=2)]: Using backend LokyBackend with 2 concurrent workers.\n",
      "[Parallel(n_jobs=2)]: Done   1 tasks      | elapsed:    8.0s\n",
      "[Parallel(n_jobs=2)]: Done   2 tasks      | elapsed:    8.0s\n",
      "[Parallel(n_jobs=2)]: Done   3 tasks      | elapsed:   14.7s\n",
      "[Parallel(n_jobs=2)]: Done   4 tasks      | elapsed:   14.7s\n",
      "[Parallel(n_jobs=2)]: Done   5 tasks      | elapsed:   22.5s\n",
      "[Parallel(n_jobs=2)]: Done   6 tasks      | elapsed:   22.6s\n",
      "[Parallel(n_jobs=2)]: Done   7 tasks      | elapsed:   29.2s\n",
      "[Parallel(n_jobs=2)]: Done   8 tasks      | elapsed:   29.3s\n",
      "[Parallel(n_jobs=2)]: Done   9 tasks      | elapsed:   36.6s\n",
      "[Parallel(n_jobs=2)]: Done  10 tasks      | elapsed:   36.8s\n",
      "[Parallel(n_jobs=2)]: Done  11 tasks      | elapsed:   43.4s\n",
      "[Parallel(n_jobs=2)]: Done  12 tasks      | elapsed:   43.6s\n",
      "[Parallel(n_jobs=2)]: Done  13 tasks      | elapsed:   50.1s\n",
      "[Parallel(n_jobs=2)]: Done  14 tasks      | elapsed:   50.4s\n",
      "[Parallel(n_jobs=2)]: Done  15 tasks      | elapsed:   57.1s\n",
      "[Parallel(n_jobs=2)]: Done  16 tasks      | elapsed:   57.3s\n",
      "[Parallel(n_jobs=2)]: Done  17 tasks      | elapsed:  1.1min\n",
      "[Parallel(n_jobs=2)]: Done  18 tasks      | elapsed:  1.1min\n",
      "[Parallel(n_jobs=2)]: Done  19 tasks      | elapsed:  1.2min\n",
      "[Parallel(n_jobs=2)]: Done  20 tasks      | elapsed:  1.2min\n",
      "[Parallel(n_jobs=2)]: Done  21 tasks      | elapsed:  1.3min\n",
      "[Parallel(n_jobs=2)]: Done  22 out of  24 | elapsed:  1.3min remaining:    7.1s\n"
     ]
    },
    {
     "name": "stderr",
     "output_type": "stream",
     "text": [
      "\r",
      "|#########-----------| 78/167  46% [elapsed: 04:21 left: 04:58]"
     ]
    },
    {
     "name": "stdout",
     "output_type": "stream",
     "text": [
      "[Parallel(n_jobs=2)]: Done  24 out of  24 | elapsed:  1.4min remaining:    0.0s\n",
      "[Parallel(n_jobs=2)]: Done  24 out of  24 | elapsed:  1.4min finished\n",
      "[Parallel(n_jobs=2)]: Using backend LokyBackend with 2 concurrent workers.\n",
      "[Parallel(n_jobs=2)]: Done   1 tasks      | elapsed:    6.6s\n",
      "[Parallel(n_jobs=2)]: Done   2 tasks      | elapsed:    6.8s\n",
      "[Parallel(n_jobs=2)]: Done   3 tasks      | elapsed:   13.4s\n",
      "[Parallel(n_jobs=2)]: Done   4 tasks      | elapsed:   13.4s\n",
      "[Parallel(n_jobs=2)]: Done   5 tasks      | elapsed:   20.2s\n",
      "[Parallel(n_jobs=2)]: Done   6 tasks      | elapsed:   20.3s\n",
      "[Parallel(n_jobs=2)]: Done   7 tasks      | elapsed:   27.1s\n",
      "[Parallel(n_jobs=2)]: Done   8 tasks      | elapsed:   27.2s\n",
      "[Parallel(n_jobs=2)]: Done   9 tasks      | elapsed:   33.9s\n",
      "[Parallel(n_jobs=2)]: Done  10 tasks      | elapsed:   34.0s\n",
      "[Parallel(n_jobs=2)]: Done  11 tasks      | elapsed:   40.6s\n",
      "[Parallel(n_jobs=2)]: Done  12 tasks      | elapsed:   40.8s\n",
      "[Parallel(n_jobs=2)]: Done  13 tasks      | elapsed:   47.9s\n",
      "[Parallel(n_jobs=2)]: Done  14 tasks      | elapsed:   48.3s\n",
      "[Parallel(n_jobs=2)]: Done  15 tasks      | elapsed:   55.1s\n",
      "[Parallel(n_jobs=2)]: Done  16 tasks      | elapsed:   55.6s\n",
      "[Parallel(n_jobs=2)]: Done  17 tasks      | elapsed:  1.0min\n",
      "[Parallel(n_jobs=2)]: Done  18 tasks      | elapsed:  1.0min\n",
      "[Parallel(n_jobs=2)]: Done  19 tasks      | elapsed:  1.2min\n",
      "[Parallel(n_jobs=2)]: Done  20 tasks      | elapsed:  1.2min\n",
      "[Parallel(n_jobs=2)]: Done  21 tasks      | elapsed:  1.3min\n",
      "[Parallel(n_jobs=2)]: Done  22 out of  24 | elapsed:  1.3min remaining:    7.0s\n"
     ]
    },
    {
     "name": "stderr",
     "output_type": "stream",
     "text": [
      "\r",
      "|############--------| 103/167  61% [elapsed: 05:45 left: 03:34]"
     ]
    },
    {
     "name": "stdout",
     "output_type": "stream",
     "text": [
      "[Parallel(n_jobs=2)]: Done  24 out of  24 | elapsed:  1.4min remaining:    0.0s\n",
      "[Parallel(n_jobs=2)]: Done  24 out of  24 | elapsed:  1.4min finished\n",
      "[Parallel(n_jobs=2)]: Using backend LokyBackend with 2 concurrent workers.\n",
      "[Parallel(n_jobs=2)]: Done   1 tasks      | elapsed:    6.9s\n",
      "[Parallel(n_jobs=2)]: Done   2 tasks      | elapsed:    7.0s\n",
      "[Parallel(n_jobs=2)]: Done   3 tasks      | elapsed:   13.6s\n",
      "[Parallel(n_jobs=2)]: Done   4 tasks      | elapsed:   13.8s\n",
      "[Parallel(n_jobs=2)]: Done   5 tasks      | elapsed:   20.3s\n",
      "[Parallel(n_jobs=2)]: Done   6 tasks      | elapsed:   20.4s\n",
      "[Parallel(n_jobs=2)]: Done   7 tasks      | elapsed:   27.0s\n",
      "[Parallel(n_jobs=2)]: Done   8 tasks      | elapsed:   27.1s\n",
      "[Parallel(n_jobs=2)]: Done   9 tasks      | elapsed:   34.4s\n",
      "[Parallel(n_jobs=2)]: Done  10 tasks      | elapsed:   34.6s\n",
      "[Parallel(n_jobs=2)]: Done  11 tasks      | elapsed:   41.4s\n",
      "[Parallel(n_jobs=2)]: Done  12 tasks      | elapsed:   41.7s\n",
      "[Parallel(n_jobs=2)]: Done  13 tasks      | elapsed:   48.5s\n",
      "[Parallel(n_jobs=2)]: Done  14 tasks      | elapsed:   49.0s\n",
      "[Parallel(n_jobs=2)]: Done  15 tasks      | elapsed:   55.1s\n",
      "[Parallel(n_jobs=2)]: Done  16 tasks      | elapsed:   55.7s\n",
      "[Parallel(n_jobs=2)]: Done  17 tasks      | elapsed:  1.0min\n",
      "[Parallel(n_jobs=2)]: Done  18 tasks      | elapsed:  1.0min\n",
      "[Parallel(n_jobs=2)]: Done  19 tasks      | elapsed:  1.1min\n",
      "[Parallel(n_jobs=2)]: Done  20 tasks      | elapsed:  1.2min\n",
      "[Parallel(n_jobs=2)]: Done  21 tasks      | elapsed:  1.3min\n",
      "[Parallel(n_jobs=2)]: Done  22 out of  24 | elapsed:  1.3min remaining:    6.9s\n"
     ]
    },
    {
     "name": "stderr",
     "output_type": "stream",
     "text": [
      "\r",
      "|###############-----| 129/167  77% [elapsed: 07:08 left: 02:06]"
     ]
    },
    {
     "name": "stdout",
     "output_type": "stream",
     "text": [
      "[Parallel(n_jobs=2)]: Done  24 out of  24 | elapsed:  1.4min remaining:    0.0s\n",
      "[Parallel(n_jobs=2)]: Done  24 out of  24 | elapsed:  1.4min finished\n",
      "[Parallel(n_jobs=2)]: Using backend LokyBackend with 2 concurrent workers.\n",
      "[Parallel(n_jobs=2)]: Done   1 tasks      | elapsed:    7.9s\n",
      "[Parallel(n_jobs=2)]: Done   2 tasks      | elapsed:    8.1s\n",
      "[Parallel(n_jobs=2)]: Done   3 tasks      | elapsed:   14.8s\n",
      "[Parallel(n_jobs=2)]: Done   4 tasks      | elapsed:   14.9s\n",
      "[Parallel(n_jobs=2)]: Done   5 tasks      | elapsed:   21.8s\n",
      "[Parallel(n_jobs=2)]: Done   6 tasks      | elapsed:   22.1s\n",
      "[Parallel(n_jobs=2)]: Done   7 tasks      | elapsed:   28.7s\n",
      "[Parallel(n_jobs=2)]: Done   8 tasks      | elapsed:   28.9s\n",
      "[Parallel(n_jobs=2)]: Done   9 tasks      | elapsed:   35.4s\n",
      "[Parallel(n_jobs=2)]: Done  10 tasks      | elapsed:   35.5s\n",
      "[Parallel(n_jobs=2)]: Done  11 tasks      | elapsed:   42.4s\n",
      "[Parallel(n_jobs=2)]: Done  12 tasks      | elapsed:   42.6s\n",
      "[Parallel(n_jobs=2)]: Done  13 tasks      | elapsed:   49.1s\n",
      "[Parallel(n_jobs=2)]: Done  14 tasks      | elapsed:   49.2s\n",
      "[Parallel(n_jobs=2)]: Done  15 tasks      | elapsed:   55.9s\n",
      "[Parallel(n_jobs=2)]: Done  16 tasks      | elapsed:   56.2s\n",
      "[Parallel(n_jobs=2)]: Done  17 tasks      | elapsed:  1.1min\n",
      "[Parallel(n_jobs=2)]: Done  18 tasks      | elapsed:  1.1min\n",
      "[Parallel(n_jobs=2)]: Done  19 tasks      | elapsed:  1.2min\n",
      "[Parallel(n_jobs=2)]: Done  20 tasks      | elapsed:  1.2min\n",
      "[Parallel(n_jobs=2)]: Done  21 tasks      | elapsed:  1.3min\n",
      "[Parallel(n_jobs=2)]: Done  22 out of  24 | elapsed:  1.3min remaining:    7.3s\n"
     ]
    },
    {
     "name": "stderr",
     "output_type": "stream",
     "text": [
      "|####################| 167/167 100% [elapsed: 08:35 left: 00:00]"
     ]
    },
    {
     "name": "stdout",
     "output_type": "stream",
     "text": [
      "[Parallel(n_jobs=2)]: Done  24 out of  24 | elapsed:  1.5min remaining:    0.0s\n",
      "[Parallel(n_jobs=2)]: Done  24 out of  24 | elapsed:  1.5min finished\n",
      "DES0137-3749-r\n"
     ]
    },
    {
     "name": "stderr",
     "output_type": "stream",
     "text": [
      "\n",
      "|--------------------| 0/160   0% [elapsed: 00:00 left: ?]"
     ]
    },
    {
     "name": "stdout",
     "output_type": "stream",
     "text": [
      "[Parallel(n_jobs=2)]: Using backend LokyBackend with 2 concurrent workers.\n",
      "[Parallel(n_jobs=2)]: Done   1 tasks      | elapsed:    6.8s\n",
      "[Parallel(n_jobs=2)]: Done   2 tasks      | elapsed:    7.0s\n",
      "[Parallel(n_jobs=2)]: Done   3 tasks      | elapsed:   13.8s\n",
      "[Parallel(n_jobs=2)]: Done   4 tasks      | elapsed:   14.0s\n",
      "[Parallel(n_jobs=2)]: Done   5 tasks      | elapsed:   21.0s\n",
      "[Parallel(n_jobs=2)]: Done   6 tasks      | elapsed:   21.2s\n",
      "[Parallel(n_jobs=2)]: Done   7 tasks      | elapsed:   28.2s\n",
      "[Parallel(n_jobs=2)]: Done   8 tasks      | elapsed:   28.3s\n",
      "[Parallel(n_jobs=2)]: Done   9 tasks      | elapsed:   35.0s\n",
      "[Parallel(n_jobs=2)]: Done  10 tasks      | elapsed:   35.0s\n",
      "[Parallel(n_jobs=2)]: Done  11 tasks      | elapsed:   43.0s\n",
      "[Parallel(n_jobs=2)]: Done  12 tasks      | elapsed:   43.1s\n",
      "[Parallel(n_jobs=2)]: Done  13 tasks      | elapsed:   49.9s\n",
      "[Parallel(n_jobs=2)]: Done  14 tasks      | elapsed:   49.9s\n",
      "[Parallel(n_jobs=2)]: Done  15 tasks      | elapsed:   57.0s\n",
      "[Parallel(n_jobs=2)]: Done  16 tasks      | elapsed:   57.1s\n",
      "[Parallel(n_jobs=2)]: Done  17 tasks      | elapsed:  1.1min\n",
      "[Parallel(n_jobs=2)]: Done  18 tasks      | elapsed:  1.1min\n",
      "[Parallel(n_jobs=2)]: Done  19 tasks      | elapsed:  1.2min\n",
      "[Parallel(n_jobs=2)]: Done  20 tasks      | elapsed:  1.2min\n",
      "[Parallel(n_jobs=2)]: Done  21 tasks      | elapsed:  1.3min\n",
      "[Parallel(n_jobs=2)]: Done  22 out of  24 | elapsed:  1.3min remaining:    7.1s\n"
     ]
    },
    {
     "name": "stderr",
     "output_type": "stream",
     "text": [
      "\r",
      "|###-----------------| 26/160  16% [elapsed: 01:25 left: 07:18]"
     ]
    },
    {
     "name": "stdout",
     "output_type": "stream",
     "text": [
      "[Parallel(n_jobs=2)]: Done  24 out of  24 | elapsed:  1.4min remaining:    0.0s\n",
      "[Parallel(n_jobs=2)]: Done  24 out of  24 | elapsed:  1.4min finished\n",
      "[Parallel(n_jobs=2)]: Using backend LokyBackend with 2 concurrent workers.\n",
      "[Parallel(n_jobs=2)]: Done   1 tasks      | elapsed:    7.0s\n",
      "[Parallel(n_jobs=2)]: Done   2 tasks      | elapsed:    7.1s\n",
      "[Parallel(n_jobs=2)]: Done   3 tasks      | elapsed:   14.2s\n",
      "[Parallel(n_jobs=2)]: Done   4 tasks      | elapsed:   14.3s\n",
      "[Parallel(n_jobs=2)]: Done   5 tasks      | elapsed:   21.0s\n",
      "[Parallel(n_jobs=2)]: Done   6 tasks      | elapsed:   21.2s\n",
      "[Parallel(n_jobs=2)]: Done   7 tasks      | elapsed:   27.8s\n",
      "[Parallel(n_jobs=2)]: Done   8 tasks      | elapsed:   27.9s\n",
      "[Parallel(n_jobs=2)]: Done   9 tasks      | elapsed:   34.6s\n",
      "[Parallel(n_jobs=2)]: Done  10 tasks      | elapsed:   34.8s\n",
      "[Parallel(n_jobs=2)]: Done  11 tasks      | elapsed:   41.5s\n",
      "[Parallel(n_jobs=2)]: Done  12 tasks      | elapsed:   41.6s\n",
      "[Parallel(n_jobs=2)]: Done  13 tasks      | elapsed:   48.3s\n",
      "[Parallel(n_jobs=2)]: Done  14 tasks      | elapsed:   48.6s\n",
      "[Parallel(n_jobs=2)]: Done  15 tasks      | elapsed:   55.2s\n",
      "[Parallel(n_jobs=2)]: Done  16 tasks      | elapsed:   55.4s\n",
      "[Parallel(n_jobs=2)]: Done  17 tasks      | elapsed:  1.0min\n",
      "[Parallel(n_jobs=2)]: Done  18 tasks      | elapsed:  1.0min\n",
      "[Parallel(n_jobs=2)]: Done  19 tasks      | elapsed:  1.2min\n",
      "[Parallel(n_jobs=2)]: Done  20 tasks      | elapsed:  1.2min\n",
      "[Parallel(n_jobs=2)]: Done  21 tasks      | elapsed:  1.3min\n",
      "[Parallel(n_jobs=2)]: Done  22 out of  24 | elapsed:  1.3min remaining:    7.0s\n"
     ]
    },
    {
     "name": "stderr",
     "output_type": "stream",
     "text": [
      "\r",
      "|######--------------| 51/160  31% [elapsed: 02:49 left: 06:03]"
     ]
    },
    {
     "name": "stdout",
     "output_type": "stream",
     "text": [
      "[Parallel(n_jobs=2)]: Done  24 out of  24 | elapsed:  1.4min remaining:    0.0s\n",
      "[Parallel(n_jobs=2)]: Done  24 out of  24 | elapsed:  1.4min finished\n",
      "[Parallel(n_jobs=2)]: Using backend LokyBackend with 2 concurrent workers.\n",
      "[Parallel(n_jobs=2)]: Done   1 tasks      | elapsed:    7.2s\n",
      "[Parallel(n_jobs=2)]: Done   2 tasks      | elapsed:    7.4s\n",
      "[Parallel(n_jobs=2)]: Done   3 tasks      | elapsed:   14.2s\n",
      "[Parallel(n_jobs=2)]: Done   4 tasks      | elapsed:   14.5s\n",
      "[Parallel(n_jobs=2)]: Done   5 tasks      | elapsed:   21.4s\n",
      "[Parallel(n_jobs=2)]: Done   6 tasks      | elapsed:   21.6s\n",
      "[Parallel(n_jobs=2)]: Done   7 tasks      | elapsed:   28.4s\n",
      "[Parallel(n_jobs=2)]: Done   8 tasks      | elapsed:   28.4s\n",
      "[Parallel(n_jobs=2)]: Done   9 tasks      | elapsed:   35.3s\n",
      "[Parallel(n_jobs=2)]: Done  10 tasks      | elapsed:   35.4s\n",
      "[Parallel(n_jobs=2)]: Done  11 tasks      | elapsed:   41.9s\n",
      "[Parallel(n_jobs=2)]: Done  12 tasks      | elapsed:   42.3s\n",
      "[Parallel(n_jobs=2)]: Done  13 tasks      | elapsed:   49.2s\n",
      "[Parallel(n_jobs=2)]: Done  14 tasks      | elapsed:   49.6s\n",
      "[Parallel(n_jobs=2)]: Done  15 tasks      | elapsed:   56.2s\n",
      "[Parallel(n_jobs=2)]: Done  16 tasks      | elapsed:   56.7s\n",
      "[Parallel(n_jobs=2)]: Done  17 tasks      | elapsed:  1.1min\n",
      "[Parallel(n_jobs=2)]: Done  18 tasks      | elapsed:  1.1min\n",
      "[Parallel(n_jobs=2)]: Done  19 tasks      | elapsed:  1.2min\n",
      "[Parallel(n_jobs=2)]: Done  20 tasks      | elapsed:  1.2min\n",
      "[Parallel(n_jobs=2)]: Done  21 tasks      | elapsed:  1.3min\n",
      "[Parallel(n_jobs=2)]: Done  22 out of  24 | elapsed:  1.3min remaining:    7.1s\n"
     ]
    },
    {
     "name": "stderr",
     "output_type": "stream",
     "text": [
      "\r",
      "|#########-----------| 76/160  47% [elapsed: 04:15 left: 04:41]"
     ]
    },
    {
     "name": "stdout",
     "output_type": "stream",
     "text": [
      "[Parallel(n_jobs=2)]: Done  24 out of  24 | elapsed:  1.4min remaining:    0.0s\n",
      "[Parallel(n_jobs=2)]: Done  24 out of  24 | elapsed:  1.4min finished\n",
      "[Parallel(n_jobs=2)]: Using backend LokyBackend with 2 concurrent workers.\n",
      "[Parallel(n_jobs=2)]: Done   1 tasks      | elapsed:    7.3s\n",
      "[Parallel(n_jobs=2)]: Done   2 tasks      | elapsed:    7.4s\n",
      "[Parallel(n_jobs=2)]: Done   3 tasks      | elapsed:   14.2s\n",
      "[Parallel(n_jobs=2)]: Done   4 tasks      | elapsed:   14.2s\n",
      "[Parallel(n_jobs=2)]: Done   5 tasks      | elapsed:   21.3s\n",
      "[Parallel(n_jobs=2)]: Done   6 tasks      | elapsed:   21.5s\n",
      "[Parallel(n_jobs=2)]: Done   7 tasks      | elapsed:   29.1s\n",
      "[Parallel(n_jobs=2)]: Done   8 tasks      | elapsed:   29.3s\n",
      "[Parallel(n_jobs=2)]: Done   9 tasks      | elapsed:   37.4s\n",
      "[Parallel(n_jobs=2)]: Done  10 tasks      | elapsed:   37.7s\n",
      "[Parallel(n_jobs=2)]: Done  11 tasks      | elapsed:   44.6s\n",
      "[Parallel(n_jobs=2)]: Done  12 tasks      | elapsed:   44.9s\n",
      "[Parallel(n_jobs=2)]: Done  13 tasks      | elapsed:   51.6s\n",
      "[Parallel(n_jobs=2)]: Done  14 tasks      | elapsed:   52.0s\n",
      "[Parallel(n_jobs=2)]: Done  15 tasks      | elapsed:   58.7s\n",
      "[Parallel(n_jobs=2)]: Done  16 tasks      | elapsed:   58.8s\n",
      "[Parallel(n_jobs=2)]: Done  17 tasks      | elapsed:  1.1min\n",
      "[Parallel(n_jobs=2)]: Done  18 tasks      | elapsed:  1.1min\n",
      "[Parallel(n_jobs=2)]: Done  19 tasks      | elapsed:  1.2min\n",
      "[Parallel(n_jobs=2)]: Done  20 tasks      | elapsed:  1.2min\n",
      "[Parallel(n_jobs=2)]: Done  21 tasks      | elapsed:  1.3min\n",
      "[Parallel(n_jobs=2)]: Done  22 out of  24 | elapsed:  1.3min remaining:    7.2s\n",
      "[Parallel(n_jobs=2)]: Done  24 out of  24 | elapsed:  1.5min remaining:    0.0s\n",
      "[Parallel(n_jobs=2)]: Done  24 out of  24 | elapsed:  1.5min finished\n"
     ]
    },
    {
     "name": "stderr",
     "output_type": "stream",
     "text": [
      "\r",
      "|############--------| 101/160  63% [elapsed: 05:42 left: 03:20]"
     ]
    },
    {
     "name": "stdout",
     "output_type": "stream",
     "text": [
      "[Parallel(n_jobs=2)]: Using backend LokyBackend with 2 concurrent workers.\n",
      "[Parallel(n_jobs=2)]: Done   1 tasks      | elapsed:    6.8s\n",
      "[Parallel(n_jobs=2)]: Done   2 tasks      | elapsed:    7.0s\n",
      "[Parallel(n_jobs=2)]: Done   3 tasks      | elapsed:   13.6s\n",
      "[Parallel(n_jobs=2)]: Done   4 tasks      | elapsed:   13.9s\n",
      "[Parallel(n_jobs=2)]: Done   5 tasks      | elapsed:   20.4s\n",
      "[Parallel(n_jobs=2)]: Done   6 tasks      | elapsed:   20.7s\n",
      "[Parallel(n_jobs=2)]: Done   7 tasks      | elapsed:   27.4s\n",
      "[Parallel(n_jobs=2)]: Done   8 tasks      | elapsed:   27.8s\n",
      "[Parallel(n_jobs=2)]: Done   9 tasks      | elapsed:   34.2s\n",
      "[Parallel(n_jobs=2)]: Done  10 tasks      | elapsed:   34.7s\n",
      "[Parallel(n_jobs=2)]: Done  11 tasks      | elapsed:   41.5s\n",
      "[Parallel(n_jobs=2)]: Done  12 tasks      | elapsed:   41.9s\n",
      "[Parallel(n_jobs=2)]: Done  13 tasks      | elapsed:   48.3s\n",
      "[Parallel(n_jobs=2)]: Done  14 tasks      | elapsed:   48.8s\n",
      "[Parallel(n_jobs=2)]: Done  15 tasks      | elapsed:   55.7s\n",
      "[Parallel(n_jobs=2)]: Done  16 tasks      | elapsed:   56.2s\n",
      "[Parallel(n_jobs=2)]: Done  17 tasks      | elapsed:  1.0min\n",
      "[Parallel(n_jobs=2)]: Done  18 tasks      | elapsed:  1.1min\n",
      "[Parallel(n_jobs=2)]: Done  19 tasks      | elapsed:  1.2min\n",
      "[Parallel(n_jobs=2)]: Done  20 tasks      | elapsed:  1.2min\n",
      "[Parallel(n_jobs=2)]: Done  21 tasks      | elapsed:  1.3min\n",
      "[Parallel(n_jobs=2)]: Done  22 out of  24 | elapsed:  1.3min remaining:    7.1s\n"
     ]
    },
    {
     "name": "stderr",
     "output_type": "stream",
     "text": [
      "\r",
      "|###############-----| 127/160  79% [elapsed: 07:07 left: 01:50]"
     ]
    },
    {
     "name": "stdout",
     "output_type": "stream",
     "text": [
      "[Parallel(n_jobs=2)]: Done  24 out of  24 | elapsed:  1.4min remaining:    0.0s\n",
      "[Parallel(n_jobs=2)]: Done  24 out of  24 | elapsed:  1.4min finished\n",
      "[Parallel(n_jobs=2)]: Using backend LokyBackend with 2 concurrent workers.\n",
      "[Parallel(n_jobs=2)]: Done   1 tasks      | elapsed:    7.2s\n",
      "[Parallel(n_jobs=2)]: Done   2 tasks      | elapsed:    7.4s\n",
      "[Parallel(n_jobs=2)]: Done   3 tasks      | elapsed:   14.2s\n",
      "[Parallel(n_jobs=2)]: Done   4 tasks      | elapsed:   14.6s\n",
      "[Parallel(n_jobs=2)]: Done   5 tasks      | elapsed:   21.1s\n",
      "[Parallel(n_jobs=2)]: Done   6 tasks      | elapsed:   21.7s\n",
      "[Parallel(n_jobs=2)]: Done   7 tasks      | elapsed:   28.2s\n",
      "[Parallel(n_jobs=2)]: Done   8 tasks      | elapsed:   28.8s\n",
      "[Parallel(n_jobs=2)]: Done   9 tasks      | elapsed:   35.9s\n",
      "[Parallel(n_jobs=2)]: Done  10 tasks      | elapsed:   36.2s\n",
      "[Parallel(n_jobs=2)]: Done  11 tasks      | elapsed:   42.8s\n",
      "[Parallel(n_jobs=2)]: Done  12 tasks      | elapsed:   43.2s\n",
      "[Parallel(n_jobs=2)]: Done  13 tasks      | elapsed:   49.5s\n",
      "[Parallel(n_jobs=2)]: Done  14 tasks      | elapsed:   50.2s\n",
      "[Parallel(n_jobs=2)]: Done  15 tasks      | elapsed:   56.2s\n",
      "[Parallel(n_jobs=2)]: Done  16 tasks      | elapsed:   57.1s\n",
      "[Parallel(n_jobs=2)]: Done  17 tasks      | elapsed:  1.0min\n",
      "[Parallel(n_jobs=2)]: Done  18 tasks      | elapsed:  1.1min\n",
      "[Parallel(n_jobs=2)]: Done  19 tasks      | elapsed:  1.2min\n",
      "[Parallel(n_jobs=2)]: Done  20 tasks      | elapsed:  1.2min\n",
      "[Parallel(n_jobs=2)]: Done  21 tasks      | elapsed:  1.3min\n",
      "[Parallel(n_jobs=2)]: Done  22 out of  24 | elapsed:  1.3min remaining:    7.2s\n"
     ]
    },
    {
     "name": "stderr",
     "output_type": "stream",
     "text": [
      "|####################| 160/160 100% [elapsed: 08:32 left: 00:00]"
     ]
    },
    {
     "name": "stdout",
     "output_type": "stream",
     "text": [
      "[Parallel(n_jobs=2)]: Done  24 out of  24 | elapsed:  1.4min remaining:    0.0s\n",
      "[Parallel(n_jobs=2)]: Done  24 out of  24 | elapsed:  1.4min finished\n",
      "DES0137-3749-g\n"
     ]
    },
    {
     "name": "stderr",
     "output_type": "stream",
     "text": [
      "\n",
      "|--------------------| 0/151   0% [elapsed: 00:00 left: ?]"
     ]
    },
    {
     "name": "stdout",
     "output_type": "stream",
     "text": [
      "[Parallel(n_jobs=2)]: Using backend LokyBackend with 2 concurrent workers.\n",
      "[Parallel(n_jobs=2)]: Done   1 tasks      | elapsed:    7.2s\n",
      "[Parallel(n_jobs=2)]: Done   2 tasks      | elapsed:    7.2s\n",
      "[Parallel(n_jobs=2)]: Done   3 tasks      | elapsed:   14.1s\n",
      "[Parallel(n_jobs=2)]: Done   4 tasks      | elapsed:   14.2s\n",
      "[Parallel(n_jobs=2)]: Done   5 tasks      | elapsed:   21.3s\n",
      "[Parallel(n_jobs=2)]: Done   6 tasks      | elapsed:   21.4s\n",
      "[Parallel(n_jobs=2)]: Done   7 tasks      | elapsed:   28.8s\n",
      "[Parallel(n_jobs=2)]: Done   8 tasks      | elapsed:   29.0s\n",
      "[Parallel(n_jobs=2)]: Done   9 tasks      | elapsed:   35.7s\n",
      "[Parallel(n_jobs=2)]: Done  10 tasks      | elapsed:   35.8s\n",
      "[Parallel(n_jobs=2)]: Done  11 tasks      | elapsed:   43.0s\n",
      "[Parallel(n_jobs=2)]: Done  12 tasks      | elapsed:   43.1s\n",
      "[Parallel(n_jobs=2)]: Done  13 tasks      | elapsed:   49.8s\n",
      "[Parallel(n_jobs=2)]: Done  14 tasks      | elapsed:   49.9s\n",
      "[Parallel(n_jobs=2)]: Done  15 tasks      | elapsed:   56.9s\n",
      "[Parallel(n_jobs=2)]: Done  16 tasks      | elapsed:   56.9s\n",
      "[Parallel(n_jobs=2)]: Done  17 tasks      | elapsed:  1.1min\n",
      "[Parallel(n_jobs=2)]: Done  18 tasks      | elapsed:  1.1min\n",
      "[Parallel(n_jobs=2)]: Done  19 tasks      | elapsed:  1.3min\n",
      "[Parallel(n_jobs=2)]: Done  20 tasks      | elapsed:  1.3min\n",
      "[Parallel(n_jobs=2)]: Done  21 tasks      | elapsed:  1.4min\n",
      "[Parallel(n_jobs=2)]: Done  22 out of  24 | elapsed:  1.4min remaining:    7.7s\n"
     ]
    },
    {
     "name": "stderr",
     "output_type": "stream",
     "text": [
      "\r",
      "|###-----------------| 26/151  17% [elapsed: 01:31 left: 07:20]"
     ]
    },
    {
     "name": "stdout",
     "output_type": "stream",
     "text": [
      "[Parallel(n_jobs=2)]: Done  24 out of  24 | elapsed:  1.5min remaining:    0.0s\n",
      "[Parallel(n_jobs=2)]: Done  24 out of  24 | elapsed:  1.5min finished\n",
      "[Parallel(n_jobs=2)]: Using backend LokyBackend with 2 concurrent workers.\n",
      "[Parallel(n_jobs=2)]: Done   1 tasks      | elapsed:    7.2s\n",
      "[Parallel(n_jobs=2)]: Done   2 tasks      | elapsed:    7.2s\n",
      "[Parallel(n_jobs=2)]: Done   3 tasks      | elapsed:   14.1s\n",
      "[Parallel(n_jobs=2)]: Done   4 tasks      | elapsed:   14.1s\n",
      "[Parallel(n_jobs=2)]: Done   5 tasks      | elapsed:   21.2s\n",
      "[Parallel(n_jobs=2)]: Done   6 tasks      | elapsed:   21.4s\n",
      "[Parallel(n_jobs=2)]: Done   7 tasks      | elapsed:   28.1s\n",
      "[Parallel(n_jobs=2)]: Done   8 tasks      | elapsed:   28.2s\n",
      "[Parallel(n_jobs=2)]: Done   9 tasks      | elapsed:   35.8s\n",
      "[Parallel(n_jobs=2)]: Done  10 tasks      | elapsed:   36.0s\n",
      "[Parallel(n_jobs=2)]: Done  11 tasks      | elapsed:   43.3s\n",
      "[Parallel(n_jobs=2)]: Done  12 tasks      | elapsed:   43.6s\n",
      "[Parallel(n_jobs=2)]: Done  13 tasks      | elapsed:   50.5s\n",
      "[Parallel(n_jobs=2)]: Done  14 tasks      | elapsed:   50.6s\n",
      "[Parallel(n_jobs=2)]: Done  15 tasks      | elapsed:   57.2s\n",
      "[Parallel(n_jobs=2)]: Done  16 tasks      | elapsed:   57.6s\n",
      "[Parallel(n_jobs=2)]: Done  17 tasks      | elapsed:  1.1min\n",
      "[Parallel(n_jobs=2)]: Done  18 tasks      | elapsed:  1.1min\n",
      "[Parallel(n_jobs=2)]: Done  19 tasks      | elapsed:  1.2min\n",
      "[Parallel(n_jobs=2)]: Done  20 tasks      | elapsed:  1.2min\n",
      "[Parallel(n_jobs=2)]: Done  21 tasks      | elapsed:  1.3min\n",
      "[Parallel(n_jobs=2)]: Done  22 out of  24 | elapsed:  1.3min remaining:    7.2s\n"
     ]
    },
    {
     "name": "stderr",
     "output_type": "stream",
     "text": [
      "\r",
      "|######--------------| 52/151  34% [elapsed: 02:57 left: 05:37]"
     ]
    },
    {
     "name": "stdout",
     "output_type": "stream",
     "text": [
      "[Parallel(n_jobs=2)]: Done  24 out of  24 | elapsed:  1.4min remaining:    0.0s\n",
      "[Parallel(n_jobs=2)]: Done  24 out of  24 | elapsed:  1.4min finished\n",
      "[Parallel(n_jobs=2)]: Using backend LokyBackend with 2 concurrent workers.\n",
      "[Parallel(n_jobs=2)]: Done   1 tasks      | elapsed:    7.1s\n",
      "[Parallel(n_jobs=2)]: Done   2 tasks      | elapsed:    7.4s\n",
      "[Parallel(n_jobs=2)]: Done   3 tasks      | elapsed:   14.2s\n",
      "[Parallel(n_jobs=2)]: Done   4 tasks      | elapsed:   14.6s\n",
      "[Parallel(n_jobs=2)]: Done   5 tasks      | elapsed:   21.2s\n",
      "[Parallel(n_jobs=2)]: Done   6 tasks      | elapsed:   21.7s\n",
      "[Parallel(n_jobs=2)]: Done   7 tasks      | elapsed:   28.7s\n",
      "[Parallel(n_jobs=2)]: Done   8 tasks      | elapsed:   29.4s\n",
      "[Parallel(n_jobs=2)]: Done   9 tasks      | elapsed:   35.4s\n",
      "[Parallel(n_jobs=2)]: Done  10 tasks      | elapsed:   36.1s\n",
      "[Parallel(n_jobs=2)]: Done  11 tasks      | elapsed:   42.4s\n",
      "[Parallel(n_jobs=2)]: Done  12 tasks      | elapsed:   43.3s\n",
      "[Parallel(n_jobs=2)]: Done  13 tasks      | elapsed:   49.8s\n",
      "[Parallel(n_jobs=2)]: Done  14 tasks      | elapsed:   50.3s\n",
      "[Parallel(n_jobs=2)]: Done  15 tasks      | elapsed:   57.1s\n",
      "[Parallel(n_jobs=2)]: Done  16 tasks      | elapsed:   57.7s\n",
      "[Parallel(n_jobs=2)]: Done  17 tasks      | elapsed:  1.1min\n",
      "[Parallel(n_jobs=2)]: Done  18 tasks      | elapsed:  1.1min\n",
      "[Parallel(n_jobs=2)]: Done  19 tasks      | elapsed:  1.2min\n",
      "[Parallel(n_jobs=2)]: Done  20 tasks      | elapsed:  1.2min\n",
      "[Parallel(n_jobs=2)]: Done  21 tasks      | elapsed:  1.3min\n",
      "[Parallel(n_jobs=2)]: Done  22 out of  24 | elapsed:  1.3min remaining:    7.2s\n"
     ]
    },
    {
     "name": "stderr",
     "output_type": "stream",
     "text": [
      "\r",
      "|##########----------| 77/151  50% [elapsed: 04:23 left: 04:13]"
     ]
    },
    {
     "name": "stdout",
     "output_type": "stream",
     "text": [
      "[Parallel(n_jobs=2)]: Done  24 out of  24 | elapsed:  1.4min remaining:    0.0s\n",
      "[Parallel(n_jobs=2)]: Done  24 out of  24 | elapsed:  1.4min finished\n",
      "[Parallel(n_jobs=2)]: Using backend LokyBackend with 2 concurrent workers.\n",
      "[Parallel(n_jobs=2)]: Done   1 tasks      | elapsed:    7.1s\n",
      "[Parallel(n_jobs=2)]: Done   2 tasks      | elapsed:    7.2s\n",
      "[Parallel(n_jobs=2)]: Done   3 tasks      | elapsed:   14.5s\n",
      "[Parallel(n_jobs=2)]: Done   4 tasks      | elapsed:   14.6s\n",
      "[Parallel(n_jobs=2)]: Done   5 tasks      | elapsed:   21.8s\n",
      "[Parallel(n_jobs=2)]: Done   6 tasks      | elapsed:   21.8s\n",
      "[Parallel(n_jobs=2)]: Done   7 tasks      | elapsed:   29.0s\n",
      "[Parallel(n_jobs=2)]: Done   8 tasks      | elapsed:   29.1s\n",
      "[Parallel(n_jobs=2)]: Done   9 tasks      | elapsed:   35.7s\n",
      "[Parallel(n_jobs=2)]: Done  10 tasks      | elapsed:   36.0s\n",
      "[Parallel(n_jobs=2)]: Done  11 tasks      | elapsed:   43.0s\n",
      "[Parallel(n_jobs=2)]: Done  12 tasks      | elapsed:   43.2s\n",
      "[Parallel(n_jobs=2)]: Done  13 tasks      | elapsed:   50.1s\n",
      "[Parallel(n_jobs=2)]: Done  14 tasks      | elapsed:   50.4s\n",
      "[Parallel(n_jobs=2)]: Done  15 tasks      | elapsed:   57.4s\n",
      "[Parallel(n_jobs=2)]: Done  16 tasks      | elapsed:   57.7s\n",
      "[Parallel(n_jobs=2)]: Done  17 tasks      | elapsed:  1.1min\n",
      "[Parallel(n_jobs=2)]: Done  18 tasks      | elapsed:  1.1min\n",
      "[Parallel(n_jobs=2)]: Done  19 tasks      | elapsed:  1.2min\n",
      "[Parallel(n_jobs=2)]: Done  20 tasks      | elapsed:  1.2min\n",
      "[Parallel(n_jobs=2)]: Done  21 tasks      | elapsed:  1.3min\n",
      "[Parallel(n_jobs=2)]: Done  22 out of  24 | elapsed:  1.3min remaining:    7.2s\n"
     ]
    },
    {
     "name": "stderr",
     "output_type": "stream",
     "text": [
      "\r",
      "|#############-------| 102/151  67% [elapsed: 05:49 left: 02:48]"
     ]
    },
    {
     "name": "stdout",
     "output_type": "stream",
     "text": [
      "[Parallel(n_jobs=2)]: Done  24 out of  24 | elapsed:  1.4min remaining:    0.0s\n",
      "[Parallel(n_jobs=2)]: Done  24 out of  24 | elapsed:  1.4min finished\n",
      "[Parallel(n_jobs=2)]: Using backend LokyBackend with 2 concurrent workers.\n",
      "[Parallel(n_jobs=2)]: Done   1 tasks      | elapsed:    6.8s\n",
      "[Parallel(n_jobs=2)]: Done   2 tasks      | elapsed:    6.9s\n",
      "[Parallel(n_jobs=2)]: Done   3 tasks      | elapsed:   14.5s\n",
      "[Parallel(n_jobs=2)]: Done   4 tasks      | elapsed:   14.8s\n",
      "[Parallel(n_jobs=2)]: Done   5 tasks      | elapsed:   21.6s\n",
      "[Parallel(n_jobs=2)]: Done   6 tasks      | elapsed:   21.9s\n",
      "[Parallel(n_jobs=2)]: Done   7 tasks      | elapsed:   28.5s\n",
      "[Parallel(n_jobs=2)]: Done   8 tasks      | elapsed:   28.9s\n",
      "[Parallel(n_jobs=2)]: Done   9 tasks      | elapsed:   35.7s\n",
      "[Parallel(n_jobs=2)]: Done  10 tasks      | elapsed:   36.4s\n",
      "[Parallel(n_jobs=2)]: Done  11 tasks      | elapsed:   42.6s\n",
      "[Parallel(n_jobs=2)]: Done  12 tasks      | elapsed:   43.2s\n",
      "[Parallel(n_jobs=2)]: Done  13 tasks      | elapsed:   49.8s\n",
      "[Parallel(n_jobs=2)]: Done  14 tasks      | elapsed:   50.7s\n",
      "[Parallel(n_jobs=2)]: Done  15 tasks      | elapsed:   57.2s\n",
      "[Parallel(n_jobs=2)]: Done  16 tasks      | elapsed:   58.0s\n",
      "[Parallel(n_jobs=2)]: Done  17 tasks      | elapsed:  1.1min\n",
      "[Parallel(n_jobs=2)]: Done  18 tasks      | elapsed:  1.1min\n",
      "[Parallel(n_jobs=2)]: Done  19 tasks      | elapsed:  1.2min\n",
      "[Parallel(n_jobs=2)]: Done  20 tasks      | elapsed:  1.2min\n",
      "[Parallel(n_jobs=2)]: Done  21 tasks      | elapsed:  1.3min\n",
      "[Parallel(n_jobs=2)]: Done  22 out of  24 | elapsed:  1.3min remaining:    7.2s\n"
     ]
    },
    {
     "name": "stderr",
     "output_type": "stream",
     "text": [
      "|####################| 151/151 100% [elapsed: 07:16 left: 00:00]"
     ]
    },
    {
     "name": "stdout",
     "output_type": "stream",
     "text": [
      "[Parallel(n_jobs=2)]: Done  24 out of  24 | elapsed:  1.4min remaining:    0.0s\n",
      "[Parallel(n_jobs=2)]: Done  24 out of  24 | elapsed:  1.4min finished\n",
      "[Parallel(n_jobs=2)]: Using backend LokyBackend with 2 concurrent workers.\n"
     ]
    },
    {
     "name": "stderr",
     "output_type": "stream",
     "text": [
      "\n"
     ]
    },
    {
     "name": "stdout",
     "output_type": "stream",
     "text": [
      "[Parallel(n_jobs=2)]: Done   1 tasks      | elapsed:    7.1s\n",
      "[Parallel(n_jobs=2)]: Done   2 tasks      | elapsed:    7.1s\n",
      "[Parallel(n_jobs=2)]: Done   3 tasks      | elapsed:   13.8s\n",
      "[Parallel(n_jobs=2)]: Done   4 tasks      | elapsed:   13.9s\n",
      "[Parallel(n_jobs=2)]: Done   5 tasks      | elapsed:   21.1s\n",
      "[Parallel(n_jobs=2)]: Done   6 tasks      | elapsed:   21.1s\n",
      "[Parallel(n_jobs=2)]: Done   7 tasks      | elapsed:   28.3s\n",
      "[Parallel(n_jobs=2)]: Done   8 tasks      | elapsed:   28.6s\n",
      "[Parallel(n_jobs=2)]: Done   9 tasks      | elapsed:   35.6s\n",
      "[Parallel(n_jobs=2)]: Done  10 tasks      | elapsed:   35.6s\n",
      "[Parallel(n_jobs=2)]: Done  11 tasks      | elapsed:   42.5s\n",
      "[Parallel(n_jobs=2)]: Done  12 tasks      | elapsed:   42.6s\n",
      "[Parallel(n_jobs=2)]: Done  13 tasks      | elapsed:   50.1s\n",
      "[Parallel(n_jobs=2)]: Done  14 tasks      | elapsed:   50.2s\n",
      "[Parallel(n_jobs=2)]: Done  15 tasks      | elapsed:   57.1s\n",
      "[Parallel(n_jobs=2)]: Done  16 tasks      | elapsed:   57.2s\n",
      "[Parallel(n_jobs=2)]: Done  17 tasks      | elapsed:  1.1min\n",
      "[Parallel(n_jobs=2)]: Done  18 tasks      | elapsed:  1.1min\n",
      "[Parallel(n_jobs=2)]: Done  19 tasks      | elapsed:  1.2min\n",
      "[Parallel(n_jobs=2)]: Done  20 tasks      | elapsed:  1.2min\n",
      "[Parallel(n_jobs=2)]: Done  21 tasks      | elapsed:  1.3min\n",
      "[Parallel(n_jobs=2)]: Done  22 out of  24 | elapsed:  1.3min remaining:    7.2s\n",
      "[Parallel(n_jobs=2)]: Done  24 out of  24 | elapsed:  1.4min remaining:    0.0s\n",
      "[Parallel(n_jobs=2)]: Done  24 out of  24 | elapsed:  1.4min finished\n",
      "DES0131-3206-i\n"
     ]
    },
    {
     "name": "stderr",
     "output_type": "stream",
     "text": [
      "\r",
      "|--------------------| 0/169   0% [elapsed: 00:00 left: ?]"
     ]
    },
    {
     "name": "stdout",
     "output_type": "stream",
     "text": [
      "[Parallel(n_jobs=2)]: Using backend LokyBackend with 2 concurrent workers.\n",
      "[Parallel(n_jobs=2)]: Done   1 tasks      | elapsed:    7.0s\n",
      "[Parallel(n_jobs=2)]: Done   2 tasks      | elapsed:    7.4s\n",
      "[Parallel(n_jobs=2)]: Done   3 tasks      | elapsed:   13.7s\n",
      "[Parallel(n_jobs=2)]: Done   4 tasks      | elapsed:   13.9s\n",
      "[Parallel(n_jobs=2)]: Done   5 tasks      | elapsed:   20.8s\n",
      "[Parallel(n_jobs=2)]: Done   6 tasks      | elapsed:   20.8s\n",
      "[Parallel(n_jobs=2)]: Done   7 tasks      | elapsed:   27.6s\n",
      "[Parallel(n_jobs=2)]: Done   8 tasks      | elapsed:   27.7s\n",
      "[Parallel(n_jobs=2)]: Done   9 tasks      | elapsed:   34.5s\n",
      "[Parallel(n_jobs=2)]: Done  10 tasks      | elapsed:   34.7s\n",
      "[Parallel(n_jobs=2)]: Done  11 tasks      | elapsed:   41.2s\n",
      "[Parallel(n_jobs=2)]: Done  12 tasks      | elapsed:   41.4s\n",
      "[Parallel(n_jobs=2)]: Done  13 tasks      | elapsed:   48.1s\n",
      "[Parallel(n_jobs=2)]: Done  14 tasks      | elapsed:   48.1s\n",
      "[Parallel(n_jobs=2)]: Done  15 tasks      | elapsed:   54.8s\n",
      "[Parallel(n_jobs=2)]: Done  16 tasks      | elapsed:   55.0s\n",
      "[Parallel(n_jobs=2)]: Done  17 tasks      | elapsed:  1.0min\n",
      "[Parallel(n_jobs=2)]: Done  18 tasks      | elapsed:  1.0min\n",
      "[Parallel(n_jobs=2)]: Done  19 tasks      | elapsed:  1.1min\n",
      "[Parallel(n_jobs=2)]: Done  20 tasks      | elapsed:  1.1min\n",
      "[Parallel(n_jobs=2)]: Done  21 tasks      | elapsed:  1.2min\n",
      "[Parallel(n_jobs=2)]: Done  22 out of  24 | elapsed:  1.3min remaining:    6.8s\n"
     ]
    },
    {
     "name": "stderr",
     "output_type": "stream",
     "text": [
      "\r",
      "|###-----------------| 26/169  15% [elapsed: 01:22 left: 07:32]"
     ]
    },
    {
     "name": "stdout",
     "output_type": "stream",
     "text": [
      "[Parallel(n_jobs=2)]: Done  24 out of  24 | elapsed:  1.4min remaining:    0.0s\n",
      "[Parallel(n_jobs=2)]: Done  24 out of  24 | elapsed:  1.4min finished\n",
      "[Parallel(n_jobs=2)]: Using backend LokyBackend with 2 concurrent workers.\n",
      "[Parallel(n_jobs=2)]: Done   1 tasks      | elapsed:    6.7s\n",
      "[Parallel(n_jobs=2)]: Done   2 tasks      | elapsed:    6.9s\n",
      "[Parallel(n_jobs=2)]: Done   3 tasks      | elapsed:   13.7s\n",
      "[Parallel(n_jobs=2)]: Done   4 tasks      | elapsed:   13.9s\n",
      "[Parallel(n_jobs=2)]: Done   5 tasks      | elapsed:   20.4s\n",
      "[Parallel(n_jobs=2)]: Done   6 tasks      | elapsed:   20.8s\n",
      "[Parallel(n_jobs=2)]: Done   7 tasks      | elapsed:   27.1s\n",
      "[Parallel(n_jobs=2)]: Done   8 tasks      | elapsed:   27.4s\n",
      "[Parallel(n_jobs=2)]: Done   9 tasks      | elapsed:   34.4s\n",
      "[Parallel(n_jobs=2)]: Done  10 tasks      | elapsed:   34.8s\n",
      "[Parallel(n_jobs=2)]: Done  11 tasks      | elapsed:   41.2s\n",
      "[Parallel(n_jobs=2)]: Done  12 tasks      | elapsed:   41.3s\n",
      "[Parallel(n_jobs=2)]: Done  13 tasks      | elapsed:   48.3s\n",
      "[Parallel(n_jobs=2)]: Done  14 tasks      | elapsed:   48.4s\n",
      "[Parallel(n_jobs=2)]: Done  15 tasks      | elapsed:   55.2s\n",
      "[Parallel(n_jobs=2)]: Done  16 tasks      | elapsed:   55.2s\n",
      "[Parallel(n_jobs=2)]: Done  17 tasks      | elapsed:  1.1min\n",
      "[Parallel(n_jobs=2)]: Done  18 tasks      | elapsed:  1.1min\n",
      "[Parallel(n_jobs=2)]: Done  19 tasks      | elapsed:  1.2min\n",
      "[Parallel(n_jobs=2)]: Done  20 tasks      | elapsed:  1.2min\n",
      "[Parallel(n_jobs=2)]: Done  21 tasks      | elapsed:  1.3min\n",
      "[Parallel(n_jobs=2)]: Done  22 out of  24 | elapsed:  1.3min remaining:    7.2s\n"
     ]
    },
    {
     "name": "stderr",
     "output_type": "stream",
     "text": [
      "\r",
      "|######--------------| 51/169  30% [elapsed: 02:47 left: 06:28]"
     ]
    },
    {
     "name": "stdout",
     "output_type": "stream",
     "text": [
      "[Parallel(n_jobs=2)]: Done  24 out of  24 | elapsed:  1.4min remaining:    0.0s\n",
      "[Parallel(n_jobs=2)]: Done  24 out of  24 | elapsed:  1.4min finished\n",
      "[Parallel(n_jobs=2)]: Using backend LokyBackend with 2 concurrent workers.\n",
      "[Parallel(n_jobs=2)]: Done   1 tasks      | elapsed:    7.0s\n",
      "[Parallel(n_jobs=2)]: Done   2 tasks      | elapsed:    7.0s\n",
      "[Parallel(n_jobs=2)]: Done   3 tasks      | elapsed:   13.7s\n",
      "[Parallel(n_jobs=2)]: Done   4 tasks      | elapsed:   14.1s\n",
      "[Parallel(n_jobs=2)]: Done   5 tasks      | elapsed:   20.8s\n",
      "[Parallel(n_jobs=2)]: Done   6 tasks      | elapsed:   21.0s\n",
      "[Parallel(n_jobs=2)]: Done   7 tasks      | elapsed:   27.6s\n",
      "[Parallel(n_jobs=2)]: Done   8 tasks      | elapsed:   27.8s\n",
      "[Parallel(n_jobs=2)]: Done   9 tasks      | elapsed:   34.8s\n",
      "[Parallel(n_jobs=2)]: Done  10 tasks      | elapsed:   34.9s\n",
      "[Parallel(n_jobs=2)]: Done  11 tasks      | elapsed:   41.6s\n",
      "[Parallel(n_jobs=2)]: Done  12 tasks      | elapsed:   41.9s\n",
      "[Parallel(n_jobs=2)]: Done  13 tasks      | elapsed:   48.8s\n",
      "[Parallel(n_jobs=2)]: Done  14 tasks      | elapsed:   49.0s\n",
      "[Parallel(n_jobs=2)]: Done  15 tasks      | elapsed:   55.6s\n",
      "[Parallel(n_jobs=2)]: Done  16 tasks      | elapsed:   55.7s\n",
      "[Parallel(n_jobs=2)]: Done  17 tasks      | elapsed:  1.0min\n",
      "[Parallel(n_jobs=2)]: Done  18 tasks      | elapsed:  1.0min\n",
      "[Parallel(n_jobs=2)]: Done  19 tasks      | elapsed:  1.2min\n",
      "[Parallel(n_jobs=2)]: Done  20 tasks      | elapsed:  1.2min\n",
      "[Parallel(n_jobs=2)]: Done  21 tasks      | elapsed:  1.3min\n",
      "[Parallel(n_jobs=2)]: Done  22 out of  24 | elapsed:  1.3min remaining:    6.9s\n"
     ]
    },
    {
     "name": "stderr",
     "output_type": "stream",
     "text": [
      "\r",
      "|########------------| 76/169  44% [elapsed: 04:10 left: 05:06]"
     ]
    },
    {
     "name": "stdout",
     "output_type": "stream",
     "text": [
      "[Parallel(n_jobs=2)]: Done  24 out of  24 | elapsed:  1.4min remaining:    0.0s\n",
      "[Parallel(n_jobs=2)]: Done  24 out of  24 | elapsed:  1.4min finished\n",
      "[Parallel(n_jobs=2)]: Using backend LokyBackend with 2 concurrent workers.\n",
      "[Parallel(n_jobs=2)]: Done   1 tasks      | elapsed:    7.4s\n",
      "[Parallel(n_jobs=2)]: Done   2 tasks      | elapsed:    7.5s\n",
      "[Parallel(n_jobs=2)]: Done   3 tasks      | elapsed:   14.7s\n",
      "[Parallel(n_jobs=2)]: Done   4 tasks      | elapsed:   14.8s\n",
      "[Parallel(n_jobs=2)]: Done   5 tasks      | elapsed:   21.4s\n",
      "[Parallel(n_jobs=2)]: Done   6 tasks      | elapsed:   21.5s\n",
      "[Parallel(n_jobs=2)]: Done   7 tasks      | elapsed:   28.1s\n",
      "[Parallel(n_jobs=2)]: Done   8 tasks      | elapsed:   28.3s\n",
      "[Parallel(n_jobs=2)]: Done   9 tasks      | elapsed:   34.8s\n",
      "[Parallel(n_jobs=2)]: Done  10 tasks      | elapsed:   35.2s\n",
      "[Parallel(n_jobs=2)]: Done  11 tasks      | elapsed:   41.6s\n",
      "[Parallel(n_jobs=2)]: Done  12 tasks      | elapsed:   42.0s\n",
      "[Parallel(n_jobs=2)]: Done  13 tasks      | elapsed:   48.9s\n",
      "[Parallel(n_jobs=2)]: Done  14 tasks      | elapsed:   49.2s\n",
      "[Parallel(n_jobs=2)]: Done  15 tasks      | elapsed:   55.7s\n",
      "[Parallel(n_jobs=2)]: Done  16 tasks      | elapsed:   55.9s\n",
      "[Parallel(n_jobs=2)]: Done  17 tasks      | elapsed:  1.0min\n",
      "[Parallel(n_jobs=2)]: Done  18 tasks      | elapsed:  1.0min\n",
      "[Parallel(n_jobs=2)]: Done  19 tasks      | elapsed:  1.2min\n",
      "[Parallel(n_jobs=2)]: Done  20 tasks      | elapsed:  1.2min\n",
      "[Parallel(n_jobs=2)]: Done  21 tasks      | elapsed:  1.3min\n",
      "[Parallel(n_jobs=2)]: Done  22 out of  24 | elapsed:  1.3min remaining:    7.0s\n"
     ]
    },
    {
     "name": "stderr",
     "output_type": "stream",
     "text": [
      "\r",
      "|###########---------| 101/169  59% [elapsed: 05:34 left: 03:44]"
     ]
    },
    {
     "name": "stdout",
     "output_type": "stream",
     "text": [
      "[Parallel(n_jobs=2)]: Done  24 out of  24 | elapsed:  1.4min remaining:    0.0s\n",
      "[Parallel(n_jobs=2)]: Done  24 out of  24 | elapsed:  1.4min finished\n",
      "[Parallel(n_jobs=2)]: Using backend LokyBackend with 2 concurrent workers.\n",
      "[Parallel(n_jobs=2)]: Done   1 tasks      | elapsed:    7.3s\n",
      "[Parallel(n_jobs=2)]: Done   2 tasks      | elapsed:    7.3s\n",
      "[Parallel(n_jobs=2)]: Done   3 tasks      | elapsed:   13.9s\n",
      "[Parallel(n_jobs=2)]: Done   4 tasks      | elapsed:   14.0s\n",
      "[Parallel(n_jobs=2)]: Done   5 tasks      | elapsed:   20.6s\n",
      "[Parallel(n_jobs=2)]: Done   6 tasks      | elapsed:   20.7s\n",
      "[Parallel(n_jobs=2)]: Done   7 tasks      | elapsed:   27.3s\n",
      "[Parallel(n_jobs=2)]: Done   8 tasks      | elapsed:   27.5s\n",
      "[Parallel(n_jobs=2)]: Done   9 tasks      | elapsed:   34.0s\n",
      "[Parallel(n_jobs=2)]: Done  10 tasks      | elapsed:   34.1s\n",
      "[Parallel(n_jobs=2)]: Done  11 tasks      | elapsed:   40.7s\n",
      "[Parallel(n_jobs=2)]: Done  12 tasks      | elapsed:   40.9s\n",
      "[Parallel(n_jobs=2)]: Done  13 tasks      | elapsed:   48.2s\n",
      "[Parallel(n_jobs=2)]: Done  14 tasks      | elapsed:   48.5s\n",
      "[Parallel(n_jobs=2)]: Done  15 tasks      | elapsed:   55.3s\n",
      "[Parallel(n_jobs=2)]: Done  16 tasks      | elapsed:   55.5s\n",
      "[Parallel(n_jobs=2)]: Done  17 tasks      | elapsed:  1.0min\n",
      "[Parallel(n_jobs=2)]: Done  18 tasks      | elapsed:  1.0min\n",
      "[Parallel(n_jobs=2)]: Done  19 tasks      | elapsed:  1.2min\n",
      "[Parallel(n_jobs=2)]: Done  20 tasks      | elapsed:  1.2min\n",
      "[Parallel(n_jobs=2)]: Done  21 tasks      | elapsed:  1.3min\n",
      "[Parallel(n_jobs=2)]: Done  22 out of  24 | elapsed:  1.3min remaining:    7.0s\n"
     ]
    },
    {
     "name": "stderr",
     "output_type": "stream",
     "text": [
      "\r",
      "|##############------| 126/169  74% [elapsed: 06:57 left: 02:22]"
     ]
    },
    {
     "name": "stdout",
     "output_type": "stream",
     "text": [
      "[Parallel(n_jobs=2)]: Done  24 out of  24 | elapsed:  1.4min remaining:    0.0s\n",
      "[Parallel(n_jobs=2)]: Done  24 out of  24 | elapsed:  1.4min finished\n",
      "[Parallel(n_jobs=2)]: Using backend LokyBackend with 2 concurrent workers.\n",
      "[Parallel(n_jobs=2)]: Done   1 tasks      | elapsed:    7.2s\n",
      "[Parallel(n_jobs=2)]: Done   2 tasks      | elapsed:    7.3s\n",
      "[Parallel(n_jobs=2)]: Done   3 tasks      | elapsed:   14.4s\n",
      "[Parallel(n_jobs=2)]: Done   4 tasks      | elapsed:   14.5s\n",
      "[Parallel(n_jobs=2)]: Done   5 tasks      | elapsed:   22.5s\n",
      "[Parallel(n_jobs=2)]: Done   6 tasks      | elapsed:   22.5s\n",
      "[Parallel(n_jobs=2)]: Done   7 tasks      | elapsed:   29.7s\n",
      "[Parallel(n_jobs=2)]: Done   8 tasks      | elapsed:   29.8s\n",
      "[Parallel(n_jobs=2)]: Done   9 tasks      | elapsed:   36.2s\n",
      "[Parallel(n_jobs=2)]: Done  10 tasks      | elapsed:   36.3s\n",
      "[Parallel(n_jobs=2)]: Done  11 tasks      | elapsed:   43.7s\n",
      "[Parallel(n_jobs=2)]: Done  12 tasks      | elapsed:   43.7s\n",
      "[Parallel(n_jobs=2)]: Done  13 tasks      | elapsed:   50.3s\n",
      "[Parallel(n_jobs=2)]: Done  14 tasks      | elapsed:   50.5s\n",
      "[Parallel(n_jobs=2)]: Done  15 tasks      | elapsed:   57.2s\n",
      "[Parallel(n_jobs=2)]: Done  16 tasks      | elapsed:   57.4s\n",
      "[Parallel(n_jobs=2)]: Done  17 tasks      | elapsed:  1.1min\n",
      "[Parallel(n_jobs=2)]: Done  18 tasks      | elapsed:  1.1min\n",
      "[Parallel(n_jobs=2)]: Done  19 tasks      | elapsed:  1.2min\n",
      "[Parallel(n_jobs=2)]: Done  20 tasks      | elapsed:  1.2min\n",
      "[Parallel(n_jobs=2)]: Done  21 tasks      | elapsed:  1.3min\n",
      "[Parallel(n_jobs=2)]: Done  22 out of  24 | elapsed:  1.3min remaining:    7.0s\n"
     ]
    },
    {
     "name": "stderr",
     "output_type": "stream",
     "text": [
      "|####################| 169/169 100% [elapsed: 08:22 left: 00:00]"
     ]
    },
    {
     "name": "stdout",
     "output_type": "stream",
     "text": [
      "[Parallel(n_jobs=2)]: Done  24 out of  24 | elapsed:  1.4min remaining:    0.0s\n",
      "[Parallel(n_jobs=2)]: Done  24 out of  24 | elapsed:  1.4min finished\n",
      "DES0131-3206-z\n"
     ]
    },
    {
     "name": "stderr",
     "output_type": "stream",
     "text": [
      "\n",
      "|--------------------| 0/167   0% [elapsed: 00:00 left: ?]"
     ]
    },
    {
     "name": "stdout",
     "output_type": "stream",
     "text": [
      "[Parallel(n_jobs=2)]: Using backend LokyBackend with 2 concurrent workers.\n",
      "[Parallel(n_jobs=2)]: Done   1 tasks      | elapsed:    6.7s\n",
      "[Parallel(n_jobs=2)]: Done   2 tasks      | elapsed:    6.7s\n",
      "[Parallel(n_jobs=2)]: Done   3 tasks      | elapsed:   13.3s\n",
      "[Parallel(n_jobs=2)]: Done   4 tasks      | elapsed:   13.3s\n",
      "[Parallel(n_jobs=2)]: Done   5 tasks      | elapsed:   19.9s\n",
      "[Parallel(n_jobs=2)]: Done   6 tasks      | elapsed:   20.1s\n",
      "[Parallel(n_jobs=2)]: Done   7 tasks      | elapsed:   26.4s\n",
      "[Parallel(n_jobs=2)]: Done   8 tasks      | elapsed:   26.6s\n",
      "[Parallel(n_jobs=2)]: Done   9 tasks      | elapsed:   33.6s\n",
      "[Parallel(n_jobs=2)]: Done  10 tasks      | elapsed:   33.7s\n",
      "[Parallel(n_jobs=2)]: Done  11 tasks      | elapsed:   40.2s\n",
      "[Parallel(n_jobs=2)]: Done  12 tasks      | elapsed:   40.3s\n",
      "[Parallel(n_jobs=2)]: Done  13 tasks      | elapsed:   46.8s\n",
      "[Parallel(n_jobs=2)]: Done  14 tasks      | elapsed:   47.0s\n",
      "[Parallel(n_jobs=2)]: Done  15 tasks      | elapsed:   53.5s\n",
      "[Parallel(n_jobs=2)]: Done  16 tasks      | elapsed:   54.0s\n",
      "[Parallel(n_jobs=2)]: Done  17 tasks      | elapsed:  1.0min\n",
      "[Parallel(n_jobs=2)]: Done  18 tasks      | elapsed:  1.0min\n",
      "[Parallel(n_jobs=2)]: Done  19 tasks      | elapsed:  1.1min\n",
      "[Parallel(n_jobs=2)]: Done  20 tasks      | elapsed:  1.1min\n",
      "[Parallel(n_jobs=2)]: Done  21 tasks      | elapsed:  1.2min\n",
      "[Parallel(n_jobs=2)]: Done  22 out of  24 | elapsed:  1.3min remaining:    6.8s\n"
     ]
    },
    {
     "name": "stderr",
     "output_type": "stream",
     "text": [
      "\r",
      "|##------------------| 25/167  14% [elapsed: 01:21 left: 07:45]"
     ]
    },
    {
     "name": "stdout",
     "output_type": "stream",
     "text": [
      "[Parallel(n_jobs=2)]: Done  24 out of  24 | elapsed:  1.4min remaining:    0.0s\n",
      "[Parallel(n_jobs=2)]: Done  24 out of  24 | elapsed:  1.4min finished\n",
      "[Parallel(n_jobs=2)]: Using backend LokyBackend with 2 concurrent workers.\n",
      "[Parallel(n_jobs=2)]: Done   1 tasks      | elapsed:    6.8s\n",
      "[Parallel(n_jobs=2)]: Done   2 tasks      | elapsed:    6.8s\n",
      "[Parallel(n_jobs=2)]: Done   3 tasks      | elapsed:   13.6s\n",
      "[Parallel(n_jobs=2)]: Done   4 tasks      | elapsed:   13.7s\n",
      "[Parallel(n_jobs=2)]: Done   5 tasks      | elapsed:   20.4s\n",
      "[Parallel(n_jobs=2)]: Done   6 tasks      | elapsed:   20.6s\n",
      "[Parallel(n_jobs=2)]: Done   7 tasks      | elapsed:   27.1s\n",
      "[Parallel(n_jobs=2)]: Done   8 tasks      | elapsed:   27.4s\n",
      "[Parallel(n_jobs=2)]: Done   9 tasks      | elapsed:   34.0s\n",
      "[Parallel(n_jobs=2)]: Done  10 tasks      | elapsed:   34.6s\n",
      "[Parallel(n_jobs=2)]: Done  11 tasks      | elapsed:   41.3s\n",
      "[Parallel(n_jobs=2)]: Done  12 tasks      | elapsed:   41.6s\n",
      "[Parallel(n_jobs=2)]: Done  13 tasks      | elapsed:   48.4s\n",
      "[Parallel(n_jobs=2)]: Done  14 tasks      | elapsed:   48.9s\n",
      "[Parallel(n_jobs=2)]: Done  15 tasks      | elapsed:   55.1s\n",
      "[Parallel(n_jobs=2)]: Done  16 tasks      | elapsed:   55.5s\n",
      "[Parallel(n_jobs=2)]: Done  17 tasks      | elapsed:  1.0min\n",
      "[Parallel(n_jobs=2)]: Done  18 tasks      | elapsed:  1.0min\n",
      "[Parallel(n_jobs=2)]: Done  19 tasks      | elapsed:  1.1min\n",
      "[Parallel(n_jobs=2)]: Done  20 tasks      | elapsed:  1.2min\n",
      "[Parallel(n_jobs=2)]: Done  21 tasks      | elapsed:  1.3min\n",
      "[Parallel(n_jobs=2)]: Done  22 out of  24 | elapsed:  1.3min remaining:    6.9s\n"
     ]
    },
    {
     "name": "stderr",
     "output_type": "stream",
     "text": [
      "\r",
      "|######--------------| 51/167  30% [elapsed: 02:44 left: 06:14]"
     ]
    },
    {
     "name": "stdout",
     "output_type": "stream",
     "text": [
      "[Parallel(n_jobs=2)]: Done  24 out of  24 | elapsed:  1.4min remaining:    0.0s\n",
      "[Parallel(n_jobs=2)]: Done  24 out of  24 | elapsed:  1.4min finished\n",
      "[Parallel(n_jobs=2)]: Using backend LokyBackend with 2 concurrent workers.\n",
      "[Parallel(n_jobs=2)]: Done   1 tasks      | elapsed:    6.8s\n",
      "[Parallel(n_jobs=2)]: Done   2 tasks      | elapsed:    6.8s\n",
      "[Parallel(n_jobs=2)]: Done   3 tasks      | elapsed:   14.2s\n",
      "[Parallel(n_jobs=2)]: Done   4 tasks      | elapsed:   14.3s\n",
      "[Parallel(n_jobs=2)]: Done   5 tasks      | elapsed:   21.0s\n",
      "[Parallel(n_jobs=2)]: Done   6 tasks      | elapsed:   21.1s\n",
      "[Parallel(n_jobs=2)]: Done   7 tasks      | elapsed:   28.2s\n",
      "[Parallel(n_jobs=2)]: Done   8 tasks      | elapsed:   28.3s\n",
      "[Parallel(n_jobs=2)]: Done   9 tasks      | elapsed:   34.9s\n",
      "[Parallel(n_jobs=2)]: Done  10 tasks      | elapsed:   35.3s\n",
      "[Parallel(n_jobs=2)]: Done  11 tasks      | elapsed:   41.7s\n",
      "[Parallel(n_jobs=2)]: Done  12 tasks      | elapsed:   42.0s\n",
      "[Parallel(n_jobs=2)]: Done  13 tasks      | elapsed:   48.7s\n",
      "[Parallel(n_jobs=2)]: Done  14 tasks      | elapsed:   48.7s\n",
      "[Parallel(n_jobs=2)]: Done  15 tasks      | elapsed:   55.3s\n",
      "[Parallel(n_jobs=2)]: Done  16 tasks      | elapsed:   55.4s\n",
      "[Parallel(n_jobs=2)]: Done  17 tasks      | elapsed:  1.0min\n",
      "[Parallel(n_jobs=2)]: Done  18 tasks      | elapsed:  1.0min\n",
      "[Parallel(n_jobs=2)]: Done  19 tasks      | elapsed:  1.1min\n",
      "[Parallel(n_jobs=2)]: Done  20 tasks      | elapsed:  1.1min\n",
      "[Parallel(n_jobs=2)]: Done  21 tasks      | elapsed:  1.3min\n",
      "[Parallel(n_jobs=2)]: Done  22 out of  24 | elapsed:  1.3min remaining:    7.2s\n"
     ]
    },
    {
     "name": "stderr",
     "output_type": "stream",
     "text": [
      "\r",
      "|#########-----------| 76/167  45% [elapsed: 04:12 left: 05:02]"
     ]
    },
    {
     "name": "stdout",
     "output_type": "stream",
     "text": [
      "[Parallel(n_jobs=2)]: Done  24 out of  24 | elapsed:  1.5min remaining:    0.0s\n",
      "[Parallel(n_jobs=2)]: Done  24 out of  24 | elapsed:  1.5min finished\n",
      "[Parallel(n_jobs=2)]: Using backend LokyBackend with 2 concurrent workers.\n",
      "[Parallel(n_jobs=2)]: Done   1 tasks      | elapsed:    8.4s\n",
      "[Parallel(n_jobs=2)]: Done   2 tasks      | elapsed:    8.5s\n",
      "[Parallel(n_jobs=2)]: Done   3 tasks      | elapsed:   15.2s\n",
      "[Parallel(n_jobs=2)]: Done   4 tasks      | elapsed:   15.4s\n",
      "[Parallel(n_jobs=2)]: Done   5 tasks      | elapsed:   21.9s\n",
      "[Parallel(n_jobs=2)]: Done   6 tasks      | elapsed:   22.4s\n",
      "[Parallel(n_jobs=2)]: Done   7 tasks      | elapsed:   28.7s\n",
      "[Parallel(n_jobs=2)]: Done   8 tasks      | elapsed:   29.3s\n",
      "[Parallel(n_jobs=2)]: Done   9 tasks      | elapsed:   35.6s\n",
      "[Parallel(n_jobs=2)]: Done  10 tasks      | elapsed:   36.1s\n",
      "[Parallel(n_jobs=2)]: Done  11 tasks      | elapsed:   42.3s\n",
      "[Parallel(n_jobs=2)]: Done  12 tasks      | elapsed:   43.0s\n",
      "[Parallel(n_jobs=2)]: Done  13 tasks      | elapsed:   49.5s\n",
      "[Parallel(n_jobs=2)]: Done  14 tasks      | elapsed:   50.2s\n",
      "[Parallel(n_jobs=2)]: Done  15 tasks      | elapsed:   56.1s\n",
      "[Parallel(n_jobs=2)]: Done  16 tasks      | elapsed:   56.7s\n",
      "[Parallel(n_jobs=2)]: Done  17 tasks      | elapsed:  1.1min\n",
      "[Parallel(n_jobs=2)]: Done  18 tasks      | elapsed:  1.1min\n",
      "[Parallel(n_jobs=2)]: Done  19 tasks      | elapsed:  1.2min\n",
      "[Parallel(n_jobs=2)]: Done  20 tasks      | elapsed:  1.2min\n",
      "[Parallel(n_jobs=2)]: Done  21 tasks      | elapsed:  1.3min\n",
      "[Parallel(n_jobs=2)]: Done  22 out of  24 | elapsed:  1.3min remaining:    7.1s\n"
     ]
    },
    {
     "name": "stderr",
     "output_type": "stream",
     "text": [
      "\r",
      "|############--------| 102/167  61% [elapsed: 05:37 left: 03:35]"
     ]
    },
    {
     "name": "stdout",
     "output_type": "stream",
     "text": [
      "[Parallel(n_jobs=2)]: Done  24 out of  24 | elapsed:  1.4min remaining:    0.0s\n",
      "[Parallel(n_jobs=2)]: Done  24 out of  24 | elapsed:  1.4min finished\n",
      "[Parallel(n_jobs=2)]: Using backend LokyBackend with 2 concurrent workers.\n",
      "[Parallel(n_jobs=2)]: Done   1 tasks      | elapsed:    6.8s\n",
      "[Parallel(n_jobs=2)]: Done   2 tasks      | elapsed:    6.8s\n",
      "[Parallel(n_jobs=2)]: Done   3 tasks      | elapsed:   13.5s\n",
      "[Parallel(n_jobs=2)]: Done   4 tasks      | elapsed:   13.6s\n",
      "[Parallel(n_jobs=2)]: Done   5 tasks      | elapsed:   20.5s\n",
      "[Parallel(n_jobs=2)]: Done   6 tasks      | elapsed:   20.7s\n",
      "[Parallel(n_jobs=2)]: Done   7 tasks      | elapsed:   27.3s\n",
      "[Parallel(n_jobs=2)]: Done   8 tasks      | elapsed:   27.5s\n",
      "[Parallel(n_jobs=2)]: Done   9 tasks      | elapsed:   34.0s\n",
      "[Parallel(n_jobs=2)]: Done  10 tasks      | elapsed:   34.2s\n",
      "[Parallel(n_jobs=2)]: Done  11 tasks      | elapsed:   41.1s\n",
      "[Parallel(n_jobs=2)]: Done  12 tasks      | elapsed:   41.3s\n",
      "[Parallel(n_jobs=2)]: Done  13 tasks      | elapsed:   48.0s\n",
      "[Parallel(n_jobs=2)]: Done  14 tasks      | elapsed:   48.4s\n",
      "[Parallel(n_jobs=2)]: Done  15 tasks      | elapsed:   54.7s\n",
      "[Parallel(n_jobs=2)]: Done  16 tasks      | elapsed:   55.3s\n",
      "[Parallel(n_jobs=2)]: Done  17 tasks      | elapsed:  1.0min\n",
      "[Parallel(n_jobs=2)]: Done  18 tasks      | elapsed:  1.0min\n",
      "[Parallel(n_jobs=2)]: Done  19 tasks      | elapsed:  1.1min\n",
      "[Parallel(n_jobs=2)]: Done  20 tasks      | elapsed:  1.2min\n",
      "[Parallel(n_jobs=2)]: Done  21 tasks      | elapsed:  1.3min\n",
      "[Parallel(n_jobs=2)]: Done  22 out of  24 | elapsed:  1.3min remaining:    6.9s\n"
     ]
    },
    {
     "name": "stderr",
     "output_type": "stream",
     "text": [
      "\r",
      "|###############-----| 127/167  76% [elapsed: 07:00 left: 02:12]"
     ]
    },
    {
     "name": "stdout",
     "output_type": "stream",
     "text": [
      "[Parallel(n_jobs=2)]: Done  24 out of  24 | elapsed:  1.4min remaining:    0.0s\n",
      "[Parallel(n_jobs=2)]: Done  24 out of  24 | elapsed:  1.4min finished\n",
      "[Parallel(n_jobs=2)]: Using backend LokyBackend with 2 concurrent workers.\n",
      "[Parallel(n_jobs=2)]: Done   1 tasks      | elapsed:    6.8s\n",
      "[Parallel(n_jobs=2)]: Done   2 tasks      | elapsed:    6.8s\n",
      "[Parallel(n_jobs=2)]: Done   3 tasks      | elapsed:   14.3s\n",
      "[Parallel(n_jobs=2)]: Done   4 tasks      | elapsed:   14.4s\n",
      "[Parallel(n_jobs=2)]: Done   5 tasks      | elapsed:   21.0s\n",
      "[Parallel(n_jobs=2)]: Done   6 tasks      | elapsed:   21.0s\n",
      "[Parallel(n_jobs=2)]: Done   7 tasks      | elapsed:   27.7s\n",
      "[Parallel(n_jobs=2)]: Done   8 tasks      | elapsed:   28.0s\n",
      "[Parallel(n_jobs=2)]: Done   9 tasks      | elapsed:   34.4s\n",
      "[Parallel(n_jobs=2)]: Done  10 tasks      | elapsed:   34.7s\n",
      "[Parallel(n_jobs=2)]: Done  11 tasks      | elapsed:   41.2s\n",
      "[Parallel(n_jobs=2)]: Done  12 tasks      | elapsed:   41.3s\n",
      "[Parallel(n_jobs=2)]: Done  13 tasks      | elapsed:   48.0s\n",
      "[Parallel(n_jobs=2)]: Done  14 tasks      | elapsed:   48.2s\n",
      "[Parallel(n_jobs=2)]: Done  15 tasks      | elapsed:   55.0s\n",
      "[Parallel(n_jobs=2)]: Done  16 tasks      | elapsed:   55.0s\n",
      "[Parallel(n_jobs=2)]: Done  17 tasks      | elapsed:  1.0min\n",
      "[Parallel(n_jobs=2)]: Done  18 tasks      | elapsed:  1.0min\n",
      "[Parallel(n_jobs=2)]: Done  19 tasks      | elapsed:  1.2min\n",
      "[Parallel(n_jobs=2)]: Done  20 tasks      | elapsed:  1.2min\n",
      "[Parallel(n_jobs=2)]: Done  21 tasks      | elapsed:  1.3min\n",
      "[Parallel(n_jobs=2)]: Done  22 out of  24 | elapsed:  1.3min remaining:    6.9s\n"
     ]
    },
    {
     "name": "stderr",
     "output_type": "stream",
     "text": [
      "|####################| 167/167 100% [elapsed: 08:24 left: 00:00]"
     ]
    },
    {
     "name": "stdout",
     "output_type": "stream",
     "text": [
      "[Parallel(n_jobs=2)]: Done  24 out of  24 | elapsed:  1.4min remaining:    0.0s\n",
      "[Parallel(n_jobs=2)]: Done  24 out of  24 | elapsed:  1.4min finished\n",
      "DES0131-3206-r\n"
     ]
    },
    {
     "name": "stderr",
     "output_type": "stream",
     "text": [
      "\n",
      "|--------------------| 0/169   0% [elapsed: 00:00 left: ?]"
     ]
    },
    {
     "name": "stdout",
     "output_type": "stream",
     "text": [
      "[Parallel(n_jobs=2)]: Using backend LokyBackend with 2 concurrent workers.\n",
      "[Parallel(n_jobs=2)]: Done   1 tasks      | elapsed:    7.1s\n",
      "[Parallel(n_jobs=2)]: Done   2 tasks      | elapsed:    7.3s\n",
      "[Parallel(n_jobs=2)]: Done   3 tasks      | elapsed:   14.2s\n",
      "[Parallel(n_jobs=2)]: Done   4 tasks      | elapsed:   14.3s\n",
      "[Parallel(n_jobs=2)]: Done   5 tasks      | elapsed:   21.1s\n",
      "[Parallel(n_jobs=2)]: Done   6 tasks      | elapsed:   21.1s\n",
      "[Parallel(n_jobs=2)]: Done   7 tasks      | elapsed:   27.9s\n",
      "[Parallel(n_jobs=2)]: Done   8 tasks      | elapsed:   28.1s\n",
      "[Parallel(n_jobs=2)]: Done   9 tasks      | elapsed:   35.8s\n",
      "[Parallel(n_jobs=2)]: Done  10 tasks      | elapsed:   36.1s\n",
      "[Parallel(n_jobs=2)]: Done  11 tasks      | elapsed:   42.9s\n",
      "[Parallel(n_jobs=2)]: Done  12 tasks      | elapsed:   43.2s\n",
      "[Parallel(n_jobs=2)]: Done  13 tasks      | elapsed:   50.6s\n",
      "[Parallel(n_jobs=2)]: Done  14 tasks      | elapsed:   50.7s\n",
      "[Parallel(n_jobs=2)]: Done  15 tasks      | elapsed:   57.1s\n",
      "[Parallel(n_jobs=2)]: Done  16 tasks      | elapsed:   57.5s\n",
      "[Parallel(n_jobs=2)]: Done  17 tasks      | elapsed:  1.1min\n",
      "[Parallel(n_jobs=2)]: Done  18 tasks      | elapsed:  1.1min\n",
      "[Parallel(n_jobs=2)]: Done  19 tasks      | elapsed:  1.2min\n",
      "[Parallel(n_jobs=2)]: Done  20 tasks      | elapsed:  1.2min\n",
      "[Parallel(n_jobs=2)]: Done  21 tasks      | elapsed:  1.3min\n",
      "[Parallel(n_jobs=2)]: Done  22 out of  24 | elapsed:  1.3min remaining:    7.2s\n"
     ]
    },
    {
     "name": "stderr",
     "output_type": "stream",
     "text": [
      "\r",
      "|##------------------| 25/169  14% [elapsed: 01:25 left: 08:13]"
     ]
    },
    {
     "name": "stdout",
     "output_type": "stream",
     "text": [
      "[Parallel(n_jobs=2)]: Done  24 out of  24 | elapsed:  1.4min remaining:    0.0s\n",
      "[Parallel(n_jobs=2)]: Done  24 out of  24 | elapsed:  1.4min finished\n",
      "[Parallel(n_jobs=2)]: Using backend LokyBackend with 2 concurrent workers.\n",
      "[Parallel(n_jobs=2)]: Done   1 tasks      | elapsed:    7.3s\n",
      "[Parallel(n_jobs=2)]: Done   2 tasks      | elapsed:    7.4s\n",
      "[Parallel(n_jobs=2)]: Done   3 tasks      | elapsed:   14.6s\n",
      "[Parallel(n_jobs=2)]: Done   4 tasks      | elapsed:   14.8s\n",
      "[Parallel(n_jobs=2)]: Done   5 tasks      | elapsed:   21.6s\n",
      "[Parallel(n_jobs=2)]: Done   6 tasks      | elapsed:   22.0s\n",
      "[Parallel(n_jobs=2)]: Done   7 tasks      | elapsed:   28.7s\n",
      "[Parallel(n_jobs=2)]: Done   8 tasks      | elapsed:   29.1s\n",
      "[Parallel(n_jobs=2)]: Done   9 tasks      | elapsed:   35.9s\n",
      "[Parallel(n_jobs=2)]: Done  10 tasks      | elapsed:   36.3s\n",
      "[Parallel(n_jobs=2)]: Done  11 tasks      | elapsed:   43.2s\n",
      "[Parallel(n_jobs=2)]: Done  12 tasks      | elapsed:   43.5s\n",
      "[Parallel(n_jobs=2)]: Done  13 tasks      | elapsed:   50.0s\n",
      "[Parallel(n_jobs=2)]: Done  14 tasks      | elapsed:   50.2s\n",
      "[Parallel(n_jobs=2)]: Done  15 tasks      | elapsed:   56.6s\n",
      "[Parallel(n_jobs=2)]: Done  16 tasks      | elapsed:   57.0s\n",
      "[Parallel(n_jobs=2)]: Done  17 tasks      | elapsed:  1.1min\n",
      "[Parallel(n_jobs=2)]: Done  18 tasks      | elapsed:  1.1min\n",
      "[Parallel(n_jobs=2)]: Done  19 tasks      | elapsed:  1.2min\n",
      "[Parallel(n_jobs=2)]: Done  20 tasks      | elapsed:  1.2min\n",
      "[Parallel(n_jobs=2)]: Done  21 tasks      | elapsed:  1.3min\n",
      "[Parallel(n_jobs=2)]: Done  22 out of  24 | elapsed:  1.3min remaining:    7.1s\n"
     ]
    },
    {
     "name": "stderr",
     "output_type": "stream",
     "text": [
      "\r",
      "|######--------------| 51/169  30% [elapsed: 02:51 left: 06:35]"
     ]
    },
    {
     "name": "stdout",
     "output_type": "stream",
     "text": [
      "[Parallel(n_jobs=2)]: Done  24 out of  24 | elapsed:  1.4min remaining:    0.0s\n",
      "[Parallel(n_jobs=2)]: Done  24 out of  24 | elapsed:  1.4min finished\n",
      "[Parallel(n_jobs=2)]: Using backend LokyBackend with 2 concurrent workers.\n",
      "[Parallel(n_jobs=2)]: Done   1 tasks      | elapsed:    7.3s\n",
      "[Parallel(n_jobs=2)]: Done   2 tasks      | elapsed:    7.4s\n",
      "[Parallel(n_jobs=2)]: Done   3 tasks      | elapsed:   14.6s\n",
      "[Parallel(n_jobs=2)]: Done   4 tasks      | elapsed:   14.7s\n",
      "[Parallel(n_jobs=2)]: Done   5 tasks      | elapsed:   21.4s\n",
      "[Parallel(n_jobs=2)]: Done   6 tasks      | elapsed:   21.5s\n",
      "[Parallel(n_jobs=2)]: Done   7 tasks      | elapsed:   28.1s\n",
      "[Parallel(n_jobs=2)]: Done   8 tasks      | elapsed:   28.2s\n",
      "[Parallel(n_jobs=2)]: Done   9 tasks      | elapsed:   35.0s\n",
      "[Parallel(n_jobs=2)]: Done  10 tasks      | elapsed:   35.0s\n",
      "[Parallel(n_jobs=2)]: Done  11 tasks      | elapsed:   42.2s\n",
      "[Parallel(n_jobs=2)]: Done  12 tasks      | elapsed:   42.3s\n",
      "[Parallel(n_jobs=2)]: Done  13 tasks      | elapsed:   49.1s\n",
      "[Parallel(n_jobs=2)]: Done  14 tasks      | elapsed:   49.2s\n",
      "[Parallel(n_jobs=2)]: Done  15 tasks      | elapsed:   55.9s\n",
      "[Parallel(n_jobs=2)]: Done  16 tasks      | elapsed:   55.9s\n",
      "[Parallel(n_jobs=2)]: Done  17 tasks      | elapsed:  1.1min\n",
      "[Parallel(n_jobs=2)]: Done  18 tasks      | elapsed:  1.1min\n",
      "[Parallel(n_jobs=2)]: Done  19 tasks      | elapsed:  1.2min\n",
      "[Parallel(n_jobs=2)]: Done  20 tasks      | elapsed:  1.2min\n",
      "[Parallel(n_jobs=2)]: Done  21 tasks      | elapsed:  1.3min\n",
      "[Parallel(n_jobs=2)]: Done  22 out of  24 | elapsed:  1.3min remaining:    7.1s\n"
     ]
    },
    {
     "name": "stderr",
     "output_type": "stream",
     "text": [
      "\r",
      "|########------------| 76/169  44% [elapsed: 04:15 left: 05:12]"
     ]
    },
    {
     "name": "stdout",
     "output_type": "stream",
     "text": [
      "[Parallel(n_jobs=2)]: Done  24 out of  24 | elapsed:  1.4min remaining:    0.0s\n",
      "[Parallel(n_jobs=2)]: Done  24 out of  24 | elapsed:  1.4min finished\n",
      "[Parallel(n_jobs=2)]: Using backend LokyBackend with 2 concurrent workers.\n",
      "[Parallel(n_jobs=2)]: Done   1 tasks      | elapsed:    6.9s\n",
      "[Parallel(n_jobs=2)]: Done   2 tasks      | elapsed:    7.2s\n",
      "[Parallel(n_jobs=2)]: Done   3 tasks      | elapsed:   13.9s\n",
      "[Parallel(n_jobs=2)]: Done   4 tasks      | elapsed:   14.0s\n",
      "[Parallel(n_jobs=2)]: Done   5 tasks      | elapsed:   21.4s\n",
      "[Parallel(n_jobs=2)]: Done   6 tasks      | elapsed:   21.6s\n",
      "[Parallel(n_jobs=2)]: Done   7 tasks      | elapsed:   28.2s\n",
      "[Parallel(n_jobs=2)]: Done   8 tasks      | elapsed:   28.3s\n",
      "[Parallel(n_jobs=2)]: Done   9 tasks      | elapsed:   35.4s\n",
      "[Parallel(n_jobs=2)]: Done  10 tasks      | elapsed:   35.5s\n",
      "[Parallel(n_jobs=2)]: Done  11 tasks      | elapsed:   42.4s\n",
      "[Parallel(n_jobs=2)]: Done  12 tasks      | elapsed:   42.4s\n",
      "[Parallel(n_jobs=2)]: Done  13 tasks      | elapsed:   49.7s\n",
      "[Parallel(n_jobs=2)]: Done  14 tasks      | elapsed:   49.8s\n",
      "[Parallel(n_jobs=2)]: Done  15 tasks      | elapsed:   56.6s\n",
      "[Parallel(n_jobs=2)]: Done  16 tasks      | elapsed:   56.7s\n",
      "[Parallel(n_jobs=2)]: Done  17 tasks      | elapsed:  1.1min\n",
      "[Parallel(n_jobs=2)]: Done  18 tasks      | elapsed:  1.1min\n",
      "[Parallel(n_jobs=2)]: Done  19 tasks      | elapsed:  1.2min\n",
      "[Parallel(n_jobs=2)]: Done  20 tasks      | elapsed:  1.2min\n",
      "/Users/beckermr/MEDS_DIR/des-pizza-slices-y6-test/DES0131-3206/sources-r/OPS/finalcut/Y6A2_PIFF/20161219-r5702/D00602597/p01/psf/D00602597_r_c31_r5702p01_piff-model.fits 0.083984375 701.9478175635355\n",
      "[Parallel(n_jobs=2)]: Done  21 tasks      | elapsed:  1.3min\n",
      "[Parallel(n_jobs=2)]: Done  22 out of  24 | elapsed:  1.3min remaining:    7.2s\n"
     ]
    },
    {
     "name": "stderr",
     "output_type": "stream",
     "text": [
      "\r",
      "|###########---------| 101/169  59% [elapsed: 05:43 left: 03:51]"
     ]
    },
    {
     "name": "stdout",
     "output_type": "stream",
     "text": [
      "[Parallel(n_jobs=2)]: Done  24 out of  24 | elapsed:  1.5min remaining:    0.0s\n",
      "[Parallel(n_jobs=2)]: Done  24 out of  24 | elapsed:  1.5min finished\n",
      "[Parallel(n_jobs=2)]: Using backend LokyBackend with 2 concurrent workers.\n",
      "[Parallel(n_jobs=2)]: Done   1 tasks      | elapsed:    7.1s\n",
      "[Parallel(n_jobs=2)]: Done   2 tasks      | elapsed:    7.1s\n",
      "[Parallel(n_jobs=2)]: Done   3 tasks      | elapsed:   14.9s\n",
      "[Parallel(n_jobs=2)]: Done   4 tasks      | elapsed:   15.0s\n",
      "[Parallel(n_jobs=2)]: Done   5 tasks      | elapsed:   22.0s\n",
      "[Parallel(n_jobs=2)]: Done   6 tasks      | elapsed:   22.0s\n",
      "[Parallel(n_jobs=2)]: Done   7 tasks      | elapsed:   29.4s\n",
      "[Parallel(n_jobs=2)]: Done   8 tasks      | elapsed:   29.6s\n",
      "[Parallel(n_jobs=2)]: Done   9 tasks      | elapsed:   36.7s\n",
      "[Parallel(n_jobs=2)]: Done  10 tasks      | elapsed:   36.7s\n",
      "[Parallel(n_jobs=2)]: Done  11 tasks      | elapsed:   43.5s\n",
      "[Parallel(n_jobs=2)]: Done  12 tasks      | elapsed:   43.5s\n",
      "[Parallel(n_jobs=2)]: Done  13 tasks      | elapsed:   50.9s\n",
      "[Parallel(n_jobs=2)]: Done  14 tasks      | elapsed:   51.0s\n",
      "[Parallel(n_jobs=2)]: Done  15 tasks      | elapsed:   57.9s\n",
      "[Parallel(n_jobs=2)]: Done  16 tasks      | elapsed:   57.9s\n",
      "[Parallel(n_jobs=2)]: Done  17 tasks      | elapsed:  1.1min\n",
      "[Parallel(n_jobs=2)]: Done  18 tasks      | elapsed:  1.1min\n",
      "[Parallel(n_jobs=2)]: Done  19 tasks      | elapsed:  1.2min\n",
      "[Parallel(n_jobs=2)]: Done  20 tasks      | elapsed:  1.2min\n",
      "[Parallel(n_jobs=2)]: Done  21 tasks      | elapsed:  1.3min\n",
      "[Parallel(n_jobs=2)]: Done  22 out of  24 | elapsed:  1.3min remaining:    7.2s\n"
     ]
    },
    {
     "name": "stderr",
     "output_type": "stream",
     "text": [
      "\r",
      "|##############------| 126/169  74% [elapsed: 07:09 left: 02:26]"
     ]
    },
    {
     "name": "stdout",
     "output_type": "stream",
     "text": [
      "[Parallel(n_jobs=2)]: Done  24 out of  24 | elapsed:  1.4min remaining:    0.0s\n",
      "[Parallel(n_jobs=2)]: Done  24 out of  24 | elapsed:  1.4min finished\n",
      "[Parallel(n_jobs=2)]: Using backend LokyBackend with 2 concurrent workers.\n",
      "[Parallel(n_jobs=2)]: Done   1 tasks      | elapsed:    7.0s\n",
      "[Parallel(n_jobs=2)]: Done   2 tasks      | elapsed:    7.1s\n",
      "[Parallel(n_jobs=2)]: Done   3 tasks      | elapsed:   13.8s\n",
      "[Parallel(n_jobs=2)]: Done   4 tasks      | elapsed:   13.9s\n",
      "[Parallel(n_jobs=2)]: Done   5 tasks      | elapsed:   20.6s\n",
      "[Parallel(n_jobs=2)]: Done   6 tasks      | elapsed:   20.9s\n",
      "[Parallel(n_jobs=2)]: Done   7 tasks      | elapsed:   27.9s\n",
      "[Parallel(n_jobs=2)]: Done   8 tasks      | elapsed:   28.0s\n",
      "[Parallel(n_jobs=2)]: Done   9 tasks      | elapsed:   34.6s\n",
      "[Parallel(n_jobs=2)]: Done  10 tasks      | elapsed:   34.9s\n",
      "[Parallel(n_jobs=2)]: Done  11 tasks      | elapsed:   41.3s\n",
      "[Parallel(n_jobs=2)]: Done  12 tasks      | elapsed:   41.7s\n",
      "[Parallel(n_jobs=2)]: Done  13 tasks      | elapsed:   48.2s\n",
      "[Parallel(n_jobs=2)]: Done  14 tasks      | elapsed:   48.7s\n",
      "[Parallel(n_jobs=2)]: Done  15 tasks      | elapsed:   55.4s\n",
      "[Parallel(n_jobs=2)]: Done  16 tasks      | elapsed:   56.1s\n",
      "[Parallel(n_jobs=2)]: Done  17 tasks      | elapsed:  1.0min\n",
      "[Parallel(n_jobs=2)]: Done  18 tasks      | elapsed:  1.1min\n",
      "[Parallel(n_jobs=2)]: Done  19 tasks      | elapsed:  1.2min\n",
      "[Parallel(n_jobs=2)]: Done  20 tasks      | elapsed:  1.2min\n",
      "[Parallel(n_jobs=2)]: Done  21 tasks      | elapsed:  1.3min\n",
      "[Parallel(n_jobs=2)]: Done  22 out of  24 | elapsed:  1.3min remaining:    7.1s\n"
     ]
    },
    {
     "name": "stderr",
     "output_type": "stream",
     "text": [
      "|####################| 169/169 100% [elapsed: 08:35 left: 00:00]"
     ]
    },
    {
     "name": "stdout",
     "output_type": "stream",
     "text": [
      "[Parallel(n_jobs=2)]: Done  24 out of  24 | elapsed:  1.4min remaining:    0.0s\n",
      "[Parallel(n_jobs=2)]: Done  24 out of  24 | elapsed:  1.4min finished\n",
      "DES0131-3206-g\n"
     ]
    },
    {
     "name": "stderr",
     "output_type": "stream",
     "text": [
      "\n",
      "|--------------------| 0/166   0% [elapsed: 00:00 left: ?]"
     ]
    },
    {
     "name": "stdout",
     "output_type": "stream",
     "text": [
      "[Parallel(n_jobs=2)]: Using backend LokyBackend with 2 concurrent workers.\n",
      "[Parallel(n_jobs=2)]: Done   1 tasks      | elapsed:    6.9s\n",
      "[Parallel(n_jobs=2)]: Done   2 tasks      | elapsed:    7.0s\n",
      "[Parallel(n_jobs=2)]: Done   3 tasks      | elapsed:   14.1s\n",
      "[Parallel(n_jobs=2)]: Done   4 tasks      | elapsed:   14.2s\n",
      "[Parallel(n_jobs=2)]: Done   5 tasks      | elapsed:   20.9s\n",
      "[Parallel(n_jobs=2)]: Done   6 tasks      | elapsed:   21.0s\n",
      "[Parallel(n_jobs=2)]: Done   7 tasks      | elapsed:   27.7s\n",
      "[Parallel(n_jobs=2)]: Done   8 tasks      | elapsed:   28.0s\n",
      "[Parallel(n_jobs=2)]: Done   9 tasks      | elapsed:   34.8s\n",
      "[Parallel(n_jobs=2)]: Done  10 tasks      | elapsed:   35.2s\n",
      "[Parallel(n_jobs=2)]: Done  11 tasks      | elapsed:   42.0s\n",
      "[Parallel(n_jobs=2)]: Done  12 tasks      | elapsed:   42.3s\n",
      "[Parallel(n_jobs=2)]: Done  13 tasks      | elapsed:   48.9s\n",
      "[Parallel(n_jobs=2)]: Done  14 tasks      | elapsed:   49.2s\n",
      "[Parallel(n_jobs=2)]: Done  15 tasks      | elapsed:   56.4s\n",
      "[Parallel(n_jobs=2)]: Done  16 tasks      | elapsed:   56.5s\n",
      "[Parallel(n_jobs=2)]: Done  17 tasks      | elapsed:  1.1min\n",
      "[Parallel(n_jobs=2)]: Done  18 tasks      | elapsed:  1.1min\n",
      "[Parallel(n_jobs=2)]: Done  19 tasks      | elapsed:  1.2min\n",
      "[Parallel(n_jobs=2)]: Done  20 tasks      | elapsed:  1.2min\n",
      "[Parallel(n_jobs=2)]: Done  21 tasks      | elapsed:  1.3min\n",
      "[Parallel(n_jobs=2)]: Done  22 out of  24 | elapsed:  1.3min remaining:    7.1s\n"
     ]
    },
    {
     "name": "stderr",
     "output_type": "stream",
     "text": [
      "\r",
      "|###-----------------| 25/166  15% [elapsed: 01:24 left: 07:58]"
     ]
    },
    {
     "name": "stdout",
     "output_type": "stream",
     "text": [
      "[Parallel(n_jobs=2)]: Done  24 out of  24 | elapsed:  1.4min remaining:    0.0s\n",
      "[Parallel(n_jobs=2)]: Done  24 out of  24 | elapsed:  1.4min finished\n",
      "[Parallel(n_jobs=2)]: Using backend LokyBackend with 2 concurrent workers.\n",
      "[Parallel(n_jobs=2)]: Done   1 tasks      | elapsed:    7.0s\n",
      "[Parallel(n_jobs=2)]: Done   2 tasks      | elapsed:    7.2s\n",
      "[Parallel(n_jobs=2)]: Done   3 tasks      | elapsed:   14.7s\n",
      "[Parallel(n_jobs=2)]: Done   4 tasks      | elapsed:   14.9s\n",
      "[Parallel(n_jobs=2)]: Done   5 tasks      | elapsed:   22.2s\n",
      "[Parallel(n_jobs=2)]: Done   6 tasks      | elapsed:   22.3s\n",
      "[Parallel(n_jobs=2)]: Done   7 tasks      | elapsed:   29.7s\n",
      "[Parallel(n_jobs=2)]: Done   8 tasks      | elapsed:   29.8s\n",
      "[Parallel(n_jobs=2)]: Done   9 tasks      | elapsed:   37.7s\n",
      "[Parallel(n_jobs=2)]: Done  10 tasks      | elapsed:   37.8s\n",
      "[Parallel(n_jobs=2)]: Done  11 tasks      | elapsed:   45.6s\n",
      "[Parallel(n_jobs=2)]: Done  12 tasks      | elapsed:   45.7s\n",
      "[Parallel(n_jobs=2)]: Done  13 tasks      | elapsed:   52.6s\n",
      "[Parallel(n_jobs=2)]: Done  14 tasks      | elapsed:   52.7s\n",
      "[Parallel(n_jobs=2)]: Done  15 tasks      | elapsed:   59.5s\n",
      "[Parallel(n_jobs=2)]: Done  16 tasks      | elapsed:   59.8s\n",
      "[Parallel(n_jobs=2)]: Done  17 tasks      | elapsed:  1.1min\n",
      "[Parallel(n_jobs=2)]: Done  18 tasks      | elapsed:  1.1min\n",
      "[Parallel(n_jobs=2)]: Done  19 tasks      | elapsed:  1.2min\n",
      "[Parallel(n_jobs=2)]: Done  20 tasks      | elapsed:  1.2min\n",
      "[Parallel(n_jobs=2)]: Done  21 tasks      | elapsed:  1.3min\n",
      "[Parallel(n_jobs=2)]: Done  22 out of  24 | elapsed:  1.3min remaining:    7.3s\n"
     ]
    },
    {
     "name": "stderr",
     "output_type": "stream",
     "text": [
      "\r",
      "|######--------------| 50/166  30% [elapsed: 02:52 left: 06:40]"
     ]
    },
    {
     "name": "stdout",
     "output_type": "stream",
     "text": [
      "[Parallel(n_jobs=2)]: Done  24 out of  24 | elapsed:  1.5min remaining:    0.0s\n",
      "[Parallel(n_jobs=2)]: Done  24 out of  24 | elapsed:  1.5min finished\n",
      "[Parallel(n_jobs=2)]: Using backend LokyBackend with 2 concurrent workers.\n",
      "[Parallel(n_jobs=2)]: Done   1 tasks      | elapsed:    7.9s\n",
      "[Parallel(n_jobs=2)]: Done   2 tasks      | elapsed:    7.9s\n",
      "[Parallel(n_jobs=2)]: Done   3 tasks      | elapsed:   14.9s\n",
      "[Parallel(n_jobs=2)]: Done   4 tasks      | elapsed:   14.9s\n",
      "[Parallel(n_jobs=2)]: Done   5 tasks      | elapsed:   22.1s\n",
      "[Parallel(n_jobs=2)]: Done   6 tasks      | elapsed:   22.1s\n",
      "[Parallel(n_jobs=2)]: Done   7 tasks      | elapsed:   28.8s\n",
      "[Parallel(n_jobs=2)]: Done   8 tasks      | elapsed:   28.9s\n",
      "[Parallel(n_jobs=2)]: Done   9 tasks      | elapsed:   35.8s\n",
      "[Parallel(n_jobs=2)]: Done  10 tasks      | elapsed:   36.0s\n",
      "[Parallel(n_jobs=2)]: Done  11 tasks      | elapsed:   42.8s\n",
      "[Parallel(n_jobs=2)]: Done  12 tasks      | elapsed:   42.9s\n",
      "[Parallel(n_jobs=2)]: Done  13 tasks      | elapsed:   49.7s\n",
      "[Parallel(n_jobs=2)]: Done  14 tasks      | elapsed:   49.8s\n",
      "[Parallel(n_jobs=2)]: Done  15 tasks      | elapsed:   57.0s\n",
      "[Parallel(n_jobs=2)]: Done  16 tasks      | elapsed:   57.2s\n",
      "[Parallel(n_jobs=2)]: Done  17 tasks      | elapsed:  1.1min\n",
      "[Parallel(n_jobs=2)]: Done  18 tasks      | elapsed:  1.1min\n",
      "[Parallel(n_jobs=2)]: Done  19 tasks      | elapsed:  1.2min\n",
      "[Parallel(n_jobs=2)]: Done  20 tasks      | elapsed:  1.2min\n",
      "[Parallel(n_jobs=2)]: Done  21 tasks      | elapsed:  1.3min\n",
      "[Parallel(n_jobs=2)]: Done  22 out of  24 | elapsed:  1.3min remaining:    7.1s\n"
     ]
    },
    {
     "name": "stderr",
     "output_type": "stream",
     "text": [
      "\r",
      "|#########-----------| 75/166  45% [elapsed: 04:17 left: 05:12]"
     ]
    },
    {
     "name": "stdout",
     "output_type": "stream",
     "text": [
      "[Parallel(n_jobs=2)]: Done  24 out of  24 | elapsed:  1.4min remaining:    0.0s\n",
      "[Parallel(n_jobs=2)]: Done  24 out of  24 | elapsed:  1.4min finished\n",
      "[Parallel(n_jobs=2)]: Using backend LokyBackend with 2 concurrent workers.\n",
      "[Parallel(n_jobs=2)]: Done   1 tasks      | elapsed:    7.3s\n",
      "[Parallel(n_jobs=2)]: Done   2 tasks      | elapsed:    7.4s\n",
      "[Parallel(n_jobs=2)]: Done   3 tasks      | elapsed:   14.6s\n",
      "[Parallel(n_jobs=2)]: Done   4 tasks      | elapsed:   14.7s\n",
      "[Parallel(n_jobs=2)]: Done   5 tasks      | elapsed:   21.5s\n",
      "[Parallel(n_jobs=2)]: Done   6 tasks      | elapsed:   21.7s\n",
      "[Parallel(n_jobs=2)]: Done   7 tasks      | elapsed:   28.4s\n",
      "[Parallel(n_jobs=2)]: Done   8 tasks      | elapsed:   28.5s\n",
      "[Parallel(n_jobs=2)]: Done   9 tasks      | elapsed:   35.1s\n",
      "[Parallel(n_jobs=2)]: Done  10 tasks      | elapsed:   35.2s\n",
      "[Parallel(n_jobs=2)]: Done  11 tasks      | elapsed:   42.6s\n",
      "[Parallel(n_jobs=2)]: Done  12 tasks      | elapsed:   42.6s\n",
      "[Parallel(n_jobs=2)]: Done  13 tasks      | elapsed:   49.4s\n",
      "[Parallel(n_jobs=2)]: Done  14 tasks      | elapsed:   49.5s\n",
      "[Parallel(n_jobs=2)]: Done  15 tasks      | elapsed:   56.7s\n",
      "[Parallel(n_jobs=2)]: Done  16 tasks      | elapsed:   56.8s\n",
      "[Parallel(n_jobs=2)]: Done  17 tasks      | elapsed:  1.1min\n",
      "[Parallel(n_jobs=2)]: Done  18 tasks      | elapsed:  1.1min\n",
      "[Parallel(n_jobs=2)]: Done  19 tasks      | elapsed:  1.2min\n",
      "[Parallel(n_jobs=2)]: Done  20 tasks      | elapsed:  1.2min\n",
      "[Parallel(n_jobs=2)]: Done  21 tasks      | elapsed:  1.3min\n",
      "[Parallel(n_jobs=2)]: Done  22 out of  24 | elapsed:  1.3min remaining:    7.1s\n"
     ]
    },
    {
     "name": "stderr",
     "output_type": "stream",
     "text": [
      "\r",
      "|############--------| 101/166  60% [elapsed: 05:42 left: 03:40]"
     ]
    },
    {
     "name": "stdout",
     "output_type": "stream",
     "text": [
      "[Parallel(n_jobs=2)]: Done  24 out of  24 | elapsed:  1.4min remaining:    0.0s\n",
      "[Parallel(n_jobs=2)]: Done  24 out of  24 | elapsed:  1.4min finished\n",
      "[Parallel(n_jobs=2)]: Using backend LokyBackend with 2 concurrent workers.\n",
      "[Parallel(n_jobs=2)]: Done   1 tasks      | elapsed:    6.8s\n",
      "[Parallel(n_jobs=2)]: Done   2 tasks      | elapsed:    6.8s\n",
      "[Parallel(n_jobs=2)]: Done   3 tasks      | elapsed:   14.6s\n",
      "[Parallel(n_jobs=2)]: Done   4 tasks      | elapsed:   15.0s\n",
      "[Parallel(n_jobs=2)]: Done   5 tasks      | elapsed:   21.5s\n",
      "[Parallel(n_jobs=2)]: Done   6 tasks      | elapsed:   21.7s\n",
      "[Parallel(n_jobs=2)]: Done   7 tasks      | elapsed:   28.9s\n",
      "[Parallel(n_jobs=2)]: Done   8 tasks      | elapsed:   28.9s\n",
      "[Parallel(n_jobs=2)]: Done   9 tasks      | elapsed:   35.8s\n",
      "[Parallel(n_jobs=2)]: Done  10 tasks      | elapsed:   36.0s\n",
      "[Parallel(n_jobs=2)]: Done  11 tasks      | elapsed:   42.8s\n",
      "[Parallel(n_jobs=2)]: Done  12 tasks      | elapsed:   42.9s\n",
      "[Parallel(n_jobs=2)]: Done  13 tasks      | elapsed:   49.9s\n",
      "[Parallel(n_jobs=2)]: Done  14 tasks      | elapsed:   50.3s\n",
      "[Parallel(n_jobs=2)]: Done  15 tasks      | elapsed:   56.8s\n",
      "[Parallel(n_jobs=2)]: Done  16 tasks      | elapsed:   57.1s\n",
      "[Parallel(n_jobs=2)]: Done  17 tasks      | elapsed:  1.1min\n",
      "[Parallel(n_jobs=2)]: Done  18 tasks      | elapsed:  1.1min\n",
      "[Parallel(n_jobs=2)]: Done  19 tasks      | elapsed:  1.2min\n",
      "[Parallel(n_jobs=2)]: Done  20 tasks      | elapsed:  1.2min\n",
      "[Parallel(n_jobs=2)]: Done  21 tasks      | elapsed:  1.4min\n",
      "[Parallel(n_jobs=2)]: Done  22 out of  24 | elapsed:  1.4min remaining:    7.5s\n"
     ]
    },
    {
     "name": "stderr",
     "output_type": "stream",
     "text": [
      "\r",
      "|###############-----| 126/166  75% [elapsed: 07:14 left: 02:18]"
     ]
    },
    {
     "name": "stdout",
     "output_type": "stream",
     "text": [
      "[Parallel(n_jobs=2)]: Done  24 out of  24 | elapsed:  1.5min remaining:    0.0s\n",
      "[Parallel(n_jobs=2)]: Done  24 out of  24 | elapsed:  1.5min finished\n",
      "[Parallel(n_jobs=2)]: Using backend LokyBackend with 2 concurrent workers.\n",
      "[Parallel(n_jobs=2)]: Done   1 tasks      | elapsed:    7.1s\n",
      "[Parallel(n_jobs=2)]: Done   2 tasks      | elapsed:    7.3s\n",
      "[Parallel(n_jobs=2)]: Done   3 tasks      | elapsed:   14.4s\n",
      "[Parallel(n_jobs=2)]: Done   4 tasks      | elapsed:   14.6s\n",
      "[Parallel(n_jobs=2)]: Done   5 tasks      | elapsed:   21.4s\n",
      "[Parallel(n_jobs=2)]: Done   6 tasks      | elapsed:   21.4s\n",
      "[Parallel(n_jobs=2)]: Done   7 tasks      | elapsed:   28.3s\n",
      "[Parallel(n_jobs=2)]: Done   8 tasks      | elapsed:   28.4s\n",
      "[Parallel(n_jobs=2)]: Done   9 tasks      | elapsed:   35.1s\n",
      "[Parallel(n_jobs=2)]: Done  10 tasks      | elapsed:   35.2s\n",
      "[Parallel(n_jobs=2)]: Done  11 tasks      | elapsed:   43.2s\n",
      "[Parallel(n_jobs=2)]: Done  12 tasks      | elapsed:   43.3s\n",
      "[Parallel(n_jobs=2)]: Done  13 tasks      | elapsed:   50.4s\n",
      "[Parallel(n_jobs=2)]: Done  14 tasks      | elapsed:   50.7s\n",
      "[Parallel(n_jobs=2)]: Done  15 tasks      | elapsed:   57.7s\n",
      "[Parallel(n_jobs=2)]: Done  16 tasks      | elapsed:   58.1s\n",
      "[Parallel(n_jobs=2)]: Done  17 tasks      | elapsed:  1.1min\n",
      "[Parallel(n_jobs=2)]: Done  18 tasks      | elapsed:  1.1min\n",
      "[Parallel(n_jobs=2)]: Done  19 tasks      | elapsed:  1.2min\n",
      "[Parallel(n_jobs=2)]: Done  20 tasks      | elapsed:  1.2min\n",
      "[Parallel(n_jobs=2)]: Done  21 tasks      | elapsed:  1.3min\n",
      "[Parallel(n_jobs=2)]: Done  22 out of  24 | elapsed:  1.3min remaining:    7.3s\n"
     ]
    },
    {
     "name": "stderr",
     "output_type": "stream",
     "text": [
      "|####################| 166/166 100% [elapsed: 08:41 left: 00:00]"
     ]
    },
    {
     "name": "stdout",
     "output_type": "stream",
     "text": [
      "[Parallel(n_jobs=2)]: Done  24 out of  24 | elapsed:  1.4min remaining:    0.0s\n",
      "[Parallel(n_jobs=2)]: Done  24 out of  24 | elapsed:  1.4min finished\n",
      "[Parallel(n_jobs=2)]: Using backend LokyBackend with 2 concurrent workers.\n"
     ]
    },
    {
     "name": "stderr",
     "output_type": "stream",
     "text": [
      "\n"
     ]
    },
    {
     "name": "stdout",
     "output_type": "stream",
     "text": [
      "[Parallel(n_jobs=2)]: Done   1 tasks      | elapsed:    6.9s\n",
      "[Parallel(n_jobs=2)]: Done   2 tasks      | elapsed:    6.9s\n",
      "[Parallel(n_jobs=2)]: Done   3 tasks      | elapsed:   14.4s\n",
      "[Parallel(n_jobs=2)]: Done   4 tasks      | elapsed:   14.6s\n",
      "[Parallel(n_jobs=2)]: Done   5 tasks      | elapsed:   21.6s\n",
      "[Parallel(n_jobs=2)]: Done   6 tasks      | elapsed:   21.7s\n",
      "[Parallel(n_jobs=2)]: Done   7 tasks      | elapsed:   28.7s\n",
      "[Parallel(n_jobs=2)]: Done   8 tasks      | elapsed:   28.7s\n",
      "[Parallel(n_jobs=2)]: Done   9 tasks      | elapsed:   35.8s\n",
      "[Parallel(n_jobs=2)]: Done  10 tasks      | elapsed:   36.0s\n",
      "[Parallel(n_jobs=2)]: Done  11 tasks      | elapsed:   42.6s\n",
      "[Parallel(n_jobs=2)]: Done  12 tasks      | elapsed:   42.8s\n",
      "[Parallel(n_jobs=2)]: Done  13 out of  15 | elapsed:   49.7s remaining:    7.7s\n",
      "[Parallel(n_jobs=2)]: Done  15 out of  15 | elapsed:   55.5s remaining:    0.0s\n",
      "[Parallel(n_jobs=2)]: Done  15 out of  15 | elapsed:   55.5s finished\n",
      "DES0221-0750-i\n"
     ]
    },
    {
     "name": "stderr",
     "output_type": "stream",
     "text": [
      "\r",
      "|--------------------| 0/166   0% [elapsed: 00:00 left: ?]"
     ]
    },
    {
     "name": "stdout",
     "output_type": "stream",
     "text": [
      "[Parallel(n_jobs=2)]: Using backend LokyBackend with 2 concurrent workers.\n",
      "[Parallel(n_jobs=2)]: Done   1 tasks      | elapsed:    6.6s\n",
      "[Parallel(n_jobs=2)]: Done   2 tasks      | elapsed:    6.8s\n",
      "[Parallel(n_jobs=2)]: Done   3 tasks      | elapsed:   13.4s\n",
      "[Parallel(n_jobs=2)]: Done   4 tasks      | elapsed:   13.6s\n",
      "[Parallel(n_jobs=2)]: Done   5 tasks      | elapsed:   21.0s\n",
      "[Parallel(n_jobs=2)]: Done   6 tasks      | elapsed:   21.0s\n",
      "[Parallel(n_jobs=2)]: Done   7 tasks      | elapsed:   28.2s\n",
      "[Parallel(n_jobs=2)]: Done   8 tasks      | elapsed:   28.4s\n",
      "[Parallel(n_jobs=2)]: Done   9 tasks      | elapsed:   35.7s\n",
      "[Parallel(n_jobs=2)]: Done  10 tasks      | elapsed:   35.8s\n",
      "[Parallel(n_jobs=2)]: Done  11 tasks      | elapsed:   42.4s\n",
      "[Parallel(n_jobs=2)]: Done  12 tasks      | elapsed:   42.5s\n",
      "[Parallel(n_jobs=2)]: Done  13 tasks      | elapsed:   49.0s\n",
      "[Parallel(n_jobs=2)]: Done  14 tasks      | elapsed:   49.1s\n",
      "[Parallel(n_jobs=2)]: Done  15 tasks      | elapsed:   56.1s\n",
      "[Parallel(n_jobs=2)]: Done  16 tasks      | elapsed:   56.2s\n",
      "[Parallel(n_jobs=2)]: Done  17 tasks      | elapsed:  1.1min\n",
      "[Parallel(n_jobs=2)]: Done  18 tasks      | elapsed:  1.1min\n",
      "[Parallel(n_jobs=2)]: Done  19 tasks      | elapsed:  1.2min\n",
      "[Parallel(n_jobs=2)]: Done  20 tasks      | elapsed:  1.2min\n",
      "[Parallel(n_jobs=2)]: Done  21 tasks      | elapsed:  1.3min\n",
      "[Parallel(n_jobs=2)]: Done  22 out of  24 | elapsed:  1.3min remaining:    7.2s\n"
     ]
    },
    {
     "name": "stderr",
     "output_type": "stream",
     "text": [
      "\r",
      "|###-----------------| 25/166  15% [elapsed: 01:26 left: 08:07]"
     ]
    },
    {
     "name": "stdout",
     "output_type": "stream",
     "text": [
      "[Parallel(n_jobs=2)]: Done  24 out of  24 | elapsed:  1.4min remaining:    0.0s\n",
      "[Parallel(n_jobs=2)]: Done  24 out of  24 | elapsed:  1.4min finished\n",
      "[Parallel(n_jobs=2)]: Using backend LokyBackend with 2 concurrent workers.\n",
      "[Parallel(n_jobs=2)]: Done   1 tasks      | elapsed:    7.1s\n",
      "[Parallel(n_jobs=2)]: Done   2 tasks      | elapsed:    7.1s\n",
      "[Parallel(n_jobs=2)]: Done   3 tasks      | elapsed:   14.0s\n",
      "[Parallel(n_jobs=2)]: Done   4 tasks      | elapsed:   14.2s\n",
      "[Parallel(n_jobs=2)]: Done   5 tasks      | elapsed:   23.3s\n",
      "[Parallel(n_jobs=2)]: Done   6 tasks      | elapsed:   23.3s\n",
      "[Parallel(n_jobs=2)]: Done   7 tasks      | elapsed:   30.8s\n",
      "[Parallel(n_jobs=2)]: Done   8 tasks      | elapsed:   30.9s\n",
      "[Parallel(n_jobs=2)]: Done   9 tasks      | elapsed:   38.2s\n",
      "[Parallel(n_jobs=2)]: Done  10 tasks      | elapsed:   38.3s\n",
      "[Parallel(n_jobs=2)]: Done  11 tasks      | elapsed:   45.8s\n",
      "[Parallel(n_jobs=2)]: Done  12 tasks      | elapsed:   46.1s\n",
      "[Parallel(n_jobs=2)]: Done  13 tasks      | elapsed:   53.7s\n",
      "[Parallel(n_jobs=2)]: Done  14 tasks      | elapsed:   54.0s\n",
      "[Parallel(n_jobs=2)]: Done  15 tasks      | elapsed:  1.0min\n",
      "[Parallel(n_jobs=2)]: Done  16 tasks      | elapsed:  1.0min\n",
      "[Parallel(n_jobs=2)]: Done  17 tasks      | elapsed:  1.2min\n",
      "[Parallel(n_jobs=2)]: Done  18 tasks      | elapsed:  1.2min\n",
      "[Parallel(n_jobs=2)]: Done  19 tasks      | elapsed:  1.3min\n",
      "[Parallel(n_jobs=2)]: Done  20 tasks      | elapsed:  1.3min\n",
      "[Parallel(n_jobs=2)]: Done  21 tasks      | elapsed:  1.4min\n",
      "[Parallel(n_jobs=2)]: Done  22 out of  24 | elapsed:  1.4min remaining:    7.6s\n"
     ]
    },
    {
     "name": "stderr",
     "output_type": "stream",
     "text": [
      "\r",
      "|######--------------| 50/166  30% [elapsed: 02:56 left: 06:49]"
     ]
    },
    {
     "name": "stdout",
     "output_type": "stream",
     "text": [
      "[Parallel(n_jobs=2)]: Done  24 out of  24 | elapsed:  1.5min remaining:    0.0s\n",
      "[Parallel(n_jobs=2)]: Done  24 out of  24 | elapsed:  1.5min finished\n",
      "[Parallel(n_jobs=2)]: Using backend LokyBackend with 2 concurrent workers.\n",
      "[Parallel(n_jobs=2)]: Done   1 tasks      | elapsed:    7.0s\n",
      "[Parallel(n_jobs=2)]: Done   2 tasks      | elapsed:    7.0s\n",
      "[Parallel(n_jobs=2)]: Done   3 tasks      | elapsed:   13.6s\n",
      "[Parallel(n_jobs=2)]: Done   4 tasks      | elapsed:   13.7s\n",
      "[Parallel(n_jobs=2)]: Done   5 tasks      | elapsed:   21.0s\n",
      "[Parallel(n_jobs=2)]: Done   6 tasks      | elapsed:   21.2s\n",
      "[Parallel(n_jobs=2)]: Done   7 tasks      | elapsed:   27.8s\n",
      "[Parallel(n_jobs=2)]: Done   8 tasks      | elapsed:   27.9s\n",
      "[Parallel(n_jobs=2)]: Done   9 tasks      | elapsed:   34.7s\n",
      "[Parallel(n_jobs=2)]: Done  10 tasks      | elapsed:   34.7s\n",
      "[Parallel(n_jobs=2)]: Done  11 tasks      | elapsed:   41.4s\n",
      "[Parallel(n_jobs=2)]: Done  12 tasks      | elapsed:   41.5s\n",
      "[Parallel(n_jobs=2)]: Done  13 tasks      | elapsed:   48.2s\n",
      "[Parallel(n_jobs=2)]: Done  14 tasks      | elapsed:   48.8s\n",
      "[Parallel(n_jobs=2)]: Done  15 tasks      | elapsed:   55.6s\n",
      "[Parallel(n_jobs=2)]: Done  16 tasks      | elapsed:   55.6s\n",
      "[Parallel(n_jobs=2)]: Done  17 tasks      | elapsed:  1.0min\n",
      "[Parallel(n_jobs=2)]: Done  18 tasks      | elapsed:  1.0min\n",
      "[Parallel(n_jobs=2)]: Done  19 tasks      | elapsed:  1.1min\n",
      "[Parallel(n_jobs=2)]: Done  20 tasks      | elapsed:  1.1min\n",
      "[Parallel(n_jobs=2)]: Done  21 tasks      | elapsed:  1.3min\n",
      "[Parallel(n_jobs=2)]: Done  22 out of  24 | elapsed:  1.3min remaining:    6.9s\n"
     ]
    },
    {
     "name": "stderr",
     "output_type": "stream",
     "text": [
      "\r",
      "|#########-----------| 75/166  45% [elapsed: 04:19 left: 05:14]"
     ]
    },
    {
     "name": "stdout",
     "output_type": "stream",
     "text": [
      "[Parallel(n_jobs=2)]: Done  24 out of  24 | elapsed:  1.4min remaining:    0.0s\n",
      "[Parallel(n_jobs=2)]: Done  24 out of  24 | elapsed:  1.4min finished\n",
      "[Parallel(n_jobs=2)]: Using backend LokyBackend with 2 concurrent workers.\n",
      "[Parallel(n_jobs=2)]: Done   1 tasks      | elapsed:    7.5s\n",
      "[Parallel(n_jobs=2)]: Done   2 tasks      | elapsed:    7.7s\n",
      "[Parallel(n_jobs=2)]: Done   3 tasks      | elapsed:   15.4s\n",
      "[Parallel(n_jobs=2)]: Done   4 tasks      | elapsed:   15.5s\n",
      "[Parallel(n_jobs=2)]: Done   5 tasks      | elapsed:   22.0s\n",
      "[Parallel(n_jobs=2)]: Done   6 tasks      | elapsed:   22.1s\n",
      "[Parallel(n_jobs=2)]: Done   7 tasks      | elapsed:   28.9s\n",
      "[Parallel(n_jobs=2)]: Done   8 tasks      | elapsed:   28.9s\n",
      "[Parallel(n_jobs=2)]: Done   9 tasks      | elapsed:   35.5s\n",
      "[Parallel(n_jobs=2)]: Done  10 tasks      | elapsed:   35.5s\n",
      "[Parallel(n_jobs=2)]: Done  11 tasks      | elapsed:   41.8s\n",
      "[Parallel(n_jobs=2)]: Done  12 tasks      | elapsed:   42.0s\n",
      "[Parallel(n_jobs=2)]: Done  13 tasks      | elapsed:   48.6s\n",
      "[Parallel(n_jobs=2)]: Done  14 tasks      | elapsed:   48.6s\n",
      "[Parallel(n_jobs=2)]: Done  15 tasks      | elapsed:   55.5s\n",
      "[Parallel(n_jobs=2)]: Done  16 tasks      | elapsed:   55.9s\n",
      "[Parallel(n_jobs=2)]: Done  17 tasks      | elapsed:  1.0min\n",
      "[Parallel(n_jobs=2)]: Done  18 tasks      | elapsed:  1.0min\n",
      "[Parallel(n_jobs=2)]: Done  19 tasks      | elapsed:  1.2min\n",
      "[Parallel(n_jobs=2)]: Done  20 tasks      | elapsed:  1.2min\n",
      "[Parallel(n_jobs=2)]: Done  21 tasks      | elapsed:  1.3min\n",
      "[Parallel(n_jobs=2)]: Done  22 out of  24 | elapsed:  1.3min remaining:    6.9s\n"
     ]
    },
    {
     "name": "stderr",
     "output_type": "stream",
     "text": [
      "\r",
      "|############--------| 100/166  60% [elapsed: 05:42 left: 03:45]"
     ]
    },
    {
     "name": "stdout",
     "output_type": "stream",
     "text": [
      "[Parallel(n_jobs=2)]: Done  24 out of  24 | elapsed:  1.4min remaining:    0.0s\n",
      "[Parallel(n_jobs=2)]: Done  24 out of  24 | elapsed:  1.4min finished\n",
      "[Parallel(n_jobs=2)]: Using backend LokyBackend with 2 concurrent workers.\n",
      "[Parallel(n_jobs=2)]: Done   1 tasks      | elapsed:    7.0s\n",
      "[Parallel(n_jobs=2)]: Done   2 tasks      | elapsed:    7.2s\n",
      "[Parallel(n_jobs=2)]: Done   3 tasks      | elapsed:   13.5s\n",
      "[Parallel(n_jobs=2)]: Done   4 tasks      | elapsed:   13.8s\n",
      "[Parallel(n_jobs=2)]: Done   5 tasks      | elapsed:   20.2s\n",
      "[Parallel(n_jobs=2)]: Done   6 tasks      | elapsed:   20.4s\n",
      "[Parallel(n_jobs=2)]: Done   7 tasks      | elapsed:   26.9s\n",
      "[Parallel(n_jobs=2)]: Done   8 tasks      | elapsed:   27.0s\n",
      "[Parallel(n_jobs=2)]: Done   9 tasks      | elapsed:   33.9s\n",
      "[Parallel(n_jobs=2)]: Done  10 tasks      | elapsed:   33.9s\n",
      "[Parallel(n_jobs=2)]: Done  11 tasks      | elapsed:   40.9s\n",
      "[Parallel(n_jobs=2)]: Done  12 tasks      | elapsed:   41.0s\n",
      "[Parallel(n_jobs=2)]: Done  13 tasks      | elapsed:   47.4s\n",
      "[Parallel(n_jobs=2)]: Done  14 tasks      | elapsed:   47.5s\n",
      "[Parallel(n_jobs=2)]: Done  15 tasks      | elapsed:   54.6s\n",
      "[Parallel(n_jobs=2)]: Done  16 tasks      | elapsed:   54.6s\n",
      "[Parallel(n_jobs=2)]: Done  17 tasks      | elapsed:  1.0min\n",
      "[Parallel(n_jobs=2)]: Done  18 tasks      | elapsed:  1.0min\n",
      "[Parallel(n_jobs=2)]: Done  19 tasks      | elapsed:  1.1min\n",
      "[Parallel(n_jobs=2)]: Done  20 tasks      | elapsed:  1.1min\n",
      "[Parallel(n_jobs=2)]: Done  21 tasks      | elapsed:  1.2min\n",
      "[Parallel(n_jobs=2)]: Done  22 out of  24 | elapsed:  1.3min remaining:    6.8s\n"
     ]
    },
    {
     "name": "stderr",
     "output_type": "stream",
     "text": [
      "\r",
      "|###############-----| 125/166  75% [elapsed: 07:03 left: 02:18]"
     ]
    },
    {
     "name": "stdout",
     "output_type": "stream",
     "text": [
      "[Parallel(n_jobs=2)]: Done  24 out of  24 | elapsed:  1.4min remaining:    0.0s\n",
      "[Parallel(n_jobs=2)]: Done  24 out of  24 | elapsed:  1.4min finished\n",
      "[Parallel(n_jobs=2)]: Using backend LokyBackend with 2 concurrent workers.\n",
      "[Parallel(n_jobs=2)]: Done   1 tasks      | elapsed:    6.7s\n",
      "[Parallel(n_jobs=2)]: Done   2 tasks      | elapsed:    6.7s\n",
      "[Parallel(n_jobs=2)]: Done   3 tasks      | elapsed:   16.6s\n",
      "[Parallel(n_jobs=2)]: Done   4 tasks      | elapsed:   16.7s\n",
      "[Parallel(n_jobs=2)]: Done   5 tasks      | elapsed:   23.7s\n",
      "[Parallel(n_jobs=2)]: Done   6 tasks      | elapsed:   24.0s\n",
      "[Parallel(n_jobs=2)]: Done   7 tasks      | elapsed:   30.2s\n",
      "[Parallel(n_jobs=2)]: Done   8 tasks      | elapsed:   30.6s\n",
      "[Parallel(n_jobs=2)]: Done   9 tasks      | elapsed:   36.9s\n",
      "[Parallel(n_jobs=2)]: Done  10 tasks      | elapsed:   37.2s\n",
      "[Parallel(n_jobs=2)]: Done  11 tasks      | elapsed:   43.5s\n",
      "[Parallel(n_jobs=2)]: Done  12 tasks      | elapsed:   44.0s\n",
      "[Parallel(n_jobs=2)]: Done  13 tasks      | elapsed:   50.5s\n",
      "[Parallel(n_jobs=2)]: Done  14 tasks      | elapsed:   50.9s\n",
      "[Parallel(n_jobs=2)]: Done  15 tasks      | elapsed:   57.2s\n",
      "[Parallel(n_jobs=2)]: Done  16 tasks      | elapsed:   57.6s\n",
      "[Parallel(n_jobs=2)]: Done  17 tasks      | elapsed:  1.1min\n",
      "[Parallel(n_jobs=2)]: Done  18 tasks      | elapsed:  1.1min\n",
      "[Parallel(n_jobs=2)]: Done  19 tasks      | elapsed:  1.2min\n",
      "[Parallel(n_jobs=2)]: Done  20 tasks      | elapsed:  1.2min\n",
      "[Parallel(n_jobs=2)]: Done  21 tasks      | elapsed:  1.3min\n",
      "[Parallel(n_jobs=2)]: Done  22 out of  24 | elapsed:  1.3min remaining:    7.1s\n"
     ]
    },
    {
     "name": "stderr",
     "output_type": "stream",
     "text": [
      "|####################| 166/166 100% [elapsed: 08:28 left: 00:00]"
     ]
    },
    {
     "name": "stdout",
     "output_type": "stream",
     "text": [
      "[Parallel(n_jobs=2)]: Done  24 out of  24 | elapsed:  1.4min remaining:    0.0s\n",
      "[Parallel(n_jobs=2)]: Done  24 out of  24 | elapsed:  1.4min finished\n",
      "DES0221-0750-z\n"
     ]
    },
    {
     "name": "stderr",
     "output_type": "stream",
     "text": [
      "\n",
      "|--------------------| 0/166   0% [elapsed: 00:00 left: ?]"
     ]
    },
    {
     "name": "stdout",
     "output_type": "stream",
     "text": [
      "[Parallel(n_jobs=2)]: Using backend LokyBackend with 2 concurrent workers.\n",
      "[Parallel(n_jobs=2)]: Done   1 tasks      | elapsed:    7.3s\n",
      "[Parallel(n_jobs=2)]: Done   2 tasks      | elapsed:    7.4s\n",
      "[Parallel(n_jobs=2)]: Done   3 tasks      | elapsed:   14.6s\n",
      "[Parallel(n_jobs=2)]: Done   4 tasks      | elapsed:   14.8s\n",
      "[Parallel(n_jobs=2)]: Done   5 tasks      | elapsed:   21.3s\n",
      "[Parallel(n_jobs=2)]: Done   6 tasks      | elapsed:   21.9s\n",
      "[Parallel(n_jobs=2)]: Done   7 tasks      | elapsed:   28.1s\n",
      "[Parallel(n_jobs=2)]: Done   8 tasks      | elapsed:   28.6s\n",
      "[Parallel(n_jobs=2)]: Done   9 tasks      | elapsed:   35.1s\n",
      "[Parallel(n_jobs=2)]: Done  10 tasks      | elapsed:   35.6s\n",
      "[Parallel(n_jobs=2)]: Done  11 tasks      | elapsed:   41.9s\n",
      "[Parallel(n_jobs=2)]: Done  12 tasks      | elapsed:   42.4s\n",
      "[Parallel(n_jobs=2)]: Done  13 tasks      | elapsed:   49.1s\n",
      "[Parallel(n_jobs=2)]: Done  14 tasks      | elapsed:   49.5s\n",
      "[Parallel(n_jobs=2)]: Done  15 tasks      | elapsed:   55.7s\n",
      "[Parallel(n_jobs=2)]: Done  16 tasks      | elapsed:   56.2s\n",
      "[Parallel(n_jobs=2)]: Done  17 tasks      | elapsed:  1.0min\n",
      "[Parallel(n_jobs=2)]: Done  18 tasks      | elapsed:  1.0min\n",
      "[Parallel(n_jobs=2)]: Done  19 tasks      | elapsed:  1.2min\n",
      "[Parallel(n_jobs=2)]: Done  20 tasks      | elapsed:  1.2min\n",
      "[Parallel(n_jobs=2)]: Done  21 tasks      | elapsed:  1.3min\n",
      "[Parallel(n_jobs=2)]: Done  22 out of  24 | elapsed:  1.3min remaining:    6.9s\n"
     ]
    },
    {
     "name": "stderr",
     "output_type": "stream",
     "text": [
      "\r",
      "|###-----------------| 25/166  15% [elapsed: 01:23 left: 07:48]"
     ]
    },
    {
     "name": "stdout",
     "output_type": "stream",
     "text": [
      "[Parallel(n_jobs=2)]: Done  24 out of  24 | elapsed:  1.4min remaining:    0.0s\n",
      "[Parallel(n_jobs=2)]: Done  24 out of  24 | elapsed:  1.4min finished\n",
      "[Parallel(n_jobs=2)]: Using backend LokyBackend with 2 concurrent workers.\n",
      "[Parallel(n_jobs=2)]: Done   1 tasks      | elapsed:    6.6s\n",
      "[Parallel(n_jobs=2)]: Done   2 tasks      | elapsed:    6.6s\n",
      "[Parallel(n_jobs=2)]: Done   3 tasks      | elapsed:   13.1s\n",
      "[Parallel(n_jobs=2)]: Done   4 tasks      | elapsed:   13.4s\n",
      "[Parallel(n_jobs=2)]: Done   5 tasks      | elapsed:   19.8s\n",
      "[Parallel(n_jobs=2)]: Done   6 tasks      | elapsed:   20.1s\n",
      "[Parallel(n_jobs=2)]: Done   7 tasks      | elapsed:   27.1s\n",
      "[Parallel(n_jobs=2)]: Done   8 tasks      | elapsed:   27.3s\n",
      "[Parallel(n_jobs=2)]: Done   9 tasks      | elapsed:   33.7s\n",
      "[Parallel(n_jobs=2)]: Done  10 tasks      | elapsed:   33.9s\n",
      "[Parallel(n_jobs=2)]: Done  11 tasks      | elapsed:   40.8s\n",
      "[Parallel(n_jobs=2)]: Done  12 tasks      | elapsed:   41.0s\n",
      "[Parallel(n_jobs=2)]: Done  13 tasks      | elapsed:   47.4s\n",
      "[Parallel(n_jobs=2)]: Done  14 tasks      | elapsed:   47.6s\n",
      "[Parallel(n_jobs=2)]: Done  15 tasks      | elapsed:   54.4s\n",
      "[Parallel(n_jobs=2)]: Done  16 tasks      | elapsed:   54.5s\n",
      "[Parallel(n_jobs=2)]: Done  17 tasks      | elapsed:  1.0min\n",
      "[Parallel(n_jobs=2)]: Done  18 tasks      | elapsed:  1.0min\n",
      "[Parallel(n_jobs=2)]: Done  19 tasks      | elapsed:  1.1min\n",
      "[Parallel(n_jobs=2)]: Done  20 tasks      | elapsed:  1.1min\n",
      "[Parallel(n_jobs=2)]: Done  21 tasks      | elapsed:  1.3min\n",
      "[Parallel(n_jobs=2)]: Done  22 out of  24 | elapsed:  1.3min remaining:    6.8s\n"
     ]
    },
    {
     "name": "stderr",
     "output_type": "stream",
     "text": [
      "\r",
      "|######--------------| 50/166  30% [elapsed: 02:45 left: 06:24]"
     ]
    },
    {
     "name": "stdout",
     "output_type": "stream",
     "text": [
      "[Parallel(n_jobs=2)]: Done  24 out of  24 | elapsed:  1.4min remaining:    0.0s\n",
      "[Parallel(n_jobs=2)]: Done  24 out of  24 | elapsed:  1.4min finished\n",
      "[Parallel(n_jobs=2)]: Using backend LokyBackend with 2 concurrent workers.\n",
      "[Parallel(n_jobs=2)]: Done   1 tasks      | elapsed:    7.4s\n",
      "[Parallel(n_jobs=2)]: Done   2 tasks      | elapsed:    7.4s\n",
      "[Parallel(n_jobs=2)]: Done   3 tasks      | elapsed:   14.5s\n",
      "[Parallel(n_jobs=2)]: Done   4 tasks      | elapsed:   14.6s\n",
      "[Parallel(n_jobs=2)]: Done   5 tasks      | elapsed:   21.6s\n",
      "[Parallel(n_jobs=2)]: Done   6 tasks      | elapsed:   21.7s\n",
      "[Parallel(n_jobs=2)]: Done   7 tasks      | elapsed:   28.7s\n",
      "[Parallel(n_jobs=2)]: Done   8 tasks      | elapsed:   28.8s\n",
      "[Parallel(n_jobs=2)]: Done   9 tasks      | elapsed:   36.2s\n",
      "[Parallel(n_jobs=2)]: Done  10 tasks      | elapsed:   36.3s\n",
      "[Parallel(n_jobs=2)]: Done  11 tasks      | elapsed:   43.1s\n",
      "[Parallel(n_jobs=2)]: Done  12 tasks      | elapsed:   43.1s\n",
      "[Parallel(n_jobs=2)]: Done  13 tasks      | elapsed:   49.7s\n",
      "[Parallel(n_jobs=2)]: Done  14 tasks      | elapsed:   50.0s\n",
      "[Parallel(n_jobs=2)]: Done  15 tasks      | elapsed:   56.7s\n",
      "[Parallel(n_jobs=2)]: Done  16 tasks      | elapsed:   56.7s\n",
      "[Parallel(n_jobs=2)]: Done  17 tasks      | elapsed:  1.1min\n",
      "[Parallel(n_jobs=2)]: Done  18 tasks      | elapsed:  1.1min\n",
      "[Parallel(n_jobs=2)]: Done  19 tasks      | elapsed:  1.2min\n",
      "[Parallel(n_jobs=2)]: Done  20 tasks      | elapsed:  1.2min\n",
      "[Parallel(n_jobs=2)]: Done  21 tasks      | elapsed:  1.3min\n",
      "[Parallel(n_jobs=2)]: Done  22 out of  24 | elapsed:  1.3min remaining:    7.2s\n"
     ]
    },
    {
     "name": "stderr",
     "output_type": "stream",
     "text": [
      "\r",
      "|#########-----------| 75/166  45% [elapsed: 04:11 left: 05:04]"
     ]
    },
    {
     "name": "stdout",
     "output_type": "stream",
     "text": [
      "[Parallel(n_jobs=2)]: Done  24 out of  24 | elapsed:  1.4min remaining:    0.0s\n",
      "[Parallel(n_jobs=2)]: Done  24 out of  24 | elapsed:  1.4min finished\n",
      "[Parallel(n_jobs=2)]: Using backend LokyBackend with 2 concurrent workers.\n",
      "[Parallel(n_jobs=2)]: Done   1 tasks      | elapsed:    7.1s\n",
      "[Parallel(n_jobs=2)]: Done   2 tasks      | elapsed:    7.2s\n",
      "[Parallel(n_jobs=2)]: Done   3 tasks      | elapsed:   14.3s\n",
      "[Parallel(n_jobs=2)]: Done   4 tasks      | elapsed:   14.5s\n",
      "[Parallel(n_jobs=2)]: Done   5 tasks      | elapsed:   20.9s\n",
      "[Parallel(n_jobs=2)]: Done   6 tasks      | elapsed:   21.1s\n",
      "[Parallel(n_jobs=2)]: Done   7 tasks      | elapsed:   27.7s\n",
      "[Parallel(n_jobs=2)]: Done   8 tasks      | elapsed:   27.7s\n",
      "[Parallel(n_jobs=2)]: Done   9 tasks      | elapsed:   34.8s\n",
      "[Parallel(n_jobs=2)]: Done  10 tasks      | elapsed:   34.8s\n",
      "[Parallel(n_jobs=2)]: Done  11 tasks      | elapsed:   41.8s\n",
      "[Parallel(n_jobs=2)]: Done  12 tasks      | elapsed:   42.2s\n",
      "[Parallel(n_jobs=2)]: Done  13 tasks      | elapsed:   48.5s\n",
      "[Parallel(n_jobs=2)]: Done  14 tasks      | elapsed:   48.6s\n",
      "[Parallel(n_jobs=2)]: Done  15 tasks      | elapsed:   55.1s\n",
      "[Parallel(n_jobs=2)]: Done  16 tasks      | elapsed:   55.4s\n",
      "[Parallel(n_jobs=2)]: Done  17 tasks      | elapsed:  1.0min\n",
      "[Parallel(n_jobs=2)]: Done  18 tasks      | elapsed:  1.0min\n",
      "[Parallel(n_jobs=2)]: Done  19 tasks      | elapsed:  1.1min\n",
      "[Parallel(n_jobs=2)]: Done  20 tasks      | elapsed:  1.2min\n",
      "[Parallel(n_jobs=2)]: Done  21 tasks      | elapsed:  1.3min\n",
      "[Parallel(n_jobs=2)]: Done  22 out of  24 | elapsed:  1.3min remaining:    6.9s\n"
     ]
    },
    {
     "name": "stderr",
     "output_type": "stream",
     "text": [
      "\r",
      "|############--------| 100/166  60% [elapsed: 05:34 left: 03:40]"
     ]
    },
    {
     "name": "stdout",
     "output_type": "stream",
     "text": [
      "[Parallel(n_jobs=2)]: Done  24 out of  24 | elapsed:  1.4min remaining:    0.0s\n",
      "[Parallel(n_jobs=2)]: Done  24 out of  24 | elapsed:  1.4min finished\n",
      "[Parallel(n_jobs=2)]: Using backend LokyBackend with 2 concurrent workers.\n",
      "[Parallel(n_jobs=2)]: Done   1 tasks      | elapsed:    6.7s\n",
      "[Parallel(n_jobs=2)]: Done   2 tasks      | elapsed:    6.8s\n",
      "[Parallel(n_jobs=2)]: Done   3 tasks      | elapsed:   13.6s\n",
      "[Parallel(n_jobs=2)]: Done   4 tasks      | elapsed:   14.0s\n",
      "[Parallel(n_jobs=2)]: Done   5 tasks      | elapsed:   20.8s\n",
      "[Parallel(n_jobs=2)]: Done   6 tasks      | elapsed:   21.0s\n",
      "[Parallel(n_jobs=2)]: Done   7 tasks      | elapsed:   28.1s\n",
      "[Parallel(n_jobs=2)]: Done   8 tasks      | elapsed:   28.4s\n",
      "[Parallel(n_jobs=2)]: Done   9 tasks      | elapsed:   34.9s\n",
      "[Parallel(n_jobs=2)]: Done  10 tasks      | elapsed:   35.0s\n",
      "[Parallel(n_jobs=2)]: Done  11 tasks      | elapsed:   42.1s\n",
      "[Parallel(n_jobs=2)]: Done  12 tasks      | elapsed:   42.2s\n",
      "[Parallel(n_jobs=2)]: Done  13 tasks      | elapsed:   48.8s\n",
      "[Parallel(n_jobs=2)]: Done  14 tasks      | elapsed:   48.8s\n",
      "[Parallel(n_jobs=2)]: Done  15 tasks      | elapsed:   56.1s\n",
      "[Parallel(n_jobs=2)]: Done  16 tasks      | elapsed:   56.2s\n",
      "[Parallel(n_jobs=2)]: Done  17 tasks      | elapsed:  1.0min\n",
      "[Parallel(n_jobs=2)]: Done  18 tasks      | elapsed:  1.1min\n",
      "[Parallel(n_jobs=2)]: Done  19 tasks      | elapsed:  1.2min\n",
      "[Parallel(n_jobs=2)]: Done  20 tasks      | elapsed:  1.2min\n",
      "[Parallel(n_jobs=2)]: Done  21 tasks      | elapsed:  1.3min\n",
      "[Parallel(n_jobs=2)]: Done  22 out of  24 | elapsed:  1.3min remaining:    7.0s\n"
     ]
    },
    {
     "name": "stderr",
     "output_type": "stream",
     "text": [
      "\r",
      "|###############-----| 126/166  75% [elapsed: 06:57 left: 02:12]"
     ]
    },
    {
     "name": "stdout",
     "output_type": "stream",
     "text": [
      "[Parallel(n_jobs=2)]: Done  24 out of  24 | elapsed:  1.4min remaining:    0.0s\n",
      "[Parallel(n_jobs=2)]: Done  24 out of  24 | elapsed:  1.4min finished\n",
      "[Parallel(n_jobs=2)]: Using backend LokyBackend with 2 concurrent workers.\n",
      "[Parallel(n_jobs=2)]: Done   1 tasks      | elapsed:    6.6s\n",
      "[Parallel(n_jobs=2)]: Done   2 tasks      | elapsed:    6.7s\n",
      "[Parallel(n_jobs=2)]: Done   3 tasks      | elapsed:   13.3s\n",
      "[Parallel(n_jobs=2)]: Done   4 tasks      | elapsed:   13.3s\n",
      "[Parallel(n_jobs=2)]: Done   5 tasks      | elapsed:   20.0s\n",
      "[Parallel(n_jobs=2)]: Done   6 tasks      | elapsed:   20.1s\n",
      "[Parallel(n_jobs=2)]: Done   7 tasks      | elapsed:   26.4s\n",
      "[Parallel(n_jobs=2)]: Done   8 tasks      | elapsed:   26.9s\n",
      "[Parallel(n_jobs=2)]: Done   9 tasks      | elapsed:   33.2s\n",
      "[Parallel(n_jobs=2)]: Done  10 tasks      | elapsed:   33.7s\n",
      "[Parallel(n_jobs=2)]: Done  11 tasks      | elapsed:   40.4s\n",
      "[Parallel(n_jobs=2)]: Done  12 tasks      | elapsed:   40.8s\n",
      "[Parallel(n_jobs=2)]: Done  13 tasks      | elapsed:   48.4s\n",
      "[Parallel(n_jobs=2)]: Done  14 tasks      | elapsed:   48.9s\n",
      "[Parallel(n_jobs=2)]: Done  15 tasks      | elapsed:   55.4s\n",
      "[Parallel(n_jobs=2)]: Done  16 tasks      | elapsed:   55.8s\n",
      "[Parallel(n_jobs=2)]: Done  17 tasks      | elapsed:  1.1min\n",
      "[Parallel(n_jobs=2)]: Done  18 tasks      | elapsed:  1.1min\n",
      "[Parallel(n_jobs=2)]: Done  19 tasks      | elapsed:  1.2min\n",
      "[Parallel(n_jobs=2)]: Done  20 tasks      | elapsed:  1.2min\n",
      "[Parallel(n_jobs=2)]: Done  21 tasks      | elapsed:  1.3min\n",
      "[Parallel(n_jobs=2)]: Done  22 out of  24 | elapsed:  1.3min remaining:    7.0s\n"
     ]
    },
    {
     "name": "stderr",
     "output_type": "stream",
     "text": [
      "|####################| 166/166 100% [elapsed: 08:22 left: 00:00]"
     ]
    },
    {
     "name": "stdout",
     "output_type": "stream",
     "text": [
      "[Parallel(n_jobs=2)]: Done  24 out of  24 | elapsed:  1.4min remaining:    0.0s\n",
      "[Parallel(n_jobs=2)]: Done  24 out of  24 | elapsed:  1.4min finished\n",
      "DES0221-0750-r\n"
     ]
    },
    {
     "name": "stderr",
     "output_type": "stream",
     "text": [
      "\n",
      "|--------------------| 0/152   0% [elapsed: 00:00 left: ?]"
     ]
    },
    {
     "name": "stdout",
     "output_type": "stream",
     "text": [
      "[Parallel(n_jobs=2)]: Using backend LokyBackend with 2 concurrent workers.\n",
      "[Parallel(n_jobs=2)]: Done   1 tasks      | elapsed:    6.9s\n",
      "[Parallel(n_jobs=2)]: Done   2 tasks      | elapsed:    6.9s\n",
      "[Parallel(n_jobs=2)]: Done   3 tasks      | elapsed:   14.3s\n",
      "[Parallel(n_jobs=2)]: Done   4 tasks      | elapsed:   14.5s\n",
      "[Parallel(n_jobs=2)]: Done   5 tasks      | elapsed:   22.7s\n",
      "[Parallel(n_jobs=2)]: Done   6 tasks      | elapsed:   23.2s\n",
      "[Parallel(n_jobs=2)]: Done   7 tasks      | elapsed:   32.5s\n",
      "[Parallel(n_jobs=2)]: Done   8 tasks      | elapsed:   33.0s\n",
      "[Parallel(n_jobs=2)]: Done   9 tasks      | elapsed:   41.0s\n",
      "[Parallel(n_jobs=2)]: Done  10 tasks      | elapsed:   41.5s\n",
      "[Parallel(n_jobs=2)]: Done  11 tasks      | elapsed:   48.1s\n",
      "[Parallel(n_jobs=2)]: Done  12 tasks      | elapsed:   48.4s\n",
      "[Parallel(n_jobs=2)]: Done  13 tasks      | elapsed:   54.9s\n",
      "[Parallel(n_jobs=2)]: Done  14 tasks      | elapsed:   55.2s\n",
      "[Parallel(n_jobs=2)]: Done  15 tasks      | elapsed:  1.0min\n",
      "[Parallel(n_jobs=2)]: Done  16 tasks      | elapsed:  1.0min\n",
      "[Parallel(n_jobs=2)]: Done  17 tasks      | elapsed:  1.1min\n",
      "[Parallel(n_jobs=2)]: Done  18 tasks      | elapsed:  1.1min\n",
      "[Parallel(n_jobs=2)]: Done  19 tasks      | elapsed:  1.3min\n",
      "[Parallel(n_jobs=2)]: Done  20 tasks      | elapsed:  1.3min\n",
      "[Parallel(n_jobs=2)]: Done  21 tasks      | elapsed:  1.4min\n",
      "[Parallel(n_jobs=2)]: Done  22 out of  24 | elapsed:  1.4min remaining:    7.5s\n"
     ]
    },
    {
     "name": "stderr",
     "output_type": "stream",
     "text": [
      "\r",
      "|###-----------------| 25/152  16% [elapsed: 01:29 left: 07:36]"
     ]
    },
    {
     "name": "stdout",
     "output_type": "stream",
     "text": [
      "[Parallel(n_jobs=2)]: Done  24 out of  24 | elapsed:  1.5min remaining:    0.0s\n",
      "[Parallel(n_jobs=2)]: Done  24 out of  24 | elapsed:  1.5min finished\n",
      "[Parallel(n_jobs=2)]: Using backend LokyBackend with 2 concurrent workers.\n",
      "[Parallel(n_jobs=2)]: Done   1 tasks      | elapsed:    6.6s\n",
      "[Parallel(n_jobs=2)]: Done   2 tasks      | elapsed:    6.6s\n",
      "[Parallel(n_jobs=2)]: Done   3 tasks      | elapsed:   13.8s\n",
      "[Parallel(n_jobs=2)]: Done   4 tasks      | elapsed:   13.9s\n",
      "[Parallel(n_jobs=2)]: Done   5 tasks      | elapsed:   20.5s\n",
      "[Parallel(n_jobs=2)]: Done   6 tasks      | elapsed:   20.6s\n",
      "[Parallel(n_jobs=2)]: Done   7 tasks      | elapsed:   27.4s\n",
      "[Parallel(n_jobs=2)]: Done   8 tasks      | elapsed:   27.7s\n",
      "[Parallel(n_jobs=2)]: Done   9 tasks      | elapsed:   34.8s\n",
      "[Parallel(n_jobs=2)]: Done  10 tasks      | elapsed:   35.0s\n",
      "[Parallel(n_jobs=2)]: Done  11 tasks      | elapsed:   41.6s\n",
      "[Parallel(n_jobs=2)]: Done  12 tasks      | elapsed:   41.8s\n",
      "[Parallel(n_jobs=2)]: Done  13 tasks      | elapsed:   48.7s\n",
      "[Parallel(n_jobs=2)]: Done  14 tasks      | elapsed:   49.0s\n",
      "[Parallel(n_jobs=2)]: Done  15 tasks      | elapsed:   55.8s\n",
      "[Parallel(n_jobs=2)]: Done  16 tasks      | elapsed:   56.2s\n",
      "[Parallel(n_jobs=2)]: Done  17 tasks      | elapsed:  1.0min\n",
      "[Parallel(n_jobs=2)]: Done  18 tasks      | elapsed:  1.0min\n",
      "[Parallel(n_jobs=2)]: Done  19 tasks      | elapsed:  1.2min\n",
      "[Parallel(n_jobs=2)]: Done  20 tasks      | elapsed:  1.2min\n",
      "[Parallel(n_jobs=2)]: Done  21 tasks      | elapsed:  1.3min\n",
      "[Parallel(n_jobs=2)]: Done  22 out of  24 | elapsed:  1.3min remaining:    7.0s\n"
     ]
    },
    {
     "name": "stderr",
     "output_type": "stream",
     "text": [
      "\r",
      "|######--------------| 50/152  32% [elapsed: 02:53 left: 05:53]"
     ]
    },
    {
     "name": "stdout",
     "output_type": "stream",
     "text": [
      "[Parallel(n_jobs=2)]: Done  24 out of  24 | elapsed:  1.4min remaining:    0.0s\n",
      "[Parallel(n_jobs=2)]: Done  24 out of  24 | elapsed:  1.4min finished\n",
      "[Parallel(n_jobs=2)]: Using backend LokyBackend with 2 concurrent workers.\n",
      "[Parallel(n_jobs=2)]: Done   1 tasks      | elapsed:    6.8s\n",
      "[Parallel(n_jobs=2)]: Done   2 tasks      | elapsed:    6.9s\n",
      "[Parallel(n_jobs=2)]: Done   3 tasks      | elapsed:   13.5s\n",
      "[Parallel(n_jobs=2)]: Done   4 tasks      | elapsed:   13.5s\n",
      "[Parallel(n_jobs=2)]: Done   5 tasks      | elapsed:   20.1s\n",
      "[Parallel(n_jobs=2)]: Done   6 tasks      | elapsed:   20.2s\n",
      "[Parallel(n_jobs=2)]: Done   7 tasks      | elapsed:   26.8s\n",
      "[Parallel(n_jobs=2)]: Done   8 tasks      | elapsed:   26.9s\n",
      "[Parallel(n_jobs=2)]: Done   9 tasks      | elapsed:   34.5s\n",
      "[Parallel(n_jobs=2)]: Done  10 tasks      | elapsed:   34.6s\n",
      "[Parallel(n_jobs=2)]: Done  11 tasks      | elapsed:   41.1s\n",
      "[Parallel(n_jobs=2)]: Done  12 tasks      | elapsed:   41.3s\n",
      "[Parallel(n_jobs=2)]: Done  13 tasks      | elapsed:   48.6s\n",
      "[Parallel(n_jobs=2)]: Done  14 tasks      | elapsed:   48.8s\n",
      "[Parallel(n_jobs=2)]: Done  15 tasks      | elapsed:   55.0s\n",
      "[Parallel(n_jobs=2)]: Done  16 tasks      | elapsed:   55.5s\n",
      "[Parallel(n_jobs=2)]: Done  17 tasks      | elapsed:  1.0min\n",
      "[Parallel(n_jobs=2)]: Done  18 tasks      | elapsed:  1.0min\n",
      "[Parallel(n_jobs=2)]: Done  19 tasks      | elapsed:  1.1min\n",
      "[Parallel(n_jobs=2)]: Done  20 tasks      | elapsed:  1.2min\n",
      "[Parallel(n_jobs=2)]: Done  21 tasks      | elapsed:  1.3min\n",
      "[Parallel(n_jobs=2)]: Done  22 out of  24 | elapsed:  1.3min remaining:    6.9s\n"
     ]
    },
    {
     "name": "stderr",
     "output_type": "stream",
     "text": [
      "\r",
      "|##########----------| 76/152  50% [elapsed: 04:15 left: 04:15]"
     ]
    },
    {
     "name": "stdout",
     "output_type": "stream",
     "text": [
      "[Parallel(n_jobs=2)]: Done  24 out of  24 | elapsed:  1.4min remaining:    0.0s\n",
      "[Parallel(n_jobs=2)]: Done  24 out of  24 | elapsed:  1.4min finished\n",
      "[Parallel(n_jobs=2)]: Using backend LokyBackend with 2 concurrent workers.\n",
      "[Parallel(n_jobs=2)]: Done   1 tasks      | elapsed:    7.5s\n",
      "[Parallel(n_jobs=2)]: Done   2 tasks      | elapsed:    7.6s\n",
      "[Parallel(n_jobs=2)]: Done   3 tasks      | elapsed:   14.5s\n",
      "[Parallel(n_jobs=2)]: Done   4 tasks      | elapsed:   14.7s\n",
      "[Parallel(n_jobs=2)]: Done   5 tasks      | elapsed:   21.7s\n",
      "[Parallel(n_jobs=2)]: Done   6 tasks      | elapsed:   21.8s\n",
      "[Parallel(n_jobs=2)]: Done   7 tasks      | elapsed:   29.1s\n",
      "[Parallel(n_jobs=2)]: Done   8 tasks      | elapsed:   29.2s\n",
      "[Parallel(n_jobs=2)]: Done   9 tasks      | elapsed:   35.9s\n",
      "[Parallel(n_jobs=2)]: Done  10 tasks      | elapsed:   36.4s\n",
      "[Parallel(n_jobs=2)]: Done  11 tasks      | elapsed:   43.4s\n",
      "[Parallel(n_jobs=2)]: Done  12 tasks      | elapsed:   43.8s\n",
      "[Parallel(n_jobs=2)]: Done  13 tasks      | elapsed:   50.6s\n",
      "[Parallel(n_jobs=2)]: Done  14 tasks      | elapsed:   51.2s\n",
      "[Parallel(n_jobs=2)]: Done  15 tasks      | elapsed:   57.3s\n",
      "[Parallel(n_jobs=2)]: Done  16 tasks      | elapsed:   58.0s\n",
      "[Parallel(n_jobs=2)]: Done  17 tasks      | elapsed:  1.1min\n",
      "[Parallel(n_jobs=2)]: Done  18 tasks      | elapsed:  1.1min\n",
      "[Parallel(n_jobs=2)]: Done  19 tasks      | elapsed:  1.2min\n",
      "[Parallel(n_jobs=2)]: Done  20 tasks      | elapsed:  1.2min\n",
      "[Parallel(n_jobs=2)]: Done  21 tasks      | elapsed:  1.3min\n",
      "[Parallel(n_jobs=2)]: Done  22 out of  24 | elapsed:  1.3min remaining:    7.3s\n"
     ]
    },
    {
     "name": "stderr",
     "output_type": "stream",
     "text": [
      "\r",
      "|#############-------| 101/152  66% [elapsed: 05:43 left: 02:53]"
     ]
    },
    {
     "name": "stdout",
     "output_type": "stream",
     "text": [
      "[Parallel(n_jobs=2)]: Done  24 out of  24 | elapsed:  1.5min remaining:    0.0s\n",
      "[Parallel(n_jobs=2)]: Done  24 out of  24 | elapsed:  1.5min finished\n",
      "[Parallel(n_jobs=2)]: Using backend LokyBackend with 2 concurrent workers.\n",
      "[Parallel(n_jobs=2)]: Done   1 tasks      | elapsed:    7.2s\n",
      "[Parallel(n_jobs=2)]: Done   2 tasks      | elapsed:    7.3s\n",
      "[Parallel(n_jobs=2)]: Done   3 tasks      | elapsed:   14.3s\n",
      "[Parallel(n_jobs=2)]: Done   4 tasks      | elapsed:   14.4s\n",
      "[Parallel(n_jobs=2)]: Done   5 tasks      | elapsed:   21.5s\n",
      "[Parallel(n_jobs=2)]: Done   6 tasks      | elapsed:   21.8s\n",
      "[Parallel(n_jobs=2)]: Done   7 tasks      | elapsed:   28.4s\n",
      "[Parallel(n_jobs=2)]: Done   8 tasks      | elapsed:   28.6s\n",
      "[Parallel(n_jobs=2)]: Done   9 tasks      | elapsed:   35.3s\n",
      "[Parallel(n_jobs=2)]: Done  10 tasks      | elapsed:   35.3s\n",
      "[Parallel(n_jobs=2)]: Done  11 tasks      | elapsed:   43.1s\n",
      "[Parallel(n_jobs=2)]: Done  12 tasks      | elapsed:   43.1s\n",
      "[Parallel(n_jobs=2)]: Done  13 tasks      | elapsed:   49.8s\n",
      "[Parallel(n_jobs=2)]: Done  14 tasks      | elapsed:   49.8s\n",
      "[Parallel(n_jobs=2)]: Done  15 tasks      | elapsed:   56.5s\n",
      "[Parallel(n_jobs=2)]: Done  16 tasks      | elapsed:   56.5s\n",
      "[Parallel(n_jobs=2)]: Done  17 tasks      | elapsed:  1.1min\n",
      "[Parallel(n_jobs=2)]: Done  18 tasks      | elapsed:  1.1min\n",
      "[Parallel(n_jobs=2)]: Done  19 tasks      | elapsed:  1.2min\n",
      "[Parallel(n_jobs=2)]: Done  20 tasks      | elapsed:  1.2min\n",
      "[Parallel(n_jobs=2)]: Done  21 tasks      | elapsed:  1.3min\n",
      "[Parallel(n_jobs=2)]: Done  22 out of  24 | elapsed:  1.3min remaining:    7.1s\n"
     ]
    },
    {
     "name": "stderr",
     "output_type": "stream",
     "text": [
      "\r",
      "|################----| 126/152  82% [elapsed: 07:08 left: 01:28]"
     ]
    },
    {
     "name": "stdout",
     "output_type": "stream",
     "text": [
      "[Parallel(n_jobs=2)]: Done  24 out of  24 | elapsed:  1.4min remaining:    0.0s\n",
      "[Parallel(n_jobs=2)]: Done  24 out of  24 | elapsed:  1.4min finished\n",
      "[Parallel(n_jobs=2)]: Using backend LokyBackend with 2 concurrent workers.\n",
      "[Parallel(n_jobs=2)]: Done   1 tasks      | elapsed:    6.7s\n",
      "[Parallel(n_jobs=2)]: Done   2 tasks      | elapsed:    6.7s\n",
      "[Parallel(n_jobs=2)]: Done   3 tasks      | elapsed:   13.4s\n",
      "[Parallel(n_jobs=2)]: Done   4 tasks      | elapsed:   13.4s\n",
      "[Parallel(n_jobs=2)]: Done   5 tasks      | elapsed:   20.8s\n",
      "[Parallel(n_jobs=2)]: Done   6 tasks      | elapsed:   21.0s\n",
      "[Parallel(n_jobs=2)]: Done   7 tasks      | elapsed:   27.5s\n",
      "[Parallel(n_jobs=2)]: Done   8 tasks      | elapsed:   27.7s\n",
      "[Parallel(n_jobs=2)]: Done   9 tasks      | elapsed:   34.7s\n",
      "[Parallel(n_jobs=2)]: Done  10 tasks      | elapsed:   35.0s\n",
      "[Parallel(n_jobs=2)]: Done  11 tasks      | elapsed:   41.4s\n",
      "[Parallel(n_jobs=2)]: Done  12 tasks      | elapsed:   41.7s\n",
      "[Parallel(n_jobs=2)]: Done  13 tasks      | elapsed:   48.5s\n",
      "[Parallel(n_jobs=2)]: Done  14 tasks      | elapsed:   48.6s\n",
      "[Parallel(n_jobs=2)]: Done  15 tasks      | elapsed:   55.2s\n",
      "[Parallel(n_jobs=2)]: Done  16 tasks      | elapsed:   55.5s\n",
      "[Parallel(n_jobs=2)]: Done  17 tasks      | elapsed:  1.0min\n",
      "[Parallel(n_jobs=2)]: Done  18 tasks      | elapsed:  1.0min\n",
      "[Parallel(n_jobs=2)]: Done  19 tasks      | elapsed:  1.1min\n",
      "[Parallel(n_jobs=2)]: Done  20 tasks      | elapsed:  1.1min\n",
      "[Parallel(n_jobs=2)]: Done  21 tasks      | elapsed:  1.3min\n",
      "[Parallel(n_jobs=2)]: Done  22 out of  24 | elapsed:  1.3min remaining:    6.9s\n"
     ]
    },
    {
     "name": "stderr",
     "output_type": "stream",
     "text": [
      "|####################| 152/152 100% [elapsed: 08:31 left: 00:00]"
     ]
    },
    {
     "name": "stdout",
     "output_type": "stream",
     "text": [
      "[Parallel(n_jobs=2)]: Done  24 out of  24 | elapsed:  1.4min remaining:    0.0s\n",
      "[Parallel(n_jobs=2)]: Done  24 out of  24 | elapsed:  1.4min finished\n",
      "DES0221-0750-g\n"
     ]
    },
    {
     "name": "stderr",
     "output_type": "stream",
     "text": [
      "\n",
      "|--------------------| 0/168   0% [elapsed: 00:00 left: ?]"
     ]
    },
    {
     "name": "stdout",
     "output_type": "stream",
     "text": [
      "[Parallel(n_jobs=2)]: Using backend LokyBackend with 2 concurrent workers.\n",
      "[Parallel(n_jobs=2)]: Done   1 tasks      | elapsed:    6.7s\n",
      "[Parallel(n_jobs=2)]: Done   2 tasks      | elapsed:    6.7s\n",
      "[Parallel(n_jobs=2)]: Done   3 tasks      | elapsed:   13.3s\n",
      "[Parallel(n_jobs=2)]: Done   4 tasks      | elapsed:   13.5s\n",
      "[Parallel(n_jobs=2)]: Done   5 tasks      | elapsed:   20.3s\n",
      "[Parallel(n_jobs=2)]: Done   6 tasks      | elapsed:   20.9s\n",
      "[Parallel(n_jobs=2)]: Done   7 tasks      | elapsed:   27.9s\n",
      "[Parallel(n_jobs=2)]: Done   8 tasks      | elapsed:   28.3s\n",
      "[Parallel(n_jobs=2)]: Done   9 tasks      | elapsed:   34.8s\n",
      "[Parallel(n_jobs=2)]: Done  10 tasks      | elapsed:   35.3s\n",
      "[Parallel(n_jobs=2)]: Done  11 tasks      | elapsed:   41.6s\n",
      "[Parallel(n_jobs=2)]: Done  12 tasks      | elapsed:   42.1s\n",
      "[Parallel(n_jobs=2)]: Done  13 tasks      | elapsed:   49.0s\n",
      "[Parallel(n_jobs=2)]: Done  14 tasks      | elapsed:   49.4s\n",
      "[Parallel(n_jobs=2)]: Done  15 tasks      | elapsed:   56.5s\n",
      "[Parallel(n_jobs=2)]: Done  16 tasks      | elapsed:   57.1s\n",
      "[Parallel(n_jobs=2)]: Done  17 tasks      | elapsed:  1.1min\n",
      "[Parallel(n_jobs=2)]: Done  18 tasks      | elapsed:  1.1min\n",
      "[Parallel(n_jobs=2)]: Done  19 tasks      | elapsed:  1.2min\n",
      "[Parallel(n_jobs=2)]: Done  20 tasks      | elapsed:  1.2min\n",
      "[Parallel(n_jobs=2)]: Done  21 tasks      | elapsed:  1.3min\n",
      "[Parallel(n_jobs=2)]: Done  22 out of  24 | elapsed:  1.3min remaining:    7.1s\n"
     ]
    },
    {
     "name": "stderr",
     "output_type": "stream",
     "text": [
      "\r",
      "|##------------------| 25/168  14% [elapsed: 01:25 left: 08:06]"
     ]
    },
    {
     "name": "stdout",
     "output_type": "stream",
     "text": [
      "[Parallel(n_jobs=2)]: Done  24 out of  24 | elapsed:  1.4min remaining:    0.0s\n",
      "[Parallel(n_jobs=2)]: Done  24 out of  24 | elapsed:  1.4min finished\n",
      "[Parallel(n_jobs=2)]: Using backend LokyBackend with 2 concurrent workers.\n",
      "[Parallel(n_jobs=2)]: Done   1 tasks      | elapsed:    6.9s\n",
      "[Parallel(n_jobs=2)]: Done   2 tasks      | elapsed:    7.0s\n",
      "[Parallel(n_jobs=2)]: Done   3 tasks      | elapsed:   13.6s\n",
      "[Parallel(n_jobs=2)]: Done   4 tasks      | elapsed:   13.7s\n",
      "[Parallel(n_jobs=2)]: Done   5 tasks      | elapsed:   20.2s\n",
      "[Parallel(n_jobs=2)]: Done   6 tasks      | elapsed:   20.3s\n",
      "[Parallel(n_jobs=2)]: Done   7 tasks      | elapsed:   30.0s\n",
      "[Parallel(n_jobs=2)]: Done   8 tasks      | elapsed:   30.4s\n",
      "[Parallel(n_jobs=2)]: Done   9 tasks      | elapsed:   36.9s\n",
      "[Parallel(n_jobs=2)]: Done  10 tasks      | elapsed:   37.6s\n",
      "[Parallel(n_jobs=2)]: Done  11 tasks      | elapsed:   44.1s\n",
      "[Parallel(n_jobs=2)]: Done  12 tasks      | elapsed:   44.8s\n",
      "[Parallel(n_jobs=2)]: Done  13 tasks      | elapsed:   50.9s\n",
      "[Parallel(n_jobs=2)]: Done  14 tasks      | elapsed:   51.6s\n",
      "[Parallel(n_jobs=2)]: Done  15 tasks      | elapsed:   58.2s\n",
      "[Parallel(n_jobs=2)]: Done  16 tasks      | elapsed:   58.7s\n",
      "[Parallel(n_jobs=2)]: Done  17 tasks      | elapsed:  1.1min\n",
      "[Parallel(n_jobs=2)]: Done  18 tasks      | elapsed:  1.1min\n",
      "[Parallel(n_jobs=2)]: Done  19 tasks      | elapsed:  1.2min\n",
      "[Parallel(n_jobs=2)]: Done  20 tasks      | elapsed:  1.2min\n",
      "[Parallel(n_jobs=2)]: Done  21 tasks      | elapsed:  1.3min\n",
      "[Parallel(n_jobs=2)]: Done  22 out of  24 | elapsed:  1.3min remaining:    7.3s\n"
     ]
    },
    {
     "name": "stderr",
     "output_type": "stream",
     "text": [
      "\r",
      "|######--------------| 51/168  30% [elapsed: 02:52 left: 06:36]"
     ]
    },
    {
     "name": "stdout",
     "output_type": "stream",
     "text": [
      "[Parallel(n_jobs=2)]: Done  24 out of  24 | elapsed:  1.5min remaining:    0.0s\n",
      "[Parallel(n_jobs=2)]: Done  24 out of  24 | elapsed:  1.5min finished\n",
      "[Parallel(n_jobs=2)]: Using backend LokyBackend with 2 concurrent workers.\n",
      "[Parallel(n_jobs=2)]: Done   1 tasks      | elapsed:    7.4s\n",
      "[Parallel(n_jobs=2)]: Done   2 tasks      | elapsed:    7.5s\n",
      "[Parallel(n_jobs=2)]: Done   3 tasks      | elapsed:   15.0s\n",
      "[Parallel(n_jobs=2)]: Done   4 tasks      | elapsed:   15.1s\n",
      "[Parallel(n_jobs=2)]: Done   5 tasks      | elapsed:   22.5s\n",
      "[Parallel(n_jobs=2)]: Done   6 tasks      | elapsed:   22.6s\n",
      "[Parallel(n_jobs=2)]: Done   7 tasks      | elapsed:   29.9s\n",
      "[Parallel(n_jobs=2)]: Done   8 tasks      | elapsed:   30.0s\n",
      "[Parallel(n_jobs=2)]: Done   9 tasks      | elapsed:   37.0s\n",
      "[Parallel(n_jobs=2)]: Done  10 tasks      | elapsed:   37.0s\n",
      "[Parallel(n_jobs=2)]: Done  11 tasks      | elapsed:   43.9s\n",
      "[Parallel(n_jobs=2)]: Done  12 tasks      | elapsed:   43.9s\n",
      "[Parallel(n_jobs=2)]: Done  13 tasks      | elapsed:   50.8s\n",
      "[Parallel(n_jobs=2)]: Done  14 tasks      | elapsed:   51.0s\n",
      "[Parallel(n_jobs=2)]: Done  15 tasks      | elapsed:   58.1s\n",
      "[Parallel(n_jobs=2)]: Done  16 tasks      | elapsed:   58.2s\n",
      "[Parallel(n_jobs=2)]: Done  17 tasks      | elapsed:  1.1min\n",
      "[Parallel(n_jobs=2)]: Done  18 tasks      | elapsed:  1.1min\n",
      "[Parallel(n_jobs=2)]: Done  19 tasks      | elapsed:  1.2min\n",
      "[Parallel(n_jobs=2)]: Done  20 tasks      | elapsed:  1.2min\n",
      "[Parallel(n_jobs=2)]: Done  21 tasks      | elapsed:  1.3min\n",
      "[Parallel(n_jobs=2)]: Done  22 out of  24 | elapsed:  1.3min remaining:    7.3s\n"
     ]
    },
    {
     "name": "stderr",
     "output_type": "stream",
     "text": [
      "\r",
      "|#########-----------| 76/168  45% [elapsed: 04:19 left: 05:14]"
     ]
    },
    {
     "name": "stdout",
     "output_type": "stream",
     "text": [
      "[Parallel(n_jobs=2)]: Done  24 out of  24 | elapsed:  1.5min remaining:    0.0s\n",
      "[Parallel(n_jobs=2)]: Done  24 out of  24 | elapsed:  1.5min finished\n",
      "[Parallel(n_jobs=2)]: Using backend LokyBackend with 2 concurrent workers.\n",
      "[Parallel(n_jobs=2)]: Done   1 tasks      | elapsed:    7.2s\n",
      "[Parallel(n_jobs=2)]: Done   2 tasks      | elapsed:    7.3s\n",
      "[Parallel(n_jobs=2)]: Done   3 tasks      | elapsed:   13.9s\n",
      "[Parallel(n_jobs=2)]: Done   4 tasks      | elapsed:   14.2s\n",
      "[Parallel(n_jobs=2)]: Done   5 tasks      | elapsed:   21.0s\n",
      "[Parallel(n_jobs=2)]: Done   6 tasks      | elapsed:   21.1s\n",
      "[Parallel(n_jobs=2)]: Done   7 tasks      | elapsed:   28.1s\n",
      "[Parallel(n_jobs=2)]: Done   8 tasks      | elapsed:   28.2s\n",
      "[Parallel(n_jobs=2)]: Done   9 tasks      | elapsed:   36.0s\n",
      "[Parallel(n_jobs=2)]: Done  10 tasks      | elapsed:   36.1s\n",
      "[Parallel(n_jobs=2)]: Done  11 tasks      | elapsed:   43.1s\n",
      "[Parallel(n_jobs=2)]: Done  12 tasks      | elapsed:   43.3s\n",
      "[Parallel(n_jobs=2)]: Done  13 tasks      | elapsed:   50.4s\n",
      "[Parallel(n_jobs=2)]: Done  14 tasks      | elapsed:   50.7s\n",
      "[Parallel(n_jobs=2)]: Done  15 tasks      | elapsed:   57.4s\n",
      "[Parallel(n_jobs=2)]: Done  16 tasks      | elapsed:   57.6s\n",
      "[Parallel(n_jobs=2)]: Done  17 tasks      | elapsed:  1.1min\n",
      "[Parallel(n_jobs=2)]: Done  18 tasks      | elapsed:  1.1min\n",
      "[Parallel(n_jobs=2)]: Done  19 tasks      | elapsed:  1.2min\n",
      "[Parallel(n_jobs=2)]: Done  20 tasks      | elapsed:  1.2min\n",
      "[Parallel(n_jobs=2)]: Done  21 tasks      | elapsed:  1.3min\n",
      "[Parallel(n_jobs=2)]: Done  22 out of  24 | elapsed:  1.3min remaining:    7.2s\n"
     ]
    },
    {
     "name": "stderr",
     "output_type": "stream",
     "text": [
      "\r",
      "|############--------| 101/168  60% [elapsed: 05:46 left: 03:49]"
     ]
    },
    {
     "name": "stdout",
     "output_type": "stream",
     "text": [
      "[Parallel(n_jobs=2)]: Done  24 out of  24 | elapsed:  1.4min remaining:    0.0s\n",
      "[Parallel(n_jobs=2)]: Done  24 out of  24 | elapsed:  1.4min finished\n",
      "[Parallel(n_jobs=2)]: Using backend LokyBackend with 2 concurrent workers.\n",
      "[Parallel(n_jobs=2)]: Done   1 tasks      | elapsed:    7.7s\n",
      "[Parallel(n_jobs=2)]: Done   2 tasks      | elapsed:    7.9s\n",
      "[Parallel(n_jobs=2)]: Done   3 tasks      | elapsed:   15.1s\n",
      "[Parallel(n_jobs=2)]: Done   4 tasks      | elapsed:   15.2s\n",
      "[Parallel(n_jobs=2)]: Done   5 tasks      | elapsed:   22.1s\n",
      "[Parallel(n_jobs=2)]: Done   6 tasks      | elapsed:   22.1s\n",
      "[Parallel(n_jobs=2)]: Done   7 tasks      | elapsed:   29.6s\n",
      "[Parallel(n_jobs=2)]: Done   8 tasks      | elapsed:   29.8s\n",
      "[Parallel(n_jobs=2)]: Done   9 tasks      | elapsed:   36.8s\n",
      "[Parallel(n_jobs=2)]: Done  10 tasks      | elapsed:   36.8s\n",
      "[Parallel(n_jobs=2)]: Done  11 tasks      | elapsed:   43.7s\n",
      "[Parallel(n_jobs=2)]: Done  12 tasks      | elapsed:   43.8s\n",
      "[Parallel(n_jobs=2)]: Done  13 tasks      | elapsed:   50.9s\n",
      "[Parallel(n_jobs=2)]: Done  14 tasks      | elapsed:   51.1s\n",
      "[Parallel(n_jobs=2)]: Done  15 tasks      | elapsed:   58.2s\n",
      "[Parallel(n_jobs=2)]: Done  16 tasks      | elapsed:   58.2s\n",
      "[Parallel(n_jobs=2)]: Done  17 tasks      | elapsed:  1.1min\n",
      "[Parallel(n_jobs=2)]: Done  18 tasks      | elapsed:  1.1min\n",
      "[Parallel(n_jobs=2)]: Done  19 tasks      | elapsed:  1.2min\n",
      "[Parallel(n_jobs=2)]: Done  20 tasks      | elapsed:  1.2min\n",
      "[Parallel(n_jobs=2)]: Done  21 tasks      | elapsed:  1.3min\n",
      "[Parallel(n_jobs=2)]: Done  22 out of  24 | elapsed:  1.4min remaining:    7.4s\n"
     ]
    },
    {
     "name": "stderr",
     "output_type": "stream",
     "text": [
      "\r",
      "|###############-----| 126/168  75% [elapsed: 07:14 left: 02:24]"
     ]
    },
    {
     "name": "stdout",
     "output_type": "stream",
     "text": [
      "[Parallel(n_jobs=2)]: Done  24 out of  24 | elapsed:  1.5min remaining:    0.0s\n",
      "[Parallel(n_jobs=2)]: Done  24 out of  24 | elapsed:  1.5min finished\n",
      "[Parallel(n_jobs=2)]: Using backend LokyBackend with 2 concurrent workers.\n",
      "[Parallel(n_jobs=2)]: Done   1 tasks      | elapsed:    7.5s\n",
      "[Parallel(n_jobs=2)]: Done   2 tasks      | elapsed:    7.5s\n",
      "[Parallel(n_jobs=2)]: Done   3 tasks      | elapsed:   14.4s\n",
      "[Parallel(n_jobs=2)]: Done   4 tasks      | elapsed:   14.6s\n",
      "[Parallel(n_jobs=2)]: Done   5 tasks      | elapsed:   21.4s\n",
      "[Parallel(n_jobs=2)]: Done   6 tasks      | elapsed:   21.5s\n",
      "[Parallel(n_jobs=2)]: Done   7 tasks      | elapsed:   28.5s\n",
      "[Parallel(n_jobs=2)]: Done   8 tasks      | elapsed:   28.6s\n",
      "[Parallel(n_jobs=2)]: Done   9 tasks      | elapsed:   35.8s\n",
      "[Parallel(n_jobs=2)]: Done  10 tasks      | elapsed:   36.1s\n",
      "[Parallel(n_jobs=2)]: Done  11 tasks      | elapsed:   43.2s\n",
      "[Parallel(n_jobs=2)]: Done  12 tasks      | elapsed:   43.4s\n",
      "[Parallel(n_jobs=2)]: Done  13 tasks      | elapsed:   50.0s\n",
      "[Parallel(n_jobs=2)]: Done  14 tasks      | elapsed:   50.3s\n",
      "[Parallel(n_jobs=2)]: Done  15 tasks      | elapsed:   57.1s\n",
      "[Parallel(n_jobs=2)]: Done  16 tasks      | elapsed:   57.2s\n",
      "[Parallel(n_jobs=2)]: Done  17 tasks      | elapsed:  1.1min\n",
      "[Parallel(n_jobs=2)]: Done  18 tasks      | elapsed:  1.1min\n",
      "[Parallel(n_jobs=2)]: Done  19 tasks      | elapsed:  1.2min\n",
      "[Parallel(n_jobs=2)]: Done  20 tasks      | elapsed:  1.2min\n",
      "[Parallel(n_jobs=2)]: Done  21 tasks      | elapsed:  1.3min\n",
      "[Parallel(n_jobs=2)]: Done  22 out of  24 | elapsed:  1.3min remaining:    7.2s\n"
     ]
    },
    {
     "name": "stderr",
     "output_type": "stream",
     "text": [
      "|####################| 168/168 100% [elapsed: 08:40 left: 00:00]"
     ]
    },
    {
     "name": "stdout",
     "output_type": "stream",
     "text": [
      "[Parallel(n_jobs=2)]: Done  24 out of  24 | elapsed:  1.4min remaining:    0.0s\n",
      "[Parallel(n_jobs=2)]: Done  24 out of  24 | elapsed:  1.4min finished\n",
      "[Parallel(n_jobs=2)]: Using backend LokyBackend with 2 concurrent workers.\n"
     ]
    },
    {
     "name": "stderr",
     "output_type": "stream",
     "text": [
      "\n"
     ]
    },
    {
     "name": "stdout",
     "output_type": "stream",
     "text": [
      "[Parallel(n_jobs=2)]: Done   1 tasks      | elapsed:    7.0s\n",
      "[Parallel(n_jobs=2)]: Done   2 tasks      | elapsed:    7.1s\n",
      "[Parallel(n_jobs=2)]: Done   3 tasks      | elapsed:   14.7s\n",
      "[Parallel(n_jobs=2)]: Done   4 tasks      | elapsed:   15.1s\n",
      "[Parallel(n_jobs=2)]: Done   5 tasks      | elapsed:   21.6s\n",
      "[Parallel(n_jobs=2)]: Done   6 tasks      | elapsed:   21.8s\n",
      "[Parallel(n_jobs=2)]: Done   7 tasks      | elapsed:   28.8s\n",
      "[Parallel(n_jobs=2)]: Done   8 tasks      | elapsed:   29.0s\n",
      "[Parallel(n_jobs=2)]: Done   9 tasks      | elapsed:   35.9s\n",
      "[Parallel(n_jobs=2)]: Done  10 tasks      | elapsed:   36.0s\n",
      "[Parallel(n_jobs=2)]: Done  11 tasks      | elapsed:   43.1s\n",
      "[Parallel(n_jobs=2)]: Done  12 tasks      | elapsed:   43.1s\n",
      "[Parallel(n_jobs=2)]: Done  13 tasks      | elapsed:   50.6s\n",
      "[Parallel(n_jobs=2)]: Done  14 tasks      | elapsed:   50.9s\n",
      "[Parallel(n_jobs=2)]: Done  15 out of  17 | elapsed:   58.0s remaining:    7.7s\n",
      "[Parallel(n_jobs=2)]: Done  17 out of  17 | elapsed:  1.1min remaining:    0.0s\n",
      "[Parallel(n_jobs=2)]: Done  17 out of  17 | elapsed:  1.1min finished\n"
     ]
    }
   ],
   "source": [
    "from pizza_cutter.des_pizza_cutter._piff_tools import compute_piff_flags\n",
    "\n",
    "import yaml\n",
    "import os\n",
    "from esutil.pbar import PBar\n",
    "import pprint\n",
    "import piff\n",
    "import json\n",
    "import joblib\n",
    "import fitsio\n",
    "\n",
    "\n",
    "def _run_file(fname):\n",
    "    pmod = piff.read(fname)    \n",
    "    if \"_z_\" in fname:\n",
    "        piff_kwargs = {\"IZ_COLOR\": 0.34}\n",
    "    else:\n",
    "        piff_kwargs = {\"GI_COLOR\": 0.61}\n",
    "    res = make_good_regions_for_piff_model_star_and_gal_grid(\n",
    "        piff_mod=pmod, piff_kwargs=piff_kwargs, \n",
    "        any_bad_thresh=5, flag_bad_thresh=2,\n",
    "    )\n",
    "    t_gal = res[\"t_gal\"]\n",
    "    bf = np.mean(np.isnan(t_gal))\n",
    "    harr = (res[\"t_gal\"] - res[\"t_star\"]).ravel()\n",
    "    mdev = np.nanmax(np.abs(harr - np.nanmedian(harr)))/nanmad(harr)\n",
    "    if bf > 0:\n",
    "        print(fname, bf, mdev, flush=True)\n",
    "\n",
    "    return fname, res[\"flags\"], np.mean(np.isnan(t_gal)), mdev\n",
    "\n",
    "\n",
    "def _run_jobs(jobs, results):\n",
    "    if len(jobs) > 0:        \n",
    "        with joblib.Parallel(n_jobs=2, backend=\"loky\", verbose=100) as par:\n",
    "            outputs = par(jobs)\n",
    "\n",
    "        for fname, flags, bf, mdev in outputs:\n",
    "            results[tname][band][os.path.basename(fname)] = {\n",
    "                \"bad_frac\": bf,\n",
    "                \"flags\": flags,\n",
    "                \"maxdev\": mdev,\n",
    "            }\n",
    "\n",
    "        with open(\"data.json\", \"w\") as fp:\n",
    "            json.dump(results, fp)\n",
    "    \n",
    "\n",
    "TNAMES = [\"DES0229-0416\", \"DES0137-3749\", \"DES0131-3206\", \"DES0221-0750\"]\n",
    "BANDS = [\"i\", \"z\", \"r\", \"g\"]\n",
    "\n",
    "os.system(\"rm -f ./data.json\")\n",
    "\n",
    "results = {}\n",
    "\n",
    "for tname in TNAMES:\n",
    "    results[tname] = {}\n",
    "    for band in BANDS:\n",
    "        print(\"%s-%s\" % (tname, band), flush=True)\n",
    "        \n",
    "        results[tname][band] = {}\n",
    "\n",
    "        with open(\n",
    "            \"/Users/beckermr/MEDS_DIR/des-pizza-slices-y6-test/pizza_cutter_info/\"\n",
    "            \"%s_%s_pizza_cutter_info.yaml\" % (tname, band)\n",
    "        ) as fp:\n",
    "            yml = yaml.safe_load(fp.read())\n",
    "\n",
    "        jobs = []\n",
    "        nmax = 24\n",
    "        for i, src in PBar(enumerate(yml[\"src_info\"]), total=len(yml[\"src_info\"])):\n",
    "            if len(jobs) >= nmax:\n",
    "                _run_jobs(jobs, results)                \n",
    "                jobs = []\n",
    "            else:\n",
    "                if (\n",
    "                    compute_piff_flags(\n",
    "                        piff_info=src[\"piff_info\"],\n",
    "                        max_fwhm_cen=3.6, \n",
    "                        min_nstar=30, \n",
    "                        max_exp_T_mean_fac=4, \n",
    "                        max_ccd_T_std_fac=0.3,\n",
    "                    ) == 0\n",
    "                ):\n",
    "                    jobs.append(joblib.delayed(_run_file)(src[\"piff_path\"]))\n",
    "\n",
    "    _run_jobs(jobs, results)"
   ]
  },
  {
   "cell_type": "code",
   "execution_count": null,
   "id": "a464be07",
   "metadata": {},
   "outputs": [],
   "source": []
  },
  {
   "cell_type": "code",
   "execution_count": null,
   "id": "559d3c10",
   "metadata": {},
   "outputs": [],
   "source": []
  },
  {
   "cell_type": "code",
   "execution_count": null,
   "id": "72486045",
   "metadata": {},
   "outputs": [],
   "source": []
  },
  {
   "cell_type": "code",
   "execution_count": null,
   "id": "553f99b1",
   "metadata": {},
   "outputs": [],
   "source": []
  },
  {
   "cell_type": "code",
   "execution_count": null,
   "id": "bbb034a1",
   "metadata": {},
   "outputs": [],
   "source": []
  },
  {
   "cell_type": "code",
   "execution_count": null,
   "id": "c1884832",
   "metadata": {},
   "outputs": [],
   "source": [
    "for fname, flags, b in outputs:\n",
    "    if flags == 0:\n",
    "        bf = 1.0 - ((b[\"xmax\"] - b[\"xmin\"])*(b[\"ymax\"] - b[\"ymin\"]))/(4096*2048)\n",
    "    else:\n",
    "        bf = 1.0\n",
    "\n",
    "    results[tname][band][os.path.basename(fname)] = {\n",
    "        \"no_box_frac\": bf,\n",
    "        \"flags\": flags,\n",
    "        \"bbox\": b,\n",
    "    }\n",
    "\n",
    "with open(\"data.json\", \"w\") as fp:\n",
    "    json.dump(results, fp)"
   ]
  },
  {
   "cell_type": "code",
   "execution_count": null,
   "id": "60866b83",
   "metadata": {},
   "outputs": [],
   "source": []
  },
  {
   "cell_type": "code",
   "execution_count": null,
   "id": "c34919dd",
   "metadata": {},
   "outputs": [],
   "source": []
  },
  {
   "cell_type": "code",
   "execution_count": null,
   "id": "97728ef1",
   "metadata": {},
   "outputs": [],
   "source": []
  },
  {
   "cell_type": "code",
   "execution_count": null,
   "id": "1c59938d",
   "metadata": {},
   "outputs": [],
   "source": []
  },
  {
   "cell_type": "code",
   "execution_count": null,
   "id": "2dfa735a",
   "metadata": {},
   "outputs": [],
   "source": [
    "os.system(\"mkdir -p piff_plots_%s\" % BAND)\n",
    "\n",
    "for i, src in PBar(enumerate(yml[\"src_info\"]), total=len(yml[\"src_info\"])):\n",
    "    pmod = piff.read(src[\"piff_path\"])\n",
    "    print(src[\"image_path\"])\n",
    "    res = make_good_regions_for_piff_model(pmod, piff_kwargs={\"GI_COLOR\": 0.61}, seed=10, verbose=True)\n",
    "    print(\"    \" + pprint.pformat(src[\"piff_info\"]))\n",
    "    \n",
    "    t_arr = res[\"t_arr\"]\n",
    "    t_mn = res[\"t_mn\"]\n",
    "    t_std = res[\"t_std\"]\n",
    "    flags = res[\"flags\"]\n",
    "    b = res[\"bbox\"]\n",
    "    \n",
    "    msk = (~np.isfinite(t_arr)) | (np.abs(t_arr - t_mn) > 25 * t_std)\n",
    "\n",
    "    if np.any(msk):\n",
    "\n",
    "        msk = (~np.isfinite(t_arr)) | (np.abs(t_arr - t_mn) > 15 * t_std)\n",
    "        fig, axs = pplt.subplots(nrows=1, ncols=2)\n",
    "        axs[0].imshow(np.log10(t_arr/t_std), cmap=\"rocket\", origin=\"lower\")\n",
    "        axs[0].grid(False)\n",
    "        axs[0].set_title(\"T\")\n",
    "\n",
    "        axs[1].imshow(msk, cmap=\"rocket\", origin=\"lower\")\n",
    "        axs[1].grid(False)\n",
    "        axs[1].set_title(\"|T - <T>| > 15 sigma(T)\")\n",
    "        axs[1].plot([b[\"xmin\"]/128, b[\"xmin\"]/128], [b[\"ymin\"]/128, b[\"ymax\"]/128 - 1], color=\"red\")\n",
    "        axs[1].plot([b[\"xmax\"]/128 - 1, b[\"xmax\"]/128 - 1], [b[\"ymin\"]/128, b[\"ymax\"]/128 - 1], color=\"red\")\n",
    "        axs[1].plot([b[\"xmin\"]/128, b[\"xmax\"]/128 - 1], [b[\"ymin\"]/128, b[\"ymin\"]/128], color=\"red\")\n",
    "        axs[1].plot([b[\"xmin\"]/128, b[\"xmax\"]/128 - 1], [b[\"ymax\"]/128 - 1, b[\"ymax\"]/128 - 1], color=\"red\")\n",
    "\n",
    "        fig.savefig(\"piff_plots_%s/psf_%d.png\" % (BAND, i))"
   ]
  },
  {
   "cell_type": "code",
   "execution_count": null,
   "id": "55f889a5",
   "metadata": {},
   "outputs": [],
   "source": []
  },
  {
   "cell_type": "code",
   "execution_count": null,
   "id": "fe40a9d7",
   "metadata": {},
   "outputs": [],
   "source": []
  },
  {
   "cell_type": "code",
   "execution_count": null,
   "id": "cf8c907b",
   "metadata": {},
   "outputs": [],
   "source": []
  },
  {
   "cell_type": "code",
   "execution_count": null,
   "id": "5d8ee2ed",
   "metadata": {},
   "outputs": [],
   "source": []
  },
  {
   "cell_type": "code",
   "execution_count": null,
   "id": "292cb308",
   "metadata": {},
   "outputs": [],
   "source": [
    "import meds\n",
    "\n",
    "bands = [\"g\", \"r\", \"i\", \"z\"]\n",
    "mfiles = []\n",
    "for band in bands:\n",
    "    mfiles.append(meds.MEDS(\"DES0221-0750_r5592p01_%s_pizza-cutter-slices.fits.fz\" % band))"
   ]
  },
  {
   "cell_type": "code",
   "execution_count": null,
   "id": "c93507da",
   "metadata": {},
   "outputs": [],
   "source": [
    "# start_obj = 9008\n",
    "# nrows = 16\n",
    "\n",
    "# fig, axs = pplt.subplots(nrows=nrows, ncols=4)\n",
    "\n",
    "# for row in range(nrows):\n",
    "#     obj = start_obj + row\n",
    "#     for col in range(4):\n",
    "#         psf = mfiles[col].get_psf(obj, 0)\n",
    "#         axs[row, col].imshow(np.arcsinh(psf/np.std(psf[20, :])), origin=\"lower\", cmap=\"rocket\")\n",
    "#         axs[row, col].grid(False)"
   ]
  },
  {
   "cell_type": "code",
   "execution_count": null,
   "id": "2d868ee4",
   "metadata": {},
   "outputs": [],
   "source": [
    "psf = mfiles[1].get_psf(9008, 0)\n",
    "\n",
    "fig, axs = pplt.subplots()\n",
    "axs.imshow(psf)"
   ]
  },
  {
   "cell_type": "code",
   "execution_count": null,
   "id": "c8e8c7c2",
   "metadata": {},
   "outputs": [],
   "source": [
    "import fitsio\n",
    "d = fitsio.read(\"DES0221-0750_r5592p01_%s_pizza-cutter-slices.fits.fz\" % \"r\", ext=\"epochs_info\")"
   ]
  },
  {
   "cell_type": "code",
   "execution_count": null,
   "id": "b6b0c232",
   "metadata": {},
   "outputs": [],
   "source": [
    "msk = d[\"id\"] == 9008"
   ]
  },
  {
   "cell_type": "code",
   "execution_count": null,
   "id": "e8a68681",
   "metadata": {},
   "outputs": [],
   "source": [
    "d[msk]"
   ]
  },
  {
   "cell_type": "code",
   "execution_count": null,
   "id": "4f3515e3",
   "metadata": {},
   "outputs": [],
   "source": [
    "ii = fitsio.read(\"DES0221-0750_r5592p01_%s_pizza-cutter-slices.fits.fz\" % \"r\", ext=\"image_info\")"
   ]
  },
  {
   "cell_type": "code",
   "execution_count": null,
   "id": "a5b9bfb9",
   "metadata": {},
   "outputs": [],
   "source": [
    "ii[d[msk][\"image_id\"]][\"image_path\"]"
   ]
  },
  {
   "cell_type": "code",
   "execution_count": null,
   "id": "41cd9edd",
   "metadata": {},
   "outputs": [],
   "source": []
  },
  {
   "cell_type": "code",
   "execution_count": null,
   "id": "dbd7e29a",
   "metadata": {},
   "outputs": [],
   "source": [
    "from pizza_cutter.des_pizza_cutter._piff_tools import compute_piff_flags"
   ]
  },
  {
   "cell_type": "code",
   "execution_count": null,
   "id": "050fdeba",
   "metadata": {},
   "outputs": [],
   "source": [
    "import piff\n",
    "\n",
    "piffs = []\n",
    "psf_imgs = []\n",
    "piff_flags = []\n",
    "einds = np.where(msk)[0]\n",
    "for eind in einds:\n",
    "    arr = d[eind:eind+1]\n",
    "    image_id = arr[\"image_id\"][0]\n",
    "    fname = ii[image_id][\"image_path\"]\n",
    "    src = None\n",
    "    for i, _src in enumerate(yml[\"src_info\"]):\n",
    "        if _src[\"image_path\"].endswith(fname.split(\"/\")[1]):\n",
    "            src = _src\n",
    "            \n",
    "    assert src is not None, fname.split(\"/\")[1]\n",
    "    print(fname, src[\"piff_path\"])\n",
    "    piffs.append(piff.read(src[\"piff_path\"]))\n",
    "    row = arr[\"psf_row_start\"][0] + 13\n",
    "    col = arr[\"psf_col_start\"][0] + 13\n",
    "    print(row, col, src[\"piff_info\"])\n",
    "    psf_imgs.append(piffs[-1].draw(x=col, y=row, GI_COLOR=0.61, chipnum=list(piffs[-1].wcs.keys())[0]).array)\n",
    "    piff_flags.append(compute_piff_flags(\n",
    "        piff_info=src[\"piff_info\"],\n",
    "        max_fwhm_cen=3.6, \n",
    "        min_nstar=25, \n",
    "        max_exp_T_mean_fac=4, \n",
    "        max_ccd_T_std_fac=0.3,\n",
    "    ))"
   ]
  },
  {
   "cell_type": "code",
   "execution_count": null,
   "id": "c54b9368",
   "metadata": {},
   "outputs": [],
   "source": [
    "piff_flags"
   ]
  },
  {
   "cell_type": "code",
   "execution_count": null,
   "id": "bf57f097",
   "metadata": {},
   "outputs": [],
   "source": [
    "fig, axs = pplt.subplots(nrows=len(psf_imgs), ncols=1)\n",
    "\n",
    "for i, ax in enumerate(axs):\n",
    "    ax.imshow(psf_imgs[i])\n",
    "    print(psf_imgs[i].sum())"
   ]
  },
  {
   "cell_type": "code",
   "execution_count": null,
   "id": "ab18e4c2",
   "metadata": {},
   "outputs": [],
   "source": []
  },
  {
   "cell_type": "code",
   "execution_count": null,
   "id": "fe178ec7",
   "metadata": {},
   "outputs": [],
   "source": []
  },
  {
   "cell_type": "code",
   "execution_count": null,
   "id": "c7bf9cd6",
   "metadata": {},
   "outputs": [],
   "source": [
    "%matplotlib inline"
   ]
  },
  {
   "cell_type": "code",
   "execution_count": null,
   "id": "53ca80d0",
   "metadata": {},
   "outputs": [],
   "source": []
  },
  {
   "cell_type": "code",
   "execution_count": null,
   "id": "c727641e",
   "metadata": {},
   "outputs": [],
   "source": [
    "m = meds.MEDS(\"DES0221-0750_r_des-pizza-slices-y6-test_meds-pizza-slices-range9005-9010.fits.fz\")"
   ]
  },
  {
   "cell_type": "code",
   "execution_count": null,
   "id": "8957431d",
   "metadata": {},
   "outputs": [],
   "source": [
    "psf = m.get_psf(9008, 0)\n",
    "\n",
    "fig, axs = pplt.subplots()\n",
    "axs.imshow(psf)"
   ]
  },
  {
   "cell_type": "code",
   "execution_count": null,
   "id": "c598fd47",
   "metadata": {},
   "outputs": [],
   "source": [
    "import fitsio\n",
    "ei = fitsio.read(\"DES0221-0750_r_des-pizza-slices-y6-test_meds-pizza-slices-range9005-9010.fits.fz\", ext=\"epochs_info\")"
   ]
  },
  {
   "cell_type": "code",
   "execution_count": null,
   "id": "c8c10b1b",
   "metadata": {},
   "outputs": [],
   "source": [
    "ei[ei[\"id\"] == 9008]"
   ]
  },
  {
   "cell_type": "code",
   "execution_count": null,
   "id": "9844203c",
   "metadata": {},
   "outputs": [],
   "source": [
    "2**5"
   ]
  },
  {
   "cell_type": "code",
   "execution_count": null,
   "id": "99344d0c",
   "metadata": {},
   "outputs": [],
   "source": []
  }
 ],
 "metadata": {
  "kernelspec": {
   "display_name": "Python [conda env:desy6] *",
   "language": "python",
   "name": "conda-env-desy6-py"
  },
  "language_info": {
   "codemirror_mode": {
    "name": "ipython",
    "version": 3
   },
   "file_extension": ".py",
   "mimetype": "text/x-python",
   "name": "python",
   "nbconvert_exporter": "python",
   "pygments_lexer": "ipython3",
   "version": "3.8.12"
  }
 },
 "nbformat": 4,
 "nbformat_minor": 5
}
