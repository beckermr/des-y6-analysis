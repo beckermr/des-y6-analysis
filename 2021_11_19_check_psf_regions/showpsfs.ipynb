{
 "cells": [
  {
   "cell_type": "code",
   "execution_count": null,
   "id": "be1cc499",
   "metadata": {},
   "outputs": [],
   "source": [
    "import glob\n",
    "import proplot as pplt\n",
    "import numpy as np"
   ]
  },
  {
   "cell_type": "code",
   "execution_count": null,
   "id": "08ddc4a4",
   "metadata": {},
   "outputs": [],
   "source": [
    "%matplotlib inline"
   ]
  },
  {
   "cell_type": "code",
   "execution_count": null,
   "id": "3aee440e",
   "metadata": {},
   "outputs": [],
   "source": [
    "from des_y6utils.piff import (\n",
    "    measure_t_grid_for_piff_model, \n",
    "    nanmad, \n",
    "    make_good_regions_for_piff_model_star_and_gal_grid,\n",
    ")"
   ]
  },
  {
   "cell_type": "code",
   "execution_count": null,
   "id": "9c5f6d39",
   "metadata": {},
   "outputs": [],
   "source": [
    "from pizza_cutter.des_pizza_cutter._piff_tools import compute_piff_flags\n",
    "\n",
    "import yaml\n",
    "import os\n",
    "from esutil.pbar import PBar\n",
    "import pprint\n",
    "import piff\n",
    "import json\n",
    "import joblib\n",
    "import fitsio\n",
    "\n",
    "\n",
    "def _run_file(fname):\n",
    "    pmod = piff.read(fname)    \n",
    "    if \"_z_\" in fname:\n",
    "        piff_kwargs = {\"IZ_COLOR\": 0.34}\n",
    "    else:\n",
    "        piff_kwargs = {\"GI_COLOR\": 0.61}\n",
    "    res = make_good_regions_for_piff_model_star_and_gal_grid(\n",
    "        piff_mod=pmod, piff_kwargs=piff_kwargs, \n",
    "        any_bad_thresh=5, flag_bad_thresh=2,\n",
    "    )\n",
    "    t_gal = res[\"t_gal\"]\n",
    "    bf = np.mean(np.isnan(t_gal))\n",
    "    harr = (res[\"t_gal\"] - res[\"t_star\"]).ravel()\n",
    "    mdev = np.nanmax(np.abs(harr - np.nanmedian(harr)))/nanmad(harr)\n",
    "    if bf > 0:\n",
    "        print(fname, bf, mdev, flush=True)\n",
    "\n",
    "    return fname, res[\"flags\"], np.mean(np.isnan(t_gal)), mdev\n",
    "\n",
    "\n",
    "def _run_jobs(jobs, results):\n",
    "    if len(jobs) > 0:        \n",
    "        with joblib.Parallel(n_jobs=2, backend=\"loky\", verbose=100) as par:\n",
    "            outputs = par(jobs)\n",
    "\n",
    "        for fname, flags, bf, mdev in outputs:\n",
    "            results[tname][band][os.path.basename(fname)] = {\n",
    "                \"bad_frac\": bf,\n",
    "                \"flags\": flags,\n",
    "                \"maxdev\": mdev,\n",
    "            }\n",
    "\n",
    "        with open(\"data.json\", \"w\") as fp:\n",
    "            json.dump(results, fp)\n",
    "    \n",
    "\n",
    "TNAMES = [\"DES0229-0416\", \"DES0137-3749\", \"DES0131-3206\", \"DES0221-0750\"]\n",
    "BANDS = [\"i\", \"z\", \"r\", \"g\"]\n",
    "\n",
    "os.system(\"rm -f ./data.json\")\n",
    "\n",
    "results = {}\n",
    "\n",
    "for tname in TNAMES:\n",
    "    results[tname] = {}\n",
    "    for band in BANDS:\n",
    "        print(\"%s-%s\" % (tname, band), flush=True)\n",
    "        \n",
    "        results[tname][band] = {}\n",
    "\n",
    "        with open(\n",
    "            \"/Users/beckermr/MEDS_DIR/des-pizza-slices-y6-test/pizza_cutter_info/\"\n",
    "            \"%s_%s_pizza_cutter_info.yaml\" % (tname, band)\n",
    "        ) as fp:\n",
    "            yml = yaml.safe_load(fp.read())\n",
    "\n",
    "        jobs = []\n",
    "        nmax = 24\n",
    "        for i, src in PBar(enumerate(yml[\"src_info\"]), total=len(yml[\"src_info\"])):\n",
    "            if len(jobs) >= nmax:\n",
    "                _run_jobs(jobs, results)                \n",
    "                jobs = []\n",
    "            else:\n",
    "                if (\n",
    "                    compute_piff_flags(\n",
    "                        piff_info=src[\"piff_info\"],\n",
    "                        max_fwhm_cen=3.6, \n",
    "                        min_nstar=30, \n",
    "                        max_exp_T_mean_fac=4, \n",
    "                        max_ccd_T_std_fac=0.3,\n",
    "                    ) == 0\n",
    "                ):\n",
    "                    jobs.append(joblib.delayed(_run_file)(src[\"piff_path\"]))\n",
    "\n",
    "    _run_jobs(jobs, results)"
   ]
  },
  {
   "cell_type": "code",
   "execution_count": null,
   "id": "a464be07",
   "metadata": {},
   "outputs": [],
   "source": []
  },
  {
   "cell_type": "code",
   "execution_count": null,
   "id": "559d3c10",
   "metadata": {},
   "outputs": [],
   "source": []
  },
  {
   "cell_type": "code",
   "execution_count": null,
   "id": "72486045",
   "metadata": {},
   "outputs": [],
   "source": []
  },
  {
   "cell_type": "code",
   "execution_count": null,
   "id": "553f99b1",
   "metadata": {},
   "outputs": [],
   "source": []
  },
  {
   "cell_type": "code",
   "execution_count": null,
   "id": "bbb034a1",
   "metadata": {},
   "outputs": [],
   "source": []
  },
  {
   "cell_type": "code",
   "execution_count": null,
   "id": "c1884832",
   "metadata": {},
   "outputs": [],
   "source": [
    "for fname, flags, b in outputs:\n",
    "    if flags == 0:\n",
    "        bf = 1.0 - ((b[\"xmax\"] - b[\"xmin\"])*(b[\"ymax\"] - b[\"ymin\"]))/(4096*2048)\n",
    "    else:\n",
    "        bf = 1.0\n",
    "\n",
    "    results[tname][band][os.path.basename(fname)] = {\n",
    "        \"no_box_frac\": bf,\n",
    "        \"flags\": flags,\n",
    "        \"bbox\": b,\n",
    "    }\n",
    "\n",
    "with open(\"data.json\", \"w\") as fp:\n",
    "    json.dump(results, fp)"
   ]
  },
  {
   "cell_type": "code",
   "execution_count": null,
   "id": "60866b83",
   "metadata": {},
   "outputs": [],
   "source": []
  },
  {
   "cell_type": "code",
   "execution_count": null,
   "id": "c34919dd",
   "metadata": {},
   "outputs": [],
   "source": []
  },
  {
   "cell_type": "code",
   "execution_count": null,
   "id": "97728ef1",
   "metadata": {},
   "outputs": [],
   "source": []
  },
  {
   "cell_type": "code",
   "execution_count": null,
   "id": "1c59938d",
   "metadata": {},
   "outputs": [],
   "source": []
  },
  {
   "cell_type": "code",
   "execution_count": null,
   "id": "2dfa735a",
   "metadata": {},
   "outputs": [],
   "source": [
    "os.system(\"mkdir -p piff_plots_%s\" % BAND)\n",
    "\n",
    "for i, src in PBar(enumerate(yml[\"src_info\"]), total=len(yml[\"src_info\"])):\n",
    "    pmod = piff.read(src[\"piff_path\"])\n",
    "    print(src[\"image_path\"])\n",
    "    res = make_good_regions_for_piff_model(pmod, piff_kwargs={\"GI_COLOR\": 0.61}, seed=10, verbose=True)\n",
    "    print(\"    \" + pprint.pformat(src[\"piff_info\"]))\n",
    "    \n",
    "    t_arr = res[\"t_arr\"]\n",
    "    t_mn = res[\"t_mn\"]\n",
    "    t_std = res[\"t_std\"]\n",
    "    flags = res[\"flags\"]\n",
    "    b = res[\"bbox\"]\n",
    "    \n",
    "    msk = (~np.isfinite(t_arr)) | (np.abs(t_arr - t_mn) > 25 * t_std)\n",
    "\n",
    "    if np.any(msk):\n",
    "\n",
    "        msk = (~np.isfinite(t_arr)) | (np.abs(t_arr - t_mn) > 15 * t_std)\n",
    "        fig, axs = pplt.subplots(nrows=1, ncols=2)\n",
    "        axs[0].imshow(np.log10(t_arr/t_std), cmap=\"rocket\", origin=\"lower\")\n",
    "        axs[0].grid(False)\n",
    "        axs[0].set_title(\"T\")\n",
    "\n",
    "        axs[1].imshow(msk, cmap=\"rocket\", origin=\"lower\")\n",
    "        axs[1].grid(False)\n",
    "        axs[1].set_title(\"|T - <T>| > 15 sigma(T)\")\n",
    "        axs[1].plot([b[\"xmin\"]/128, b[\"xmin\"]/128], [b[\"ymin\"]/128, b[\"ymax\"]/128 - 1], color=\"red\")\n",
    "        axs[1].plot([b[\"xmax\"]/128 - 1, b[\"xmax\"]/128 - 1], [b[\"ymin\"]/128, b[\"ymax\"]/128 - 1], color=\"red\")\n",
    "        axs[1].plot([b[\"xmin\"]/128, b[\"xmax\"]/128 - 1], [b[\"ymin\"]/128, b[\"ymin\"]/128], color=\"red\")\n",
    "        axs[1].plot([b[\"xmin\"]/128, b[\"xmax\"]/128 - 1], [b[\"ymax\"]/128 - 1, b[\"ymax\"]/128 - 1], color=\"red\")\n",
    "\n",
    "        fig.savefig(\"piff_plots_%s/psf_%d.png\" % (BAND, i))"
   ]
  },
  {
   "cell_type": "code",
   "execution_count": null,
   "id": "55f889a5",
   "metadata": {},
   "outputs": [],
   "source": []
  },
  {
   "cell_type": "code",
   "execution_count": null,
   "id": "fe40a9d7",
   "metadata": {},
   "outputs": [],
   "source": []
  },
  {
   "cell_type": "code",
   "execution_count": null,
   "id": "cf8c907b",
   "metadata": {},
   "outputs": [],
   "source": []
  },
  {
   "cell_type": "code",
   "execution_count": null,
   "id": "5d8ee2ed",
   "metadata": {},
   "outputs": [],
   "source": []
  },
  {
   "cell_type": "code",
   "execution_count": null,
   "id": "292cb308",
   "metadata": {},
   "outputs": [],
   "source": [
    "import meds\n",
    "\n",
    "bands = [\"g\", \"r\", \"i\", \"z\"]\n",
    "mfiles = []\n",
    "for band in bands:\n",
    "    mfiles.append(meds.MEDS(\"DES0221-0750_r5592p01_%s_pizza-cutter-slices.fits.fz\" % band))"
   ]
  },
  {
   "cell_type": "code",
   "execution_count": null,
   "id": "c93507da",
   "metadata": {},
   "outputs": [],
   "source": [
    "# start_obj = 9008\n",
    "# nrows = 16\n",
    "\n",
    "# fig, axs = pplt.subplots(nrows=nrows, ncols=4)\n",
    "\n",
    "# for row in range(nrows):\n",
    "#     obj = start_obj + row\n",
    "#     for col in range(4):\n",
    "#         psf = mfiles[col].get_psf(obj, 0)\n",
    "#         axs[row, col].imshow(np.arcsinh(psf/np.std(psf[20, :])), origin=\"lower\", cmap=\"rocket\")\n",
    "#         axs[row, col].grid(False)"
   ]
  },
  {
   "cell_type": "code",
   "execution_count": null,
   "id": "2d868ee4",
   "metadata": {},
   "outputs": [],
   "source": [
    "psf = mfiles[1].get_psf(9008, 0)\n",
    "\n",
    "fig, axs = pplt.subplots()\n",
    "axs.imshow(psf)"
   ]
  },
  {
   "cell_type": "code",
   "execution_count": null,
   "id": "c8e8c7c2",
   "metadata": {},
   "outputs": [],
   "source": [
    "import fitsio\n",
    "d = fitsio.read(\"DES0221-0750_r5592p01_%s_pizza-cutter-slices.fits.fz\" % \"r\", ext=\"epochs_info\")"
   ]
  },
  {
   "cell_type": "code",
   "execution_count": null,
   "id": "b6b0c232",
   "metadata": {},
   "outputs": [],
   "source": [
    "msk = d[\"id\"] == 9008"
   ]
  },
  {
   "cell_type": "code",
   "execution_count": null,
   "id": "e8a68681",
   "metadata": {},
   "outputs": [],
   "source": [
    "d[msk]"
   ]
  },
  {
   "cell_type": "code",
   "execution_count": null,
   "id": "4f3515e3",
   "metadata": {},
   "outputs": [],
   "source": [
    "ii = fitsio.read(\"DES0221-0750_r5592p01_%s_pizza-cutter-slices.fits.fz\" % \"r\", ext=\"image_info\")"
   ]
  },
  {
   "cell_type": "code",
   "execution_count": null,
   "id": "a5b9bfb9",
   "metadata": {},
   "outputs": [],
   "source": [
    "ii[d[msk][\"image_id\"]][\"image_path\"]"
   ]
  },
  {
   "cell_type": "code",
   "execution_count": null,
   "id": "41cd9edd",
   "metadata": {},
   "outputs": [],
   "source": []
  },
  {
   "cell_type": "code",
   "execution_count": null,
   "id": "dbd7e29a",
   "metadata": {},
   "outputs": [],
   "source": [
    "from pizza_cutter.des_pizza_cutter._piff_tools import compute_piff_flags"
   ]
  },
  {
   "cell_type": "code",
   "execution_count": null,
   "id": "050fdeba",
   "metadata": {},
   "outputs": [],
   "source": [
    "import piff\n",
    "\n",
    "piffs = []\n",
    "psf_imgs = []\n",
    "piff_flags = []\n",
    "einds = np.where(msk)[0]\n",
    "for eind in einds:\n",
    "    arr = d[eind:eind+1]\n",
    "    image_id = arr[\"image_id\"][0]\n",
    "    fname = ii[image_id][\"image_path\"]\n",
    "    src = None\n",
    "    for i, _src in enumerate(yml[\"src_info\"]):\n",
    "        if _src[\"image_path\"].endswith(fname.split(\"/\")[1]):\n",
    "            src = _src\n",
    "            \n",
    "    assert src is not None, fname.split(\"/\")[1]\n",
    "    print(fname, src[\"piff_path\"])\n",
    "    piffs.append(piff.read(src[\"piff_path\"]))\n",
    "    row = arr[\"psf_row_start\"][0] + 13\n",
    "    col = arr[\"psf_col_start\"][0] + 13\n",
    "    print(row, col, src[\"piff_info\"])\n",
    "    psf_imgs.append(piffs[-1].draw(x=col, y=row, GI_COLOR=0.61, chipnum=list(piffs[-1].wcs.keys())[0]).array)\n",
    "    piff_flags.append(compute_piff_flags(\n",
    "        piff_info=src[\"piff_info\"],\n",
    "        max_fwhm_cen=3.6, \n",
    "        min_nstar=25, \n",
    "        max_exp_T_mean_fac=4, \n",
    "        max_ccd_T_std_fac=0.3,\n",
    "    ))"
   ]
  },
  {
   "cell_type": "code",
   "execution_count": null,
   "id": "c54b9368",
   "metadata": {},
   "outputs": [],
   "source": [
    "piff_flags"
   ]
  },
  {
   "cell_type": "code",
   "execution_count": null,
   "id": "bf57f097",
   "metadata": {},
   "outputs": [],
   "source": [
    "fig, axs = pplt.subplots(nrows=len(psf_imgs), ncols=1)\n",
    "\n",
    "for i, ax in enumerate(axs):\n",
    "    ax.imshow(psf_imgs[i])\n",
    "    print(psf_imgs[i].sum())"
   ]
  },
  {
   "cell_type": "code",
   "execution_count": null,
   "id": "ab18e4c2",
   "metadata": {},
   "outputs": [],
   "source": []
  },
  {
   "cell_type": "code",
   "execution_count": null,
   "id": "fe178ec7",
   "metadata": {},
   "outputs": [],
   "source": []
  },
  {
   "cell_type": "code",
   "execution_count": null,
   "id": "c7bf9cd6",
   "metadata": {},
   "outputs": [],
   "source": [
    "%matplotlib inline"
   ]
  },
  {
   "cell_type": "code",
   "execution_count": null,
   "id": "53ca80d0",
   "metadata": {},
   "outputs": [],
   "source": []
  },
  {
   "cell_type": "code",
   "execution_count": null,
   "id": "c727641e",
   "metadata": {},
   "outputs": [],
   "source": [
    "m = meds.MEDS(\"DES0221-0750_r_des-pizza-slices-y6-test_meds-pizza-slices-range9005-9010.fits.fz\")"
   ]
  },
  {
   "cell_type": "code",
   "execution_count": null,
   "id": "8957431d",
   "metadata": {},
   "outputs": [],
   "source": [
    "psf = m.get_psf(9008, 0)\n",
    "\n",
    "fig, axs = pplt.subplots()\n",
    "axs.imshow(psf)"
   ]
  },
  {
   "cell_type": "code",
   "execution_count": null,
   "id": "c598fd47",
   "metadata": {},
   "outputs": [],
   "source": [
    "import fitsio\n",
    "ei = fitsio.read(\"DES0221-0750_r_des-pizza-slices-y6-test_meds-pizza-slices-range9005-9010.fits.fz\", ext=\"epochs_info\")"
   ]
  },
  {
   "cell_type": "code",
   "execution_count": null,
   "id": "c8c10b1b",
   "metadata": {},
   "outputs": [],
   "source": [
    "ei[ei[\"id\"] == 9008]"
   ]
  },
  {
   "cell_type": "code",
   "execution_count": null,
   "id": "9844203c",
   "metadata": {},
   "outputs": [],
   "source": [
    "2**5"
   ]
  },
  {
   "cell_type": "code",
   "execution_count": null,
   "id": "99344d0c",
   "metadata": {},
   "outputs": [],
   "source": []
  }
 ],
 "metadata": {
  "kernelspec": {
   "display_name": "Python [conda env:desy6] *",
   "language": "python",
   "name": "conda-env-desy6-py"
  },
  "language_info": {
   "codemirror_mode": {
    "name": "ipython",
    "version": 3
   },
   "file_extension": ".py",
   "mimetype": "text/x-python",
   "name": "python",
   "nbconvert_exporter": "python",
   "pygments_lexer": "ipython3",
   "version": "3.8.12"
  }
 },
 "nbformat": 4,
 "nbformat_minor": 5
}
