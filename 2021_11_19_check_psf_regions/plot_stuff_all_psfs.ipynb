{
 "cells": [
  {
   "cell_type": "code",
   "execution_count": null,
   "id": "f7409a18",
   "metadata": {},
   "outputs": [],
   "source": [
    "import ngmix\n",
    "import fitsio\n",
    "import proplot as pplt\n",
    "import numpy as np\n",
    "import piff\n",
    "import galsim\n",
    "import yaml"
   ]
  },
  {
   "cell_type": "code",
   "execution_count": null,
   "id": "077c57db",
   "metadata": {},
   "outputs": [],
   "source": [
    "%matplotlib inline"
   ]
  },
  {
   "cell_type": "code",
   "execution_count": null,
   "id": "08f14d43",
   "metadata": {},
   "outputs": [],
   "source": [
    "import glob\n",
    "from esutil.pbar import PBar\n",
    "import joblib\n",
    "\n",
    "arrs = []\n",
    "fnames = []\n",
    "bands = []\n",
    "arr_files = sorted(glob.glob(\"data/data_chunk*.fits\"))\n",
    "for arr_file in PBar(arr_files):\n",
    "    fname_file = arr_file.replace(\"/data_\", \"/fnames_\")\n",
    "    arrs.append(fitsio.read(arr_file))\n",
    "    fnames.append(fitsio.read(fname_file)[\"fnames\"])\n",
    "    bands.append([f.split(\"_\")[1] for f in fnames[-1]])\n",
    "    \n",
    "arr = np.hstack(arrs)\n",
    "fnames = np.hstack(fnames)\n",
    "bands = np.hstack(bands)\n",
    "\n",
    "print(\"any NaNs:\", np.any(np.isnan(arr)))"
   ]
  },
  {
   "cell_type": "code",
   "execution_count": null,
   "id": "b4fd95ea",
   "metadata": {},
   "outputs": [],
   "source": [
    "def _plot_vals(arr, ax, title=None, msk=None):\n",
    "    cols = pplt.get_colors(\"default\")\n",
    "    \n",
    "    arr_bad = []\n",
    "    arr_good = []\n",
    "    arr_all = []\n",
    "    isnan = []\n",
    "\n",
    "    naninds = []\n",
    "    cutinds = []\n",
    "    oddinds = []\n",
    "\n",
    "    def _stat(a):\n",
    "        return np.nanmax(np.abs(a-np.nanmedian(a)))\n",
    "\n",
    "\n",
    "    ng = 512\n",
    "    for i in range(len(arr)//ng):\n",
    "        if msk is not None and not msk[i]:\n",
    "            continue\n",
    "        start = i * ng\n",
    "        stop = start + ng\n",
    "        a = arr[start:stop]\n",
    "        sa = _stat(a)\n",
    "        if sa == 0:\n",
    "            print(\"zero stat:\", i)\n",
    "            continue\n",
    "        \n",
    "        arr_all.append(sa)\n",
    "        if np.any(np.isnan(a)):\n",
    "            isnan.append(True)\n",
    "            arr_bad.append(sa)\n",
    "            naninds.append(i)\n",
    "            print(\"really bad:\", i, arr_bad[-1], np.any(np.isnan(a)))\n",
    "        else:\n",
    "            isnan.append(False)\n",
    "            arr_good.append(sa)\n",
    "\n",
    "            if sa > 0.14 and sa <= 0.15:\n",
    "                oddinds.append(i)\n",
    "                print(\"kind of odd:\", i, sa)\n",
    "            elif sa > 0.15:\n",
    "                cutinds.append(i)\n",
    "\n",
    "    cut = 0.15\n",
    "    isnan = np.array(isnan)\n",
    "    arr_all = np.array(arr_all)\n",
    "    print(\"fraction cut:\", np.mean(isnan | (arr_all > cut)))\n",
    "\n",
    "    if len(arr_bad) > 0:\n",
    "        arr_bad = np.log10(np.hstack(arr_bad))\n",
    "    else:\n",
    "        arr_bad = None\n",
    "    arr_good = np.log10(np.hstack(arr_good))\n",
    "\n",
    "    if arr_bad is not None:\n",
    "        h, _, _ = ax.hist(\n",
    "            [arr_bad, arr_good], \n",
    "            bins=75, \n",
    "            log=True, \n",
    "            density=False, \n",
    "            labels=[\"NaNs\", \"no NaNs\"],\n",
    "            colors=[cols[1], cols[0]],\n",
    "            stacked=False,\n",
    "            histtype=\"stepfilled\",\n",
    "            alpha=0.75,\n",
    "        )\n",
    "    else:\n",
    "        h, _, _ = ax.hist(arr_good, bins=75, log=True, density=True, label=\"no NaNs\", color=cols[0])\n",
    "    \n",
    "    ax.vlines(np.log10(cut), min(0.02, h.min()/2), max(h.max()*2, 1200), color='k')\n",
    "    ax.legend()\n",
    "    ax.set_xlabel(\"log10[max(|Tgal - median(Tgal)|)]\")\n",
    "    if title is not None:\n",
    "        ax.set_title(title)\n",
    "    ax.grid(False)"
   ]
  },
  {
   "cell_type": "code",
   "execution_count": null,
   "id": "0fe90652",
   "metadata": {},
   "outputs": [],
   "source": [
    "fig, axs = pplt.subplots(refwidth=4)\n",
    "_plot_vals(arr, axs)"
   ]
  },
  {
   "cell_type": "code",
   "execution_count": null,
   "id": "2288370b",
   "metadata": {},
   "outputs": [],
   "source": [
    "fig, axs = pplt.subplots(refwidth=4, ncols=4)\n",
    "\n",
    "for i, band in enumerate([\"g\", \"r\", \"i\", \"z\"]):\n",
    "    msk = bands == band \n",
    "    _plot_vals(arr, axs[i], title=band, msk=msk)"
   ]
  },
  {
   "cell_type": "code",
   "execution_count": null,
   "id": "57e215b5",
   "metadata": {},
   "outputs": [],
   "source": []
  },
  {
   "cell_type": "code",
   "execution_count": null,
   "id": "89bb1306",
   "metadata": {},
   "outputs": [],
   "source": [
    "import os\n",
    "import glob\n",
    "from des_y6utils.piff import (\n",
    "    measure_star_t_for_piff_model,\n",
    "    map_star_t_to_grid,\n",
    "    measure_t_grid_for_piff_model,\n",
    "    make_good_regions_for_piff_model_gal_grid,\n",
    "    make_good_regions_for_piff_model_star_and_gal_grid,\n",
    "    nanmad,\n",
    ")\n",
    "\n",
    "sind = 3008\n",
    "found = glob.glob(os.path.join(os.environ[\"DESDATA\"], \"**\", fnames[sind]), recursive=True)\n",
    "assert len(found) == 1\n",
    "\n",
    "piff_mod = piff.read(found[0])\n",
    "print(len(piff_mod.stars))\n",
    "\n",
    "if \"_z_\" in fnames[sind]:\n",
    "    piff_kwargs = {\"IZ_COLOR\": 0.34}\n",
    "else:\n",
    "    piff_kwargs = {\"GI_COLOR\": 0.61}\n",
    "\n",
    "t_arr = measure_t_grid_for_piff_model(piff_mod, piff_kwargs, seed=14354)\n",
    "\n",
    "fig, axs = pplt.subplots(ncols=1, share=0)\n",
    "axs.imshow(t_arr, cmap=\"rocket\")\n",
    "axs.grid(False)\n",
    "axs.set_title(\"grid of shapes at gal color\")"
   ]
  },
  {
   "cell_type": "code",
   "execution_count": null,
   "id": "1c440683",
   "metadata": {},
   "outputs": [],
   "source": []
  },
  {
   "cell_type": "code",
   "execution_count": null,
   "id": "f93558ab",
   "metadata": {},
   "outputs": [],
   "source": []
  },
  {
   "cell_type": "code",
   "execution_count": null,
   "id": "e5096927",
   "metadata": {},
   "outputs": [],
   "source": []
  },
  {
   "cell_type": "code",
   "execution_count": null,
   "id": "1479831d",
   "metadata": {},
   "outputs": [],
   "source": [
    "import os\n",
    "import glob\n",
    "from des_y6utils.piff import (\n",
    "    measure_star_t_for_piff_model,\n",
    "    map_star_t_to_grid,\n",
    "    measure_t_grid_for_piff_model,\n",
    "    make_good_regions_for_piff_model_gal_grid,\n",
    "    make_good_regions_for_piff_model_star_and_gal_grid,\n",
    "    nanmad,\n",
    ")\n",
    "\n",
    "sind = 2516\n",
    "found = glob.glob(os.path.join(os.environ[\"DESDATA\"], \"**\", fnames[sind]), recursive=True)\n",
    "assert len(found) == 1\n",
    "\n",
    "\n",
    "piff_mod = piff.read(found[0])\n",
    "print(len(piff_mod.stars))\n",
    "\n",
    "if \"_z_\" in fnames[sind]:\n",
    "    piff_kwargs = {\"IZ_COLOR\": 0.34}\n",
    "else:\n",
    "    piff_kwargs = {\"GI_COLOR\": 0.61}\n",
    "\n",
    "\n",
    "thresh = 5\n",
    "t_arr = measure_t_grid_for_piff_model(piff_mod, piff_kwargs, seed=14354)\n",
    "data = measure_star_t_for_piff_model(piff_mod, piff_prop=list(piff_kwargs.keys())[0])\n",
    "msk = np.isfinite(data[\"t\"])\n",
    "data = data[msk]\n",
    "ts_arr = map_star_t_to_grid(data)\n",
    "\n",
    "res_g = make_good_regions_for_piff_model_gal_grid(piff_mod, piff_kwargs=piff_kwargs, seed=11, verbose=False)\n",
    "res_sg = make_good_regions_for_piff_model_star_and_gal_grid(\n",
    "    piff_mod, piff_kwargs=piff_kwargs, seed=11, verbose=False,\n",
    "    flag_bad_thresh=2, any_bad_thresh=5,\n",
    ")\n",
    "\n",
    "vmin = min(np.nanmin(ts_arr), np.nanmin(t_arr))\n",
    "vmax = max(np.nanmax(ts_arr), np.nanmax(t_arr))\n",
    "\n",
    "fig, axs = pplt.subplots(ncols=4, share=0)\n",
    "h0 = axs[0].imshow(ts_arr, vmin=vmin, vmax=vmax, cmap=\"rocket\")\n",
    "axs[0].grid(False)\n",
    "axs[0].set_title(\"stars on grid w/ 2d poly\")\n",
    "axs[0].colorbar(h0, loc='l')\n",
    "\n",
    "axs[1].imshow(t_arr, vmin=vmin, vmax=vmax, cmap=\"rocket\")\n",
    "axs[1].grid(False)\n",
    "axs[1].set_title(\"grid of shapes at gal color\")\n",
    "\n",
    "b = res_g[\"bbox\"]\n",
    "axs[1].plot([b[\"xmin\"]/128, b[\"xmin\"]/128], [b[\"ymin\"]/128, b[\"ymax\"]/128 - 1], color=\"red\")\n",
    "axs[1].plot([b[\"xmax\"]/128 - 1, b[\"xmax\"]/128 - 1], [b[\"ymin\"]/128, b[\"ymax\"]/128 - 1], color=\"red\")\n",
    "axs[1].plot([b[\"xmin\"]/128, b[\"xmax\"]/128 - 1], [b[\"ymin\"]/128, b[\"ymin\"]/128], color=\"red\")\n",
    "axs[1].plot([b[\"xmin\"]/128, b[\"xmax\"]/128 - 1], [b[\"ymax\"]/128 - 1, b[\"ymax\"]/128 - 1], color=\"red\")\n",
    "\n",
    "b = res_sg[\"bbox\"]\n",
    "axs[1].plot([b[\"xmin\"]/128, b[\"xmin\"]/128], [b[\"ymin\"]/128, b[\"ymax\"]/128 - 1], color=\"blue\")\n",
    "axs[1].plot([b[\"xmax\"]/128 - 1, b[\"xmax\"]/128 - 1], [b[\"ymin\"]/128, b[\"ymax\"]/128 - 1], color=\"blue\")\n",
    "axs[1].plot([b[\"xmin\"]/128, b[\"xmax\"]/128 - 1], [b[\"ymin\"]/128, b[\"ymin\"]/128], color=\"blue\")\n",
    "axs[1].plot([b[\"xmin\"]/128, b[\"xmax\"]/128 - 1], [b[\"ymax\"]/128 - 1, b[\"ymax\"]/128 - 1], color=\"blue\")\n",
    "\n",
    "axs[2].imshow(res_sg[\"bad_msk\"], cmap=\"rocket\")\n",
    "\n",
    "harr = (t_arr-ts_arr).ravel()\n",
    "std5 = nanmad(harr) * 2\n",
    "h = axs[3].hist(harr, bins=50)\n",
    "axs[3].vlines([np.nanmedian(harr)-std5, np.nanmedian(harr)+std5], 0, np.max(h[0]), color=\"k\")\n",
    "axs[3].set_xlabel(\"gal T - star T\")"
   ]
  },
  {
   "cell_type": "code",
   "execution_count": null,
   "id": "c499c4bf",
   "metadata": {},
   "outputs": [],
   "source": []
  },
  {
   "cell_type": "code",
   "execution_count": null,
   "id": "aa7e4059",
   "metadata": {},
   "outputs": [],
   "source": []
  },
  {
   "cell_type": "code",
   "execution_count": null,
   "id": "41e383a0",
   "metadata": {},
   "outputs": [],
   "source": []
  },
  {
   "cell_type": "code",
   "execution_count": null,
   "id": "47a17e6e",
   "metadata": {},
   "outputs": [],
   "source": [
    "TNAMES = [\"DES0131-3206\", \"DES0137-3749\", \"DES0221-0750\", \"DES0229-0416\"]\n",
    "BANDS = [\"g\", \"r\", \"i\", \"z\"]\n",
    "\n",
    "with open(\n",
    "    \"/Users/beckermr/MEDS_DIR/des-pizza-slices-y6-test/pizza_cutter_info/\"\n",
    "    \"%s_%s_pizza_cutter_info.yaml\" % (TNAMES[1], BANDS[0])\n",
    ") as fp:\n",
    "    yml = yaml.safe_load(fp.read())"
   ]
  },
  {
   "cell_type": "code",
   "execution_count": null,
   "id": "ba61ba42",
   "metadata": {},
   "outputs": [],
   "source": [
    "from des_y6utils.piff import (\n",
    "    measure_star_t_for_piff_model,\n",
    "    map_star_t_to_grid,\n",
    "    measure_t_grid_for_piff_model,\n",
    "    make_good_regions_for_piff_model_gal_grid,\n",
    "    make_good_regions_for_piff_model_star_and_gal_grid,\n",
    "    nanmad,\n",
    ")"
   ]
  },
  {
   "cell_type": "code",
   "execution_count": null,
   "id": "80404931",
   "metadata": {},
   "outputs": [],
   "source": [
    "# find a bad model\n",
    "import tqdm\n",
    "\n",
    "for sind, src in tqdm.tqdm(enumerate(yml[\"src_info\"]), total=len(yml[\"src_info\"])):\n",
    "    fname = src[\"piff_path\"]\n",
    "\n",
    "    pmod = piff.read(fname)\n",
    "    if \"_z_\" in fname:\n",
    "        piff_kwargs = {\"IZ_COLOR\": 0.34}\n",
    "    else:\n",
    "        piff_kwargs = {\"GI_COLOR\": 0.61}\n",
    "    t_gal = measure_t_grid_for_piff_model(piff_mod, piff_kwargs, seed=14354)    \n",
    "    bf = np.mean(np.isnan(t_gal))\n",
    "    \n",
    "    if bf > 0:\n",
    "        print(sind)\n",
    "        break"
   ]
  },
  {
   "cell_type": "code",
   "execution_count": null,
   "id": "032dc0e2",
   "metadata": {},
   "outputs": [],
   "source": [
    "from esutil.pbar import prange\n",
    "from pizza_cutter.des_pizza_cutter._piff_tools import compute_piff_flags\n",
    "\n",
    "tot = 0\n",
    "flagged = 0\n",
    "\n",
    "TNAMES = [\"DES0131-3206\", \"DES0137-3749\", \"DES0221-0750\", \"DES0229-0416\"]\n",
    "BANDS = [\"g\", \"r\", \"i\", \"z\"]\n",
    "\n",
    "\n",
    "for i in prange(4):\n",
    "    for j in range(4):\n",
    "        with open(\n",
    "            \"/Users/beckermr/MEDS_DIR/des-pizza-slices-y6-test/pizza_cutter_info/\"\n",
    "            \"%s_%s_pizza_cutter_info.yaml\" % (TNAMES[i], BANDS[j])\n",
    "        ) as fp:\n",
    "            yml = yaml.safe_load(fp.read())\n",
    "        \n",
    "        for _sind, src in enumerate(yml[\"src_info\"]):\n",
    "            tot += 1\n",
    "            if (compute_piff_flags(\n",
    "                        piff_info=src[\"piff_info\"],\n",
    "                        max_fwhm_cen=3.6, \n",
    "                        min_nstar=35, \n",
    "                        max_exp_T_mean_fac=4, \n",
    "                        max_ccd_T_std_fac=0.3,\n",
    "                    ) != 0):\n",
    "                flagged += 1\n",
    "\n",
    "print(flagged, flagged / tot)"
   ]
  },
  {
   "cell_type": "code",
   "execution_count": null,
   "id": "15be7ff2",
   "metadata": {},
   "outputs": [],
   "source": [
    "from pizza_cutter.des_pizza_cutter._piff_tools import compute_piff_flags\n",
    "\n",
    "TNAMES = [\n",
    "    \"DES0131-3206\", \n",
    "    \"DES0137-3749\", \n",
    "    \"DES0221-0750\", \n",
    "    \"DES0229-0416\",\n",
    "]\n",
    "\n",
    "tfind = \"D00372620_i_c62_r5702p01_piff-model.fits\"\n",
    "BANDS = [tfind.split(\"_\")[1]]\n",
    "sind = None\n",
    "\n",
    "for band in BANDS:\n",
    "    for tname in TNAMES:\n",
    "        with open(\n",
    "            \"/Users/beckermr/MEDS_DIR/des-pizza-slices-y6-test/pizza_cutter_info/\"\n",
    "            \"%s_%s_pizza_cutter_info.yaml\" % (tname, band)\n",
    "        ) as fp:\n",
    "            yml = yaml.safe_load(fp.read())\n",
    "\n",
    "        for _sind, src in enumerate(yml[\"src_info\"]):\n",
    "            if tfind in src[\"piff_path\"]:\n",
    "                sind = _sind\n",
    "                print(\n",
    "                    \"sind|flags|tname:\",\n",
    "                    sind,\n",
    "                    compute_piff_flags(\n",
    "                        piff_info=src[\"piff_info\"],\n",
    "                        max_fwhm_cen=3.6, \n",
    "                        min_nstar=25, \n",
    "                        max_exp_T_mean_fac=4, \n",
    "                        max_ccd_T_std_fac=0.3,\n",
    "                    ),\n",
    "                    yml[\"tilename\"],\n",
    "                )\n",
    "                break\n",
    "        if sind is not None:\n",
    "            break\n",
    "    if sind is not None:\n",
    "        break\n"
   ]
  },
  {
   "cell_type": "code",
   "execution_count": null,
   "id": "898a1956",
   "metadata": {},
   "outputs": [],
   "source": []
  },
  {
   "cell_type": "code",
   "execution_count": null,
   "id": "816372af",
   "metadata": {},
   "outputs": [],
   "source": []
  },
  {
   "cell_type": "code",
   "execution_count": null,
   "id": "2fefdc7a",
   "metadata": {},
   "outputs": [],
   "source": []
  },
  {
   "cell_type": "code",
   "execution_count": null,
   "id": "04dac7d8",
   "metadata": {},
   "outputs": [],
   "source": [
    "np.nanmax(np.abs(harr - np.nanmedian(harr)))/nanmad(harr)"
   ]
  },
  {
   "cell_type": "code",
   "execution_count": null,
   "id": "7a022d28",
   "metadata": {},
   "outputs": [],
   "source": []
  },
  {
   "cell_type": "code",
   "execution_count": null,
   "id": "041d61d9",
   "metadata": {},
   "outputs": [],
   "source": []
  },
  {
   "cell_type": "code",
   "execution_count": null,
   "id": "9de359e4",
   "metadata": {},
   "outputs": [],
   "source": [
    "np.mean(res_sg[\"bad_msk\"])"
   ]
  },
  {
   "cell_type": "code",
   "execution_count": null,
   "id": "a18eb5ec",
   "metadata": {},
   "outputs": [],
   "source": []
  },
  {
   "cell_type": "code",
   "execution_count": null,
   "id": "a41f5a93",
   "metadata": {},
   "outputs": [],
   "source": [
    "t_gal[0, 0] = np.nan\n",
    "np.mean(np.isnan(t_gal))"
   ]
  },
  {
   "cell_type": "code",
   "execution_count": null,
   "id": "8fc2c60c",
   "metadata": {},
   "outputs": [],
   "source": [
    "list(piff_kwargs.keys())[0]"
   ]
  },
  {
   "cell_type": "code",
   "execution_count": null,
   "id": "7544af54",
   "metadata": {},
   "outputs": [],
   "source": []
  },
  {
   "cell_type": "code",
   "execution_count": null,
   "id": "6b048689",
   "metadata": {},
   "outputs": [],
   "source": []
  },
  {
   "cell_type": "code",
   "execution_count": null,
   "id": "e7bfc66d",
   "metadata": {},
   "outputs": [],
   "source": [
    "import ngmix\n",
    "\n",
    "def get_star_stamp_pos(s, img, wgt):\n",
    "    xint = int(np.floor(s.x - 1 + 0.5))\n",
    "    yint = int(np.floor(s.y - 1 + 0.5))\n",
    "    bbox = 17\n",
    "    bbox_2 = (bbox - 1)//2\n",
    "    \n",
    "    return dict(\n",
    "        img=img[yint-bbox_2: yint+bbox_2+1, xint-bbox_2: xint+bbox_2+1],\n",
    "        wgt=wgt[yint-bbox_2: yint+bbox_2+1, xint-bbox_2: xint+bbox_2+1],\n",
    "        xstart=xint-bbox_2, \n",
    "        ystart=yint-bbox_2,\n",
    "        dim=bbox,\n",
    "        x=s.x - 1,\n",
    "        y=s.y - 1,\n",
    "    )\n",
    "\n",
    "def get_star_piff_obs(piff_mod, s, img, wgt):\n",
    "    \n",
    "    sres = get_star_stamp_pos(s, img, wgt)\n",
    "    \n",
    "    xv = sres[\"x\"]+1\n",
    "    yv = sres[\"y\"]+1\n",
    "    wcs = list(piff_mod.wcs.values())[0].local(\n",
    "        image_pos=galsim.PositionD(x=xv, y=yv)\n",
    "    ).jacobian()\n",
    "    img = galsim.ImageD(sres[\"dim\"], sres[\"dim\"], wcs=wcs)\n",
    "    cen = (\n",
    "        sres[\"x\"] - sres[\"xstart\"] + 1,\n",
    "        sres[\"y\"] - sres[\"ystart\"] + 1,\n",
    "    )\n",
    "    img = piff_mod.draw(\n",
    "        x=xv, y=yv, chipnum=list(piff_mod.wcs.keys())[0],\n",
    "        GI_COLOR=s.data.properties[\"GI_COLOR\"],\n",
    "        image=img, center=cen,\n",
    "    )\n",
    "    model_obs = ngmix.Observation(\n",
    "        image=img.array,\n",
    "        jacobian=ngmix.Jacobian(\n",
    "            y=cen[1]-1,\n",
    "            x=cen[0]-1,\n",
    "            wcs=wcs,\n",
    "        )\n",
    "    )\n",
    "    star_obs = ngmix.Observation(\n",
    "        image=sres[\"img\"],\n",
    "        weight=sres[\"wgt\"],\n",
    "        jacobian=ngmix.Jacobian(\n",
    "            y=cen[1]-1,\n",
    "            x=cen[0]-1,\n",
    "            wcs=wcs,\n",
    "        )\n",
    "    )\n",
    "    return model_obs, star_obs, sres"
   ]
  },
  {
   "cell_type": "code",
   "execution_count": null,
   "id": "8662533d",
   "metadata": {},
   "outputs": [],
   "source": [
    "\n",
    "x = []\n",
    "y = []\n",
    "t = []\n",
    "\n",
    "for s in piff_mod.stars:\n",
    "\n",
    "    mobs, sobs, sres = get_star_piff_obs(piff_mod, s, img, wgt)\n",
    "    \n",
    "    res = ngmix.admom.AdmomFitter(\n",
    "        rng=np.random.RandomState(seed=10)\n",
    "    ).go(mobs, ngmix.moments.fwhm_to_T(1))\n",
    "    t.append(res[\"T\"])\n",
    "    x.append(sres[\"x\"])\n",
    "    y.append(sres[\"y\"])\n",
    "    "
   ]
  },
  {
   "cell_type": "code",
   "execution_count": null,
   "id": "3cb5660a",
   "metadata": {},
   "outputs": [],
   "source": [
    "from sklearn.preprocessing import PolynomialFeatures\n",
    "from sklearn.pipeline import make_pipeline\n",
    "from sklearn.linear_model import LinearRegression\n",
    "\n",
    "degree = 2\n",
    "polyreg = make_pipeline(PolynomialFeatures(degree), LinearRegression())\n",
    "polyreg.fit(np.array([x, y]).T, np.array(t))"
   ]
  },
  {
   "cell_type": "code",
   "execution_count": null,
   "id": "f1784c06",
   "metadata": {},
   "outputs": [],
   "source": [
    "y, x = np.mgrid[0:4096:128, 0:2048:128] + 64\n",
    "tg = polyreg.predict(np.array([x.ravel(), y.ravel()]).T)"
   ]
  },
  {
   "cell_type": "code",
   "execution_count": null,
   "id": "ad4b8146",
   "metadata": {},
   "outputs": [],
   "source": [
    "tg = tg.reshape(x.shape)"
   ]
  },
  {
   "cell_type": "code",
   "execution_count": null,
   "id": "711c8451",
   "metadata": {},
   "outputs": [],
   "source": [
    "fig, axs = pplt.subplots(ncols=2)\n",
    "axs[0].imshow(tg)\n",
    "axs[1].imshow(res[\"t_arr\"])"
   ]
  },
  {
   "cell_type": "code",
   "execution_count": null,
   "id": "780d90e4",
   "metadata": {},
   "outputs": [],
   "source": [
    "def _nanmad(x, axis=None):\n",
    "    \"\"\"\n",
    "    median absolute deviation - scaled like a standard deviation\n",
    "\n",
    "        mad = 1.4826*median(|x-median(x)|)\n",
    "\n",
    "    Parameters\n",
    "    ----------\n",
    "    x: array-like\n",
    "        array to take MAD of\n",
    "    axis : {int, sequence of int, None}, optional\n",
    "        `axis` keyword for\n",
    "\n",
    "    Returns\n",
    "    -------\n",
    "    mad: float\n",
    "        MAD of array x\n",
    "    \"\"\"\n",
    "    return 1.4826*np.nanmedian(np.abs(x - np.nanmedian(x, axis=axis)), axis=axis)\n"
   ]
  },
  {
   "cell_type": "code",
   "execution_count": null,
   "id": "8ee74428",
   "metadata": {},
   "outputs": [],
   "source": [
    "print(_nanmad(t), _nanmad(tg))"
   ]
  },
  {
   "cell_type": "code",
   "execution_count": null,
   "id": "ebd98453",
   "metadata": {},
   "outputs": [],
   "source": [
    "from des_y6utils.piff import make_good_regions_for_piff_model"
   ]
  },
  {
   "cell_type": "code",
   "execution_count": null,
   "id": "0d8cc9cf",
   "metadata": {},
   "outputs": [],
   "source": [
    "res = make_good_regions_for_piff_model(piff_mod, piff_kwargs={\"GI_COLOR\": 0.61}, seed=10, verbose=False)"
   ]
  },
  {
   "cell_type": "code",
   "execution_count": null,
   "id": "844193d9",
   "metadata": {},
   "outputs": [],
   "source": [
    "res[\"t_std\"]"
   ]
  },
  {
   "cell_type": "code",
   "execution_count": null,
   "id": "4f02efa1",
   "metadata": {},
   "outputs": [],
   "source": [
    "fig, axs = pplt.subplots()\n",
    "\n",
    "axs.hist((res[\"t_arr\"] - tg).ravel(), bins=50)"
   ]
  },
  {
   "cell_type": "code",
   "execution_count": null,
   "id": "2c04c2b0",
   "metadata": {},
   "outputs": [],
   "source": [
    "np.std((res[\"t_arr\"] - tg).ravel()) * 5"
   ]
  },
  {
   "cell_type": "code",
   "execution_count": null,
   "id": "9968a4af",
   "metadata": {},
   "outputs": [],
   "source": [
    "np.max(np.abs(np.max(t) - np.median(t)))"
   ]
  },
  {
   "cell_type": "code",
   "execution_count": null,
   "id": "c45c5c97",
   "metadata": {},
   "outputs": [],
   "source": [
    "_nanmad(t)"
   ]
  },
  {
   "cell_type": "code",
   "execution_count": null,
   "id": "3d8d080b",
   "metadata": {},
   "outputs": [],
   "source": [
    "g = galsim.Gaussian(fwhm=0.5).dilate(1.1)"
   ]
  },
  {
   "cell_type": "code",
   "execution_count": null,
   "id": "70928fe8",
   "metadata": {},
   "outputs": [],
   "source": [
    "g"
   ]
  },
  {
   "cell_type": "code",
   "execution_count": null,
   "id": "503a10d7",
   "metadata": {},
   "outputs": [],
   "source": [
    "import fitsio"
   ]
  },
  {
   "cell_type": "code",
   "execution_count": null,
   "id": "d0dd4228",
   "metadata": {},
   "outputs": [],
   "source": [
    "fitsio.write?"
   ]
  },
  {
   "cell_type": "code",
   "execution_count": null,
   "id": "65f699c3",
   "metadata": {},
   "outputs": [],
   "source": []
  }
 ],
 "metadata": {
  "kernelspec": {
   "display_name": "Python [conda env:desy6]",
   "language": "python",
   "name": "conda-env-desy6-py"
  },
  "language_info": {
   "codemirror_mode": {
    "name": "ipython",
    "version": 3
   },
   "file_extension": ".py",
   "mimetype": "text/x-python",
   "name": "python",
   "nbconvert_exporter": "python",
   "pygments_lexer": "ipython3",
   "version": "3.9.7"
  }
 },
 "nbformat": 4,
 "nbformat_minor": 5
}
