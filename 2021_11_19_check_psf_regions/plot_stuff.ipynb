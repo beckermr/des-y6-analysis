{
 "cells": [
  {
   "cell_type": "code",
   "execution_count": 1,
   "id": "f7409a18",
   "metadata": {},
   "outputs": [],
   "source": [
    "import ngmix\n",
    "import fitsio\n",
    "import proplot as pplt\n",
    "import numpy as np\n",
    "import piff\n",
    "import galsim\n",
    "import yaml"
   ]
  },
  {
   "cell_type": "code",
   "execution_count": 2,
   "id": "077c57db",
   "metadata": {},
   "outputs": [],
   "source": [
    "%matplotlib inline"
   ]
  },
  {
   "cell_type": "code",
   "execution_count": 88,
   "id": "ee4ee7f9",
   "metadata": {},
   "outputs": [],
   "source": [
    "import glob\n",
    "import os\n",
    "\n",
    "\n",
    "band = \"i\"\n",
    "fnames = sorted(glob.glob(\n",
    "    os.path.join(\n",
    "        os.environ[\"MEDS_DIR\"], \n",
    "        \"des-pizza-slices-y6-test\", \n",
    "        \"**\", \n",
    "        \"*piff-model.fits\"\n",
    "    ),\n",
    "    recursive=True,\n",
    "))"
   ]
  },
  {
   "cell_type": "code",
   "execution_count": 89,
   "id": "da7291ca",
   "metadata": {},
   "outputs": [
    {
     "name": "stdout",
     "output_type": "stream",
     "text": [
      "2680\n"
     ]
    }
   ],
   "source": [
    "print(len(fnames))"
   ]
  },
  {
   "cell_type": "code",
   "execution_count": 90,
   "id": "08f14d43",
   "metadata": {
    "scrolled": false
   },
   "outputs": [
    {
     "name": "stderr",
     "output_type": "stream",
     "text": [
      "[Parallel(n_jobs=2)]: Using backend LokyBackend with 2 concurrent workers.\n",
      "[Parallel(n_jobs=2)]: Done   1 tasks      | elapsed:   16.5s\n",
      "[Parallel(n_jobs=2)]: Done   4 tasks      | elapsed:   22.6s\n",
      "[Parallel(n_jobs=2)]: Done   9 tasks      | elapsed:   38.3s\n",
      "[Parallel(n_jobs=2)]: Done  14 tasks      | elapsed:   49.5s\n",
      "[Parallel(n_jobs=2)]: Done  21 tasks      | elapsed:  1.2min\n",
      "[Parallel(n_jobs=2)]: Done  28 tasks      | elapsed:  1.5min\n",
      "[Parallel(n_jobs=2)]: Done  37 tasks      | elapsed:  2.0min\n",
      "[Parallel(n_jobs=2)]: Done  46 tasks      | elapsed:  2.4min\n",
      "[Parallel(n_jobs=2)]: Done  57 tasks      | elapsed:  3.0min\n",
      "[Parallel(n_jobs=2)]: Done  68 tasks      | elapsed:  3.5min\n",
      "[Parallel(n_jobs=2)]: Done  81 tasks      | elapsed:  4.2min\n",
      "[Parallel(n_jobs=2)]: Done  94 tasks      | elapsed:  4.8min\n",
      "[Parallel(n_jobs=2)]: Done 109 tasks      | elapsed:  5.6min\n",
      "[Parallel(n_jobs=2)]: Done 124 tasks      | elapsed:  6.3min\n",
      "[Parallel(n_jobs=2)]: Done 141 tasks      | elapsed:  7.2min\n",
      "[Parallel(n_jobs=2)]: Done 158 tasks      | elapsed:  8.0min\n",
      "[Parallel(n_jobs=2)]: Done 177 tasks      | elapsed:  8.9min\n",
      "[Parallel(n_jobs=2)]: Done 196 tasks      | elapsed:  9.8min\n",
      "[Parallel(n_jobs=2)]: Done 217 tasks      | elapsed: 10.8min\n",
      "[Parallel(n_jobs=2)]: Done 238 tasks      | elapsed: 11.7min\n",
      "[Parallel(n_jobs=2)]: Done 261 tasks      | elapsed: 12.8min\n",
      "[Parallel(n_jobs=2)]: Done 284 tasks      | elapsed: 13.9min\n",
      "[Parallel(n_jobs=2)]: Done 309 tasks      | elapsed: 15.0min\n",
      "[Parallel(n_jobs=2)]: Done 334 tasks      | elapsed: 16.2min\n",
      "[Parallel(n_jobs=2)]: Done 361 tasks      | elapsed: 17.5min\n",
      "[Parallel(n_jobs=2)]: Done 388 tasks      | elapsed: 18.8min\n",
      "[Parallel(n_jobs=2)]: Done 417 tasks      | elapsed: 20.4min\n",
      "[Parallel(n_jobs=2)]: Done 446 tasks      | elapsed: 21.8min\n",
      "[Parallel(n_jobs=2)]: Done 477 tasks      | elapsed: 23.3min\n",
      "[Parallel(n_jobs=2)]: Done 508 tasks      | elapsed: 24.9min\n",
      "[Parallel(n_jobs=2)]: Done 541 tasks      | elapsed: 26.4min\n",
      "[Parallel(n_jobs=2)]: Done 574 tasks      | elapsed: 28.0min\n",
      "[Parallel(n_jobs=2)]: Done 609 tasks      | elapsed: 29.6min\n",
      "[Parallel(n_jobs=2)]: Done 644 tasks      | elapsed: 31.3min\n",
      "[Parallel(n_jobs=2)]: Done 681 tasks      | elapsed: 33.0min\n",
      "[Parallel(n_jobs=2)]: Done 718 tasks      | elapsed: 34.9min\n",
      "[Parallel(n_jobs=2)]: Done 757 tasks      | elapsed: 37.3min\n",
      "[Parallel(n_jobs=2)]: Done 796 tasks      | elapsed: 39.6min\n",
      "[Parallel(n_jobs=2)]: Done 837 tasks      | elapsed: 42.1min\n",
      "[Parallel(n_jobs=2)]: Done 878 tasks      | elapsed: 44.8min\n",
      "[Parallel(n_jobs=2)]: Done 921 tasks      | elapsed: 47.6min\n",
      "[Parallel(n_jobs=2)]: Done 964 tasks      | elapsed: 50.1min\n"
     ]
    },
    {
     "ename": "KeyboardInterrupt",
     "evalue": "",
     "output_type": "error",
     "traceback": [
      "\u001b[0;31m---------------------------------------------------------------------------\u001b[0m",
      "\u001b[0;31mKeyboardInterrupt\u001b[0m                         Traceback (most recent call last)",
      "\u001b[0;32m/var/folders/5w/65hhf7d16cvbrv_wsj7y1_nm0000gn/T/ipykernel_33707/1308419244.py\u001b[0m in \u001b[0;36m<module>\u001b[0;34m\u001b[0m\n\u001b[1;32m     31\u001b[0m \u001b[0;34m\u001b[0m\u001b[0m\n\u001b[1;32m     32\u001b[0m \u001b[0;32mwith\u001b[0m \u001b[0mjoblib\u001b[0m\u001b[0;34m.\u001b[0m\u001b[0mParallel\u001b[0m\u001b[0;34m(\u001b[0m\u001b[0mn_jobs\u001b[0m\u001b[0;34m=\u001b[0m\u001b[0;36m2\u001b[0m\u001b[0;34m,\u001b[0m \u001b[0mverbose\u001b[0m\u001b[0;34m=\u001b[0m\u001b[0;36m10\u001b[0m\u001b[0;34m)\u001b[0m \u001b[0;32mas\u001b[0m \u001b[0mpar\u001b[0m\u001b[0;34m:\u001b[0m\u001b[0;34m\u001b[0m\u001b[0;34m\u001b[0m\u001b[0m\n\u001b[0;32m---> 33\u001b[0;31m     \u001b[0marrs\u001b[0m \u001b[0;34m=\u001b[0m \u001b[0mpar\u001b[0m\u001b[0;34m(\u001b[0m\u001b[0mjobs\u001b[0m\u001b[0;34m)\u001b[0m\u001b[0;34m\u001b[0m\u001b[0;34m\u001b[0m\u001b[0m\n\u001b[0m\u001b[1;32m     34\u001b[0m \u001b[0;34m\u001b[0m\u001b[0m\n\u001b[1;32m     35\u001b[0m \u001b[0marr\u001b[0m \u001b[0;34m=\u001b[0m \u001b[0mnp\u001b[0m\u001b[0;34m.\u001b[0m\u001b[0mhstack\u001b[0m\u001b[0;34m(\u001b[0m\u001b[0marrs\u001b[0m\u001b[0;34m)\u001b[0m\u001b[0;34m\u001b[0m\u001b[0;34m\u001b[0m\u001b[0m\n",
      "\u001b[0;32m~/miniconda3/envs/desy6/lib/python3.8/site-packages/joblib/parallel.py\u001b[0m in \u001b[0;36m__call__\u001b[0;34m(self, iterable)\u001b[0m\n\u001b[1;32m   1054\u001b[0m \u001b[0;34m\u001b[0m\u001b[0m\n\u001b[1;32m   1055\u001b[0m             \u001b[0;32mwith\u001b[0m \u001b[0mself\u001b[0m\u001b[0;34m.\u001b[0m\u001b[0m_backend\u001b[0m\u001b[0;34m.\u001b[0m\u001b[0mretrieval_context\u001b[0m\u001b[0;34m(\u001b[0m\u001b[0;34m)\u001b[0m\u001b[0;34m:\u001b[0m\u001b[0;34m\u001b[0m\u001b[0;34m\u001b[0m\u001b[0m\n\u001b[0;32m-> 1056\u001b[0;31m                 \u001b[0mself\u001b[0m\u001b[0;34m.\u001b[0m\u001b[0mretrieve\u001b[0m\u001b[0;34m(\u001b[0m\u001b[0;34m)\u001b[0m\u001b[0;34m\u001b[0m\u001b[0;34m\u001b[0m\u001b[0m\n\u001b[0m\u001b[1;32m   1057\u001b[0m             \u001b[0;31m# Make sure that we get a last message telling us we are done\u001b[0m\u001b[0;34m\u001b[0m\u001b[0;34m\u001b[0m\u001b[0;34m\u001b[0m\u001b[0m\n\u001b[1;32m   1058\u001b[0m             \u001b[0melapsed_time\u001b[0m \u001b[0;34m=\u001b[0m \u001b[0mtime\u001b[0m\u001b[0;34m.\u001b[0m\u001b[0mtime\u001b[0m\u001b[0;34m(\u001b[0m\u001b[0;34m)\u001b[0m \u001b[0;34m-\u001b[0m \u001b[0mself\u001b[0m\u001b[0;34m.\u001b[0m\u001b[0m_start_time\u001b[0m\u001b[0;34m\u001b[0m\u001b[0;34m\u001b[0m\u001b[0m\n",
      "\u001b[0;32m~/miniconda3/envs/desy6/lib/python3.8/site-packages/joblib/parallel.py\u001b[0m in \u001b[0;36mretrieve\u001b[0;34m(self)\u001b[0m\n\u001b[1;32m    933\u001b[0m             \u001b[0;32mtry\u001b[0m\u001b[0;34m:\u001b[0m\u001b[0;34m\u001b[0m\u001b[0;34m\u001b[0m\u001b[0m\n\u001b[1;32m    934\u001b[0m                 \u001b[0;32mif\u001b[0m \u001b[0mgetattr\u001b[0m\u001b[0;34m(\u001b[0m\u001b[0mself\u001b[0m\u001b[0;34m.\u001b[0m\u001b[0m_backend\u001b[0m\u001b[0;34m,\u001b[0m \u001b[0;34m'supports_timeout'\u001b[0m\u001b[0;34m,\u001b[0m \u001b[0;32mFalse\u001b[0m\u001b[0;34m)\u001b[0m\u001b[0;34m:\u001b[0m\u001b[0;34m\u001b[0m\u001b[0;34m\u001b[0m\u001b[0m\n\u001b[0;32m--> 935\u001b[0;31m                     \u001b[0mself\u001b[0m\u001b[0;34m.\u001b[0m\u001b[0m_output\u001b[0m\u001b[0;34m.\u001b[0m\u001b[0mextend\u001b[0m\u001b[0;34m(\u001b[0m\u001b[0mjob\u001b[0m\u001b[0;34m.\u001b[0m\u001b[0mget\u001b[0m\u001b[0;34m(\u001b[0m\u001b[0mtimeout\u001b[0m\u001b[0;34m=\u001b[0m\u001b[0mself\u001b[0m\u001b[0;34m.\u001b[0m\u001b[0mtimeout\u001b[0m\u001b[0;34m)\u001b[0m\u001b[0;34m)\u001b[0m\u001b[0;34m\u001b[0m\u001b[0;34m\u001b[0m\u001b[0m\n\u001b[0m\u001b[1;32m    936\u001b[0m                 \u001b[0;32melse\u001b[0m\u001b[0;34m:\u001b[0m\u001b[0;34m\u001b[0m\u001b[0;34m\u001b[0m\u001b[0m\n\u001b[1;32m    937\u001b[0m                     \u001b[0mself\u001b[0m\u001b[0;34m.\u001b[0m\u001b[0m_output\u001b[0m\u001b[0;34m.\u001b[0m\u001b[0mextend\u001b[0m\u001b[0;34m(\u001b[0m\u001b[0mjob\u001b[0m\u001b[0;34m.\u001b[0m\u001b[0mget\u001b[0m\u001b[0;34m(\u001b[0m\u001b[0;34m)\u001b[0m\u001b[0;34m)\u001b[0m\u001b[0;34m\u001b[0m\u001b[0;34m\u001b[0m\u001b[0m\n",
      "\u001b[0;32m~/miniconda3/envs/desy6/lib/python3.8/site-packages/joblib/_parallel_backends.py\u001b[0m in \u001b[0;36mwrap_future_result\u001b[0;34m(future, timeout)\u001b[0m\n\u001b[1;32m    540\u001b[0m         AsyncResults.get from multiprocessing.\"\"\"\n\u001b[1;32m    541\u001b[0m         \u001b[0;32mtry\u001b[0m\u001b[0;34m:\u001b[0m\u001b[0;34m\u001b[0m\u001b[0;34m\u001b[0m\u001b[0m\n\u001b[0;32m--> 542\u001b[0;31m             \u001b[0;32mreturn\u001b[0m \u001b[0mfuture\u001b[0m\u001b[0;34m.\u001b[0m\u001b[0mresult\u001b[0m\u001b[0;34m(\u001b[0m\u001b[0mtimeout\u001b[0m\u001b[0;34m=\u001b[0m\u001b[0mtimeout\u001b[0m\u001b[0;34m)\u001b[0m\u001b[0;34m\u001b[0m\u001b[0;34m\u001b[0m\u001b[0m\n\u001b[0m\u001b[1;32m    543\u001b[0m         \u001b[0;32mexcept\u001b[0m \u001b[0mCfTimeoutError\u001b[0m \u001b[0;32mas\u001b[0m \u001b[0me\u001b[0m\u001b[0;34m:\u001b[0m\u001b[0;34m\u001b[0m\u001b[0;34m\u001b[0m\u001b[0m\n\u001b[1;32m    544\u001b[0m             \u001b[0;32mraise\u001b[0m \u001b[0mTimeoutError\u001b[0m \u001b[0;32mfrom\u001b[0m \u001b[0me\u001b[0m\u001b[0;34m\u001b[0m\u001b[0;34m\u001b[0m\u001b[0m\n",
      "\u001b[0;32m~/miniconda3/envs/desy6/lib/python3.8/concurrent/futures/_base.py\u001b[0m in \u001b[0;36mresult\u001b[0;34m(self, timeout)\u001b[0m\n\u001b[1;32m    437\u001b[0m                     \u001b[0;32mreturn\u001b[0m \u001b[0mself\u001b[0m\u001b[0;34m.\u001b[0m\u001b[0m__get_result\u001b[0m\u001b[0;34m(\u001b[0m\u001b[0;34m)\u001b[0m\u001b[0;34m\u001b[0m\u001b[0;34m\u001b[0m\u001b[0m\n\u001b[1;32m    438\u001b[0m \u001b[0;34m\u001b[0m\u001b[0m\n\u001b[0;32m--> 439\u001b[0;31m                 \u001b[0mself\u001b[0m\u001b[0;34m.\u001b[0m\u001b[0m_condition\u001b[0m\u001b[0;34m.\u001b[0m\u001b[0mwait\u001b[0m\u001b[0;34m(\u001b[0m\u001b[0mtimeout\u001b[0m\u001b[0;34m)\u001b[0m\u001b[0;34m\u001b[0m\u001b[0;34m\u001b[0m\u001b[0m\n\u001b[0m\u001b[1;32m    440\u001b[0m \u001b[0;34m\u001b[0m\u001b[0m\n\u001b[1;32m    441\u001b[0m                 \u001b[0;32mif\u001b[0m \u001b[0mself\u001b[0m\u001b[0;34m.\u001b[0m\u001b[0m_state\u001b[0m \u001b[0;32min\u001b[0m \u001b[0;34m[\u001b[0m\u001b[0mCANCELLED\u001b[0m\u001b[0;34m,\u001b[0m \u001b[0mCANCELLED_AND_NOTIFIED\u001b[0m\u001b[0;34m]\u001b[0m\u001b[0;34m:\u001b[0m\u001b[0;34m\u001b[0m\u001b[0;34m\u001b[0m\u001b[0m\n",
      "\u001b[0;32m~/miniconda3/envs/desy6/lib/python3.8/threading.py\u001b[0m in \u001b[0;36mwait\u001b[0;34m(self, timeout)\u001b[0m\n\u001b[1;32m    300\u001b[0m         \u001b[0;32mtry\u001b[0m\u001b[0;34m:\u001b[0m    \u001b[0;31m# restore state no matter what (e.g., KeyboardInterrupt)\u001b[0m\u001b[0;34m\u001b[0m\u001b[0;34m\u001b[0m\u001b[0m\n\u001b[1;32m    301\u001b[0m             \u001b[0;32mif\u001b[0m \u001b[0mtimeout\u001b[0m \u001b[0;32mis\u001b[0m \u001b[0;32mNone\u001b[0m\u001b[0;34m:\u001b[0m\u001b[0;34m\u001b[0m\u001b[0;34m\u001b[0m\u001b[0m\n\u001b[0;32m--> 302\u001b[0;31m                 \u001b[0mwaiter\u001b[0m\u001b[0;34m.\u001b[0m\u001b[0macquire\u001b[0m\u001b[0;34m(\u001b[0m\u001b[0;34m)\u001b[0m\u001b[0;34m\u001b[0m\u001b[0;34m\u001b[0m\u001b[0m\n\u001b[0m\u001b[1;32m    303\u001b[0m                 \u001b[0mgotit\u001b[0m \u001b[0;34m=\u001b[0m \u001b[0;32mTrue\u001b[0m\u001b[0;34m\u001b[0m\u001b[0;34m\u001b[0m\u001b[0m\n\u001b[1;32m    304\u001b[0m             \u001b[0;32melse\u001b[0m\u001b[0;34m:\u001b[0m\u001b[0;34m\u001b[0m\u001b[0;34m\u001b[0m\u001b[0m\n",
      "\u001b[0;31mKeyboardInterrupt\u001b[0m: "
     ]
    }
   ],
   "source": [
    "from des_y6utils.piff import (\n",
    "    measure_star_t_for_piff_model,\n",
    "    map_star_t_to_grid,\n",
    "    measure_t_grid_for_piff_model,\n",
    "    make_good_regions_for_piff_model_gal_grid,\n",
    "    make_good_regions_for_piff_model_star_and_gal_grid,\n",
    "    nanmad,\n",
    ")\n",
    "import tqdm\n",
    "import joblib\n",
    "\n",
    "def _process(fname):\n",
    "    piff_mod = piff.read(fname)\n",
    "\n",
    "    if \"_z_\" in fname:\n",
    "        piff_kwargs = {\"IZ_COLOR\": 0.34}\n",
    "    else:\n",
    "        piff_kwargs = {\"GI_COLOR\": 0.61}\n",
    "\n",
    "    t_arr = measure_t_grid_for_piff_model(piff_mod, piff_kwargs, seed=14354, grid_size=128)\n",
    "    if False:\n",
    "        data = measure_star_t_for_piff_model(piff_mod, piff_prop=list(piff_kwargs.keys())[0])\n",
    "        ts_arr = map_star_t_to_grid(data, grid_size=256)\n",
    "        darr = t_arr - ts_arr\n",
    "    return t_arr.ravel()\n",
    "        \n",
    "\n",
    "jobs = []\n",
    "for fname in fnames:\n",
    "    jobs.append(joblib.delayed(_process)(fname))\n",
    "    \n",
    "with joblib.Parallel(n_jobs=2, verbose=10) as par:\n",
    "    arrs = par(jobs)\n",
    "\n",
    "arr = np.hstack(arrs)"
   ]
  },
  {
   "cell_type": "code",
   "execution_count": 71,
   "id": "8c0d35cd",
   "metadata": {},
   "outputs": [
    {
     "name": "stdout",
     "output_type": "stream",
     "text": [
      "True\n"
     ]
    },
    {
     "data": {
      "image/png": "[encoded data removed]",
      "text/plain": [
       "Figure(nrows=1, ncols=1, refwidth=2.5)"
      ]
     },
     "metadata": {
      "image/png": {
       "height": 282,
       "width": 305
      }
     },
     "output_type": "display_data"
    }
   ],
   "source": [
    "print(np.any(np.isnan(arr)))\n",
    "\n",
    "fig, axs = pplt.subplots()\n",
    "axs.hist(arr, bins=50, log=True);"
   ]
  },
  {
   "cell_type": "code",
   "execution_count": 87,
   "id": "2288370b",
   "metadata": {},
   "outputs": [
    {
     "name": "stdout",
     "output_type": "stream",
     "text": [
      "64 1.6376420212384541 True\n",
      "88 0.19133846163686902 True\n",
      "108 0.0774758088925126 False\n",
      "195 0.1708542685904516 False\n",
      "316 0.07509398582793242 False\n",
      "320 0.16392298180440687 True\n",
      "321 0.07880602423625044 False\n",
      "356 0.04057452211463708 True\n",
      "366 0.09751429433684455 False\n",
      "382 0.09050965679822445 False\n",
      "389 0.0700532814363336 False\n",
      "404 0.07842262657099208 False\n",
      "407 0.07121362441751977 False\n",
      "413 0.12851736660467733 True\n",
      "437 0.09634881232655129 False\n"
     ]
    },
    {
     "data": {
      "text/plain": [
       "<matplotlib.legend.Legend at 0x157e4f370>"
      ]
     },
     "execution_count": 87,
     "metadata": {},
     "output_type": "execute_result"
    },
    {
     "data": {
      "image/png": "[encoded data removed]",
      "text/plain": [
       "Figure(nrows=1, ncols=1, refwidth=2.5)"
      ]
     },
     "metadata": {
      "image/png": {
       "height": 284,
       "width": 288
      }
     },
     "output_type": "display_data"
    }
   ],
   "source": [
    "arr_bad = []\n",
    "arr_good = []\n",
    "\n",
    "def _stat(a):\n",
    "    return np.nanmax(np.abs(a-np.nanmedian(a)))\n",
    "\n",
    "ng = 512\n",
    "for i in range(len(arr)//ng):\n",
    "    start = i * ng\n",
    "    stop = start + ng\n",
    "    a = arr[start:stop]\n",
    "    sa = _stat(a)\n",
    "    if np.any(np.isnan(a)) or sa > 0.07:\n",
    "        arr_bad.append(sa)\n",
    "        print(i, arr_bad[-1], np.any(np.isnan(a)))\n",
    "    else:\n",
    "        arr_good.append(sa)\n",
    "        \n",
    "        \n",
    "assert stop == len(arr)\n",
    "arr_bad = np.log10(np.hstack(arr_bad))\n",
    "arr_good = np.log10(np.hstack(arr_good))\n",
    "\n",
    "fig, axs = pplt.subplots()\n",
    "axs.hist(arr_good, bins=50, log=True, density=True, alpha=0.5, label=\"good\")\n",
    "axs.hist(arr_bad, bins=50, log=True, density=True, alpha=0.5, label=\"bad\")\n",
    "axs.legend()"
   ]
  },
  {
   "cell_type": "code",
   "execution_count": null,
   "id": "e3adfe1a",
   "metadata": {},
   "outputs": [],
   "source": []
  },
  {
   "cell_type": "code",
   "execution_count": null,
   "id": "a68465bd",
   "metadata": {},
   "outputs": [],
   "source": []
  },
  {
   "cell_type": "code",
   "execution_count": null,
   "id": "c499c4bf",
   "metadata": {},
   "outputs": [],
   "source": []
  },
  {
   "cell_type": "code",
   "execution_count": null,
   "id": "aa7e4059",
   "metadata": {},
   "outputs": [],
   "source": []
  },
  {
   "cell_type": "code",
   "execution_count": null,
   "id": "41e383a0",
   "metadata": {},
   "outputs": [],
   "source": []
  },
  {
   "cell_type": "code",
   "execution_count": 48,
   "id": "47a17e6e",
   "metadata": {},
   "outputs": [],
   "source": [
    "TNAMES = [\"DES0131-3206\", \"DES0137-3749\", \"DES0221-0750\", \"DES0229-0416\"]\n",
    "BANDS = [\"g\", \"r\", \"i\", \"z\"]\n",
    "\n",
    "with open(\n",
    "    \"/Users/beckermr/MEDS_DIR/des-pizza-slices-y6-test/pizza_cutter_info/\"\n",
    "    \"%s_%s_pizza_cutter_info.yaml\" % (TNAMES[1], BANDS[0])\n",
    ") as fp:\n",
    "    yml = yaml.safe_load(fp.read())"
   ]
  },
  {
   "cell_type": "code",
   "execution_count": 19,
   "id": "ba61ba42",
   "metadata": {},
   "outputs": [],
   "source": [
    "from des_y6utils.piff import (\n",
    "    measure_star_t_for_piff_model,\n",
    "    map_star_t_to_grid,\n",
    "    measure_t_grid_for_piff_model,\n",
    "    make_good_regions_for_piff_model_gal_grid,\n",
    "    make_good_regions_for_piff_model_star_and_gal_grid,\n",
    "    nanmad,\n",
    ")"
   ]
  },
  {
   "cell_type": "code",
   "execution_count": null,
   "id": "80404931",
   "metadata": {
    "scrolled": false
   },
   "outputs": [],
   "source": [
    "# find a bad model\n",
    "import tqdm\n",
    "\n",
    "for sind, src in tqdm.tqdm(enumerate(yml[\"src_info\"]), total=len(yml[\"src_info\"])):\n",
    "    fname = src[\"piff_path\"]\n",
    "\n",
    "    pmod = piff.read(fname)\n",
    "    if \"_z_\" in fname:\n",
    "        piff_kwargs = {\"IZ_COLOR\": 0.34}\n",
    "    else:\n",
    "        piff_kwargs = {\"GI_COLOR\": 0.61}\n",
    "    t_gal = measure_t_grid_for_piff_model(piff_mod, piff_kwargs, seed=14354)    \n",
    "    bf = np.mean(np.isnan(t_gal))\n",
    "    \n",
    "    if bf > 0:\n",
    "        print(sind)\n",
    "        break"
   ]
  },
  {
   "cell_type": "code",
   "execution_count": 66,
   "id": "032dc0e2",
   "metadata": {},
   "outputs": [
    {
     "name": "stderr",
     "output_type": "stream",
     "text": [
      "|####################| 4/4 100% [elapsed: 00:20 left: 00:00]"
     ]
    },
    {
     "name": "stdout",
     "output_type": "stream",
     "text": [
      "33 0.012716763005780347\n"
     ]
    },
    {
     "name": "stderr",
     "output_type": "stream",
     "text": [
      "\n"
     ]
    }
   ],
   "source": [
    "from esutil.pbar import prange\n",
    "from pizza_cutter.des_pizza_cutter._piff_tools import compute_piff_flags\n",
    "\n",
    "tot = 0\n",
    "flagged = 0\n",
    "\n",
    "TNAMES = [\"DES0131-3206\", \"DES0137-3749\", \"DES0221-0750\", \"DES0229-0416\"]\n",
    "BANDS = [\"g\", \"r\", \"i\", \"z\"]\n",
    "\n",
    "\n",
    "for i in prange(4):\n",
    "    for j in range(4):\n",
    "        with open(\n",
    "            \"/Users/beckermr/MEDS_DIR/des-pizza-slices-y6-test/pizza_cutter_info/\"\n",
    "            \"%s_%s_pizza_cutter_info.yaml\" % (TNAMES[i], BANDS[j])\n",
    "        ) as fp:\n",
    "            yml = yaml.safe_load(fp.read())\n",
    "        \n",
    "        for _sind, src in enumerate(yml[\"src_info\"]):\n",
    "            tot += 1\n",
    "            if (compute_piff_flags(\n",
    "                        piff_info=src[\"piff_info\"],\n",
    "                        max_fwhm_cen=3.6, \n",
    "                        min_nstar=35, \n",
    "                        max_exp_T_mean_fac=4, \n",
    "                        max_ccd_T_std_fac=0.3,\n",
    "                    ) != 0):\n",
    "                flagged += 1\n",
    "\n",
    "print(flagged, flagged / tot)"
   ]
  },
  {
   "cell_type": "code",
   "execution_count": 3,
   "id": "15be7ff2",
   "metadata": {},
   "outputs": [
    {
     "ename": "FileNotFoundError",
     "evalue": "[Errno 2] No such file or directory: '/Users/beckermr/MEDS_DIR/des-pizza-slices-y6-test/pizza_cutter_info/DES0131-3206_i_pizza_cutter_info.yaml'",
     "output_type": "error",
     "traceback": [
      "\u001b[0;31m---------------------------------------------------------------------------\u001b[0m",
      "\u001b[0;31mFileNotFoundError\u001b[0m                         Traceback (most recent call last)",
      "\u001b[0;32m/var/folders/5w/65hhf7d16cvbrv_wsj7y1_nm0000gn/T/ipykernel_33707/83337819.py\u001b[0m in \u001b[0;36m<module>\u001b[0;34m\u001b[0m\n\u001b[1;32m     14\u001b[0m \u001b[0;32mfor\u001b[0m \u001b[0mband\u001b[0m \u001b[0;32min\u001b[0m \u001b[0mBANDS\u001b[0m\u001b[0;34m:\u001b[0m\u001b[0;34m\u001b[0m\u001b[0;34m\u001b[0m\u001b[0m\n\u001b[1;32m     15\u001b[0m     \u001b[0;32mfor\u001b[0m \u001b[0mtname\u001b[0m \u001b[0;32min\u001b[0m \u001b[0mTNAMES\u001b[0m\u001b[0;34m:\u001b[0m\u001b[0;34m\u001b[0m\u001b[0;34m\u001b[0m\u001b[0m\n\u001b[0;32m---> 16\u001b[0;31m         with open(\n\u001b[0m\u001b[1;32m     17\u001b[0m             \u001b[0;34m\"/Users/beckermr/MEDS_DIR/des-pizza-slices-y6-test/pizza_cutter_info/\"\u001b[0m\u001b[0;34m\u001b[0m\u001b[0;34m\u001b[0m\u001b[0m\n\u001b[1;32m     18\u001b[0m             \u001b[0;34m\"%s_%s_pizza_cutter_info.yaml\"\u001b[0m \u001b[0;34m%\u001b[0m \u001b[0;34m(\u001b[0m\u001b[0mtname\u001b[0m\u001b[0;34m,\u001b[0m \u001b[0mband\u001b[0m\u001b[0;34m)\u001b[0m\u001b[0;34m\u001b[0m\u001b[0;34m\u001b[0m\u001b[0m\n",
      "\u001b[0;31mFileNotFoundError\u001b[0m: [Errno 2] No such file or directory: '/Users/beckermr/MEDS_DIR/des-pizza-slices-y6-test/pizza_cutter_info/DES0131-3206_i_pizza_cutter_info.yaml'"
     ]
    }
   ],
   "source": [
    "from pizza_cutter.des_pizza_cutter._piff_tools import compute_piff_flags\n",
    "\n",
    "TNAMES = [\n",
    "    \"DES0131-3206\", \n",
    "    \"DES0137-3749\", \n",
    "    \"DES0221-0750\", \n",
    "    \"DES0229-0416\",\n",
    "]\n",
    "\n",
    "tfind = \"D00372620_i_c62_r5702p01_piff-model.fits\"\n",
    "BANDS = [tfind.split(\"_\")[1]]\n",
    "sind = None\n",
    "\n",
    "for band in BANDS:\n",
    "    for tname in TNAMES:\n",
    "        with open(\n",
    "            \"/Users/beckermr/MEDS_DIR/des-pizza-slices-y6-test/pizza_cutter_info/\"\n",
    "            \"%s_%s_pizza_cutter_info.yaml\" % (tname, band)\n",
    "        ) as fp:\n",
    "            yml = yaml.safe_load(fp.read())\n",
    "\n",
    "        for _sind, src in enumerate(yml[\"src_info\"]):\n",
    "            if tfind in src[\"piff_path\"]:\n",
    "                sind = _sind\n",
    "                print(\n",
    "                    \"sind|flags|tname:\",\n",
    "                    sind,\n",
    "                    compute_piff_flags(\n",
    "                        piff_info=src[\"piff_info\"],\n",
    "                        max_fwhm_cen=3.6, \n",
    "                        min_nstar=25, \n",
    "                        max_exp_T_mean_fac=4, \n",
    "                        max_ccd_T_std_fac=0.3,\n",
    "                    ),\n",
    "                    yml[\"tilename\"],\n",
    "                )\n",
    "                break\n",
    "        if sind is not None:\n",
    "            break\n",
    "    if sind is not None:\n",
    "        break\n"
   ]
  },
  {
   "cell_type": "code",
   "execution_count": 84,
   "id": "d36c49e8",
   "metadata": {},
   "outputs": [
    {
     "name": "stdout",
     "output_type": "stream",
     "text": [
      "83\n"
     ]
    }
   ],
   "source": [
    "sind = 108\n",
    "\n",
    "piff_mod = piff.read(fnames[sind])\n",
    "print(len(piff_mod.stars))\n",
    "\n",
    "if \"_z_\" in fnames[sind]:\n",
    "    piff_kwargs = {\"IZ_COLOR\": 0.34}\n",
    "else:\n",
    "    piff_kwargs = {\"GI_COLOR\": 0.61}\n"
   ]
  },
  {
   "cell_type": "code",
   "execution_count": 85,
   "id": "01cce4cc",
   "metadata": {},
   "outputs": [],
   "source": [
    "thresh = 5\n",
    "t_arr = measure_t_grid_for_piff_model(piff_mod, piff_kwargs, seed=14354)\n",
    "data = measure_star_t_for_piff_model(piff_mod, piff_prop=list(piff_kwargs.keys())[0])\n",
    "ts_arr = map_star_t_to_grid(data)\n",
    "\n",
    "res_g = make_good_regions_for_piff_model_gal_grid(piff_mod, piff_kwargs=piff_kwargs, seed=11, verbose=False)\n",
    "res_sg = make_good_regions_for_piff_model_star_and_gal_grid(\n",
    "    piff_mod, piff_kwargs=piff_kwargs, seed=11, verbose=False,\n",
    "    flag_bad_thresh=2, any_bad_thresh=5,\n",
    ")"
   ]
  },
  {
   "cell_type": "code",
   "execution_count": 86,
   "id": "1479831d",
   "metadata": {},
   "outputs": [
    {
     "data": {
      "text/plain": [
       "Text(0.5, 0, 'gal T - star T')"
      ]
     },
     "execution_count": 86,
     "metadata": {},
     "output_type": "execute_result"
    },
    {
     "data": {
      "image/png": "[encoded data removed]",
      "text/plain": [
       "Figure(nrows=1, ncols=4, refwidth=2.5)"
      ]
     },
     "metadata": {
      "image/png": {
       "height": 568,
       "width": 1205
      }
     },
     "output_type": "display_data"
    }
   ],
   "source": [
    "vmin = min(np.nanmin(ts_arr), np.nanmin(t_arr))\n",
    "vmax = max(np.nanmax(ts_arr), np.nanmax(t_arr))\n",
    "\n",
    "fig, axs = pplt.subplots(ncols=4, share=0)\n",
    "h0 = axs[0].imshow(ts_arr, vmin=vmin, vmax=vmax, cmap=\"rocket\")\n",
    "axs[0].grid(False)\n",
    "axs[0].set_title(\"stars on grid w/ 2d poly\")\n",
    "axs[0].colorbar(h0, loc='l')\n",
    "\n",
    "axs[1].imshow(t_arr, vmin=vmin, vmax=vmax, cmap=\"rocket\")\n",
    "axs[1].grid(False)\n",
    "axs[1].set_title(\"grid of shapes at gal color\")\n",
    "\n",
    "b = res_g[\"bbox\"]\n",
    "axs[1].plot([b[\"xmin\"]/128, b[\"xmin\"]/128], [b[\"ymin\"]/128, b[\"ymax\"]/128 - 1], color=\"red\")\n",
    "axs[1].plot([b[\"xmax\"]/128 - 1, b[\"xmax\"]/128 - 1], [b[\"ymin\"]/128, b[\"ymax\"]/128 - 1], color=\"red\")\n",
    "axs[1].plot([b[\"xmin\"]/128, b[\"xmax\"]/128 - 1], [b[\"ymin\"]/128, b[\"ymin\"]/128], color=\"red\")\n",
    "axs[1].plot([b[\"xmin\"]/128, b[\"xmax\"]/128 - 1], [b[\"ymax\"]/128 - 1, b[\"ymax\"]/128 - 1], color=\"red\")\n",
    "\n",
    "b = res_sg[\"bbox\"]\n",
    "axs[1].plot([b[\"xmin\"]/128, b[\"xmin\"]/128], [b[\"ymin\"]/128, b[\"ymax\"]/128 - 1], color=\"blue\")\n",
    "axs[1].plot([b[\"xmax\"]/128 - 1, b[\"xmax\"]/128 - 1], [b[\"ymin\"]/128, b[\"ymax\"]/128 - 1], color=\"blue\")\n",
    "axs[1].plot([b[\"xmin\"]/128, b[\"xmax\"]/128 - 1], [b[\"ymin\"]/128, b[\"ymin\"]/128], color=\"blue\")\n",
    "axs[1].plot([b[\"xmin\"]/128, b[\"xmax\"]/128 - 1], [b[\"ymax\"]/128 - 1, b[\"ymax\"]/128 - 1], color=\"blue\")\n",
    "\n",
    "axs[2].imshow(res_sg[\"bad_msk\"], cmap=\"rocket\")\n",
    "\n",
    "harr = (t_arr-ts_arr).ravel()\n",
    "std5 = nanmad(harr) * 2\n",
    "h = axs[3].hist(harr, bins=50)\n",
    "axs[3].vlines([np.nanmedian(harr)-std5, np.nanmedian(harr)+std5], 0, np.max(h[0]), color=\"k\")\n",
    "axs[3].set_xlabel(\"gal T - star T\")"
   ]
  },
  {
   "cell_type": "code",
   "execution_count": null,
   "id": "898a1956",
   "metadata": {},
   "outputs": [],
   "source": []
  },
  {
   "cell_type": "code",
   "execution_count": null,
   "id": "816372af",
   "metadata": {},
   "outputs": [],
   "source": []
  },
  {
   "cell_type": "code",
   "execution_count": null,
   "id": "2fefdc7a",
   "metadata": {},
   "outputs": [],
   "source": []
  },
  {
   "cell_type": "code",
   "execution_count": 80,
   "id": "04dac7d8",
   "metadata": {},
   "outputs": [
    {
     "data": {
      "text/plain": [
       "9.737691850582822"
      ]
     },
     "execution_count": 80,
     "metadata": {},
     "output_type": "execute_result"
    }
   ],
   "source": [
    "np.nanmax(np.abs(harr - np.nanmedian(harr)))/nanmad(harr)"
   ]
  },
  {
   "cell_type": "code",
   "execution_count": null,
   "id": "7a022d28",
   "metadata": {},
   "outputs": [],
   "source": []
  },
  {
   "cell_type": "code",
   "execution_count": null,
   "id": "041d61d9",
   "metadata": {},
   "outputs": [],
   "source": []
  },
  {
   "cell_type": "code",
   "execution_count": null,
   "id": "9de359e4",
   "metadata": {},
   "outputs": [],
   "source": [
    "np.mean(res_sg[\"bad_msk\"])"
   ]
  },
  {
   "cell_type": "code",
   "execution_count": null,
   "id": "a18eb5ec",
   "metadata": {},
   "outputs": [],
   "source": []
  },
  {
   "cell_type": "code",
   "execution_count": 17,
   "id": "a41f5a93",
   "metadata": {},
   "outputs": [
    {
     "data": {
      "text/plain": [
       "0.001953125"
      ]
     },
     "execution_count": 17,
     "metadata": {},
     "output_type": "execute_result"
    }
   ],
   "source": [
    "t_gal[0, 0] = np.nan\n",
    "np.mean(np.isnan(t_gal))"
   ]
  },
  {
   "cell_type": "code",
   "execution_count": 8,
   "id": "8fc2c60c",
   "metadata": {},
   "outputs": [
    {
     "data": {
      "text/plain": [
       "'GI_COLOR'"
      ]
     },
     "execution_count": 8,
     "metadata": {},
     "output_type": "execute_result"
    }
   ],
   "source": [
    "list(piff_kwargs.keys())[0]"
   ]
  },
  {
   "cell_type": "code",
   "execution_count": null,
   "id": "7544af54",
   "metadata": {},
   "outputs": [],
   "source": []
  },
  {
   "cell_type": "code",
   "execution_count": null,
   "id": "6b048689",
   "metadata": {},
   "outputs": [],
   "source": []
  },
  {
   "cell_type": "code",
   "execution_count": null,
   "id": "e7bfc66d",
   "metadata": {},
   "outputs": [],
   "source": [
    "import ngmix\n",
    "\n",
    "def get_star_stamp_pos(s, img, wgt):\n",
    "    xint = int(np.floor(s.x - 1 + 0.5))\n",
    "    yint = int(np.floor(s.y - 1 + 0.5))\n",
    "    bbox = 17\n",
    "    bbox_2 = (bbox - 1)//2\n",
    "    \n",
    "    return dict(\n",
    "        img=img[yint-bbox_2: yint+bbox_2+1, xint-bbox_2: xint+bbox_2+1],\n",
    "        wgt=wgt[yint-bbox_2: yint+bbox_2+1, xint-bbox_2: xint+bbox_2+1],\n",
    "        xstart=xint-bbox_2, \n",
    "        ystart=yint-bbox_2,\n",
    "        dim=bbox,\n",
    "        x=s.x - 1,\n",
    "        y=s.y - 1,\n",
    "    )\n",
    "\n",
    "def get_star_piff_obs(piff_mod, s, img, wgt):\n",
    "    \n",
    "    sres = get_star_stamp_pos(s, img, wgt)\n",
    "    \n",
    "    xv = sres[\"x\"]+1\n",
    "    yv = sres[\"y\"]+1\n",
    "    wcs = list(piff_mod.wcs.values())[0].local(\n",
    "        image_pos=galsim.PositionD(x=xv, y=yv)\n",
    "    ).jacobian()\n",
    "    img = galsim.ImageD(sres[\"dim\"], sres[\"dim\"], wcs=wcs)\n",
    "    cen = (\n",
    "        sres[\"x\"] - sres[\"xstart\"] + 1,\n",
    "        sres[\"y\"] - sres[\"ystart\"] + 1,\n",
    "    )\n",
    "    img = piff_mod.draw(\n",
    "        x=xv, y=yv, chipnum=list(piff_mod.wcs.keys())[0],\n",
    "        GI_COLOR=s.data.properties[\"GI_COLOR\"],\n",
    "        image=img, center=cen,\n",
    "    )\n",
    "    model_obs = ngmix.Observation(\n",
    "        image=img.array,\n",
    "        jacobian=ngmix.Jacobian(\n",
    "            y=cen[1]-1,\n",
    "            x=cen[0]-1,\n",
    "            wcs=wcs,\n",
    "        )\n",
    "    )\n",
    "    star_obs = ngmix.Observation(\n",
    "        image=sres[\"img\"],\n",
    "        weight=sres[\"wgt\"],\n",
    "        jacobian=ngmix.Jacobian(\n",
    "            y=cen[1]-1,\n",
    "            x=cen[0]-1,\n",
    "            wcs=wcs,\n",
    "        )\n",
    "    )\n",
    "    return model_obs, star_obs, sres"
   ]
  },
  {
   "cell_type": "code",
   "execution_count": null,
   "id": "8662533d",
   "metadata": {},
   "outputs": [],
   "source": [
    "\n",
    "x = []\n",
    "y = []\n",
    "t = []\n",
    "\n",
    "for s in piff_mod.stars:\n",
    "\n",
    "    mobs, sobs, sres = get_star_piff_obs(piff_mod, s, img, wgt)\n",
    "    \n",
    "    res = ngmix.admom.AdmomFitter(\n",
    "        rng=np.random.RandomState(seed=10)\n",
    "    ).go(mobs, ngmix.moments.fwhm_to_T(1))\n",
    "    t.append(res[\"T\"])\n",
    "    x.append(sres[\"x\"])\n",
    "    y.append(sres[\"y\"])\n",
    "    "
   ]
  },
  {
   "cell_type": "code",
   "execution_count": null,
   "id": "3cb5660a",
   "metadata": {},
   "outputs": [],
   "source": [
    "from sklearn.preprocessing import PolynomialFeatures\n",
    "from sklearn.pipeline import make_pipeline\n",
    "from sklearn.linear_model import LinearRegression\n",
    "\n",
    "degree = 2\n",
    "polyreg = make_pipeline(PolynomialFeatures(degree), LinearRegression())\n",
    "polyreg.fit(np.array([x, y]).T, np.array(t))"
   ]
  },
  {
   "cell_type": "code",
   "execution_count": null,
   "id": "f1784c06",
   "metadata": {},
   "outputs": [],
   "source": [
    "y, x = np.mgrid[0:4096:128, 0:2048:128] + 64\n",
    "tg = polyreg.predict(np.array([x.ravel(), y.ravel()]).T)"
   ]
  },
  {
   "cell_type": "code",
   "execution_count": null,
   "id": "ad4b8146",
   "metadata": {},
   "outputs": [],
   "source": [
    "tg = tg.reshape(x.shape)"
   ]
  },
  {
   "cell_type": "code",
   "execution_count": null,
   "id": "711c8451",
   "metadata": {},
   "outputs": [],
   "source": [
    "fig, axs = pplt.subplots(ncols=2)\n",
    "axs[0].imshow(tg)\n",
    "axs[1].imshow(res[\"t_arr\"])"
   ]
  },
  {
   "cell_type": "code",
   "execution_count": null,
   "id": "780d90e4",
   "metadata": {},
   "outputs": [],
   "source": [
    "def _nanmad(x, axis=None):\n",
    "    \"\"\"\n",
    "    median absolute deviation - scaled like a standard deviation\n",
    "\n",
    "        mad = 1.4826*median(|x-median(x)|)\n",
    "\n",
    "    Parameters\n",
    "    ----------\n",
    "    x: array-like\n",
    "        array to take MAD of\n",
    "    axis : {int, sequence of int, None}, optional\n",
    "        `axis` keyword for\n",
    "\n",
    "    Returns\n",
    "    -------\n",
    "    mad: float\n",
    "        MAD of array x\n",
    "    \"\"\"\n",
    "    return 1.4826*np.nanmedian(np.abs(x - np.nanmedian(x, axis=axis)), axis=axis)\n"
   ]
  },
  {
   "cell_type": "code",
   "execution_count": null,
   "id": "8ee74428",
   "metadata": {},
   "outputs": [],
   "source": [
    "print(_nanmad(t), _nanmad(tg))"
   ]
  },
  {
   "cell_type": "code",
   "execution_count": null,
   "id": "ebd98453",
   "metadata": {},
   "outputs": [],
   "source": [
    "from des_y6utils.piff import make_good_regions_for_piff_model"
   ]
  },
  {
   "cell_type": "code",
   "execution_count": null,
   "id": "0d8cc9cf",
   "metadata": {},
   "outputs": [],
   "source": [
    "res = make_good_regions_for_piff_model(piff_mod, piff_kwargs={\"GI_COLOR\": 0.61}, seed=10, verbose=False)"
   ]
  },
  {
   "cell_type": "code",
   "execution_count": null,
   "id": "844193d9",
   "metadata": {},
   "outputs": [],
   "source": [
    "res[\"t_std\"]"
   ]
  },
  {
   "cell_type": "code",
   "execution_count": null,
   "id": "4f02efa1",
   "metadata": {},
   "outputs": [],
   "source": [
    "fig, axs = pplt.subplots()\n",
    "\n",
    "axs.hist((res[\"t_arr\"] - tg).ravel(), bins=50)"
   ]
  },
  {
   "cell_type": "code",
   "execution_count": null,
   "id": "2c04c2b0",
   "metadata": {},
   "outputs": [],
   "source": [
    "np.std((res[\"t_arr\"] - tg).ravel()) * 5"
   ]
  },
  {
   "cell_type": "code",
   "execution_count": null,
   "id": "9968a4af",
   "metadata": {},
   "outputs": [],
   "source": [
    "np.max(np.abs(np.max(t) - np.median(t)))"
   ]
  },
  {
   "cell_type": "code",
   "execution_count": null,
   "id": "c45c5c97",
   "metadata": {},
   "outputs": [],
   "source": [
    "_nanmad(t)"
   ]
  },
  {
   "cell_type": "code",
   "execution_count": null,
   "id": "3d8d080b",
   "metadata": {},
   "outputs": [],
   "source": [
    "g = galsim.Gaussian(fwhm=0.5).dilate(1.1)"
   ]
  },
  {
   "cell_type": "code",
   "execution_count": null,
   "id": "70928fe8",
   "metadata": {},
   "outputs": [],
   "source": [
    "g"
   ]
  },
  {
   "cell_type": "code",
   "execution_count": null,
   "id": "503a10d7",
   "metadata": {},
   "outputs": [],
   "source": []
  }
 ],
 "metadata": {
  "kernelspec": {
   "display_name": "Python [conda env:desy6] *",
   "language": "python",
   "name": "conda-env-desy6-py"
  },
  "language_info": {
   "codemirror_mode": {
    "name": "ipython",
    "version": 3
   },
   "file_extension": ".py",
   "mimetype": "text/x-python",
   "name": "python",
   "nbconvert_exporter": "python",
   "pygments_lexer": "ipython3",
   "version": "3.8.12"
  }
 },
 "nbformat": 4,
 "nbformat_minor": 5
}
