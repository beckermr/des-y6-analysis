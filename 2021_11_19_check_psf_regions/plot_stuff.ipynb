{
 "cells": [
  {
   "cell_type": "code",
   "execution_count": 1,
   "id": "f7409a18",
   "metadata": {},
   "outputs": [],
   "source": [
    "import ngmix\n",
    "import fitsio\n",
    "import proplot as pplt\n",
    "import numpy as np\n",
    "import piff\n",
    "import galsim\n",
    "import yaml"
   ]
  },
  {
   "cell_type": "code",
   "execution_count": 2,
   "id": "077c57db",
   "metadata": {},
   "outputs": [],
   "source": [
    "%matplotlib inline"
   ]
  },
  {
   "cell_type": "code",
   "execution_count": 3,
   "id": "ee4ee7f9",
   "metadata": {},
   "outputs": [
    {
     "name": "stdout",
     "output_type": "stream",
     "text": [
      "2680\n"
     ]
    }
   ],
   "source": [
    "import glob\n",
    "import os\n",
    "\n",
    "fnames = sorted(glob.glob(\n",
    "    os.path.join(\n",
    "        os.environ[\"MEDS_DIR\"], \n",
    "        \"des-pizza-slices-y6-test\", \n",
    "        \"**\", \n",
    "        \"*piff-model.fits\"\n",
    "    ),\n",
    "    recursive=True,\n",
    "))\n",
    "\n",
    "print(len(fnames))"
   ]
  },
  {
   "cell_type": "code",
   "execution_count": 4,
   "id": "22637da4",
   "metadata": {},
   "outputs": [],
   "source": [
    "import pickle\n",
    "\n",
    "with open(\"fnames.pkl\", \"wb\") as fp:\n",
    "    pickle.dump(fnames, fp)"
   ]
  },
  {
   "cell_type": "code",
   "execution_count": 6,
   "id": "08f14d43",
   "metadata": {
    "scrolled": false
   },
   "outputs": [
    {
     "name": "stderr",
     "output_type": "stream",
     "text": [
      "[Parallel(n_jobs=-1)]: Using backend LokyBackend with 12 concurrent workers.\n",
      "[Parallel(n_jobs=-1)]: Done   1 tasks      | elapsed:   32.6s\n",
      "[Parallel(n_jobs=-1)]: Done   8 tasks      | elapsed:   32.8s\n",
      "[Parallel(n_jobs=-1)]: Done  17 tasks      | elapsed:   38.1s\n",
      "[Parallel(n_jobs=-1)]: Done  26 tasks      | elapsed:   43.3s\n",
      "[Parallel(n_jobs=-1)]: Done  37 tasks      | elapsed:   48.3s\n",
      "[Parallel(n_jobs=-1)]: Done  48 tasks      | elapsed:   48.9s\n",
      "[Parallel(n_jobs=-1)]: Done  61 tasks      | elapsed:   58.7s\n",
      "[Parallel(n_jobs=-1)]: Done  74 tasks      | elapsed:  1.1min\n",
      "[Parallel(n_jobs=-1)]: Done  89 tasks      | elapsed:  1.2min\n",
      "[Parallel(n_jobs=-1)]: Done 104 tasks      | elapsed:  1.3min\n",
      "[Parallel(n_jobs=-1)]: Done 121 tasks      | elapsed:  1.4min\n",
      "[Parallel(n_jobs=-1)]: Done 138 tasks      | elapsed:  1.5min\n",
      "[Parallel(n_jobs=-1)]: Done 157 tasks      | elapsed:  1.7min\n",
      "/gpfs02/astro/workarea/beckermr/miniconda3/envs/desy6/lib/python3.9/site-packages/ngmix/admom/admom.py:401: RuntimeWarning: divide by zero encountered in double_scalars\n",
      "  res['flux_mean'] = flux_sum/res['wsum']\n",
      "[Parallel(n_jobs=-1)]: Done 176 tasks      | elapsed:  1.8min\n",
      "[Parallel(n_jobs=-1)]: Done 197 tasks      | elapsed:  1.9min\n",
      "[Parallel(n_jobs=-1)]: Done 218 tasks      | elapsed:  2.1min\n",
      "[Parallel(n_jobs=-1)]: Done 241 tasks      | elapsed:  2.3min\n",
      "[Parallel(n_jobs=-1)]: Done 264 tasks      | elapsed:  2.4min\n",
      "[Parallel(n_jobs=-1)]: Done 289 tasks      | elapsed:  2.6min\n",
      "/gpfs02/astro/workarea/beckermr/miniconda3/envs/desy6/lib/python3.9/site-packages/ngmix/admom/admom.py:401: RuntimeWarning: divide by zero encountered in double_scalars\n",
      "  res['flux_mean'] = flux_sum/res['wsum']\n",
      "[Parallel(n_jobs=-1)]: Done 314 tasks      | elapsed:  2.8min\n",
      "[Parallel(n_jobs=-1)]: Done 341 tasks      | elapsed:  3.0min\n",
      "[Parallel(n_jobs=-1)]: Done 368 tasks      | elapsed:  3.2min\n",
      "[Parallel(n_jobs=-1)]: Done 397 tasks      | elapsed:  3.4min\n",
      "[Parallel(n_jobs=-1)]: Done 426 tasks      | elapsed:  3.6min\n",
      "/gpfs02/astro/workarea/beckermr/miniconda3/envs/desy6/lib/python3.9/site-packages/ngmix/admom/admom.py:401: RuntimeWarning: divide by zero encountered in double_scalars\n",
      "  res['flux_mean'] = flux_sum/res['wsum']\n",
      "[Parallel(n_jobs=-1)]: Done 457 tasks      | elapsed:  3.8min\n",
      "[Parallel(n_jobs=-1)]: Done 488 tasks      | elapsed:  4.0min\n",
      "[Parallel(n_jobs=-1)]: Done 521 tasks      | elapsed:  4.3min\n",
      "[Parallel(n_jobs=-1)]: Done 554 tasks      | elapsed:  4.5min\n",
      "[Parallel(n_jobs=-1)]: Done 589 tasks      | elapsed:  4.7min\n",
      "[Parallel(n_jobs=-1)]: Done 624 tasks      | elapsed:  5.0min\n",
      "[Parallel(n_jobs=-1)]: Done 661 tasks      | elapsed:  5.3min\n",
      "[Parallel(n_jobs=-1)]: Done 698 tasks      | elapsed:  5.5min\n",
      "[Parallel(n_jobs=-1)]: Done 737 tasks      | elapsed:  5.8min\n",
      "[Parallel(n_jobs=-1)]: Done 776 tasks      | elapsed:  6.1min\n",
      "/gpfs02/astro/workarea/beckermr/miniconda3/envs/desy6/lib/python3.9/site-packages/ngmix/admom/admom.py:401: RuntimeWarning: divide by zero encountered in double_scalars\n",
      "  res['flux_mean'] = flux_sum/res['wsum']\n",
      "[Parallel(n_jobs=-1)]: Done 817 tasks      | elapsed:  6.4min\n",
      "[Parallel(n_jobs=-1)]: Done 858 tasks      | elapsed:  6.7min\n",
      "[Parallel(n_jobs=-1)]: Done 901 tasks      | elapsed:  7.0min\n",
      "[Parallel(n_jobs=-1)]: Done 944 tasks      | elapsed:  7.3min\n",
      "/gpfs02/astro/workarea/beckermr/miniconda3/envs/desy6/lib/python3.9/site-packages/ngmix/admom/admom.py:401: RuntimeWarning: divide by zero encountered in double_scalars\n",
      "  res['flux_mean'] = flux_sum/res['wsum']\n",
      "/gpfs02/astro/workarea/beckermr/miniconda3/envs/desy6/lib/python3.9/site-packages/ngmix/admom/admom.py:401: RuntimeWarning: divide by zero encountered in double_scalars\n",
      "  res['flux_mean'] = flux_sum/res['wsum']\n",
      "[Parallel(n_jobs=-1)]: Done 989 tasks      | elapsed:  7.6min\n",
      "[Parallel(n_jobs=-1)]: Done 1034 tasks      | elapsed:  7.9min\n",
      "[Parallel(n_jobs=-1)]: Done 1081 tasks      | elapsed:  8.3min\n",
      "[Parallel(n_jobs=-1)]: Done 1128 tasks      | elapsed:  8.6min\n",
      "/gpfs02/astro/workarea/beckermr/miniconda3/envs/desy6/lib/python3.9/site-packages/ngmix/admom/admom.py:401: RuntimeWarning: divide by zero encountered in double_scalars\n",
      "  res['flux_mean'] = flux_sum/res['wsum']\n",
      "[Parallel(n_jobs=-1)]: Done 1177 tasks      | elapsed:  9.0min\n",
      "[Parallel(n_jobs=-1)]: Done 1226 tasks      | elapsed:  9.3min\n",
      "[Parallel(n_jobs=-1)]: Done 1277 tasks      | elapsed:  9.7min\n",
      "[Parallel(n_jobs=-1)]: Done 1328 tasks      | elapsed: 10.1min\n",
      "/gpfs02/astro/workarea/beckermr/miniconda3/envs/desy6/lib/python3.9/site-packages/ngmix/admom/admom.py:401: RuntimeWarning: divide by zero encountered in double_scalars\n",
      "  res['flux_mean'] = flux_sum/res['wsum']\n",
      "[Parallel(n_jobs=-1)]: Done 1381 tasks      | elapsed: 10.4min\n",
      "[Parallel(n_jobs=-1)]: Done 1434 tasks      | elapsed: 10.8min\n",
      "[Parallel(n_jobs=-1)]: Done 1489 tasks      | elapsed: 11.2min\n",
      "[Parallel(n_jobs=-1)]: Done 1544 tasks      | elapsed: 11.6min\n",
      "[Parallel(n_jobs=-1)]: Done 1601 tasks      | elapsed: 12.0min\n",
      "[Parallel(n_jobs=-1)]: Done 1658 tasks      | elapsed: 12.4min\n",
      "[Parallel(n_jobs=-1)]: Done 1717 tasks      | elapsed: 12.8min\n",
      "[Parallel(n_jobs=-1)]: Done 1776 tasks      | elapsed: 13.3min\n",
      "[Parallel(n_jobs=-1)]: Done 1837 tasks      | elapsed: 13.7min\n",
      "[Parallel(n_jobs=-1)]: Done 1898 tasks      | elapsed: 14.1min\n",
      "[Parallel(n_jobs=-1)]: Done 1961 tasks      | elapsed: 14.6min\n",
      "[Parallel(n_jobs=-1)]: Done 2024 tasks      | elapsed: 15.0min\n",
      "[Parallel(n_jobs=-1)]: Done 2089 tasks      | elapsed: 15.5min\n",
      "[Parallel(n_jobs=-1)]: Done 2154 tasks      | elapsed: 16.0min\n",
      "/gpfs02/astro/workarea/beckermr/miniconda3/envs/desy6/lib/python3.9/site-packages/ngmix/admom/admom.py:401: RuntimeWarning: divide by zero encountered in double_scalars\n",
      "  res['flux_mean'] = flux_sum/res['wsum']\n",
      "[Parallel(n_jobs=-1)]: Done 2221 tasks      | elapsed: 16.5min\n",
      "/gpfs02/astro/workarea/beckermr/miniconda3/envs/desy6/lib/python3.9/site-packages/ngmix/admom/admom.py:401: RuntimeWarning: divide by zero encountered in double_scalars\n",
      "  res['flux_mean'] = flux_sum/res['wsum']\n",
      "[Parallel(n_jobs=-1)]: Done 2288 tasks      | elapsed: 16.9min\n",
      "[Parallel(n_jobs=-1)]: Done 2357 tasks      | elapsed: 17.4min\n",
      "[Parallel(n_jobs=-1)]: Done 2426 tasks      | elapsed: 17.9min\n",
      "[Parallel(n_jobs=-1)]: Done 2497 tasks      | elapsed: 18.5min\n",
      "[Parallel(n_jobs=-1)]: Done 2568 tasks      | elapsed: 19.0min\n",
      "[Parallel(n_jobs=-1)]: Done 2641 tasks      | elapsed: 19.5min\n",
      "[Parallel(n_jobs=-1)]: Done 2680 out of 2680 | elapsed: 19.8min finished\n"
     ]
    }
   ],
   "source": [
    "from des_y6utils.piff import (\n",
    "    measure_star_t_for_piff_model,\n",
    "    map_star_t_to_grid,\n",
    "    measure_t_grid_for_piff_model,\n",
    "    make_good_regions_for_piff_model_gal_grid,\n",
    "    make_good_regions_for_piff_model_star_and_gal_grid,\n",
    "    nanmad,\n",
    ")\n",
    "import tqdm\n",
    "import joblib\n",
    "\n",
    "def _process(fname):\n",
    "    piff_mod = piff.read(fname)\n",
    "\n",
    "    if \"_z_\" in fname:\n",
    "        piff_kwargs = {\"IZ_COLOR\": 0.34}\n",
    "    else:\n",
    "        piff_kwargs = {\"GI_COLOR\": 0.61}\n",
    "\n",
    "    try:\n",
    "        t_arr = measure_t_grid_for_piff_model(piff_mod, piff_kwargs, seed=14354, grid_size=128)\n",
    "    except Exception:\n",
    "        return None\n",
    "    \n",
    "    if False:\n",
    "        data = measure_star_t_for_piff_model(piff_mod, piff_prop=list(piff_kwargs.keys())[0])\n",
    "        ts_arr = map_star_t_to_grid(data, grid_size=256)\n",
    "        darr = t_arr - ts_arr\n",
    "    return t_arr.ravel()\n",
    "        \n",
    "\n",
    "jobs = []\n",
    "for fname in fnames:\n",
    "    jobs.append(joblib.delayed(_process)(fname))\n",
    "    \n",
    "with joblib.Parallel(n_jobs=-1, verbose=10) as par:\n",
    "    arrs = par(jobs)\n",
    "\n",
    "arr = np.hstack(arrs)\n",
    "\n",
    "fitsio.write(\"data.fits\", arr, clobber=True)"
   ]
  },
  {
   "cell_type": "code",
   "execution_count": 7,
   "id": "03931b3b",
   "metadata": {},
   "outputs": [],
   "source": [
    "arr = fitsio.read(\"data.fits\")\n",
    "with open(\"fnames.pkl\", \"rb\") as fp:\n",
    "    fnames = pickle.load(fp)"
   ]
  },
  {
   "cell_type": "code",
   "execution_count": 8,
   "id": "8c0d35cd",
   "metadata": {},
   "outputs": [
    {
     "name": "stdout",
     "output_type": "stream",
     "text": [
      "True\n"
     ]
    },
    {
     "data": {
      "image/png": "[encoded data removed]",
      "text/plain": [
       "Figure(nrows=1, ncols=1, refwidth=2.5)"
      ]
     },
     "metadata": {
      "image/png": {
       "height": 282,
       "width": 312
      }
     },
     "output_type": "display_data"
    }
   ],
   "source": [
    "print(np.any(np.isnan(arr)))\n",
    "\n",
    "fig, axs = pplt.subplots()\n",
    "axs.hist(arr, bins=50, log=True);"
   ]
  },
  {
   "cell_type": "code",
   "execution_count": 43,
   "id": "2288370b",
   "metadata": {},
   "outputs": [
    {
     "name": "stdout",
     "output_type": "stream",
     "text": [
      "kind of odd: 8 0.10332868374306303\n",
      "kind of odd: 21 0.12806413555162366\n",
      "kind of odd: 23 0.10046839058080015\n",
      "kind of odd: 58 0.10093715498557043\n",
      "kind of odd: 86 0.11058637549312156\n",
      "kind of odd: 114 0.12541050246121951\n",
      "really bad: 180 0.12851736660467114 True\n",
      "really bad: 290 0.04057452211463669 True\n",
      "really bad: 449 1.8242585562702551 True\n",
      "kind of odd: 471 0.11012460656400047\n",
      "really bad: 788 0.5498566474206754 True\n",
      "really bad: 808 0.19011407456662177 True\n",
      "really bad: 976 0.19133846163663337 True\n",
      "really bad: 996 1.6376420212384752 True\n",
      "kind of odd: 1046 0.12421765261178064\n",
      "kind of odd: 1133 0.11510746669898597\n",
      "kind of odd: 1166 0.121960868533736\n",
      "really bad: 1169 1.3806307794523232 True\n",
      "really bad: 1375 0.3289519307386436 True\n",
      "kind of odd: 1401 0.10596896955946145\n",
      "kind of odd: 1461 0.10339315197063459\n",
      "kind of odd: 1469 0.10788961484836279\n",
      "really bad: 1562 0.16392298180441278 True\n",
      "kind of odd: 1880 0.10325541069921085\n",
      "kind of odd: 2051 0.10904739663327823\n",
      "kind of odd: 2112 0.12422430283530161\n",
      "kind of odd: 2118 0.10935000260299121\n",
      "kind of odd: 2120 0.11873498199734955\n",
      "kind of odd: 2165 0.10848720504849152\n",
      "kind of odd: 2184 0.10198949949272446\n",
      "really bad: 2188 2.012844876500309 True\n",
      "kind of odd: 2206 0.11704224004853503\n",
      "really bad: 2247 0.1068838723026515 True\n",
      "really bad: 2303 0.04189941618827164 True\n",
      "really bad: 2368 2.1446040862113556 True\n",
      "kind of odd: 2444 0.14938116245421873\n",
      "kind of odd: 2465 0.11735267550920814\n",
      "kind of odd: 2620 0.10574413866578558\n",
      "kind of odd: 2659 0.11098103009397153\n",
      "0.007835820895522387\n"
     ]
    },
    {
     "data": {
      "text/plain": [
       "Text(0.5, 0, 'log10[max(abs(Tgal - median(Tgal)))]')"
      ]
     },
     "execution_count": 43,
     "metadata": {},
     "output_type": "execute_result"
    },
    {
     "data": {
      "image/png": "[encoded data removed]",
      "text/plain": [
       "Figure(nrows=1, ncols=1, refwidth=4.0)"
      ]
     },
     "metadata": {
      "image/png": {
       "height": 454,
       "width": 452
      }
     },
     "output_type": "display_data"
    }
   ],
   "source": [
    "arr_bad = []\n",
    "arr_good = []\n",
    "arr_all = []\n",
    "isnan = []\n",
    "\n",
    "naninds = []\n",
    "cutinds = []\n",
    "oddinds = []\n",
    "\n",
    "def _stat(a):\n",
    "    return np.nanmax(np.abs(a-np.nanmedian(a)))\n",
    "\n",
    "\n",
    "ng = 512\n",
    "for i in range(len(arr)//ng):\n",
    "    start = i * ng\n",
    "    stop = start + ng\n",
    "    a = arr[start:stop]\n",
    "    sa = _stat(a)\n",
    "    arr_all.append(sa)\n",
    "    if np.any(np.isnan(a)):\n",
    "        isnan.append(True)\n",
    "        arr_bad.append(sa)\n",
    "        naninds.append(i)\n",
    "        print(\"really bad:\", i, arr_bad[-1], np.any(np.isnan(a)))\n",
    "    else:\n",
    "        isnan.append(False)\n",
    "        arr_good.append(sa)\n",
    "        \n",
    "        if sa > 0.1 and sa <= 0.15:\n",
    "            oddinds.append(i)\n",
    "            print(\"kind of odd:\", i, sa)\n",
    "        elif sa > 0.15:\n",
    "            cutinds.append(i)\n",
    "        \n",
    "cut = 0.15\n",
    "isnan = np.array(isnan)\n",
    "arr_all = np.array(arr_all)\n",
    "print(np.mean(isnan | (arr_all > cut)))\n",
    "\n",
    "assert stop == len(arr)\n",
    "arr_bad = np.log10(np.hstack(arr_bad))\n",
    "arr_good = np.log10(np.hstack(arr_good))\n",
    "\n",
    "fig, axs = pplt.subplots(refwidth=4)\n",
    "axs.hist(arr_good, bins=50, log=True, density=True, alpha=0.5, label=\"no NaNs\")\n",
    "axs.hist(arr_bad, bins=50, log=True, density=True, alpha=0.5, label=\"NaNs\")\n",
    "axs.vlines(np.log10(cut), 0.001, 10, color='k')\n",
    "axs.legend()\n",
    "axs[0].set_xlabel(\"log10[max(abs(Tgal - median(Tgal)))]\")"
   ]
  },
  {
   "cell_type": "code",
   "execution_count": 44,
   "id": "1479831d",
   "metadata": {},
   "outputs": [
    {
     "name": "stdout",
     "output_type": "stream",
     "text": [
      "80\n"
     ]
    },
    {
     "data": {
      "text/plain": [
       "Text(0.5, 0, 'gal T - star T')"
      ]
     },
     "execution_count": 44,
     "metadata": {},
     "output_type": "execute_result"
    },
    {
     "data": {
      "image/png": "[encoded data removed]",
      "text/plain": [
       "Figure(nrows=1, ncols=4, refwidth=2.5)"
      ]
     },
     "metadata": {
      "image/png": {
       "height": 568,
       "width": 1205
      }
     },
     "output_type": "display_data"
    }
   ],
   "source": [
    "sind = 8\n",
    "\n",
    "piff_mod = piff.read(fnames[sind])\n",
    "print(len(piff_mod.stars))\n",
    "\n",
    "if \"_z_\" in fnames[sind]:\n",
    "    piff_kwargs = {\"IZ_COLOR\": 0.34}\n",
    "else:\n",
    "    piff_kwargs = {\"GI_COLOR\": 0.61}\n",
    "\n",
    "\n",
    "thresh = 5\n",
    "t_arr = measure_t_grid_for_piff_model(piff_mod, piff_kwargs, seed=14354)\n",
    "data = measure_star_t_for_piff_model(piff_mod, piff_prop=list(piff_kwargs.keys())[0])\n",
    "ts_arr = map_star_t_to_grid(data)\n",
    "\n",
    "res_g = make_good_regions_for_piff_model_gal_grid(piff_mod, piff_kwargs=piff_kwargs, seed=11, verbose=False)\n",
    "res_sg = make_good_regions_for_piff_model_star_and_gal_grid(\n",
    "    piff_mod, piff_kwargs=piff_kwargs, seed=11, verbose=False,\n",
    "    flag_bad_thresh=2, any_bad_thresh=5,\n",
    ")\n",
    "\n",
    "vmin = min(np.nanmin(ts_arr), np.nanmin(t_arr))\n",
    "vmax = max(np.nanmax(ts_arr), np.nanmax(t_arr))\n",
    "\n",
    "fig, axs = pplt.subplots(ncols=4, share=0)\n",
    "h0 = axs[0].imshow(ts_arr, vmin=vmin, vmax=vmax, cmap=\"rocket\")\n",
    "axs[0].grid(False)\n",
    "axs[0].set_title(\"stars on grid w/ 2d poly\")\n",
    "axs[0].colorbar(h0, loc='l')\n",
    "\n",
    "axs[1].imshow(t_arr, vmin=vmin, vmax=vmax, cmap=\"rocket\")\n",
    "axs[1].grid(False)\n",
    "axs[1].set_title(\"grid of shapes at gal color\")\n",
    "\n",
    "b = res_g[\"bbox\"]\n",
    "axs[1].plot([b[\"xmin\"]/128, b[\"xmin\"]/128], [b[\"ymin\"]/128, b[\"ymax\"]/128 - 1], color=\"red\")\n",
    "axs[1].plot([b[\"xmax\"]/128 - 1, b[\"xmax\"]/128 - 1], [b[\"ymin\"]/128, b[\"ymax\"]/128 - 1], color=\"red\")\n",
    "axs[1].plot([b[\"xmin\"]/128, b[\"xmax\"]/128 - 1], [b[\"ymin\"]/128, b[\"ymin\"]/128], color=\"red\")\n",
    "axs[1].plot([b[\"xmin\"]/128, b[\"xmax\"]/128 - 1], [b[\"ymax\"]/128 - 1, b[\"ymax\"]/128 - 1], color=\"red\")\n",
    "\n",
    "b = res_sg[\"bbox\"]\n",
    "axs[1].plot([b[\"xmin\"]/128, b[\"xmin\"]/128], [b[\"ymin\"]/128, b[\"ymax\"]/128 - 1], color=\"blue\")\n",
    "axs[1].plot([b[\"xmax\"]/128 - 1, b[\"xmax\"]/128 - 1], [b[\"ymin\"]/128, b[\"ymax\"]/128 - 1], color=\"blue\")\n",
    "axs[1].plot([b[\"xmin\"]/128, b[\"xmax\"]/128 - 1], [b[\"ymin\"]/128, b[\"ymin\"]/128], color=\"blue\")\n",
    "axs[1].plot([b[\"xmin\"]/128, b[\"xmax\"]/128 - 1], [b[\"ymax\"]/128 - 1, b[\"ymax\"]/128 - 1], color=\"blue\")\n",
    "\n",
    "axs[2].imshow(res_sg[\"bad_msk\"], cmap=\"rocket\")\n",
    "\n",
    "harr = (t_arr-ts_arr).ravel()\n",
    "std5 = nanmad(harr) * 2\n",
    "h = axs[3].hist(harr, bins=50)\n",
    "axs[3].vlines([np.nanmedian(harr)-std5, np.nanmedian(harr)+std5], 0, np.max(h[0]), color=\"k\")\n",
    "axs[3].set_xlabel(\"gal T - star T\")"
   ]
  },
  {
   "cell_type": "code",
   "execution_count": null,
   "id": "a68465bd",
   "metadata": {},
   "outputs": [],
   "source": []
  },
  {
   "cell_type": "code",
   "execution_count": null,
   "id": "c499c4bf",
   "metadata": {},
   "outputs": [],
   "source": []
  },
  {
   "cell_type": "code",
   "execution_count": null,
   "id": "aa7e4059",
   "metadata": {},
   "outputs": [],
   "source": []
  },
  {
   "cell_type": "code",
   "execution_count": null,
   "id": "41e383a0",
   "metadata": {},
   "outputs": [],
   "source": []
  },
  {
   "cell_type": "code",
   "execution_count": null,
   "id": "47a17e6e",
   "metadata": {},
   "outputs": [],
   "source": [
    "TNAMES = [\"DES0131-3206\", \"DES0137-3749\", \"DES0221-0750\", \"DES0229-0416\"]\n",
    "BANDS = [\"g\", \"r\", \"i\", \"z\"]\n",
    "\n",
    "with open(\n",
    "    \"/Users/beckermr/MEDS_DIR/des-pizza-slices-y6-test/pizza_cutter_info/\"\n",
    "    \"%s_%s_pizza_cutter_info.yaml\" % (TNAMES[1], BANDS[0])\n",
    ") as fp:\n",
    "    yml = yaml.safe_load(fp.read())"
   ]
  },
  {
   "cell_type": "code",
   "execution_count": null,
   "id": "ba61ba42",
   "metadata": {},
   "outputs": [],
   "source": [
    "from des_y6utils.piff import (\n",
    "    measure_star_t_for_piff_model,\n",
    "    map_star_t_to_grid,\n",
    "    measure_t_grid_for_piff_model,\n",
    "    make_good_regions_for_piff_model_gal_grid,\n",
    "    make_good_regions_for_piff_model_star_and_gal_grid,\n",
    "    nanmad,\n",
    ")"
   ]
  },
  {
   "cell_type": "code",
   "execution_count": null,
   "id": "80404931",
   "metadata": {
    "scrolled": false
   },
   "outputs": [],
   "source": [
    "# find a bad model\n",
    "import tqdm\n",
    "\n",
    "for sind, src in tqdm.tqdm(enumerate(yml[\"src_info\"]), total=len(yml[\"src_info\"])):\n",
    "    fname = src[\"piff_path\"]\n",
    "\n",
    "    pmod = piff.read(fname)\n",
    "    if \"_z_\" in fname:\n",
    "        piff_kwargs = {\"IZ_COLOR\": 0.34}\n",
    "    else:\n",
    "        piff_kwargs = {\"GI_COLOR\": 0.61}\n",
    "    t_gal = measure_t_grid_for_piff_model(piff_mod, piff_kwargs, seed=14354)    \n",
    "    bf = np.mean(np.isnan(t_gal))\n",
    "    \n",
    "    if bf > 0:\n",
    "        print(sind)\n",
    "        break"
   ]
  },
  {
   "cell_type": "code",
   "execution_count": null,
   "id": "032dc0e2",
   "metadata": {},
   "outputs": [],
   "source": [
    "from esutil.pbar import prange\n",
    "from pizza_cutter.des_pizza_cutter._piff_tools import compute_piff_flags\n",
    "\n",
    "tot = 0\n",
    "flagged = 0\n",
    "\n",
    "TNAMES = [\"DES0131-3206\", \"DES0137-3749\", \"DES0221-0750\", \"DES0229-0416\"]\n",
    "BANDS = [\"g\", \"r\", \"i\", \"z\"]\n",
    "\n",
    "\n",
    "for i in prange(4):\n",
    "    for j in range(4):\n",
    "        with open(\n",
    "            \"/Users/beckermr/MEDS_DIR/des-pizza-slices-y6-test/pizza_cutter_info/\"\n",
    "            \"%s_%s_pizza_cutter_info.yaml\" % (TNAMES[i], BANDS[j])\n",
    "        ) as fp:\n",
    "            yml = yaml.safe_load(fp.read())\n",
    "        \n",
    "        for _sind, src in enumerate(yml[\"src_info\"]):\n",
    "            tot += 1\n",
    "            if (compute_piff_flags(\n",
    "                        piff_info=src[\"piff_info\"],\n",
    "                        max_fwhm_cen=3.6, \n",
    "                        min_nstar=35, \n",
    "                        max_exp_T_mean_fac=4, \n",
    "                        max_ccd_T_std_fac=0.3,\n",
    "                    ) != 0):\n",
    "                flagged += 1\n",
    "\n",
    "print(flagged, flagged / tot)"
   ]
  },
  {
   "cell_type": "code",
   "execution_count": null,
   "id": "15be7ff2",
   "metadata": {},
   "outputs": [],
   "source": [
    "from pizza_cutter.des_pizza_cutter._piff_tools import compute_piff_flags\n",
    "\n",
    "TNAMES = [\n",
    "    \"DES0131-3206\", \n",
    "    \"DES0137-3749\", \n",
    "    \"DES0221-0750\", \n",
    "    \"DES0229-0416\",\n",
    "]\n",
    "\n",
    "tfind = \"D00372620_i_c62_r5702p01_piff-model.fits\"\n",
    "BANDS = [tfind.split(\"_\")[1]]\n",
    "sind = None\n",
    "\n",
    "for band in BANDS:\n",
    "    for tname in TNAMES:\n",
    "        with open(\n",
    "            \"/Users/beckermr/MEDS_DIR/des-pizza-slices-y6-test/pizza_cutter_info/\"\n",
    "            \"%s_%s_pizza_cutter_info.yaml\" % (tname, band)\n",
    "        ) as fp:\n",
    "            yml = yaml.safe_load(fp.read())\n",
    "\n",
    "        for _sind, src in enumerate(yml[\"src_info\"]):\n",
    "            if tfind in src[\"piff_path\"]:\n",
    "                sind = _sind\n",
    "                print(\n",
    "                    \"sind|flags|tname:\",\n",
    "                    sind,\n",
    "                    compute_piff_flags(\n",
    "                        piff_info=src[\"piff_info\"],\n",
    "                        max_fwhm_cen=3.6, \n",
    "                        min_nstar=25, \n",
    "                        max_exp_T_mean_fac=4, \n",
    "                        max_ccd_T_std_fac=0.3,\n",
    "                    ),\n",
    "                    yml[\"tilename\"],\n",
    "                )\n",
    "                break\n",
    "        if sind is not None:\n",
    "            break\n",
    "    if sind is not None:\n",
    "        break\n"
   ]
  },
  {
   "cell_type": "code",
   "execution_count": null,
   "id": "898a1956",
   "metadata": {},
   "outputs": [],
   "source": []
  },
  {
   "cell_type": "code",
   "execution_count": null,
   "id": "816372af",
   "metadata": {},
   "outputs": [],
   "source": []
  },
  {
   "cell_type": "code",
   "execution_count": null,
   "id": "2fefdc7a",
   "metadata": {},
   "outputs": [],
   "source": []
  },
  {
   "cell_type": "code",
   "execution_count": null,
   "id": "04dac7d8",
   "metadata": {},
   "outputs": [],
   "source": [
    "np.nanmax(np.abs(harr - np.nanmedian(harr)))/nanmad(harr)"
   ]
  },
  {
   "cell_type": "code",
   "execution_count": null,
   "id": "7a022d28",
   "metadata": {},
   "outputs": [],
   "source": []
  },
  {
   "cell_type": "code",
   "execution_count": null,
   "id": "041d61d9",
   "metadata": {},
   "outputs": [],
   "source": []
  },
  {
   "cell_type": "code",
   "execution_count": null,
   "id": "9de359e4",
   "metadata": {},
   "outputs": [],
   "source": [
    "np.mean(res_sg[\"bad_msk\"])"
   ]
  },
  {
   "cell_type": "code",
   "execution_count": null,
   "id": "a18eb5ec",
   "metadata": {},
   "outputs": [],
   "source": []
  },
  {
   "cell_type": "code",
   "execution_count": null,
   "id": "a41f5a93",
   "metadata": {},
   "outputs": [],
   "source": [
    "t_gal[0, 0] = np.nan\n",
    "np.mean(np.isnan(t_gal))"
   ]
  },
  {
   "cell_type": "code",
   "execution_count": null,
   "id": "8fc2c60c",
   "metadata": {},
   "outputs": [],
   "source": [
    "list(piff_kwargs.keys())[0]"
   ]
  },
  {
   "cell_type": "code",
   "execution_count": null,
   "id": "7544af54",
   "metadata": {},
   "outputs": [],
   "source": []
  },
  {
   "cell_type": "code",
   "execution_count": null,
   "id": "6b048689",
   "metadata": {},
   "outputs": [],
   "source": []
  },
  {
   "cell_type": "code",
   "execution_count": null,
   "id": "e7bfc66d",
   "metadata": {},
   "outputs": [],
   "source": [
    "import ngmix\n",
    "\n",
    "def get_star_stamp_pos(s, img, wgt):\n",
    "    xint = int(np.floor(s.x - 1 + 0.5))\n",
    "    yint = int(np.floor(s.y - 1 + 0.5))\n",
    "    bbox = 17\n",
    "    bbox_2 = (bbox - 1)//2\n",
    "    \n",
    "    return dict(\n",
    "        img=img[yint-bbox_2: yint+bbox_2+1, xint-bbox_2: xint+bbox_2+1],\n",
    "        wgt=wgt[yint-bbox_2: yint+bbox_2+1, xint-bbox_2: xint+bbox_2+1],\n",
    "        xstart=xint-bbox_2, \n",
    "        ystart=yint-bbox_2,\n",
    "        dim=bbox,\n",
    "        x=s.x - 1,\n",
    "        y=s.y - 1,\n",
    "    )\n",
    "\n",
    "def get_star_piff_obs(piff_mod, s, img, wgt):\n",
    "    \n",
    "    sres = get_star_stamp_pos(s, img, wgt)\n",
    "    \n",
    "    xv = sres[\"x\"]+1\n",
    "    yv = sres[\"y\"]+1\n",
    "    wcs = list(piff_mod.wcs.values())[0].local(\n",
    "        image_pos=galsim.PositionD(x=xv, y=yv)\n",
    "    ).jacobian()\n",
    "    img = galsim.ImageD(sres[\"dim\"], sres[\"dim\"], wcs=wcs)\n",
    "    cen = (\n",
    "        sres[\"x\"] - sres[\"xstart\"] + 1,\n",
    "        sres[\"y\"] - sres[\"ystart\"] + 1,\n",
    "    )\n",
    "    img = piff_mod.draw(\n",
    "        x=xv, y=yv, chipnum=list(piff_mod.wcs.keys())[0],\n",
    "        GI_COLOR=s.data.properties[\"GI_COLOR\"],\n",
    "        image=img, center=cen,\n",
    "    )\n",
    "    model_obs = ngmix.Observation(\n",
    "        image=img.array,\n",
    "        jacobian=ngmix.Jacobian(\n",
    "            y=cen[1]-1,\n",
    "            x=cen[0]-1,\n",
    "            wcs=wcs,\n",
    "        )\n",
    "    )\n",
    "    star_obs = ngmix.Observation(\n",
    "        image=sres[\"img\"],\n",
    "        weight=sres[\"wgt\"],\n",
    "        jacobian=ngmix.Jacobian(\n",
    "            y=cen[1]-1,\n",
    "            x=cen[0]-1,\n",
    "            wcs=wcs,\n",
    "        )\n",
    "    )\n",
    "    return model_obs, star_obs, sres"
   ]
  },
  {
   "cell_type": "code",
   "execution_count": null,
   "id": "8662533d",
   "metadata": {},
   "outputs": [],
   "source": [
    "\n",
    "x = []\n",
    "y = []\n",
    "t = []\n",
    "\n",
    "for s in piff_mod.stars:\n",
    "\n",
    "    mobs, sobs, sres = get_star_piff_obs(piff_mod, s, img, wgt)\n",
    "    \n",
    "    res = ngmix.admom.AdmomFitter(\n",
    "        rng=np.random.RandomState(seed=10)\n",
    "    ).go(mobs, ngmix.moments.fwhm_to_T(1))\n",
    "    t.append(res[\"T\"])\n",
    "    x.append(sres[\"x\"])\n",
    "    y.append(sres[\"y\"])\n",
    "    "
   ]
  },
  {
   "cell_type": "code",
   "execution_count": null,
   "id": "3cb5660a",
   "metadata": {},
   "outputs": [],
   "source": [
    "from sklearn.preprocessing import PolynomialFeatures\n",
    "from sklearn.pipeline import make_pipeline\n",
    "from sklearn.linear_model import LinearRegression\n",
    "\n",
    "degree = 2\n",
    "polyreg = make_pipeline(PolynomialFeatures(degree), LinearRegression())\n",
    "polyreg.fit(np.array([x, y]).T, np.array(t))"
   ]
  },
  {
   "cell_type": "code",
   "execution_count": null,
   "id": "f1784c06",
   "metadata": {},
   "outputs": [],
   "source": [
    "y, x = np.mgrid[0:4096:128, 0:2048:128] + 64\n",
    "tg = polyreg.predict(np.array([x.ravel(), y.ravel()]).T)"
   ]
  },
  {
   "cell_type": "code",
   "execution_count": null,
   "id": "ad4b8146",
   "metadata": {},
   "outputs": [],
   "source": [
    "tg = tg.reshape(x.shape)"
   ]
  },
  {
   "cell_type": "code",
   "execution_count": null,
   "id": "711c8451",
   "metadata": {},
   "outputs": [],
   "source": [
    "fig, axs = pplt.subplots(ncols=2)\n",
    "axs[0].imshow(tg)\n",
    "axs[1].imshow(res[\"t_arr\"])"
   ]
  },
  {
   "cell_type": "code",
   "execution_count": null,
   "id": "780d90e4",
   "metadata": {},
   "outputs": [],
   "source": [
    "def _nanmad(x, axis=None):\n",
    "    \"\"\"\n",
    "    median absolute deviation - scaled like a standard deviation\n",
    "\n",
    "        mad = 1.4826*median(|x-median(x)|)\n",
    "\n",
    "    Parameters\n",
    "    ----------\n",
    "    x: array-like\n",
    "        array to take MAD of\n",
    "    axis : {int, sequence of int, None}, optional\n",
    "        `axis` keyword for\n",
    "\n",
    "    Returns\n",
    "    -------\n",
    "    mad: float\n",
    "        MAD of array x\n",
    "    \"\"\"\n",
    "    return 1.4826*np.nanmedian(np.abs(x - np.nanmedian(x, axis=axis)), axis=axis)\n"
   ]
  },
  {
   "cell_type": "code",
   "execution_count": null,
   "id": "8ee74428",
   "metadata": {},
   "outputs": [],
   "source": [
    "print(_nanmad(t), _nanmad(tg))"
   ]
  },
  {
   "cell_type": "code",
   "execution_count": null,
   "id": "ebd98453",
   "metadata": {},
   "outputs": [],
   "source": [
    "from des_y6utils.piff import make_good_regions_for_piff_model"
   ]
  },
  {
   "cell_type": "code",
   "execution_count": null,
   "id": "0d8cc9cf",
   "metadata": {},
   "outputs": [],
   "source": [
    "res = make_good_regions_for_piff_model(piff_mod, piff_kwargs={\"GI_COLOR\": 0.61}, seed=10, verbose=False)"
   ]
  },
  {
   "cell_type": "code",
   "execution_count": null,
   "id": "844193d9",
   "metadata": {},
   "outputs": [],
   "source": [
    "res[\"t_std\"]"
   ]
  },
  {
   "cell_type": "code",
   "execution_count": null,
   "id": "4f02efa1",
   "metadata": {},
   "outputs": [],
   "source": [
    "fig, axs = pplt.subplots()\n",
    "\n",
    "axs.hist((res[\"t_arr\"] - tg).ravel(), bins=50)"
   ]
  },
  {
   "cell_type": "code",
   "execution_count": null,
   "id": "2c04c2b0",
   "metadata": {},
   "outputs": [],
   "source": [
    "np.std((res[\"t_arr\"] - tg).ravel()) * 5"
   ]
  },
  {
   "cell_type": "code",
   "execution_count": null,
   "id": "9968a4af",
   "metadata": {},
   "outputs": [],
   "source": [
    "np.max(np.abs(np.max(t) - np.median(t)))"
   ]
  },
  {
   "cell_type": "code",
   "execution_count": null,
   "id": "c45c5c97",
   "metadata": {},
   "outputs": [],
   "source": [
    "_nanmad(t)"
   ]
  },
  {
   "cell_type": "code",
   "execution_count": null,
   "id": "3d8d080b",
   "metadata": {},
   "outputs": [],
   "source": [
    "g = galsim.Gaussian(fwhm=0.5).dilate(1.1)"
   ]
  },
  {
   "cell_type": "code",
   "execution_count": null,
   "id": "70928fe8",
   "metadata": {},
   "outputs": [],
   "source": [
    "g"
   ]
  },
  {
   "cell_type": "code",
   "execution_count": null,
   "id": "503a10d7",
   "metadata": {},
   "outputs": [],
   "source": [
    "import fitsio"
   ]
  },
  {
   "cell_type": "code",
   "execution_count": null,
   "id": "d0dd4228",
   "metadata": {},
   "outputs": [],
   "source": [
    "fitsio.write?"
   ]
  },
  {
   "cell_type": "code",
   "execution_count": null,
   "id": "65f699c3",
   "metadata": {},
   "outputs": [],
   "source": []
  }
 ],
 "metadata": {
  "kernelspec": {
   "display_name": "Python [conda env:desy6]",
   "language": "python",
   "name": "conda-env-desy6-py"
  },
  "language_info": {
   "codemirror_mode": {
    "name": "ipython",
    "version": 3
   },
   "file_extension": ".py",
   "mimetype": "text/x-python",
   "name": "python",
   "nbconvert_exporter": "python",
   "pygments_lexer": "ipython3",
   "version": "3.9.7"
  }
 },
 "nbformat": 4,
 "nbformat_minor": 5
}
