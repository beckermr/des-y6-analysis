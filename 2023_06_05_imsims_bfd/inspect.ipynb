{
 "cells": [
  {
   "cell_type": "code",
   "execution_count": 1,
   "metadata": {},
   "outputs": [],
   "source": [
    "import fitsio"
   ]
  },
  {
   "cell_type": "code",
   "execution_count": 2,
   "metadata": {},
   "outputs": [],
   "source": [
    "d = fitsio.read(\"sim_outputs/true_positions/DES0518-6039-truepositions.fits\")"
   ]
  },
  {
   "cell_type": "code",
   "execution_count": 3,
   "metadata": {},
   "outputs": [
    {
     "data": {
      "text/plain": [
       "('ra', 'dec', 'x', 'y', 'id', 'mag_r', 'mag_i')"
      ]
     },
     "execution_count": 3,
     "metadata": {},
     "output_type": "execute_result"
    }
   ],
   "source": [
    "d.dtype.names"
   ]
  },
  {
   "cell_type": "code",
   "execution_count": 4,
   "metadata": {},
   "outputs": [
    {
     "data": {
      "text/plain": [
       "array([(80.39756365, -61.02535968,   72.44867025,   24.58506332,     1, 18., 18.),\n",
       "       (80.39033111, -61.02546484,  120.42266377,   23.68719191,     2, 18., 18.),\n",
       "       (80.38301579, -61.02545271,  168.92750363,   24.39563946,     3, 18., 18.),\n",
       "       ...,\n",
       "       (78.93510367, -60.29847261, 9878.85010462, 9975.86677141, 42846, 18., 18.),\n",
       "       (78.92793728, -60.29844722, 9927.45816187, 9975.681638  , 42847, 18., 18.),\n",
       "       (78.92086141, -60.298417  , 9975.45313576, 9975.56413159, 42848, 18., 18.)],\n",
       "      dtype=[('ra', '>f8'), ('dec', '>f8'), ('x', '>f8'), ('y', '>f8'), ('id', '>i8'), ('mag_r', '>f8'), ('mag_i', '>f8')])"
      ]
     },
     "execution_count": 4,
     "metadata": {},
     "output_type": "execute_result"
    }
   ],
   "source": [
    "d"
   ]
  },
  {
   "cell_type": "code",
   "execution_count": null,
   "metadata": {},
   "outputs": [],
   "source": []
  }
 ],
 "metadata": {
  "kernelspec": {
   "display_name": "des-y6-imsims",
   "language": "python",
   "name": "python3"
  },
  "language_info": {
   "codemirror_mode": {
    "name": "ipython",
    "version": 3
   },
   "file_extension": ".py",
   "mimetype": "text/x-python",
   "name": "python",
   "nbconvert_exporter": "python",
   "pygments_lexer": "ipython3",
   "version": "3.9.16"
  },
  "orig_nbformat": 4
 },
 "nbformat": 4,
 "nbformat_minor": 2
}
