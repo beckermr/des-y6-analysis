{
 "cells": [
  {
   "cell_type": "code",
   "execution_count": 20,
   "id": "da99c859",
   "metadata": {},
   "outputs": [],
   "source": [
    "import proplot as pplt\n",
    "import fitsio\n",
    "import numpy as np\n",
    "import des_y6utils.mdet\n",
    "import ngmix\n",
    "import scipy.interpolate"
   ]
  },
  {
   "cell_type": "code",
   "execution_count": 2,
   "id": "cf621903",
   "metadata": {},
   "outputs": [],
   "source": [
    "def _compute_r(d, msk=None, w=None):\n",
    "    if msk is None:\n",
    "        msk = np.ones_like(d[\"wmom_g_1\"]).astype(bool)\n",
    "        \n",
    "    if w is None:\n",
    "        w = np.ones_like(d[\"wmom_g_1\"])\n",
    "        \n",
    "    msk_1p = msk & (d[\"mdet_step\"] == \"1p\")\n",
    "    nrm = np.sum(w[msk_1p])    \n",
    "    e1_1p = np.sum(w[msk_1p] * d[\"wmom_g_1\"][msk_1p])/nrm\n",
    "    e2_1p = np.sum(w[msk_1p] * d[\"wmom_g_2\"][msk_1p])/nrm\n",
    "\n",
    "    msk_1m = msk & (d[\"mdet_step\"] == \"1m\")\n",
    "    nrm = np.sum(w[msk_1m])    \n",
    "    e1_1m = np.sum(w[msk_1m] * d[\"wmom_g_1\"][msk_1m])/nrm\n",
    "    e2_1m = np.sum(w[msk_1m] * d[\"wmom_g_2\"][msk_1m])/nrm\n",
    "\n",
    "    msk_2p = msk & (d[\"mdet_step\"] == \"2p\")\n",
    "    nrm = np.sum(w[msk_2p])    \n",
    "    e1_2p = np.sum(w[msk_2p] * d[\"wmom_g_1\"][msk_2p])/nrm\n",
    "    e2_2p = np.sum(w[msk_2p] * d[\"wmom_g_2\"][msk_2p])/nrm\n",
    "\n",
    "    msk_2m = msk & (d[\"mdet_step\"] == \"2m\")\n",
    "    nrm = np.sum(w[msk_2m])    \n",
    "    e1_2m = np.sum(w[msk_2m] * d[\"wmom_g_1\"][msk_2m])/nrm\n",
    "    e2_2m = np.sum(w[msk_2m] * d[\"wmom_g_2\"][msk_2m])/nrm\n",
    "    \n",
    "#     print((e1_1p - e1_1m)/0.02, (e2_2p - e2_2m)/0.02)\n",
    "    \n",
    "#     print((e2_1p - e2_1m)/0.02, (e2_1p - e2_1m)/0.02)\n",
    "    \n",
    "    return (\n",
    "        (e1_1p - e1_1m)/0.02 + (e2_2p - e2_2m)/0.02\n",
    "    )/2.0"
   ]
  },
  {
   "cell_type": "code",
   "execution_count": 3,
   "id": "24b536da",
   "metadata": {},
   "outputs": [],
   "source": [
    "def sn_h12(e, w=None):\n",
    "    if w is None:\n",
    "        w = np.ones_like(e)\n",
    "        \n",
    "    return np.sqrt(np.sum((w*e)**2)/np.sum(w**2))\n",
    "\n",
    "def neff_h12(e, w=None):\n",
    "    if w is None:\n",
    "        w = np.ones_like(e)\n",
    "    return np.sum(w)**2/np.sum(w**2)\n",
    "\n",
    "def prec_h12(e, R, w=None):\n",
    "    if w is None:\n",
    "        w = np.ones_like(e)\n",
    "\n",
    "    return sn_h12(e, w=w)/np.sqrt(neff_h12(e, w=w))/R"
   ]
  },
  {
   "cell_type": "code",
   "execution_count": 4,
   "id": "41b03751",
   "metadata": {},
   "outputs": [],
   "source": [
    "def _comp_stats(d, msk, w):\n",
    "    R = _compute_r(d, msk=msk, w=w)\n",
    "    _msk = msk & (d[\"mdet_step\"] == \"noshear\")\n",
    "    prec_nrm = 0.07/R/np.sqrt(0.3 * d.shape[0] / 5)\n",
    "    return (\n",
    "        np.sum(_msk),\n",
    "        sn_h12(d[\"wmom_g_1\"][_msk], w=w[_msk])/R,\n",
    "        neff_h12(d[\"wmom_g_1\"][_msk], w=w[_msk])/(d.shape[0]/5),\n",
    "        prec_h12(d[\"wmom_g_1\"][_msk], R, w=w[_msk])/prec_nrm,\n",
    "    )   "
   ]
  },
  {
   "cell_type": "code",
   "execution_count": 5,
   "id": "f749a7fd",
   "metadata": {},
   "outputs": [],
   "source": [
    "d = fitsio.read(\"/Users/beckermr/Downloads/patch-0078.fits\")"
   ]
  },
  {
   "cell_type": "code",
   "execution_count": 16,
   "id": "dc522dc7",
   "metadata": {},
   "outputs": [],
   "source": [
    "msk_all = des_y6utils.mdet._make_mdet_cuts(\n",
    "    d,\n",
    "    min_s2n=5.0,\n",
    "    min_t_ratio=1.1,\n",
    "    n_terr=0.0,\n",
    "    max_mfrac=0.1,\n",
    "    max_s2n=np.inf,\n",
    ")\n",
    "\n",
    "xcol = np.log10(d[\"wmom_s2n\"][msk_all])\n",
    "bins_s2n = np.linspace(np.log10(5), np.nanmax(xcol), 20)\n",
    "\n",
    "\n",
    "msk = msk_all & (d[\"mdet_step\"] == \"noshear\")\n",
    "xcol = np.log10(d[\"wmom_s2n\"][msk])\n",
    "n = np.histogram(\n",
    "    xcol, \n",
    "    bins=bins_s2n, \n",
    "    weights=np.ones(np.sum(msk)), \n",
    "    density=False,\n",
    ")[0]\n",
    "\n",
    "ne = np.histogram(\n",
    "    xcol, \n",
    "    bins=bins_s2n, \n",
    "    weights=d[\"wmom_g_1\"][msk], \n",
    "    density=False,\n",
    ")[0]\n",
    "\n",
    "ne2 = np.histogram(\n",
    "    xcol, \n",
    "    bins=bins_s2n, \n",
    "    weights=d[\"wmom_g_1\"][msk]**2, \n",
    "    density=False,\n",
    ")[0]\n",
    "\n",
    "msk = msk_all & (d[\"mdet_step\"] == \"1p\")\n",
    "xcol = np.log10(d[\"wmom_s2n\"][msk])\n",
    "n1p = np.histogram(\n",
    "    xcol, \n",
    "    bins=bins_s2n, \n",
    "    weights=np.ones(np.sum(msk)), \n",
    "    density=False,\n",
    ")[0]\n",
    "\n",
    "ne1p = np.histogram(\n",
    "    xcol, \n",
    "    bins=bins_s2n, \n",
    "    weights=d[\"wmom_g_1\"][msk], \n",
    "    density=False,\n",
    ")[0]\n",
    "\n",
    "msk = msk_all & (d[\"mdet_step\"] == \"1m\")\n",
    "xcol = np.log10(d[\"wmom_s2n\"][msk])\n",
    "n1m = np.histogram(\n",
    "    xcol, \n",
    "    bins=bins_s2n, \n",
    "    weights=np.ones(np.sum(msk)), \n",
    "    density=False,\n",
    ")[0]\n",
    "\n",
    "ne1m = np.histogram(\n",
    "    xcol, \n",
    "    bins=bins_s2n, \n",
    "    weights=d[\"wmom_g_1\"][msk], \n",
    "    density=False,\n",
    ")[0]"
   ]
  },
  {
   "cell_type": "code",
   "execution_count": 17,
   "id": "fcdcf439",
   "metadata": {},
   "outputs": [
    {
     "data": {
      "text/plain": [
       "(array([0.17363517, 0.20445929, 0.25994339, 0.26647185, 0.26723909,\n",
       "        0.27774981, 0.27885724, 0.27255117, 0.2824175 , 0.2615484 ,\n",
       "        0.26485605, 0.25310289, 0.25407993, 0.27787362, 0.24085517,\n",
       "        0.31286013, 0.19797991, 0.30036523, 0.18795273]),\n",
       " array([0.20149275, 0.15574155, 0.12210646, 0.10112309, 0.08841345,\n",
       "        0.08122975, 0.07648088, 0.07289841, 0.07055251, 0.066708  ,\n",
       "        0.06550619, 0.06159057, 0.05929912, 0.05920672, 0.05755056,\n",
       "        0.05515231, 0.04804605, 0.04807186, 0.01512896]))"
      ]
     },
     "execution_count": 17,
     "metadata": {},
     "output_type": "execute_result"
    }
   ],
   "source": [
    "R = (ne1p/n1p - ne1m/n1m)/0.02\n",
    "sn = np.sqrt(ne2/n - (ne/n)**2)\n",
    "R, sn"
   ]
  },
  {
   "cell_type": "code",
   "execution_count": 18,
   "id": "d3da9290",
   "metadata": {},
   "outputs": [
    {
     "data": {
      "image/png": "[encoded data removed]",
      "text/plain": [
       "Figure(nrows=1, ncols=3, refwidth=2.5)"
      ]
     },
     "metadata": {
      "image/png": {
       "height": 301,
       "width": 942
      }
     },
     "output_type": "display_data"
    }
   ],
   "source": [
    "fig, axs = pplt.subplots(nrows=1, ncols=3, share=0)\n",
    "\n",
    "axs[0].semilogx(10**bins_s2n[:-1], sn)\n",
    "axs[0].format(xlabel=\"log10(S/N)\", ylabel=\"shape noise\")\n",
    "axs[1].semilogx(10**bins_s2n[:-1], R)\n",
    "axs[1].format(xlabel=\"log10(S/N)\", ylabel=\"shear response\")\n",
    "axs[2].semilogx(10**bins_s2n[:-1], R**2/sn**2)\n",
    "axs[2].format(xlabel=\"log10(S/N)\", ylabel=\"weight\")"
   ]
  },
  {
   "cell_type": "code",
   "execution_count": 43,
   "id": "e9c456f4",
   "metadata": {},
   "outputs": [],
   "source": [
    "wfunc = scipy.interpolate.interp1d(bins_s2n[:-1], R**2/sn**2, bounds_error=False, kind=\"linear\")"
   ]
  },
  {
   "cell_type": "code",
   "execution_count": 52,
   "id": "6847df5d",
   "metadata": {},
   "outputs": [],
   "source": [
    "msk_low = (np.log10(d[\"wmom_s2n\"]) < bins_s2n[0])\n",
    "msk_hi = (np.log10(d[\"wmom_s2n\"]) > bins_s2n[-2])\n",
    "\n",
    "wg = wfunc(np.log10(d[\"wmom_s2n\"]))\n",
    "wg[msk_low] = (R**2/sn**2)[0]\n",
    "wg[msk_hi] = (R**2/sn**2)[-1]\n",
    "\n",
    "assert not np.any(np.isnan(wg))"
   ]
  },
  {
   "cell_type": "markdown",
   "id": "9837211c",
   "metadata": {},
   "source": [
    "### do some stuff"
   ]
  },
  {
   "cell_type": "code",
   "execution_count": 53,
   "id": "809664bd",
   "metadata": {},
   "outputs": [],
   "source": [
    "w = 1.0/(0.07**2 + 0.5*d[\"wmom_g_cov_1_1\"]**2 + 0.5*d[\"wmom_g_cov_2_2\"]**2)"
   ]
  },
  {
   "cell_type": "code",
   "execution_count": 54,
   "id": "fd8026bd",
   "metadata": {},
   "outputs": [
    {
     "data": {
      "text/plain": [
       "((772795, 0.3523954488990886, 0.28427978499471696, 1.5003093832748582),\n",
       " (772795, 0.29945872830980547, 0.24641111778742467, 1.381362183986154))"
      ]
     },
     "execution_count": 54,
     "metadata": {},
     "output_type": "execute_result"
    }
   ],
   "source": [
    "msk_v2 = des_y6utils.mdet.make_mdet_cuts(d, \"2\")\n",
    "\n",
    "_comp_stats(d, msk_v2, w), _comp_stats(d, msk_v2, wg)"
   ]
  },
  {
   "cell_type": "code",
   "execution_count": 57,
   "id": "8306cbcd",
   "metadata": {},
   "outputs": [
    {
     "data": {
      "text/plain": [
       "((248563, 0.37528083714033317, 0.09143638401378754, 2.967434671323842),\n",
       " (248563, 0.31820308684768933, 0.0782957212839087, 2.8218048282394252))"
      ]
     },
     "execution_count": 57,
     "metadata": {},
     "output_type": "execute_result"
    }
   ],
   "source": [
    "msk_agg = des_y6utils.mdet._make_mdet_cuts(\n",
    "    d,\n",
    "    min_s2n=10.0,\n",
    "    min_t_ratio=1.5,\n",
    "    n_terr=0,\n",
    "    max_mfrac=0.1,\n",
    "    max_s2n=1e3,\n",
    ")\n",
    "\n",
    "_comp_stats(d, msk_agg, w), _comp_stats(d, msk_agg, wg)"
   ]
  },
  {
   "cell_type": "code",
   "execution_count": null,
   "id": "abd21d1b",
   "metadata": {},
   "outputs": [],
   "source": []
  },
  {
   "cell_type": "code",
   "execution_count": null,
   "id": "2612f055",
   "metadata": {},
   "outputs": [],
   "source": []
  },
  {
   "cell_type": "code",
   "execution_count": null,
   "id": "b12771f5",
   "metadata": {},
   "outputs": [],
   "source": [
    "msk_all = des_y6utils.mdet._make_mdet_cuts(\n",
    "    d,\n",
    "    min_s2n=5.0,\n",
    "    min_t_ratio=1.1,\n",
    "    n_terr=0.0,\n",
    "    max_mfrac=0.1,\n",
    ")\n",
    "\n",
    "bins_tratio = np.linspace(np.log10(1.2), np.log10(np.max(d[\"wmom_T_ratio\"][msk])), 4)\n",
    "bins_s2n = np.linspace(np.log10(5), np.log10(np.max(d[\"wmom_s2n\"][msk])), 4)\n",
    "\n",
    "\n",
    "msk = msk_all & (d[\"mdet_step\"] == \"noshear\")\n",
    "n = np.histogram2d(\n",
    "    np.log10(d[\"wmom_T_ratio\"][msk]), \n",
    "    np.log10(d[\"wmom_s2n\"][msk]), \n",
    "    bins=[bins_tratio, bins_s2n], \n",
    "    weights=np.ones(np.sum(msk)), \n",
    "    density=False,\n",
    ")[0]\n",
    "\n",
    "ne = np.histogram2d(\n",
    "    np.log10(d[\"wmom_T_ratio\"][msk]), \n",
    "    np.log10(d[\"wmom_s2n\"][msk]), \n",
    "    bins=[bins_tratio, bins_s2n], \n",
    "    weights=d[\"wmom_g_1\"][msk], \n",
    "    density=False,\n",
    ")[0]\n",
    "\n",
    "ne2 = np.histogram2d(\n",
    "    np.log10(d[\"wmom_T_ratio\"][msk]), \n",
    "    np.log10(d[\"wmom_s2n\"][msk]), \n",
    "    bins=[bins_tratio, bins_s2n], \n",
    "    weights=d[\"wmom_g_1\"][msk]**2, \n",
    "    density=False,\n",
    ")[0]\n",
    "\n",
    "msk = msk_all & (d[\"mdet_step\"] == \"1p\")\n",
    "n1p = np.histogram2d(\n",
    "    np.log10(d[\"wmom_T_ratio\"][msk]), \n",
    "    np.log10(d[\"wmom_s2n\"][msk]), \n",
    "    bins=[bins_tratio, bins_s2n], \n",
    "    weights=np.ones(np.sum(msk)), \n",
    "    density=False,\n",
    ")[0]\n",
    "\n",
    "ne1p = np.histogram2d(\n",
    "    np.log10(d[\"wmom_T_ratio\"][msk]), \n",
    "    np.log10(d[\"wmom_s2n\"][msk]), \n",
    "    bins=[bins_tratio, bins_s2n], \n",
    "    weights=d[\"wmom_g_1\"][msk], \n",
    "    density=False,\n",
    ")[0]\n",
    "\n",
    "msk = msk_all & (d[\"mdet_step\"] == \"1m\")\n",
    "n1m = np.histogram2d(\n",
    "    np.log10(d[\"wmom_T_ratio\"][msk]), \n",
    "    np.log10(d[\"wmom_s2n\"][msk]), \n",
    "    bins=[bins_tratio, bins_s2n], \n",
    "    weights=np.ones(np.sum(msk)), \n",
    "    density=False,\n",
    ")[0]\n",
    "\n",
    "ne1m = np.histogram2d(\n",
    "    np.log10(d[\"wmom_T_ratio\"][msk]), \n",
    "    np.log10(d[\"wmom_s2n\"][msk]), \n",
    "    bins=[bins_tratio, bins_s2n], \n",
    "    weights=d[\"wmom_g_1\"][msk], \n",
    "    density=False,\n",
    ")[0]"
   ]
  },
  {
   "cell_type": "code",
   "execution_count": null,
   "id": "7ff5081d",
   "metadata": {},
   "outputs": [],
   "source": [
    "R = (ne1p/n1p - ne1m/n1m)/0.02"
   ]
  },
  {
   "cell_type": "code",
   "execution_count": null,
   "id": "3527ac11",
   "metadata": {},
   "outputs": [],
   "source": [
    "sn = np.sqrt(ne2/n - (ne/n)**2)"
   ]
  },
  {
   "cell_type": "code",
   "execution_count": null,
   "id": "6dea474b",
   "metadata": {},
   "outputs": [],
   "source": [
    "R"
   ]
  },
  {
   "cell_type": "code",
   "execution_count": null,
   "id": "429c209c",
   "metadata": {},
   "outputs": [],
   "source": [
    "R.shape"
   ]
  },
  {
   "cell_type": "code",
   "execution_count": null,
   "id": "38505b1e",
   "metadata": {},
   "outputs": [],
   "source": [
    "sn.shape"
   ]
  },
  {
   "cell_type": "code",
   "execution_count": null,
   "id": "74476b83",
   "metadata": {},
   "outputs": [],
   "source": [
    "import scipy"
   ]
  },
  {
   "cell_type": "code",
   "execution_count": null,
   "id": "886ecc8a",
   "metadata": {},
   "outputs": [],
   "source": [
    "import scipy.interpolate"
   ]
  },
  {
   "cell_type": "code",
   "execution_count": null,
   "id": "df5a74c2",
   "metadata": {},
   "outputs": [],
   "source": [
    "wfunc = scipy.interpolate.RectBivariateSpline(bins_tratio[:-1], bins_s2n[:-1], 1.0/sn**2, s=0, kx=1, ky=1)"
   ]
  },
  {
   "cell_type": "code",
   "execution_count": null,
   "id": "bb530bde",
   "metadata": {},
   "outputs": [],
   "source": [
    "wg = wfunc(np.log10(d[\"wmom_T_ratio\"]), np.log10(d[\"wmom_s2n\"]), grid=False)"
   ]
  },
  {
   "cell_type": "code",
   "execution_count": null,
   "id": "6b972b5e",
   "metadata": {},
   "outputs": [],
   "source": [
    "wg.min(), wg.max()"
   ]
  },
  {
   "cell_type": "code",
   "execution_count": null,
   "id": "ab7c2168",
   "metadata": {},
   "outputs": [],
   "source": [
    "w = 1.0/(0.14**2 + 0.5*d[\"wmom_g_cov_1_1\"]**2 + 0.5*d[\"wmom_g_cov_2_2\"]**2)"
   ]
  },
  {
   "cell_type": "code",
   "execution_count": null,
   "id": "b534c8e9",
   "metadata": {},
   "outputs": [],
   "source": [
    "msk_v2 = des_y6utils.mdet.make_mdet_cuts(d, \"2\")"
   ]
  },
  {
   "cell_type": "code",
   "execution_count": null,
   "id": "09418ee3",
   "metadata": {},
   "outputs": [],
   "source": [
    "_comp_stats(d, msk_v2, wg)"
   ]
  },
  {
   "cell_type": "code",
   "execution_count": null,
   "id": "e688fd28",
   "metadata": {},
   "outputs": [],
   "source": [
    "_comp_stats(d, msk_v2, w)"
   ]
  },
  {
   "cell_type": "code",
   "execution_count": null,
   "id": "3baad120",
   "metadata": {},
   "outputs": [],
   "source": [
    "msk_agg = des_y6utils.mdet._make_mdet_cuts(\n",
    "    d,\n",
    "    min_s2n=7.0,\n",
    "    min_t_ratio=1.1,\n",
    "    n_terr=0.0,\n",
    "    max_mfrac=0.1,\n",
    ")\n",
    "\n",
    "_comp_stats(d, msk_agg, wg)"
   ]
  },
  {
   "cell_type": "code",
   "execution_count": null,
   "id": "83ce42b9",
   "metadata": {},
   "outputs": [],
   "source": []
  },
  {
   "cell_type": "code",
   "execution_count": null,
   "id": "30ad312b",
   "metadata": {},
   "outputs": [],
   "source": [
    "print(sn_h12(d[\"wmom_g_1\"][msk_hi])/R, sn_h12(d[\"wmom_g_1\"][msk_hi], w=w[msk_hi])/Rw)\n",
    "print(neff_h12(d[\"wmom_g_1\"][msk_hi]), neff_h12(d[\"wmom_g_1\"][msk_hi], w=w[msk_hi]))\n",
    "print(prec_h12(d[\"wmom_g_1\"][msk_hi], R), prec_h12(d[\"wmom_g_1\"][msk_hi], Rw, w=w[msk_hi]))"
   ]
  },
  {
   "cell_type": "code",
   "execution_count": null,
   "id": "d9825dc2",
   "metadata": {},
   "outputs": [],
   "source": []
  },
  {
   "cell_type": "code",
   "execution_count": null,
   "id": "ecdfd876",
   "metadata": {},
   "outputs": [],
   "source": []
  },
  {
   "cell_type": "code",
   "execution_count": null,
   "id": "870ef2ec",
   "metadata": {},
   "outputs": [],
   "source": []
  },
  {
   "cell_type": "code",
   "execution_count": null,
   "id": "a8d979ba",
   "metadata": {},
   "outputs": [],
   "source": []
  },
  {
   "cell_type": "code",
   "execution_count": null,
   "id": "83117c5b",
   "metadata": {},
   "outputs": [],
   "source": [
    "msk_all = des_y6utils.mdet.make_mdet_cuts(d_all, \"2\")\n",
    "\n",
    "d_all = d_all[msk_all]"
   ]
  },
  {
   "cell_type": "code",
   "execution_count": null,
   "id": "cb4cfdde",
   "metadata": {},
   "outputs": [],
   "source": [
    "msk = d_all[\"mdet_step\"] == \"noshear\"\n",
    "\n",
    "d = d_all[msk]"
   ]
  },
  {
   "cell_type": "code",
   "execution_count": null,
   "id": "5f151e29",
   "metadata": {},
   "outputs": [],
   "source": [
    "w_all = prior.get_prob_array2d(d_all[\"wmom_g_1\"], d_all[\"wmom_g_2\"])\n",
    "Rw = _compute_r(d_all, w=w_all)\n",
    "R = _compute_r(d_all, w=None)\n",
    "print(R, Rw)"
   ]
  },
  {
   "cell_type": "code",
   "execution_count": null,
   "id": "46599fb7",
   "metadata": {},
   "outputs": [],
   "source": [
    "msk_low = (\n",
    "    (d[\"wmom_T_ratio\"] < 1.3)\n",
    "    & (d[\"wmom_s2n\"] > 100)\n",
    ")\n",
    "\n",
    "msk_hi = (\n",
    "    (d[\"wmom_T_ratio\"] > 1.5)\n",
    "    & (d[\"wmom_s2n\"] < 30)\n",
    ")\n",
    "\n",
    "w = prior.get_prob_array2d(d[\"wmom_g_1\"], d[\"wmom_g_2\"])"
   ]
  },
  {
   "cell_type": "code",
   "execution_count": null,
   "id": "2a60ba69",
   "metadata": {},
   "outputs": [],
   "source": [
    "prec = prec_h12(d[\"wmom_g_1\"], R)\n",
    "prec_w = prec_h12(d[\"wmom_g_1\"], Rw, w=w)"
   ]
  },
  {
   "cell_type": "code",
   "execution_count": null,
   "id": "001b35e0",
   "metadata": {},
   "outputs": [],
   "source": [
    "print(prec, prec_w, prec/prec_w)"
   ]
  },
  {
   "cell_type": "code",
   "execution_count": null,
   "id": "88d8a323",
   "metadata": {},
   "outputs": [],
   "source": [
    "print(sn_h12(d[\"wmom_g_1\"])/R, sn_h12(d[\"wmom_g_1\"], w=w)/Rw)"
   ]
  },
  {
   "cell_type": "code",
   "execution_count": null,
   "id": "f48b52fe",
   "metadata": {},
   "outputs": [],
   "source": [
    "msks2n = d[\"wmom_s2n\"] > 10*np.sqrt(6/4)"
   ]
  },
  {
   "cell_type": "code",
   "execution_count": null,
   "id": "7514e249",
   "metadata": {},
   "outputs": [],
   "source": [
    "print(sn_h12(d[\"wmom_g_1\"][msks2n])/R, sn_h12(d[\"wmom_g_1\"][msks2n], w=w[msks2n])/Rw)"
   ]
  },
  {
   "cell_type": "code",
   "execution_count": null,
   "id": "0a88d0a1",
   "metadata": {},
   "outputs": [],
   "source": [
    "0.35/0.33"
   ]
  },
  {
   "cell_type": "code",
   "execution_count": null,
   "id": "7a6ff519",
   "metadata": {},
   "outputs": [],
   "source": [
    "np.sqrt(0.35**2 - 0.261**2)"
   ]
  },
  {
   "cell_type": "code",
   "execution_count": null,
   "id": "e6604652",
   "metadata": {},
   "outputs": [],
   "source": [
    "ms = np.sum(w * d[\"wmom_g_1\"])/np.sum(w)"
   ]
  },
  {
   "cell_type": "code",
   "execution_count": null,
   "id": "9beb5a62",
   "metadata": {},
   "outputs": [],
   "source": [
    "g1 = d[\"wmom_g_1\"] - ms"
   ]
  },
  {
   "cell_type": "code",
   "execution_count": null,
   "id": "d560abc0",
   "metadata": {},
   "outputs": [],
   "source": [
    "sn_h12(g1, w=w)/Rw"
   ]
  },
  {
   "cell_type": "code",
   "execution_count": null,
   "id": "6d4935ac",
   "metadata": {},
   "outputs": [],
   "source": [
    "fig, axs = pplt.subplots(nrows=1, ncols=2, share=0)\n",
    "\n",
    "axs[0].hist(d[\"wmom_g_1\"][msk_hi], bins=25, density=True, log=True)\n",
    "axs[1].hist(d[\"wmom_g_1\"][msk_low], bins=25, density=True, log=True)"
   ]
  },
  {
   "cell_type": "code",
   "execution_count": null,
   "id": "1172ea16",
   "metadata": {},
   "outputs": [],
   "source": [
    "w = prior.get_prob_array2d(d[\"wmom_g_1\"], d[\"wmom_g_2\"])\n",
    "\n",
    "fig, axs = pplt.subplots(nrows=1, ncols=1, share=0)\n",
    "\n",
    "axs[0].hist(d[\"wmom_g_1\"], bins=50, density=True, log=True, color=\"b\")\n",
    "# axs[0].hist(d[\"wmom_g_1\"], bins=50, density=True, log=True, alpha=0.5, color=\"r\", weights=w)"
   ]
  },
  {
   "cell_type": "code",
   "execution_count": null,
   "id": "6e6dfc97",
   "metadata": {},
   "outputs": [],
   "source": [
    "np.std?"
   ]
  },
  {
   "cell_type": "code",
   "execution_count": null,
   "id": "0f57af4b",
   "metadata": {},
   "outputs": [],
   "source": [
    "prior = ngmix.priors.GPriorBA(0.3, np.random.default_rng())"
   ]
  },
  {
   "cell_type": "code",
   "execution_count": null,
   "id": "192e6284",
   "metadata": {},
   "outputs": [],
   "source": []
  }
 ],
 "metadata": {
  "kernelspec": {
   "display_name": "Python [conda env:desy6]",
   "language": "python",
   "name": "conda-env-desy6-py"
  },
  "language_info": {
   "codemirror_mode": {
    "name": "ipython",
    "version": 3
   },
   "file_extension": ".py",
   "mimetype": "text/x-python",
   "name": "python",
   "nbconvert_exporter": "python",
   "pygments_lexer": "ipython3",
   "version": "3.8.12"
  }
 },
 "nbformat": 4,
 "nbformat_minor": 5
}
