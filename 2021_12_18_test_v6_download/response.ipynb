{
 "cells": [
  {
   "cell_type": "code",
   "execution_count": null,
   "id": "75f908df",
   "metadata": {},
   "outputs": [],
   "source": [
    "import glob\n",
    "import fitsio\n",
    "import numpy as np"
   ]
  },
  {
   "cell_type": "code",
   "execution_count": null,
   "id": "5c8e0c44",
   "metadata": {},
   "outputs": [],
   "source": [
    "fnames = glob.glob(\"data/**/*_metadetect.*\", recursive=True)"
   ]
  },
  {
   "cell_type": "code",
   "execution_count": null,
   "id": "f21e8187",
   "metadata": {},
   "outputs": [],
   "source": [
    "print(len(fnames))"
   ]
  },
  {
   "cell_type": "code",
   "execution_count": null,
   "id": "62a0e29c",
   "metadata": {},
   "outputs": [],
   "source": [
    "def _compute_resp(d):\n",
    "    msk = (\n",
    "        (d[\"flags\"] == 0)\n",
    "        & (d[\"mask_flags\"] == 0)\n",
    "        & (d[\"mdet_s2n\"] > 10) \n",
    "        & (d[\"mdet_T_ratio\"] > 1.2)\n",
    "        & (d[\"mfrac\"] < 0.1)\n",
    "    )\n",
    "    \n",
    "    msk_1p = msk & (d[\"mdet_step\"] == \"1p\")\n",
    "    g1p = np.mean(d[\"mdet_g\"][msk_1p, 0])\n",
    "\n",
    "    msk_1m = msk & (d[\"mdet_step\"] == \"1m\")\n",
    "    g1m = np.mean(d[\"mdet_g\"][msk_1m, 0])\n",
    "    \n",
    "    return (g1p - g1m) / 0.02\n",
    "\n",
    "for fname in fnames:\n",
    "    d = fitsio.read(fname)\n",
    "    print(_compute_sums(d))"
   ]
  },
  {
   "cell_type": "code",
   "execution_count": null,
   "id": "265a98aa",
   "metadata": {},
   "outputs": [],
   "source": []
  }
 ],
 "metadata": {
  "kernelspec": {
   "display_name": "Python [conda env:desy6]",
   "language": "python",
   "name": "conda-env-desy6-py"
  },
  "language_info": {
   "codemirror_mode": {
    "name": "ipython",
    "version": 3
   },
   "file_extension": ".py",
   "mimetype": "text/x-python",
   "name": "python",
   "nbconvert_exporter": "python",
   "pygments_lexer": "ipython3",
   "version": "3.9.7"
  }
 },
 "nbformat": 4,
 "nbformat_minor": 5
}
