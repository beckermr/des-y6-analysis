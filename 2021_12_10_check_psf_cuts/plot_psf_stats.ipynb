{
 "cells": [
  {
   "cell_type": "code",
   "execution_count": null,
   "id": "704e91e5",
   "metadata": {},
   "outputs": [],
   "source": [
    "import fitsio\n",
    "import proplot as pplt\n",
    "import numpy as np"
   ]
  },
  {
   "cell_type": "code",
   "execution_count": null,
   "id": "2e002c7c",
   "metadata": {},
   "outputs": [],
   "source": [
    "dall = fitsio.read(\"psf_stats.fits\", lower=True)\n",
    "dall.dtype.names"
   ]
  },
  {
   "cell_type": "code",
   "execution_count": null,
   "id": "234fb54c",
   "metadata": {},
   "outputs": [],
   "source": [
    "d = dall[(dall[\"flag\"] == 0) & (d[\"nstar\"] >= 30)]"
   ]
  },
  {
   "cell_type": "code",
   "execution_count": null,
   "id": "fe2fc48c",
   "metadata": {},
   "outputs": [],
   "source": [
    "fig, axs = pplt.subplots(nrows=1, ncols=2, share=0)\n",
    "\n",
    "ax = axs[0]\n",
    "ax.hist(\n",
    "    np.abs(d[\"star_t_mean\"] - d[\"exp_star_t_mean\"])/d[\"exp_star_t_std\"],\n",
    "    bins=50,\n",
    "    log=True\n",
    ");\n",
    "ax.set_xlabel(\"|T-Mean(Texp)|/Std(Texp)\")\n",
    "ax.axvline(4, color=\"k\")\n",
    "frac = np.mean(np.abs(d[\"star_t_mean\"] - d[\"exp_star_t_mean\"])/d[\"exp_star_t_std\"] > 4)\n",
    "print(\"exposure cut:\", frac)\n",
    "ax.set_title(\"cut: %0.3f%%\" % (frac*100))\n",
    "\n",
    "# ax = axs[1]\n",
    "# ax.hist(\n",
    "#     d[\"nstar\"],\n",
    "#     bins=50,\n",
    "#     log=True\n",
    "# );\n",
    "# print(\"nstar cut:\", np.mean(d[\"nstar\"] < 30))\n",
    "\n",
    "ax = axs[1]\n",
    "ax.hist(\n",
    "    d[\"star_t_std\"]/d[\"star_t_mean\"],\n",
    "    bins=50,\n",
    "    log=True\n",
    ");\n",
    "frac = np.mean(d[\"star_t_std\"]/d[\"star_t_mean\"] >= 0.3)\n",
    "print(\"star T cut:\", frac)\n",
    "ax.set_xlabel(\"Std(T)/Mean(T)\")\n",
    "ax.axvline(0.3, color=\"k\")\n",
    "ax.set_title(\"cut: %0.3f%%\" % (frac*100))"
   ]
  },
  {
   "cell_type": "code",
   "execution_count": null,
   "id": "d562be99",
   "metadata": {},
   "outputs": [],
   "source": []
  }
 ],
 "metadata": {
  "kernelspec": {
   "display_name": "Python [conda env:desy6]",
   "language": "python",
   "name": "conda-env-desy6-py"
  },
  "language_info": {
   "codemirror_mode": {
    "name": "ipython",
    "version": 3
   },
   "file_extension": ".py",
   "mimetype": "text/x-python",
   "name": "python",
   "nbconvert_exporter": "python",
   "pygments_lexer": "ipython3",
   "version": "3.8.12"
  }
 },
 "nbformat": 4,
 "nbformat_minor": 5
}
