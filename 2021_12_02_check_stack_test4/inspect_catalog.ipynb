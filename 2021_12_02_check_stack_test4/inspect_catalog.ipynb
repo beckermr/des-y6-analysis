{
 "cells": [
  {
   "cell_type": "code",
   "execution_count": null,
   "id": "c28ea79c",
   "metadata": {},
   "outputs": [],
   "source": [
    "import numpy as np\n",
    "import proplot as pplt\n",
    "import fitsio"
   ]
  },
  {
   "cell_type": "code",
   "execution_count": null,
   "id": "b73dfe4a",
   "metadata": {},
   "outputs": [],
   "source": [
    "d = fitsio.read(\"DES0221-0750_metadetect-v5_mdetcat_range0010-0199.fits.fz\")"
   ]
  },
  {
   "cell_type": "code",
   "execution_count": null,
   "id": "496ec4d5",
   "metadata": {},
   "outputs": [],
   "source": [
    "d.shape"
   ]
  },
  {
   "cell_type": "code",
   "execution_count": null,
   "id": "eb60f9c9",
   "metadata": {},
   "outputs": [],
   "source": [
    "fig, axs = pplt.subplots(figsize=(6, 6))\n",
    "\n",
    "msk = d[\"mask_flags\"] != 0\n",
    "axs.plot(d[\"x\"][msk], d[\"y\"][msk], \".r\")\n",
    "\n",
    "msk = d[\"mask_flags\"] == 0\n",
    "axs.plot(d[\"x\"][msk], d[\"y\"][msk], \".b\")"
   ]
  },
  {
   "cell_type": "code",
   "execution_count": null,
   "id": "d8250aff",
   "metadata": {},
   "outputs": [],
   "source": [
    "fig, axs = pplt.subplots(figsize=(6, 6))\n",
    "\n",
    "msk = d[\"mask_flags_det\"] != 0\n",
    "axs.plot(d[\"x_det\"][msk], d[\"y_det\"][msk], \".r\")\n",
    "\n",
    "msk = d[\"mask_flags_det\"] == 0\n",
    "axs.plot(d[\"x_det\"][msk], d[\"y_det\"][msk], \".b\")"
   ]
  },
  {
   "cell_type": "code",
   "execution_count": null,
   "id": "37a2266a",
   "metadata": {},
   "outputs": [],
   "source": [
    "msk = (\n",
    "    (d[\"mask_flags\"] == 0) \n",
    "    & (d[\"flags\"] == 0)\n",
    "    & (d[\"mdet_s2n\"] >= 10)\n",
    ")\n",
    "np.all(np.isfinite(d[\"mdet_g_2\"][msk]))"
   ]
  },
  {
   "cell_type": "code",
   "execution_count": null,
   "id": "1f0d9d69",
   "metadata": {},
   "outputs": [],
   "source": [
    "fig, axs = pplt.subplots()\n",
    "axs.hist(d[\"mfrac_det\"][msk], bins=50, log=True);"
   ]
  },
  {
   "cell_type": "code",
   "execution_count": null,
   "id": "1c3a5c48",
   "metadata": {},
   "outputs": [],
   "source": []
  }
 ],
 "metadata": {
  "kernelspec": {
   "display_name": "Python [conda env:desy6]",
   "language": "python",
   "name": "conda-env-desy6-py"
  },
  "language_info": {
   "codemirror_mode": {
    "name": "ipython",
    "version": 3
   },
   "file_extension": ".py",
   "mimetype": "text/x-python",
   "name": "python",
   "nbconvert_exporter": "python",
   "pygments_lexer": "ipython3",
   "version": "3.9.7"
  }
 },
 "nbformat": 4,
 "nbformat_minor": 5
}
