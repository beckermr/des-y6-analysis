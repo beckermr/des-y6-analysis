{
 "cells": [
  {
   "cell_type": "code",
   "execution_count": null,
   "metadata": {},
   "outputs": [],
   "source": [
    "import numpy as np\n",
    "import meds"
   ]
  },
  {
   "cell_type": "code",
   "execution_count": null,
   "metadata": {},
   "outputs": [],
   "source": [
    "import matplotlib.pyplot as plt\n",
    "import seaborn as sns\n",
    "\n",
    "%matplotlib notebook\n",
    "\n",
    "sns.set()"
   ]
  },
  {
   "cell_type": "code",
   "execution_count": null,
   "metadata": {},
   "outputs": [],
   "source": [
    "tilename = \"DES0124-3332\"\n",
    "pizza_name = \"/Users/beckermr/Downloads/DES0124-3332_r5191p01_r_pizza-cutter-slices.fits.fz\"\n",
    "stamp_name = \"/Users/beckermr/Downloads/DES0124-3332_r4907p01_r_meds-Y6A1.fits.fz\"\n",
    "m = meds.MEDS(pizza_name)\n",
    "mobj = meds.MEDS(stamp_name)"
   ]
  },
  {
   "cell_type": "code",
   "execution_count": null,
   "metadata": {},
   "outputs": [],
   "source": [
    "print(m._fits.hdu_map[\"metadata\"].read()[\"config\"][0])"
   ]
  },
  {
   "cell_type": "code",
   "execution_count": null,
   "metadata": {},
   "outputs": [],
   "source": [
    "plt.figure(figsize=(8, 8))\n",
    "\n",
    "q = np.where(m['ra'] > 180.0)\n",
    "m['ra'][q] = m['ra'][q] - 360.0\n",
    "\n",
    "plt.plot(m['ra'], m['dec'], '.')\n",
    "plt.xlabel('ra [deg]')\n",
    "plt.ylabel('ra [deg]')"
   ]
  },
  {
   "cell_type": "code",
   "execution_count": null,
   "metadata": {},
   "outputs": [],
   "source": [
    "istart = 2000\n",
    "ncut = 5\n",
    "fig, axs = plt.subplots(nrows=5, ncols=5, figsize=(8, 8), sharex='col', sharey='col')\n",
    "# typ = 'image' # 'weight', 'seg', 'bmask', 'ormask', 'noise' or 'psf'.\n",
    "\n",
    "psfs = []\n",
    "for i, ind in enumerate(range(istart, istart+ncut)):\n",
    "    for j, typ in enumerate([\"image\", \"noise\", \"bmask\", \"ormask\", \"psf\"]):\n",
    "        ax = axs[i, j]\n",
    "        im = m.get_cutout(ind, 0, type=typ)\n",
    "        if typ == \"psf\":\n",
    "            im = im[13:-13, 13:-13]\n",
    "\n",
    "        ax.imshow(np.arcsinh(im))\n",
    "        ax.grid(False)\n",
    "        ax.xaxis.set_visible(False)\n",
    "        if typ == \"psf\":\n",
    "            psfs.append(im)\n",
    "            \n",
    "        if typ == \"image\":\n",
    "            ax.set_ylabel(\"nepoch: %d\" % m[\"nepoch\"][ind])\n",
    "            ax.set_yticks([])\n",
    "        else:\n",
    "            ax.yaxis.set_visible(False)\n",
    "\n",
    "        if i == 0:\n",
    "            ax.set_title(typ)\n",
    "\n",
    "plt.tight_layout()\n",
    "plt.subplots_adjust(wspace=0, hspace=0)\n",
    "plt.savefig(\"pizza.png\")"
   ]
  },
  {
   "cell_type": "code",
   "execution_count": null,
   "metadata": {},
   "outputs": [],
   "source": [
    "plt.figure()\n",
    "\n",
    "msk = m[\"nepoch\"] > 0\n",
    "sns.distplot(np.array(m[\"nepoch\"][msk], dtype=\"<f8\"), kde=False)\n",
    "ax = plt.gca()\n",
    "ax.set_xlabel(\"# of epochs\")\n",
    "ax.set_title(\"%s r-band - median = %d\" % (tilename, np.median(m[\"nepoch\"][msk])))\n",
    "plt.savefig(\"nepochs.png\")"
   ]
  },
  {
   "cell_type": "markdown",
   "metadata": {},
   "source": [
    "## go object by object"
   ]
  },
  {
   "cell_type": "code",
   "execution_count": null,
   "metadata": {},
   "outputs": [],
   "source": [
    "def _convert_to_index(row, col, dbox=100, edge=50):\n",
    "    xind = (col.astype(int) - edge)//dbox\n",
    "    yind = (row.astype(int) - edge)//dbox\n",
    "    return xind + 99*yind\n",
    "\n",
    "assert np.array_equal(_convert_to_index(m[\"orig_row\"][:, 0], m[\"orig_col\"][:, 0]), np.arange(len(m[\"orig_col\"][:, 0]), dtype=int))"
   ]
  },
  {
   "cell_type": "code",
   "execution_count": null,
   "metadata": {},
   "outputs": [],
   "source": [
    "pizza_inds = _convert_to_index(mobj[\"orig_row\"][:, 0], mobj[\"orig_col\"][:, 0])"
   ]
  },
  {
   "cell_type": "code",
   "execution_count": null,
   "metadata": {},
   "outputs": [],
   "source": [
    "from meds.defaults import BMASK_EDGE\n",
    "import tqdm\n",
    "\n",
    "dnepoch = []\n",
    "nepoch = []\n",
    "for obj_ind, pizza_ind in tqdm.tqdm(enumerate(pizza_inds), total=len(pizza_inds)):\n",
    "    if pizza_ind < 0 or pizza_ind >= 9801 or m[\"nepoch\"][pizza_ind] <= 0:\n",
    "        continue\n",
    "    \n",
    "    nepoch_obj = 0\n",
    "    for msk_ind in range(1, mobj[\"ncutout\"][obj_ind]):\n",
    "        msk = mobj.get_cutout(obj_ind, msk_ind, type=\"bmask\")\n",
    "        if not np.any(msk & BMASK_EDGE):\n",
    "            nepoch_obj += 1\n",
    "    dnepoch.append(m[\"nepoch\"][pizza_ind] - nepoch_obj)\n",
    "    nepoch.append(nepoch_obj)"
   ]
  },
  {
   "cell_type": "code",
   "execution_count": null,
   "metadata": {},
   "outputs": [],
   "source": [
    "plt.figure(figsize=(8, 6))\n",
    "sns.distplot(\n",
    "    np.array(dnepoch) + np.array(nepoch), \n",
    "    kde=False, \n",
    "    label=\"pizza slices: %d\" % np.median(np.array(dnepoch) + np.array(nepoch))\n",
    ")\n",
    "sns.distplot(\n",
    "    nepoch, \n",
    "    kde=False, \n",
    "    label=\"stamps: %d\" % np.median(nepoch)\n",
    ")\n",
    "sns.distplot(\n",
    "    -np.array(dnepoch), \n",
    "    kde=False, \n",
    "    label=\"stamps - pizza slices: %d\" % (-np.median(dnepoch))\n",
    ")\n",
    "\n",
    "plt.legend()\n",
    "plt.xlabel(\"# of epochs\")\n",
    "plt.savefig(\"ouch.png\")\n",
    "plt.title(tilename)"
   ]
  },
  {
   "cell_type": "code",
   "execution_count": null,
   "metadata": {},
   "outputs": [],
   "source": [
    "import fitsio"
   ]
  },
  {
   "cell_type": "code",
   "execution_count": null,
   "metadata": {},
   "outputs": [],
   "source": [
    "d = fitsio.read(\"hdata.fits\")"
   ]
  },
  {
   "cell_type": "code",
   "execution_count": null,
   "metadata": {},
   "outputs": [],
   "source": [
    "def _histogram_median(h, bin_edges):\n",
    "    cuml = np.cumsum(h)\n",
    "    tot = np.sum(h)\n",
    "    mind = np.digitize(int(tot/2), cuml)\n",
    "    bw = bin_edges[mind+1] - bin_edges[mind]\n",
    "    return bin_edges[mind] + bw/2\n",
    "\n",
    "\n",
    "sns.set_palette(\"colorblind\")\n",
    "sns.set_style(\"ticks\")\n",
    "sns.set_context(\"paper\")\n",
    "\n",
    "fig, axs = plt.subplots(nrows=5, ncols=1, figsize=(6, 8))\n",
    "\n",
    "bloc = d[\"bin\"][0]\n",
    "msk = (bloc >= 0) & (bloc < 15)\n",
    "nmsk = (-bloc >= 0) & (-bloc < 15)\n",
    "\n",
    "bem = list(d[\"bin\"][0][msk]-0.5) + [d[\"bin\"][0][msk][-1]+0.5]\n",
    "benm = list(-d[\"bin\"][0][nmsk][::-1]-0.5) + [-d[\"bin\"][0][nmsk][::-1][-1]+0.5]\n",
    "\n",
    "for i, band in enumerate(list(\"grizY\")):\n",
    "    bmask = d[\"band\"] == band\n",
    "    ax = axs[i]\n",
    "    res = ax.hist(\n",
    "        bloc[msk], \n",
    "        weights=np.sum(d[\"pizza\"][bmask][:, msk], axis=0)/np.sum(d[\"pizza\"][bmask][:, msk]), \n",
    "        bins=bem,\n",
    "        label=\"pizza slices: %d\" % _histogram_median(np.sum(d[\"pizza\"][bmask][:, msk], axis=0), bem),\n",
    "        alpha=0.5,\n",
    "    )\n",
    "    ax.hist(\n",
    "        bloc[msk], \n",
    "        weights=np.sum(d[\"stamp\"][bmask][:, msk], axis=0)/np.sum(d[\"stamp\"][bmask][:, msk]), \n",
    "        bins=bem,\n",
    "        label=\"stamps: %d\" % _histogram_median(np.sum(d[\"stamp\"][bmask][:, msk], axis=0), bem),\n",
    "        alpha=0.5,\n",
    "    )\n",
    "    ax.hist(\n",
    "        -bloc[nmsk], \n",
    "        weights=np.sum(d[\"diff\"][bmask][:, nmsk], axis=0)/np.sum(d[\"diff\"][bmask][:, nmsk]), \n",
    "        bins=benm,\n",
    "        label=\"diff: %d\" % _histogram_median(np.sum(d[\"diff\"][bmask][:, nmsk], axis=0)[::-1], benm),\n",
    "        alpha=0.5,\n",
    "    )\n",
    "    ax.legend(frameon=False)\n",
    "    ax.set_xticks(bloc[msk])\n",
    "    ax.set_xticklabels([\"%d\" % b for b in bloc[msk]])\n",
    "    ax.set_xlim(-0.5, bloc[msk].max()+0.5)\n",
    "    if i == 4:\n",
    "        ax.set_xlabel(\"# of images\")\n",
    "    ax.set_ylabel(\"%s band frac.\" % band)\n",
    "        \n",
    "fig.tight_layout()\n",
    "\n",
    "sns.despine()\n",
    "plt.savefig(\"pizza_vs_stamps.pdf\")"
   ]
  },
  {
   "cell_type": "code",
   "execution_count": null,
   "metadata": {},
   "outputs": [],
   "source": [
    "# compute std\n",
    "bloc = d[\"bin\"][0]\n",
    "msk = (bloc >= 0) & (bloc < 15)\n",
    "bem = list(d[\"bin\"][0][msk]-0.5) + [d[\"bin\"][0][msk][-1]+0.5]"
   ]
  },
  {
   "cell_type": "code",
   "execution_count": null,
   "metadata": {},
   "outputs": [],
   "source": [
    "bcen = d[\"bin\"][0][msk]"
   ]
  },
  {
   "cell_type": "code",
   "execution_count": null,
   "metadata": {},
   "outputs": [],
   "source": [
    "bloc = d[\"bin\"][0]\n",
    "msk = (bloc >= 0) & (bloc < 15)\n",
    "bem = list(d[\"bin\"][0][msk]-0.5) + [d[\"bin\"][0][msk][-1]+0.5]\n",
    "\n",
    "def _print_stats(name, band):\n",
    "    dmsk = d[\"band\"] == band\n",
    "    ht = np.sum(d[dmsk][name], axis=0)[msk]\n",
    "    mn = np.sum(bcen * ht) / np.sum(ht)\n",
    "    std = np.sqrt(np.sum((bcen-mn)**2 * ht) / np.sum(ht))\n",
    "    print(band, name, mn, std)\n",
    "    \n",
    "for band in [\"g\", \"r\", \"i\", \"z\", \"Y\"]:\n",
    "    _print_stats(\"pizza\", band)\n",
    "    _print_stats(\"stamp\", band)"
   ]
  },
  {
   "cell_type": "code",
   "execution_count": null,
   "metadata": {},
   "outputs": [],
   "source": []
  },
  {
   "cell_type": "code",
   "execution_count": null,
   "metadata": {},
   "outputs": [],
   "source": []
  },
  {
   "cell_type": "code",
   "execution_count": null,
   "metadata": {},
   "outputs": [],
   "source": []
  },
  {
   "cell_type": "code",
   "execution_count": null,
   "metadata": {},
   "outputs": [],
   "source": [
    "msk = d[\"bin\"][0] < -2\n",
    "bmsk = (d[\"band\"] == \"r\") | (d[\"band\"] == \"i\") | (d[\"band\"] == \"z\")\n",
    "np.sum(d[\"diff\"][bmsk][:, msk])/np.sum(d[\"diff\"][bmsk])"
   ]
  },
  {
   "cell_type": "code",
   "execution_count": null,
   "metadata": {},
   "outputs": [],
   "source": [
    "h = np.sum(d[\"diff\"][bmask][:, nmsk], axis=0)[::-1]\n",
    "cuml = np.cumsum(h)\n",
    "tot = np.sum(h)"
   ]
  },
  {
   "cell_type": "code",
   "execution_count": null,
   "metadata": {},
   "outputs": [],
   "source": [
    "benm[np.digitize(int(tot/2), cuml)]"
   ]
  },
  {
   "cell_type": "code",
   "execution_count": null,
   "metadata": {},
   "outputs": [],
   "source": [
    "np.sum(d[\"diff\"][bmask][:, nmsk], axis=0)[::-1]"
   ]
  },
  {
   "cell_type": "code",
   "execution_count": null,
   "metadata": {},
   "outputs": [],
   "source": [
    "benm"
   ]
  },
  {
   "cell_type": "code",
   "execution_count": null,
   "metadata": {},
   "outputs": [],
   "source": [
    "np.digitize?"
   ]
  },
  {
   "cell_type": "code",
   "execution_count": null,
   "metadata": {},
   "outputs": [],
   "source": [
    "ax.legend?"
   ]
  },
  {
   "cell_type": "code",
   "execution_count": null,
   "metadata": {},
   "outputs": [],
   "source": []
  }
 ],
 "metadata": {
  "kernelspec": {
   "display_name": "Python [conda env:desy6] *",
   "language": "python",
   "name": "conda-env-desy6-py"
  },
  "language_info": {
   "codemirror_mode": {
    "name": "ipython",
    "version": 3
   },
   "file_extension": ".py",
   "mimetype": "text/x-python",
   "name": "python",
   "nbconvert_exporter": "python",
   "pygments_lexer": "ipython3",
   "version": "3.8.10"
  }
 },
 "nbformat": 4,
 "nbformat_minor": 4
}
