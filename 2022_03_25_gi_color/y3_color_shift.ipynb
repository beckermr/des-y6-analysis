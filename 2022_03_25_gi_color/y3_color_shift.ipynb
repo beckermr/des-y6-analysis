{
 "cells": [
  {
   "cell_type": "code",
   "execution_count": 29,
   "id": "6f961abc-07e6-466a-a6d3-2ff943ce6117",
   "metadata": {},
   "outputs": [],
   "source": [
    "import h5py\n",
    "import numpy as np\n",
    "import fitsio"
   ]
  },
  {
   "cell_type": "code",
   "execution_count": 76,
   "id": "43cd99f8-0664-4bec-8233-0ec1d5623492",
   "metadata": {},
   "outputs": [
    {
     "name": "stdout",
     "output_type": "stream",
     "text": [
      "[0.0423873  0.11593369 0.38744974 0.45422926]\n"
     ]
    }
   ],
   "source": [
    "covmat = fitsio.read(\"2pt_NG_final_2ptunblind_02_26_21_wnz_maglim_covupdate.fits\", ext=\"COVMAT\")\n",
    "covmat = covmat[:400, :400]\n",
    "\n",
    "xip = fitsio.read(\"2pt_NG_final_2ptunblind_02_26_21_wnz_maglim_covupdate.fits\", ext=\"xip\")\n",
    "xim = fitsio.read(\"2pt_NG_final_2ptunblind_02_26_21_wnz_maglim_covupdate.fits\", ext=\"xim\")\n",
    "\n",
    "def extract_cov(covmat, msk):\n",
    "    dim = np.sum(msk)\n",
    "    ncov = np.zeros((dim, dim), dtype=\"f8\")\n",
    "    for ni, i in enumerate(np.where(msk)[0]):\n",
    "        for nj, j in enumerate(np.where(msk)[0]):\n",
    "            ncov[ni, nj] = covmat[i, j]\n",
    "    return ncov\n",
    "\n",
    "\n",
    "wgts = []\n",
    "for i in [1, 2, 3, 4]:\n",
    "    msk = np.concatenate([\n",
    "        (xip[\"BIN1\"] == i) & (xip[\"BIN2\"] == i),\n",
    "        (xim[\"BIN1\"] == i) & (xim[\"BIN2\"] == i),\n",
    "    ], axis=0)\n",
    "\n",
    "    inv_covmat = np.linalg.inv(extract_cov(covmat, msk))\n",
    "\n",
    "    dv = np.concatenate([\n",
    "        xip[(xip[\"BIN1\"] == i) & (xip[\"BIN2\"] == i)][\"VALUE\"],\n",
    "        xim[(xim[\"BIN1\"] == i) & (xim[\"BIN2\"] == i)][\"VALUE\"],\n",
    "    ], axis=0)\n",
    "    \n",
    "    wgts.append(np.dot(dv, np.dot(inv_covmat, dv)))\n",
    "    \n",
    "wgts = np.array(wgts)\n",
    "wgts /= np.sum(wgts)\n",
    "print(wgts)"
   ]
  },
  {
   "cell_type": "code",
   "execution_count": 2,
   "id": "3cd07942-d78e-44a1-b24d-f024fb6743dc",
   "metadata": {},
   "outputs": [],
   "source": [
    "f = h5py.File('/project/projectdirs/des/www/y3_cats/Y3_mastercat___UNBLIND___final_v1.0_DO_NOT_USE.h5', mode='r')"
   ]
  },
  {
   "cell_type": "code",
   "execution_count": 80,
   "id": "e7180655-bcc5-4004-a1a3-7875a8e32f49",
   "metadata": {},
   "outputs": [],
   "source": [
    "amag_g = f[\"catalog/gold/mag_auto_g\"][:]\n",
    "amag_i = f[\"catalog/gold/mag_auto_i\"][:]\n",
    "mag_g = f[\"catalog/gold/sof_cm_mag_corrected_g\"][:]\n",
    "mag_i = f[\"catalog/gold/sof_cm_mag_corrected_i\"][:]\n",
    "gmi = mag_g - mag_i\n",
    "agmi = amag_g - amag_i\n",
    "\n",
    "mag_z = f[\"catalog/gold/sof_cm_mag_corrected_z\"][:]\n",
    "imz = mag_i - mag_z"
   ]
  },
  {
   "cell_type": "code",
   "execution_count": 83,
   "id": "0aac203b-08e2-46b5-a788-b43bceea6702",
   "metadata": {},
   "outputs": [
    {
     "name": "stdout",
     "output_type": "stream",
     "text": [
      "  all: 1.4142729295407583 1.2464192139299684 1.984526571381404 1.3205280303955078\n",
      "_bin1: 0.9909833938539456 0.9506278593561817 1.0467711622347917 1.0131816864013672\n",
      "_bin2: 1.3773552537688294 1.2992486401485372 1.444433394599058 1.3850364685058594\n",
      "_bin3: 1.720342822816316 1.531531922184758 2.197417569699361 1.6174983978271484\n",
      "_bin4: 1.5685767511916027 1.2908023827086943 3.2496097392493795 1.37750244140625\n"
     ]
    }
   ],
   "source": [
    "vals = []\n",
    "nums = []\n",
    "iz_vals = []\n",
    "for t in ['','_bin1','_bin2','_bin3','_bin4']:\n",
    "    mask = f['index/select' + t][:]\n",
    "    print(t + \":\" if t != '' else '  all' + \":\", np.mean(gmi[mask]), np.median(gmi[mask]), np.mean(agmi[mask]), np.median(agmi[mask]))\n",
    "    if t != \"\":\n",
    "        vals.append(np.mean(gmi[mask]))\n",
    "        nums.append(np.sum(mask))\n",
    "        iz_vals.append(np.mean(imz[mask]))\n",
    "\n",
    "vals = np.array(vals)\n",
    "nums = np.array(nums)\n",
    "iz_vals = np.array(iz_vals)"
   ]
  },
  {
   "cell_type": "code",
   "execution_count": 84,
   "id": "d4ef0dc6-9660-49ff-9d05-3b519c572c17",
   "metadata": {},
   "outputs": [
    {
     "data": {
      "text/plain": [
       "((1.5800720362863738, 1.4143438777333979), 0.16572815855297596)"
      ]
     },
     "execution_count": 84,
     "metadata": {},
     "output_type": "execute_result"
    }
   ],
   "source": [
    "c = np.sum(vals * nums * wgts) / np.sum(nums * wgts), np.sum(vals * nums) / np.sum(nums)\n",
    "c, c[0] - c[1]"
   ]
  },
  {
   "cell_type": "code",
   "execution_count": 85,
   "id": "c67947c3-f4c7-4871-85e6-8ed8a48800a6",
   "metadata": {},
   "outputs": [
    {
     "data": {
      "text/plain": [
       "((0.36838359619743444, 0.2887834729007413), 0.07960012329669314)"
      ]
     },
     "execution_count": 85,
     "metadata": {},
     "output_type": "execute_result"
    }
   ],
   "source": [
    "c = np.sum(iz_vals * nums * wgts) / np.sum(nums * wgts), np.sum(iz_vals * nums) / np.sum(nums)\n",
    "c, c[0] - c[1]"
   ]
  },
  {
   "cell_type": "code",
   "execution_count": null,
   "id": "83ff354f-bb37-4195-a38d-8073101d8da7",
   "metadata": {},
   "outputs": [],
   "source": []
  }
 ],
 "metadata": {
  "kernelspec": {
   "display_name": "MattPy3",
   "language": "python",
   "name": "mattpy3"
  },
  "language_info": {
   "codemirror_mode": {
    "name": "ipython",
    "version": 3
   },
   "file_extension": ".py",
   "mimetype": "text/x-python",
   "name": "python",
   "nbconvert_exporter": "python",
   "pygments_lexer": "ipython3",
   "version": "3.7.8"
  }
 },
 "nbformat": 4,
 "nbformat_minor": 5
}
