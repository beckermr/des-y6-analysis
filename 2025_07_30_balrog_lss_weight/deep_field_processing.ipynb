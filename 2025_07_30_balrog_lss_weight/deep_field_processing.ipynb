{
 "cells": [
  {
   "cell_type": "code",
   "execution_count": 1,
   "id": "b826c88b",
   "metadata": {},
   "outputs": [],
   "source": [
    "import fitsio\n",
    "import numpy as np\n",
    "import numpy_indexed as npi\n",
    "import h5py"
   ]
  },
  {
   "cell_type": "code",
   "execution_count": 2,
   "id": "81d59ddf",
   "metadata": {},
   "outputs": [],
   "source": [
    "inj_pth = \"/global/cfs/projectdirs/des/y6-balrog/inputs/BALROG_RUN2_DEEP_CAT_FLAG0INVHS1BDFLT254v4_weighted_v2.fits\"\n",
    "flux_pth = \"/global/cfs/projectdirs/des/y6-balrog/inputs/Balrog_deepfield_fluxes_20240621.fits\"\n",
    "\n",
    "inj = fitsio.read(inj_pth)\n",
    "flux = fitsio.read(flux_pth)"
   ]
  },
  {
   "cell_type": "code",
   "execution_count": null,
   "id": "aafb82ac",
   "metadata": {},
   "outputs": [],
   "source": [
    "match_inds = npi.indices(flux[\"id\"], inj[\"id\"], axis=0)\n",
    "assert np.all(flux[\"id\"][match_inds] == inj[\"id\"])\n",
    "\n",
    "flux_for_inj = flux[match_inds]\n",
    "msk = flux_for_inj[\"GOODGALAXY\"] == 1\n",
    "inj = inj[msk]\n",
    "flux_for_inj = flux_for_inj[msk]"
   ]
  },
  {
   "cell_type": "code",
   "execution_count": null,
   "id": "042c3050",
   "metadata": {},
   "outputs": [
    {
     "data": {
      "text/plain": [
       "array([False,  True])"
      ]
     },
     "execution_count": 19,
     "metadata": {},
     "output_type": "execute_result"
    }
   ],
   "source": [
    "d = {}\n",
    "d[\"id\"] = inj[\"id\"]\n",
    "d[\"bdf_flux_deredden_calib\"] = flux_for_inj[\"bdf_flux_deredden_calib\"]\n",
    "d[\"bdf_flux_err_deredden_calib\"] = flux_for_inj[\"bdf_flux_err_deredden_calib\"]"
   ]
  },
  {
   "cell_type": "code",
   "execution_count": null,
   "id": "4fb7a4f1",
   "metadata": {},
   "outputs": [
    {
     "data": {
      "text/plain": [
       "('id',\n",
       " 'flags',\n",
       " 'bdf_flags',\n",
       " 'ra',\n",
       " 'dec',\n",
       " 'psf_mag',\n",
       " 'bdf_T',\n",
       " 'bdf_T_err',\n",
       " 'bdf_s2n',\n",
       " 'bdf_flux',\n",
       " 'bdf_flux_err',\n",
       " 'mask_flags',\n",
       " 'bdf_mag',\n",
       " 'bdf_g',\n",
       " 'bdf_fracdev',\n",
       " 'bdf_flux_cov',\n",
       " 'bdf_pars',\n",
       " 'tilename',\n",
       " 'gap_flux',\n",
       " 'gap_flux_err',\n",
       " 'gap_mag',\n",
       " 'bdf_flux_deredden',\n",
       " 'bdf_mag_deredden',\n",
       " 'in_VHS_footprint',\n",
       " 'avgbdf',\n",
       " 'COSMOS2020',\n",
       " 'PAUS+COSMOS',\n",
       " 'specZ',\n",
       " 'highQz',\n",
       " 'Y3_weight',\n",
       " 'WL_weight',\n",
       " 'WL_weight_highQz',\n",
       " 'LSS_weight',\n",
       " 'LSS_weight_highQz')"
      ]
     },
     "execution_count": 25,
     "metadata": {},
     "output_type": "execute_result"
    }
   ],
   "source": [
    "with h5py.File(\"desy6_balrog_inj_cat_goodgalaxy_only_v1.h5\", \"w\") as fp:\n",
    "    for k in d:\n",
    "        fp.create_dataset(k, data=d[k])"
   ]
  },
  {
   "cell_type": "code",
   "execution_count": null,
   "id": "1efc605d",
   "metadata": {},
   "outputs": [],
   "source": []
  }
 ],
 "metadata": {
  "kernelspec": {
   "display_name": "work",
   "language": "python",
   "name": "python3"
  },
  "language_info": {
   "codemirror_mode": {
    "name": "ipython",
    "version": 3
   },
   "file_extension": ".py",
   "mimetype": "text/x-python",
   "name": "python",
   "nbconvert_exporter": "python",
   "pygments_lexer": "ipython3",
   "version": "3.13.5"
  }
 },
 "nbformat": 4,
 "nbformat_minor": 5
}
