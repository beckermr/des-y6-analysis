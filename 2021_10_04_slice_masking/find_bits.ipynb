{
 "cells": [
  {
   "cell_type": "code",
   "execution_count": null,
   "id": "7684c2ce",
   "metadata": {},
   "outputs": [],
   "source": [
    "import numpy as np\n",
    "import proplot as pplt\n",
    "import meds"
   ]
  },
  {
   "cell_type": "code",
   "execution_count": null,
   "id": "714415d6",
   "metadata": {},
   "outputs": [],
   "source": [
    "m = meds.MEDS(\"DES2229-3957_r_des-pizza-slices-y6-v9_meds-pizza-slices-range0000-0010.fits.fz\")"
   ]
  },
  {
   "cell_type": "code",
   "execution_count": null,
   "id": "b81203fa",
   "metadata": {},
   "outputs": [],
   "source": [
    "ormask = m.get_cutout(4, 0, type=\"ormask\")"
   ]
  },
  {
   "cell_type": "code",
   "execution_count": null,
   "id": "60968ec9",
   "metadata": {},
   "outputs": [],
   "source": [
    "fig, axs = pplt.subplots()\n",
    "axs.imshow(np.arcsinh(ormask), origin=\"lower\")\n",
    "axs.grid(False)"
   ]
  },
  {
   "cell_type": "code",
   "execution_count": null,
   "id": "8b68c156",
   "metadata": {},
   "outputs": [],
   "source": [
    "np.unique(ormask)"
   ]
  },
  {
   "cell_type": "code",
   "execution_count": null,
   "id": "e05a4834",
   "metadata": {},
   "outputs": [],
   "source": [
    "for bit in range(11, 13):\n",
    "    flag = 2**bit\n",
    "    fig, axs = pplt.subplots()\n",
    "    axs.imshow((ormask & flag) != 0, origin=\"lower\", cmap='rocket')\n",
    "    axs.set_title(\"bit: %d\" % bit)\n",
    "    axs.grid(False)\n"
   ]
  },
  {
   "cell_type": "code",
   "execution_count": null,
   "id": "fde29764",
   "metadata": {},
   "outputs": [],
   "source": [
    "2**12"
   ]
  },
  {
   "cell_type": "code",
   "execution_count": null,
   "id": "8a6b9fee",
   "metadata": {},
   "outputs": [],
   "source": [
    "import fitsio"
   ]
  },
  {
   "cell_type": "code",
   "execution_count": null,
   "id": "44e19962",
   "metadata": {},
   "outputs": [],
   "source": [
    "d = fitsio.read(\"DES2229-3957_metadetect-v4_mdetcat_range0000-0009.fits.fz\")"
   ]
  },
  {
   "cell_type": "code",
   "execution_count": null,
   "id": "568a6c48",
   "metadata": {},
   "outputs": [],
   "source": [
    "d.dtype.descr"
   ]
  },
  {
   "cell_type": "code",
   "execution_count": null,
   "id": "36c52b84",
   "metadata": {},
   "outputs": [],
   "source": []
  }
 ],
 "metadata": {
  "kernelspec": {
   "display_name": "Python [conda env:desy6] *",
   "language": "python",
   "name": "conda-env-desy6-py"
  },
  "language_info": {
   "codemirror_mode": {
    "name": "ipython",
    "version": 3
   },
   "file_extension": ".py",
   "mimetype": "text/x-python",
   "name": "python",
   "nbconvert_exporter": "python",
   "pygments_lexer": "ipython3",
   "version": "3.8.10"
  }
 },
 "nbformat": 4,
 "nbformat_minor": 5
}
