{
 "cells": [
  {
   "cell_type": "code",
   "execution_count": 3,
   "id": "2068e7b7",
   "metadata": {},
   "outputs": [],
   "source": [
    "import glob\n",
    "import joblib\n",
    "import fitsio\n",
    "import os\n",
    "import numpy as np\n",
    "import meds\n",
    "import tqdm\n",
    "\n",
    "from meds.defaults import BMASK_EDGE\n",
    "\n",
    "import proplot as pplt\n",
    "\n",
    "BINS = np.linspace(-20, 20, 41) + 0.5\n",
    "BANDS = [\"g\", \"r\", \"i\", \"z\", \"Y\"]\n",
    "BCEN = (BINS[:-1] + BINS[1:])/2"
   ]
  },
  {
   "cell_type": "code",
   "execution_count": 27,
   "id": "ebe55f30",
   "metadata": {},
   "outputs": [],
   "source": [
    "def _convert_to_index(row, col, dbox=100, edge=50):\n",
    "    xind = (col.astype(int) - edge)//dbox\n",
    "    yind = (row.astype(int) - edge)//dbox\n",
    "    num = (10_000 - edge - edge) // dbox\n",
    "    return xind + num*yind\n",
    "\n",
    "\n",
    "def _compute_hist_for_tile_band(pizza_name, stamp_name, dbox, edge):\n",
    "    max_pizz_ind = ((10_000 - edge - edge)//dbox)**2\n",
    "    \n",
    "    if (not os.path.exists(pizza_name)) or (not os.path.exists(stamp_name)):\n",
    "        return None\n",
    "\n",
    "    with meds.MEDS(pizza_name) as m, meds.MEDS(stamp_name) as mobj:\n",
    "        pizza_inds = _convert_to_index(\n",
    "            mobj[\"orig_row\"][:, 0], \n",
    "            mobj[\"orig_col\"][:, 0], \n",
    "            dbox=dbox, edge=edge\n",
    "        )\n",
    "        assert np.array_equal(\n",
    "            _convert_to_index(m[\"orig_row\"][:, 0], m[\"orig_col\"][:, 0], dbox=dbox, edge=edge),\n",
    "            np.arange(len(m[\"orig_col\"][:, 0]), dtype=int),\n",
    "        )\n",
    "\n",
    "        dnepoch = []\n",
    "        nepoch = []\n",
    "        for obj_ind, pizza_ind in tqdm.tqdm(\n",
    "            enumerate(pizza_inds), total=len(pizza_inds)\n",
    "        ):\n",
    "            if pizza_ind < 0 or pizza_ind >= max_pizz_ind or m[\"nepoch\"][pizza_ind] <= 0:\n",
    "                continue\n",
    "\n",
    "            nepoch_obj = 0\n",
    "            for msk_ind in range(1, mobj[\"ncutout\"][obj_ind]):\n",
    "                msk = mobj.get_cutout(obj_ind, msk_ind, type=\"bmask\")\n",
    "                if not np.any(msk & BMASK_EDGE):\n",
    "                    nepoch_obj += 1\n",
    "            dnepoch.append(m[\"nepoch\"][pizza_ind] - nepoch_obj)\n",
    "            nepoch.append(nepoch_obj)\n",
    "\n",
    "    return np.array(nepoch) + np.array(dnepoch), np.array(nepoch), np.array(dnepoch)"
   ]
  },
  {
   "cell_type": "code",
   "execution_count": 28,
   "id": "17f8dfbc",
   "metadata": {},
   "outputs": [
    {
     "name": "stderr",
     "output_type": "stream",
     "text": [
      "100%|█████████████████████████████████████████████████████████████████████████████████████████████████████████████████████████████| 60183/60183 [00:15<00:00, 3829.12it/s]\n",
      "100%|█████████████████████████████████████████████████████████████████████████████████████████████████████████████████████████████| 60183/60183 [00:16<00:00, 3662.80it/s]\n"
     ]
    }
   ],
   "source": [
    "big_pizza_name = \"DES2229-3957_r_des-pizza-slices-y6-v9_meds-pizza-slices.fits.fz\"\n",
    "small_pizza_name = \"DES2229-3957_r_des-pizza-slices-y6-v9-small_meds-pizza-slices.fits.fz\"\n",
    "stamp_name = \"meds/DES2229-3957_r4575p01_r_meds-Y6A1.fits.fz\"\n",
    "\n",
    "sres = _compute_hist_for_tile_band(small_pizza_name, stamp_name, 50, 50)\n",
    "bres = _compute_hist_for_tile_band(big_pizza_name, stamp_name, 100, 50)"
   ]
  },
  {
   "cell_type": "code",
   "execution_count": 29,
   "id": "a790df3f",
   "metadata": {},
   "outputs": [
    {
     "data": {
      "image/png": "[encoded data removed]",
      "text/plain": [
       "<Figure size 320.833x316.528 with 1 Axes>"
      ]
     },
     "metadata": {
      "image/png": {
       "height": 282,
       "width": 302
      }
     },
     "output_type": "display_data"
    }
   ],
   "source": [
    "fig, axs = pplt.subplots()\n",
    "\n",
    "axs.hist(bres[0], bins=BINS, color='b', alpha=0.5, density=True)\n",
    "axs.hist(sres[0], bins=BINS, color='r', alpha=0.5, density=True)\n",
    "axs.format(xlim=(-0.5, 14.5))"
   ]
  },
  {
   "cell_type": "code",
   "execution_count": 33,
   "id": "83a931b0",
   "metadata": {},
   "outputs": [
    {
     "data": {
      "text/plain": [
       "(4.27024339266451, 4.105670190132045)"
      ]
     },
     "execution_count": 33,
     "metadata": {},
     "output_type": "execute_result"
    }
   ],
   "source": [
    "np.mean(sres[0]), np.mean(bres[0])"
   ]
  },
  {
   "cell_type": "code",
   "execution_count": null,
   "id": "13436081",
   "metadata": {},
   "outputs": [],
   "source": []
  }
 ],
 "metadata": {
  "kernelspec": {
   "display_name": "Python [conda env:desy6] *",
   "language": "python",
   "name": "conda-env-desy6-py"
  },
  "language_info": {
   "codemirror_mode": {
    "name": "ipython",
    "version": 3
   },
   "file_extension": ".py",
   "mimetype": "text/x-python",
   "name": "python",
   "nbconvert_exporter": "python",
   "pygments_lexer": "ipython3",
   "version": "3.8.10"
  }
 },
 "nbformat": 4,
 "nbformat_minor": 5
}
