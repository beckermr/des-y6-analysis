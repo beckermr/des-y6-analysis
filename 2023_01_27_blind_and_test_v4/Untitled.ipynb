{
 "cells": [
  {
   "cell_type": "code",
   "execution_count": 1,
   "id": "3d3cd7eb",
   "metadata": {},
   "outputs": [],
   "source": [
    "COLS = (\n",
    "    'tilename',\n",
    "    'uid',\n",
    "    'patch_num',\n",
    "    'mdet_step',\n",
    "    'ra',\n",
    "    'dec',\n",
    "    'gauss_g_1',\n",
    "    'gauss_g_2',\n",
    "    'pgauss_band_flux_g',\n",
    "    'pgauss_band_flux_r',\n",
    "    'pgauss_band_flux_i',\n",
    "    'pgauss_band_flux_z',\n",
    "    'pgauss_band_flux_err_g',\n",
    "    'pgauss_band_flux_err_r',\n",
    "    'pgauss_band_flux_err_i',\n",
    "    'pgauss_band_flux_err_z',\n",
    "    'gauss_T_err',\n",
    "    'gauss_T_ratio',\n",
    "    'gauss_psf_T',\n",
    "    'gauss_s2n',    \n",
    "    'slice_id',\n",
    "    'x',\n",
    "    'y',\n",
    "    'mfrac',\n",
    "    'mfrac_img',\n",
    "    'nepoch_g',\n",
    "    'nepoch_r',\n",
    "    'nepoch_i',\n",
    "    'nepoch_z',\n",
    "    'psfrec_g_1',\n",
    "    'psfrec_g_2',\n",
    "    'psfrec_T',\n",
    "    'gauss_g_cov_1_1',\n",
    "    'gauss_g_cov_1_2',\n",
    "    'gauss_g_cov_2_2',\n",
    "    'pgauss_T_err',\n",
    "    'pgauss_T',\n",
    "    'pgauss_psf_T',\n",
    ")"
   ]
  },
  {
   "cell_type": "code",
   "execution_count": 2,
   "id": "d7477515",
   "metadata": {},
   "outputs": [
    {
     "name": "stdout",
     "output_type": "stream",
     "text": [
      "tilename\n",
      "uid\n",
      "patch_num\n",
      "mdet_step\n",
      "ra\n",
      "dec\n",
      "gauss_g_1\n",
      "gauss_g_2\n",
      "pgauss_band_flux_g\n",
      "pgauss_band_flux_r\n",
      "pgauss_band_flux_i\n",
      "pgauss_band_flux_z\n",
      "pgauss_band_flux_err_g\n",
      "pgauss_band_flux_err_r\n",
      "pgauss_band_flux_err_i\n",
      "pgauss_band_flux_err_z\n",
      "gauss_T_err\n",
      "gauss_T_ratio\n",
      "gauss_psf_T\n",
      "gauss_s2n\n",
      "slice_id\n",
      "x\n",
      "y\n",
      "mfrac\n",
      "mfrac_img\n",
      "nepoch_g\n",
      "nepoch_r\n",
      "nepoch_i\n",
      "nepoch_z\n",
      "psfrec_g_1\n",
      "psfrec_g_2\n",
      "psfrec_T\n",
      "gauss_g_cov_1_1\n",
      "gauss_g_cov_1_2\n",
      "gauss_g_cov_2_2\n",
      "pgauss_T_err\n",
      "pgauss_T\n",
      "pgauss_psf_T\n"
     ]
    }
   ],
   "source": [
    "for col in COLS:\n",
    "    print(col)"
   ]
  },
  {
   "cell_type": "code",
   "execution_count": null,
   "id": "62e8a936",
   "metadata": {},
   "outputs": [],
   "source": []
  }
 ],
 "metadata": {
  "kernelspec": {
   "display_name": "Python [conda env:des-y6]",
   "language": "python",
   "name": "conda-env-des-y6-py"
  },
  "language_info": {
   "codemirror_mode": {
    "name": "ipython",
    "version": 3
   },
   "file_extension": ".py",
   "mimetype": "text/x-python",
   "name": "python",
   "nbconvert_exporter": "python",
   "pygments_lexer": "ipython3",
   "version": "3.10.9"
  }
 },
 "nbformat": 4,
 "nbformat_minor": 5
}
