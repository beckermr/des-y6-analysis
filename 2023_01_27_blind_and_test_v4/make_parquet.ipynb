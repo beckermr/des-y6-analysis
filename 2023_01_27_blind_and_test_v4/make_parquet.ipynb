{
 "cells": [
  {
   "cell_type": "code",
   "execution_count": 1,
   "id": "e0a87600",
   "metadata": {},
   "outputs": [],
   "source": [
    "import fitsio\n",
    "from concurrent.futures import ProcessPoolExecutor, as_completed\n",
    "import glob\n",
    "from des_y6utils.mdet import make_mdet_cuts\n",
    "from esutil.pbar import PBar\n",
    "import fastparquet\n",
    "import pandas as pd"
   ]
  },
  {
   "cell_type": "code",
   "execution_count": 2,
   "id": "56bbd587",
   "metadata": {},
   "outputs": [],
   "source": [
    "fnames = glob.glob(\"blinded_data/*.fits\")"
   ]
  },
  {
   "cell_type": "code",
   "execution_count": 3,
   "id": "e7c58af0",
   "metadata": {},
   "outputs": [],
   "source": [
    "def _read_and_mask(fname):\n",
    "    d = fitsio.read(fname)\n",
    "    msk = make_mdet_cuts(d, \"3\")\n",
    "    d = d[msk]\n",
    "    return d"
   ]
  },
  {
   "cell_type": "code",
   "execution_count": null,
   "id": "71309d45",
   "metadata": {
    "scrolled": true
   },
   "outputs": [
    {
     "name": "stderr",
     "output_type": "stream",
     "text": [
      "making jobs: |####################| 10169/10169 100% [elapsed: 00:00 left: 00:00]\n",
      "appending catalogs: |--------------------| 8/10169   0% [elapsed: 00:11 left: 4:13:05] "
     ]
    }
   ],
   "source": [
    "pq_fname = \"mdet_desdmv4_cutsv3.parq\"\n",
    "first = True\n",
    "num_done = 0\n",
    "num_obj = 0\n",
    "cats = []\n",
    "\n",
    "with ProcessPoolExecutor(max_workers=10) as exc:\n",
    "    futs = [\n",
    "        exc.submit(_read_and_mask, fname)\n",
    "        for fname in PBar(fnames, desc=\"making jobs\")\n",
    "    ]\n",
    "    for fut in PBar(\n",
    "        as_completed(futs), total=len(futs), desc=\"appending catalogs\"\n",
    "    ):\n",
    "        try:\n",
    "            _d = fut.result()\n",
    "        except Exception as e:\n",
    "            print(e)\n",
    "            _d = None\n",
    "            \n",
    "        if _d is not None:\n",
    "            cats.append(_d)\n",
    "        \n",
    "        if len(cats) == 10:\n",
    "            num_done += len(cats)\n",
    "            _d = np.concatenate(cats, axis=0)\n",
    "            cats = []\n",
    "            num_obj += len(_d)\n",
    "            _d = pd.DataFrame(_d)\n",
    "            fastparquet.write(\n",
    "                pq_fname, _d, \n",
    "                has_nulls=False, \n",
    "                write_index=False, \n",
    "                fixed_text={\"mdet_step\": len(\"noshear\")},\n",
    "                compression=\"SNAPPY\",\n",
    "                append=False if first else True,\n",
    "                row_group_offsets=1_000_000,\n",
    "            )\n",
    "            first = False\n",
    "            # print(num_done, num_obj/1e6)\n",
    "            \n",
    "if len(cats) > 0:\n",
    "    num_done += len(cats)\n",
    "    _d = np.concatenate(cats, axis=0)\n",
    "    cats = []\n",
    "    num_obj += len(_d)\n",
    "    _d = pd.DataFrame(_d)\n",
    "    fastparquet.write(\n",
    "        pq_fname, _d, \n",
    "        has_nulls=False, \n",
    "        write_index=False, \n",
    "        fixed_text={\"mdet_step\": len(\"noshear\")},\n",
    "        compression=\"SNAPPY\",\n",
    "        append=False if first else True,\n",
    "        row_group_offsets=1_000_000,\n",
    "    )"
   ]
  },
  {
   "cell_type": "code",
   "execution_count": null,
   "id": "c75ccfff",
   "metadata": {},
   "outputs": [],
   "source": []
  },
  {
   "cell_type": "code",
   "execution_count": null,
   "id": "4b36b398",
   "metadata": {},
   "outputs": [],
   "source": []
  }
 ],
 "metadata": {
  "kernelspec": {
   "display_name": "Python [conda env:des-y6]",
   "language": "python",
   "name": "conda-env-des-y6-py"
  },
  "language_info": {
   "codemirror_mode": {
    "name": "ipython",
    "version": 3
   },
   "file_extension": ".py",
   "mimetype": "text/x-python",
   "name": "python",
   "nbconvert_exporter": "python",
   "pygments_lexer": "ipython3",
   "version": "3.10.9"
  }
 },
 "nbformat": 4,
 "nbformat_minor": 5
}
