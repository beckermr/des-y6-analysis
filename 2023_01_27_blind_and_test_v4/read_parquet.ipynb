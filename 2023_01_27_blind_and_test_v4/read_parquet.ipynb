{
 "cells": [
  {
   "cell_type": "code",
   "execution_count": 1,
   "id": "f6accd19",
   "metadata": {},
   "outputs": [],
   "source": [
    "import fastparquet\n",
    "import numpy as np"
   ]
  },
  {
   "cell_type": "code",
   "execution_count": null,
   "id": "ad18d678",
   "metadata": {},
   "outputs": [],
   "source": [
    "pf = fastparquet.ParquetFile(\"metadetect_desdmv4_cutsv3_jk\")"
   ]
  },
  {
   "cell_type": "code",
   "execution_count": null,
   "id": "143ff526",
   "metadata": {},
   "outputs": [],
   "source": [
    "pf.columns"
   ]
  },
  {
   "cell_type": "code",
   "execution_count": null,
   "id": "5de66a43",
   "metadata": {},
   "outputs": [],
   "source": [
    "%%time\n",
    "\n",
    "dd = pf.to_pandas(\n",
    "    columns=[\"ra\", \"dec\", \"gauss_g_1\", \"gauss_g_2\"],\n",
    "    filters=[[(\"mdet_step\", \"==\", \"noshear\")]],\n",
    "    index=False,\n",
    ").to_records()\n",
    "\n",
    "dd = np.array(dd, dtype=dd.dtype.descr)"
   ]
  },
  {
   "cell_type": "code",
   "execution_count": null,
   "id": "2b603ee4",
   "metadata": {},
   "outputs": [],
   "source": []
  },
  {
   "cell_type": "code",
   "execution_count": null,
   "id": "12f720ec",
   "metadata": {},
   "outputs": [],
   "source": [
    "dd.shape"
   ]
  },
  {
   "cell_type": "code",
   "execution_count": 2,
   "id": "ab33dc0f",
   "metadata": {},
   "outputs": [],
   "source": [
    "pf = fastparquet.ParquetFile(\"metadetect_desdmv4_cutsv3.parq\")"
   ]
  },
  {
   "cell_type": "code",
   "execution_count": 3,
   "id": "7a48f697",
   "metadata": {},
   "outputs": [],
   "source": []
  },
  {
   "cell_type": "code",
   "execution_count": null,
   "id": "827e90bb",
   "metadata": {},
   "outputs": [
    {
     "name": "stdout",
     "output_type": "stream",
     "text": [
      "144623\n",
      "289246\n",
      "433869\n",
      "578492\n",
      "723115\n",
      "867738\n",
      "1012361\n",
      "1156984\n",
      "1301607\n",
      "1446230\n",
      "1590853\n",
      "1735476\n",
      "1880099\n",
      "2024722\n",
      "2169345\n",
      "2313968\n",
      "2458591\n",
      "2603214\n",
      "2747837\n",
      "2892460\n",
      "3037083\n",
      "3181706\n",
      "3326329\n",
      "3470952\n",
      "3615575\n",
      "3760198\n",
      "3904821\n",
      "4049444\n",
      "4194067\n",
      "4338690\n",
      "4483313\n",
      "4627936\n",
      "4772559\n",
      "4917182\n",
      "5061805\n",
      "5206428\n",
      "5351051\n",
      "5495674\n",
      "5640297\n",
      "5784920\n",
      "5929543\n",
      "6074166\n",
      "6218789\n",
      "6363412\n",
      "6508035\n",
      "6652658\n",
      "6797281\n",
      "6941904\n",
      "7086527\n",
      "7231150\n",
      "7375773\n",
      "7520396\n",
      "7665019\n",
      "7809642\n",
      "7954265\n",
      "8098888\n",
      "8243511\n",
      "8388134\n",
      "8532757\n",
      "8677380\n",
      "8822003\n",
      "8966626\n",
      "9111249\n",
      "9255872\n",
      "9400495\n",
      "9545118\n",
      "9689741\n",
      "9834364\n",
      "9978987\n",
      "10123610\n",
      "10268233\n",
      "10412856\n",
      "10557479\n",
      "10702102\n",
      "10846725\n",
      "10991348\n",
      "11135971\n",
      "11280594\n",
      "11425217\n",
      "11569840\n",
      "11714463\n",
      "11859086\n",
      "12003709\n",
      "12148332\n",
      "12292955\n",
      "12437578\n",
      "12582201\n",
      "12726824\n",
      "12871447\n",
      "13016070\n",
      "13160693\n",
      "13305316\n",
      "13449939\n",
      "13594562\n",
      "13739185\n",
      "13883808\n",
      "14028431\n",
      "14173054\n",
      "14317677\n",
      "14462300\n",
      "14606923\n",
      "14751546\n",
      "14896169\n",
      "15040792\n",
      "15185415\n",
      "15330038\n",
      "15474661\n",
      "15619284\n",
      "15763907\n",
      "15908530\n",
      "16053153\n",
      "16197776\n",
      "16342399\n",
      "16487022\n",
      "16631645\n",
      "16776268\n",
      "16920891\n",
      "17065514\n",
      "17210137\n",
      "17354760\n",
      "17499383\n",
      "17644006\n",
      "17788629\n",
      "17933252\n",
      "18077875\n",
      "18222498\n",
      "18367121\n",
      "18511744\n",
      "18656367\n",
      "18800990\n",
      "18945613\n",
      "19090236\n",
      "19234859\n",
      "19379482\n",
      "19524105\n",
      "19668728\n",
      "19813351\n",
      "19957974\n",
      "20102597\n",
      "20247220\n",
      "20391843\n",
      "20536466\n",
      "20681089\n",
      "20825712\n",
      "20970335\n",
      "21114958\n",
      "21259581\n",
      "21404204\n",
      "21548827\n",
      "21693450\n",
      "21838073\n",
      "21982696\n",
      "22127319\n"
     ]
    }
   ],
   "source": [
    "%%time\n",
    "\n",
    "tot = 0\n",
    "for dd in pf.iter_row_groups(columns=[\"mdet_step\"]):\n",
    "    tot += np.sum(dd[\"mdet_step\"] == \"noshear\")\n",
    "    print(tot)"
   ]
  },
  {
   "cell_type": "code",
   "execution_count": null,
   "id": "b63e5a47",
   "metadata": {},
   "outputs": [],
   "source": []
  },
  {
   "cell_type": "code",
   "execution_count": null,
   "id": "f39f24b4",
   "metadata": {},
   "outputs": [],
   "source": [
    "%%time\n",
    "\n",
    "dd = pf.to_pandas(\n",
    "    columns=[\"ra\", \"dec\", \"gauss_g_1\", \"gauss_g_2\"],\n",
    "    filters=[[(\"mdet_step\", \"==\", \"noshear\"), (\"patch_num\", \"==\", 20)]],\n",
    "    index=False,\n",
    ").to_records()\n",
    "\n",
    "dd = np.array(dd, dtype=dd.dtype.descr)"
   ]
  },
  {
   "cell_type": "markdown",
   "id": "f4d9d28d",
   "metadata": {},
   "source": [
    "## much of the time is conversion out of pandas"
   ]
  },
  {
   "cell_type": "code",
   "execution_count": null,
   "id": "534e22d2",
   "metadata": {},
   "outputs": [],
   "source": [
    "%%time\n",
    "\n",
    "dd = pf.to_pandas(\n",
    "    columns=[\"ra\", \"dec\", \"gauss_g_1\", \"gauss_g_2\"],\n",
    "    filters=[[(\"mdet_step\", \"==\", \"noshear\")]],\n",
    "    index=False,\n",
    ")"
   ]
  },
  {
   "cell_type": "code",
   "execution_count": null,
   "id": "d1d41346",
   "metadata": {},
   "outputs": [],
   "source": [
    "%%time\n",
    "\n",
    "dd = pf.to_pandas(\n",
    "    columns=[\"ra\", \"dec\", \"gauss_g_1\", \"gauss_g_2\"],\n",
    "    filters=[[(\"mdet_step\", \"==\", \"noshear\"), (\"patch_num\", \"==\", 20)]],\n",
    "    index=False,\n",
    ")"
   ]
  },
  {
   "cell_type": "markdown",
   "id": "20e3ccc0",
   "metadata": {},
   "source": [
    "## try astropy"
   ]
  },
  {
   "cell_type": "code",
   "execution_count": null,
   "id": "a2ae0f3e",
   "metadata": {},
   "outputs": [],
   "source": [
    "from astropy.table import Table"
   ]
  },
  {
   "cell_type": "code",
   "execution_count": null,
   "id": "e51199e5",
   "metadata": {},
   "outputs": [],
   "source": [
    "tb = Table.read(\n",
    "    \"metadetect_desdmv4_cutsv3.parq\", \n",
    "    format=\"parquet\",\n",
    "    filters=[[(\"mdet_step\", \"==\", \"noshear\")]],\n",
    "    include_names=[\"ra\", \"dec\", \"gauss_g_1\", \"gauss_g_2\"],\n",
    ")"
   ]
  },
  {
   "cell_type": "code",
   "execution_count": 2,
   "id": "52795ed5",
   "metadata": {},
   "outputs": [],
   "source": [
    "import os\n",
    "import numpy as np\n",
    "\n",
    "import pyarrow as pa\n",
    "from pyarrow import parquet, dataset\n",
    "\n",
    "\n",
    "def write_numparquet(filename, recarray, clobber=False):\n",
    "    \"\"\"\n",
    "    Write a numpy recarray in parquet format.\n",
    "\n",
    "    Parameters\n",
    "    ----------\n",
    "    filename : `str`\n",
    "        Output filename.\n",
    "    recarray : `np.ndarray`\n",
    "        Numpy recarray to output\n",
    "    \"\"\"\n",
    "    if os.path.exists(filename):\n",
    "        raise NotImplementedError(\"No clobbering yet.\")\n",
    "\n",
    "    if not isinstance(recarray, np.ndarray):\n",
    "        raise ValueError(\"Input recarray is not a numpy recarray.\")\n",
    "\n",
    "    if recarray.dtype.names is None:\n",
    "        raise ValueError(\"Input recarray is not a numpy recarray.\")\n",
    "\n",
    "    columns = recarray.dtype.names\n",
    "\n",
    "    metadata = {}\n",
    "    for col in columns:\n",
    "        # Special-case string types to record the length\n",
    "        if recarray[col].dtype.type is np.str_:\n",
    "            metadata[f'recarray::strlen::{col}'] = str(recarray[col].dtype.itemsize//4)\n",
    "\n",
    "    type_list = [(name, pa.from_numpy_dtype(recarray[name].dtype.type))\n",
    "                 for name in recarray.dtype.names]\n",
    "    schema = pa.schema(type_list, metadata=metadata)\n",
    "\n",
    "    with parquet.ParquetWriter(filename, schema) as writer:\n",
    "        arrays = [pa.array(recarray[name])\n",
    "                  for name in recarray.dtype.names]\n",
    "        pa_table = pa.Table.from_arrays(arrays, schema=schema)\n",
    "\n",
    "        writer.write_table(pa_table)\n",
    "\n",
    "\n",
    "def read_numparquet(filename, columns=None, filter=None):\n",
    "    \"\"\"\n",
    "    Read a numpy recarray in parquet format.\n",
    "\n",
    "    Parameters\n",
    "    ----------\n",
    "    filename : `str`\n",
    "        Input filename\n",
    "    columns : `list` [`str`], optional\n",
    "        Name of columns to read.\n",
    "    filter : `expression thing`, optional\n",
    "        Pyarrow filter expression to filter rows.\n",
    "\n",
    "    Returns\n",
    "    -------\n",
    "    recarray : `np.ndarray`\n",
    "    \"\"\"\n",
    "    ds = dataset.dataset(filename, format='parquet', partitioning='hive')\n",
    "\n",
    "    schema = ds.schema\n",
    "\n",
    "    # Convert from bytes to strings\n",
    "    md = {key.decode(): schema.metadata[key].decode()\n",
    "          for key in schema.metadata}\n",
    "\n",
    "    names = schema.names\n",
    "\n",
    "    if columns is not None:\n",
    "        names = [name for name in schema.names\n",
    "                 if name in columns]\n",
    "\n",
    "        if names == []:\n",
    "            # Should this raise instead?\n",
    "            return np.zeros(0)\n",
    "    else:\n",
    "        names = schema.names\n",
    "\n",
    "    dtype = []\n",
    "    for name in names:\n",
    "        if schema.field(name).type == pa.string():\n",
    "            dtype.append('U%d' % (int(md[f'recarray::strlen::{name}'])))\n",
    "        else:\n",
    "            dtype.append(schema.field(name).type.to_pandas_dtype())\n",
    "\n",
    "    pa_table = ds.to_table(columns=names, filter=filter)\n",
    "    data = np.zeros(pa_table.num_rows, dtype=list(zip(names, dtype)))\n",
    "\n",
    "    for name in names:\n",
    "        data[name][:] = pa_table[name].to_numpy()\n",
    "\n",
    "    return data"
   ]
  },
  {
   "cell_type": "code",
   "execution_count": 3,
   "id": "443ea998",
   "metadata": {},
   "outputs": [],
   "source": [
    "import pyarrow.compute as pc"
   ]
  },
  {
   "cell_type": "code",
   "execution_count": 4,
   "id": "bbbc92cd",
   "metadata": {},
   "outputs": [
    {
     "name": "stdout",
     "output_type": "stream",
     "text": [
      "CPU times: user 5.25 s, sys: 16.2 s, total: 21.4 s\n",
      "Wall time: 27.3 s\n"
     ]
    }
   ],
   "source": [
    "%%time\n",
    "\n",
    "dd = read_numparquet(\n",
    "    \"metadetect_desdmv4_cutsv3_jk\", \n",
    "    filter=(pc.field(\"mdet_step\") == pc.scalar(\"noshear\")),  # & (pc.field(\"patch_num\") == pc.scalar(20)),\n",
    "    columns=[\"ra\", \"dec\", \"gauss_g_1\", \"gauss_g_2\"],\n",
    ")"
   ]
  },
  {
   "cell_type": "code",
   "execution_count": 5,
   "id": "58cf0a4d",
   "metadata": {},
   "outputs": [
    {
     "data": {
      "text/plain": [
       "(148852455,)"
      ]
     },
     "execution_count": 5,
     "metadata": {},
     "output_type": "execute_result"
    }
   ],
   "source": [
    "dd.shape"
   ]
  },
  {
   "cell_type": "code",
   "execution_count": null,
   "id": "ec708000",
   "metadata": {},
   "outputs": [],
   "source": [
    "148852464"
   ]
  }
 ],
 "metadata": {
  "kernelspec": {
   "display_name": "Python [conda env:des-y6]",
   "language": "python",
   "name": "conda-env-des-y6-py"
  },
  "language_info": {
   "codemirror_mode": {
    "name": "ipython",
    "version": 3
   },
   "file_extension": ".py",
   "mimetype": "text/x-python",
   "name": "python",
   "nbconvert_exporter": "python",
   "pygments_lexer": "ipython3",
   "version": "3.10.9"
  }
 },
 "nbformat": 4,
 "nbformat_minor": 5
}
