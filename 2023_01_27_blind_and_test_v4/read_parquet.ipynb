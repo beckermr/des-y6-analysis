{
 "cells": [
  {
   "cell_type": "code",
   "execution_count": 1,
   "id": "4ccfd889",
   "metadata": {},
   "outputs": [],
   "source": [
    "import fastparquet\n",
    "import numpy as np"
   ]
  },
  {
   "cell_type": "code",
   "execution_count": 2,
   "id": "880d9090",
   "metadata": {},
   "outputs": [],
   "source": [
    "pf = fastparquet.ParquetFile(\"metadetect_desdmv4_cutsv3_jk\")"
   ]
  },
  {
   "cell_type": "code",
   "execution_count": 5,
   "id": "a35fd3e1",
   "metadata": {},
   "outputs": [
    {
     "data": {
      "text/plain": [
       "['uid',\n",
       " 'tilename',\n",
       " 'slice_id',\n",
       " 'ra',\n",
       " 'dec',\n",
       " 'x',\n",
       " 'y',\n",
       " 'mfrac',\n",
       " 'mfrac_img',\n",
       " 'nepoch_g',\n",
       " 'nepoch_r',\n",
       " 'nepoch_i',\n",
       " 'nepoch_z',\n",
       " 'psfrec_g_1',\n",
       " 'psfrec_g_2',\n",
       " 'psfrec_T',\n",
       " 'gauss_s2n',\n",
       " 'gauss_g_1',\n",
       " 'gauss_g_2',\n",
       " 'gauss_g_cov_1_1',\n",
       " 'gauss_g_cov_1_2',\n",
       " 'gauss_g_cov_2_2',\n",
       " 'gauss_T_err',\n",
       " 'gauss_T_ratio',\n",
       " 'gauss_psf_T',\n",
       " 'pgauss_T_err',\n",
       " 'pgauss_T',\n",
       " 'pgauss_psf_T',\n",
       " 'pgauss_band_flux_g',\n",
       " 'pgauss_band_flux_r',\n",
       " 'pgauss_band_flux_i',\n",
       " 'pgauss_band_flux_z',\n",
       " 'pgauss_band_flux_err_g',\n",
       " 'pgauss_band_flux_err_r',\n",
       " 'pgauss_band_flux_err_i',\n",
       " 'pgauss_band_flux_err_z']"
      ]
     },
     "execution_count": 5,
     "metadata": {},
     "output_type": "execute_result"
    }
   ],
   "source": [
    "pf.columns"
   ]
  },
  {
   "cell_type": "code",
   "execution_count": 17,
   "id": "085a5881",
   "metadata": {},
   "outputs": [
    {
     "name": "stdout",
     "output_type": "stream",
     "text": [
      "CPU times: user 8.19 s, sys: 13.4 s, total: 21.6 s\n",
      "Wall time: 1min 4s\n"
     ]
    }
   ],
   "source": [
    "%%time\n",
    "\n",
    "dd = pf.to_pandas(\n",
    "    columns=[\"ra\", \"dec\", \"gauss_g_1\", \"gauss_g_2\"],\n",
    "    filters=[[(\"mdet_step\", \"==\", \"noshear\")]],\n",
    "    index=False,\n",
    ").to_records()\n",
    "\n",
    "dd = np.array(dd, dtype=dd.dtype.descr)"
   ]
  },
  {
   "cell_type": "code",
   "execution_count": 18,
   "id": "77444ac8",
   "metadata": {},
   "outputs": [
    {
     "name": "stdout",
     "output_type": "stream",
     "text": [
      "CPU times: user 280 ms, sys: 575 ms, total: 855 ms\n",
      "Wall time: 6.04 s\n"
     ]
    }
   ],
   "source": [
    "%%time\n",
    "\n",
    "dd = pf.to_pandas(\n",
    "    columns=[\"ra\", \"dec\", \"gauss_g_1\", \"gauss_g_2\"],\n",
    "    filters=[[(\"mdet_step\", \"==\", \"noshear\"), (\"patch_num\", \"==\", 20)]],\n",
    "    index=False,\n",
    ").to_records()\n",
    "\n",
    "dd = np.array(dd, dtype=dd.dtype.descr)"
   ]
  },
  {
   "cell_type": "markdown",
   "id": "fc8b0771",
   "metadata": {},
   "source": [
    "## much of the time is conversion out of pandas"
   ]
  },
  {
   "cell_type": "code",
   "execution_count": 20,
   "id": "0cb7e87d",
   "metadata": {},
   "outputs": [
    {
     "name": "stdout",
     "output_type": "stream",
     "text": [
      "CPU times: user 2.14 s, sys: 3.12 s, total: 5.27 s\n",
      "Wall time: 44.9 s\n"
     ]
    }
   ],
   "source": [
    "%%time\n",
    "\n",
    "dd = pf.to_pandas(\n",
    "    columns=[\"ra\", \"dec\", \"gauss_g_1\", \"gauss_g_2\"],\n",
    "    filters=[[(\"mdet_step\", \"==\", \"noshear\")]],\n",
    "    index=False,\n",
    ")"
   ]
  },
  {
   "cell_type": "code",
   "execution_count": 19,
   "id": "8e2fe4d4",
   "metadata": {},
   "outputs": [
    {
     "name": "stdout",
     "output_type": "stream",
     "text": [
      "CPU times: user 140 ms, sys: 7.21 ms, total: 148 ms\n",
      "Wall time: 163 ms\n"
     ]
    }
   ],
   "source": [
    "%%time\n",
    "\n",
    "dd = pf.to_pandas(\n",
    "    columns=[\"ra\", \"dec\", \"gauss_g_1\", \"gauss_g_2\"],\n",
    "    filters=[[(\"mdet_step\", \"==\", \"noshear\"), (\"patch_num\", \"==\", 20)]],\n",
    "    index=False,\n",
    ")"
   ]
  },
  {
   "cell_type": "code",
   "execution_count": null,
   "id": "839a1f9c",
   "metadata": {},
   "outputs": [],
   "source": []
  }
 ],
 "metadata": {
  "kernelspec": {
   "display_name": "Python [conda env:des-y6]",
   "language": "python",
   "name": "conda-env-des-y6-py"
  },
  "language_info": {
   "codemirror_mode": {
    "name": "ipython",
    "version": 3
   },
   "file_extension": ".py",
   "mimetype": "text/x-python",
   "name": "python",
   "nbconvert_exporter": "python",
   "pygments_lexer": "ipython3",
   "version": "3.10.9"
  }
 },
 "nbformat": 4,
 "nbformat_minor": 5
}
