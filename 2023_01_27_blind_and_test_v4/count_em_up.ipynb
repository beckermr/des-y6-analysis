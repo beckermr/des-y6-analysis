{
 "cells": [
  {
   "cell_type": "code",
   "execution_count": 1,
   "id": "08a9a816",
   "metadata": {},
   "outputs": [],
   "source": [
    "from mattspy import BNLCondorParallel\n",
    "import glob\n",
    "from des_y6utils.mdet import make_mdet_cuts\n",
    "from esutil.pbar import PBar\n",
    "import joblib\n",
    "import os\n",
    "import numpy as np\n",
    "import fitsio\n",
    "import joblib"
   ]
  },
  {
   "cell_type": "code",
   "execution_count": 15,
   "id": "6eafa5ab",
   "metadata": {},
   "outputs": [],
   "source": [
    "def _read_and_count(fname):\n",
    "    d = fitsio.read(fname)\n",
    "    msk = (\n",
    "        (d['psfrec_flags'] == 0) &\n",
    "        (d['gauss_flags'] == 0) &\n",
    "        (d['gauss_s2n'] > 5) &\n",
    "        (d['pgauss_T_flags'] == 0) &\n",
    "        (d['pgauss_s2n'] > 5) &\n",
    "        (d['pgauss_band_flux_flags_g'] == 0) &\n",
    "        (d['pgauss_band_flux_flags_r'] == 0) &\n",
    "        (d['pgauss_band_flux_flags_i'] == 0) &\n",
    "        (d['pgauss_band_flux_flags_z'] == 0) &\n",
    "        (d['mask_flags'] == 0) &\n",
    "        (d['shear_bands'] == '123') &\n",
    "        (make_mdet_cuts(d, \"3\")) & \n",
    "        (d[\"mdet_step\"] == \"noshear\")\n",
    "    )\n",
    "    return np.sum(msk)"
   ]
  },
  {
   "cell_type": "code",
   "execution_count": 11,
   "id": "76fe13cc",
   "metadata": {},
   "outputs": [],
   "source": [
    "fnames = glob.glob(\"blinded_data/*.fits\")"
   ]
  },
  {
   "cell_type": "code",
   "execution_count": 12,
   "id": "b870e4aa",
   "metadata": {},
   "outputs": [],
   "source": [
    "fnames_jk = glob.glob(\n",
    "        \"/gpfs02/astro/desdata/esheldon/lensing/\"\n",
    "        \"des-lensing/y6patches/patches/*.fits\"\n",
    "    )"
   ]
  },
  {
   "cell_type": "code",
   "execution_count": 13,
   "id": "a6ecf971",
   "metadata": {
    "scrolled": true
   },
   "outputs": [],
   "source": [
    "def _count_fnames(fnames, odir, use_joblib=False):\n",
    "    tot = 0\n",
    "    nres = 0\n",
    "    if use_joblib:\n",
    "        with joblib.Parallel(n_jobs=5, verbose=100) as par:\n",
    "            tot = np.sum(par([\n",
    "                joblib.delayed(_read_and_count)(os.path.abspath(fname))\n",
    "                for fname in fnames\n",
    "            ]))\n",
    "            nres = len(fnames)\n",
    "    else:\n",
    "        with BNLCondorParallel(mem=4) as exc:\n",
    "            futs = [\n",
    "                joblib.delayed(_read_and_count)(os.path.abspath(fname))\n",
    "                for fname in fnames \n",
    "                if not os.path.exists(os.path.join(odir, os.path.basename(fname) + \".count\"))\n",
    "            ]\n",
    "\n",
    "            for fut in PBar(exc(futs), total=len(futs)):\n",
    "                tot += fut.result()\n",
    "                nres += 1\n",
    "\n",
    "                if (nres-1) % 10 == 0:\n",
    "                    print(\n",
    "                        \"%0.3f million (exact: %d, estimate %0.2f million)\" % (\n",
    "                            tot/1e6, \n",
    "                            tot, \n",
    "                            tot/1e6/nres*len(fnames)\n",
    "                        ), \n",
    "                        flush=True,\n",
    "                    )\n",
    "\n",
    "    print(\n",
    "        \"%0.3f million (exact: %d, estimate %0.2f million)\" % (\n",
    "            tot/1e6, \n",
    "            tot, \n",
    "            tot/1e6/nres*len(fnames)\n",
    "        ), \n",
    "        flush=True,\n",
    "    )"
   ]
  },
  {
   "cell_type": "code",
   "execution_count": 17,
   "id": "f5996587",
   "metadata": {
    "scrolled": true
   },
   "outputs": [
    {
     "name": "stderr",
     "output_type": "stream",
     "text": [
      "\r",
      "|--------------------| 0/10169   0% [elapsed: 00:00 left: ?]"
     ]
    },
    {
     "name": "stdout",
     "output_type": "stream",
     "text": [
      "0.017 million (exact: 17069, estimate 173.57 million)\n"
     ]
    },
    {
     "name": "stderr",
     "output_type": "stream",
     "text": [
      "|--------------------| 5/10169   0% [elapsed: 01:56 left: 65:44:17] "
     ]
    },
    {
     "name": "stdout",
     "output_type": "stream",
     "text": [
      "0.147 million (exact: 147108, estimate 135.99 million)\n"
     ]
    },
    {
     "name": "stderr",
     "output_type": "stream",
     "text": [
      "|--------------------| 20/10169   0% [elapsed: 02:21 left: 19:52:30]"
     ]
    },
    {
     "name": "stdout",
     "output_type": "stream",
     "text": [
      "0.275 million (exact: 274561, estimate 132.95 million)\n"
     ]
    },
    {
     "name": "stderr",
     "output_type": "stream",
     "text": [
      "|--------------------| 27/10169   0% [elapsed: 02:39 left: 16:40:09]"
     ]
    },
    {
     "name": "stdout",
     "output_type": "stream",
     "text": [
      "0.392 million (exact: 391757, estimate 128.51 million)\n"
     ]
    },
    {
     "name": "stderr",
     "output_type": "stream",
     "text": [
      "|--------------------| 40/10169   0% [elapsed: 02:59 left: 12:38:41]"
     ]
    },
    {
     "name": "stdout",
     "output_type": "stream",
     "text": [
      "0.507 million (exact: 506811, estimate 125.70 million)\n"
     ]
    },
    {
     "name": "stderr",
     "output_type": "stream",
     "text": [
      "\r",
      "|--------------------| 47/10169   0% [elapsed: 03:10 left: 11:23:45]"
     ]
    },
    {
     "name": "stdout",
     "output_type": "stream",
     "text": [
      "0.644 million (exact: 644427, estimate 128.49 million)\n"
     ]
    },
    {
     "name": "stderr",
     "output_type": "stream",
     "text": [
      "|--------------------| 57/10169   0% [elapsed: 03:21 left: 9:55:55] "
     ]
    },
    {
     "name": "stdout",
     "output_type": "stream",
     "text": [
      "0.781 million (exact: 780949, estimate 130.19 million)\n"
     ]
    },
    {
     "name": "stderr",
     "output_type": "stream",
     "text": [
      "\r",
      "|--------------------| 63/10169   0% [elapsed: 03:32 left: 9:28:57]"
     ]
    },
    {
     "name": "stdout",
     "output_type": "stream",
     "text": [
      "0.916 million (exact: 915545, estimate 131.13 million)\n"
     ]
    },
    {
     "name": "stderr",
     "output_type": "stream",
     "text": [
      "|--------------------| 76/10169   0% [elapsed: 03:44 left: 8:17:40]"
     ]
    },
    {
     "name": "stdout",
     "output_type": "stream",
     "text": [
      "1.080 million (exact: 1080268, estimate 135.62 million)\n"
     ]
    },
    {
     "name": "stderr",
     "output_type": "stream",
     "text": [
      "|--------------------| 90/10169   0% [elapsed: 04:11 left: 7:48:51]"
     ]
    },
    {
     "name": "stdout",
     "output_type": "stream",
     "text": [
      "1.218 million (exact: 1217927, estimate 136.10 million)\n"
     ]
    },
    {
     "name": "stderr",
     "output_type": "stream",
     "text": [
      "\r",
      "|--------------------| 97/10169   0% [elapsed: 04:11 left: 7:15:40]"
     ]
    },
    {
     "name": "stdout",
     "output_type": "stream",
     "text": [
      "1.370 million (exact: 1369703, estimate 137.91 million)\n"
     ]
    },
    {
     "name": "stderr",
     "output_type": "stream",
     "text": [
      "|--------------------| 108/10169   1% [elapsed: 04:29 left: 6:58:14]"
     ]
    },
    {
     "name": "stdout",
     "output_type": "stream",
     "text": [
      "1.526 million (exact: 1525987, estimate 139.80 million)\n"
     ]
    },
    {
     "name": "stderr",
     "output_type": "stream",
     "text": [
      "\r",
      "|--------------------| 117/10169   1% [elapsed: 04:29 left: 6:26:31]"
     ]
    },
    {
     "name": "stdout",
     "output_type": "stream",
     "text": [
      "1.694 million (exact: 1693662, estimate 142.34 million)\n"
     ]
    },
    {
     "name": "stderr",
     "output_type": "stream",
     "text": [
      "\r",
      "|--------------------| 125/10169   1% [elapsed: 04:30 left: 6:02:10]"
     ]
    },
    {
     "name": "stdout",
     "output_type": "stream",
     "text": [
      "1.834 million (exact: 1833597, estimate 142.33 million)\n"
     ]
    },
    {
     "name": "stderr",
     "output_type": "stream",
     "text": [
      "|--------------------| 139/10169   1% [elapsed: 04:45 left: 5:43:46]"
     ]
    },
    {
     "name": "stdout",
     "output_type": "stream",
     "text": [
      "1.965 million (exact: 1964962, estimate 141.71 million)\n"
     ]
    },
    {
     "name": "stderr",
     "output_type": "stream",
     "text": [
      "\r",
      "|--------------------| 146/10169   1% [elapsed: 04:46 left: 5:27:40]"
     ]
    },
    {
     "name": "stdout",
     "output_type": "stream",
     "text": [
      "2.109 million (exact: 2108923, estimate 142.02 million)\n"
     ]
    },
    {
     "name": "stderr",
     "output_type": "stream",
     "text": [
      "|--------------------| 157/10169   1% [elapsed: 05:01 left: 5:20:37]"
     ]
    },
    {
     "name": "stdout",
     "output_type": "stream",
     "text": [
      "2.274 million (exact: 2273620, estimate 143.61 million)\n"
     ]
    },
    {
     "name": "stderr",
     "output_type": "stream",
     "text": [
      "\r",
      "|--------------------| 166/10169   1% [elapsed: 05:02 left: 5:03:30]"
     ]
    },
    {
     "name": "stdout",
     "output_type": "stream",
     "text": [
      "2.424 million (exact: 2423970, estimate 144.15 million)\n"
     ]
    },
    {
     "name": "stderr",
     "output_type": "stream",
     "text": [
      "\r",
      "|--------------------| 174/10169   1% [elapsed: 05:16 left: 5:03:23]"
     ]
    },
    {
     "name": "stdout",
     "output_type": "stream",
     "text": [
      "2.562 million (exact: 2562175, estimate 143.95 million)\n"
     ]
    },
    {
     "name": "stderr",
     "output_type": "stream",
     "text": [
      "\r",
      "|--------------------| 182/10169   1% [elapsed: 05:17 left: 4:50:17]"
     ]
    },
    {
     "name": "stdout",
     "output_type": "stream",
     "text": [
      "2.717 million (exact: 2717342, estimate 144.67 million)\n"
     ]
    },
    {
     "name": "stderr",
     "output_type": "stream",
     "text": [
      "|--------------------| 200/10169   1% [elapsed: 05:18 left: 4:24:39]"
     ]
    },
    {
     "name": "stdout",
     "output_type": "stream",
     "text": [
      "2.863 million (exact: 2862987, estimate 144.84 million)\n"
     ]
    },
    {
     "name": "stderr",
     "output_type": "stream",
     "text": [
      "\r",
      "|--------------------| 204/10169   2% [elapsed: 05:33 left: 4:31:25]"
     ]
    },
    {
     "name": "stdout",
     "output_type": "stream",
     "text": [
      "3.015 million (exact: 3014563, estimate 145.28 million)\n"
     ]
    },
    {
     "name": "stderr",
     "output_type": "stream",
     "text": [
      "|--------------------| 219/10169   2% [elapsed: 05:34 left: 4:13:13]"
     ]
    },
    {
     "name": "stdout",
     "output_type": "stream",
     "text": [
      "3.160 million (exact: 3159567, estimate 145.38 million)\n"
     ]
    },
    {
     "name": "stderr",
     "output_type": "stream",
     "text": [
      "|--------------------| 228/10169   2% [elapsed: 05:50 left: 4:14:23]"
     ]
    },
    {
     "name": "stdout",
     "output_type": "stream",
     "text": [
      "3.314 million (exact: 3314379, estimate 145.90 million)\n"
     ]
    },
    {
     "name": "stderr",
     "output_type": "stream",
     "text": [
      "\r",
      "|--------------------| 235/10169   2% [elapsed: 05:50 left: 4:06:59]"
     ]
    },
    {
     "name": "stdout",
     "output_type": "stream",
     "text": [
      "3.477 million (exact: 3476857, estimate 146.71 million)\n"
     ]
    },
    {
     "name": "stderr",
     "output_type": "stream",
     "text": [
      "|--------------------| 250/10169   2% [elapsed: 05:51 left: 3:52:31]"
     ]
    },
    {
     "name": "stdout",
     "output_type": "stream",
     "text": [
      "3.616 million (exact: 3616310, estimate 146.51 million)\n"
     ]
    },
    {
     "name": "stderr",
     "output_type": "stream",
     "text": [
      "\r",
      "|--------------------| 258/10169   2% [elapsed: 05:52 left: 3:45:27]"
     ]
    },
    {
     "name": "stdout",
     "output_type": "stream",
     "text": [
      "3.767 million (exact: 3766533, estimate 146.75 million)\n"
     ]
    },
    {
     "name": "stderr",
     "output_type": "stream",
     "text": [
      "|--------------------| 267/10169   2% [elapsed: 06:07 left: 3:47:10]"
     ]
    },
    {
     "name": "stdout",
     "output_type": "stream",
     "text": [
      "3.916 million (exact: 3916303, estimate 146.96 million)\n"
     ]
    },
    {
     "name": "stderr",
     "output_type": "stream",
     "text": [
      "\r",
      "|--------------------| 275/10169   2% [elapsed: 06:08 left: 3:40:43]"
     ]
    },
    {
     "name": "stdout",
     "output_type": "stream",
     "text": [
      "4.068 million (exact: 4068021, estimate 147.22 million)\n"
     ]
    },
    {
     "name": "stderr",
     "output_type": "stream",
     "text": [
      "|--------------------| 290/10169   2% [elapsed: 06:09 left: 3:29:35]"
     ]
    },
    {
     "name": "stdout",
     "output_type": "stream",
     "text": [
      "4.202 million (exact: 4202242, estimate 146.85 million)\n"
     ]
    },
    {
     "name": "stderr",
     "output_type": "stream",
     "text": [
      "\r",
      "|--------------------| 293/10169   2% [elapsed: 06:24 left: 3:36:14]"
     ]
    },
    {
     "name": "stdout",
     "output_type": "stream",
     "text": [
      "4.356 million (exact: 4355813, estimate 147.16 million)\n"
     ]
    },
    {
     "name": "stderr",
     "output_type": "stream",
     "text": [
      "|--------------------| 309/10169   3% [elapsed: 06:26 left: 3:25:17]"
     ]
    },
    {
     "name": "stdout",
     "output_type": "stream",
     "text": [
      "4.498 million (exact: 4498078, estimate 147.08 million)\n"
     ]
    },
    {
     "name": "stderr",
     "output_type": "stream",
     "text": [
      "|--------------------| 318/10169   3% [elapsed: 06:27 left: 3:20:17]"
     ]
    },
    {
     "name": "stdout",
     "output_type": "stream",
     "text": [
      "4.647 million (exact: 4647027, estimate 147.21 million)\n"
     ]
    },
    {
     "name": "stderr",
     "output_type": "stream",
     "text": [
      "|--------------------| 326/10169   3% [elapsed: 06:29 left: 3:15:55]"
     ]
    },
    {
     "name": "stdout",
     "output_type": "stream",
     "text": [
      "4.785 million (exact: 4784649, estimate 146.99 million)\n"
     ]
    },
    {
     "name": "stderr",
     "output_type": "stream",
     "text": [
      "|--------------------| 338/10169   3% [elapsed: 06:30 left: 3:09:14]"
     ]
    },
    {
     "name": "stdout",
     "output_type": "stream",
     "text": [
      "4.923 million (exact: 4923096, estimate 146.81 million)\n"
     ]
    },
    {
     "name": "stderr",
     "output_type": "stream",
     "text": [
      "|--------------------| 346/10169   3% [elapsed: 06:46 left: 3:12:27]"
     ]
    },
    {
     "name": "stdout",
     "output_type": "stream",
     "text": [
      "5.065 million (exact: 5064945, estimate 146.74 million)\n"
     ]
    },
    {
     "name": "stderr",
     "output_type": "stream",
     "text": [
      "\r",
      "|--------------------| 355/10169   3% [elapsed: 06:47 left: 3:07:41]"
     ]
    },
    {
     "name": "stdout",
     "output_type": "stream",
     "text": [
      "5.223 million (exact: 5222674, estimate 147.12 million)\n"
     ]
    },
    {
     "name": "stderr",
     "output_type": "stream",
     "text": [
      "\r",
      "|--------------------| 363/10169   3% [elapsed: 06:47 left: 3:03:37]"
     ]
    },
    {
     "name": "stdout",
     "output_type": "stream",
     "text": [
      "5.355 million (exact: 5355390, estimate 146.79 million)\n"
     ]
    },
    {
     "name": "stderr",
     "output_type": "stream",
     "text": [
      "|--------------------| 379/10169   3% [elapsed: 06:48 left: 2:56:04]"
     ]
    },
    {
     "name": "stdout",
     "output_type": "stream",
     "text": [
      "5.501 million (exact: 5501236, estimate 146.83 million)\n"
     ]
    },
    {
     "name": "stderr",
     "output_type": "stream",
     "text": [
      "|--------------------| 388/10169   3% [elapsed: 06:50 left: 2:52:22]"
     ]
    },
    {
     "name": "stdout",
     "output_type": "stream",
     "text": [
      "5.649 million (exact: 5648830, estimate 146.91 million)\n"
     ]
    },
    {
     "name": "stderr",
     "output_type": "stream",
     "text": [
      "|--------------------| 399/10169   3% [elapsed: 06:51 left: 2:47:52]"
     ]
    },
    {
     "name": "stdout",
     "output_type": "stream",
     "text": [
      "5.785 million (exact: 5784903, estimate 146.70 million)\n"
     ]
    },
    {
     "name": "stderr",
     "output_type": "stream",
     "text": [
      "|--------------------| 409/10169   4% [elapsed: 07:09 left: 2:50:42]"
     ]
    },
    {
     "name": "stdout",
     "output_type": "stream",
     "text": [
      "5.951 million (exact: 5950712, estimate 147.23 million)\n"
     ]
    },
    {
     "name": "stderr",
     "output_type": "stream",
     "text": [
      "\r",
      "|--------------------| 418/10169   4% [elapsed: 07:09 left: 2:47:04]"
     ]
    },
    {
     "name": "stdout",
     "output_type": "stream",
     "text": [
      "6.094 million (exact: 6094120, estimate 147.20 million)\n"
     ]
    },
    {
     "name": "stderr",
     "output_type": "stream",
     "text": [
      "\r",
      "|--------------------| 427/10169   4% [elapsed: 07:10 left: 2:43:36]"
     ]
    },
    {
     "name": "stdout",
     "output_type": "stream",
     "text": [
      "6.256 million (exact: 6256362, estimate 147.61 million)\n"
     ]
    },
    {
     "name": "stderr",
     "output_type": "stream",
     "text": [
      "|--------------------| 433/10169   4% [elapsed: 07:11 left: 2:41:38]"
     ]
    },
    {
     "name": "stdout",
     "output_type": "stream",
     "text": [
      "6.403 million (exact: 6402710, estimate 147.64 million)\n"
     ]
    },
    {
     "name": "stderr",
     "output_type": "stream",
     "text": [
      "|--------------------| 449/10169   4% [elapsed: 07:12 left: 2:36:04]"
     ]
    },
    {
     "name": "stdout",
     "output_type": "stream",
     "text": [
      "6.554 million (exact: 6554440, estimate 147.79 million)\n"
     ]
    },
    {
     "name": "stderr",
     "output_type": "stream",
     "text": [
      "\r",
      "|--------------------| 455/10169   4% [elapsed: 07:13 left: 2:34:06]"
     ]
    },
    {
     "name": "stdout",
     "output_type": "stream",
     "text": [
      "6.704 million (exact: 6703952, estimate 147.88 million)\n"
     ]
    },
    {
     "name": "stderr",
     "output_type": "stream",
     "text": [
      "|--------------------| 470/10169   4% [elapsed: 07:14 left: 2:29:19]"
     ]
    },
    {
     "name": "stdout",
     "output_type": "stream",
     "text": [
      "6.850 million (exact: 6849752, estimate 147.89 million)\n"
     ]
    },
    {
     "name": "stderr",
     "output_type": "stream",
     "text": [
      "\r",
      "|--------------------| 476/10169   4% [elapsed: 07:14 left: 2:27:31]"
     ]
    },
    {
     "name": "stdout",
     "output_type": "stream",
     "text": [
      "6.979 million (exact: 6978533, estimate 147.54 million)\n"
     ]
    },
    {
     "name": "stderr",
     "output_type": "stream",
     "text": [
      "|--------------------| 489/10169   4% [elapsed: 07:15 left: 2:23:47]"
     ]
    },
    {
     "name": "stdout",
     "output_type": "stream",
     "text": [
      "7.129 million (exact: 7128834, estimate 147.64 million)\n"
     ]
    },
    {
     "name": "stderr",
     "output_type": "stream",
     "text": [
      "\r",
      "|--------------------| 496/10169   4% [elapsed: 07:16 left: 2:21:49]"
     ]
    },
    {
     "name": "stdout",
     "output_type": "stream",
     "text": [
      "7.268 million (exact: 7268048, estimate 147.52 million)\n"
     ]
    },
    {
     "name": "stderr",
     "output_type": "stream",
     "text": [
      "|#-------------------| 509/10169   5% [elapsed: 07:34 left: 2:23:52]"
     ]
    },
    {
     "name": "stdout",
     "output_type": "stream",
     "text": [
      "7.414 million (exact: 7414208, estimate 147.54 million)\n"
     ]
    },
    {
     "name": "stderr",
     "output_type": "stream",
     "text": [
      "\r",
      "|#-------------------| 517/10169   5% [elapsed: 07:35 left: 2:21:41]"
     ]
    },
    {
     "name": "stdout",
     "output_type": "stream",
     "text": [
      "7.560 million (exact: 7560402, estimate 147.57 million)\n"
     ]
    },
    {
     "name": "stderr",
     "output_type": "stream",
     "text": [
      "\r",
      "|#-------------------| 525/10169   5% [elapsed: 07:35 left: 2:19:34]"
     ]
    },
    {
     "name": "stdout",
     "output_type": "stream",
     "text": [
      "7.711 million (exact: 7710828, estimate 147.67 million)\n"
     ]
    },
    {
     "name": "stderr",
     "output_type": "stream",
     "text": [
      "|#-------------------| 540/10169   5% [elapsed: 07:36 left: 2:15:48]"
     ]
    },
    {
     "name": "stdout",
     "output_type": "stream",
     "text": [
      "7.869 million (exact: 7869075, estimate 147.91 million)\n"
     ]
    },
    {
     "name": "stderr",
     "output_type": "stream",
     "text": [
      "\r",
      "|#-------------------| 549/10169   5% [elapsed: 07:37 left: 2:13:36]"
     ]
    },
    {
     "name": "stdout",
     "output_type": "stream",
     "text": [
      "8.013 million (exact: 8012628, estimate 147.88 million)\n"
     ]
    },
    {
     "name": "stderr",
     "output_type": "stream",
     "text": [
      "\r",
      "|#-------------------| 557/10169   5% [elapsed: 07:38 left: 2:11:44]"
     ]
    },
    {
     "name": "stdout",
     "output_type": "stream",
     "text": [
      "8.168 million (exact: 8167768, estimate 148.05 million)\n"
     ]
    },
    {
     "name": "stderr",
     "output_type": "stream",
     "text": [
      "\r",
      "|#-------------------| 566/10169   5% [elapsed: 07:38 left: 2:09:40]"
     ]
    },
    {
     "name": "stdout",
     "output_type": "stream",
     "text": [
      "8.320 million (exact: 8319557, estimate 148.16 million)\n"
     ]
    },
    {
     "name": "stderr",
     "output_type": "stream",
     "text": [
      "\r",
      "|#-------------------| 575/10169   5% [elapsed: 07:39 left: 2:07:40]"
     ]
    },
    {
     "name": "stdout",
     "output_type": "stream",
     "text": [
      "8.464 million (exact: 8464161, estimate 148.14 million)\n"
     ]
    },
    {
     "name": "stderr",
     "output_type": "stream",
     "text": [
      "\r",
      "|#-------------------| 583/10169   5% [elapsed: 07:39 left: 2:05:59]"
     ]
    },
    {
     "name": "stdout",
     "output_type": "stream",
     "text": [
      "8.624 million (exact: 8624409, estimate 148.40 million)\n"
     ]
    },
    {
     "name": "stderr",
     "output_type": "stream",
     "text": [
      "|#-------------------| 599/10169   5% [elapsed: 07:40 left: 2:02:42]"
     ]
    },
    {
     "name": "stdout",
     "output_type": "stream",
     "text": [
      "8.777 million (exact: 8777164, estimate 148.51 million)\n"
     ]
    },
    {
     "name": "stderr",
     "output_type": "stream",
     "text": [
      "|#-------------------| 609/10169   5% [elapsed: 07:59 left: 2:05:21]"
     ]
    },
    {
     "name": "stdout",
     "output_type": "stream",
     "text": [
      "8.929 million (exact: 8928909, estimate 148.61 million)\n"
     ]
    },
    {
     "name": "stderr",
     "output_type": "stream",
     "text": [
      "\r",
      "|#-------------------| 616/10169   6% [elapsed: 07:59 left: 2:03:58]"
     ]
    },
    {
     "name": "stdout",
     "output_type": "stream",
     "text": [
      "9.081 million (exact: 9080601, estimate 148.70 million)\n"
     ]
    },
    {
     "name": "stderr",
     "output_type": "stream",
     "text": [
      "\r",
      "|#-------------------| 624/10169   6% [elapsed: 08:00 left: 2:02:25]"
     ]
    },
    {
     "name": "stdout",
     "output_type": "stream",
     "text": [
      "9.218 million (exact: 9217729, estimate 148.55 million)\n"
     ]
    },
    {
     "name": "stderr",
     "output_type": "stream",
     "text": [
      "|#-------------------| 638/10169   6% [elapsed: 08:01 left: 1:59:49]"
     ]
    },
    {
     "name": "stdout",
     "output_type": "stream",
     "text": [
      "9.369 million (exact: 9368872, estimate 148.63 million)\n"
     ]
    },
    {
     "name": "stderr",
     "output_type": "stream",
     "text": [
      "\r",
      "|#-------------------| 644/10169   6% [elapsed: 08:01 left: 1:58:45]"
     ]
    },
    {
     "name": "stdout",
     "output_type": "stream",
     "text": [
      "9.518 million (exact: 9517639, estimate 148.67 million)\n"
     ]
    },
    {
     "name": "stderr",
     "output_type": "stream",
     "text": [
      "|#-------------------| 660/10169   6% [elapsed: 08:02 left: 1:55:56]"
     ]
    },
    {
     "name": "stdout",
     "output_type": "stream",
     "text": [
      "9.665 million (exact: 9664835, estimate 148.69 million)\n"
     ]
    },
    {
     "name": "stderr",
     "output_type": "stream",
     "text": [
      "\r",
      "|#-------------------| 668/10169   6% [elapsed: 08:03 left: 1:54:35]"
     ]
    },
    {
     "name": "stdout",
     "output_type": "stream",
     "text": [
      "9.823 million (exact: 9822852, estimate 148.87 million)\n"
     ]
    },
    {
     "name": "stderr",
     "output_type": "stream",
     "text": [
      "\r",
      "|#-------------------| 674/10169   6% [elapsed: 08:03 left: 1:53:37]"
     ]
    },
    {
     "name": "stdout",
     "output_type": "stream",
     "text": [
      "9.974 million (exact: 9974196, estimate 148.94 million)\n"
     ]
    },
    {
     "name": "stderr",
     "output_type": "stream",
     "text": [
      "|#-------------------| 690/10169   6% [elapsed: 08:05 left: 1:51:02]"
     ]
    },
    {
     "name": "stdout",
     "output_type": "stream",
     "text": [
      "10.118 million (exact: 10118303, estimate 148.90 million)\n"
     ]
    },
    {
     "name": "stderr",
     "output_type": "stream",
     "text": [
      "\r",
      "|#-------------------| 697/10169   6% [elapsed: 08:05 left: 1:49:58]"
     ]
    },
    {
     "name": "stdout",
     "output_type": "stream",
     "text": [
      "10.271 million (exact: 10270895, estimate 148.99 million)\n"
     ]
    },
    {
     "name": "stderr",
     "output_type": "stream",
     "text": [
      "|#-------------------| 709/10169   6% [elapsed: 08:23 left: 1:52:00]"
     ]
    },
    {
     "name": "stdout",
     "output_type": "stream",
     "text": [
      "10.412 million (exact: 10411796, estimate 148.91 million)\n"
     ]
    },
    {
     "name": "stderr",
     "output_type": "stream",
     "text": [
      "\r",
      "|#-------------------| 717/10169   7% [elapsed: 08:24 left: 1:50:46]"
     ]
    },
    {
     "name": "stdout",
     "output_type": "stream",
     "text": [
      "10.559 million (exact: 10559358, estimate 148.93 million)\n"
     ]
    },
    {
     "name": "stderr",
     "output_type": "stream",
     "text": [
      "|#-------------------| 730/10169   7% [elapsed: 08:25 left: 1:48:54]"
     ]
    },
    {
     "name": "stdout",
     "output_type": "stream",
     "text": [
      "10.697 million (exact: 10697295, estimate 148.81 million)\n"
     ]
    },
    {
     "name": "stderr",
     "output_type": "stream",
     "text": [
      "\r",
      "|#-------------------| 735/10169   7% [elapsed: 08:25 left: 1:48:13]"
     ]
    },
    {
     "name": "stdout",
     "output_type": "stream",
     "text": [
      "10.856 million (exact: 10856021, estimate 148.98 million)\n"
     ]
    },
    {
     "name": "stderr",
     "output_type": "stream",
     "text": [
      "|#-------------------| 750/10169   7% [elapsed: 08:27 left: 1:46:07]"
     ]
    },
    {
     "name": "stdout",
     "output_type": "stream",
     "text": [
      "10.996 million (exact: 10996433, estimate 148.90 million)\n"
     ]
    },
    {
     "name": "stderr",
     "output_type": "stream",
     "text": [
      "\r",
      "|#-------------------| 757/10169   7% [elapsed: 08:27 left: 1:45:10]"
     ]
    },
    {
     "name": "stdout",
     "output_type": "stream",
     "text": [
      "11.140 million (exact: 11140436, estimate 148.87 million)\n"
     ]
    },
    {
     "name": "stderr",
     "output_type": "stream",
     "text": [
      "\r",
      "|#-------------------| 764/10169   7% [elapsed: 08:28 left: 1:44:14]"
     ]
    },
    {
     "name": "stdout",
     "output_type": "stream",
     "text": [
      "11.276 million (exact: 11276042, estimate 148.72 million)\n"
     ]
    },
    {
     "name": "stderr",
     "output_type": "stream",
     "text": [
      "\r",
      "|#-------------------| 772/10169   7% [elapsed: 08:28 left: 1:43:10]"
     ]
    },
    {
     "name": "stdout",
     "output_type": "stream",
     "text": [
      "11.421 million (exact: 11421195, estimate 148.71 million)\n"
     ]
    },
    {
     "name": "stderr",
     "output_type": "stream",
     "text": [
      "|#-------------------| 789/10169   7% [elapsed: 08:29 left: 1:40:59]"
     ]
    },
    {
     "name": "stdout",
     "output_type": "stream",
     "text": [
      "11.568 million (exact: 11567724, estimate 148.71 million)\n"
     ]
    },
    {
     "name": "stderr",
     "output_type": "stream",
     "text": [
      "\r",
      "|#-------------------| 797/10169   7% [elapsed: 08:30 left: 1:39:59]"
     ]
    },
    {
     "name": "stdout",
     "output_type": "stream",
     "text": [
      "11.723 million (exact: 11722519, estimate 148.82 million)\n"
     ]
    },
    {
     "name": "stderr",
     "output_type": "stream",
     "text": [
      "|#-------------------| 809/10169   7% [elapsed: 08:47 left: 1:41:47]"
     ]
    },
    {
     "name": "stdout",
     "output_type": "stream",
     "text": [
      "11.872 million (exact: 11871912, estimate 148.86 million)\n"
     ]
    },
    {
     "name": "stderr",
     "output_type": "stream",
     "text": [
      "|#-------------------| 818/10169   8% [elapsed: 08:48 left: 1:40:46]"
     ]
    },
    {
     "name": "stdout",
     "output_type": "stream",
     "text": [
      "12.024 million (exact: 12023888, estimate 148.93 million)\n"
     ]
    },
    {
     "name": "stderr",
     "output_type": "stream",
     "text": [
      "\r",
      "|#-------------------| 825/10169   8% [elapsed: 08:49 left: 1:39:56]"
     ]
    },
    {
     "name": "stdout",
     "output_type": "stream",
     "text": [
      "12.181 million (exact: 12181200, estimate 149.06 million)\n"
     ]
    },
    {
     "name": "stderr",
     "output_type": "stream",
     "text": [
      "|#-------------------| 839/10169   8% [elapsed: 08:50 left: 1:38:19]"
     ]
    },
    {
     "name": "stdout",
     "output_type": "stream",
     "text": [
      "12.330 million (exact: 12329612, estimate 149.08 million)\n"
     ]
    },
    {
     "name": "stderr",
     "output_type": "stream",
     "text": [
      "\r",
      "|#-------------------| 847/10169   8% [elapsed: 08:51 left: 1:37:24]"
     ]
    },
    {
     "name": "stdout",
     "output_type": "stream",
     "text": [
      "12.474 million (exact: 12474164, estimate 149.06 million)\n"
     ]
    },
    {
     "name": "stderr",
     "output_type": "stream",
     "text": [
      "\r",
      "|#-------------------| 856/10169   8% [elapsed: 08:51 left: 1:36:23]"
     ]
    },
    {
     "name": "stdout",
     "output_type": "stream",
     "text": [
      "12.622 million (exact: 12621922, estimate 149.07 million)\n"
     ]
    },
    {
     "name": "stderr",
     "output_type": "stream",
     "text": [
      "\r",
      "|#-------------------| 863/10169   8% [elapsed: 08:52 left: 1:35:37]"
     ]
    },
    {
     "name": "stdout",
     "output_type": "stream",
     "text": [
      "12.778 million (exact: 12778022, estimate 149.18 million)\n"
     ]
    },
    {
     "name": "stderr",
     "output_type": "stream",
     "text": [
      "|#-------------------| 880/10169   8% [elapsed: 08:53 left: 1:33:48]"
     ]
    },
    {
     "name": "stdout",
     "output_type": "stream",
     "text": [
      "12.928 million (exact: 12928211, estimate 149.22 million)\n"
     ]
    },
    {
     "name": "stderr",
     "output_type": "stream",
     "text": [
      "\r",
      "|#-------------------| 889/10169   8% [elapsed: 08:53 left: 1:32:51]"
     ]
    },
    {
     "name": "stdout",
     "output_type": "stream",
     "text": [
      "13.078 million (exact: 13077517, estimate 149.25 million)\n"
     ]
    },
    {
     "name": "stderr",
     "output_type": "stream",
     "text": [
      "\r",
      "|#-------------------| 897/10169   8% [elapsed: 08:54 left: 1:32:02]"
     ]
    },
    {
     "name": "stdout",
     "output_type": "stream",
     "text": [
      "13.217 million (exact: 13217088, estimate 149.17 million)\n"
     ]
    },
    {
     "name": "stderr",
     "output_type": "stream",
     "text": [
      "|#-------------------| 909/10169   8% [elapsed: 09:18 left: 1:34:47]"
     ]
    },
    {
     "name": "stdout",
     "output_type": "stream",
     "text": [
      "13.361 million (exact: 13361275, estimate 149.14 million)\n"
     ]
    },
    {
     "name": "stderr",
     "output_type": "stream",
     "text": [
      "\r",
      "|#-------------------| 916/10169   9% [elapsed: 09:18 left: 1:34:05]"
     ]
    },
    {
     "name": "stdout",
     "output_type": "stream",
     "text": [
      "13.506 million (exact: 13506427, estimate 149.13 million)\n"
     ]
    },
    {
     "name": "stderr",
     "output_type": "stream",
     "text": [
      "\r",
      "|#-------------------| 923/10169   9% [elapsed: 09:19 left: 1:33:23]"
     ]
    },
    {
     "name": "stdout",
     "output_type": "stream",
     "text": [
      "13.658 million (exact: 13658466, estimate 149.19 million)\n"
     ]
    },
    {
     "name": "stderr",
     "output_type": "stream",
     "text": [
      "|#-------------------| 940/10169   9% [elapsed: 09:20 left: 1:31:42]"
     ]
    },
    {
     "name": "stdout",
     "output_type": "stream",
     "text": [
      "13.804 million (exact: 13804295, estimate 149.18 million)\n"
     ]
    },
    {
     "name": "stderr",
     "output_type": "stream",
     "text": [
      "\r",
      "|#-------------------| 947/10169   9% [elapsed: 09:20 left: 1:31:02]"
     ]
    },
    {
     "name": "stdout",
     "output_type": "stream",
     "text": [
      "13.943 million (exact: 13942718, estimate 149.09 million)\n"
     ]
    },
    {
     "name": "stderr",
     "output_type": "stream",
     "text": [
      "\r",
      "|#-------------------| 956/10169   9% [elapsed: 09:21 left: 1:30:11]"
     ]
    },
    {
     "name": "stdout",
     "output_type": "stream",
     "text": [
      "14.102 million (exact: 14102349, estimate 149.23 million)\n"
     ]
    },
    {
     "name": "stderr",
     "output_type": "stream",
     "text": [
      "\r",
      "|#-------------------| 962/10169   9% [elapsed: 09:22 left: 1:29:38]"
     ]
    },
    {
     "name": "stdout",
     "output_type": "stream",
     "text": [
      "14.254 million (exact: 14254174, estimate 149.28 million)\n"
     ]
    },
    {
     "name": "stderr",
     "output_type": "stream",
     "text": [
      "|#-------------------| 978/10169   9% [elapsed: 09:23 left: 1:28:11]"
     ]
    },
    {
     "name": "stdout",
     "output_type": "stream",
     "text": [
      "14.386 million (exact: 14385782, estimate 149.12 million)\n"
     ]
    },
    {
     "name": "stderr",
     "output_type": "stream",
     "text": [
      "\r",
      "|#-------------------| 985/10169   9% [elapsed: 09:23 left: 1:27:34]"
     ]
    },
    {
     "name": "stdout",
     "output_type": "stream",
     "text": [
      "14.544 million (exact: 14544337, estimate 149.24 million)\n"
     ]
    },
    {
     "name": "stderr",
     "output_type": "stream",
     "text": [
      "|#-------------------| 1000/10169   9% [elapsed: 09:24 left: 1:26:17]"
     ]
    },
    {
     "name": "stdout",
     "output_type": "stream",
     "text": [
      "14.681 million (exact: 14680786, estimate 149.14 million)\n"
     ]
    },
    {
     "name": "stderr",
     "output_type": "stream",
     "text": [
      "|#-------------------| 1009/10169   9% [elapsed: 09:44 left: 1:28:29]"
     ]
    },
    {
     "name": "stdout",
     "output_type": "stream",
     "text": [
      "14.840 million (exact: 14839564, estimate 149.26 million)\n"
     ]
    },
    {
     "name": "stderr",
     "output_type": "stream",
     "text": [
      "\r",
      "|##------------------| 1017/10169  10% [elapsed: 09:45 left: 1:27:47]"
     ]
    },
    {
     "name": "stdout",
     "output_type": "stream",
     "text": [
      "14.990 million (exact: 14989762, estimate 149.30 million)\n"
     ]
    },
    {
     "name": "stderr",
     "output_type": "stream",
     "text": [
      "|##------------------| 1030/10169  10% [elapsed: 09:46 left: 1:26:43]"
     ]
    },
    {
     "name": "stdout",
     "output_type": "stream",
     "text": [
      "15.156 million (exact: 15156345, estimate 149.49 million)\n"
     ]
    },
    {
     "name": "stderr",
     "output_type": "stream",
     "text": [
      "\r",
      "|##------------------| 1038/10169  10% [elapsed: 09:46 left: 1:26:03]"
     ]
    },
    {
     "name": "stdout",
     "output_type": "stream",
     "text": [
      "15.310 million (exact: 15310167, estimate 149.56 million)\n"
     ]
    },
    {
     "name": "stderr",
     "output_type": "stream",
     "text": [
      "|##------------------| 1049/10169  10% [elapsed: 09:48 left: 1:25:12]"
     ]
    },
    {
     "name": "stdout",
     "output_type": "stream",
     "text": [
      "15.461 million (exact: 15460794, estimate 149.59 million)\n"
     ]
    },
    {
     "name": "stderr",
     "output_type": "stream",
     "text": [
      "\r",
      "|##------------------| 1057/10169  10% [elapsed: 09:48 left: 1:24:33]"
     ]
    },
    {
     "name": "stdout",
     "output_type": "stream",
     "text": [
      "15.608 million (exact: 15607937, estimate 149.59 million)\n"
     ]
    },
    {
     "name": "stderr",
     "output_type": "stream",
     "text": [
      "|##------------------| 1068/10169  10% [elapsed: 09:50 left: 1:23:56]"
     ]
    },
    {
     "name": "stdout",
     "output_type": "stream",
     "text": [
      "15.750 million (exact: 15750178, estimate 149.55 million)\n"
     ]
    },
    {
     "name": "stderr",
     "output_type": "stream",
     "text": [
      "\r",
      "|##------------------| 1074/10169  10% [elapsed: 09:51 left: 1:23:29]"
     ]
    },
    {
     "name": "stdout",
     "output_type": "stream",
     "text": [
      "15.885 million (exact: 15885235, estimate 149.43 million)\n"
     ]
    },
    {
     "name": "stderr",
     "output_type": "stream",
     "text": [
      "|##------------------| 1089/10169  10% [elapsed: 09:52 left: 1:22:21]"
     ]
    },
    {
     "name": "stdout",
     "output_type": "stream",
     "text": [
      "16.044 million (exact: 16044390, estimate 149.55 million)\n"
     ]
    },
    {
     "name": "stderr",
     "output_type": "stream",
     "text": [
      "\r",
      "|##------------------| 1094/10169  10% [elapsed: 09:53 left: 1:22:00]"
     ]
    },
    {
     "name": "stdout",
     "output_type": "stream",
     "text": [
      "16.199 million (exact: 16199168, estimate 149.62 million)\n"
     ]
    },
    {
     "name": "stderr",
     "output_type": "stream",
     "text": [
      "|##------------------| 1109/10169  10% [elapsed: 10:13 left: 1:23:29]"
     ]
    },
    {
     "name": "stdout",
     "output_type": "stream",
     "text": [
      "16.355 million (exact: 16355015, estimate 149.70 million)\n"
     ]
    },
    {
     "name": "stderr",
     "output_type": "stream",
     "text": [
      "\r",
      "|##------------------| 1117/10169  10% [elapsed: 10:13 left: 1:22:53]"
     ]
    },
    {
     "name": "stdout",
     "output_type": "stream",
     "text": [
      "16.501 million (exact: 16501166, estimate 149.69 million)\n"
     ]
    },
    {
     "name": "stderr",
     "output_type": "stream",
     "text": [
      "|##------------------| 1129/10169  11% [elapsed: 10:14 left: 1:22:03]"
     ]
    },
    {
     "name": "stdout",
     "output_type": "stream",
     "text": [
      "16.648 million (exact: 16648458, estimate 149.69 million)\n"
     ]
    },
    {
     "name": "stderr",
     "output_type": "stream",
     "text": [
      "\r",
      "|##------------------| 1134/10169  11% [elapsed: 10:15 left: 1:21:43]"
     ]
    },
    {
     "name": "stdout",
     "output_type": "stream",
     "text": [
      "16.806 million (exact: 16806235, estimate 149.78 million)\n"
     ]
    },
    {
     "name": "stderr",
     "output_type": "stream",
     "text": [
      "|##------------------| 1149/10169  11% [elapsed: 10:16 left: 1:20:40]"
     ]
    },
    {
     "name": "stdout",
     "output_type": "stream",
     "text": [
      "16.951 million (exact: 16950757, estimate 149.76 million)\n"
     ]
    },
    {
     "name": "stderr",
     "output_type": "stream",
     "text": [
      "\r",
      "|##------------------| 1153/10169  11% [elapsed: 10:17 left: 1:20:25]"
     ]
    },
    {
     "name": "stdout",
     "output_type": "stream",
     "text": [
      "17.075 million (exact: 17074510, estimate 149.55 million)\n"
     ]
    },
    {
     "name": "stderr",
     "output_type": "stream",
     "text": [
      "|##------------------| 1168/10169  11% [elapsed: 10:18 left: 1:19:25]"
     ]
    },
    {
     "name": "stdout",
     "output_type": "stream",
     "text": [
      "17.239 million (exact: 17239075, estimate 149.70 million)\n"
     ]
    },
    {
     "name": "stderr",
     "output_type": "stream",
     "text": [
      "\r",
      "|##------------------| 1176/10169  11% [elapsed: 10:18 left: 1:18:53]"
     ]
    },
    {
     "name": "stdout",
     "output_type": "stream",
     "text": [
      "17.388 million (exact: 17388353, estimate 149.72 million)\n"
     ]
    },
    {
     "name": "stderr",
     "output_type": "stream",
     "text": [
      "|##------------------| 1187/10169  11% [elapsed: 10:19 left: 1:18:11]"
     ]
    },
    {
     "name": "stdout",
     "output_type": "stream",
     "text": [
      "17.538 million (exact: 17537881, estimate 149.74 million)\n"
     ]
    },
    {
     "name": "stderr",
     "output_type": "stream",
     "text": [
      "\r",
      "|##------------------| 1194/10169  11% [elapsed: 10:20 left: 1:17:44]"
     ]
    },
    {
     "name": "stdout",
     "output_type": "stream",
     "text": [
      "17.696 million (exact: 17696433, estimate 149.84 million)\n"
     ]
    },
    {
     "name": "stderr",
     "output_type": "stream",
     "text": [
      "|##------------------| 1209/10169  11% [elapsed: 10:38 left: 1:18:53]"
     ]
    },
    {
     "name": "stdout",
     "output_type": "stream",
     "text": [
      "17.846 million (exact: 17846026, estimate 149.86 million)\n"
     ]
    },
    {
     "name": "stderr",
     "output_type": "stream",
     "text": [
      "\r",
      "|##------------------| 1216/10169  11% [elapsed: 10:39 left: 1:18:26]"
     ]
    },
    {
     "name": "stdout",
     "output_type": "stream",
     "text": [
      "18.002 million (exact: 18002145, estimate 149.93 million)\n"
     ]
    },
    {
     "name": "stderr",
     "output_type": "stream",
     "text": [
      "\r",
      "|##------------------| 1224/10169  12% [elapsed: 10:39 left: 1:17:55]"
     ]
    },
    {
     "name": "stdout",
     "output_type": "stream",
     "text": [
      "18.152 million (exact: 18152146, estimate 149.95 million)\n"
     ]
    },
    {
     "name": "stderr",
     "output_type": "stream",
     "text": [
      "|##------------------| 1239/10169  12% [elapsed: 10:40 left: 1:16:58]"
     ]
    },
    {
     "name": "stdout",
     "output_type": "stream",
     "text": [
      "18.310 million (exact: 18310179, estimate 150.04 million)\n"
     ]
    },
    {
     "name": "stderr",
     "output_type": "stream",
     "text": [
      "\r",
      "|##------------------| 1246/10169  12% [elapsed: 10:41 left: 1:16:33]"
     ]
    },
    {
     "name": "stdout",
     "output_type": "stream",
     "text": [
      "18.460 million (exact: 18459875, estimate 150.05 million)\n"
     ]
    },
    {
     "name": "stderr",
     "output_type": "stream",
     "text": [
      "|##------------------| 1258/10169  12% [elapsed: 10:42 left: 1:15:50]"
     ]
    },
    {
     "name": "stdout",
     "output_type": "stream",
     "text": [
      "18.608 million (exact: 18607623, estimate 150.06 million)\n"
     ]
    },
    {
     "name": "stderr",
     "output_type": "stream",
     "text": [
      "|##------------------| 1270/10169  12% [elapsed: 10:43 left: 1:15:09]"
     ]
    },
    {
     "name": "stdout",
     "output_type": "stream",
     "text": [
      "18.769 million (exact: 18768880, estimate 150.17 million)\n"
     ]
    },
    {
     "name": "stderr",
     "output_type": "stream",
     "text": [
      "|##------------------| 1280/10169  12% [elapsed: 10:44 left: 1:14:37]"
     ]
    },
    {
     "name": "stdout",
     "output_type": "stream",
     "text": [
      "18.925 million (exact: 18925026, estimate 150.23 million)\n"
     ]
    },
    {
     "name": "stderr",
     "output_type": "stream",
     "text": [
      "\r",
      "|##------------------| 1288/10169  12% [elapsed: 10:45 left: 1:14:09]"
     ]
    },
    {
     "name": "stdout",
     "output_type": "stream",
     "text": [
      "19.066 million (exact: 19065546, estimate 150.18 million)\n"
     ]
    },
    {
     "name": "stderr",
     "output_type": "stream",
     "text": [
      "\r",
      "|##------------------| 1294/10169  12% [elapsed: 10:45 left: 1:13:49]"
     ]
    },
    {
     "name": "stdout",
     "output_type": "stream",
     "text": [
      "19.223 million (exact: 19222917, estimate 150.25 million)\n"
     ]
    },
    {
     "name": "stderr",
     "output_type": "stream",
     "text": [
      "|##------------------| 1309/10169  12% [elapsed: 11:05 left: 1:15:03]"
     ]
    },
    {
     "name": "stdout",
     "output_type": "stream",
     "text": [
      "19.381 million (exact: 19380991, estimate 150.33 million)\n"
     ]
    },
    {
     "name": "stderr",
     "output_type": "stream",
     "text": [
      "\r",
      "|##------------------| 1316/10169  12% [elapsed: 11:05 left: 1:14:39]"
     ]
    },
    {
     "name": "stdout",
     "output_type": "stream",
     "text": [
      "19.536 million (exact: 19536126, estimate 150.39 million)\n"
     ]
    },
    {
     "name": "stderr",
     "output_type": "stream",
     "text": [
      "\r",
      "|##------------------| 1324/10169  13% [elapsed: 11:06 left: 1:14:12]"
     ]
    },
    {
     "name": "stdout",
     "output_type": "stream",
     "text": [
      "19.689 million (exact: 19688839, estimate 150.43 million)\n"
     ]
    },
    {
     "name": "stderr",
     "output_type": "stream",
     "text": [
      "|##------------------| 1340/10169  13% [elapsed: 11:07 left: 1:13:18]"
     ]
    },
    {
     "name": "stdout",
     "output_type": "stream",
     "text": [
      "19.818 million (exact: 19817598, estimate 150.28 million)\n"
     ]
    },
    {
     "name": "stderr",
     "output_type": "stream",
     "text": [
      "\r",
      "|##------------------| 1348/10169  13% [elapsed: 11:08 left: 1:12:51]"
     ]
    },
    {
     "name": "stdout",
     "output_type": "stream",
     "text": [
      "19.941 million (exact: 19940561, estimate 150.09 million)\n"
     ]
    },
    {
     "name": "stderr",
     "output_type": "stream",
     "text": [
      "\r",
      "|##------------------| 1355/10169  13% [elapsed: 11:08 left: 1:12:29]"
     ]
    },
    {
     "name": "stdout",
     "output_type": "stream",
     "text": [
      "20.077 million (exact: 20077168, estimate 150.01 million)\n"
     ]
    },
    {
     "name": "stderr",
     "output_type": "stream",
     "text": [
      "\r",
      "|##------------------| 1363/10169  13% [elapsed: 11:09 left: 1:12:03]"
     ]
    },
    {
     "name": "stdout",
     "output_type": "stream",
     "text": [
      "20.225 million (exact: 20225474, estimate 150.02 million)\n"
     ]
    },
    {
     "name": "stderr",
     "output_type": "stream",
     "text": [
      "|##------------------| 1379/10169  13% [elapsed: 11:10 left: 1:11:12]"
     ]
    },
    {
     "name": "stdout",
     "output_type": "stream",
     "text": [
      "20.379 million (exact: 20378531, estimate 150.06 million)\n"
     ]
    },
    {
     "name": "stderr",
     "output_type": "stream",
     "text": [
      "\r",
      "|##------------------| 1386/10169  13% [elapsed: 11:10 left: 1:10:50]"
     ]
    },
    {
     "name": "stdout",
     "output_type": "stream",
     "text": [
      "20.501 million (exact: 20501288, estimate 149.88 million)\n"
     ]
    },
    {
     "name": "stderr",
     "output_type": "stream",
     "text": [
      "\r",
      "|##------------------| 1395/10169  13% [elapsed: 11:11 left: 1:10:22]"
     ]
    },
    {
     "name": "stdout",
     "output_type": "stream",
     "text": [
      "20.632 million (exact: 20631698, estimate 149.75 million)\n"
     ]
    },
    {
     "name": "stderr",
     "output_type": "stream",
     "text": [
      "|##------------------| 1409/10169  13% [elapsed: 11:30 left: 1:11:31]"
     ]
    },
    {
     "name": "stdout",
     "output_type": "stream",
     "text": [
      "20.775 million (exact: 20774824, estimate 149.72 million)\n"
     ]
    },
    {
     "name": "stderr",
     "output_type": "stream",
     "text": [
      "\r",
      "|##------------------| 1414/10169  13% [elapsed: 11:30 left: 1:11:16]"
     ]
    },
    {
     "name": "stdout",
     "output_type": "stream",
     "text": [
      "20.929 million (exact: 20928790, estimate 149.77 million)\n"
     ]
    },
    {
     "name": "stderr",
     "output_type": "stream",
     "text": [
      "|##------------------| 1428/10169  14% [elapsed: 11:31 left: 1:10:34]"
     ]
    },
    {
     "name": "stdout",
     "output_type": "stream",
     "text": [
      "21.085 million (exact: 21085293, estimate 149.84 million)\n"
     ]
    },
    {
     "name": "stderr",
     "output_type": "stream",
     "text": [
      "\r",
      "|##------------------| 1435/10169  14% [elapsed: 11:32 left: 1:10:13]"
     ]
    },
    {
     "name": "stdout",
     "output_type": "stream",
     "text": [
      "21.228 million (exact: 21227828, estimate 149.80 million)\n"
     ]
    },
    {
     "name": "stderr",
     "output_type": "stream",
     "text": [
      "|##------------------| 1449/10169  14% [elapsed: 11:33 left: 1:09:33]"
     ]
    },
    {
     "name": "stdout",
     "output_type": "stream",
     "text": [
      "21.350 million (exact: 21350239, estimate 149.63 million)\n"
     ]
    },
    {
     "name": "stderr",
     "output_type": "stream",
     "text": [
      "\r",
      "|##------------------| 1457/10169  14% [elapsed: 11:33 left: 1:09:09]"
     ]
    },
    {
     "name": "stdout",
     "output_type": "stream",
     "text": [
      "21.494 million (exact: 21494280, estimate 149.61 million)\n"
     ]
    },
    {
     "name": "stderr",
     "output_type": "stream",
     "text": [
      "|##------------------| 1468/10169  14% [elapsed: 11:35 left: 1:08:39]"
     ]
    },
    {
     "name": "stdout",
     "output_type": "stream",
     "text": [
      "21.632 million (exact: 21631814, estimate 149.54 million)\n"
     ]
    },
    {
     "name": "stderr",
     "output_type": "stream",
     "text": [
      "\r",
      "|##------------------| 1476/10169  14% [elapsed: 11:35 left: 1:08:16]"
     ]
    },
    {
     "name": "stdout",
     "output_type": "stream",
     "text": [
      "21.786 million (exact: 21786414, estimate 149.59 million)\n"
     ]
    },
    {
     "name": "stderr",
     "output_type": "stream",
     "text": [
      "|##------------------| 1490/10169  14% [elapsed: 11:36 left: 1:07:37]"
     ]
    },
    {
     "name": "stdout",
     "output_type": "stream",
     "text": [
      "21.920 million (exact: 21920201, estimate 149.50 million)\n"
     ]
    },
    {
     "name": "stderr",
     "output_type": "stream",
     "text": [
      "\r",
      "|##------------------| 1496/10169  14% [elapsed: 11:37 left: 1:07:21]"
     ]
    },
    {
     "name": "stdout",
     "output_type": "stream",
     "text": [
      "22.069 million (exact: 22068695, estimate 149.51 million)\n"
     ]
    },
    {
     "name": "stderr",
     "output_type": "stream",
     "text": [
      "|##------------------| 1509/10169  14% [elapsed: 11:56 left: 1:08:30]"
     ]
    },
    {
     "name": "stdout",
     "output_type": "stream",
     "text": [
      "22.212 million (exact: 22212127, estimate 149.49 million)\n"
     ]
    },
    {
     "name": "stderr",
     "output_type": "stream",
     "text": [
      "\r",
      "|##------------------| 1515/10169  14% [elapsed: 11:56 left: 1:08:15]"
     ]
    },
    {
     "name": "stdout",
     "output_type": "stream",
     "text": [
      "22.370 million (exact: 22370388, estimate 149.56 million)\n"
     ]
    },
    {
     "name": "stderr",
     "output_type": "stream",
     "text": [
      "|###-----------------| 1530/10169  15% [elapsed: 11:58 left: 1:07:34]"
     ]
    },
    {
     "name": "stdout",
     "output_type": "stream",
     "text": [
      "22.524 million (exact: 22523520, estimate 149.60 million)\n"
     ]
    },
    {
     "name": "stderr",
     "output_type": "stream",
     "text": [
      "\r",
      "|###-----------------| 1537/10169  15% [elapsed: 11:58 left: 1:07:15]"
     ]
    },
    {
     "name": "stdout",
     "output_type": "stream",
     "text": [
      "22.670 million (exact: 22670174, estimate 149.60 million)\n"
     ]
    },
    {
     "name": "stderr",
     "output_type": "stream",
     "text": [
      "\r",
      "|###-----------------| 1543/10169  15% [elapsed: 11:59 left: 1:07:00]"
     ]
    },
    {
     "name": "stdout",
     "output_type": "stream",
     "text": [
      "22.797 million (exact: 22797083, estimate 149.47 million)\n"
     ]
    },
    {
     "name": "stderr",
     "output_type": "stream",
     "text": [
      "|###-----------------| 1560/10169  15% [elapsed: 12:00 left: 1:06:14]"
     ]
    },
    {
     "name": "stdout",
     "output_type": "stream",
     "text": [
      "22.946 million (exact: 22946294, estimate 149.48 million)\n"
     ]
    },
    {
     "name": "stderr",
     "output_type": "stream",
     "text": [
      "\r",
      "|###-----------------| 1566/10169  15% [elapsed: 12:00 left: 1:06:00]"
     ]
    },
    {
     "name": "stdout",
     "output_type": "stream",
     "text": [
      "23.084 million (exact: 23083914, estimate 149.42 million)\n"
     ]
    },
    {
     "name": "stderr",
     "output_type": "stream",
     "text": [
      "|###-----------------| 1576/10169  15% [elapsed: 12:01 left: 1:05:36]"
     ]
    },
    {
     "name": "stdout",
     "output_type": "stream",
     "text": [
      "23.247 million (exact: 23247248, estimate 149.53 million)\n"
     ]
    },
    {
     "name": "stderr",
     "output_type": "stream",
     "text": [
      "\r",
      "|###-----------------| 1584/10169  15% [elapsed: 12:02 left: 1:05:16]"
     ]
    },
    {
     "name": "stdout",
     "output_type": "stream",
     "text": [
      "23.410 million (exact: 23410195, estimate 149.63 million)\n"
     ]
    },
    {
     "name": "stderr",
     "output_type": "stream",
     "text": [
      "|###-----------------| 1599/10169  15% [elapsed: 12:03 left: 1:04:38]"
     ]
    },
    {
     "name": "stdout",
     "output_type": "stream",
     "text": [
      "23.566 million (exact: 23565759, estimate 149.68 million)\n"
     ]
    },
    {
     "name": "stderr",
     "output_type": "stream",
     "text": [
      "|###-----------------| 1609/10169  15% [elapsed: 12:21 left: 1:05:47]"
     ]
    },
    {
     "name": "stdout",
     "output_type": "stream",
     "text": [
      "23.722 million (exact: 23722258, estimate 149.74 million)\n"
     ]
    },
    {
     "name": "stderr",
     "output_type": "stream",
     "text": [
      "\r",
      "|###-----------------| 1617/10169  15% [elapsed: 12:22 left: 1:05:27]"
     ]
    },
    {
     "name": "stdout",
     "output_type": "stream",
     "text": [
      "23.874 million (exact: 23873651, estimate 149.77 million)\n"
     ]
    },
    {
     "name": "stderr",
     "output_type": "stream",
     "text": [
      "|###-----------------| 1628/10169  16% [elapsed: 12:23 left: 1:05:01]"
     ]
    },
    {
     "name": "stdout",
     "output_type": "stream",
     "text": [
      "24.027 million (exact: 24027433, estimate 149.81 million)\n"
     ]
    },
    {
     "name": "stderr",
     "output_type": "stream",
     "text": [
      "|###-----------------| 1638/10169  16% [elapsed: 12:24 left: 1:04:38]"
     ]
    },
    {
     "name": "stdout",
     "output_type": "stream",
     "text": [
      "24.181 million (exact: 24181435, estimate 149.85 million)\n"
     ]
    },
    {
     "name": "stderr",
     "output_type": "stream",
     "text": [
      "\r",
      "|###-----------------| 1645/10169  16% [elapsed: 12:25 left: 1:04:21]"
     ]
    },
    {
     "name": "stdout",
     "output_type": "stream",
     "text": [
      "24.333 million (exact: 24333370, estimate 149.88 million)\n"
     ]
    },
    {
     "name": "stderr",
     "output_type": "stream",
     "text": [
      "|###-----------------| 1659/10169  16% [elapsed: 12:26 left: 1:03:48]"
     ]
    },
    {
     "name": "stdout",
     "output_type": "stream",
     "text": [
      "24.495 million (exact: 24494956, estimate 149.96 million)\n"
     ]
    },
    {
     "name": "stderr",
     "output_type": "stream",
     "text": [
      "\r",
      "|###-----------------| 1667/10169  16% [elapsed: 12:26 left: 1:03:29]"
     ]
    },
    {
     "name": "stdout",
     "output_type": "stream",
     "text": [
      "24.646 million (exact: 24646072, estimate 149.99 million)\n"
     ]
    },
    {
     "name": "stderr",
     "output_type": "stream",
     "text": [
      "|###-----------------| 1677/10169  16% [elapsed: 12:28 left: 1:03:07]"
     ]
    },
    {
     "name": "stdout",
     "output_type": "stream",
     "text": [
      "24.801 million (exact: 24801059, estimate 150.03 million)\n"
     ]
    },
    {
     "name": "stderr",
     "output_type": "stream",
     "text": [
      "|###-----------------| 1688/10169  16% [elapsed: 12:29 left: 1:02:43]"
     ]
    },
    {
     "name": "stdout",
     "output_type": "stream",
     "text": [
      "24.962 million (exact: 24961881, estimate 150.11 million)\n"
     ]
    },
    {
     "name": "stderr",
     "output_type": "stream",
     "text": [
      "|###-----------------| 1698/10169  16% [elapsed: 12:30 left: 1:02:22]"
     ]
    },
    {
     "name": "stdout",
     "output_type": "stream",
     "text": [
      "25.102 million (exact: 25101619, estimate 150.06 million)\n"
     ]
    },
    {
     "name": "stderr",
     "output_type": "stream",
     "text": [
      "|###-----------------| 1709/10169  16% [elapsed: 12:49 left: 1:03:29]"
     ]
    },
    {
     "name": "stdout",
     "output_type": "stream",
     "text": [
      "25.241 million (exact: 25240580, estimate 150.01 million)\n"
     ]
    },
    {
     "name": "stderr",
     "output_type": "stream",
     "text": [
      "\r",
      "|###-----------------| 1716/10169  16% [elapsed: 12:50 left: 1:03:13]"
     ]
    },
    {
     "name": "stdout",
     "output_type": "stream",
     "text": [
      "25.387 million (exact: 25386506, estimate 150.00 million)\n"
     ]
    },
    {
     "name": "stderr",
     "output_type": "stream",
     "text": [
      "\r",
      "|###-----------------| 1724/10169  16% [elapsed: 12:50 left: 1:02:54]"
     ]
    },
    {
     "name": "stdout",
     "output_type": "stream",
     "text": [
      "25.526 million (exact: 25526449, estimate 149.96 million)\n"
     ]
    },
    {
     "name": "stderr",
     "output_type": "stream",
     "text": [
      "|###-----------------| 1736/10169  17% [elapsed: 12:51 left: 1:02:28]"
     ]
    },
    {
     "name": "stdout",
     "output_type": "stream",
     "text": [
      "25.672 million (exact: 25671679, estimate 149.95 million)\n"
     ]
    },
    {
     "name": "stderr",
     "output_type": "stream",
     "text": [
      "|###-----------------| 1749/10169  17% [elapsed: 12:52 left: 1:02:00]"
     ]
    },
    {
     "name": "stdout",
     "output_type": "stream",
     "text": [
      "25.822 million (exact: 25821720, estimate 149.96 million)\n"
     ]
    },
    {
     "name": "stderr",
     "output_type": "stream",
     "text": [
      "|###-----------------| 1760/10169  17% [elapsed: 12:53 left: 1:01:36]"
     ]
    },
    {
     "name": "stdout",
     "output_type": "stream",
     "text": [
      "25.962 million (exact: 25961945, estimate 149.92 million)\n"
     ]
    },
    {
     "name": "stderr",
     "output_type": "stream",
     "text": [
      "|###-----------------| 1768/10169  17% [elapsed: 12:54 left: 1:01:21]"
     ]
    },
    {
     "name": "stdout",
     "output_type": "stream",
     "text": [
      "26.115 million (exact: 26114878, estimate 149.95 million)\n"
     ]
    },
    {
     "name": "stderr",
     "output_type": "stream",
     "text": [
      "\r",
      "|###-----------------| 1774/10169  17% [elapsed: 12:55 left: 1:01:08]"
     ]
    },
    {
     "name": "stdout",
     "output_type": "stream",
     "text": [
      "26.275 million (exact: 26274811, estimate 150.02 million)\n"
     ]
    },
    {
     "name": "stderr",
     "output_type": "stream",
     "text": [
      "|###-----------------| 1788/10169  17% [elapsed: 12:56 left: 1:00:39]"
     ]
    },
    {
     "name": "stdout",
     "output_type": "stream",
     "text": [
      "26.420 million (exact: 26420182, estimate 150.01 million)\n"
     ]
    },
    {
     "name": "stderr",
     "output_type": "stream",
     "text": [
      "\r",
      "|###-----------------| 1795/10169  17% [elapsed: 12:56 left: 1:00:24]"
     ]
    },
    {
     "name": "stdout",
     "output_type": "stream",
     "text": [
      "26.572 million (exact: 26571957, estimate 150.03 million)\n"
     ]
    },
    {
     "name": "stderr",
     "output_type": "stream",
     "text": [
      "|###-----------------| 1809/10169  17% [elapsed: 13:16 left: 1:01:22]"
     ]
    },
    {
     "name": "stdout",
     "output_type": "stream",
     "text": [
      "26.726 million (exact: 26725692, estimate 150.07 million)\n"
     ]
    },
    {
     "name": "stderr",
     "output_type": "stream",
     "text": [
      "\r",
      "|###-----------------| 1815/10169  17% [elapsed: 13:17 left: 1:01:09]"
     ]
    },
    {
     "name": "stdout",
     "output_type": "stream",
     "text": [
      "26.861 million (exact: 26861184, estimate 150.00 million)\n"
     ]
    },
    {
     "name": "stderr",
     "output_type": "stream",
     "text": [
      "|###-----------------| 1830/10169  17% [elapsed: 13:18 left: 1:00:38]"
     ]
    },
    {
     "name": "stdout",
     "output_type": "stream",
     "text": [
      "27.003 million (exact: 27003148, estimate 149.97 million)\n"
     ]
    },
    {
     "name": "stderr",
     "output_type": "stream",
     "text": [
      "\r",
      "|###-----------------| 1837/10169  18% [elapsed: 13:18 left: 1:00:23]"
     ]
    },
    {
     "name": "stdout",
     "output_type": "stream",
     "text": [
      "27.137 million (exact: 27136936, estimate 149.89 million)\n"
     ]
    },
    {
     "name": "stderr",
     "output_type": "stream",
     "text": [
      "|###-----------------| 1849/10169  18% [elapsed: 13:19 left: 59:59]  "
     ]
    },
    {
     "name": "stdout",
     "output_type": "stream",
     "text": [
      "27.278 million (exact: 27278048, estimate 149.86 million)\n"
     ]
    },
    {
     "name": "stderr",
     "output_type": "stream",
     "text": [
      "\r",
      "|###-----------------| 1855/10169  18% [elapsed: 13:20 left: 59:47]"
     ]
    },
    {
     "name": "stdout",
     "output_type": "stream",
     "text": [
      "27.434 million (exact: 27434027, estimate 149.91 million)\n"
     ]
    },
    {
     "name": "stderr",
     "output_type": "stream",
     "text": [
      "|###-----------------| 1869/10169  18% [elapsed: 13:21 left: 59:19]"
     ]
    },
    {
     "name": "stdout",
     "output_type": "stream",
     "text": [
      "27.576 million (exact: 27575651, estimate 149.88 million)\n"
     ]
    },
    {
     "name": "stderr",
     "output_type": "stream",
     "text": [
      "\r",
      "|###-----------------| 1873/10169  18% [elapsed: 13:22 left: 59:12]"
     ]
    },
    {
     "name": "stdout",
     "output_type": "stream",
     "text": [
      "27.728 million (exact: 27728048, estimate 149.90 million)\n"
     ]
    },
    {
     "name": "stderr",
     "output_type": "stream",
     "text": [
      "|###-----------------| 1887/10169  18% [elapsed: 13:23 left: 58:44]"
     ]
    },
    {
     "name": "stdout",
     "output_type": "stream",
     "text": [
      "27.882 million (exact: 27881836, estimate 149.94 million)\n"
     ]
    },
    {
     "name": "stderr",
     "output_type": "stream",
     "text": [
      "|###-----------------| 1900/10169  18% [elapsed: 13:24 left: 58:19]"
     ]
    },
    {
     "name": "stdout",
     "output_type": "stream",
     "text": [
      "28.025 million (exact: 28025049, estimate 149.91 million)\n"
     ]
    },
    {
     "name": "stderr",
     "output_type": "stream",
     "text": [
      "|###-----------------| 1909/10169  18% [elapsed: 13:44 left: 59:29]"
     ]
    },
    {
     "name": "stdout",
     "output_type": "stream",
     "text": [
      "28.157 million (exact: 28156731, estimate 149.83 million)\n"
     ]
    },
    {
     "name": "stderr",
     "output_type": "stream",
     "text": [
      "\r",
      "|###-----------------| 1915/10169  18% [elapsed: 13:45 left: 59:17]"
     ]
    },
    {
     "name": "stdout",
     "output_type": "stream",
     "text": [
      "28.303 million (exact: 28303210, estimate 149.83 million)\n"
     ]
    },
    {
     "name": "stderr",
     "output_type": "stream",
     "text": [
      "|###-----------------| 1928/10169  18% [elapsed: 13:47 left: 58:55]"
     ]
    },
    {
     "name": "stdout",
     "output_type": "stream",
     "text": [
      "28.438 million (exact: 28438064, estimate 149.76 million)\n"
     ]
    },
    {
     "name": "stderr",
     "output_type": "stream",
     "text": [
      "|###-----------------| 1938/10169  19% [elapsed: 13:48 left: 58:37]"
     ]
    },
    {
     "name": "stdout",
     "output_type": "stream",
     "text": [
      "28.583 million (exact: 28583295, estimate 149.75 million)\n"
     ]
    },
    {
     "name": "stderr",
     "output_type": "stream",
     "text": [
      "\r",
      "|###-----------------| 1946/10169  19% [elapsed: 13:48 left: 58:22]"
     ]
    },
    {
     "name": "stdout",
     "output_type": "stream",
     "text": [
      "28.727 million (exact: 28727308, estimate 149.73 million)\n"
     ]
    },
    {
     "name": "stderr",
     "output_type": "stream",
     "text": [
      "\r",
      "|###-----------------| 1955/10169  19% [elapsed: 13:49 left: 58:04]"
     ]
    },
    {
     "name": "stdout",
     "output_type": "stream",
     "text": [
      "28.851 million (exact: 28851009, estimate 149.61 million)\n"
     ]
    },
    {
     "name": "stderr",
     "output_type": "stream",
     "text": [
      "\r",
      "|###-----------------| 1963/10169  19% [elapsed: 13:49 left: 57:49]"
     ]
    },
    {
     "name": "stdout",
     "output_type": "stream",
     "text": [
      "28.998 million (exact: 28998037, estimate 149.61 million)\n"
     ]
    },
    {
     "name": "stderr",
     "output_type": "stream",
     "text": [
      "|###-----------------| 1979/10169  19% [elapsed: 13:51 left: 57:19]"
     ]
    },
    {
     "name": "stdout",
     "output_type": "stream",
     "text": [
      "29.123 million (exact: 29123026, estimate 149.50 million)\n"
     ]
    },
    {
     "name": "stderr",
     "output_type": "stream",
     "text": [
      "|###-----------------| 1990/10169  19% [elapsed: 13:57 left: 57:20]"
     ]
    },
    {
     "name": "stdout",
     "output_type": "stream",
     "text": [
      "29.232 million (exact: 29232190, estimate 149.30 million)\n"
     ]
    },
    {
     "name": "stderr",
     "output_type": "stream",
     "text": [
      "|###-----------------| 1995/10169  19% [elapsed: 13:59 left: 57:17]"
     ]
    },
    {
     "name": "stdout",
     "output_type": "stream",
     "text": [
      "29.362 million (exact: 29362365, estimate 149.22 million)\n"
     ]
    },
    {
     "name": "stderr",
     "output_type": "stream",
     "text": [
      "|###-----------------| 2009/10169  19% [elapsed: 14:26 left: 58:39]"
     ]
    },
    {
     "name": "stdout",
     "output_type": "stream",
     "text": [
      "29.502 million (exact: 29501857, estimate 149.18 million)\n"
     ]
    },
    {
     "name": "stderr",
     "output_type": "stream",
     "text": [
      "\r",
      "|###-----------------| 2015/10169  19% [elapsed: 14:27 left: 58:28]"
     ]
    },
    {
     "name": "stdout",
     "output_type": "stream",
     "text": [
      "29.653 million (exact: 29653287, estimate 149.21 million)\n"
     ]
    },
    {
     "name": "stderr",
     "output_type": "stream",
     "text": [
      "|###-----------------| 2028/10169  19% [elapsed: 14:28 left: 58:05]"
     ]
    },
    {
     "name": "stdout",
     "output_type": "stream",
     "text": [
      "29.812 million (exact: 29812128, estimate 149.27 million)\n"
     ]
    },
    {
     "name": "stderr",
     "output_type": "stream",
     "text": [
      "|####----------------| 2040/10169  20% [elapsed: 14:29 left: 57:43]"
     ]
    },
    {
     "name": "stdout",
     "output_type": "stream",
     "text": [
      "29.966 million (exact: 29965883, estimate 149.30 million)\n"
     ]
    },
    {
     "name": "stderr",
     "output_type": "stream",
     "text": [
      "\r",
      "|####----------------| 2047/10169  20% [elapsed: 14:29 left: 57:30]"
     ]
    },
    {
     "name": "stdout",
     "output_type": "stream",
     "text": [
      "30.101 million (exact: 30100630, estimate 149.24 million)\n"
     ]
    },
    {
     "name": "stderr",
     "output_type": "stream",
     "text": [
      "|####----------------| 2060/10169  20% [elapsed: 14:30 left: 57:07]"
     ]
    },
    {
     "name": "stdout",
     "output_type": "stream",
     "text": [
      "30.259 million (exact: 30258635, estimate 149.30 million)\n"
     ]
    },
    {
     "name": "stderr",
     "output_type": "stream",
     "text": [
      "\r",
      "|####----------------| 2066/10169  20% [elapsed: 14:31 left: 56:57]"
     ]
    },
    {
     "name": "stdout",
     "output_type": "stream",
     "text": [
      "30.406 million (exact: 30405657, estimate 149.30 million)\n"
     ]
    },
    {
     "name": "stderr",
     "output_type": "stream",
     "text": [
      "\r",
      "|####----------------| 2073/10169  20% [elapsed: 14:31 left: 56:45]"
     ]
    },
    {
     "name": "stdout",
     "output_type": "stream",
     "text": [
      "30.533 million (exact: 30533425, estimate 149.20 million)\n"
     ]
    },
    {
     "name": "stderr",
     "output_type": "stream",
     "text": [
      "|####----------------| 2086/10169  20% [elapsed: 14:32 left: 56:22]"
     ]
    },
    {
     "name": "stdout",
     "output_type": "stream",
     "text": [
      "30.688 million (exact: 30687536, estimate 149.24 million)\n"
     ]
    },
    {
     "name": "stderr",
     "output_type": "stream",
     "text": [
      "|####----------------| 2098/10169  20% [elapsed: 14:34 left: 56:02]"
     ]
    },
    {
     "name": "stdout",
     "output_type": "stream",
     "text": [
      "30.851 million (exact: 30850880, estimate 149.32 million)\n"
     ]
    },
    {
     "name": "stderr",
     "output_type": "stream",
     "text": [
      "|####----------------| 2109/10169  20% [elapsed: 14:58 left: 57:14]"
     ]
    },
    {
     "name": "stdout",
     "output_type": "stream",
     "text": [
      "30.992 million (exact: 30992119, estimate 149.29 million)\n"
     ]
    },
    {
     "name": "stderr",
     "output_type": "stream",
     "text": [
      "\r",
      "|####----------------| 2117/10169  20% [elapsed: 14:59 left: 57:00]"
     ]
    },
    {
     "name": "stdout",
     "output_type": "stream",
     "text": [
      "31.134 million (exact: 31134470, estimate 149.27 million)\n"
     ]
    },
    {
     "name": "stderr",
     "output_type": "stream",
     "text": [
      "\r",
      "|####----------------| 2124/10169  20% [elapsed: 14:59 left: 56:48]"
     ]
    },
    {
     "name": "stdout",
     "output_type": "stream",
     "text": [
      "31.270 million (exact: 31269853, estimate 149.22 million)\n"
     ]
    },
    {
     "name": "stderr",
     "output_type": "stream",
     "text": [
      "|####----------------| 2137/10169  21% [elapsed: 15:01 left: 56:26]"
     ]
    },
    {
     "name": "stdout",
     "output_type": "stream",
     "text": [
      "31.412 million (exact: 31411568, estimate 149.19 million)\n"
     ]
    },
    {
     "name": "stderr",
     "output_type": "stream",
     "text": [
      "|####----------------| 2148/10169  21% [elapsed: 15:02 left: 56:08]"
     ]
    },
    {
     "name": "stdout",
     "output_type": "stream",
     "text": [
      "31.562 million (exact: 31561938, estimate 149.21 million)\n"
     ]
    },
    {
     "name": "stderr",
     "output_type": "stream",
     "text": [
      "\r",
      "|####----------------| 2154/10169  21% [elapsed: 15:02 left: 55:59]"
     ]
    },
    {
     "name": "stdout",
     "output_type": "stream",
     "text": [
      "31.706 million (exact: 31706043, estimate 149.20 million)\n"
     ]
    },
    {
     "name": "stderr",
     "output_type": "stream",
     "text": [
      "|####----------------| 2167/10169  21% [elapsed: 15:04 left: 55:41]"
     ]
    },
    {
     "name": "stdout",
     "output_type": "stream",
     "text": [
      "31.858 million (exact: 31857961, estimate 149.22 million)\n"
     ]
    },
    {
     "name": "stderr",
     "output_type": "stream",
     "text": [
      "|####----------------| 2179/10169  21% [elapsed: 15:05 left: 55:21]"
     ]
    },
    {
     "name": "stdout",
     "output_type": "stream",
     "text": [
      "32.018 million (exact: 32018202, estimate 149.29 million)\n"
     ]
    },
    {
     "name": "stderr",
     "output_type": "stream",
     "text": [
      "\r",
      "|####----------------| 2187/10169  21% [elapsed: 15:06 left: 55:08]"
     ]
    },
    {
     "name": "stdout",
     "output_type": "stream",
     "text": [
      "32.145 million (exact: 32144622, estimate 149.19 million)\n"
     ]
    },
    {
     "name": "stderr",
     "output_type": "stream",
     "text": [
      "\r",
      "|####----------------| 2194/10169  21% [elapsed: 15:07 left: 54:56]"
     ]
    },
    {
     "name": "stdout",
     "output_type": "stream",
     "text": [
      "32.305 million (exact: 32304922, estimate 149.25 million)\n"
     ]
    },
    {
     "name": "stderr",
     "output_type": "stream",
     "text": [
      "|####----------------| 2209/10169  21% [elapsed: 15:27 left: 55:43]"
     ]
    },
    {
     "name": "stdout",
     "output_type": "stream",
     "text": [
      "32.428 million (exact: 32427813, estimate 149.14 million)\n"
     ]
    },
    {
     "name": "stderr",
     "output_type": "stream",
     "text": [
      "\r",
      "|####----------------| 2216/10169  21% [elapsed: 15:28 left: 55:31]"
     ]
    },
    {
     "name": "stdout",
     "output_type": "stream",
     "text": [
      "32.575 million (exact: 32575424, estimate 149.15 million)\n"
     ]
    },
    {
     "name": "stderr",
     "output_type": "stream",
     "text": [
      "|####----------------| 2228/10169  21% [elapsed: 15:29 left: 55:13]"
     ]
    },
    {
     "name": "stdout",
     "output_type": "stream",
     "text": [
      "32.728 million (exact: 32728305, estimate 149.18 million)\n"
     ]
    },
    {
     "name": "stderr",
     "output_type": "stream",
     "text": [
      "|####----------------| 2240/10169  22% [elapsed: 15:30 left: 54:54]"
     ]
    },
    {
     "name": "stdout",
     "output_type": "stream",
     "text": [
      "32.874 million (exact: 32873776, estimate 149.17 million)\n"
     ]
    },
    {
     "name": "stderr",
     "output_type": "stream",
     "text": [
      "|####----------------| 2249/10169  22% [elapsed: 15:31 left: 54:41]"
     ]
    },
    {
     "name": "stdout",
     "output_type": "stream",
     "text": [
      "33.009 million (exact: 33009350, estimate 149.12 million)\n"
     ]
    },
    {
     "name": "stderr",
     "output_type": "stream",
     "text": [
      "|####----------------| 2259/10169  22% [elapsed: 15:33 left: 54:27]"
     ]
    },
    {
     "name": "stdout",
     "output_type": "stream",
     "text": [
      "33.160 million (exact: 33160366, estimate 149.14 million)\n"
     ]
    },
    {
     "name": "stderr",
     "output_type": "stream",
     "text": [
      "|####----------------| 2267/10169  22% [elapsed: 15:34 left: 54:16]"
     ]
    },
    {
     "name": "stdout",
     "output_type": "stream",
     "text": [
      "33.285 million (exact: 33285196, estimate 149.04 million)\n"
     ]
    },
    {
     "name": "stderr",
     "output_type": "stream",
     "text": [
      "\r",
      "|####----------------| 2275/10169  22% [elapsed: 15:34 left: 54:03]"
     ]
    },
    {
     "name": "stdout",
     "output_type": "stream",
     "text": [
      "33.447 million (exact: 33447448, estimate 149.11 million)\n"
     ]
    },
    {
     "name": "stderr",
     "output_type": "stream",
     "text": [
      "|####----------------| 2287/10169  22% [elapsed: 15:35 left: 53:44]"
     ]
    },
    {
     "name": "stdout",
     "output_type": "stream",
     "text": [
      "33.610 million (exact: 33609880, estimate 149.18 million)\n"
     ]
    },
    {
     "name": "stderr",
     "output_type": "stream",
     "text": [
      "\r",
      "|####----------------| 2295/10169  22% [elapsed: 15:36 left: 53:32]"
     ]
    },
    {
     "name": "stdout",
     "output_type": "stream",
     "text": [
      "33.758 million (exact: 33758356, estimate 149.19 million)\n"
     ]
    },
    {
     "name": "stderr",
     "output_type": "stream",
     "text": [
      "|####----------------| 2309/10169  22% [elapsed: 15:57 left: 54:20]"
     ]
    },
    {
     "name": "stdout",
     "output_type": "stream",
     "text": [
      "33.895 million (exact: 33895359, estimate 149.15 million)\n"
     ]
    },
    {
     "name": "stderr",
     "output_type": "stream",
     "text": [
      "|####----------------| 2315/10169  22% [elapsed: 15:58 left: 54:12]"
     ]
    },
    {
     "name": "stdout",
     "output_type": "stream",
     "text": [
      "34.046 million (exact: 34046307, estimate 149.17 million)\n"
     ]
    },
    {
     "name": "stderr",
     "output_type": "stream",
     "text": [
      "|####----------------| 2330/10169  22% [elapsed: 15:59 left: 53:49]"
     ]
    },
    {
     "name": "stdout",
     "output_type": "stream",
     "text": [
      "34.196 million (exact: 34196234, estimate 149.18 million)\n"
     ]
    },
    {
     "name": "stderr",
     "output_type": "stream",
     "text": [
      "\r",
      "|####----------------| 2338/10169  22% [elapsed: 16:00 left: 53:36]"
     ]
    },
    {
     "name": "stdout",
     "output_type": "stream",
     "text": [
      "34.341 million (exact: 34341298, estimate 149.17 million)\n"
     ]
    },
    {
     "name": "stderr",
     "output_type": "stream",
     "text": [
      "\r",
      "|####----------------| 2345/10169  23% [elapsed: 16:00 left: 53:26]"
     ]
    },
    {
     "name": "stdout",
     "output_type": "stream",
     "text": [
      "34.491 million (exact: 34491235, estimate 149.19 million)\n"
     ]
    },
    {
     "name": "stderr",
     "output_type": "stream",
     "text": [
      "\r",
      "|####----------------| 2352/10169  23% [elapsed: 16:01 left: 53:15]"
     ]
    },
    {
     "name": "stdout",
     "output_type": "stream",
     "text": [
      "34.628 million (exact: 34627611, estimate 149.14 million)\n"
     ]
    },
    {
     "name": "stderr",
     "output_type": "stream",
     "text": [
      "|####----------------| 2369/10169  23% [elapsed: 16:02 left: 52:49]"
     ]
    },
    {
     "name": "stdout",
     "output_type": "stream",
     "text": [
      "34.767 million (exact: 34766768, estimate 149.11 million)\n"
     ]
    },
    {
     "name": "stderr",
     "output_type": "stream",
     "text": [
      "\r",
      "|####----------------| 2376/10169  23% [elapsed: 16:03 left: 52:38]"
     ]
    },
    {
     "name": "stdout",
     "output_type": "stream",
     "text": [
      "34.906 million (exact: 34906355, estimate 149.08 million)\n"
     ]
    },
    {
     "name": "stderr",
     "output_type": "stream",
     "text": [
      "|####----------------| 2387/10169  23% [elapsed: 16:04 left: 52:23]"
     ]
    },
    {
     "name": "stdout",
     "output_type": "stream",
     "text": [
      "35.063 million (exact: 35062623, estimate 149.12 million)\n"
     ]
    },
    {
     "name": "stderr",
     "output_type": "stream",
     "text": [
      "\r",
      "|####----------------| 2394/10169  23% [elapsed: 16:04 left: 52:13]"
     ]
    },
    {
     "name": "stdout",
     "output_type": "stream",
     "text": [
      "35.224 million (exact: 35223537, estimate 149.18 million)\n"
     ]
    },
    {
     "name": "stderr",
     "output_type": "stream",
     "text": [
      "|####----------------| 2409/10169  23% [elapsed: 16:23 left: 52:47]"
     ]
    },
    {
     "name": "stdout",
     "output_type": "stream",
     "text": [
      "35.363 million (exact: 35363071, estimate 149.15 million)\n"
     ]
    },
    {
     "name": "stderr",
     "output_type": "stream",
     "text": [
      "\r",
      "|####----------------| 2416/10169  23% [elapsed: 16:23 left: 52:37]"
     ]
    },
    {
     "name": "stdout",
     "output_type": "stream",
     "text": [
      "35.516 million (exact: 35515767, estimate 149.18 million)\n"
     ]
    },
    {
     "name": "stderr",
     "output_type": "stream",
     "text": [
      "|####----------------| 2428/10169  23% [elapsed: 16:24 left: 52:20]"
     ]
    },
    {
     "name": "stdout",
     "output_type": "stream",
     "text": [
      "35.668 million (exact: 35667592, estimate 149.20 million)\n"
     ]
    },
    {
     "name": "stderr",
     "output_type": "stream",
     "text": [
      "|####----------------| 2437/10169  23% [elapsed: 16:26 left: 52:11]"
     ]
    },
    {
     "name": "stdout",
     "output_type": "stream",
     "text": [
      "35.814 million (exact: 35813761, estimate 149.20 million)\n"
     ]
    },
    {
     "name": "stderr",
     "output_type": "stream",
     "text": [
      "|####----------------| 2447/10169  24% [elapsed: 16:28 left: 51:58]"
     ]
    },
    {
     "name": "stdout",
     "output_type": "stream",
     "text": [
      "35.962 million (exact: 35962027, estimate 149.20 million)\n"
     ]
    },
    {
     "name": "stderr",
     "output_type": "stream",
     "text": [
      "|####----------------| 2458/10169  24% [elapsed: 16:29 left: 51:42]"
     ]
    },
    {
     "name": "stdout",
     "output_type": "stream",
     "text": [
      "36.112 million (exact: 36112296, estimate 149.22 million)\n"
     ]
    },
    {
     "name": "stderr",
     "output_type": "stream",
     "text": [
      "|####----------------| 2469/10169  24% [elapsed: 16:30 left: 51:28]"
     ]
    },
    {
     "name": "stdout",
     "output_type": "stream",
     "text": [
      "36.254 million (exact: 36254028, estimate 149.20 million)\n"
     ]
    },
    {
     "name": "stderr",
     "output_type": "stream",
     "text": [
      "\r",
      "|####----------------| 2476/10169  24% [elapsed: 16:30 left: 51:18]"
     ]
    },
    {
     "name": "stdout",
     "output_type": "stream",
     "text": [
      "36.394 million (exact: 36394173, estimate 149.17 million)\n"
     ]
    },
    {
     "name": "stderr",
     "output_type": "stream",
     "text": [
      "|####----------------| 2490/10169  24% [elapsed: 16:31 left: 50:58]"
     ]
    },
    {
     "name": "stdout",
     "output_type": "stream",
     "text": [
      "36.538 million (exact: 36538016, estimate 149.16 million)\n"
     ]
    },
    {
     "name": "stderr",
     "output_type": "stream",
     "text": [
      "\r",
      "|####----------------| 2498/10169  24% [elapsed: 16:32 left: 50:47]"
     ]
    },
    {
     "name": "stdout",
     "output_type": "stream",
     "text": [
      "36.685 million (exact: 36685415, estimate 149.16 million)\n"
     ]
    },
    {
     "name": "stderr",
     "output_type": "stream",
     "text": [
      "|####----------------| 2509/10169  24% [elapsed: 16:50 left: 51:25]"
     ]
    },
    {
     "name": "stdout",
     "output_type": "stream",
     "text": [
      "36.837 million (exact: 36836658, estimate 149.18 million)\n"
     ]
    },
    {
     "name": "stderr",
     "output_type": "stream",
     "text": [
      "\r",
      "|####----------------| 2514/10169  24% [elapsed: 16:51 left: 51:18]"
     ]
    },
    {
     "name": "stdout",
     "output_type": "stream",
     "text": [
      "36.979 million (exact: 36978953, estimate 149.16 million)\n"
     ]
    },
    {
     "name": "stderr",
     "output_type": "stream",
     "text": [
      "|####----------------| 2528/10169  24% [elapsed: 16:52 left: 50:59]"
     ]
    },
    {
     "name": "stdout",
     "output_type": "stream",
     "text": [
      "37.126 million (exact: 37125608, estimate 149.16 million)\n"
     ]
    },
    {
     "name": "stderr",
     "output_type": "stream",
     "text": [
      "|####----------------| 2539/10169  24% [elapsed: 16:53 left: 50:46]"
     ]
    },
    {
     "name": "stdout",
     "output_type": "stream",
     "text": [
      "37.262 million (exact: 37261637, estimate 149.12 million)\n"
     ]
    },
    {
     "name": "stderr",
     "output_type": "stream",
     "text": [
      "|#####---------------| 2547/10169  25% [elapsed: 16:54 left: 50:36]"
     ]
    },
    {
     "name": "stdout",
     "output_type": "stream",
     "text": [
      "37.402 million (exact: 37401985, estimate 149.09 million)\n"
     ]
    },
    {
     "name": "stderr",
     "output_type": "stream",
     "text": [
      "|#####---------------| 2560/10169  25% [elapsed: 16:55 left: 50:19]"
     ]
    },
    {
     "name": "stdout",
     "output_type": "stream",
     "text": [
      "37.548 million (exact: 37547839, estimate 149.09 million)\n"
     ]
    },
    {
     "name": "stderr",
     "output_type": "stream",
     "text": [
      "\r",
      "|#####---------------| 2565/10169  25% [elapsed: 16:56 left: 50:12]"
     ]
    },
    {
     "name": "stdout",
     "output_type": "stream",
     "text": [
      "37.695 million (exact: 37695052, estimate 149.09 million)\n"
     ]
    },
    {
     "name": "stderr",
     "output_type": "stream",
     "text": [
      "|#####---------------| 2578/10169  25% [elapsed: 16:57 left: 49:55]"
     ]
    },
    {
     "name": "stdout",
     "output_type": "stream",
     "text": [
      "37.817 million (exact: 37816701, estimate 149.00 million)\n"
     ]
    },
    {
     "name": "stderr",
     "output_type": "stream",
     "text": [
      "\r",
      "|#####---------------| 2584/10169  25% [elapsed: 16:57 left: 49:48]"
     ]
    },
    {
     "name": "stdout",
     "output_type": "stream",
     "text": [
      "37.964 million (exact: 37963790, estimate 149.00 million)\n"
     ]
    },
    {
     "name": "stderr",
     "output_type": "stream",
     "text": [
      "|#####---------------| 2598/10169  25% [elapsed: 16:58 left: 49:29]"
     ]
    },
    {
     "name": "stdout",
     "output_type": "stream",
     "text": [
      "38.116 million (exact: 38115815, estimate 149.02 million)\n"
     ]
    },
    {
     "name": "stderr",
     "output_type": "stream",
     "text": [
      "|#####---------------| 2609/10169  25% [elapsed: 17:17 left: 50:05]"
     ]
    },
    {
     "name": "stdout",
     "output_type": "stream",
     "text": [
      "38.255 million (exact: 38254719, estimate 148.99 million)\n"
     ]
    },
    {
     "name": "stderr",
     "output_type": "stream",
     "text": [
      "\r",
      "|#####---------------| 2617/10169  25% [elapsed: 17:17 left: 49:54]"
     ]
    },
    {
     "name": "stdout",
     "output_type": "stream",
     "text": [
      "38.405 million (exact: 38405043, estimate 149.00 million)\n"
     ]
    },
    {
     "name": "stderr",
     "output_type": "stream",
     "text": [
      "|#####---------------| 2630/10169  25% [elapsed: 17:18 left: 49:37]"
     ]
    },
    {
     "name": "stdout",
     "output_type": "stream",
     "text": [
      "38.555 million (exact: 38555360, estimate 149.02 million)\n"
     ]
    },
    {
     "name": "stderr",
     "output_type": "stream",
     "text": [
      "\r",
      "|#####---------------| 2635/10169  25% [elapsed: 17:19 left: 49:31]"
     ]
    },
    {
     "name": "stdout",
     "output_type": "stream",
     "text": [
      "38.691 million (exact: 38690734, estimate 148.98 million)\n"
     ]
    },
    {
     "name": "stderr",
     "output_type": "stream",
     "text": [
      "|#####---------------| 2650/10169  26% [elapsed: 17:20 left: 49:12]"
     ]
    },
    {
     "name": "stdout",
     "output_type": "stream",
     "text": [
      "38.840 million (exact: 38840093, estimate 148.99 million)\n"
     ]
    },
    {
     "name": "stderr",
     "output_type": "stream",
     "text": [
      "|#####---------------| 2660/10169  26% [elapsed: 17:21 left: 49:00]"
     ]
    },
    {
     "name": "stdout",
     "output_type": "stream",
     "text": [
      "38.987 million (exact: 38986654, estimate 148.99 million)\n"
     ]
    },
    {
     "name": "stderr",
     "output_type": "stream",
     "text": [
      "|#####---------------| 2669/10169  26% [elapsed: 17:22 left: 48:50]"
     ]
    },
    {
     "name": "stdout",
     "output_type": "stream",
     "text": [
      "39.134 million (exact: 39134356, estimate 148.99 million)\n"
     ]
    },
    {
     "name": "stderr",
     "output_type": "stream",
     "text": [
      "|#####---------------| 2677/10169  26% [elapsed: 17:23 left: 48:41]"
     ]
    },
    {
     "name": "stdout",
     "output_type": "stream",
     "text": [
      "39.288 million (exact: 39287757, estimate 149.02 million)\n"
     ]
    },
    {
     "name": "stderr",
     "output_type": "stream",
     "text": [
      "\r",
      "|#####---------------| 2684/10169  26% [elapsed: 17:24 left: 48:32]"
     ]
    },
    {
     "name": "stdout",
     "output_type": "stream",
     "text": [
      "39.442 million (exact: 39442380, estimate 149.05 million)\n"
     ]
    },
    {
     "name": "stderr",
     "output_type": "stream",
     "text": [
      "|#####---------------| 2700/10169  26% [elapsed: 17:25 left: 48:12]"
     ]
    },
    {
     "name": "stdout",
     "output_type": "stream",
     "text": [
      "39.581 million (exact: 39580726, estimate 149.02 million)\n"
     ]
    },
    {
     "name": "stderr",
     "output_type": "stream",
     "text": [
      "|#####---------------| 2709/10169  26% [elapsed: 17:43 left: 48:47]"
     ]
    },
    {
     "name": "stdout",
     "output_type": "stream",
     "text": [
      "39.722 million (exact: 39722468, estimate 149.00 million)\n"
     ]
    },
    {
     "name": "stderr",
     "output_type": "stream",
     "text": [
      "\r",
      "|#####---------------| 2717/10169  26% [elapsed: 17:43 left: 48:37]"
     ]
    },
    {
     "name": "stdout",
     "output_type": "stream",
     "text": [
      "39.860 million (exact: 39859777, estimate 148.97 million)\n"
     ]
    },
    {
     "name": "stderr",
     "output_type": "stream",
     "text": [
      "\r",
      "|#####---------------| 2724/10169  26% [elapsed: 17:44 left: 48:28]"
     ]
    },
    {
     "name": "stdout",
     "output_type": "stream",
     "text": [
      "40.001 million (exact: 40000656, estimate 148.94 million)\n"
     ]
    },
    {
     "name": "stderr",
     "output_type": "stream",
     "text": [
      "|#####---------------| 2738/10169  26% [elapsed: 17:45 left: 48:11]"
     ]
    },
    {
     "name": "stdout",
     "output_type": "stream",
     "text": [
      "40.136 million (exact: 40135801, estimate 148.90 million)\n"
     ]
    },
    {
     "name": "stderr",
     "output_type": "stream",
     "text": [
      "|#####---------------| 2750/10169  27% [elapsed: 17:46 left: 47:56]"
     ]
    },
    {
     "name": "stdout",
     "output_type": "stream",
     "text": [
      "40.264 million (exact: 40264253, estimate 148.84 million)\n"
     ]
    },
    {
     "name": "stderr",
     "output_type": "stream",
     "text": [
      "\r",
      "|#####---------------| 2758/10169  27% [elapsed: 17:46 left: 47:46]"
     ]
    },
    {
     "name": "stdout",
     "output_type": "stream",
     "text": [
      "40.404 million (exact: 40403621, estimate 148.81 million)\n"
     ]
    },
    {
     "name": "stderr",
     "output_type": "stream",
     "text": [
      "\r",
      "|#####---------------| 2766/10169  27% [elapsed: 17:47 left: 47:36]"
     ]
    },
    {
     "name": "stdout",
     "output_type": "stream",
     "text": [
      "40.546 million (exact: 40545503, estimate 148.79 million)\n"
     ]
    },
    {
     "name": "stderr",
     "output_type": "stream",
     "text": [
      "|#####---------------| 2779/10169  27% [elapsed: 17:49 left: 47:24]"
     ]
    },
    {
     "name": "stdout",
     "output_type": "stream",
     "text": [
      "40.690 million (exact: 40689780, estimate 148.79 million)\n"
     ]
    },
    {
     "name": "stderr",
     "output_type": "stream",
     "text": [
      "|#####---------------| 2787/10169  27% [elapsed: 17:52 left: 47:20]"
     ]
    },
    {
     "name": "stdout",
     "output_type": "stream",
     "text": [
      "40.838 million (exact: 40837553, estimate 148.79 million)\n"
     ]
    },
    {
     "name": "stderr",
     "output_type": "stream",
     "text": [
      "\r",
      "|#####---------------| 2794/10169  27% [elapsed: 17:52 left: 47:11]"
     ]
    },
    {
     "name": "stdout",
     "output_type": "stream",
     "text": [
      "40.986 million (exact: 40986040, estimate 148.80 million)\n"
     ]
    },
    {
     "name": "stderr",
     "output_type": "stream",
     "text": [
      "|#####---------------| 2809/10169  27% [elapsed: 18:11 left: 47:40]"
     ]
    },
    {
     "name": "stdout",
     "output_type": "stream",
     "text": [
      "41.110 million (exact: 41110167, estimate 148.72 million)\n"
     ]
    },
    {
     "name": "stderr",
     "output_type": "stream",
     "text": [
      "|#####---------------| 2820/10169  27% [elapsed: 18:12 left: 47:27]"
     ]
    },
    {
     "name": "stdout",
     "output_type": "stream",
     "text": [
      "41.256 million (exact: 41256023, estimate 148.72 million)\n"
     ]
    },
    {
     "name": "stderr",
     "output_type": "stream",
     "text": [
      "\r",
      "|#####---------------| 2825/10169  27% [elapsed: 18:13 left: 47:22]"
     ]
    },
    {
     "name": "stdout",
     "output_type": "stream",
     "text": [
      "41.413 million (exact: 41412584, estimate 148.75 million)\n"
     ]
    },
    {
     "name": "stderr",
     "output_type": "stream",
     "text": [
      "\r",
      "|#####---------------| 2832/10169  27% [elapsed: 18:13 left: 47:13]"
     ]
    },
    {
     "name": "stdout",
     "output_type": "stream",
     "text": [
      "41.564 million (exact: 41563574, estimate 148.77 million)\n"
     ]
    },
    {
     "name": "stderr",
     "output_type": "stream",
     "text": [
      "|#####---------------| 2848/10169  28% [elapsed: 18:14 left: 46:54]"
     ]
    },
    {
     "name": "stdout",
     "output_type": "stream",
     "text": [
      "41.710 million (exact: 41710416, estimate 148.77 million)\n"
     ]
    },
    {
     "name": "stderr",
     "output_type": "stream",
     "text": [
      "\r",
      "|#####---------------| 2857/10169  28% [elapsed: 18:15 left: 46:43]"
     ]
    },
    {
     "name": "stdout",
     "output_type": "stream",
     "text": [
      "41.858 million (exact: 41857924, estimate 148.78 million)\n"
     ]
    },
    {
     "name": "stderr",
     "output_type": "stream",
     "text": [
      "\r",
      "|#####---------------| 2865/10169  28% [elapsed: 18:15 left: 46:33]"
     ]
    },
    {
     "name": "stdout",
     "output_type": "stream",
     "text": [
      "42.010 million (exact: 42009810, estimate 148.80 million)\n"
     ]
    },
    {
     "name": "stderr",
     "output_type": "stream",
     "text": [
      "|#####---------------| 2879/10169  28% [elapsed: 18:17 left: 46:17]"
     ]
    },
    {
     "name": "stdout",
     "output_type": "stream",
     "text": [
      "42.148 million (exact: 42147636, estimate 148.77 million)\n"
     ]
    },
    {
     "name": "stderr",
     "output_type": "stream",
     "text": [
      "\r",
      "|#####---------------| 2886/10169  28% [elapsed: 18:17 left: 46:09]"
     ]
    },
    {
     "name": "stdout",
     "output_type": "stream",
     "text": [
      "42.301 million (exact: 42300945, estimate 148.79 million)\n"
     ]
    },
    {
     "name": "stderr",
     "output_type": "stream",
     "text": [
      "|#####---------------| 2898/10169  28% [elapsed: 18:18 left: 45:56]"
     ]
    },
    {
     "name": "stdout",
     "output_type": "stream",
     "text": [
      "42.458 million (exact: 42457971, estimate 148.83 million)\n"
     ]
    },
    {
     "name": "stderr",
     "output_type": "stream",
     "text": [
      "|#####---------------| 2909/10169  28% [elapsed: 18:38 left: 46:30]"
     ]
    },
    {
     "name": "stdout",
     "output_type": "stream",
     "text": [
      "42.613 million (exact: 42613381, estimate 148.86 million)\n"
     ]
    },
    {
     "name": "stderr",
     "output_type": "stream",
     "text": [
      "\r",
      "|#####---------------| 2917/10169  28% [elapsed: 18:38 left: 46:21]"
     ]
    },
    {
     "name": "stdout",
     "output_type": "stream",
     "text": [
      "42.768 million (exact: 42768327, estimate 148.89 million)\n"
     ]
    },
    {
     "name": "stderr",
     "output_type": "stream",
     "text": [
      "\r",
      "|#####---------------| 2924/10169  28% [elapsed: 18:39 left: 46:13]"
     ]
    },
    {
     "name": "stdout",
     "output_type": "stream",
     "text": [
      "42.926 million (exact: 42925502, estimate 148.93 million)\n"
     ]
    },
    {
     "name": "stderr",
     "output_type": "stream",
     "text": [
      "|#####---------------| 2939/10169  28% [elapsed: 18:40 left: 45:56]"
     ]
    },
    {
     "name": "stdout",
     "output_type": "stream",
     "text": [
      "43.064 million (exact: 43064118, estimate 148.90 million)\n"
     ]
    },
    {
     "name": "stderr",
     "output_type": "stream",
     "text": [
      "\r",
      "|#####---------------| 2945/10169  28% [elapsed: 18:40 left: 45:49]"
     ]
    },
    {
     "name": "stdout",
     "output_type": "stream",
     "text": [
      "43.203 million (exact: 43202673, estimate 148.87 million)\n"
     ]
    },
    {
     "name": "stderr",
     "output_type": "stream",
     "text": [
      "|#####---------------| 2958/10169  29% [elapsed: 18:41 left: 45:35]"
     ]
    },
    {
     "name": "stdout",
     "output_type": "stream",
     "text": [
      "43.339 million (exact: 43339350, estimate 148.84 million)\n"
     ]
    },
    {
     "name": "stderr",
     "output_type": "stream",
     "text": [
      "\r",
      "|#####---------------| 2964/10169  29% [elapsed: 18:42 left: 45:28]"
     ]
    },
    {
     "name": "stdout",
     "output_type": "stream",
     "text": [
      "43.472 million (exact: 43472417, estimate 148.80 million)\n"
     ]
    },
    {
     "name": "stderr",
     "output_type": "stream",
     "text": [
      "|#####---------------| 2979/10169  29% [elapsed: 18:43 left: 45:11]"
     ]
    },
    {
     "name": "stdout",
     "output_type": "stream",
     "text": [
      "43.624 million (exact: 43624449, estimate 148.81 million)\n"
     ]
    },
    {
     "name": "stderr",
     "output_type": "stream",
     "text": [
      "\r",
      "|#####---------------| 2985/10169  29% [elapsed: 18:44 left: 45:05]"
     ]
    },
    {
     "name": "stdout",
     "output_type": "stream",
     "text": [
      "43.750 million (exact: 43750069, estimate 148.74 million)\n"
     ]
    },
    {
     "name": "stderr",
     "output_type": "stream",
     "text": [
      "|#####---------------| 3000/10169  29% [elapsed: 18:45 left: 44:48]"
     ]
    },
    {
     "name": "stdout",
     "output_type": "stream",
     "text": [
      "43.891 million (exact: 43890758, estimate 148.73 million)\n"
     ]
    },
    {
     "name": "stderr",
     "output_type": "stream",
     "text": [
      "|#####---------------| 3009/10169  29% [elapsed: 19:07 left: 45:31]"
     ]
    },
    {
     "name": "stdout",
     "output_type": "stream",
     "text": [
      "44.042 million (exact: 44041848, estimate 148.74 million)\n"
     ]
    },
    {
     "name": "stderr",
     "output_type": "stream",
     "text": [
      "\r",
      "|#####---------------| 3016/10169  29% [elapsed: 19:08 left: 45:23]"
     ]
    },
    {
     "name": "stdout",
     "output_type": "stream",
     "text": [
      "44.187 million (exact: 44186839, estimate 148.74 million)\n"
     ]
    },
    {
     "name": "stderr",
     "output_type": "stream",
     "text": [
      "\r",
      "|#####---------------| 3023/10169  29% [elapsed: 19:08 left: 45:15]"
     ]
    },
    {
     "name": "stdout",
     "output_type": "stream",
     "text": [
      "44.324 million (exact: 44324376, estimate 148.71 million)\n"
     ]
    },
    {
     "name": "stderr",
     "output_type": "stream",
     "text": [
      "|#####---------------| 3040/10169  29% [elapsed: 19:10 left: 44:56]"
     ]
    },
    {
     "name": "stdout",
     "output_type": "stream",
     "text": [
      "44.474 million (exact: 44473769, estimate 148.72 million)\n"
     ]
    },
    {
     "name": "stderr",
     "output_type": "stream",
     "text": [
      "\r",
      "|#####---------------| 3048/10169  29% [elapsed: 19:10 left: 44:48]"
     ]
    },
    {
     "name": "stdout",
     "output_type": "stream",
     "text": [
      "44.623 million (exact: 44623214, estimate 148.73 million)\n"
     ]
    },
    {
     "name": "stderr",
     "output_type": "stream",
     "text": [
      "\r",
      "|######--------------| 3054/10169  30% [elapsed: 19:11 left: 44:41]"
     ]
    },
    {
     "name": "stdout",
     "output_type": "stream",
     "text": [
      "44.768 million (exact: 44768312, estimate 148.73 million)\n"
     ]
    },
    {
     "name": "stderr",
     "output_type": "stream",
     "text": [
      "|######--------------| 3070/10169  30% [elapsed: 19:12 left: 44:24]"
     ]
    },
    {
     "name": "stdout",
     "output_type": "stream",
     "text": [
      "44.924 million (exact: 44924242, estimate 148.76 million)\n"
     ]
    },
    {
     "name": "stderr",
     "output_type": "stream",
     "text": [
      "\r",
      "|######--------------| 3078/10169  30% [elapsed: 19:12 left: 44:15]"
     ]
    },
    {
     "name": "stdout",
     "output_type": "stream",
     "text": [
      "45.063 million (exact: 45062817, estimate 148.73 million)\n"
     ]
    },
    {
     "name": "stderr",
     "output_type": "stream",
     "text": [
      "\r",
      "|######--------------| 3085/10169  30% [elapsed: 19:13 left: 44:08]"
     ]
    },
    {
     "name": "stdout",
     "output_type": "stream",
     "text": [
      "45.194 million (exact: 45194061, estimate 148.68 million)\n"
     ]
    },
    {
     "name": "stderr",
     "output_type": "stream",
     "text": [
      "\r",
      "|######--------------| 3093/10169  30% [elapsed: 19:13 left: 43:59]"
     ]
    },
    {
     "name": "stdout",
     "output_type": "stream",
     "text": [
      "45.335 million (exact: 45335176, estimate 148.67 million)\n"
     ]
    },
    {
     "name": "stderr",
     "output_type": "stream",
     "text": [
      "|######--------------| 3109/10169  30% [elapsed: 19:36 left: 44:32]"
     ]
    },
    {
     "name": "stdout",
     "output_type": "stream",
     "text": [
      "45.488 million (exact: 45488450, estimate 148.69 million)\n"
     ]
    },
    {
     "name": "stderr",
     "output_type": "stream",
     "text": [
      "\r",
      "|######--------------| 3116/10169  30% [elapsed: 19:37 left: 44:25]"
     ]
    },
    {
     "name": "stdout",
     "output_type": "stream",
     "text": [
      "45.632 million (exact: 45631524, estimate 148.68 million)\n"
     ]
    },
    {
     "name": "stderr",
     "output_type": "stream",
     "text": [
      "\r",
      "|######--------------| 3123/10169  30% [elapsed: 19:37 left: 44:17]"
     ]
    },
    {
     "name": "stdout",
     "output_type": "stream",
     "text": [
      "45.786 million (exact: 45785943, estimate 148.71 million)\n"
     ]
    },
    {
     "name": "stderr",
     "output_type": "stream",
     "text": [
      "|######--------------| 3139/10169  30% [elapsed: 19:39 left: 44:00]"
     ]
    },
    {
     "name": "stdout",
     "output_type": "stream",
     "text": [
      "45.941 million (exact: 45941370, estimate 148.74 million)\n"
     ]
    },
    {
     "name": "stderr",
     "output_type": "stream",
     "text": [
      "\r",
      "|######--------------| 3147/10169  30% [elapsed: 19:39 left: 43:52]"
     ]
    },
    {
     "name": "stdout",
     "output_type": "stream",
     "text": [
      "46.082 million (exact: 46082131, estimate 148.72 million)\n"
     ]
    },
    {
     "name": "stderr",
     "output_type": "stream",
     "text": [
      "\r",
      "|######--------------| 3153/10169  31% [elapsed: 19:40 left: 43:46]"
     ]
    },
    {
     "name": "stdout",
     "output_type": "stream",
     "text": [
      "46.227 million (exact: 46227261, estimate 148.71 million)\n"
     ]
    },
    {
     "name": "stderr",
     "output_type": "stream",
     "text": [
      "|######--------------| 3170/10169  31% [elapsed: 19:41 left: 43:28]"
     ]
    },
    {
     "name": "stdout",
     "output_type": "stream",
     "text": [
      "46.360 million (exact: 46360284, estimate 148.67 million)\n"
     ]
    },
    {
     "name": "stderr",
     "output_type": "stream",
     "text": [
      "\r",
      "|######--------------| 3178/10169  31% [elapsed: 19:41 left: 43:19]"
     ]
    },
    {
     "name": "stdout",
     "output_type": "stream",
     "text": [
      "46.513 million (exact: 46512722, estimate 148.69 million)\n"
     ]
    },
    {
     "name": "stderr",
     "output_type": "stream",
     "text": [
      "\r",
      "|######--------------| 3186/10169  31% [elapsed: 19:42 left: 43:11]"
     ]
    },
    {
     "name": "stdout",
     "output_type": "stream",
     "text": [
      "46.659 million (exact: 46659150, estimate 148.69 million)\n"
     ]
    },
    {
     "name": "stderr",
     "output_type": "stream",
     "text": [
      "\r",
      "|######--------------| 3192/10169  31% [elapsed: 19:42 left: 43:05]"
     ]
    },
    {
     "name": "stdout",
     "output_type": "stream",
     "text": [
      "46.808 million (exact: 46807561, estimate 148.70 million)\n"
     ]
    },
    {
     "name": "stderr",
     "output_type": "stream",
     "text": [
      "|######--------------| 3209/10169  31% [elapsed: 20:06 left: 43:36]"
     ]
    },
    {
     "name": "stdout",
     "output_type": "stream",
     "text": [
      "46.964 million (exact: 46963526, estimate 148.73 million)\n"
     ]
    },
    {
     "name": "stderr",
     "output_type": "stream",
     "text": [
      "\r",
      "|######--------------| 3215/10169  31% [elapsed: 20:07 left: 43:30]"
     ]
    },
    {
     "name": "stdout",
     "output_type": "stream",
     "text": [
      "47.102 million (exact: 47101570, estimate 148.70 million)\n"
     ]
    },
    {
     "name": "stderr",
     "output_type": "stream",
     "text": [
      "|######--------------| 3229/10169  31% [elapsed: 20:08 left: 43:16]"
     ]
    },
    {
     "name": "stdout",
     "output_type": "stream",
     "text": [
      "47.245 million (exact: 47245348, estimate 148.70 million)\n"
     ]
    },
    {
     "name": "stderr",
     "output_type": "stream",
     "text": [
      "\r",
      "|######--------------| 3238/10169  31% [elapsed: 20:08 left: 43:07]"
     ]
    },
    {
     "name": "stdout",
     "output_type": "stream",
     "text": [
      "47.388 million (exact: 47387589, estimate 148.68 million)\n"
     ]
    },
    {
     "name": "stderr",
     "output_type": "stream",
     "text": [
      "\r",
      "|######--------------| 3247/10169  31% [elapsed: 20:09 left: 42:57]"
     ]
    },
    {
     "name": "stdout",
     "output_type": "stream",
     "text": [
      "47.530 million (exact: 47529778, estimate 148.67 million)\n"
     ]
    },
    {
     "name": "stderr",
     "output_type": "stream",
     "text": [
      "\r",
      "|######--------------| 3255/10169  32% [elapsed: 20:09 left: 42:49]"
     ]
    },
    {
     "name": "stdout",
     "output_type": "stream",
     "text": [
      "47.665 million (exact: 47665321, estimate 148.64 million)\n"
     ]
    },
    {
     "name": "stderr",
     "output_type": "stream",
     "text": [
      "\r",
      "|######--------------| 3263/10169  32% [elapsed: 20:10 left: 42:41]"
     ]
    },
    {
     "name": "stdout",
     "output_type": "stream",
     "text": [
      "47.822 million (exact: 47822085, estimate 148.67 million)\n"
     ]
    },
    {
     "name": "stderr",
     "output_type": "stream",
     "text": [
      "|######--------------| 3278/10169  32% [elapsed: 20:11 left: 42:26]"
     ]
    },
    {
     "name": "stdout",
     "output_type": "stream",
     "text": [
      "47.976 million (exact: 47976184, estimate 148.70 million)\n"
     ]
    },
    {
     "name": "stderr",
     "output_type": "stream",
     "text": [
      "\r",
      "|######--------------| 3284/10169  32% [elapsed: 20:11 left: 42:20]"
     ]
    },
    {
     "name": "stdout",
     "output_type": "stream",
     "text": [
      "48.112 million (exact: 48111797, estimate 148.66 million)\n"
     ]
    },
    {
     "name": "stderr",
     "output_type": "stream",
     "text": [
      "|######--------------| 3298/10169  32% [elapsed: 20:13 left: 42:07]"
     ]
    },
    {
     "name": "stdout",
     "output_type": "stream",
     "text": [
      "48.246 million (exact: 48246337, estimate 148.63 million)\n"
     ]
    },
    {
     "name": "stderr",
     "output_type": "stream",
     "text": [
      "|######--------------| 3309/10169  32% [elapsed: 20:32 left: 42:35]"
     ]
    },
    {
     "name": "stdout",
     "output_type": "stream",
     "text": [
      "48.395 million (exact: 48394955, estimate 148.63 million)\n"
     ]
    },
    {
     "name": "stderr",
     "output_type": "stream",
     "text": [
      "\r",
      "|######--------------| 3317/10169  32% [elapsed: 20:33 left: 42:27]"
     ]
    },
    {
     "name": "stdout",
     "output_type": "stream",
     "text": [
      "48.544 million (exact: 48543925, estimate 148.64 million)\n"
     ]
    },
    {
     "name": "stderr",
     "output_type": "stream",
     "text": [
      "\r",
      "|######--------------| 3324/10169  32% [elapsed: 20:33 left: 42:20]"
     ]
    },
    {
     "name": "stdout",
     "output_type": "stream",
     "text": [
      "48.684 million (exact: 48684163, estimate 148.62 million)\n"
     ]
    },
    {
     "name": "stderr",
     "output_type": "stream",
     "text": [
      "\r",
      "|######--------------| 3332/10169  32% [elapsed: 20:34 left: 42:12]"
     ]
    },
    {
     "name": "stdout",
     "output_type": "stream",
     "text": [
      "48.837 million (exact: 48836990, estimate 148.65 million)\n"
     ]
    },
    {
     "name": "stderr",
     "output_type": "stream",
     "text": [
      "|######--------------| 3344/10169  32% [elapsed: 20:35 left: 42:01]"
     ]
    },
    {
     "name": "stdout",
     "output_type": "stream",
     "text": [
      "48.978 million (exact: 48977715, estimate 148.63 million)\n"
     ]
    },
    {
     "name": "stderr",
     "output_type": "stream",
     "text": [
      "|######--------------| 3359/10169  33% [elapsed: 20:36 left: 41:46]"
     ]
    },
    {
     "name": "stdout",
     "output_type": "stream",
     "text": [
      "49.120 million (exact: 49120268, estimate 148.62 million)\n"
     ]
    },
    {
     "name": "stderr",
     "output_type": "stream",
     "text": [
      "\r",
      "|######--------------| 3366/10169  33% [elapsed: 20:36 left: 41:39]"
     ]
    },
    {
     "name": "stdout",
     "output_type": "stream",
     "text": [
      "49.275 million (exact: 49275451, estimate 148.64 million)\n"
     ]
    },
    {
     "name": "stderr",
     "output_type": "stream",
     "text": [
      "|######--------------| 3380/10169  33% [elapsed: 20:37 left: 41:26]"
     ]
    },
    {
     "name": "stdout",
     "output_type": "stream",
     "text": [
      "49.421 million (exact: 49421356, estimate 148.64 million)\n"
     ]
    },
    {
     "name": "stderr",
     "output_type": "stream",
     "text": [
      "\r",
      "|######--------------| 3387/10169  33% [elapsed: 20:38 left: 41:19]"
     ]
    },
    {
     "name": "stdout",
     "output_type": "stream",
     "text": [
      "49.574 million (exact: 49573741, estimate 148.66 million)\n"
     ]
    },
    {
     "name": "stderr",
     "output_type": "stream",
     "text": [
      "\r",
      "|######--------------| 3394/10169  33% [elapsed: 20:39 left: 41:13]"
     ]
    },
    {
     "name": "stdout",
     "output_type": "stream",
     "text": [
      "49.722 million (exact: 49721571, estimate 148.67 million)\n"
     ]
    },
    {
     "name": "stderr",
     "output_type": "stream",
     "text": [
      "|######--------------| 3409/10169  33% [elapsed: 20:56 left: 41:31]"
     ]
    },
    {
     "name": "stdout",
     "output_type": "stream",
     "text": [
      "49.869 million (exact: 49868954, estimate 148.67 million)\n"
     ]
    },
    {
     "name": "stderr",
     "output_type": "stream",
     "text": [
      "\r",
      "|######--------------| 3417/10169  33% [elapsed: 20:56 left: 41:23]"
     ]
    },
    {
     "name": "stdout",
     "output_type": "stream",
     "text": [
      "50.022 million (exact: 50022016, estimate 148.69 million)\n"
     ]
    },
    {
     "name": "stderr",
     "output_type": "stream",
     "text": [
      "\r",
      "|######--------------| 3427/10169  33% [elapsed: 20:57 left: 41:13]"
     ]
    },
    {
     "name": "stdout",
     "output_type": "stream",
     "text": [
      "50.167 million (exact: 50166549, estimate 148.69 million)\n"
     ]
    },
    {
     "name": "stderr",
     "output_type": "stream",
     "text": [
      "\r",
      "|######--------------| 3434/10169  33% [elapsed: 20:58 left: 41:07]"
     ]
    },
    {
     "name": "stdout",
     "output_type": "stream",
     "text": [
      "50.324 million (exact: 50324311, estimate 148.72 million)\n"
     ]
    },
    {
     "name": "stderr",
     "output_type": "stream",
     "text": [
      "|######--------------| 3450/10169  33% [elapsed: 20:59 left: 40:52]"
     ]
    },
    {
     "name": "stdout",
     "output_type": "stream",
     "text": [
      "50.481 million (exact: 50481064, estimate 148.75 million)\n"
     ]
    },
    {
     "name": "stderr",
     "output_type": "stream",
     "text": [
      "\r",
      "|######--------------| 3458/10169  34% [elapsed: 20:59 left: 40:44]"
     ]
    },
    {
     "name": "stdout",
     "output_type": "stream",
     "text": [
      "50.639 million (exact: 50638757, estimate 148.79 million)\n"
     ]
    },
    {
     "name": "stderr",
     "output_type": "stream",
     "text": [
      "\r",
      "|######--------------| 3465/10169  34% [elapsed: 21:00 left: 40:38]"
     ]
    },
    {
     "name": "stdout",
     "output_type": "stream",
     "text": [
      "50.788 million (exact: 50787748, estimate 148.79 million)\n"
     ]
    },
    {
     "name": "stderr",
     "output_type": "stream",
     "text": [
      "|######--------------| 3479/10169  34% [elapsed: 21:01 left: 40:25]"
     ]
    },
    {
     "name": "stdout",
     "output_type": "stream",
     "text": [
      "50.941 million (exact: 50940851, estimate 148.81 million)\n"
     ]
    },
    {
     "name": "stderr",
     "output_type": "stream",
     "text": [
      "\r",
      "|######--------------| 3487/10169  34% [elapsed: 21:01 left: 40:18]"
     ]
    },
    {
     "name": "stdout",
     "output_type": "stream",
     "text": [
      "51.092 million (exact: 51092045, estimate 148.83 million)\n"
     ]
    },
    {
     "name": "stderr",
     "output_type": "stream",
     "text": [
      "\r",
      "|######--------------| 3495/10169  34% [elapsed: 21:02 left: 40:10]"
     ]
    },
    {
     "name": "stdout",
     "output_type": "stream",
     "text": [
      "51.226 million (exact: 51225767, estimate 148.79 million)\n"
     ]
    },
    {
     "name": "stderr",
     "output_type": "stream",
     "text": [
      "|######--------------| 3509/10169  34% [elapsed: 21:19 left: 40:28]"
     ]
    },
    {
     "name": "stdout",
     "output_type": "stream",
     "text": [
      "51.379 million (exact: 51379120, estimate 148.81 million)\n"
     ]
    },
    {
     "name": "stderr",
     "output_type": "stream",
     "text": [
      "\r",
      "|######--------------| 3518/10169  34% [elapsed: 21:19 left: 40:19]"
     ]
    },
    {
     "name": "stdout",
     "output_type": "stream",
     "text": [
      "51.522 million (exact: 51522268, estimate 148.80 million)\n"
     ]
    },
    {
     "name": "stderr",
     "output_type": "stream",
     "text": [
      "\r",
      "|######--------------| 3527/10169  34% [elapsed: 21:20 left: 40:11]"
     ]
    },
    {
     "name": "stdout",
     "output_type": "stream",
     "text": [
      "51.667 million (exact: 51667011, estimate 148.80 million)\n"
     ]
    },
    {
     "name": "stderr",
     "output_type": "stream",
     "text": [
      "\r",
      "|######--------------| 3535/10169  34% [elapsed: 21:20 left: 40:03]"
     ]
    },
    {
     "name": "stdout",
     "output_type": "stream",
     "text": [
      "51.820 million (exact: 51820187, estimate 148.82 million)\n"
     ]
    },
    {
     "name": "stderr",
     "output_type": "stream",
     "text": [
      "|######--------------| 3550/10169  34% [elapsed: 21:22 left: 39:50]"
     ]
    },
    {
     "name": "stdout",
     "output_type": "stream",
     "text": [
      "51.980 million (exact: 51980206, estimate 148.86 million)\n"
     ]
    },
    {
     "name": "stderr",
     "output_type": "stream",
     "text": [
      "\r",
      "|######--------------| 3558/10169  34% [elapsed: 21:22 left: 39:43]"
     ]
    },
    {
     "name": "stdout",
     "output_type": "stream",
     "text": [
      "52.126 million (exact: 52125609, estimate 148.85 million)\n"
     ]
    },
    {
     "name": "stderr",
     "output_type": "stream",
     "text": [
      "\r",
      "|#######-------------| 3566/10169  35% [elapsed: 21:23 left: 39:36]"
     ]
    },
    {
     "name": "stdout",
     "output_type": "stream",
     "text": [
      "52.279 million (exact: 52278757, estimate 148.87 million)\n"
     ]
    },
    {
     "name": "stderr",
     "output_type": "stream",
     "text": [
      "|#######-------------| 3580/10169  35% [elapsed: 21:24 left: 39:23]"
     ]
    },
    {
     "name": "stdout",
     "output_type": "stream",
     "text": [
      "52.423 million (exact: 52423115, estimate 148.87 million)\n"
     ]
    },
    {
     "name": "stderr",
     "output_type": "stream",
     "text": [
      "\r",
      "|#######-------------| 3588/10169  35% [elapsed: 21:24 left: 39:16]"
     ]
    },
    {
     "name": "stdout",
     "output_type": "stream",
     "text": [
      "52.573 million (exact: 52572743, estimate 148.88 million)\n"
     ]
    },
    {
     "name": "stderr",
     "output_type": "stream",
     "text": [
      "\r",
      "|#######-------------| 3595/10169  35% [elapsed: 21:25 left: 39:10]"
     ]
    },
    {
     "name": "stdout",
     "output_type": "stream",
     "text": [
      "52.715 million (exact: 52715056, estimate 148.86 million)\n"
     ]
    },
    {
     "name": "stderr",
     "output_type": "stream",
     "text": [
      "|#######-------------| 3609/10169  35% [elapsed: 21:42 left: 39:27]"
     ]
    },
    {
     "name": "stdout",
     "output_type": "stream",
     "text": [
      "52.863 million (exact: 52863224, estimate 148.87 million)\n"
     ]
    },
    {
     "name": "stderr",
     "output_type": "stream",
     "text": [
      "\r",
      "|#######-------------| 3618/10169  35% [elapsed: 21:43 left: 39:19]"
     ]
    },
    {
     "name": "stdout",
     "output_type": "stream",
     "text": [
      "53.004 million (exact: 53004087, estimate 148.85 million)\n"
     ]
    },
    {
     "name": "stderr",
     "output_type": "stream",
     "text": [
      "\r",
      "|#######-------------| 3627/10169  35% [elapsed: 21:43 left: 39:11]"
     ]
    },
    {
     "name": "stdout",
     "output_type": "stream",
     "text": [
      "53.163 million (exact: 53162781, estimate 148.89 million)\n"
     ]
    },
    {
     "name": "stderr",
     "output_type": "stream",
     "text": [
      "\r",
      "|#######-------------| 3635/10169  35% [elapsed: 21:44 left: 39:04]"
     ]
    },
    {
     "name": "stdout",
     "output_type": "stream",
     "text": [
      "53.317 million (exact: 53316639, estimate 148.91 million)\n"
     ]
    },
    {
     "name": "stderr",
     "output_type": "stream",
     "text": [
      "|#######-------------| 3649/10169  35% [elapsed: 21:45 left: 38:52]"
     ]
    },
    {
     "name": "stdout",
     "output_type": "stream",
     "text": [
      "53.463 million (exact: 53463169, estimate 148.91 million)\n"
     ]
    },
    {
     "name": "stderr",
     "output_type": "stream",
     "text": [
      "\r",
      "|#######-------------| 3655/10169  35% [elapsed: 21:45 left: 38:47]"
     ]
    },
    {
     "name": "stdout",
     "output_type": "stream",
     "text": [
      "53.615 million (exact: 53614666, estimate 148.92 million)\n"
     ]
    },
    {
     "name": "stderr",
     "output_type": "stream",
     "text": [
      "|#######-------------| 3670/10169  36% [elapsed: 21:46 left: 38:34]"
     ]
    },
    {
     "name": "stdout",
     "output_type": "stream",
     "text": [
      "53.767 million (exact: 53767263, estimate 148.94 million)\n"
     ]
    },
    {
     "name": "stderr",
     "output_type": "stream",
     "text": [
      "\r",
      "|#######-------------| 3679/10169  36% [elapsed: 21:47 left: 38:26]"
     ]
    },
    {
     "name": "stdout",
     "output_type": "stream",
     "text": [
      "53.908 million (exact: 53908460, estimate 148.93 million)\n"
     ]
    },
    {
     "name": "stderr",
     "output_type": "stream",
     "text": [
      "\r",
      "|#######-------------| 3685/10169  36% [elapsed: 21:47 left: 38:21]"
     ]
    },
    {
     "name": "stdout",
     "output_type": "stream",
     "text": [
      "54.047 million (exact: 54046770, estimate 148.90 million)\n"
     ]
    },
    {
     "name": "stderr",
     "output_type": "stream",
     "text": [
      "|#######-------------| 3699/10169  36% [elapsed: 21:48 left: 38:09]"
     ]
    },
    {
     "name": "stdout",
     "output_type": "stream",
     "text": [
      "54.197 million (exact: 54197301, estimate 148.91 million)\n"
     ]
    },
    {
     "name": "stderr",
     "output_type": "stream",
     "text": [
      "|#######-------------| 3709/10169  36% [elapsed: 22:05 left: 38:29]"
     ]
    },
    {
     "name": "stdout",
     "output_type": "stream",
     "text": [
      "54.362 million (exact: 54361827, estimate 148.96 million)\n"
     ]
    },
    {
     "name": "stderr",
     "output_type": "stream",
     "text": [
      "\r",
      "|#######-------------| 3718/10169  36% [elapsed: 22:06 left: 38:21]"
     ]
    },
    {
     "name": "stdout",
     "output_type": "stream",
     "text": [
      "54.526 million (exact: 54525890, estimate 149.01 million)\n"
     ]
    },
    {
     "name": "stderr",
     "output_type": "stream",
     "text": [
      "\r",
      "|#######-------------| 3727/10169  36% [elapsed: 22:06 left: 38:13]"
     ]
    },
    {
     "name": "stdout",
     "output_type": "stream",
     "text": [
      "54.654 million (exact: 54653954, estimate 148.96 million)\n"
     ]
    },
    {
     "name": "stderr",
     "output_type": "stream",
     "text": [
      "\r",
      "|#######-------------| 3736/10169  36% [elapsed: 22:07 left: 38:05]"
     ]
    },
    {
     "name": "stdout",
     "output_type": "stream",
     "text": [
      "54.792 million (exact: 54792331, estimate 148.94 million)\n"
     ]
    },
    {
     "name": "stderr",
     "output_type": "stream",
     "text": [
      "\r",
      "|#######-------------| 3744/10169  36% [elapsed: 22:07 left: 37:58]"
     ]
    },
    {
     "name": "stdout",
     "output_type": "stream",
     "text": [
      "54.933 million (exact: 54932507, estimate 148.92 million)\n"
     ]
    },
    {
     "name": "stderr",
     "output_type": "stream",
     "text": [
      "|#######-------------| 3760/10169  36% [elapsed: 22:09 left: 37:45]"
     ]
    },
    {
     "name": "stdout",
     "output_type": "stream",
     "text": [
      "55.089 million (exact: 55089287, estimate 148.95 million)\n"
     ]
    },
    {
     "name": "stderr",
     "output_type": "stream",
     "text": [
      "\r",
      "|#######-------------| 3767/10169  37% [elapsed: 22:09 left: 37:39]"
     ]
    },
    {
     "name": "stdout",
     "output_type": "stream",
     "text": [
      "55.245 million (exact: 55245179, estimate 148.98 million)\n"
     ]
    },
    {
     "name": "stderr",
     "output_type": "stream",
     "text": [
      "\r",
      "|#######-------------| 3773/10169  37% [elapsed: 22:10 left: 37:34]"
     ]
    },
    {
     "name": "stdout",
     "output_type": "stream",
     "text": [
      "55.392 million (exact: 55391824, estimate 148.98 million)\n"
     ]
    },
    {
     "name": "stderr",
     "output_type": "stream",
     "text": [
      "|#######-------------| 3788/10169  37% [elapsed: 22:11 left: 37:22]"
     ]
    },
    {
     "name": "stdout",
     "output_type": "stream",
     "text": [
      "55.527 million (exact: 55527025, estimate 148.95 million)\n"
     ]
    },
    {
     "name": "stderr",
     "output_type": "stream",
     "text": [
      "\r",
      "|#######-------------| 3796/10169  37% [elapsed: 22:11 left: 37:15]"
     ]
    },
    {
     "name": "stdout",
     "output_type": "stream",
     "text": [
      "55.676 million (exact: 55676207, estimate 148.95 million)\n"
     ]
    },
    {
     "name": "stderr",
     "output_type": "stream",
     "text": [
      "|#######-------------| 3809/10169  37% [elapsed: 22:29 left: 37:32]"
     ]
    },
    {
     "name": "stdout",
     "output_type": "stream",
     "text": [
      "55.810 million (exact: 55810121, estimate 148.92 million)\n"
     ]
    },
    {
     "name": "stderr",
     "output_type": "stream",
     "text": [
      "\r",
      "|#######-------------| 3818/10169  37% [elapsed: 22:29 left: 37:25]"
     ]
    },
    {
     "name": "stdout",
     "output_type": "stream",
     "text": [
      "55.964 million (exact: 55963694, estimate 148.94 million)\n"
     ]
    },
    {
     "name": "stderr",
     "output_type": "stream",
     "text": [
      "\r",
      "|#######-------------| 3827/10169  37% [elapsed: 22:30 left: 37:17]"
     ]
    },
    {
     "name": "stdout",
     "output_type": "stream",
     "text": [
      "56.096 million (exact: 56096030, estimate 148.90 million)\n"
     ]
    },
    {
     "name": "stderr",
     "output_type": "stream",
     "text": [
      "\r",
      "|#######-------------| 3836/10169  37% [elapsed: 22:30 left: 37:09]"
     ]
    },
    {
     "name": "stdout",
     "output_type": "stream",
     "text": [
      "56.219 million (exact: 56218619, estimate 148.84 million)\n"
     ]
    },
    {
     "name": "stderr",
     "output_type": "stream",
     "text": [
      "\r",
      "|#######-------------| 3844/10169  37% [elapsed: 22:31 left: 37:03]"
     ]
    },
    {
     "name": "stdout",
     "output_type": "stream",
     "text": [
      "56.360 million (exact: 56359600, estimate 148.82 million)\n"
     ]
    },
    {
     "name": "stderr",
     "output_type": "stream",
     "text": [
      "|#######-------------| 3859/10169  37% [elapsed: 22:32 left: 36:51]"
     ]
    },
    {
     "name": "stdout",
     "output_type": "stream",
     "text": [
      "56.507 million (exact: 56506652, estimate 148.83 million)\n"
     ]
    },
    {
     "name": "stderr",
     "output_type": "stream",
     "text": [
      "\r",
      "|#######-------------| 3865/10169  38% [elapsed: 22:32 left: 36:46]"
     ]
    },
    {
     "name": "stdout",
     "output_type": "stream",
     "text": [
      "56.670 million (exact: 56669504, estimate 148.87 million)\n"
     ]
    },
    {
     "name": "stderr",
     "output_type": "stream",
     "text": [
      "|#######-------------| 3880/10169  38% [elapsed: 22:34 left: 36:34]"
     ]
    },
    {
     "name": "stdout",
     "output_type": "stream",
     "text": [
      "56.804 million (exact: 56804111, estimate 148.84 million)\n"
     ]
    },
    {
     "name": "stderr",
     "output_type": "stream",
     "text": [
      "\r",
      "|#######-------------| 3888/10169  38% [elapsed: 22:34 left: 36:28]"
     ]
    },
    {
     "name": "stdout",
     "output_type": "stream",
     "text": [
      "56.945 million (exact: 56944524, estimate 148.82 million)\n"
     ]
    },
    {
     "name": "stderr",
     "output_type": "stream",
     "text": [
      "\r",
      "|#######-------------| 3897/10169  38% [elapsed: 22:35 left: 36:21]"
     ]
    },
    {
     "name": "stdout",
     "output_type": "stream",
     "text": [
      "57.081 million (exact: 57081264, estimate 148.80 million)\n"
     ]
    },
    {
     "name": "stderr",
     "output_type": "stream",
     "text": [
      "|#######-------------| 3909/10169  38% [elapsed: 22:51 left: 36:36]"
     ]
    },
    {
     "name": "stdout",
     "output_type": "stream",
     "text": [
      "57.222 million (exact: 57221891, estimate 148.78 million)\n"
     ]
    },
    {
     "name": "stderr",
     "output_type": "stream",
     "text": [
      "\r",
      "|#######-------------| 3918/10169  38% [elapsed: 22:52 left: 36:29]"
     ]
    },
    {
     "name": "stdout",
     "output_type": "stream",
     "text": [
      "57.367 million (exact: 57367129, estimate 148.78 million)\n"
     ]
    },
    {
     "name": "stderr",
     "output_type": "stream",
     "text": [
      "\r",
      "|#######-------------| 3925/10169  38% [elapsed: 22:52 left: 36:24]"
     ]
    },
    {
     "name": "stdout",
     "output_type": "stream",
     "text": [
      "57.496 million (exact: 57496202, estimate 148.74 million)\n"
     ]
    },
    {
     "name": "stderr",
     "output_type": "stream",
     "text": [
      "\r",
      "|#######-------------| 3934/10169  38% [elapsed: 22:53 left: 36:16]"
     ]
    },
    {
     "name": "stdout",
     "output_type": "stream",
     "text": [
      "57.626 million (exact: 57625571, estimate 148.69 million)\n"
     ]
    },
    {
     "name": "stderr",
     "output_type": "stream",
     "text": [
      "|#######-------------| 3949/10169  38% [elapsed: 22:54 left: 36:04]"
     ]
    },
    {
     "name": "stdout",
     "output_type": "stream",
     "text": [
      "57.767 million (exact: 57767362, estimate 148.68 million)\n"
     ]
    },
    {
     "name": "stderr",
     "output_type": "stream",
     "text": [
      "\r",
      "|#######-------------| 3956/10169  38% [elapsed: 22:55 left: 35:59]"
     ]
    },
    {
     "name": "stdout",
     "output_type": "stream",
     "text": [
      "57.915 million (exact: 57915350, estimate 148.68 million)\n"
     ]
    },
    {
     "name": "stderr",
     "output_type": "stream",
     "text": [
      "|#######-------------| 3969/10169  39% [elapsed: 22:56 left: 35:49]"
     ]
    },
    {
     "name": "stdout",
     "output_type": "stream",
     "text": [
      "58.063 million (exact: 58063498, estimate 148.69 million)\n"
     ]
    },
    {
     "name": "stderr",
     "output_type": "stream",
     "text": [
      "\r",
      "|#######-------------| 3977/10169  39% [elapsed: 22:56 left: 35:43]"
     ]
    },
    {
     "name": "stdout",
     "output_type": "stream",
     "text": [
      "58.201 million (exact: 58201053, estimate 148.67 million)\n"
     ]
    },
    {
     "name": "stderr",
     "output_type": "stream",
     "text": [
      "\r",
      "|#######-------------| 3984/10169  39% [elapsed: 22:57 left: 35:37]"
     ]
    },
    {
     "name": "stdout",
     "output_type": "stream",
     "text": [
      "58.351 million (exact: 58350825, estimate 148.68 million)\n"
     ]
    },
    {
     "name": "stderr",
     "output_type": "stream",
     "text": [
      "|#######-------------| 3998/10169  39% [elapsed: 22:58 left: 35:27]"
     ]
    },
    {
     "name": "stdout",
     "output_type": "stream",
     "text": [
      "58.486 million (exact: 58486036, estimate 148.65 million)\n"
     ]
    },
    {
     "name": "stderr",
     "output_type": "stream",
     "text": [
      "|#######-------------| 4009/10169  39% [elapsed: 23:15 left: 35:44]"
     ]
    },
    {
     "name": "stdout",
     "output_type": "stream",
     "text": [
      "58.648 million (exact: 58647895, estimate 148.69 million)\n"
     ]
    },
    {
     "name": "stderr",
     "output_type": "stream",
     "text": [
      "\r",
      "|#######-------------| 4018/10169  39% [elapsed: 23:15 left: 35:36]"
     ]
    },
    {
     "name": "stdout",
     "output_type": "stream",
     "text": [
      "58.805 million (exact: 58805006, estimate 148.72 million)\n"
     ]
    },
    {
     "name": "stderr",
     "output_type": "stream",
     "text": [
      "\r",
      "|#######-------------| 4027/10169  39% [elapsed: 23:16 left: 35:29]"
     ]
    },
    {
     "name": "stdout",
     "output_type": "stream",
     "text": [
      "58.944 million (exact: 58943994, estimate 148.70 million)\n"
     ]
    },
    {
     "name": "stderr",
     "output_type": "stream",
     "text": [
      "\r",
      "|#######-------------| 4036/10169  39% [elapsed: 23:16 left: 35:22]"
     ]
    },
    {
     "name": "stdout",
     "output_type": "stream",
     "text": [
      "59.085 million (exact: 59085489, estimate 148.69 million)\n"
     ]
    },
    {
     "name": "stderr",
     "output_type": "stream",
     "text": [
      "\r",
      "|#######-------------| 4045/10169  39% [elapsed: 23:17 left: 35:15]"
     ]
    },
    {
     "name": "stdout",
     "output_type": "stream",
     "text": [
      "59.238 million (exact: 59238045, estimate 148.70 million)\n"
     ]
    },
    {
     "name": "stderr",
     "output_type": "stream",
     "text": [
      "\r",
      "|#######-------------| 4054/10169  39% [elapsed: 23:17 left: 35:08]"
     ]
    },
    {
     "name": "stdout",
     "output_type": "stream",
     "text": [
      "59.395 million (exact: 59394740, estimate 148.73 million)\n"
     ]
    },
    {
     "name": "stderr",
     "output_type": "stream",
     "text": [
      "|########------------| 4068/10169  40% [elapsed: 23:19 left: 34:58]"
     ]
    },
    {
     "name": "stdout",
     "output_type": "stream",
     "text": [
      "59.531 million (exact: 59531465, estimate 148.70 million)\n"
     ]
    },
    {
     "name": "stderr",
     "output_type": "stream",
     "text": [
      "\r",
      "|########------------| 4075/10169  40% [elapsed: 23:19 left: 34:53]"
     ]
    },
    {
     "name": "stdout",
     "output_type": "stream",
     "text": [
      "59.681 million (exact: 59680752, estimate 148.71 million)\n"
     ]
    },
    {
     "name": "stderr",
     "output_type": "stream",
     "text": [
      "|########------------| 4090/10169  40% [elapsed: 23:20 left: 34:41]"
     ]
    },
    {
     "name": "stdout",
     "output_type": "stream",
     "text": [
      "59.834 million (exact: 59834039, estimate 148.73 million)\n"
     ]
    },
    {
     "name": "stderr",
     "output_type": "stream",
     "text": [
      "\r",
      "|########------------| 4097/10169  40% [elapsed: 23:21 left: 34:36]"
     ]
    },
    {
     "name": "stdout",
     "output_type": "stream",
     "text": [
      "59.979 million (exact: 59978573, estimate 148.73 million)\n"
     ]
    },
    {
     "name": "stderr",
     "output_type": "stream",
     "text": [
      "|########------------| 4109/10169  40% [elapsed: 23:38 left: 34:52]"
     ]
    },
    {
     "name": "stdout",
     "output_type": "stream",
     "text": [
      "60.136 million (exact: 60135717, estimate 148.75 million)\n"
     ]
    },
    {
     "name": "stderr",
     "output_type": "stream",
     "text": [
      "\r",
      "|########------------| 4118/10169  40% [elapsed: 23:39 left: 34:45]"
     ]
    },
    {
     "name": "stdout",
     "output_type": "stream",
     "text": [
      "60.278 million (exact: 60278223, estimate 148.74 million)\n"
     ]
    },
    {
     "name": "stderr",
     "output_type": "stream",
     "text": [
      "\r",
      "|########------------| 4126/10169  40% [elapsed: 23:39 left: 34:39]"
     ]
    },
    {
     "name": "stdout",
     "output_type": "stream",
     "text": [
      "60.415 million (exact: 60415125, estimate 148.72 million)\n"
     ]
    },
    {
     "name": "stderr",
     "output_type": "stream",
     "text": [
      "\r",
      "|########------------| 4132/10169  40% [elapsed: 23:40 left: 34:34]"
     ]
    },
    {
     "name": "stdout",
     "output_type": "stream",
     "text": [
      "60.562 million (exact: 60562224, estimate 148.72 million)\n"
     ]
    },
    {
     "name": "stderr",
     "output_type": "stream",
     "text": [
      "\r",
      "|########------------| 4142/10169  40% [elapsed: 23:40 left: 34:27]"
     ]
    },
    {
     "name": "stdout",
     "output_type": "stream",
     "text": [
      "60.706 million (exact: 60706423, estimate 148.72 million)\n"
     ]
    },
    {
     "name": "stderr",
     "output_type": "stream",
     "text": [
      "|########------------| 4158/10169  40% [elapsed: 23:41 left: 34:15]"
     ]
    },
    {
     "name": "stdout",
     "output_type": "stream",
     "text": [
      "60.857 million (exact: 60856854, estimate 148.73 million)\n"
     ]
    },
    {
     "name": "stderr",
     "output_type": "stream",
     "text": [
      "\r",
      "|########------------| 4166/10169  40% [elapsed: 23:42 left: 34:09]"
     ]
    },
    {
     "name": "stdout",
     "output_type": "stream",
     "text": [
      "60.996 million (exact: 60996467, estimate 148.71 million)\n"
     ]
    },
    {
     "name": "stderr",
     "output_type": "stream",
     "text": [
      "|########------------| 4180/10169  41% [elapsed: 23:43 left: 33:59]"
     ]
    },
    {
     "name": "stdout",
     "output_type": "stream",
     "text": [
      "61.128 million (exact: 61127955, estimate 148.67 million)\n"
     ]
    },
    {
     "name": "stderr",
     "output_type": "stream",
     "text": [
      "\r",
      "|########------------| 4188/10169  41% [elapsed: 23:43 left: 33:53]"
     ]
    },
    {
     "name": "stdout",
     "output_type": "stream",
     "text": [
      "61.265 million (exact: 61264643, estimate 148.65 million)\n"
     ]
    },
    {
     "name": "stderr",
     "output_type": "stream",
     "text": [
      "|########------------| 4200/10169  41% [elapsed: 23:44 left: 33:45]"
     ]
    },
    {
     "name": "stdout",
     "output_type": "stream",
     "text": [
      "61.421 million (exact: 61420896, estimate 148.68 million)\n"
     ]
    },
    {
     "name": "stderr",
     "output_type": "stream",
     "text": [
      "|########------------| 4209/10169  41% [elapsed: 24:03 left: 34:04]"
     ]
    },
    {
     "name": "stdout",
     "output_type": "stream",
     "text": [
      "61.577 million (exact: 61576709, estimate 148.70 million)\n"
     ]
    },
    {
     "name": "stderr",
     "output_type": "stream",
     "text": [
      "\r",
      "|########------------| 4217/10169  41% [elapsed: 24:04 left: 33:58]"
     ]
    },
    {
     "name": "stdout",
     "output_type": "stream",
     "text": [
      "61.721 million (exact: 61720925, estimate 148.69 million)\n"
     ]
    },
    {
     "name": "stderr",
     "output_type": "stream",
     "text": [
      "\r",
      "|########------------| 4226/10169  41% [elapsed: 24:04 left: 33:51]"
     ]
    },
    {
     "name": "stdout",
     "output_type": "stream",
     "text": [
      "61.880 million (exact: 61879956, estimate 148.73 million)\n"
     ]
    },
    {
     "name": "stderr",
     "output_type": "stream",
     "text": [
      "\r",
      "|########------------| 4235/10169  41% [elapsed: 24:05 left: 33:45]"
     ]
    },
    {
     "name": "stdout",
     "output_type": "stream",
     "text": [
      "62.021 million (exact: 62021266, estimate 148.71 million)\n"
     ]
    },
    {
     "name": "stderr",
     "output_type": "stream",
     "text": [
      "\r",
      "|########------------| 4242/10169  41% [elapsed: 24:05 left: 33:40]"
     ]
    },
    {
     "name": "stdout",
     "output_type": "stream",
     "text": [
      "62.178 million (exact: 62178064, estimate 148.74 million)\n"
     ]
    },
    {
     "name": "stderr",
     "output_type": "stream",
     "text": [
      "|########------------| 4254/10169  41% [elapsed: 24:07 left: 33:32]"
     ]
    },
    {
     "name": "stdout",
     "output_type": "stream",
     "text": [
      "62.321 million (exact: 62321462, estimate 148.73 million)\n"
     ]
    },
    {
     "name": "stderr",
     "output_type": "stream",
     "text": [
      "|########------------| 4267/10169  41% [elapsed: 24:08 left: 33:23]"
     ]
    },
    {
     "name": "stdout",
     "output_type": "stream",
     "text": [
      "62.473 million (exact: 62473076, estimate 148.74 million)\n"
     ]
    },
    {
     "name": "stderr",
     "output_type": "stream",
     "text": [
      "\r",
      "|########------------| 4274/10169  42% [elapsed: 24:08 left: 33:18]"
     ]
    },
    {
     "name": "stdout",
     "output_type": "stream",
     "text": [
      "62.627 million (exact: 62627399, estimate 148.76 million)\n"
     ]
    },
    {
     "name": "stderr",
     "output_type": "stream",
     "text": [
      "|########------------| 4288/10169  42% [elapsed: 24:09 left: 33:08]"
     ]
    },
    {
     "name": "stdout",
     "output_type": "stream",
     "text": [
      "62.777 million (exact: 62776552, estimate 148.77 million)\n"
     ]
    },
    {
     "name": "stderr",
     "output_type": "stream",
     "text": [
      "\r",
      "|########------------| 4296/10169  42% [elapsed: 24:10 left: 33:02]"
     ]
    },
    {
     "name": "stdout",
     "output_type": "stream",
     "text": [
      "62.923 million (exact: 62922833, estimate 148.77 million)\n"
     ]
    },
    {
     "name": "stderr",
     "output_type": "stream",
     "text": [
      "|########------------| 4309/10169  42% [elapsed: 24:33 left: 33:23]"
     ]
    },
    {
     "name": "stdout",
     "output_type": "stream",
     "text": [
      "63.085 million (exact: 63085218, estimate 148.81 million)\n"
     ]
    },
    {
     "name": "stderr",
     "output_type": "stream",
     "text": [
      "\r",
      "|########------------| 4317/10169  42% [elapsed: 24:34 left: 33:18]"
     ]
    },
    {
     "name": "stdout",
     "output_type": "stream",
     "text": [
      "63.241 million (exact: 63240936, estimate 148.83 million)\n"
     ]
    },
    {
     "name": "stderr",
     "output_type": "stream",
     "text": [
      "\r",
      "|########------------| 4326/10169  42% [elapsed: 24:34 left: 33:11]"
     ]
    },
    {
     "name": "stdout",
     "output_type": "stream",
     "text": [
      "63.399 million (exact: 63398755, estimate 148.86 million)\n"
     ]
    },
    {
     "name": "stderr",
     "output_type": "stream",
     "text": [
      "\r",
      "|########------------| 4336/10169  42% [elapsed: 24:35 left: 33:04]"
     ]
    },
    {
     "name": "stdout",
     "output_type": "stream",
     "text": [
      "63.547 million (exact: 63547425, estimate 148.86 million)\n"
     ]
    },
    {
     "name": "stderr",
     "output_type": "stream",
     "text": [
      "\r",
      "|########------------| 4345/10169  42% [elapsed: 24:35 left: 32:58]"
     ]
    },
    {
     "name": "stdout",
     "output_type": "stream",
     "text": [
      "63.697 million (exact: 63697198, estimate 148.87 million)\n"
     ]
    },
    {
     "name": "stderr",
     "output_type": "stream",
     "text": [
      "\r",
      "|########------------| 4353/10169  42% [elapsed: 24:36 left: 32:52]"
     ]
    },
    {
     "name": "stdout",
     "output_type": "stream",
     "text": [
      "63.843 million (exact: 63842725, estimate 148.87 million)\n"
     ]
    },
    {
     "name": "stderr",
     "output_type": "stream",
     "text": [
      "|########------------| 4369/10169  42% [elapsed: 24:37 left: 32:41]"
     ]
    },
    {
     "name": "stdout",
     "output_type": "stream",
     "text": [
      "64.000 million (exact: 64000046, estimate 148.89 million)\n"
     ]
    },
    {
     "name": "stderr",
     "output_type": "stream",
     "text": [
      "\r",
      "|########------------| 4377/10169  43% [elapsed: 24:37 left: 32:35]"
     ]
    },
    {
     "name": "stdout",
     "output_type": "stream",
     "text": [
      "64.137 million (exact: 64136758, estimate 148.87 million)\n"
     ]
    },
    {
     "name": "stderr",
     "output_type": "stream",
     "text": [
      "|########------------| 4390/10169  43% [elapsed: 24:38 left: 32:26]"
     ]
    },
    {
     "name": "stdout",
     "output_type": "stream",
     "text": [
      "64.266 million (exact: 64265508, estimate 148.83 million)\n"
     ]
    },
    {
     "name": "stderr",
     "output_type": "stream",
     "text": [
      "\r",
      "|########------------| 4397/10169  43% [elapsed: 24:39 left: 32:22]"
     ]
    },
    {
     "name": "stdout",
     "output_type": "stream",
     "text": [
      "64.405 million (exact: 64405088, estimate 148.82 million)\n"
     ]
    },
    {
     "name": "stderr",
     "output_type": "stream",
     "text": [
      "|########------------| 4409/10169  43% [elapsed: 25:02 left: 32:43]"
     ]
    },
    {
     "name": "stdout",
     "output_type": "stream",
     "text": [
      "64.563 million (exact: 64562896, estimate 148.84 million)\n"
     ]
    },
    {
     "name": "stderr",
     "output_type": "stream",
     "text": [
      "\r",
      "|########------------| 4417/10169  43% [elapsed: 25:03 left: 32:37]"
     ]
    },
    {
     "name": "stdout",
     "output_type": "stream",
     "text": [
      "64.708 million (exact: 64708289, estimate 148.84 million)\n"
     ]
    },
    {
     "name": "stderr",
     "output_type": "stream",
     "text": [
      "\r",
      "|########------------| 4425/10169  43% [elapsed: 25:03 left: 32:32]"
     ]
    },
    {
     "name": "stdout",
     "output_type": "stream",
     "text": [
      "64.849 million (exact: 64848648, estimate 148.83 million)\n"
     ]
    },
    {
     "name": "stderr",
     "output_type": "stream",
     "text": [
      "\r",
      "|########------------| 4435/10169  43% [elapsed: 25:04 left: 32:24]"
     ]
    },
    {
     "name": "stdout",
     "output_type": "stream",
     "text": [
      "64.993 million (exact: 64992754, estimate 148.82 million)\n"
     ]
    },
    {
     "name": "stderr",
     "output_type": "stream",
     "text": [
      "|########------------| 4450/10169  43% [elapsed: 25:05 left: 32:14]"
     ]
    },
    {
     "name": "stdout",
     "output_type": "stream",
     "text": [
      "65.149 million (exact: 65148926, estimate 148.84 million)\n"
     ]
    },
    {
     "name": "stderr",
     "output_type": "stream",
     "text": [
      "\r",
      "|########------------| 4456/10169  43% [elapsed: 25:05 left: 32:10]"
     ]
    },
    {
     "name": "stdout",
     "output_type": "stream",
     "text": [
      "65.308 million (exact: 65307885, estimate 148.87 million)\n"
     ]
    },
    {
     "name": "stderr",
     "output_type": "stream",
     "text": [
      "\r",
      "|########------------| 4464/10169  43% [elapsed: 25:06 left: 32:05]"
     ]
    },
    {
     "name": "stdout",
     "output_type": "stream",
     "text": [
      "65.454 million (exact: 65453711, estimate 148.87 million)\n"
     ]
    },
    {
     "name": "stderr",
     "output_type": "stream",
     "text": [
      "|########------------| 4479/10169  44% [elapsed: 25:07 left: 31:55]"
     ]
    },
    {
     "name": "stdout",
     "output_type": "stream",
     "text": [
      "65.598 million (exact: 65598265, estimate 148.87 million)\n"
     ]
    },
    {
     "name": "stderr",
     "output_type": "stream",
     "text": [
      "\r",
      "|########------------| 4486/10169  44% [elapsed: 25:08 left: 31:50]"
     ]
    },
    {
     "name": "stdout",
     "output_type": "stream",
     "text": [
      "65.738 million (exact: 65738267, estimate 148.85 million)\n"
     ]
    },
    {
     "name": "stderr",
     "output_type": "stream",
     "text": [
      "\r",
      "|########------------| 4494/10169  44% [elapsed: 25:08 left: 31:45]"
     ]
    },
    {
     "name": "stdout",
     "output_type": "stream",
     "text": [
      "65.874 million (exact: 65874358, estimate 148.83 million)\n"
     ]
    },
    {
     "name": "stderr",
     "output_type": "stream",
     "text": [
      "|########------------| 4509/10169  44% [elapsed: 25:27 left: 31:57]"
     ]
    },
    {
     "name": "stdout",
     "output_type": "stream",
     "text": [
      "66.003 million (exact: 66002625, estimate 148.79 million)\n"
     ]
    },
    {
     "name": "stderr",
     "output_type": "stream",
     "text": [
      "\r",
      "|########------------| 4518/10169  44% [elapsed: 25:27 left: 31:50]"
     ]
    },
    {
     "name": "stdout",
     "output_type": "stream",
     "text": [
      "66.148 million (exact: 66147820, estimate 148.79 million)\n"
     ]
    },
    {
     "name": "stderr",
     "output_type": "stream",
     "text": [
      "\r",
      "|########------------| 4527/10169  44% [elapsed: 25:28 left: 31:44]"
     ]
    },
    {
     "name": "stdout",
     "output_type": "stream",
     "text": [
      "66.302 million (exact: 66301561, estimate 148.80 million)\n"
     ]
    },
    {
     "name": "stderr",
     "output_type": "stream",
     "text": [
      "\r",
      "|########------------| 4537/10169  44% [elapsed: 25:28 left: 31:37]"
     ]
    },
    {
     "name": "stdout",
     "output_type": "stream",
     "text": [
      "66.452 million (exact: 66452124, estimate 148.81 million)\n"
     ]
    },
    {
     "name": "stderr",
     "output_type": "stream",
     "text": [
      "\r",
      "|########------------| 4547/10169  44% [elapsed: 25:29 left: 31:30]"
     ]
    },
    {
     "name": "stdout",
     "output_type": "stream",
     "text": [
      "66.608 million (exact: 66608022, estimate 148.83 million)\n"
     ]
    },
    {
     "name": "stderr",
     "output_type": "stream",
     "text": [
      "\r",
      "|########------------| 4555/10169  44% [elapsed: 25:29 left: 31:25]"
     ]
    },
    {
     "name": "stdout",
     "output_type": "stream",
     "text": [
      "66.757 million (exact: 66756703, estimate 148.84 million)\n"
     ]
    },
    {
     "name": "stderr",
     "output_type": "stream",
     "text": [
      "\r",
      "|########------------| 4564/10169  44% [elapsed: 25:30 left: 31:19]"
     ]
    },
    {
     "name": "stdout",
     "output_type": "stream",
     "text": [
      "66.902 million (exact: 66901904, estimate 148.84 million)\n"
     ]
    },
    {
     "name": "stderr",
     "output_type": "stream",
     "text": [
      "|#########-----------| 4580/10169  45% [elapsed: 25:31 left: 31:08]"
     ]
    },
    {
     "name": "stdout",
     "output_type": "stream",
     "text": [
      "67.017 million (exact: 67016916, estimate 148.77 million)\n"
     ]
    },
    {
     "name": "stderr",
     "output_type": "stream",
     "text": [
      "\r",
      "|#########-----------| 4586/10169  45% [elapsed: 25:32 left: 31:05]"
     ]
    },
    {
     "name": "stdout",
     "output_type": "stream",
     "text": [
      "67.164 million (exact: 67164412, estimate 148.77 million)\n"
     ]
    },
    {
     "name": "stderr",
     "output_type": "stream",
     "text": [
      "\r",
      "|#########-----------| 4594/10169  45% [elapsed: 25:32 left: 30:59]"
     ]
    },
    {
     "name": "stdout",
     "output_type": "stream",
     "text": [
      "67.304 million (exact: 67303920, estimate 148.75 million)\n"
     ]
    },
    {
     "name": "stderr",
     "output_type": "stream",
     "text": [
      "|#########-----------| 4609/10169  45% [elapsed: 25:51 left: 31:11]"
     ]
    },
    {
     "name": "stdout",
     "output_type": "stream",
     "text": [
      "67.450 million (exact: 67449836, estimate 148.75 million)\n"
     ]
    },
    {
     "name": "stderr",
     "output_type": "stream",
     "text": [
      "\r",
      "|#########-----------| 4618/10169  45% [elapsed: 25:52 left: 31:05]"
     ]
    },
    {
     "name": "stdout",
     "output_type": "stream",
     "text": [
      "67.601 million (exact: 67600593, estimate 148.76 million)\n"
     ]
    },
    {
     "name": "stderr",
     "output_type": "stream",
     "text": [
      "\r",
      "|#########-----------| 4626/10169  45% [elapsed: 25:52 left: 31:00]"
     ]
    },
    {
     "name": "stdout",
     "output_type": "stream",
     "text": [
      "67.745 million (exact: 67744881, estimate 148.76 million)\n"
     ]
    },
    {
     "name": "stderr",
     "output_type": "stream",
     "text": [
      "\r",
      "|#########-----------| 4635/10169  45% [elapsed: 25:53 left: 30:54]"
     ]
    },
    {
     "name": "stdout",
     "output_type": "stream",
     "text": [
      "67.899 million (exact: 67898949, estimate 148.77 million)\n"
     ]
    },
    {
     "name": "stderr",
     "output_type": "stream",
     "text": [
      "|#########-----------| 4650/10169  45% [elapsed: 25:54 left: 30:44]"
     ]
    },
    {
     "name": "stdout",
     "output_type": "stream",
     "text": [
      "68.052 million (exact: 68051726, estimate 148.79 million)\n"
     ]
    },
    {
     "name": "stderr",
     "output_type": "stream",
     "text": [
      "\r",
      "|#########-----------| 4657/10169  45% [elapsed: 25:54 left: 30:40]"
     ]
    },
    {
     "name": "stdout",
     "output_type": "stream",
     "text": [
      "68.210 million (exact: 68210239, estimate 148.82 million)\n"
     ]
    },
    {
     "name": "stderr",
     "output_type": "stream",
     "text": [
      "\r",
      "|#########-----------| 4664/10169  45% [elapsed: 25:55 left: 30:36]"
     ]
    },
    {
     "name": "stdout",
     "output_type": "stream",
     "text": [
      "68.371 million (exact: 68371426, estimate 148.85 million)\n"
     ]
    },
    {
     "name": "stderr",
     "output_type": "stream",
     "text": [
      "|#########-----------| 4678/10169  46% [elapsed: 25:56 left: 30:27]"
     ]
    },
    {
     "name": "stdout",
     "output_type": "stream",
     "text": [
      "68.513 million (exact: 68513255, estimate 148.84 million)\n"
     ]
    },
    {
     "name": "stderr",
     "output_type": "stream",
     "text": [
      "\r",
      "|#########-----------| 4686/10169  46% [elapsed: 25:57 left: 30:21]"
     ]
    },
    {
     "name": "stdout",
     "output_type": "stream",
     "text": [
      "68.663 million (exact: 68662673, estimate 148.84 million)\n"
     ]
    },
    {
     "name": "stderr",
     "output_type": "stream",
     "text": [
      "\r",
      "|#########-----------| 4694/10169  46% [elapsed: 25:57 left: 30:16]"
     ]
    },
    {
     "name": "stdout",
     "output_type": "stream",
     "text": [
      "68.822 million (exact: 68822229, estimate 148.87 million)\n"
     ]
    },
    {
     "name": "stderr",
     "output_type": "stream",
     "text": [
      "|#########-----------| 4709/10169  46% [elapsed: 26:16 left: 30:28]"
     ]
    },
    {
     "name": "stdout",
     "output_type": "stream",
     "text": [
      "68.978 million (exact: 68978146, estimate 148.89 million)\n"
     ]
    },
    {
     "name": "stderr",
     "output_type": "stream",
     "text": [
      "\r",
      "|#########-----------| 4718/10169  46% [elapsed: 26:17 left: 30:22]"
     ]
    },
    {
     "name": "stdout",
     "output_type": "stream",
     "text": [
      "69.131 million (exact: 69130643, estimate 148.91 million)\n"
     ]
    },
    {
     "name": "stderr",
     "output_type": "stream",
     "text": [
      "|#########-----------| 4730/10169  46% [elapsed: 26:18 left: 30:15]"
     ]
    },
    {
     "name": "stdout",
     "output_type": "stream",
     "text": [
      "69.278 million (exact: 69277622, estimate 148.91 million)\n"
     ]
    },
    {
     "name": "stderr",
     "output_type": "stream",
     "text": [
      "\r",
      "|#########-----------| 4737/10169  46% [elapsed: 26:18 left: 30:10]"
     ]
    },
    {
     "name": "stdout",
     "output_type": "stream",
     "text": [
      "69.411 million (exact: 69410972, estimate 148.88 million)\n"
     ]
    },
    {
     "name": "stderr",
     "output_type": "stream",
     "text": [
      "\r",
      "|#########-----------| 4745/10169  46% [elapsed: 26:19 left: 30:05]"
     ]
    },
    {
     "name": "stdout",
     "output_type": "stream",
     "text": [
      "69.552 million (exact: 69551551, estimate 148.87 million)\n"
     ]
    },
    {
     "name": "stderr",
     "output_type": "stream",
     "text": [
      "\r",
      "|#########-----------| 4754/10169  46% [elapsed: 26:20 left: 29:59]"
     ]
    },
    {
     "name": "stdout",
     "output_type": "stream",
     "text": [
      "69.706 million (exact: 69706357, estimate 148.89 million)\n"
     ]
    },
    {
     "name": "stderr",
     "output_type": "stream",
     "text": [
      "|#########-----------| 4769/10169  46% [elapsed: 26:21 left: 29:50]"
     ]
    },
    {
     "name": "stdout",
     "output_type": "stream",
     "text": [
      "69.837 million (exact: 69837461, estimate 148.85 million)\n"
     ]
    },
    {
     "name": "stderr",
     "output_type": "stream",
     "text": [
      "\r",
      "|#########-----------| 4777/10169  46% [elapsed: 26:21 left: 29:45]"
     ]
    },
    {
     "name": "stdout",
     "output_type": "stream",
     "text": [
      "69.969 million (exact: 69969393, estimate 148.82 million)\n"
     ]
    },
    {
     "name": "stderr",
     "output_type": "stream",
     "text": [
      "\r",
      "|#########-----------| 4785/10169  47% [elapsed: 26:22 left: 29:40]"
     ]
    },
    {
     "name": "stdout",
     "output_type": "stream",
     "text": [
      "70.120 million (exact: 70120222, estimate 148.83 million)\n"
     ]
    },
    {
     "name": "stderr",
     "output_type": "stream",
     "text": [
      "|#########-----------| 4800/10169  47% [elapsed: 26:23 left: 29:31]"
     ]
    },
    {
     "name": "stdout",
     "output_type": "stream",
     "text": [
      "70.260 million (exact: 70260258, estimate 148.82 million)\n"
     ]
    },
    {
     "name": "stderr",
     "output_type": "stream",
     "text": [
      "|#########-----------| 4809/10169  47% [elapsed: 26:40 left: 29:44]"
     ]
    },
    {
     "name": "stdout",
     "output_type": "stream",
     "text": [
      "70.418 million (exact: 70417654, estimate 148.84 million)\n"
     ]
    },
    {
     "name": "stderr",
     "output_type": "stream",
     "text": [
      "\r",
      "|#########-----------| 4819/10169  47% [elapsed: 26:41 left: 29:37]"
     ]
    },
    {
     "name": "stdout",
     "output_type": "stream",
     "text": [
      "70.569 million (exact: 70569293, estimate 148.85 million)\n"
     ]
    },
    {
     "name": "stderr",
     "output_type": "stream",
     "text": [
      "\r",
      "|#########-----------| 4826/10169  47% [elapsed: 26:42 left: 29:33]"
     ]
    },
    {
     "name": "stdout",
     "output_type": "stream",
     "text": [
      "70.717 million (exact: 70716555, estimate 148.85 million)\n"
     ]
    },
    {
     "name": "stderr",
     "output_type": "stream",
     "text": [
      "\r",
      "|#########-----------| 4835/10169  47% [elapsed: 26:42 left: 29:27]"
     ]
    },
    {
     "name": "stdout",
     "output_type": "stream",
     "text": [
      "70.869 million (exact: 70869133, estimate 148.87 million)\n"
     ]
    },
    {
     "name": "stderr",
     "output_type": "stream",
     "text": [
      "\r",
      "|#########-----------| 4843/10169  47% [elapsed: 26:43 left: 29:22]"
     ]
    },
    {
     "name": "stdout",
     "output_type": "stream",
     "text": [
      "71.015 million (exact: 71015397, estimate 148.87 million)\n"
     ]
    },
    {
     "name": "stderr",
     "output_type": "stream",
     "text": [
      "|#########-----------| 4858/10169  47% [elapsed: 26:44 left: 29:13]"
     ]
    },
    {
     "name": "stdout",
     "output_type": "stream",
     "text": [
      "71.172 million (exact: 71171692, estimate 148.89 million)\n"
     ]
    },
    {
     "name": "stderr",
     "output_type": "stream",
     "text": [
      "\r",
      "|#########-----------| 4865/10169  47% [elapsed: 26:44 left: 29:09]"
     ]
    },
    {
     "name": "stdout",
     "output_type": "stream",
     "text": [
      "71.329 million (exact: 71329396, estimate 148.91 million)\n"
     ]
    },
    {
     "name": "stderr",
     "output_type": "stream",
     "text": [
      "|#########-----------| 4879/10169  47% [elapsed: 26:45 left: 29:00]"
     ]
    },
    {
     "name": "stdout",
     "output_type": "stream",
     "text": [
      "71.480 million (exact: 71479536, estimate 148.92 million)\n"
     ]
    },
    {
     "name": "stderr",
     "output_type": "stream",
     "text": [
      "\r",
      "|#########-----------| 4887/10169  48% [elapsed: 26:46 left: 28:56]"
     ]
    },
    {
     "name": "stdout",
     "output_type": "stream",
     "text": [
      "71.626 million (exact: 71625543, estimate 148.92 million)\n"
     ]
    },
    {
     "name": "stderr",
     "output_type": "stream",
     "text": [
      "\r",
      "|#########-----------| 4895/10169  48% [elapsed: 26:46 left: 28:51]"
     ]
    },
    {
     "name": "stdout",
     "output_type": "stream",
     "text": [
      "71.789 million (exact: 71788931, estimate 148.95 million)\n"
     ]
    },
    {
     "name": "stderr",
     "output_type": "stream",
     "text": [
      "|#########-----------| 4909/10169  48% [elapsed: 27:03 left: 28:59]"
     ]
    },
    {
     "name": "stdout",
     "output_type": "stream",
     "text": [
      "71.933 million (exact: 71933306, estimate 148.95 million)\n"
     ]
    },
    {
     "name": "stderr",
     "output_type": "stream",
     "text": [
      "|#########-----------| 4919/10169  48% [elapsed: 27:04 left: 28:54]"
     ]
    },
    {
     "name": "stdout",
     "output_type": "stream",
     "text": [
      "72.073 million (exact: 72073117, estimate 148.94 million)\n"
     ]
    },
    {
     "name": "stderr",
     "output_type": "stream",
     "text": [
      "\r",
      "|#########-----------| 4926/10169  48% [elapsed: 27:05 left: 28:49]"
     ]
    },
    {
     "name": "stdout",
     "output_type": "stream",
     "text": [
      "72.210 million (exact: 72210180, estimate 148.92 million)\n"
     ]
    },
    {
     "name": "stderr",
     "output_type": "stream",
     "text": [
      "\r",
      "|#########-----------| 4933/10169  48% [elapsed: 27:05 left: 28:45]"
     ]
    },
    {
     "name": "stdout",
     "output_type": "stream",
     "text": [
      "72.363 million (exact: 72363075, estimate 148.93 million)\n"
     ]
    },
    {
     "name": "stderr",
     "output_type": "stream",
     "text": [
      "\r",
      "|#########-----------| 4942/10169  48% [elapsed: 27:06 left: 28:40]"
     ]
    },
    {
     "name": "stdout",
     "output_type": "stream",
     "text": [
      "72.500 million (exact: 72500245, estimate 148.91 million)\n"
     ]
    },
    {
     "name": "stderr",
     "output_type": "stream",
     "text": [
      "|#########-----------| 4959/10169  48% [elapsed: 27:07 left: 28:29]"
     ]
    },
    {
     "name": "stdout",
     "output_type": "stream",
     "text": [
      "72.648 million (exact: 72647861, estimate 148.91 million)\n"
     ]
    },
    {
     "name": "stderr",
     "output_type": "stream",
     "text": [
      "\r",
      "|#########-----------| 4965/10169  48% [elapsed: 27:07 left: 28:26]"
     ]
    },
    {
     "name": "stdout",
     "output_type": "stream",
     "text": [
      "72.802 million (exact: 72802473, estimate 148.93 million)\n"
     ]
    },
    {
     "name": "stderr",
     "output_type": "stream",
     "text": [
      "\r",
      "|#########-----------| 4973/10169  48% [elapsed: 27:08 left: 28:21]"
     ]
    },
    {
     "name": "stdout",
     "output_type": "stream",
     "text": [
      "72.952 million (exact: 72951906, estimate 148.94 million)\n"
     ]
    },
    {
     "name": "stderr",
     "output_type": "stream",
     "text": [
      "|#########-----------| 4989/10169  49% [elapsed: 27:09 left: 28:12]"
     ]
    },
    {
     "name": "stdout",
     "output_type": "stream",
     "text": [
      "73.100 million (exact: 73100474, estimate 148.94 million)\n"
     ]
    },
    {
     "name": "stderr",
     "output_type": "stream",
     "text": [
      "\r",
      "|#########-----------| 4997/10169  49% [elapsed: 27:10 left: 28:07]"
     ]
    },
    {
     "name": "stdout",
     "output_type": "stream",
     "text": [
      "73.266 million (exact: 73265775, estimate 148.98 million)\n"
     ]
    },
    {
     "name": "stderr",
     "output_type": "stream",
     "text": [
      "|#########-----------| 5009/10169  49% [elapsed: 27:28 left: 28:18]"
     ]
    },
    {
     "name": "stdout",
     "output_type": "stream",
     "text": [
      "73.403 million (exact: 73403145, estimate 148.96 million)\n"
     ]
    },
    {
     "name": "stderr",
     "output_type": "stream",
     "text": [
      "\r",
      "|#########-----------| 5015/10169  49% [elapsed: 27:29 left: 28:14]"
     ]
    },
    {
     "name": "stdout",
     "output_type": "stream",
     "text": [
      "73.547 million (exact: 73546508, estimate 148.95 million)\n"
     ]
    },
    {
     "name": "stderr",
     "output_type": "stream",
     "text": [
      "|#########-----------| 5030/10169  49% [elapsed: 27:30 left: 28:06]"
     ]
    },
    {
     "name": "stdout",
     "output_type": "stream",
     "text": [
      "73.701 million (exact: 73701348, estimate 148.97 million)\n"
     ]
    },
    {
     "name": "stderr",
     "output_type": "stream",
     "text": [
      "\r",
      "|#########-----------| 5040/10169  49% [elapsed: 27:30 left: 28:00]"
     ]
    },
    {
     "name": "stdout",
     "output_type": "stream",
     "text": [
      "73.837 million (exact: 73837340, estimate 148.95 million)\n"
     ]
    },
    {
     "name": "stderr",
     "output_type": "stream",
     "text": [
      "\r",
      "|#########-----------| 5047/10169  49% [elapsed: 27:31 left: 27:55]"
     ]
    },
    {
     "name": "stdout",
     "output_type": "stream",
     "text": [
      "73.990 million (exact: 73990198, estimate 148.96 million)\n"
     ]
    },
    {
     "name": "stderr",
     "output_type": "stream",
     "text": [
      "\r",
      "|#########-----------| 5056/10169  49% [elapsed: 27:31 left: 27:50]"
     ]
    },
    {
     "name": "stdout",
     "output_type": "stream",
     "text": [
      "74.134 million (exact: 74133560, estimate 148.96 million)\n"
     ]
    },
    {
     "name": "stderr",
     "output_type": "stream",
     "text": [
      "\r",
      "|#########-----------| 5064/10169  49% [elapsed: 27:32 left: 27:45]"
     ]
    },
    {
     "name": "stdout",
     "output_type": "stream",
     "text": [
      "74.279 million (exact: 74279340, estimate 148.95 million)\n"
     ]
    },
    {
     "name": "stderr",
     "output_type": "stream",
     "text": [
      "|#########-----------| 5079/10169  49% [elapsed: 27:33 left: 27:37]"
     ]
    },
    {
     "name": "stdout",
     "output_type": "stream",
     "text": [
      "74.423 million (exact: 74422692, estimate 148.95 million)\n"
     ]
    },
    {
     "name": "stderr",
     "output_type": "stream",
     "text": [
      "\r",
      "|##########----------| 5087/10169  50% [elapsed: 27:34 left: 27:32]"
     ]
    },
    {
     "name": "stdout",
     "output_type": "stream",
     "text": [
      "74.587 million (exact: 74586760, estimate 148.98 million)\n"
     ]
    },
    {
     "name": "stderr",
     "output_type": "stream",
     "text": [
      "\r",
      "|##########----------| 5095/10169  50% [elapsed: 27:34 left: 27:27]"
     ]
    },
    {
     "name": "stdout",
     "output_type": "stream",
     "text": [
      "74.741 million (exact: 74741101, estimate 149.00 million)\n"
     ]
    },
    {
     "name": "stderr",
     "output_type": "stream",
     "text": [
      "|##########----------| 5109/10169  50% [elapsed: 27:52 left: 27:36]"
     ]
    },
    {
     "name": "stdout",
     "output_type": "stream",
     "text": [
      "74.892 million (exact: 74891859, estimate 149.01 million)\n"
     ]
    },
    {
     "name": "stderr",
     "output_type": "stream",
     "text": [
      "\r",
      "|##########----------| 5118/10169  50% [elapsed: 27:52 left: 27:30]"
     ]
    },
    {
     "name": "stdout",
     "output_type": "stream",
     "text": [
      "75.036 million (exact: 75035808, estimate 149.00 million)\n"
     ]
    },
    {
     "name": "stderr",
     "output_type": "stream",
     "text": [
      "|##########----------| 5130/10169  50% [elapsed: 27:53 left: 27:24]"
     ]
    },
    {
     "name": "stdout",
     "output_type": "stream",
     "text": [
      "75.169 million (exact: 75169207, estimate 148.98 million)\n"
     ]
    },
    {
     "name": "stderr",
     "output_type": "stream",
     "text": [
      "\r",
      "|##########----------| 5138/10169  50% [elapsed: 27:54 left: 27:19]"
     ]
    },
    {
     "name": "stdout",
     "output_type": "stream",
     "text": [
      "75.319 million (exact: 75318986, estimate 148.98 million)\n"
     ]
    },
    {
     "name": "stderr",
     "output_type": "stream",
     "text": [
      "\r",
      "|##########----------| 5147/10169  50% [elapsed: 27:54 left: 27:14]"
     ]
    },
    {
     "name": "stdout",
     "output_type": "stream",
     "text": [
      "75.469 million (exact: 75469358, estimate 148.99 million)\n"
     ]
    },
    {
     "name": "stderr",
     "output_type": "stream",
     "text": [
      "\r",
      "|##########----------| 5155/10169  50% [elapsed: 27:55 left: 27:09]"
     ]
    },
    {
     "name": "stdout",
     "output_type": "stream",
     "text": [
      "75.616 million (exact: 75615672, estimate 148.99 million)\n"
     ]
    },
    {
     "name": "stderr",
     "output_type": "stream",
     "text": [
      "|##########----------| 5169/10169  50% [elapsed: 27:56 left: 27:01]"
     ]
    },
    {
     "name": "stdout",
     "output_type": "stream",
     "text": [
      "75.773 million (exact: 75773267, estimate 149.01 million)\n"
     ]
    },
    {
     "name": "stderr",
     "output_type": "stream",
     "text": [
      "\r",
      "|##########----------| 5176/10169  50% [elapsed: 27:57 left: 26:57]"
     ]
    },
    {
     "name": "stdout",
     "output_type": "stream",
     "text": [
      "75.923 million (exact: 75923455, estimate 149.02 million)\n"
     ]
    },
    {
     "name": "stderr",
     "output_type": "stream",
     "text": [
      "\r",
      "|##########----------| 5183/10169  50% [elapsed: 27:57 left: 26:53]"
     ]
    },
    {
     "name": "stdout",
     "output_type": "stream",
     "text": [
      "76.073 million (exact: 76072570, estimate 149.02 million)\n"
     ]
    },
    {
     "name": "stderr",
     "output_type": "stream",
     "text": [
      "|##########----------| 5198/10169  51% [elapsed: 27:58 left: 26:45]"
     ]
    },
    {
     "name": "stdout",
     "output_type": "stream",
     "text": [
      "76.223 million (exact: 76223305, estimate 149.03 million)\n"
     ]
    },
    {
     "name": "stderr",
     "output_type": "stream",
     "text": [
      "\r",
      "|##########----------| 5204/10169  51% [elapsed: 27:59 left: 26:42]"
     ]
    },
    {
     "name": "stdout",
     "output_type": "stream",
     "text": [
      "76.362 million (exact: 76362264, estimate 149.02 million)\n"
     ]
    },
    {
     "name": "stderr",
     "output_type": "stream",
     "text": [
      "|##########----------| 5220/10169  51% [elapsed: 28:00 left: 26:32]"
     ]
    },
    {
     "name": "stdout",
     "output_type": "stream",
     "text": [
      "76.503 million (exact: 76503175, estimate 149.01 million)\n"
     ]
    },
    {
     "name": "stderr",
     "output_type": "stream",
     "text": [
      "\r",
      "|##########----------| 5227/10169  51% [elapsed: 28:00 left: 26:29]"
     ]
    },
    {
     "name": "stdout",
     "output_type": "stream",
     "text": [
      "76.662 million (exact: 76661716, estimate 149.03 million)\n"
     ]
    },
    {
     "name": "stderr",
     "output_type": "stream",
     "text": [
      "\r",
      "|##########----------| 5236/10169  51% [elapsed: 28:01 left: 26:24]"
     ]
    },
    {
     "name": "stdout",
     "output_type": "stream",
     "text": [
      "76.803 million (exact: 76803353, estimate 149.02 million)\n"
     ]
    },
    {
     "name": "stderr",
     "output_type": "stream",
     "text": [
      "\r",
      "|##########----------| 5243/10169  51% [elapsed: 28:01 left: 26:20]"
     ]
    },
    {
     "name": "stdout",
     "output_type": "stream",
     "text": [
      "76.953 million (exact: 76952808, estimate 149.03 million)\n"
     ]
    },
    {
     "name": "stderr",
     "output_type": "stream",
     "text": [
      "|##########----------| 5258/10169  51% [elapsed: 28:03 left: 26:11]"
     ]
    },
    {
     "name": "stdout",
     "output_type": "stream",
     "text": [
      "77.112 million (exact: 77112134, estimate 149.05 million)\n"
     ]
    },
    {
     "name": "stderr",
     "output_type": "stream",
     "text": [
      "\r",
      "|##########----------| 5266/10169  51% [elapsed: 28:03 left: 26:07]"
     ]
    },
    {
     "name": "stdout",
     "output_type": "stream",
     "text": [
      "77.260 million (exact: 77259765, estimate 149.05 million)\n"
     ]
    },
    {
     "name": "stderr",
     "output_type": "stream",
     "text": [
      "|##########----------| 5280/10169  51% [elapsed: 28:04 left: 25:59]"
     ]
    },
    {
     "name": "stdout",
     "output_type": "stream",
     "text": [
      "77.414 million (exact: 77414371, estimate 149.07 million)\n"
     ]
    },
    {
     "name": "stderr",
     "output_type": "stream",
     "text": [
      "\r",
      "|##########----------| 5288/10169  52% [elapsed: 28:05 left: 25:55]"
     ]
    },
    {
     "name": "stdout",
     "output_type": "stream",
     "text": [
      "77.563 million (exact: 77562565, estimate 149.07 million)\n"
     ]
    },
    {
     "name": "stderr",
     "output_type": "stream",
     "text": [
      "\r",
      "|##########----------| 5295/10169  52% [elapsed: 28:05 left: 25:51]"
     ]
    },
    {
     "name": "stdout",
     "output_type": "stream",
     "text": [
      "77.698 million (exact: 77697689, estimate 149.05 million)\n"
     ]
    },
    {
     "name": "stderr",
     "output_type": "stream",
     "text": [
      "|##########----------| 5309/10169  52% [elapsed: 28:06 left: 25:44]"
     ]
    },
    {
     "name": "stdout",
     "output_type": "stream",
     "text": [
      "77.832 million (exact: 77832474, estimate 149.03 million)\n"
     ]
    },
    {
     "name": "stderr",
     "output_type": "stream",
     "text": [
      "\r",
      "|##########----------| 5315/10169  52% [elapsed: 28:07 left: 25:40]"
     ]
    },
    {
     "name": "stdout",
     "output_type": "stream",
     "text": [
      "77.968 million (exact: 77967547, estimate 149.00 million)\n"
     ]
    },
    {
     "name": "stderr",
     "output_type": "stream",
     "text": [
      "|##########----------| 5329/10169  52% [elapsed: 28:08 left: 25:33]"
     ]
    },
    {
     "name": "stdout",
     "output_type": "stream",
     "text": [
      "78.087 million (exact: 78087486, estimate 148.95 million)\n"
     ]
    },
    {
     "name": "stderr",
     "output_type": "stream",
     "text": [
      "\r",
      "|##########----------| 5335/10169  52% [elapsed: 28:08 left: 25:30]"
     ]
    },
    {
     "name": "stdout",
     "output_type": "stream",
     "text": [
      "78.242 million (exact: 78241628, estimate 148.97 million)\n"
     ]
    },
    {
     "name": "stderr",
     "output_type": "stream",
     "text": [
      "|##########----------| 5349/10169  52% [elapsed: 28:09 left: 25:22]"
     ]
    },
    {
     "name": "stdout",
     "output_type": "stream",
     "text": [
      "78.384 million (exact: 78383781, estimate 148.96 million)\n"
     ]
    },
    {
     "name": "stderr",
     "output_type": "stream",
     "text": [
      "\r",
      "|##########----------| 5357/10169  52% [elapsed: 28:10 left: 25:18]"
     ]
    },
    {
     "name": "stdout",
     "output_type": "stream",
     "text": [
      "78.531 million (exact: 78530808, estimate 148.96 million)\n"
     ]
    },
    {
     "name": "stderr",
     "output_type": "stream",
     "text": [
      "\r",
      "|##########----------| 5364/10169  52% [elapsed: 28:10 left: 25:14]"
     ]
    },
    {
     "name": "stdout",
     "output_type": "stream",
     "text": [
      "78.680 million (exact: 78680006, estimate 148.97 million)\n"
     ]
    },
    {
     "name": "stderr",
     "output_type": "stream",
     "text": [
      "|##########----------| 5378/10169  52% [elapsed: 28:11 left: 25:07]"
     ]
    },
    {
     "name": "stdout",
     "output_type": "stream",
     "text": [
      "78.841 million (exact: 78841080, estimate 148.99 million)\n"
     ]
    },
    {
     "name": "stderr",
     "output_type": "stream",
     "text": [
      "\r",
      "|##########----------| 5386/10169  52% [elapsed: 28:12 left: 25:03]"
     ]
    },
    {
     "name": "stdout",
     "output_type": "stream",
     "text": [
      "78.996 million (exact: 78996343, estimate 149.01 million)\n"
     ]
    },
    {
     "name": "stderr",
     "output_type": "stream",
     "text": [
      "\r",
      "|##########----------| 5393/10169  53% [elapsed: 28:13 left: 24:59]"
     ]
    },
    {
     "name": "stdout",
     "output_type": "stream",
     "text": [
      "79.140 million (exact: 79139812, estimate 149.00 million)\n"
     ]
    },
    {
     "name": "stderr",
     "output_type": "stream",
     "text": [
      "|##########----------| 5409/10169  53% [elapsed: 28:14 left: 24:50]"
     ]
    },
    {
     "name": "stdout",
     "output_type": "stream",
     "text": [
      "79.276 million (exact: 79276478, estimate 148.99 million)\n"
     ]
    },
    {
     "name": "stderr",
     "output_type": "stream",
     "text": [
      "\r",
      "|##########----------| 5416/10169  53% [elapsed: 28:14 left: 24:47]"
     ]
    },
    {
     "name": "stdout",
     "output_type": "stream",
     "text": [
      "79.426 million (exact: 79426490, estimate 148.99 million)\n"
     ]
    },
    {
     "name": "stderr",
     "output_type": "stream",
     "text": [
      "|##########----------| 5429/10169  53% [elapsed: 28:15 left: 24:40]"
     ]
    },
    {
     "name": "stdout",
     "output_type": "stream",
     "text": [
      "79.570 million (exact: 79569805, estimate 148.99 million)\n"
     ]
    },
    {
     "name": "stderr",
     "output_type": "stream",
     "text": [
      "\r",
      "|##########----------| 5436/10169  53% [elapsed: 28:16 left: 24:36]"
     ]
    },
    {
     "name": "stdout",
     "output_type": "stream",
     "text": [
      "79.717 million (exact: 79717018, estimate 148.99 million)\n"
     ]
    },
    {
     "name": "stderr",
     "output_type": "stream",
     "text": [
      "|##########----------| 5449/10169  53% [elapsed: 28:17 left: 24:30]"
     ]
    },
    {
     "name": "stdout",
     "output_type": "stream",
     "text": [
      "79.858 million (exact: 79857519, estimate 148.98 million)\n"
     ]
    },
    {
     "name": "stderr",
     "output_type": "stream",
     "text": [
      "\r",
      "|##########----------| 5455/10169  53% [elapsed: 28:18 left: 24:27]"
     ]
    },
    {
     "name": "stdout",
     "output_type": "stream",
     "text": [
      "80.001 million (exact: 80001311, estimate 148.97 million)\n"
     ]
    },
    {
     "name": "stderr",
     "output_type": "stream",
     "text": [
      "|##########----------| 5470/10169  53% [elapsed: 28:19 left: 24:19]"
     ]
    },
    {
     "name": "stdout",
     "output_type": "stream",
     "text": [
      "80.149 million (exact: 80149028, estimate 148.97 million)\n"
     ]
    },
    {
     "name": "stderr",
     "output_type": "stream",
     "text": [
      "\r",
      "|##########----------| 5477/10169  53% [elapsed: 28:19 left: 24:15]"
     ]
    },
    {
     "name": "stdout",
     "output_type": "stream",
     "text": [
      "80.313 million (exact: 80312758, estimate 149.01 million)\n"
     ]
    },
    {
     "name": "stderr",
     "output_type": "stream",
     "text": [
      "|##########----------| 5490/10169  53% [elapsed: 28:20 left: 24:09]"
     ]
    },
    {
     "name": "stdout",
     "output_type": "stream",
     "text": [
      "80.464 million (exact: 80463970, estimate 149.01 million)\n"
     ]
    },
    {
     "name": "stderr",
     "output_type": "stream",
     "text": [
      "\r",
      "|##########----------| 5497/10169  54% [elapsed: 28:21 left: 24:05]"
     ]
    },
    {
     "name": "stdout",
     "output_type": "stream",
     "text": [
      "80.625 million (exact: 80625339, estimate 149.04 million)\n"
     ]
    },
    {
     "name": "stderr",
     "output_type": "stream",
     "text": [
      "\r",
      "|##########----------| 5504/10169  54% [elapsed: 28:21 left: 24:02]"
     ]
    },
    {
     "name": "stdout",
     "output_type": "stream",
     "text": [
      "80.769 million (exact: 80768679, estimate 149.04 million)\n"
     ]
    },
    {
     "name": "stderr",
     "output_type": "stream",
     "text": [
      "|##########----------| 5517/10169  54% [elapsed: 28:22 left: 23:55]"
     ]
    },
    {
     "name": "stdout",
     "output_type": "stream",
     "text": [
      "80.914 million (exact: 80914418, estimate 149.03 million)\n"
     ]
    },
    {
     "name": "stderr",
     "output_type": "stream",
     "text": [
      "\r",
      "|##########----------| 5524/10169  54% [elapsed: 28:23 left: 23:52]"
     ]
    },
    {
     "name": "stdout",
     "output_type": "stream",
     "text": [
      "81.068 million (exact: 81067909, estimate 149.05 million)\n"
     ]
    },
    {
     "name": "stderr",
     "output_type": "stream",
     "text": [
      "|##########----------| 5540/10169  54% [elapsed: 28:24 left: 23:44]"
     ]
    },
    {
     "name": "stdout",
     "output_type": "stream",
     "text": [
      "81.198 million (exact: 81198117, estimate 149.02 million)\n"
     ]
    },
    {
     "name": "stderr",
     "output_type": "stream",
     "text": [
      "\r",
      "|##########----------| 5547/10169  54% [elapsed: 28:25 left: 23:40]"
     ]
    },
    {
     "name": "stdout",
     "output_type": "stream",
     "text": [
      "81.344 million (exact: 81344179, estimate 149.02 million)\n"
     ]
    },
    {
     "name": "stderr",
     "output_type": "stream",
     "text": [
      "\r",
      "|##########----------| 5555/10169  54% [elapsed: 28:25 left: 23:36]"
     ]
    },
    {
     "name": "stdout",
     "output_type": "stream",
     "text": [
      "81.492 million (exact: 81491786, estimate 149.02 million)\n"
     ]
    },
    {
     "name": "stderr",
     "output_type": "stream",
     "text": [
      "|##########----------| 5569/10169  54% [elapsed: 28:26 left: 23:29]"
     ]
    },
    {
     "name": "stdout",
     "output_type": "stream",
     "text": [
      "81.640 million (exact: 81639727, estimate 149.02 million)\n"
     ]
    },
    {
     "name": "stderr",
     "output_type": "stream",
     "text": [
      "\r",
      "|##########----------| 5577/10169  54% [elapsed: 28:27 left: 23:25]"
     ]
    },
    {
     "name": "stdout",
     "output_type": "stream",
     "text": [
      "81.785 million (exact: 81784605, estimate 149.02 million)\n"
     ]
    },
    {
     "name": "stderr",
     "output_type": "stream",
     "text": [
      "\r",
      "|##########----------| 5584/10169  54% [elapsed: 28:27 left: 23:22]"
     ]
    },
    {
     "name": "stdout",
     "output_type": "stream",
     "text": [
      "81.930 million (exact: 81930405, estimate 149.02 million)\n"
     ]
    },
    {
     "name": "stderr",
     "output_type": "stream",
     "text": [
      "|###########---------| 5600/10169  55% [elapsed: 28:28 left: 23:14]"
     ]
    },
    {
     "name": "stdout",
     "output_type": "stream",
     "text": [
      "82.063 million (exact: 82063289, estimate 148.99 million)\n"
     ]
    },
    {
     "name": "stderr",
     "output_type": "stream",
     "text": [
      "\r",
      "|###########---------| 5608/10169  55% [elapsed: 28:29 left: 23:10]"
     ]
    },
    {
     "name": "stdout",
     "output_type": "stream",
     "text": [
      "82.216 million (exact: 82216152, estimate 149.00 million)\n"
     ]
    },
    {
     "name": "stderr",
     "output_type": "stream",
     "text": [
      "\r",
      "|###########---------| 5616/10169  55% [elapsed: 28:29 left: 23:06]"
     ]
    },
    {
     "name": "stdout",
     "output_type": "stream",
     "text": [
      "82.358 million (exact: 82358491, estimate 149.00 million)\n"
     ]
    },
    {
     "name": "stderr",
     "output_type": "stream",
     "text": [
      "|###########---------| 5630/10169  55% [elapsed: 28:31 left: 22:59]"
     ]
    },
    {
     "name": "stdout",
     "output_type": "stream",
     "text": [
      "82.498 million (exact: 82497655, estimate 148.98 million)\n"
     ]
    },
    {
     "name": "stderr",
     "output_type": "stream",
     "text": [
      "\r",
      "|###########---------| 5638/10169  55% [elapsed: 28:31 left: 22:55]"
     ]
    },
    {
     "name": "stdout",
     "output_type": "stream",
     "text": [
      "82.644 million (exact: 82644473, estimate 148.98 million)\n"
     ]
    },
    {
     "name": "stderr",
     "output_type": "stream",
     "text": [
      "\r",
      "|###########---------| 5646/10169  55% [elapsed: 28:32 left: 22:51]"
     ]
    },
    {
     "name": "stdout",
     "output_type": "stream",
     "text": [
      "82.789 million (exact: 82788600, estimate 148.98 million)\n"
     ]
    },
    {
     "name": "stderr",
     "output_type": "stream",
     "text": [
      "\r",
      "|###########---------| 5654/10169  55% [elapsed: 28:32 left: 22:47]"
     ]
    },
    {
     "name": "stdout",
     "output_type": "stream",
     "text": [
      "82.943 million (exact: 82943419, estimate 148.99 million)\n"
     ]
    },
    {
     "name": "stderr",
     "output_type": "stream",
     "text": [
      "|###########---------| 5669/10169  55% [elapsed: 28:33 left: 22:40]"
     ]
    },
    {
     "name": "stdout",
     "output_type": "stream",
     "text": [
      "83.093 million (exact: 83092674, estimate 149.00 million)\n"
     ]
    },
    {
     "name": "stderr",
     "output_type": "stream",
     "text": [
      "\r",
      "|###########---------| 5677/10169  55% [elapsed: 28:34 left: 22:36]"
     ]
    },
    {
     "name": "stdout",
     "output_type": "stream",
     "text": [
      "83.243 million (exact: 83243364, estimate 149.01 million)\n"
     ]
    },
    {
     "name": "stderr",
     "output_type": "stream",
     "text": [
      "\r",
      "|###########---------| 5685/10169  55% [elapsed: 28:34 left: 22:32]"
     ]
    },
    {
     "name": "stdout",
     "output_type": "stream",
     "text": [
      "83.390 million (exact: 83390282, estimate 149.01 million)\n"
     ]
    },
    {
     "name": "stderr",
     "output_type": "stream",
     "text": [
      "|###########---------| 5700/10169  56% [elapsed: 28:35 left: 22:25]"
     ]
    },
    {
     "name": "stdout",
     "output_type": "stream",
     "text": [
      "83.524 million (exact: 83523593, estimate 148.98 million)\n"
     ]
    },
    {
     "name": "stderr",
     "output_type": "stream",
     "text": [
      "\r",
      "|###########---------| 5708/10169  56% [elapsed: 28:36 left: 22:21]"
     ]
    },
    {
     "name": "stdout",
     "output_type": "stream",
     "text": [
      "83.669 million (exact: 83668924, estimate 148.98 million)\n"
     ]
    },
    {
     "name": "stderr",
     "output_type": "stream",
     "text": [
      "\r",
      "|###########---------| 5715/10169  56% [elapsed: 28:36 left: 22:18]"
     ]
    },
    {
     "name": "stdout",
     "output_type": "stream",
     "text": [
      "83.819 million (exact: 83818673, estimate 148.99 million)\n"
     ]
    },
    {
     "name": "stderr",
     "output_type": "stream",
     "text": [
      "\r",
      "|###########---------| 5723/10169  56% [elapsed: 28:37 left: 22:14]"
     ]
    },
    {
     "name": "stdout",
     "output_type": "stream",
     "text": [
      "83.964 million (exact: 83964108, estimate 148.98 million)\n"
     ]
    },
    {
     "name": "stderr",
     "output_type": "stream",
     "text": [
      "|###########---------| 5739/10169  56% [elapsed: 28:38 left: 22:06]"
     ]
    },
    {
     "name": "stdout",
     "output_type": "stream",
     "text": [
      "84.119 million (exact: 84118547, estimate 149.00 million)\n"
     ]
    },
    {
     "name": "stderr",
     "output_type": "stream",
     "text": [
      "\r",
      "|###########---------| 5747/10169  56% [elapsed: 28:39 left: 22:02]"
     ]
    },
    {
     "name": "stdout",
     "output_type": "stream",
     "text": [
      "84.270 million (exact: 84269913, estimate 149.01 million)\n"
     ]
    },
    {
     "name": "stderr",
     "output_type": "stream",
     "text": [
      "\r",
      "|###########---------| 5755/10169  56% [elapsed: 28:39 left: 21:58]"
     ]
    },
    {
     "name": "stdout",
     "output_type": "stream",
     "text": [
      "84.411 million (exact: 84410989, estimate 149.00 million)\n"
     ]
    },
    {
     "name": "stderr",
     "output_type": "stream",
     "text": [
      "\r",
      "|###########---------| 5763/10169  56% [elapsed: 28:40 left: 21:55]"
     ]
    },
    {
     "name": "stdout",
     "output_type": "stream",
     "text": [
      "84.553 million (exact: 84552596, estimate 148.99 million)\n"
     ]
    },
    {
     "name": "stderr",
     "output_type": "stream",
     "text": [
      "|###########---------| 5779/10169  56% [elapsed: 28:41 left: 21:47]"
     ]
    },
    {
     "name": "stdout",
     "output_type": "stream",
     "text": [
      "84.710 million (exact: 84710434, estimate 149.01 million)\n"
     ]
    },
    {
     "name": "stderr",
     "output_type": "stream",
     "text": [
      "\r",
      "|###########---------| 5786/10169  56% [elapsed: 28:41 left: 21:44]"
     ]
    },
    {
     "name": "stdout",
     "output_type": "stream",
     "text": [
      "84.845 million (exact: 84845310, estimate 148.99 million)\n"
     ]
    },
    {
     "name": "stderr",
     "output_type": "stream",
     "text": [
      "\r",
      "|###########---------| 5794/10169  56% [elapsed: 28:42 left: 21:40]"
     ]
    },
    {
     "name": "stdout",
     "output_type": "stream",
     "text": [
      "85.002 million (exact: 85002240, estimate 149.01 million)\n"
     ]
    },
    {
     "name": "stderr",
     "output_type": "stream",
     "text": [
      "|###########---------| 5809/10169  57% [elapsed: 28:43 left: 21:33]"
     ]
    },
    {
     "name": "stdout",
     "output_type": "stream",
     "text": [
      "85.141 million (exact: 85141301, estimate 148.99 million)\n"
     ]
    },
    {
     "name": "stderr",
     "output_type": "stream",
     "text": [
      "\r",
      "|###########---------| 5815/10169  57% [elapsed: 28:44 left: 21:30]"
     ]
    },
    {
     "name": "stdout",
     "output_type": "stream",
     "text": [
      "85.292 million (exact: 85292137, estimate 149.00 million)\n"
     ]
    },
    {
     "name": "stderr",
     "output_type": "stream",
     "text": [
      "\r",
      "|###########---------| 5823/10169  57% [elapsed: 28:44 left: 21:27]"
     ]
    },
    {
     "name": "stdout",
     "output_type": "stream",
     "text": [
      "85.438 million (exact: 85438134, estimate 149.00 million)\n"
     ]
    },
    {
     "name": "stderr",
     "output_type": "stream",
     "text": [
      "|###########---------| 5839/10169  57% [elapsed: 28:45 left: 21:19]"
     ]
    },
    {
     "name": "stdout",
     "output_type": "stream",
     "text": [
      "85.571 million (exact: 85571435, estimate 148.98 million)\n"
     ]
    },
    {
     "name": "stderr",
     "output_type": "stream",
     "text": [
      "\r",
      "|###########---------| 5847/10169  57% [elapsed: 28:46 left: 21:15]"
     ]
    },
    {
     "name": "stdout",
     "output_type": "stream",
     "text": [
      "85.729 million (exact: 85728951, estimate 149.00 million)\n"
     ]
    },
    {
     "name": "stderr",
     "output_type": "stream",
     "text": [
      "\r",
      "|###########---------| 5855/10169  57% [elapsed: 28:46 left: 21:12]"
     ]
    },
    {
     "name": "stdout",
     "output_type": "stream",
     "text": [
      "85.875 million (exact: 85875450, estimate 149.00 million)\n"
     ]
    },
    {
     "name": "stderr",
     "output_type": "stream",
     "text": [
      "\r",
      "|###########---------| 5863/10169  57% [elapsed: 28:47 left: 21:08]"
     ]
    },
    {
     "name": "stdout",
     "output_type": "stream",
     "text": [
      "86.030 million (exact: 86030495, estimate 149.01 million)\n"
     ]
    },
    {
     "name": "stderr",
     "output_type": "stream",
     "text": [
      "|###########---------| 5879/10169  57% [elapsed: 28:48 left: 21:01]"
     ]
    },
    {
     "name": "stdout",
     "output_type": "stream",
     "text": [
      "86.177 million (exact: 86177375, estimate 149.01 million)\n"
     ]
    },
    {
     "name": "stderr",
     "output_type": "stream",
     "text": [
      "\r",
      "|###########---------| 5886/10169  57% [elapsed: 28:48 left: 20:58]"
     ]
    },
    {
     "name": "stdout",
     "output_type": "stream",
     "text": [
      "86.325 million (exact: 86325189, estimate 149.01 million)\n"
     ]
    },
    {
     "name": "stderr",
     "output_type": "stream",
     "text": [
      "\r",
      "|###########---------| 5894/10169  57% [elapsed: 28:49 left: 20:54]"
     ]
    },
    {
     "name": "stdout",
     "output_type": "stream",
     "text": [
      "86.465 million (exact: 86465064, estimate 149.00 million)\n"
     ]
    },
    {
     "name": "stderr",
     "output_type": "stream",
     "text": [
      "|###########---------| 5909/10169  58% [elapsed: 28:50 left: 20:47]"
     ]
    },
    {
     "name": "stdout",
     "output_type": "stream",
     "text": [
      "86.600 million (exact: 86599758, estimate 148.98 million)\n"
     ]
    },
    {
     "name": "stderr",
     "output_type": "stream",
     "text": [
      "\r",
      "|###########---------| 5917/10169  58% [elapsed: 28:51 left: 20:44]"
     ]
    },
    {
     "name": "stdout",
     "output_type": "stream",
     "text": [
      "86.746 million (exact: 86746192, estimate 148.98 million)\n"
     ]
    },
    {
     "name": "stderr",
     "output_type": "stream",
     "text": [
      "\r",
      "|###########---------| 5925/10169  58% [elapsed: 28:51 left: 20:40]"
     ]
    },
    {
     "name": "stdout",
     "output_type": "stream",
     "text": [
      "86.887 million (exact: 86887386, estimate 148.97 million)\n"
     ]
    },
    {
     "name": "stderr",
     "output_type": "stream",
     "text": [
      "\r",
      "|###########---------| 5933/10169  58% [elapsed: 28:52 left: 20:36]"
     ]
    },
    {
     "name": "stdout",
     "output_type": "stream",
     "text": [
      "87.042 million (exact: 87041837, estimate 148.99 million)\n"
     ]
    },
    {
     "name": "stderr",
     "output_type": "stream",
     "text": [
      "|###########---------| 5949/10169  58% [elapsed: 28:53 left: 20:29]"
     ]
    },
    {
     "name": "stdout",
     "output_type": "stream",
     "text": [
      "87.190 million (exact: 87190052, estimate 148.99 million)\n"
     ]
    },
    {
     "name": "stderr",
     "output_type": "stream",
     "text": [
      "\r",
      "|###########---------| 5956/10169  58% [elapsed: 28:53 left: 20:26]"
     ]
    },
    {
     "name": "stdout",
     "output_type": "stream",
     "text": [
      "87.327 million (exact: 87326655, estimate 148.97 million)\n"
     ]
    },
    {
     "name": "stderr",
     "output_type": "stream",
     "text": [
      "\r",
      "|###########---------| 5964/10169  58% [elapsed: 28:54 left: 20:22]"
     ]
    },
    {
     "name": "stdout",
     "output_type": "stream",
     "text": [
      "87.461 million (exact: 87461135, estimate 148.95 million)\n"
     ]
    },
    {
     "name": "stderr",
     "output_type": "stream",
     "text": [
      "|###########---------| 5979/10169  58% [elapsed: 28:55 left: 20:16]"
     ]
    },
    {
     "name": "stdout",
     "output_type": "stream",
     "text": [
      "87.612 million (exact: 87611902, estimate 148.96 million)\n"
     ]
    },
    {
     "name": "stderr",
     "output_type": "stream",
     "text": [
      "\r",
      "|###########---------| 5987/10169  58% [elapsed: 28:55 left: 20:12]"
     ]
    },
    {
     "name": "stdout",
     "output_type": "stream",
     "text": [
      "87.758 million (exact: 87758121, estimate 148.96 million)\n"
     ]
    },
    {
     "name": "stderr",
     "output_type": "stream",
     "text": [
      "\r",
      "|###########---------| 5995/10169  58% [elapsed: 28:56 left: 20:09]"
     ]
    },
    {
     "name": "stdout",
     "output_type": "stream",
     "text": [
      "87.885 million (exact: 87884587, estimate 148.92 million)\n"
     ]
    },
    {
     "name": "stderr",
     "output_type": "stream",
     "text": [
      "|###########---------| 6010/10169  59% [elapsed: 28:57 left: 20:02]"
     ]
    },
    {
     "name": "stdout",
     "output_type": "stream",
     "text": [
      "88.044 million (exact: 88044052, estimate 148.95 million)\n"
     ]
    },
    {
     "name": "stderr",
     "output_type": "stream",
     "text": [
      "\r",
      "|###########---------| 6017/10169  59% [elapsed: 28:58 left: 19:59]"
     ]
    },
    {
     "name": "stdout",
     "output_type": "stream",
     "text": [
      "88.186 million (exact: 88185950, estimate 148.94 million)\n"
     ]
    },
    {
     "name": "stderr",
     "output_type": "stream",
     "text": [
      "\r",
      "|###########---------| 6025/10169  59% [elapsed: 28:58 left: 19:55]"
     ]
    },
    {
     "name": "stdout",
     "output_type": "stream",
     "text": [
      "88.324 million (exact: 88324227, estimate 148.93 million)\n"
     ]
    },
    {
     "name": "stderr",
     "output_type": "stream",
     "text": [
      "|###########---------| 6039/10169  59% [elapsed: 28:59 left: 19:49]"
     ]
    },
    {
     "name": "stdout",
     "output_type": "stream",
     "text": [
      "88.471 million (exact: 88471225, estimate 148.93 million)\n"
     ]
    },
    {
     "name": "stderr",
     "output_type": "stream",
     "text": [
      "\r",
      "|###########---------| 6047/10169  59% [elapsed: 29:00 left: 19:46]"
     ]
    },
    {
     "name": "stdout",
     "output_type": "stream",
     "text": [
      "88.615 million (exact: 88615497, estimate 148.92 million)\n"
     ]
    },
    {
     "name": "stderr",
     "output_type": "stream",
     "text": [
      "|###########---------| 6059/10169  59% [elapsed: 29:01 left: 19:41]"
     ]
    },
    {
     "name": "stdout",
     "output_type": "stream",
     "text": [
      "88.751 million (exact: 88751256, estimate 148.90 million)\n"
     ]
    },
    {
     "name": "stderr",
     "output_type": "stream",
     "text": [
      "\r",
      "|###########---------| 6066/10169  59% [elapsed: 29:01 left: 19:38]"
     ]
    },
    {
     "name": "stdout",
     "output_type": "stream",
     "text": [
      "88.883 million (exact: 88883215, estimate 148.88 million)\n"
     ]
    },
    {
     "name": "stderr",
     "output_type": "stream",
     "text": [
      "\r",
      "|###########---------| 6074/10169  59% [elapsed: 29:02 left: 19:34]"
     ]
    },
    {
     "name": "stdout",
     "output_type": "stream",
     "text": [
      "89.040 million (exact: 89039658, estimate 148.90 million)\n"
     ]
    },
    {
     "name": "stderr",
     "output_type": "stream",
     "text": [
      "|###########---------| 6089/10169  59% [elapsed: 29:03 left: 19:28]"
     ]
    },
    {
     "name": "stdout",
     "output_type": "stream",
     "text": [
      "89.191 million (exact: 89190607, estimate 148.90 million)\n"
     ]
    },
    {
     "name": "stderr",
     "output_type": "stream",
     "text": [
      "\r",
      "|###########---------| 6097/10169  59% [elapsed: 29:04 left: 19:24]"
     ]
    },
    {
     "name": "stdout",
     "output_type": "stream",
     "text": [
      "89.345 million (exact: 89345095, estimate 148.92 million)\n"
     ]
    },
    {
     "name": "stderr",
     "output_type": "stream",
     "text": [
      "\r",
      "|############--------| 6105/10169  60% [elapsed: 29:04 left: 19:21]"
     ]
    },
    {
     "name": "stdout",
     "output_type": "stream",
     "text": [
      "89.493 million (exact: 89493095, estimate 148.92 million)\n"
     ]
    },
    {
     "name": "stderr",
     "output_type": "stream",
     "text": [
      "|############--------| 6119/10169  60% [elapsed: 29:05 left: 19:15]"
     ]
    },
    {
     "name": "stdout",
     "output_type": "stream",
     "text": [
      "89.647 million (exact: 89646544, estimate 148.93 million)\n"
     ]
    },
    {
     "name": "stderr",
     "output_type": "stream",
     "text": [
      "\r",
      "|############--------| 6125/10169  60% [elapsed: 29:06 left: 19:12]"
     ]
    },
    {
     "name": "stdout",
     "output_type": "stream",
     "text": [
      "89.796 million (exact: 89795790, estimate 148.94 million)\n"
     ]
    },
    {
     "name": "stderr",
     "output_type": "stream",
     "text": [
      "\r",
      "|############--------| 6133/10169  60% [elapsed: 29:06 left: 19:09]"
     ]
    },
    {
     "name": "stdout",
     "output_type": "stream",
     "text": [
      "89.953 million (exact: 89953169, estimate 148.96 million)\n"
     ]
    },
    {
     "name": "stderr",
     "output_type": "stream",
     "text": [
      "|############--------| 6149/10169  60% [elapsed: 29:07 left: 19:02]"
     ]
    },
    {
     "name": "stdout",
     "output_type": "stream",
     "text": [
      "90.102 million (exact: 90102217, estimate 148.96 million)\n"
     ]
    },
    {
     "name": "stderr",
     "output_type": "stream",
     "text": [
      "\r",
      "|############--------| 6156/10169  60% [elapsed: 29:08 left: 18:59]"
     ]
    },
    {
     "name": "stdout",
     "output_type": "stream",
     "text": [
      "90.244 million (exact: 90244061, estimate 148.95 million)\n"
     ]
    },
    {
     "name": "stderr",
     "output_type": "stream",
     "text": [
      "\r",
      "|############--------| 6164/10169  60% [elapsed: 29:08 left: 18:56]"
     ]
    },
    {
     "name": "stdout",
     "output_type": "stream",
     "text": [
      "90.390 million (exact: 90389667, estimate 148.95 million)\n"
     ]
    },
    {
     "name": "stderr",
     "output_type": "stream",
     "text": [
      "|############--------| 6180/10169  60% [elapsed: 29:09 left: 18:49]"
     ]
    },
    {
     "name": "stdout",
     "output_type": "stream",
     "text": [
      "90.531 million (exact: 90531046, estimate 148.94 million)\n"
     ]
    },
    {
     "name": "stderr",
     "output_type": "stream",
     "text": [
      "\r",
      "|############--------| 6188/10169  60% [elapsed: 29:10 left: 18:46]"
     ]
    },
    {
     "name": "stdout",
     "output_type": "stream",
     "text": [
      "90.682 million (exact: 90681596, estimate 148.95 million)\n"
     ]
    },
    {
     "name": "stderr",
     "output_type": "stream",
     "text": [
      "\r",
      "|############--------| 6195/10169  60% [elapsed: 29:11 left: 18:43]"
     ]
    },
    {
     "name": "stdout",
     "output_type": "stream",
     "text": [
      "90.837 million (exact: 90836961, estimate 148.96 million)\n"
     ]
    },
    {
     "name": "stderr",
     "output_type": "stream",
     "text": [
      "|############--------| 6210/10169  61% [elapsed: 29:12 left: 18:37]"
     ]
    },
    {
     "name": "stdout",
     "output_type": "stream",
     "text": [
      "90.991 million (exact: 90991336, estimate 148.98 million)\n"
     ]
    },
    {
     "name": "stderr",
     "output_type": "stream",
     "text": [
      "\r",
      "|############--------| 6218/10169  61% [elapsed: 29:12 left: 18:33]"
     ]
    },
    {
     "name": "stdout",
     "output_type": "stream",
     "text": [
      "91.136 million (exact: 91135666, estimate 148.97 million)\n"
     ]
    },
    {
     "name": "stderr",
     "output_type": "stream",
     "text": [
      "\r",
      "|############--------| 6225/10169  61% [elapsed: 29:13 left: 18:30]"
     ]
    },
    {
     "name": "stdout",
     "output_type": "stream",
     "text": [
      "91.284 million (exact: 91284246, estimate 148.98 million)\n"
     ]
    },
    {
     "name": "stderr",
     "output_type": "stream",
     "text": [
      "|############--------| 6240/10169  61% [elapsed: 29:14 left: 18:24]"
     ]
    },
    {
     "name": "stdout",
     "output_type": "stream",
     "text": [
      "91.445 million (exact: 91444731, estimate 149.00 million)\n"
     ]
    },
    {
     "name": "stderr",
     "output_type": "stream",
     "text": [
      "\r",
      "|############--------| 6248/10169  61% [elapsed: 29:14 left: 18:21]"
     ]
    },
    {
     "name": "stdout",
     "output_type": "stream",
     "text": [
      "91.607 million (exact: 91606879, estimate 149.02 million)\n"
     ]
    },
    {
     "name": "stderr",
     "output_type": "stream",
     "text": [
      "\r",
      "|############--------| 6255/10169  61% [elapsed: 29:15 left: 18:18]"
     ]
    },
    {
     "name": "stdout",
     "output_type": "stream",
     "text": [
      "91.753 million (exact: 91752601, estimate 149.02 million)\n"
     ]
    },
    {
     "name": "stderr",
     "output_type": "stream",
     "text": [
      "|############--------| 6269/10169  61% [elapsed: 29:16 left: 18:12]"
     ]
    },
    {
     "name": "stdout",
     "output_type": "stream",
     "text": [
      "91.905 million (exact: 91905356, estimate 149.03 million)\n"
     ]
    },
    {
     "name": "stderr",
     "output_type": "stream",
     "text": [
      "\r",
      "|############--------| 6277/10169  61% [elapsed: 29:17 left: 18:09]"
     ]
    },
    {
     "name": "stdout",
     "output_type": "stream",
     "text": [
      "92.038 million (exact: 92038336, estimate 149.01 million)\n"
     ]
    },
    {
     "name": "stderr",
     "output_type": "stream",
     "text": [
      "\r",
      "|############--------| 6285/10169  61% [elapsed: 29:17 left: 18:06]"
     ]
    },
    {
     "name": "stdout",
     "output_type": "stream",
     "text": [
      "92.181 million (exact: 92181011, estimate 149.00 million)\n"
     ]
    },
    {
     "name": "stderr",
     "output_type": "stream",
     "text": [
      "\r",
      "|############--------| 6293/10169  61% [elapsed: 29:18 left: 18:02]"
     ]
    },
    {
     "name": "stdout",
     "output_type": "stream",
     "text": [
      "92.327 million (exact: 92326883, estimate 149.00 million)\n"
     ]
    },
    {
     "name": "stderr",
     "output_type": "stream",
     "text": [
      "|############--------| 6309/10169  62% [elapsed: 29:19 left: 17:56]"
     ]
    },
    {
     "name": "stdout",
     "output_type": "stream",
     "text": [
      "92.480 million (exact: 92480388, estimate 149.01 million)\n"
     ]
    },
    {
     "name": "stderr",
     "output_type": "stream",
     "text": [
      "\r",
      "|############--------| 6317/10169  62% [elapsed: 29:19 left: 17:53]"
     ]
    },
    {
     "name": "stdout",
     "output_type": "stream",
     "text": [
      "92.614 million (exact: 92613789, estimate 148.99 million)\n"
     ]
    },
    {
     "name": "stderr",
     "output_type": "stream",
     "text": [
      "\r",
      "|############--------| 6324/10169  62% [elapsed: 29:20 left: 17:50]"
     ]
    },
    {
     "name": "stdout",
     "output_type": "stream",
     "text": [
      "92.751 million (exact: 92751133, estimate 148.98 million)\n"
     ]
    },
    {
     "name": "stderr",
     "output_type": "stream",
     "text": [
      "|############--------| 6339/10169  62% [elapsed: 29:21 left: 17:44]"
     ]
    },
    {
     "name": "stdout",
     "output_type": "stream",
     "text": [
      "92.902 million (exact: 92902431, estimate 148.99 million)\n"
     ]
    },
    {
     "name": "stderr",
     "output_type": "stream",
     "text": [
      "\r",
      "|############--------| 6345/10169  62% [elapsed: 29:21 left: 17:41]"
     ]
    },
    {
     "name": "stdout",
     "output_type": "stream",
     "text": [
      "93.036 million (exact: 93036413, estimate 148.97 million)\n"
     ]
    },
    {
     "name": "stderr",
     "output_type": "stream",
     "text": [
      "|############--------| 6359/10169  62% [elapsed: 29:22 left: 17:36]"
     ]
    },
    {
     "name": "stdout",
     "output_type": "stream",
     "text": [
      "93.190 million (exact: 93190330, estimate 148.98 million)\n"
     ]
    },
    {
     "name": "stderr",
     "output_type": "stream",
     "text": [
      "\r",
      "|############--------| 6367/10169  62% [elapsed: 29:23 left: 17:32]"
     ]
    },
    {
     "name": "stdout",
     "output_type": "stream",
     "text": [
      "93.321 million (exact: 93320874, estimate 148.95 million)\n"
     ]
    },
    {
     "name": "stderr",
     "output_type": "stream",
     "text": [
      "|############--------| 6380/10169  62% [elapsed: 29:24 left: 17:27]"
     ]
    },
    {
     "name": "stdout",
     "output_type": "stream",
     "text": [
      "93.468 million (exact: 93467677, estimate 148.95 million)\n"
     ]
    },
    {
     "name": "stderr",
     "output_type": "stream",
     "text": [
      "\r",
      "|############--------| 6388/10169  62% [elapsed: 29:24 left: 17:24]"
     ]
    },
    {
     "name": "stdout",
     "output_type": "stream",
     "text": [
      "93.610 million (exact: 93610167, estimate 148.95 million)\n"
     ]
    },
    {
     "name": "stderr",
     "output_type": "stream",
     "text": [
      "\r",
      "|############--------| 6396/10169  62% [elapsed: 29:25 left: 17:21]"
     ]
    },
    {
     "name": "stdout",
     "output_type": "stream",
     "text": [
      "93.761 million (exact: 93760540, estimate 148.95 million)\n"
     ]
    },
    {
     "name": "stderr",
     "output_type": "stream",
     "text": [
      "\r",
      "|############--------| 6404/10169  62% [elapsed: 29:26 left: 17:18]"
     ]
    },
    {
     "name": "stdout",
     "output_type": "stream",
     "text": [
      "93.915 million (exact: 93915325, estimate 148.97 million)\n"
     ]
    },
    {
     "name": "stderr",
     "output_type": "stream",
     "text": [
      "|############--------| 6419/10169  63% [elapsed: 29:27 left: 17:12]"
     ]
    },
    {
     "name": "stdout",
     "output_type": "stream",
     "text": [
      "94.069 million (exact: 94069399, estimate 148.98 million)\n"
     ]
    },
    {
     "name": "stderr",
     "output_type": "stream",
     "text": [
      "\r",
      "|############--------| 6426/10169  63% [elapsed: 29:27 left: 17:09]"
     ]
    },
    {
     "name": "stdout",
     "output_type": "stream",
     "text": [
      "94.229 million (exact: 94229457, estimate 149.00 million)\n"
     ]
    },
    {
     "name": "stderr",
     "output_type": "stream",
     "text": [
      "\r",
      "|############--------| 6434/10169  63% [elapsed: 29:28 left: 17:06]"
     ]
    },
    {
     "name": "stdout",
     "output_type": "stream",
     "text": [
      "94.383 million (exact: 94382708, estimate 149.01 million)\n"
     ]
    },
    {
     "name": "stderr",
     "output_type": "stream",
     "text": [
      "|############--------| 6449/10169  63% [elapsed: 29:29 left: 17:00]"
     ]
    },
    {
     "name": "stdout",
     "output_type": "stream",
     "text": [
      "94.524 million (exact: 94524018, estimate 149.00 million)\n"
     ]
    },
    {
     "name": "stderr",
     "output_type": "stream",
     "text": [
      "\r",
      "|############--------| 6456/10169  63% [elapsed: 29:29 left: 16:57]"
     ]
    },
    {
     "name": "stdout",
     "output_type": "stream",
     "text": [
      "94.676 million (exact: 94676241, estimate 149.01 million)\n"
     ]
    },
    {
     "name": "stderr",
     "output_type": "stream",
     "text": [
      "\r",
      "|############--------| 6464/10169  63% [elapsed: 29:30 left: 16:54]"
     ]
    },
    {
     "name": "stdout",
     "output_type": "stream",
     "text": [
      "94.823 million (exact: 94823460, estimate 149.01 million)\n"
     ]
    },
    {
     "name": "stderr",
     "output_type": "stream",
     "text": [
      "|############--------| 6480/10169  63% [elapsed: 29:31 left: 16:48]"
     ]
    },
    {
     "name": "stdout",
     "output_type": "stream",
     "text": [
      "94.969 million (exact: 94968926, estimate 149.01 million)\n"
     ]
    },
    {
     "name": "stderr",
     "output_type": "stream",
     "text": [
      "\r",
      "|############--------| 6488/10169  63% [elapsed: 29:31 left: 16:45]"
     ]
    },
    {
     "name": "stdout",
     "output_type": "stream",
     "text": [
      "95.120 million (exact: 95119891, estimate 149.02 million)\n"
     ]
    },
    {
     "name": "stderr",
     "output_type": "stream",
     "text": [
      "\r",
      "|############--------| 6496/10169  63% [elapsed: 29:32 left: 16:42]"
     ]
    },
    {
     "name": "stdout",
     "output_type": "stream",
     "text": [
      "95.270 million (exact: 95269662, estimate 149.02 million)\n"
     ]
    },
    {
     "name": "stderr",
     "output_type": "stream",
     "text": [
      "\r",
      "|############--------| 6503/10169  63% [elapsed: 29:32 left: 16:39]"
     ]
    },
    {
     "name": "stdout",
     "output_type": "stream",
     "text": [
      "95.405 million (exact: 95404923, estimate 149.01 million)\n"
     ]
    },
    {
     "name": "stderr",
     "output_type": "stream",
     "text": [
      "|############--------| 6520/10169  64% [elapsed: 29:34 left: 16:32]"
     ]
    },
    {
     "name": "stdout",
     "output_type": "stream",
     "text": [
      "95.548 million (exact: 95548172, estimate 149.00 million)\n"
     ]
    },
    {
     "name": "stderr",
     "output_type": "stream",
     "text": [
      "\r",
      "|############--------| 6528/10169  64% [elapsed: 29:34 left: 16:29]"
     ]
    },
    {
     "name": "stdout",
     "output_type": "stream",
     "text": [
      "95.702 million (exact: 95702365, estimate 149.01 million)\n"
     ]
    },
    {
     "name": "stderr",
     "output_type": "stream",
     "text": [
      "\r",
      "|############--------| 6533/10169  64% [elapsed: 29:35 left: 16:27]"
     ]
    },
    {
     "name": "stdout",
     "output_type": "stream",
     "text": [
      "95.852 million (exact: 95852132, estimate 149.02 million)\n"
     ]
    },
    {
     "name": "stderr",
     "output_type": "stream",
     "text": [
      "|############--------| 6550/10169  64% [elapsed: 29:36 left: 16:21]"
     ]
    },
    {
     "name": "stdout",
     "output_type": "stream",
     "text": [
      "95.997 million (exact: 95997142, estimate 149.01 million)\n"
     ]
    },
    {
     "name": "stderr",
     "output_type": "stream",
     "text": [
      "\r",
      "|############--------| 6556/10169  64% [elapsed: 29:36 left: 16:19]"
     ]
    },
    {
     "name": "stdout",
     "output_type": "stream",
     "text": [
      "96.147 million (exact: 96147443, estimate 149.02 million)\n"
     ]
    },
    {
     "name": "stderr",
     "output_type": "stream",
     "text": [
      "\r",
      "|############--------| 6564/10169  64% [elapsed: 29:37 left: 16:16]"
     ]
    },
    {
     "name": "stdout",
     "output_type": "stream",
     "text": [
      "96.293 million (exact: 96292502, estimate 149.02 million)\n"
     ]
    },
    {
     "name": "stderr",
     "output_type": "stream",
     "text": [
      "|############--------| 6580/10169  64% [elapsed: 29:38 left: 16:10]"
     ]
    },
    {
     "name": "stdout",
     "output_type": "stream",
     "text": [
      "96.446 million (exact: 96446060, estimate 149.03 million)\n"
     ]
    },
    {
     "name": "stderr",
     "output_type": "stream",
     "text": [
      "\r",
      "|############--------| 6588/10169  64% [elapsed: 29:38 left: 16:06]"
     ]
    },
    {
     "name": "stdout",
     "output_type": "stream",
     "text": [
      "96.582 million (exact: 96581660, estimate 149.01 million)\n"
     ]
    },
    {
     "name": "stderr",
     "output_type": "stream",
     "text": [
      "\r",
      "|############--------| 6596/10169  64% [elapsed: 29:39 left: 16:03]"
     ]
    },
    {
     "name": "stdout",
     "output_type": "stream",
     "text": [
      "96.731 million (exact: 96730717, estimate 149.02 million)\n"
     ]
    },
    {
     "name": "stderr",
     "output_type": "stream",
     "text": [
      "|#############-------| 6610/10169  65% [elapsed: 29:40 left: 15:58]"
     ]
    },
    {
     "name": "stdout",
     "output_type": "stream",
     "text": [
      "96.866 million (exact: 96866047, estimate 149.00 million)\n"
     ]
    },
    {
     "name": "stderr",
     "output_type": "stream",
     "text": [
      "\r",
      "|#############-------| 6617/10169  65% [elapsed: 29:41 left: 15:56]"
     ]
    },
    {
     "name": "stdout",
     "output_type": "stream",
     "text": [
      "97.000 million (exact: 97000197, estimate 148.98 million)\n"
     ]
    },
    {
     "name": "stderr",
     "output_type": "stream",
     "text": [
      "\r",
      "|#############-------| 6625/10169  65% [elapsed: 29:41 left: 15:53]"
     ]
    },
    {
     "name": "stdout",
     "output_type": "stream",
     "text": [
      "97.152 million (exact: 97152405, estimate 148.99 million)\n"
     ]
    },
    {
     "name": "stderr",
     "output_type": "stream",
     "text": [
      "\r",
      "|#############-------| 6633/10169  65% [elapsed: 29:42 left: 15:50]"
     ]
    },
    {
     "name": "stdout",
     "output_type": "stream",
     "text": [
      "97.281 million (exact: 97281298, estimate 148.96 million)\n"
     ]
    },
    {
     "name": "stderr",
     "output_type": "stream",
     "text": [
      "|#############-------| 6648/10169  65% [elapsed: 29:43 left: 15:44]"
     ]
    },
    {
     "name": "stdout",
     "output_type": "stream",
     "text": [
      "97.423 million (exact: 97423427, estimate 148.95 million)\n"
     ]
    },
    {
     "name": "stderr",
     "output_type": "stream",
     "text": [
      "\r",
      "|#############-------| 6656/10169  65% [elapsed: 29:43 left: 15:41]"
     ]
    },
    {
     "name": "stdout",
     "output_type": "stream",
     "text": [
      "97.560 million (exact: 97559558, estimate 148.94 million)\n"
     ]
    },
    {
     "name": "stderr",
     "output_type": "stream",
     "text": [
      "|#############-------| 6670/10169  65% [elapsed: 29:44 left: 15:36]"
     ]
    },
    {
     "name": "stdout",
     "output_type": "stream",
     "text": [
      "97.713 million (exact: 97713329, estimate 148.95 million)\n"
     ]
    },
    {
     "name": "stderr",
     "output_type": "stream",
     "text": [
      "\r",
      "|#############-------| 6678/10169  65% [elapsed: 29:45 left: 15:33]"
     ]
    },
    {
     "name": "stdout",
     "output_type": "stream",
     "text": [
      "97.872 million (exact: 97872315, estimate 148.97 million)\n"
     ]
    },
    {
     "name": "stderr",
     "output_type": "stream",
     "text": [
      "\r",
      "|#############-------| 6684/10169  65% [elapsed: 29:45 left: 15:31]"
     ]
    },
    {
     "name": "stdout",
     "output_type": "stream",
     "text": [
      "98.017 million (exact: 98017367, estimate 148.97 million)\n"
     ]
    },
    {
     "name": "stderr",
     "output_type": "stream",
     "text": [
      "\r",
      "|#############-------| 6693/10169  65% [elapsed: 29:46 left: 15:27]"
     ]
    },
    {
     "name": "stdout",
     "output_type": "stream",
     "text": [
      "98.165 million (exact: 98165028, estimate 148.97 million)\n"
     ]
    },
    {
     "name": "stderr",
     "output_type": "stream",
     "text": [
      "|#############-------| 6709/10169  65% [elapsed: 29:47 left: 15:21]"
     ]
    },
    {
     "name": "stdout",
     "output_type": "stream",
     "text": [
      "98.312 million (exact: 98312075, estimate 148.97 million)\n"
     ]
    },
    {
     "name": "stderr",
     "output_type": "stream",
     "text": [
      "\r",
      "|#############-------| 6715/10169  66% [elapsed: 29:47 left: 15:19]"
     ]
    },
    {
     "name": "stdout",
     "output_type": "stream",
     "text": [
      "98.436 million (exact: 98436438, estimate 148.94 million)\n"
     ]
    },
    {
     "name": "stderr",
     "output_type": "stream",
     "text": [
      "\r",
      "|#############-------| 6723/10169  66% [elapsed: 29:48 left: 15:16]"
     ]
    },
    {
     "name": "stdout",
     "output_type": "stream",
     "text": [
      "98.570 million (exact: 98570061, estimate 148.92 million)\n"
     ]
    },
    {
     "name": "stderr",
     "output_type": "stream",
     "text": [
      "|#############-------| 6739/10169  66% [elapsed: 29:49 left: 15:10]"
     ]
    },
    {
     "name": "stdout",
     "output_type": "stream",
     "text": [
      "98.722 million (exact: 98721958, estimate 148.93 million)\n"
     ]
    },
    {
     "name": "stderr",
     "output_type": "stream",
     "text": [
      "\r",
      "|#############-------| 6747/10169  66% [elapsed: 29:50 left: 15:07]"
     ]
    },
    {
     "name": "stdout",
     "output_type": "stream",
     "text": [
      "98.868 million (exact: 98867727, estimate 148.92 million)\n"
     ]
    },
    {
     "name": "stderr",
     "output_type": "stream",
     "text": [
      "\r",
      "|#############-------| 6755/10169  66% [elapsed: 29:50 left: 15:04]"
     ]
    },
    {
     "name": "stdout",
     "output_type": "stream",
     "text": [
      "99.006 million (exact: 99006101, estimate 148.91 million)\n"
     ]
    },
    {
     "name": "stderr",
     "output_type": "stream",
     "text": [
      "|#############-------| 6769/10169  66% [elapsed: 29:51 left: 14:59]"
     ]
    },
    {
     "name": "stdout",
     "output_type": "stream",
     "text": [
      "99.152 million (exact: 99152222, estimate 148.91 million)\n"
     ]
    },
    {
     "name": "stderr",
     "output_type": "stream",
     "text": [
      "\r",
      "|#############-------| 6777/10169  66% [elapsed: 29:52 left: 14:57]"
     ]
    },
    {
     "name": "stdout",
     "output_type": "stream",
     "text": [
      "99.294 million (exact: 99293647, estimate 148.90 million)\n"
     ]
    },
    {
     "name": "stderr",
     "output_type": "stream",
     "text": [
      "\r",
      "|#############-------| 6784/10169  66% [elapsed: 29:52 left: 14:54]"
     ]
    },
    {
     "name": "stdout",
     "output_type": "stream",
     "text": [
      "99.439 million (exact: 99438929, estimate 148.90 million)\n"
     ]
    },
    {
     "name": "stderr",
     "output_type": "stream",
     "text": [
      "|#############-------| 6800/10169  66% [elapsed: 29:53 left: 14:48]"
     ]
    },
    {
     "name": "stdout",
     "output_type": "stream",
     "text": [
      "99.573 million (exact: 99572952, estimate 148.88 million)\n"
     ]
    },
    {
     "name": "stderr",
     "output_type": "stream",
     "text": [
      "\r",
      "|#############-------| 6808/10169  66% [elapsed: 29:54 left: 14:45]"
     ]
    },
    {
     "name": "stdout",
     "output_type": "stream",
     "text": [
      "99.727 million (exact: 99727169, estimate 148.90 million)\n"
     ]
    },
    {
     "name": "stderr",
     "output_type": "stream",
     "text": [
      "\r",
      "|#############-------| 6816/10169  67% [elapsed: 29:54 left: 14:42]"
     ]
    },
    {
     "name": "stdout",
     "output_type": "stream",
     "text": [
      "99.858 million (exact: 99858122, estimate 148.87 million)\n"
     ]
    },
    {
     "name": "stderr",
     "output_type": "stream",
     "text": [
      "\r",
      "|#############-------| 6824/10169  67% [elapsed: 29:55 left: 14:40]"
     ]
    },
    {
     "name": "stdout",
     "output_type": "stream",
     "text": [
      "99.997 million (exact: 99997340, estimate 148.86 million)\n"
     ]
    },
    {
     "name": "stderr",
     "output_type": "stream",
     "text": [
      "|#############-------| 6839/10169  67% [elapsed: 29:56 left: 14:34]"
     ]
    },
    {
     "name": "stdout",
     "output_type": "stream",
     "text": [
      "100.131 million (exact: 100130857, estimate 148.84 million)\n"
     ]
    },
    {
     "name": "stderr",
     "output_type": "stream",
     "text": [
      "\r",
      "|#############-------| 6847/10169  67% [elapsed: 29:57 left: 14:31]"
     ]
    },
    {
     "name": "stdout",
     "output_type": "stream",
     "text": [
      "100.286 million (exact: 100285538, estimate 148.85 million)\n"
     ]
    },
    {
     "name": "stderr",
     "output_type": "stream",
     "text": [
      "\r",
      "|#############-------| 6855/10169  67% [elapsed: 29:57 left: 14:29]"
     ]
    },
    {
     "name": "stdout",
     "output_type": "stream",
     "text": [
      "100.441 million (exact: 100441114, estimate 148.87 million)\n"
     ]
    },
    {
     "name": "stderr",
     "output_type": "stream",
     "text": [
      "|#############-------| 6870/10169  67% [elapsed: 29:58 left: 14:23]"
     ]
    },
    {
     "name": "stdout",
     "output_type": "stream",
     "text": [
      "100.554 million (exact: 100553602, estimate 148.82 million)\n"
     ]
    },
    {
     "name": "stderr",
     "output_type": "stream",
     "text": [
      "\r",
      "|#############-------| 6876/10169  67% [elapsed: 29:59 left: 14:21]"
     ]
    },
    {
     "name": "stdout",
     "output_type": "stream",
     "text": [
      "100.698 million (exact: 100698036, estimate 148.82 million)\n"
     ]
    },
    {
     "name": "stderr",
     "output_type": "stream",
     "text": [
      "\r",
      "|#############-------| 6884/10169  67% [elapsed: 29:59 left: 14:18]"
     ]
    },
    {
     "name": "stdout",
     "output_type": "stream",
     "text": [
      "100.860 million (exact: 100859576, estimate 148.84 million)\n"
     ]
    },
    {
     "name": "stderr",
     "output_type": "stream",
     "text": [
      "|#############-------| 6898/10169  67% [elapsed: 30:00 left: 14:13]"
     ]
    },
    {
     "name": "stdout",
     "output_type": "stream",
     "text": [
      "100.998 million (exact: 100998347, estimate 148.83 million)\n"
     ]
    },
    {
     "name": "stderr",
     "output_type": "stream",
     "text": [
      "\r",
      "|#############-------| 6906/10169  67% [elapsed: 30:01 left: 14:11]"
     ]
    },
    {
     "name": "stdout",
     "output_type": "stream",
     "text": [
      "101.152 million (exact: 101152203, estimate 148.84 million)\n"
     ]
    },
    {
     "name": "stderr",
     "output_type": "stream",
     "text": [
      "\r",
      "|#############-------| 6913/10169  67% [elapsed: 30:01 left: 14:08]"
     ]
    },
    {
     "name": "stdout",
     "output_type": "stream",
     "text": [
      "101.312 million (exact: 101312069, estimate 148.86 million)\n"
     ]
    },
    {
     "name": "stderr",
     "output_type": "stream",
     "text": [
      "|#############-------| 6929/10169  68% [elapsed: 30:02 left: 14:03]"
     ]
    },
    {
     "name": "stdout",
     "output_type": "stream",
     "text": [
      "101.449 million (exact: 101449069, estimate 148.84 million)\n"
     ]
    },
    {
     "name": "stderr",
     "output_type": "stream",
     "text": [
      "\r",
      "|#############-------| 6937/10169  68% [elapsed: 30:03 left: 14:00]"
     ]
    },
    {
     "name": "stdout",
     "output_type": "stream",
     "text": [
      "101.595 million (exact: 101594964, estimate 148.84 million)\n"
     ]
    },
    {
     "name": "stderr",
     "output_type": "stream",
     "text": [
      "\r",
      "|#############-------| 6943/10169  68% [elapsed: 30:04 left: 13:58]"
     ]
    },
    {
     "name": "stdout",
     "output_type": "stream",
     "text": [
      "101.748 million (exact: 101748347, estimate 148.85 million)\n"
     ]
    },
    {
     "name": "stderr",
     "output_type": "stream",
     "text": [
      "|#############-------| 6959/10169  68% [elapsed: 30:05 left: 13:52]"
     ]
    },
    {
     "name": "stdout",
     "output_type": "stream",
     "text": [
      "101.893 million (exact: 101892856, estimate 148.85 million)\n"
     ]
    },
    {
     "name": "stderr",
     "output_type": "stream",
     "text": [
      "\r",
      "|#############-------| 6967/10169  68% [elapsed: 30:05 left: 13:49]"
     ]
    },
    {
     "name": "stdout",
     "output_type": "stream",
     "text": [
      "102.033 million (exact: 102033230, estimate 148.84 million)\n"
     ]
    },
    {
     "name": "stderr",
     "output_type": "stream",
     "text": [
      "\r",
      "|#############-------| 6975/10169  68% [elapsed: 30:06 left: 13:47]"
     ]
    },
    {
     "name": "stdout",
     "output_type": "stream",
     "text": [
      "102.178 million (exact: 102178487, estimate 148.84 million)\n"
     ]
    },
    {
     "name": "stderr",
     "output_type": "stream",
     "text": [
      "\r",
      "|#############-------| 6983/10169  68% [elapsed: 30:06 left: 13:44]"
     ]
    },
    {
     "name": "stdout",
     "output_type": "stream",
     "text": [
      "102.324 million (exact: 102324277, estimate 148.84 million)\n"
     ]
    },
    {
     "name": "stderr",
     "output_type": "stream",
     "text": [
      "|#############-------| 6999/10169  68% [elapsed: 30:07 left: 13:38]"
     ]
    },
    {
     "name": "stdout",
     "output_type": "stream",
     "text": [
      "102.449 million (exact: 102448727, estimate 148.81 million)\n"
     ]
    },
    {
     "name": "stderr",
     "output_type": "stream",
     "text": [
      "\r",
      "|#############-------| 7006/10169  68% [elapsed: 30:08 left: 13:36]"
     ]
    },
    {
     "name": "stdout",
     "output_type": "stream",
     "text": [
      "102.593 million (exact: 102592608, estimate 148.80 million)\n"
     ]
    },
    {
     "name": "stderr",
     "output_type": "stream",
     "text": [
      "|#############-------| 7020/10169  69% [elapsed: 30:09 left: 13:31]"
     ]
    },
    {
     "name": "stdout",
     "output_type": "stream",
     "text": [
      "102.746 million (exact: 102746149, estimate 148.81 million)\n"
     ]
    },
    {
     "name": "stderr",
     "output_type": "stream",
     "text": [
      "\r",
      "|#############-------| 7027/10169  69% [elapsed: 30:10 left: 13:29]"
     ]
    },
    {
     "name": "stdout",
     "output_type": "stream",
     "text": [
      "102.894 million (exact: 102894285, estimate 148.82 million)\n"
     ]
    },
    {
     "name": "stderr",
     "output_type": "stream",
     "text": [
      "\r",
      "|#############-------| 7035/10169  69% [elapsed: 30:10 left: 13:26]"
     ]
    },
    {
     "name": "stdout",
     "output_type": "stream",
     "text": [
      "103.039 million (exact: 103038904, estimate 148.81 million)\n"
     ]
    },
    {
     "name": "stderr",
     "output_type": "stream",
     "text": [
      "|#############-------| 7050/10169  69% [elapsed: 30:11 left: 13:21]"
     ]
    },
    {
     "name": "stdout",
     "output_type": "stream",
     "text": [
      "103.202 million (exact: 103202300, estimate 148.84 million)\n"
     ]
    },
    {
     "name": "stderr",
     "output_type": "stream",
     "text": [
      "\r",
      "|#############-------| 7057/10169  69% [elapsed: 30:12 left: 13:19]"
     ]
    },
    {
     "name": "stdout",
     "output_type": "stream",
     "text": [
      "103.358 million (exact: 103357778, estimate 148.85 million)\n"
     ]
    },
    {
     "name": "stderr",
     "output_type": "stream",
     "text": [
      "\r",
      "|#############-------| 7065/10169  69% [elapsed: 30:12 left: 13:16]"
     ]
    },
    {
     "name": "stdout",
     "output_type": "stream",
     "text": [
      "103.489 million (exact: 103488780, estimate 148.83 million)\n"
     ]
    },
    {
     "name": "stderr",
     "output_type": "stream",
     "text": [
      "|#############-------| 7080/10169  69% [elapsed: 30:13 left: 13:11]"
     ]
    },
    {
     "name": "stdout",
     "output_type": "stream",
     "text": [
      "103.644 million (exact: 103644387, estimate 148.84 million)\n"
     ]
    },
    {
     "name": "stderr",
     "output_type": "stream",
     "text": [
      "\r",
      "|#############-------| 7088/10169  69% [elapsed: 30:14 left: 13:08]"
     ]
    },
    {
     "name": "stdout",
     "output_type": "stream",
     "text": [
      "103.787 million (exact: 103787236, estimate 148.84 million)\n"
     ]
    },
    {
     "name": "stderr",
     "output_type": "stream",
     "text": [
      "\r",
      "|#############-------| 7095/10169  69% [elapsed: 30:14 left: 13:06]"
     ]
    },
    {
     "name": "stdout",
     "output_type": "stream",
     "text": [
      "103.949 million (exact: 103948650, estimate 148.86 million)\n"
     ]
    },
    {
     "name": "stderr",
     "output_type": "stream",
     "text": [
      "|#############-------| 7110/10169  69% [elapsed: 30:15 left: 13:01]"
     ]
    },
    {
     "name": "stdout",
     "output_type": "stream",
     "text": [
      "104.107 million (exact: 104107262, estimate 148.88 million)\n"
     ]
    },
    {
     "name": "stderr",
     "output_type": "stream",
     "text": [
      "\r",
      "|#############-------| 7118/10169  69% [elapsed: 30:16 left: 12:58]"
     ]
    },
    {
     "name": "stdout",
     "output_type": "stream",
     "text": [
      "104.251 million (exact: 104251336, estimate 148.87 million)\n"
     ]
    },
    {
     "name": "stderr",
     "output_type": "stream",
     "text": [
      "\r",
      "|##############------| 7124/10169  70% [elapsed: 30:16 left: 12:56]"
     ]
    },
    {
     "name": "stdout",
     "output_type": "stream",
     "text": [
      "104.403 million (exact: 104402754, estimate 148.88 million)\n"
     ]
    },
    {
     "name": "stderr",
     "output_type": "stream",
     "text": [
      "|##############------| 7138/10169  70% [elapsed: 30:18 left: 12:51]"
     ]
    },
    {
     "name": "stdout",
     "output_type": "stream",
     "text": [
      "104.569 million (exact: 104568689, estimate 148.91 million)\n"
     ]
    },
    {
     "name": "stderr",
     "output_type": "stream",
     "text": [
      "\r",
      "|##############------| 7146/10169  70% [elapsed: 30:18 left: 12:49]"
     ]
    },
    {
     "name": "stdout",
     "output_type": "stream",
     "text": [
      "104.712 million (exact: 104712337, estimate 148.91 million)\n"
     ]
    },
    {
     "name": "stderr",
     "output_type": "stream",
     "text": [
      "\r",
      "|##############------| 7155/10169  70% [elapsed: 30:19 left: 12:46]"
     ]
    },
    {
     "name": "stdout",
     "output_type": "stream",
     "text": [
      "104.875 million (exact: 104875383, estimate 148.93 million)\n"
     ]
    },
    {
     "name": "stderr",
     "output_type": "stream",
     "text": [
      "\r",
      "|##############------| 7163/10169  70% [elapsed: 30:19 left: 12:43]"
     ]
    },
    {
     "name": "stdout",
     "output_type": "stream",
     "text": [
      "105.022 million (exact: 105022360, estimate 148.93 million)\n"
     ]
    },
    {
     "name": "stderr",
     "output_type": "stream",
     "text": [
      "|##############------| 7178/10169  70% [elapsed: 30:20 left: 12:38]"
     ]
    },
    {
     "name": "stdout",
     "output_type": "stream",
     "text": [
      "105.165 million (exact: 105165459, estimate 148.92 million)\n"
     ]
    },
    {
     "name": "stderr",
     "output_type": "stream",
     "text": [
      "\r",
      "|##############------| 7185/10169  70% [elapsed: 30:21 left: 12:36]"
     ]
    },
    {
     "name": "stdout",
     "output_type": "stream",
     "text": [
      "105.287 million (exact: 105287173, estimate 148.89 million)\n"
     ]
    },
    {
     "name": "stderr",
     "output_type": "stream",
     "text": [
      "\r",
      "|##############------| 7193/10169  70% [elapsed: 30:21 left: 12:33]"
     ]
    },
    {
     "name": "stdout",
     "output_type": "stream",
     "text": [
      "105.438 million (exact: 105438076, estimate 148.90 million)\n"
     ]
    },
    {
     "name": "stderr",
     "output_type": "stream",
     "text": [
      "|##############------| 7207/10169  70% [elapsed: 30:23 left: 12:29]"
     ]
    },
    {
     "name": "stdout",
     "output_type": "stream",
     "text": [
      "105.592 million (exact: 105591924, estimate 148.91 million)\n"
     ]
    },
    {
     "name": "stderr",
     "output_type": "stream",
     "text": [
      "\r",
      "|##############------| 7215/10169  70% [elapsed: 30:23 left: 12:26]"
     ]
    },
    {
     "name": "stdout",
     "output_type": "stream",
     "text": [
      "105.732 million (exact: 105732058, estimate 148.90 million)\n"
     ]
    },
    {
     "name": "stderr",
     "output_type": "stream",
     "text": [
      "|##############------| 7230/10169  71% [elapsed: 30:24 left: 12:21]"
     ]
    },
    {
     "name": "stdout",
     "output_type": "stream",
     "text": [
      "105.876 million (exact: 105875928, estimate 148.89 million)\n"
     ]
    },
    {
     "name": "stderr",
     "output_type": "stream",
     "text": [
      "\r",
      "|##############------| 7237/10169  71% [elapsed: 30:25 left: 12:19]"
     ]
    },
    {
     "name": "stdout",
     "output_type": "stream",
     "text": [
      "106.022 million (exact: 106022127, estimate 148.89 million)\n"
     ]
    },
    {
     "name": "stderr",
     "output_type": "stream",
     "text": [
      "\r",
      "|##############------| 7245/10169  71% [elapsed: 30:25 left: 12:16]"
     ]
    },
    {
     "name": "stdout",
     "output_type": "stream",
     "text": [
      "106.176 million (exact: 106176047, estimate 148.90 million)\n"
     ]
    },
    {
     "name": "stderr",
     "output_type": "stream",
     "text": [
      "\r",
      "|##############------| 7253/10169  71% [elapsed: 30:26 left: 12:14]"
     ]
    },
    {
     "name": "stdout",
     "output_type": "stream",
     "text": [
      "106.325 million (exact: 106325427, estimate 148.91 million)\n"
     ]
    },
    {
     "name": "stderr",
     "output_type": "stream",
     "text": [
      "|##############------| 7269/10169  71% [elapsed: 30:27 left: 12:09]"
     ]
    },
    {
     "name": "stdout",
     "output_type": "stream",
     "text": [
      "106.460 million (exact: 106459578, estimate 148.89 million)\n"
     ]
    },
    {
     "name": "stderr",
     "output_type": "stream",
     "text": [
      "\r",
      "|##############------| 7276/10169  71% [elapsed: 30:27 left: 12:06]"
     ]
    },
    {
     "name": "stdout",
     "output_type": "stream",
     "text": [
      "106.617 million (exact: 106617191, estimate 148.91 million)\n"
     ]
    },
    {
     "name": "stderr",
     "output_type": "stream",
     "text": [
      "\r",
      "|##############------| 7284/10169  71% [elapsed: 30:28 left: 12:04]"
     ]
    },
    {
     "name": "stdout",
     "output_type": "stream",
     "text": [
      "106.779 million (exact: 106779161, estimate 148.93 million)\n"
     ]
    },
    {
     "name": "stderr",
     "output_type": "stream",
     "text": [
      "|##############------| 7300/10169  71% [elapsed: 30:29 left: 11:58]"
     ]
    },
    {
     "name": "stdout",
     "output_type": "stream",
     "text": [
      "106.930 million (exact: 106930393, estimate 148.94 million)\n"
     ]
    },
    {
     "name": "stderr",
     "output_type": "stream",
     "text": [
      "\r",
      "|##############------| 7308/10169  71% [elapsed: 30:30 left: 11:56]"
     ]
    },
    {
     "name": "stdout",
     "output_type": "stream",
     "text": [
      "107.062 million (exact: 107062323, estimate 148.91 million)\n"
     ]
    },
    {
     "name": "stderr",
     "output_type": "stream",
     "text": [
      "\r",
      "|##############------| 7316/10169  71% [elapsed: 30:30 left: 11:53]"
     ]
    },
    {
     "name": "stdout",
     "output_type": "stream",
     "text": [
      "107.219 million (exact: 107218828, estimate 148.93 million)\n"
     ]
    },
    {
     "name": "stderr",
     "output_type": "stream",
     "text": [
      "|##############------| 7330/10169  72% [elapsed: 30:31 left: 11:49]"
     ]
    },
    {
     "name": "stdout",
     "output_type": "stream",
     "text": [
      "107.376 million (exact: 107376450, estimate 148.94 million)\n"
     ]
    },
    {
     "name": "stderr",
     "output_type": "stream",
     "text": [
      "\r",
      "|##############------| 7337/10169  72% [elapsed: 30:32 left: 11:47]"
     ]
    },
    {
     "name": "stdout",
     "output_type": "stream",
     "text": [
      "107.520 million (exact: 107520228, estimate 148.94 million)\n"
     ]
    },
    {
     "name": "stderr",
     "output_type": "stream",
     "text": [
      "\r",
      "|##############------| 7345/10169  72% [elapsed: 30:32 left: 11:44]"
     ]
    },
    {
     "name": "stdout",
     "output_type": "stream",
     "text": [
      "107.677 million (exact: 107676983, estimate 148.95 million)\n"
     ]
    },
    {
     "name": "stderr",
     "output_type": "stream",
     "text": [
      "|##############------| 7360/10169  72% [elapsed: 30:33 left: 11:39]"
     ]
    },
    {
     "name": "stdout",
     "output_type": "stream",
     "text": [
      "107.825 million (exact: 107824552, estimate 148.96 million)\n"
     ]
    },
    {
     "name": "stderr",
     "output_type": "stream",
     "text": [
      "\r",
      "|##############------| 7368/10169  72% [elapsed: 30:34 left: 11:37]"
     ]
    },
    {
     "name": "stdout",
     "output_type": "stream",
     "text": [
      "107.980 million (exact: 107980247, estimate 148.97 million)\n"
     ]
    },
    {
     "name": "stderr",
     "output_type": "stream",
     "text": [
      "\r",
      "|##############------| 7375/10169  72% [elapsed: 30:34 left: 11:35]"
     ]
    },
    {
     "name": "stdout",
     "output_type": "stream",
     "text": [
      "108.130 million (exact: 108129659, estimate 148.97 million)\n"
     ]
    },
    {
     "name": "stderr",
     "output_type": "stream",
     "text": [
      "|##############------| 7390/10169  72% [elapsed: 30:35 left: 11:30]"
     ]
    },
    {
     "name": "stdout",
     "output_type": "stream",
     "text": [
      "108.277 million (exact: 108276962, estimate 148.97 million)\n"
     ]
    },
    {
     "name": "stderr",
     "output_type": "stream",
     "text": [
      "\r",
      "|##############------| 7398/10169  72% [elapsed: 30:36 left: 11:27]"
     ]
    },
    {
     "name": "stdout",
     "output_type": "stream",
     "text": [
      "108.418 million (exact: 108417908, estimate 148.97 million)\n"
     ]
    },
    {
     "name": "stderr",
     "output_type": "stream",
     "text": [
      "\r",
      "|##############------| 7405/10169  72% [elapsed: 30:36 left: 11:25]"
     ]
    },
    {
     "name": "stdout",
     "output_type": "stream",
     "text": [
      "108.577 million (exact: 108576522, estimate 148.98 million)\n"
     ]
    },
    {
     "name": "stderr",
     "output_type": "stream",
     "text": [
      "|##############------| 7420/10169  72% [elapsed: 30:38 left: 11:20]"
     ]
    },
    {
     "name": "stdout",
     "output_type": "stream",
     "text": [
      "108.728 million (exact: 108728295, estimate 148.99 million)\n"
     ]
    },
    {
     "name": "stderr",
     "output_type": "stream",
     "text": [
      "\r",
      "|##############------| 7428/10169  73% [elapsed: 30:38 left: 11:18]"
     ]
    },
    {
     "name": "stdout",
     "output_type": "stream",
     "text": [
      "108.888 million (exact: 108888468, estimate 149.01 million)\n"
     ]
    },
    {
     "name": "stderr",
     "output_type": "stream",
     "text": [
      "\r",
      "|##############------| 7435/10169  73% [elapsed: 30:39 left: 11:16]"
     ]
    },
    {
     "name": "stdout",
     "output_type": "stream",
     "text": [
      "109.019 million (exact: 109019343, estimate 148.99 million)\n"
     ]
    },
    {
     "name": "stderr",
     "output_type": "stream",
     "text": [
      "|##############------| 7449/10169  73% [elapsed: 30:40 left: 11:11]"
     ]
    },
    {
     "name": "stdout",
     "output_type": "stream",
     "text": [
      "109.168 million (exact: 109168157, estimate 148.99 million)\n"
     ]
    },
    {
     "name": "stderr",
     "output_type": "stream",
     "text": [
      "\r",
      "|##############------| 7457/10169  73% [elapsed: 30:40 left: 11:09]"
     ]
    },
    {
     "name": "stdout",
     "output_type": "stream",
     "text": [
      "109.313 million (exact: 109312908, estimate 148.99 million)\n"
     ]
    },
    {
     "name": "stderr",
     "output_type": "stream",
     "text": [
      "\r",
      "|##############------| 7464/10169  73% [elapsed: 30:41 left: 11:07]"
     ]
    },
    {
     "name": "stdout",
     "output_type": "stream",
     "text": [
      "109.471 million (exact: 109470929, estimate 149.00 million)\n"
     ]
    },
    {
     "name": "stderr",
     "output_type": "stream",
     "text": [
      "|##############------| 7478/10169  73% [elapsed: 30:42 left: 11:02]"
     ]
    },
    {
     "name": "stdout",
     "output_type": "stream",
     "text": [
      "109.615 million (exact: 109614987, estimate 149.00 million)\n"
     ]
    },
    {
     "name": "stderr",
     "output_type": "stream",
     "text": [
      "\r",
      "|##############------| 7486/10169  73% [elapsed: 30:42 left: 11:00]"
     ]
    },
    {
     "name": "stdout",
     "output_type": "stream",
     "text": [
      "109.729 million (exact: 109729006, estimate 148.96 million)\n"
     ]
    },
    {
     "name": "stderr",
     "output_type": "stream",
     "text": [
      "|##############------| 7498/10169  73% [elapsed: 30:43 left: 10:56]"
     ]
    },
    {
     "name": "stdout",
     "output_type": "stream",
     "text": [
      "109.853 million (exact: 109852713, estimate 148.93 million)\n"
     ]
    },
    {
     "name": "stderr",
     "output_type": "stream",
     "text": [
      "\r",
      "|##############------| 7505/10169  73% [elapsed: 30:44 left: 10:54]"
     ]
    },
    {
     "name": "stdout",
     "output_type": "stream",
     "text": [
      "109.995 million (exact: 109994616, estimate 148.92 million)\n"
     ]
    },
    {
     "name": "stderr",
     "output_type": "stream",
     "text": [
      "|##############------| 7519/10169  73% [elapsed: 30:45 left: 10:50]"
     ]
    },
    {
     "name": "stdout",
     "output_type": "stream",
     "text": [
      "110.137 million (exact: 110136944, estimate 148.91 million)\n"
     ]
    },
    {
     "name": "stderr",
     "output_type": "stream",
     "text": [
      "\r",
      "|##############------| 7526/10169  74% [elapsed: 30:46 left: 10:48]"
     ]
    },
    {
     "name": "stdout",
     "output_type": "stream",
     "text": [
      "110.290 million (exact: 110290314, estimate 148.92 million)\n"
     ]
    },
    {
     "name": "stderr",
     "output_type": "stream",
     "text": [
      "|##############------| 7540/10169  74% [elapsed: 30:47 left: 10:44]"
     ]
    },
    {
     "name": "stdout",
     "output_type": "stream",
     "text": [
      "110.443 million (exact: 110442628, estimate 148.93 million)\n"
     ]
    },
    {
     "name": "stderr",
     "output_type": "stream",
     "text": [
      "\r",
      "|##############------| 7547/10169  74% [elapsed: 30:47 left: 10:41]"
     ]
    },
    {
     "name": "stdout",
     "output_type": "stream",
     "text": [
      "110.598 million (exact: 110597509, estimate 148.94 million)\n"
     ]
    },
    {
     "name": "stderr",
     "output_type": "stream",
     "text": [
      "\r",
      "|##############------| 7555/10169  74% [elapsed: 30:48 left: 10:39]"
     ]
    },
    {
     "name": "stdout",
     "output_type": "stream",
     "text": [
      "110.738 million (exact: 110737980, estimate 148.93 million)\n"
     ]
    },
    {
     "name": "stderr",
     "output_type": "stream",
     "text": [
      "\r",
      "|##############------| 7563/10169  74% [elapsed: 30:48 left: 10:37]"
     ]
    },
    {
     "name": "stdout",
     "output_type": "stream",
     "text": [
      "110.868 million (exact: 110867568, estimate 148.91 million)\n"
     ]
    },
    {
     "name": "stderr",
     "output_type": "stream",
     "text": [
      "|##############------| 7578/10169  74% [elapsed: 30:49 left: 10:32]"
     ]
    },
    {
     "name": "stdout",
     "output_type": "stream",
     "text": [
      "111.004 million (exact: 111003820, estimate 148.90 million)\n"
     ]
    },
    {
     "name": "stderr",
     "output_type": "stream",
     "text": [
      "\r",
      "|##############------| 7586/10169  74% [elapsed: 30:50 left: 10:30]"
     ]
    },
    {
     "name": "stdout",
     "output_type": "stream",
     "text": [
      "111.157 million (exact: 111156799, estimate 148.91 million)\n"
     ]
    },
    {
     "name": "stderr",
     "output_type": "stream",
     "text": [
      "|##############------| 7600/10169  74% [elapsed: 30:51 left: 10:25]"
     ]
    },
    {
     "name": "stdout",
     "output_type": "stream",
     "text": [
      "111.299 million (exact: 111298884, estimate 148.90 million)\n"
     ]
    },
    {
     "name": "stderr",
     "output_type": "stream",
     "text": [
      "\r",
      "|##############------| 7607/10169  74% [elapsed: 30:51 left: 10:23]"
     ]
    },
    {
     "name": "stdout",
     "output_type": "stream",
     "text": [
      "111.449 million (exact: 111448764, estimate 148.91 million)\n"
     ]
    },
    {
     "name": "stderr",
     "output_type": "stream",
     "text": [
      "\r",
      "|##############------| 7615/10169  74% [elapsed: 30:52 left: 10:21]"
     ]
    },
    {
     "name": "stdout",
     "output_type": "stream",
     "text": [
      "111.598 million (exact: 111598460, estimate 148.91 million)\n"
     ]
    },
    {
     "name": "stderr",
     "output_type": "stream",
     "text": [
      "\r",
      "|##############------| 7623/10169  74% [elapsed: 30:53 left: 10:18]"
     ]
    },
    {
     "name": "stdout",
     "output_type": "stream",
     "text": [
      "111.745 million (exact: 111744908, estimate 148.91 million)\n"
     ]
    },
    {
     "name": "stderr",
     "output_type": "stream",
     "text": [
      "|###############-----| 7639/10169  75% [elapsed: 30:54 left: 10:14]"
     ]
    },
    {
     "name": "stdout",
     "output_type": "stream",
     "text": [
      "111.897 million (exact: 111897047, estimate 148.92 million)\n"
     ]
    },
    {
     "name": "stderr",
     "output_type": "stream",
     "text": [
      "\r",
      "|###############-----| 7647/10169  75% [elapsed: 30:54 left: 10:11]"
     ]
    },
    {
     "name": "stdout",
     "output_type": "stream",
     "text": [
      "112.051 million (exact: 112051154, estimate 148.93 million)\n"
     ]
    },
    {
     "name": "stderr",
     "output_type": "stream",
     "text": [
      "\r",
      "|###############-----| 7655/10169  75% [elapsed: 30:55 left: 10:09]"
     ]
    },
    {
     "name": "stdout",
     "output_type": "stream",
     "text": [
      "112.192 million (exact: 112192379, estimate 148.92 million)\n"
     ]
    },
    {
     "name": "stderr",
     "output_type": "stream",
     "text": [
      "\r",
      "|###############-----| 7663/10169  75% [elapsed: 30:55 left: 10:06]"
     ]
    },
    {
     "name": "stdout",
     "output_type": "stream",
     "text": [
      "112.345 million (exact: 112345241, estimate 148.93 million)\n"
     ]
    },
    {
     "name": "stderr",
     "output_type": "stream",
     "text": [
      "|###############-----| 7677/10169  75% [elapsed: 30:56 left: 10:02]"
     ]
    },
    {
     "name": "stdout",
     "output_type": "stream",
     "text": [
      "112.495 million (exact: 112494586, estimate 148.93 million)\n"
     ]
    },
    {
     "name": "stderr",
     "output_type": "stream",
     "text": [
      "\r",
      "|###############-----| 7685/10169  75% [elapsed: 30:57 left: 10:00]"
     ]
    },
    {
     "name": "stdout",
     "output_type": "stream",
     "text": [
      "112.631 million (exact: 112631237, estimate 148.92 million)\n"
     ]
    },
    {
     "name": "stderr",
     "output_type": "stream",
     "text": [
      "|###############-----| 7700/10169  75% [elapsed: 30:58 left: 09:55]"
     ]
    },
    {
     "name": "stdout",
     "output_type": "stream",
     "text": [
      "112.784 million (exact: 112783688, estimate 148.93 million)\n"
     ]
    },
    {
     "name": "stderr",
     "output_type": "stream",
     "text": [
      "\r",
      "|###############-----| 7708/10169  75% [elapsed: 30:59 left: 09:53]"
     ]
    },
    {
     "name": "stdout",
     "output_type": "stream",
     "text": [
      "112.924 million (exact: 112923528, estimate 148.92 million)\n"
     ]
    },
    {
     "name": "stderr",
     "output_type": "stream",
     "text": [
      "\r",
      "|###############-----| 7716/10169  75% [elapsed: 30:59 left: 09:51]"
     ]
    },
    {
     "name": "stdout",
     "output_type": "stream",
     "text": [
      "113.077 million (exact: 113077086, estimate 148.93 million)\n"
     ]
    },
    {
     "name": "stderr",
     "output_type": "stream",
     "text": [
      "|###############-----| 7730/10169  76% [elapsed: 31:00 left: 09:47]"
     ]
    },
    {
     "name": "stdout",
     "output_type": "stream",
     "text": [
      "113.223 million (exact: 113222963, estimate 148.93 million)\n"
     ]
    },
    {
     "name": "stderr",
     "output_type": "stream",
     "text": [
      "\r",
      "|###############-----| 7738/10169  76% [elapsed: 31:01 left: 09:44]"
     ]
    },
    {
     "name": "stdout",
     "output_type": "stream",
     "text": [
      "113.365 million (exact: 113365407, estimate 148.92 million)\n"
     ]
    },
    {
     "name": "stderr",
     "output_type": "stream",
     "text": [
      "\r",
      "|###############-----| 7746/10169  76% [elapsed: 31:01 left: 09:42]"
     ]
    },
    {
     "name": "stdout",
     "output_type": "stream",
     "text": [
      "113.516 million (exact: 113515664, estimate 148.93 million)\n"
     ]
    },
    {
     "name": "stderr",
     "output_type": "stream",
     "text": [
      "\r",
      "|###############-----| 7754/10169  76% [elapsed: 31:02 left: 09:40]"
     ]
    },
    {
     "name": "stdout",
     "output_type": "stream",
     "text": [
      "113.649 million (exact: 113648509, estimate 148.91 million)\n"
     ]
    },
    {
     "name": "stderr",
     "output_type": "stream",
     "text": [
      "|###############-----| 7769/10169  76% [elapsed: 31:03 left: 09:35]"
     ]
    },
    {
     "name": "stdout",
     "output_type": "stream",
     "text": [
      "113.803 million (exact: 113802906, estimate 148.92 million)\n"
     ]
    },
    {
     "name": "stderr",
     "output_type": "stream",
     "text": [
      "\r",
      "|###############-----| 7777/10169  76% [elapsed: 31:03 left: 09:33]"
     ]
    },
    {
     "name": "stdout",
     "output_type": "stream",
     "text": [
      "113.965 million (exact: 113965187, estimate 148.94 million)\n"
     ]
    },
    {
     "name": "stderr",
     "output_type": "stream",
     "text": [
      "\r",
      "|###############-----| 7785/10169  76% [elapsed: 31:04 left: 09:30]"
     ]
    },
    {
     "name": "stdout",
     "output_type": "stream",
     "text": [
      "114.101 million (exact: 114100686, estimate 148.93 million)\n"
     ]
    },
    {
     "name": "stderr",
     "output_type": "stream",
     "text": [
      "|###############-----| 7799/10169  76% [elapsed: 31:05 left: 09:26]"
     ]
    },
    {
     "name": "stdout",
     "output_type": "stream",
     "text": [
      "114.259 million (exact: 114258726, estimate 148.94 million)\n"
     ]
    },
    {
     "name": "stderr",
     "output_type": "stream",
     "text": [
      "\r",
      "|###############-----| 7806/10169  76% [elapsed: 31:06 left: 09:24]"
     ]
    },
    {
     "name": "stdout",
     "output_type": "stream",
     "text": [
      "114.410 million (exact: 114409888, estimate 148.95 million)\n"
     ]
    },
    {
     "name": "stderr",
     "output_type": "stream",
     "text": [
      "\r",
      "|###############-----| 7814/10169  76% [elapsed: 31:06 left: 09:22]"
     ]
    },
    {
     "name": "stdout",
     "output_type": "stream",
     "text": [
      "114.567 million (exact: 114567184, estimate 148.96 million)\n"
     ]
    },
    {
     "name": "stderr",
     "output_type": "stream",
     "text": [
      "|###############-----| 7829/10169  76% [elapsed: 31:07 left: 09:18]"
     ]
    },
    {
     "name": "stdout",
     "output_type": "stream",
     "text": [
      "114.726 million (exact: 114726113, estimate 148.98 million)\n"
     ]
    },
    {
     "name": "stderr",
     "output_type": "stream",
     "text": [
      "\r",
      "|###############-----| 7837/10169  77% [elapsed: 31:08 left: 09:15]"
     ]
    },
    {
     "name": "stdout",
     "output_type": "stream",
     "text": [
      "114.879 million (exact: 114878894, estimate 148.99 million)\n"
     ]
    },
    {
     "name": "stderr",
     "output_type": "stream",
     "text": [
      "\r",
      "|###############-----| 7845/10169  77% [elapsed: 31:08 left: 09:13]"
     ]
    },
    {
     "name": "stdout",
     "output_type": "stream",
     "text": [
      "115.020 million (exact: 115020457, estimate 148.98 million)\n"
     ]
    },
    {
     "name": "stderr",
     "output_type": "stream",
     "text": [
      "|###############-----| 7860/10169  77% [elapsed: 31:09 left: 09:09]"
     ]
    },
    {
     "name": "stdout",
     "output_type": "stream",
     "text": [
      "115.167 million (exact: 115166649, estimate 148.98 million)\n"
     ]
    },
    {
     "name": "stderr",
     "output_type": "stream",
     "text": [
      "\r",
      "|###############-----| 7868/10169  77% [elapsed: 31:10 left: 09:07]"
     ]
    },
    {
     "name": "stdout",
     "output_type": "stream",
     "text": [
      "115.310 million (exact: 115310231, estimate 148.98 million)\n"
     ]
    },
    {
     "name": "stderr",
     "output_type": "stream",
     "text": [
      "\r",
      "|###############-----| 7874/10169  77% [elapsed: 31:10 left: 09:05]"
     ]
    },
    {
     "name": "stdout",
     "output_type": "stream",
     "text": [
      "115.441 million (exact: 115440680, estimate 148.96 million)\n"
     ]
    },
    {
     "name": "stderr",
     "output_type": "stream",
     "text": [
      "\r",
      "|###############-----| 7882/10169  77% [elapsed: 31:11 left: 09:03]"
     ]
    },
    {
     "name": "stdout",
     "output_type": "stream",
     "text": [
      "115.592 million (exact: 115592120, estimate 148.96 million)\n"
     ]
    },
    {
     "name": "stderr",
     "output_type": "stream",
     "text": [
      "|###############-----| 7899/10169  77% [elapsed: 31:12 left: 08:58]"
     ]
    },
    {
     "name": "stdout",
     "output_type": "stream",
     "text": [
      "115.735 million (exact: 115735483, estimate 148.96 million)\n"
     ]
    },
    {
     "name": "stderr",
     "output_type": "stream",
     "text": [
      "\r",
      "|###############-----| 7906/10169  77% [elapsed: 31:13 left: 08:56]"
     ]
    },
    {
     "name": "stdout",
     "output_type": "stream",
     "text": [
      "115.875 million (exact: 115874730, estimate 148.95 million)\n"
     ]
    },
    {
     "name": "stderr",
     "output_type": "stream",
     "text": [
      "|###############-----| 7920/10169  77% [elapsed: 31:14 left: 08:52]"
     ]
    },
    {
     "name": "stdout",
     "output_type": "stream",
     "text": [
      "116.021 million (exact: 116020826, estimate 148.95 million)\n"
     ]
    },
    {
     "name": "stderr",
     "output_type": "stream",
     "text": [
      "\r",
      "|###############-----| 7928/10169  77% [elapsed: 31:14 left: 08:49]"
     ]
    },
    {
     "name": "stdout",
     "output_type": "stream",
     "text": [
      "116.168 million (exact: 116167680, estimate 148.95 million)\n"
     ]
    },
    {
     "name": "stderr",
     "output_type": "stream",
     "text": [
      "\r",
      "|###############-----| 7936/10169  78% [elapsed: 31:15 left: 08:47]"
     ]
    },
    {
     "name": "stdout",
     "output_type": "stream",
     "text": [
      "116.312 million (exact: 116311926, estimate 148.95 million)\n"
     ]
    },
    {
     "name": "stderr",
     "output_type": "stream",
     "text": [
      "|###############-----| 7950/10169  78% [elapsed: 31:16 left: 08:43]"
     ]
    },
    {
     "name": "stdout",
     "output_type": "stream",
     "text": [
      "116.463 million (exact: 116462825, estimate 148.95 million)\n"
     ]
    },
    {
     "name": "stderr",
     "output_type": "stream",
     "text": [
      "\r",
      "|###############-----| 7958/10169  78% [elapsed: 31:16 left: 08:41]"
     ]
    },
    {
     "name": "stdout",
     "output_type": "stream",
     "text": [
      "116.610 million (exact: 116609917, estimate 148.95 million)\n"
     ]
    },
    {
     "name": "stderr",
     "output_type": "stream",
     "text": [
      "\r",
      "|###############-----| 7966/10169  78% [elapsed: 31:17 left: 08:39]"
     ]
    },
    {
     "name": "stdout",
     "output_type": "stream",
     "text": [
      "116.756 million (exact: 116755611, estimate 148.95 million)\n"
     ]
    },
    {
     "name": "stderr",
     "output_type": "stream",
     "text": [
      "\r",
      "|###############-----| 7974/10169  78% [elapsed: 31:17 left: 08:36]"
     ]
    },
    {
     "name": "stdout",
     "output_type": "stream",
     "text": [
      "116.886 million (exact: 116886068, estimate 148.93 million)\n"
     ]
    },
    {
     "name": "stderr",
     "output_type": "stream",
     "text": [
      "|###############-----| 7989/10169  78% [elapsed: 31:19 left: 08:32]"
     ]
    },
    {
     "name": "stdout",
     "output_type": "stream",
     "text": [
      "117.031 million (exact: 117031038, estimate 148.93 million)\n"
     ]
    },
    {
     "name": "stderr",
     "output_type": "stream",
     "text": [
      "\r",
      "|###############-----| 7996/10169  78% [elapsed: 31:19 left: 08:30]"
     ]
    },
    {
     "name": "stdout",
     "output_type": "stream",
     "text": [
      "117.178 million (exact: 117177560, estimate 148.93 million)\n"
     ]
    },
    {
     "name": "stderr",
     "output_type": "stream",
     "text": [
      "\r",
      "|###############-----| 8004/10169  78% [elapsed: 31:20 left: 08:28]"
     ]
    },
    {
     "name": "stdout",
     "output_type": "stream",
     "text": [
      "117.286 million (exact: 117285900, estimate 148.88 million)\n"
     ]
    },
    {
     "name": "stderr",
     "output_type": "stream",
     "text": [
      "|###############-----| 8018/10169  78% [elapsed: 31:21 left: 08:24]"
     ]
    },
    {
     "name": "stdout",
     "output_type": "stream",
     "text": [
      "117.432 million (exact: 117432002, estimate 148.88 million)\n"
     ]
    },
    {
     "name": "stderr",
     "output_type": "stream",
     "text": [
      "\r",
      "|###############-----| 8025/10169  78% [elapsed: 31:21 left: 08:22]"
     ]
    },
    {
     "name": "stdout",
     "output_type": "stream",
     "text": [
      "117.579 million (exact: 117578602, estimate 148.88 million)\n"
     ]
    },
    {
     "name": "stderr",
     "output_type": "stream",
     "text": [
      "|###############-----| 8040/10169  79% [elapsed: 31:22 left: 08:18]"
     ]
    },
    {
     "name": "stdout",
     "output_type": "stream",
     "text": [
      "117.712 million (exact: 117711792, estimate 148.86 million)\n"
     ]
    },
    {
     "name": "stderr",
     "output_type": "stream",
     "text": [
      "\r",
      "|###############-----| 8048/10169  79% [elapsed: 31:23 left: 08:16]"
     ]
    },
    {
     "name": "stdout",
     "output_type": "stream",
     "text": [
      "117.867 million (exact: 117866631, estimate 148.87 million)\n"
     ]
    },
    {
     "name": "stderr",
     "output_type": "stream",
     "text": [
      "\r",
      "|###############-----| 8054/10169  79% [elapsed: 31:23 left: 08:14]"
     ]
    },
    {
     "name": "stdout",
     "output_type": "stream",
     "text": [
      "118.003 million (exact: 118002607, estimate 148.86 million)\n"
     ]
    },
    {
     "name": "stderr",
     "output_type": "stream",
     "text": [
      "|###############-----| 8070/10169  79% [elapsed: 31:24 left: 08:10]"
     ]
    },
    {
     "name": "stdout",
     "output_type": "stream",
     "text": [
      "118.161 million (exact: 118161475, estimate 148.88 million)\n"
     ]
    },
    {
     "name": "stderr",
     "output_type": "stream",
     "text": [
      "\r",
      "|###############-----| 8078/10169  79% [elapsed: 31:25 left: 08:08]"
     ]
    },
    {
     "name": "stdout",
     "output_type": "stream",
     "text": [
      "118.310 million (exact: 118309855, estimate 148.88 million)\n"
     ]
    },
    {
     "name": "stderr",
     "output_type": "stream",
     "text": [
      "\r",
      "|###############-----| 8086/10169  79% [elapsed: 31:25 left: 08:05]"
     ]
    },
    {
     "name": "stdout",
     "output_type": "stream",
     "text": [
      "118.444 million (exact: 118443588, estimate 148.86 million)\n"
     ]
    },
    {
     "name": "stderr",
     "output_type": "stream",
     "text": [
      "\r",
      "|###############-----| 8094/10169  79% [elapsed: 31:26 left: 08:03]"
     ]
    },
    {
     "name": "stdout",
     "output_type": "stream",
     "text": [
      "118.603 million (exact: 118603021, estimate 148.88 million)\n"
     ]
    },
    {
     "name": "stderr",
     "output_type": "stream",
     "text": [
      "|###############-----| 8110/10169  79% [elapsed: 31:27 left: 07:59]"
     ]
    },
    {
     "name": "stdout",
     "output_type": "stream",
     "text": [
      "118.751 million (exact: 118751349, estimate 148.88 million)\n"
     ]
    },
    {
     "name": "stderr",
     "output_type": "stream",
     "text": [
      "\r",
      "|###############-----| 8118/10169  79% [elapsed: 31:28 left: 07:57]"
     ]
    },
    {
     "name": "stdout",
     "output_type": "stream",
     "text": [
      "118.887 million (exact: 118887168, estimate 148.87 million)\n"
     ]
    },
    {
     "name": "stderr",
     "output_type": "stream",
     "text": [
      "\r",
      "|###############-----| 8126/10169  79% [elapsed: 31:28 left: 07:54]"
     ]
    },
    {
     "name": "stdout",
     "output_type": "stream",
     "text": [
      "119.023 million (exact: 119023068, estimate 148.86 million)\n"
     ]
    },
    {
     "name": "stderr",
     "output_type": "stream",
     "text": [
      "\r",
      "|###############-----| 8133/10169  79% [elapsed: 31:29 left: 07:52]"
     ]
    },
    {
     "name": "stdout",
     "output_type": "stream",
     "text": [
      "119.164 million (exact: 119164018, estimate 148.85 million)\n"
     ]
    },
    {
     "name": "stderr",
     "output_type": "stream",
     "text": [
      "|################----| 8149/10169  80% [elapsed: 31:30 left: 07:48]"
     ]
    },
    {
     "name": "stdout",
     "output_type": "stream",
     "text": [
      "119.323 million (exact: 119322626, estimate 148.86 million)\n"
     ]
    },
    {
     "name": "stderr",
     "output_type": "stream",
     "text": [
      "\r",
      "|################----| 8157/10169  80% [elapsed: 31:30 left: 07:46]"
     ]
    },
    {
     "name": "stdout",
     "output_type": "stream",
     "text": [
      "119.472 million (exact: 119472203, estimate 148.87 million)\n"
     ]
    },
    {
     "name": "stderr",
     "output_type": "stream",
     "text": [
      "\r",
      "|################----| 8165/10169  80% [elapsed: 31:31 left: 07:44]"
     ]
    },
    {
     "name": "stdout",
     "output_type": "stream",
     "text": [
      "119.637 million (exact: 119637219, estimate 148.89 million)\n"
     ]
    },
    {
     "name": "stderr",
     "output_type": "stream",
     "text": [
      "|################----| 8180/10169  80% [elapsed: 31:32 left: 07:40]"
     ]
    },
    {
     "name": "stdout",
     "output_type": "stream",
     "text": [
      "119.782 million (exact: 119781578, estimate 148.89 million)\n"
     ]
    },
    {
     "name": "stderr",
     "output_type": "stream",
     "text": [
      "\r",
      "|################----| 8188/10169  80% [elapsed: 31:33 left: 07:38]"
     ]
    },
    {
     "name": "stdout",
     "output_type": "stream",
     "text": [
      "119.931 million (exact: 119931038, estimate 148.89 million)\n"
     ]
    },
    {
     "name": "stderr",
     "output_type": "stream",
     "text": [
      "\r",
      "|################----| 8196/10169  80% [elapsed: 31:33 left: 07:35]"
     ]
    },
    {
     "name": "stdout",
     "output_type": "stream",
     "text": [
      "120.086 million (exact: 120085731, estimate 148.90 million)\n"
     ]
    },
    {
     "name": "stderr",
     "output_type": "stream",
     "text": [
      "\r",
      "|################----| 8204/10169  80% [elapsed: 31:34 left: 07:33]"
     ]
    },
    {
     "name": "stdout",
     "output_type": "stream",
     "text": [
      "120.224 million (exact: 120223975, estimate 148.89 million)\n"
     ]
    },
    {
     "name": "stderr",
     "output_type": "stream",
     "text": [
      "\r",
      "|################----| 8213/10169  80% [elapsed: 31:34 left: 07:31]"
     ]
    },
    {
     "name": "stdout",
     "output_type": "stream",
     "text": [
      "120.358 million (exact: 120357660, estimate 148.88 million)\n"
     ]
    },
    {
     "name": "stderr",
     "output_type": "stream",
     "text": [
      "|################----| 8229/10169  80% [elapsed: 31:35 left: 07:26]"
     ]
    },
    {
     "name": "stdout",
     "output_type": "stream",
     "text": [
      "120.510 million (exact: 120509531, estimate 148.88 million)\n"
     ]
    },
    {
     "name": "stderr",
     "output_type": "stream",
     "text": [
      "\r",
      "|################----| 8238/10169  81% [elapsed: 31:36 left: 07:24]"
     ]
    },
    {
     "name": "stdout",
     "output_type": "stream",
     "text": [
      "120.653 million (exact: 120652517, estimate 148.88 million)\n"
     ]
    },
    {
     "name": "stderr",
     "output_type": "stream",
     "text": [
      "\r",
      "|################----| 8244/10169  81% [elapsed: 31:36 left: 07:22]"
     ]
    },
    {
     "name": "stdout",
     "output_type": "stream",
     "text": [
      "120.794 million (exact: 120793716, estimate 148.87 million)\n"
     ]
    },
    {
     "name": "stderr",
     "output_type": "stream",
     "text": [
      "|################----| 8259/10169  81% [elapsed: 31:37 left: 07:18]"
     ]
    },
    {
     "name": "stdout",
     "output_type": "stream",
     "text": [
      "120.946 million (exact: 120945912, estimate 148.88 million)\n"
     ]
    },
    {
     "name": "stderr",
     "output_type": "stream",
     "text": [
      "\r",
      "|################----| 8267/10169  81% [elapsed: 31:38 left: 07:16]"
     ]
    },
    {
     "name": "stdout",
     "output_type": "stream",
     "text": [
      "121.099 million (exact: 121099129, estimate 148.89 million)\n"
     ]
    },
    {
     "name": "stderr",
     "output_type": "stream",
     "text": [
      "\r",
      "|################----| 8275/10169  81% [elapsed: 31:39 left: 07:14]"
     ]
    },
    {
     "name": "stdout",
     "output_type": "stream",
     "text": [
      "121.243 million (exact: 121243092, estimate 148.89 million)\n"
     ]
    },
    {
     "name": "stderr",
     "output_type": "stream",
     "text": [
      "|################----| 8290/10169  81% [elapsed: 31:40 left: 07:10]"
     ]
    },
    {
     "name": "stdout",
     "output_type": "stream",
     "text": [
      "121.383 million (exact: 121382964, estimate 148.88 million)\n"
     ]
    },
    {
     "name": "stderr",
     "output_type": "stream",
     "text": [
      "\r",
      "|################----| 8298/10169  81% [elapsed: 31:40 left: 07:08]"
     ]
    },
    {
     "name": "stdout",
     "output_type": "stream",
     "text": [
      "121.529 million (exact: 121528552, estimate 148.88 million)\n"
     ]
    },
    {
     "name": "stderr",
     "output_type": "stream",
     "text": [
      "\r",
      "|################----| 8305/10169  81% [elapsed: 31:41 left: 07:06]"
     ]
    },
    {
     "name": "stdout",
     "output_type": "stream",
     "text": [
      "121.679 million (exact: 121678726, estimate 148.88 million)\n"
     ]
    },
    {
     "name": "stderr",
     "output_type": "stream",
     "text": [
      "\r",
      "|################----| 8313/10169  81% [elapsed: 31:41 left: 07:04]"
     ]
    },
    {
     "name": "stdout",
     "output_type": "stream",
     "text": [
      "121.824 million (exact: 121824441, estimate 148.88 million)\n"
     ]
    },
    {
     "name": "stderr",
     "output_type": "stream",
     "text": [
      "|################----| 8329/10169  81% [elapsed: 31:42 left: 07:00]"
     ]
    },
    {
     "name": "stdout",
     "output_type": "stream",
     "text": [
      "121.979 million (exact: 121979113, estimate 148.89 million)\n"
     ]
    },
    {
     "name": "stderr",
     "output_type": "stream",
     "text": [
      "\r",
      "|################----| 8337/10169  81% [elapsed: 31:43 left: 06:58]"
     ]
    },
    {
     "name": "stdout",
     "output_type": "stream",
     "text": [
      "122.136 million (exact: 122136395, estimate 148.90 million)\n"
     ]
    },
    {
     "name": "stderr",
     "output_type": "stream",
     "text": [
      "\r",
      "|################----| 8344/10169  82% [elapsed: 31:43 left: 06:56]"
     ]
    },
    {
     "name": "stdout",
     "output_type": "stream",
     "text": [
      "122.286 million (exact: 122286267, estimate 148.91 million)\n"
     ]
    },
    {
     "name": "stderr",
     "output_type": "stream",
     "text": [
      "|################----| 8357/10169  82% [elapsed: 31:45 left: 06:53]"
     ]
    },
    {
     "name": "stdout",
     "output_type": "stream",
     "text": [
      "122.434 million (exact: 122434218, estimate 148.91 million)\n"
     ]
    },
    {
     "name": "stderr",
     "output_type": "stream",
     "text": [
      "\r",
      "|################----| 8365/10169  82% [elapsed: 31:45 left: 06:50]"
     ]
    },
    {
     "name": "stdout",
     "output_type": "stream",
     "text": [
      "122.583 million (exact: 122582923, estimate 148.91 million)\n"
     ]
    },
    {
     "name": "stderr",
     "output_type": "stream",
     "text": [
      "|################----| 8379/10169  82% [elapsed: 31:46 left: 06:47]"
     ]
    },
    {
     "name": "stdout",
     "output_type": "stream",
     "text": [
      "122.732 million (exact: 122732080, estimate 148.92 million)\n"
     ]
    },
    {
     "name": "stderr",
     "output_type": "stream",
     "text": [
      "\r",
      "|################----| 8386/10169  82% [elapsed: 31:47 left: 06:45]"
     ]
    },
    {
     "name": "stdout",
     "output_type": "stream",
     "text": [
      "122.878 million (exact: 122877782, estimate 148.91 million)\n"
     ]
    },
    {
     "name": "stderr",
     "output_type": "stream",
     "text": [
      "\r",
      "|################----| 8394/10169  82% [elapsed: 31:47 left: 06:43]"
     ]
    },
    {
     "name": "stdout",
     "output_type": "stream",
     "text": [
      "123.035 million (exact: 123035284, estimate 148.93 million)\n"
     ]
    },
    {
     "name": "stderr",
     "output_type": "stream",
     "text": [
      "|################----| 8409/10169  82% [elapsed: 31:48 left: 06:39]"
     ]
    },
    {
     "name": "stdout",
     "output_type": "stream",
     "text": [
      "123.190 million (exact: 123190013, estimate 148.94 million)\n"
     ]
    },
    {
     "name": "stderr",
     "output_type": "stream",
     "text": [
      "\r",
      "|################----| 8417/10169  82% [elapsed: 31:49 left: 06:37]"
     ]
    },
    {
     "name": "stdout",
     "output_type": "stream",
     "text": [
      "123.334 million (exact: 123334203, estimate 148.94 million)\n"
     ]
    },
    {
     "name": "stderr",
     "output_type": "stream",
     "text": [
      "\r",
      "|################----| 8425/10169  82% [elapsed: 31:49 left: 06:35]"
     ]
    },
    {
     "name": "stdout",
     "output_type": "stream",
     "text": [
      "123.491 million (exact: 123491466, estimate 148.95 million)\n"
     ]
    },
    {
     "name": "stderr",
     "output_type": "stream",
     "text": [
      "|################----| 8440/10169  82% [elapsed: 31:50 left: 06:31]"
     ]
    },
    {
     "name": "stdout",
     "output_type": "stream",
     "text": [
      "123.643 million (exact: 123642710, estimate 148.95 million)\n"
     ]
    },
    {
     "name": "stderr",
     "output_type": "stream",
     "text": [
      "|################----| 8449/10169  83% [elapsed: 31:54 left: 06:29]"
     ]
    },
    {
     "name": "stdout",
     "output_type": "stream",
     "text": [
      "123.800 million (exact: 123800273, estimate 148.97 million)\n"
     ]
    },
    {
     "name": "stderr",
     "output_type": "stream",
     "text": [
      "\r",
      "|################----| 8457/10169  83% [elapsed: 31:54 left: 06:27]"
     ]
    },
    {
     "name": "stdout",
     "output_type": "stream",
     "text": [
      "123.939 million (exact: 123939158, estimate 148.96 million)\n"
     ]
    },
    {
     "name": "stderr",
     "output_type": "stream",
     "text": [
      "\r",
      "|################----| 8464/10169  83% [elapsed: 31:55 left: 06:25]"
     ]
    },
    {
     "name": "stdout",
     "output_type": "stream",
     "text": [
      "124.084 million (exact: 124084120, estimate 148.96 million)\n"
     ]
    },
    {
     "name": "stderr",
     "output_type": "stream",
     "text": [
      "|################----| 8478/10169  83% [elapsed: 31:56 left: 06:22]"
     ]
    },
    {
     "name": "stdout",
     "output_type": "stream",
     "text": [
      "124.209 million (exact: 124209195, estimate 148.93 million)\n"
     ]
    },
    {
     "name": "stderr",
     "output_type": "stream",
     "text": [
      "\r",
      "|################----| 8486/10169  83% [elapsed: 31:57 left: 06:20]"
     ]
    },
    {
     "name": "stdout",
     "output_type": "stream",
     "text": [
      "124.345 million (exact: 124344711, estimate 148.92 million)\n"
     ]
    },
    {
     "name": "stderr",
     "output_type": "stream",
     "text": [
      "\r",
      "|################----| 8494/10169  83% [elapsed: 31:57 left: 06:18]"
     ]
    },
    {
     "name": "stdout",
     "output_type": "stream",
     "text": [
      "124.495 million (exact: 124495223, estimate 148.92 million)\n"
     ]
    },
    {
     "name": "stderr",
     "output_type": "stream",
     "text": [
      "|################----| 8510/10169  83% [elapsed: 31:58 left: 06:14]"
     ]
    },
    {
     "name": "stdout",
     "output_type": "stream",
     "text": [
      "124.624 million (exact: 124623616, estimate 148.90 million)\n"
     ]
    },
    {
     "name": "stderr",
     "output_type": "stream",
     "text": [
      "\r",
      "|################----| 8517/10169  83% [elapsed: 31:59 left: 06:12]"
     ]
    },
    {
     "name": "stdout",
     "output_type": "stream",
     "text": [
      "124.766 million (exact: 124765974, estimate 148.90 million)\n"
     ]
    },
    {
     "name": "stderr",
     "output_type": "stream",
     "text": [
      "\r",
      "|################----| 8525/10169  83% [elapsed: 31:59 left: 06:10]"
     ]
    },
    {
     "name": "stdout",
     "output_type": "stream",
     "text": [
      "124.890 million (exact: 124889543, estimate 148.87 million)\n"
     ]
    },
    {
     "name": "stderr",
     "output_type": "stream",
     "text": [
      "\r",
      "|################----| 8533/10169  83% [elapsed: 32:00 left: 06:08]"
     ]
    },
    {
     "name": "stdout",
     "output_type": "stream",
     "text": [
      "125.042 million (exact: 125042179, estimate 148.88 million)\n"
     ]
    },
    {
     "name": "stderr",
     "output_type": "stream",
     "text": [
      "|################----| 8549/10169  84% [elapsed: 32:01 left: 06:04]"
     ]
    },
    {
     "name": "stdout",
     "output_type": "stream",
     "text": [
      "125.194 million (exact: 125193739, estimate 148.88 million)\n"
     ]
    },
    {
     "name": "stderr",
     "output_type": "stream",
     "text": [
      "\r",
      "|################----| 8556/10169  84% [elapsed: 32:02 left: 06:02]"
     ]
    },
    {
     "name": "stdout",
     "output_type": "stream",
     "text": [
      "125.342 million (exact: 125341844, estimate 148.88 million)\n"
     ]
    },
    {
     "name": "stderr",
     "output_type": "stream",
     "text": [
      "\r",
      "|################----| 8564/10169  84% [elapsed: 32:02 left: 06:00]"
     ]
    },
    {
     "name": "stdout",
     "output_type": "stream",
     "text": [
      "125.498 million (exact: 125497583, estimate 148.90 million)\n"
     ]
    },
    {
     "name": "stderr",
     "output_type": "stream",
     "text": [
      "|################----| 8580/10169  84% [elapsed: 32:03 left: 05:56]"
     ]
    },
    {
     "name": "stdout",
     "output_type": "stream",
     "text": [
      "125.656 million (exact: 125655676, estimate 148.91 million)\n"
     ]
    },
    {
     "name": "stderr",
     "output_type": "stream",
     "text": [
      "\r",
      "|################----| 8588/10169  84% [elapsed: 32:04 left: 05:54]"
     ]
    },
    {
     "name": "stdout",
     "output_type": "stream",
     "text": [
      "125.801 million (exact: 125800719, estimate 148.91 million)\n"
     ]
    },
    {
     "name": "stderr",
     "output_type": "stream",
     "text": [
      "\r",
      "|################----| 8596/10169  84% [elapsed: 32:04 left: 05:52]"
     ]
    },
    {
     "name": "stdout",
     "output_type": "stream",
     "text": [
      "125.956 million (exact: 125956437, estimate 148.92 million)\n"
     ]
    },
    {
     "name": "stderr",
     "output_type": "stream",
     "text": [
      "\r",
      "|################----| 8604/10169  84% [elapsed: 32:05 left: 05:50]"
     ]
    },
    {
     "name": "stdout",
     "output_type": "stream",
     "text": [
      "126.091 million (exact: 126090797, estimate 148.90 million)\n"
     ]
    },
    {
     "name": "stderr",
     "output_type": "stream",
     "text": [
      "|################----| 8620/10169  84% [elapsed: 32:06 left: 05:46]"
     ]
    },
    {
     "name": "stdout",
     "output_type": "stream",
     "text": [
      "126.238 million (exact: 126237551, estimate 148.90 million)\n"
     ]
    },
    {
     "name": "stderr",
     "output_type": "stream",
     "text": [
      "\r",
      "|################----| 8627/10169  84% [elapsed: 32:06 left: 05:44]"
     ]
    },
    {
     "name": "stdout",
     "output_type": "stream",
     "text": [
      "126.386 million (exact: 126386037, estimate 148.91 million)\n"
     ]
    },
    {
     "name": "stderr",
     "output_type": "stream",
     "text": [
      "\r",
      "|################----| 8635/10169  84% [elapsed: 32:07 left: 05:42]"
     ]
    },
    {
     "name": "stdout",
     "output_type": "stream",
     "text": [
      "126.524 million (exact: 126523726, estimate 148.90 million)\n"
     ]
    },
    {
     "name": "stderr",
     "output_type": "stream",
     "text": [
      "\r",
      "|################----| 8643/10169  84% [elapsed: 32:07 left: 05:40]"
     ]
    },
    {
     "name": "stdout",
     "output_type": "stream",
     "text": [
      "126.675 million (exact: 126675000, estimate 148.90 million)\n"
     ]
    },
    {
     "name": "stderr",
     "output_type": "stream",
     "text": [
      "|#################---| 8659/10169  85% [elapsed: 32:09 left: 05:36]"
     ]
    },
    {
     "name": "stdout",
     "output_type": "stream",
     "text": [
      "126.827 million (exact: 126826660, estimate 148.91 million)\n"
     ]
    },
    {
     "name": "stderr",
     "output_type": "stream",
     "text": [
      "\r",
      "|#################---| 8667/10169  85% [elapsed: 32:09 left: 05:34]"
     ]
    },
    {
     "name": "stdout",
     "output_type": "stream",
     "text": [
      "126.971 million (exact: 126971092, estimate 148.91 million)\n"
     ]
    },
    {
     "name": "stderr",
     "output_type": "stream",
     "text": [
      "\r",
      "|#################---| 8673/10169  85% [elapsed: 32:10 left: 05:32]"
     ]
    },
    {
     "name": "stdout",
     "output_type": "stream",
     "text": [
      "127.110 million (exact: 127109759, estimate 148.90 million)\n"
     ]
    },
    {
     "name": "stderr",
     "output_type": "stream",
     "text": [
      "|#################---| 8689/10169  85% [elapsed: 32:11 left: 05:28]"
     ]
    },
    {
     "name": "stdout",
     "output_type": "stream",
     "text": [
      "127.249 million (exact: 127249276, estimate 148.89 million)\n"
     ]
    },
    {
     "name": "stderr",
     "output_type": "stream",
     "text": [
      "\r",
      "|#################---| 8697/10169  85% [elapsed: 32:11 left: 05:26]"
     ]
    },
    {
     "name": "stdout",
     "output_type": "stream",
     "text": [
      "127.396 million (exact: 127395797, estimate 148.89 million)\n"
     ]
    },
    {
     "name": "stderr",
     "output_type": "stream",
     "text": [
      "\r",
      "|#################---| 8704/10169  85% [elapsed: 32:12 left: 05:25]"
     ]
    },
    {
     "name": "stdout",
     "output_type": "stream",
     "text": [
      "127.554 million (exact: 127554114, estimate 148.90 million)\n"
     ]
    },
    {
     "name": "stderr",
     "output_type": "stream",
     "text": [
      "|#################---| 8720/10169  85% [elapsed: 32:13 left: 05:21]"
     ]
    },
    {
     "name": "stdout",
     "output_type": "stream",
     "text": [
      "127.708 million (exact: 127708320, estimate 148.91 million)\n"
     ]
    },
    {
     "name": "stderr",
     "output_type": "stream",
     "text": [
      "\r",
      "|#################---| 8728/10169  85% [elapsed: 32:13 left: 05:19]"
     ]
    },
    {
     "name": "stdout",
     "output_type": "stream",
     "text": [
      "127.867 million (exact: 127866584, estimate 148.93 million)\n"
     ]
    },
    {
     "name": "stderr",
     "output_type": "stream",
     "text": [
      "\r",
      "|#################---| 8735/10169  85% [elapsed: 32:14 left: 05:17]"
     ]
    },
    {
     "name": "stdout",
     "output_type": "stream",
     "text": [
      "127.998 million (exact: 127997710, estimate 148.91 million)\n"
     ]
    },
    {
     "name": "stderr",
     "output_type": "stream",
     "text": [
      "|#################---| 8750/10169  86% [elapsed: 32:15 left: 05:13]"
     ]
    },
    {
     "name": "stdout",
     "output_type": "stream",
     "text": [
      "128.157 million (exact: 128157284, estimate 148.92 million)\n"
     ]
    },
    {
     "name": "stderr",
     "output_type": "stream",
     "text": [
      "\r",
      "|#################---| 8758/10169  86% [elapsed: 32:15 left: 05:11]"
     ]
    },
    {
     "name": "stdout",
     "output_type": "stream",
     "text": [
      "128.308 million (exact: 128308176, estimate 148.93 million)\n"
     ]
    },
    {
     "name": "stderr",
     "output_type": "stream",
     "text": [
      "\r",
      "|#################---| 8766/10169  86% [elapsed: 32:16 left: 05:09]"
     ]
    },
    {
     "name": "stdout",
     "output_type": "stream",
     "text": [
      "128.456 million (exact: 128456171, estimate 148.93 million)\n"
     ]
    },
    {
     "name": "stderr",
     "output_type": "stream",
     "text": [
      "\r",
      "|#################---| 8774/10169  86% [elapsed: 32:16 left: 05:07]"
     ]
    },
    {
     "name": "stdout",
     "output_type": "stream",
     "text": [
      "128.610 million (exact: 128610429, estimate 148.94 million)\n"
     ]
    },
    {
     "name": "stderr",
     "output_type": "stream",
     "text": [
      "|#################---| 8789/10169  86% [elapsed: 32:18 left: 05:04]"
     ]
    },
    {
     "name": "stdout",
     "output_type": "stream",
     "text": [
      "128.768 million (exact: 128767679, estimate 148.95 million)\n"
     ]
    },
    {
     "name": "stderr",
     "output_type": "stream",
     "text": [
      "\r",
      "|#################---| 8797/10169  86% [elapsed: 32:18 left: 05:02]"
     ]
    },
    {
     "name": "stdout",
     "output_type": "stream",
     "text": [
      "128.909 million (exact: 128908810, estimate 148.95 million)\n"
     ]
    },
    {
     "name": "stderr",
     "output_type": "stream",
     "text": [
      "\r",
      "|#################---| 8804/10169  86% [elapsed: 32:19 left: 05:00]"
     ]
    },
    {
     "name": "stdout",
     "output_type": "stream",
     "text": [
      "129.055 million (exact: 129055289, estimate 148.95 million)\n"
     ]
    },
    {
     "name": "stderr",
     "output_type": "stream",
     "text": [
      "|#################---| 8819/10169  86% [elapsed: 32:20 left: 04:57]"
     ]
    },
    {
     "name": "stdout",
     "output_type": "stream",
     "text": [
      "129.207 million (exact: 129207335, estimate 148.95 million)\n"
     ]
    },
    {
     "name": "stderr",
     "output_type": "stream",
     "text": [
      "\r",
      "|#################---| 8827/10169  86% [elapsed: 32:20 left: 04:55]"
     ]
    },
    {
     "name": "stdout",
     "output_type": "stream",
     "text": [
      "129.339 million (exact: 129339169, estimate 148.94 million)\n"
     ]
    },
    {
     "name": "stderr",
     "output_type": "stream",
     "text": [
      "\r",
      "|#################---| 8835/10169  86% [elapsed: 32:21 left: 04:53]"
     ]
    },
    {
     "name": "stdout",
     "output_type": "stream",
     "text": [
      "129.480 million (exact: 129479976, estimate 148.93 million)\n"
     ]
    },
    {
     "name": "stderr",
     "output_type": "stream",
     "text": [
      "|#################---| 8850/10169  87% [elapsed: 32:22 left: 04:49]"
     ]
    },
    {
     "name": "stdout",
     "output_type": "stream",
     "text": [
      "129.629 million (exact: 129629318, estimate 148.93 million)\n"
     ]
    },
    {
     "name": "stderr",
     "output_type": "stream",
     "text": [
      "\r",
      "|#################---| 8857/10169  87% [elapsed: 32:22 left: 04:47]"
     ]
    },
    {
     "name": "stdout",
     "output_type": "stream",
     "text": [
      "129.783 million (exact: 129783378, estimate 148.94 million)\n"
     ]
    },
    {
     "name": "stderr",
     "output_type": "stream",
     "text": [
      "\r",
      "|#################---| 8865/10169  87% [elapsed: 32:23 left: 04:45]"
     ]
    },
    {
     "name": "stdout",
     "output_type": "stream",
     "text": [
      "129.931 million (exact: 129931156, estimate 148.94 million)\n"
     ]
    },
    {
     "name": "stderr",
     "output_type": "stream",
     "text": [
      "\r",
      "|#################---| 8873/10169  87% [elapsed: 32:24 left: 04:43]"
     ]
    },
    {
     "name": "stdout",
     "output_type": "stream",
     "text": [
      "130.074 million (exact: 130073580, estimate 148.94 million)\n"
     ]
    },
    {
     "name": "stderr",
     "output_type": "stream",
     "text": [
      "|#################---| 8888/10169  87% [elapsed: 32:25 left: 04:40]"
     ]
    },
    {
     "name": "stdout",
     "output_type": "stream",
     "text": [
      "130.219 million (exact: 130218861, estimate 148.94 million)\n"
     ]
    },
    {
     "name": "stderr",
     "output_type": "stream",
     "text": [
      "\r",
      "|#################---| 8896/10169  87% [elapsed: 32:25 left: 04:38]"
     ]
    },
    {
     "name": "stdout",
     "output_type": "stream",
     "text": [
      "130.352 million (exact: 130352048, estimate 148.92 million)\n"
     ]
    },
    {
     "name": "stderr",
     "output_type": "stream",
     "text": [
      "|#################---| 8910/10169  87% [elapsed: 32:26 left: 04:35]"
     ]
    },
    {
     "name": "stdout",
     "output_type": "stream",
     "text": [
      "130.507 million (exact: 130506783, estimate 148.93 million)\n"
     ]
    },
    {
     "name": "stderr",
     "output_type": "stream",
     "text": [
      "\r",
      "|#################---| 8918/10169  87% [elapsed: 32:27 left: 04:33]"
     ]
    },
    {
     "name": "stdout",
     "output_type": "stream",
     "text": [
      "130.646 million (exact: 130645905, estimate 148.92 million)\n"
     ]
    },
    {
     "name": "stderr",
     "output_type": "stream",
     "text": [
      "\r",
      "|#################---| 8924/10169  87% [elapsed: 32:27 left: 04:31]"
     ]
    },
    {
     "name": "stdout",
     "output_type": "stream",
     "text": [
      "130.786 million (exact: 130786457, estimate 148.92 million)\n"
     ]
    },
    {
     "name": "stderr",
     "output_type": "stream",
     "text": [
      "|#################---| 8940/10169  87% [elapsed: 32:28 left: 04:27]"
     ]
    },
    {
     "name": "stdout",
     "output_type": "stream",
     "text": [
      "130.923 million (exact: 130922790, estimate 148.90 million)\n"
     ]
    },
    {
     "name": "stderr",
     "output_type": "stream",
     "text": [
      "\r",
      "|#################---| 8948/10169  87% [elapsed: 32:29 left: 04:26]"
     ]
    },
    {
     "name": "stdout",
     "output_type": "stream",
     "text": [
      "131.041 million (exact: 131040940, estimate 148.87 million)\n"
     ]
    },
    {
     "name": "stderr",
     "output_type": "stream",
     "text": [
      "\r",
      "|#################---| 8956/10169  88% [elapsed: 32:29 left: 04:24]"
     ]
    },
    {
     "name": "stdout",
     "output_type": "stream",
     "text": [
      "131.187 million (exact: 131186667, estimate 148.87 million)\n"
     ]
    },
    {
     "name": "stderr",
     "output_type": "stream",
     "text": [
      "\r",
      "|#################---| 8964/10169  88% [elapsed: 32:30 left: 04:22]"
     ]
    },
    {
     "name": "stdout",
     "output_type": "stream",
     "text": [
      "131.336 million (exact: 131336079, estimate 148.87 million)\n"
     ]
    },
    {
     "name": "stderr",
     "output_type": "stream",
     "text": [
      "|#################---| 8979/10169  88% [elapsed: 32:31 left: 04:18]"
     ]
    },
    {
     "name": "stdout",
     "output_type": "stream",
     "text": [
      "131.483 million (exact: 131482515, estimate 148.87 million)\n"
     ]
    },
    {
     "name": "stderr",
     "output_type": "stream",
     "text": [
      "\r",
      "|#################---| 8987/10169  88% [elapsed: 32:32 left: 04:16]"
     ]
    },
    {
     "name": "stdout",
     "output_type": "stream",
     "text": [
      "131.629 million (exact: 131628539, estimate 148.87 million)\n"
     ]
    },
    {
     "name": "stderr",
     "output_type": "stream",
     "text": [
      "|#################---| 9000/10169  88% [elapsed: 32:33 left: 04:13]"
     ]
    },
    {
     "name": "stdout",
     "output_type": "stream",
     "text": [
      "131.774 million (exact: 131773673, estimate 148.87 million)\n"
     ]
    },
    {
     "name": "stderr",
     "output_type": "stream",
     "text": [
      "\r",
      "|#################---| 9007/10169  88% [elapsed: 32:33 left: 04:12]"
     ]
    },
    {
     "name": "stdout",
     "output_type": "stream",
     "text": [
      "131.918 million (exact: 131917762, estimate 148.87 million)\n"
     ]
    },
    {
     "name": "stderr",
     "output_type": "stream",
     "text": [
      "\r",
      "|#################---| 9014/10169  88% [elapsed: 32:34 left: 04:10]"
     ]
    },
    {
     "name": "stdout",
     "output_type": "stream",
     "text": [
      "132.070 million (exact: 132070362, estimate 148.88 million)\n"
     ]
    },
    {
     "name": "stderr",
     "output_type": "stream",
     "text": [
      "|#################---| 9030/10169  88% [elapsed: 32:35 left: 04:06]"
     ]
    },
    {
     "name": "stdout",
     "output_type": "stream",
     "text": [
      "132.218 million (exact: 132217641, estimate 148.88 million)\n"
     ]
    },
    {
     "name": "stderr",
     "output_type": "stream",
     "text": [
      "\r",
      "|#################---| 9036/10169  88% [elapsed: 32:35 left: 04:05]"
     ]
    },
    {
     "name": "stdout",
     "output_type": "stream",
     "text": [
      "132.369 million (exact: 132368692, estimate 148.88 million)\n"
     ]
    },
    {
     "name": "stderr",
     "output_type": "stream",
     "text": [
      "\r",
      "|#################---| 9044/10169  88% [elapsed: 32:36 left: 04:03]"
     ]
    },
    {
     "name": "stdout",
     "output_type": "stream",
     "text": [
      "132.514 million (exact: 132514464, estimate 148.88 million)\n"
     ]
    },
    {
     "name": "stderr",
     "output_type": "stream",
     "text": [
      "|#################---| 9060/10169  89% [elapsed: 32:37 left: 03:59]"
     ]
    },
    {
     "name": "stdout",
     "output_type": "stream",
     "text": [
      "132.655 million (exact: 132655034, estimate 148.88 million)\n"
     ]
    },
    {
     "name": "stderr",
     "output_type": "stream",
     "text": [
      "\r",
      "|#################---| 9068/10169  89% [elapsed: 32:38 left: 03:57]"
     ]
    },
    {
     "name": "stdout",
     "output_type": "stream",
     "text": [
      "132.778 million (exact: 132778250, estimate 148.85 million)\n"
     ]
    },
    {
     "name": "stderr",
     "output_type": "stream",
     "text": [
      "\r",
      "|#################---| 9075/10169  89% [elapsed: 32:38 left: 03:56]"
     ]
    },
    {
     "name": "stdout",
     "output_type": "stream",
     "text": [
      "132.921 million (exact: 132920650, estimate 148.85 million)\n"
     ]
    },
    {
     "name": "stderr",
     "output_type": "stream",
     "text": [
      "\r",
      "|#################---| 9083/10169  89% [elapsed: 32:39 left: 03:54]"
     ]
    },
    {
     "name": "stdout",
     "output_type": "stream",
     "text": [
      "133.059 million (exact: 133059015, estimate 148.84 million)\n"
     ]
    },
    {
     "name": "stderr",
     "output_type": "stream",
     "text": [
      "|#################---| 9099/10169  89% [elapsed: 32:40 left: 03:50]"
     ]
    },
    {
     "name": "stdout",
     "output_type": "stream",
     "text": [
      "133.201 million (exact: 133201386, estimate 148.83 million)\n"
     ]
    },
    {
     "name": "stderr",
     "output_type": "stream",
     "text": [
      "\r",
      "|#################---| 9107/10169  89% [elapsed: 32:40 left: 03:48]"
     ]
    },
    {
     "name": "stdout",
     "output_type": "stream",
     "text": [
      "133.326 million (exact: 133325844, estimate 148.81 million)\n"
     ]
    },
    {
     "name": "stderr",
     "output_type": "stream",
     "text": [
      "\r",
      "|#################---| 9113/10169  89% [elapsed: 32:41 left: 03:47]"
     ]
    },
    {
     "name": "stdout",
     "output_type": "stream",
     "text": [
      "133.474 million (exact: 133474072, estimate 148.81 million)\n"
     ]
    },
    {
     "name": "stderr",
     "output_type": "stream",
     "text": [
      "|#################---| 9129/10169  89% [elapsed: 32:42 left: 03:43]"
     ]
    },
    {
     "name": "stdout",
     "output_type": "stream",
     "text": [
      "133.627 million (exact: 133627371, estimate 148.82 million)\n"
     ]
    },
    {
     "name": "stderr",
     "output_type": "stream",
     "text": [
      "\r",
      "|#################---| 9137/10169  89% [elapsed: 32:42 left: 03:41]"
     ]
    },
    {
     "name": "stdout",
     "output_type": "stream",
     "text": [
      "133.787 million (exact: 133786912, estimate 148.83 million)\n"
     ]
    },
    {
     "name": "stderr",
     "output_type": "stream",
     "text": [
      "\r",
      "|#################---| 9145/10169  89% [elapsed: 32:43 left: 03:39]"
     ]
    },
    {
     "name": "stdout",
     "output_type": "stream",
     "text": [
      "133.931 million (exact: 133931006, estimate 148.83 million)\n"
     ]
    },
    {
     "name": "stderr",
     "output_type": "stream",
     "text": [
      "|##################--| 9160/10169  90% [elapsed: 32:44 left: 03:36]"
     ]
    },
    {
     "name": "stdout",
     "output_type": "stream",
     "text": [
      "134.085 million (exact: 134084524, estimate 148.84 million)\n"
     ]
    },
    {
     "name": "stderr",
     "output_type": "stream",
     "text": [
      "\r",
      "|##################--| 9168/10169  90% [elapsed: 32:45 left: 03:34]"
     ]
    },
    {
     "name": "stdout",
     "output_type": "stream",
     "text": [
      "134.233 million (exact: 134233228, estimate 148.84 million)\n"
     ]
    },
    {
     "name": "stderr",
     "output_type": "stream",
     "text": [
      "\r",
      "|##################--| 9176/10169  90% [elapsed: 32:45 left: 03:32]"
     ]
    },
    {
     "name": "stdout",
     "output_type": "stream",
     "text": [
      "134.372 million (exact: 134371857, estimate 148.83 million)\n"
     ]
    },
    {
     "name": "stderr",
     "output_type": "stream",
     "text": [
      "\r",
      "|##################--| 9184/10169  90% [elapsed: 32:46 left: 03:30]"
     ]
    },
    {
     "name": "stdout",
     "output_type": "stream",
     "text": [
      "134.523 million (exact: 134522637, estimate 148.84 million)\n"
     ]
    },
    {
     "name": "stderr",
     "output_type": "stream",
     "text": [
      "|##################--| 9199/10169  90% [elapsed: 32:47 left: 03:27]"
     ]
    },
    {
     "name": "stdout",
     "output_type": "stream",
     "text": [
      "134.676 million (exact: 134675734, estimate 148.84 million)\n"
     ]
    },
    {
     "name": "stderr",
     "output_type": "stream",
     "text": [
      "\r",
      "|##################--| 9207/10169  90% [elapsed: 32:47 left: 03:25]"
     ]
    },
    {
     "name": "stdout",
     "output_type": "stream",
     "text": [
      "134.814 million (exact: 134814318, estimate 148.84 million)\n"
     ]
    },
    {
     "name": "stderr",
     "output_type": "stream",
     "text": [
      "\r",
      "|##################--| 9215/10169  90% [elapsed: 32:48 left: 03:23]"
     ]
    },
    {
     "name": "stdout",
     "output_type": "stream",
     "text": [
      "134.979 million (exact: 134978944, estimate 148.86 million)\n"
     ]
    },
    {
     "name": "stderr",
     "output_type": "stream",
     "text": [
      "|##################--| 9229/10169  90% [elapsed: 32:49 left: 03:20]"
     ]
    },
    {
     "name": "stdout",
     "output_type": "stream",
     "text": [
      "135.139 million (exact: 135139292, estimate 148.87 million)\n"
     ]
    },
    {
     "name": "stderr",
     "output_type": "stream",
     "text": [
      "\r",
      "|##################--| 9237/10169  90% [elapsed: 32:49 left: 03:18]"
     ]
    },
    {
     "name": "stdout",
     "output_type": "stream",
     "text": [
      "135.278 million (exact: 135278126, estimate 148.86 million)\n"
     ]
    },
    {
     "name": "stderr",
     "output_type": "stream",
     "text": [
      "\r",
      "|##################--| 9245/10169  90% [elapsed: 32:50 left: 03:16]"
     ]
    },
    {
     "name": "stdout",
     "output_type": "stream",
     "text": [
      "135.416 million (exact: 135415910, estimate 148.85 million)\n"
     ]
    },
    {
     "name": "stderr",
     "output_type": "stream",
     "text": [
      "\r",
      "|##################--| 9253/10169  90% [elapsed: 32:51 left: 03:15]"
     ]
    },
    {
     "name": "stdout",
     "output_type": "stream",
     "text": [
      "135.551 million (exact: 135550672, estimate 148.84 million)\n"
     ]
    },
    {
     "name": "stderr",
     "output_type": "stream",
     "text": [
      "|##################--| 9268/10169  91% [elapsed: 32:52 left: 03:11]"
     ]
    },
    {
     "name": "stdout",
     "output_type": "stream",
     "text": [
      "135.694 million (exact: 135693759, estimate 148.84 million)\n"
     ]
    },
    {
     "name": "stderr",
     "output_type": "stream",
     "text": [
      "\r",
      "|##################--| 9276/10169  91% [elapsed: 32:52 left: 03:09]"
     ]
    },
    {
     "name": "stdout",
     "output_type": "stream",
     "text": [
      "135.845 million (exact: 135844896, estimate 148.84 million)\n"
     ]
    },
    {
     "name": "stderr",
     "output_type": "stream",
     "text": [
      "\r",
      "|##################--| 9284/10169  91% [elapsed: 32:53 left: 03:08]"
     ]
    },
    {
     "name": "stdout",
     "output_type": "stream",
     "text": [
      "135.991 million (exact: 135991268, estimate 148.84 million)\n"
     ]
    },
    {
     "name": "stderr",
     "output_type": "stream",
     "text": [
      "|##################--| 9300/10169  91% [elapsed: 32:54 left: 03:04]"
     ]
    },
    {
     "name": "stdout",
     "output_type": "stream",
     "text": [
      "136.132 million (exact: 136131581, estimate 148.84 million)\n"
     ]
    },
    {
     "name": "stderr",
     "output_type": "stream",
     "text": [
      "\r",
      "|##################--| 9308/10169  91% [elapsed: 32:54 left: 03:02]"
     ]
    },
    {
     "name": "stdout",
     "output_type": "stream",
     "text": [
      "136.293 million (exact: 136293144, estimate 148.85 million)\n"
     ]
    },
    {
     "name": "stderr",
     "output_type": "stream",
     "text": [
      "\r",
      "|##################--| 9316/10169  91% [elapsed: 32:55 left: 03:00]"
     ]
    },
    {
     "name": "stdout",
     "output_type": "stream",
     "text": [
      "136.442 million (exact: 136441749, estimate 148.85 million)\n"
     ]
    },
    {
     "name": "stderr",
     "output_type": "stream",
     "text": [
      "\r",
      "|##################--| 9324/10169  91% [elapsed: 32:55 left: 02:59]"
     ]
    },
    {
     "name": "stdout",
     "output_type": "stream",
     "text": [
      "136.592 million (exact: 136591685, estimate 148.86 million)\n"
     ]
    },
    {
     "name": "stderr",
     "output_type": "stream",
     "text": [
      "|##################--| 9340/10169  91% [elapsed: 32:57 left: 02:55]"
     ]
    },
    {
     "name": "stdout",
     "output_type": "stream",
     "text": [
      "136.732 million (exact: 136731855, estimate 148.85 million)\n"
     ]
    },
    {
     "name": "stderr",
     "output_type": "stream",
     "text": [
      "\r",
      "|##################--| 9348/10169  91% [elapsed: 32:57 left: 02:53]"
     ]
    },
    {
     "name": "stdout",
     "output_type": "stream",
     "text": [
      "136.867 million (exact: 136866738, estimate 148.84 million)\n"
     ]
    },
    {
     "name": "stderr",
     "output_type": "stream",
     "text": [
      "\r",
      "|##################--| 9355/10169  91% [elapsed: 32:58 left: 02:52]"
     ]
    },
    {
     "name": "stdout",
     "output_type": "stream",
     "text": [
      "137.019 million (exact: 137019339, estimate 148.85 million)\n"
     ]
    },
    {
     "name": "stderr",
     "output_type": "stream",
     "text": [
      "\r",
      "|##################--| 9363/10169  92% [elapsed: 32:58 left: 02:50]"
     ]
    },
    {
     "name": "stdout",
     "output_type": "stream",
     "text": [
      "137.167 million (exact: 137166891, estimate 148.85 million)\n"
     ]
    },
    {
     "name": "stderr",
     "output_type": "stream",
     "text": [
      "|##################--| 9379/10169  92% [elapsed: 32:59 left: 02:46]"
     ]
    },
    {
     "name": "stdout",
     "output_type": "stream",
     "text": [
      "137.306 million (exact: 137305654, estimate 148.84 million)\n"
     ]
    },
    {
     "name": "stderr",
     "output_type": "stream",
     "text": [
      "\r",
      "|##################--| 9387/10169  92% [elapsed: 33:00 left: 02:44]"
     ]
    },
    {
     "name": "stdout",
     "output_type": "stream",
     "text": [
      "137.459 million (exact: 137459429, estimate 148.85 million)\n"
     ]
    },
    {
     "name": "stderr",
     "output_type": "stream",
     "text": [
      "\r",
      "|##################--| 9395/10169  92% [elapsed: 33:00 left: 02:43]"
     ]
    },
    {
     "name": "stdout",
     "output_type": "stream",
     "text": [
      "137.609 million (exact: 137609237, estimate 148.85 million)\n"
     ]
    },
    {
     "name": "stderr",
     "output_type": "stream",
     "text": [
      "\r",
      "|##################--| 9403/10169  92% [elapsed: 33:01 left: 02:41]"
     ]
    },
    {
     "name": "stdout",
     "output_type": "stream",
     "text": [
      "137.757 million (exact: 137757114, estimate 148.85 million)\n"
     ]
    },
    {
     "name": "stderr",
     "output_type": "stream",
     "text": [
      "|##################--| 9419/10169  92% [elapsed: 33:02 left: 02:37]"
     ]
    },
    {
     "name": "stdout",
     "output_type": "stream",
     "text": [
      "137.903 million (exact: 137902637, estimate 148.85 million)\n"
     ]
    },
    {
     "name": "stderr",
     "output_type": "stream",
     "text": [
      "\r",
      "|##################--| 9427/10169  92% [elapsed: 33:03 left: 02:36]"
     ]
    },
    {
     "name": "stdout",
     "output_type": "stream",
     "text": [
      "138.025 million (exact: 138024854, estimate 148.83 million)\n"
     ]
    },
    {
     "name": "stderr",
     "output_type": "stream",
     "text": [
      "\r",
      "|##################--| 9435/10169  92% [elapsed: 33:03 left: 02:34]"
     ]
    },
    {
     "name": "stdout",
     "output_type": "stream",
     "text": [
      "138.170 million (exact: 138169820, estimate 148.82 million)\n"
     ]
    },
    {
     "name": "stderr",
     "output_type": "stream",
     "text": [
      "|##################--| 9450/10169  92% [elapsed: 33:04 left: 02:31]"
     ]
    },
    {
     "name": "stdout",
     "output_type": "stream",
     "text": [
      "138.318 million (exact: 138317555, estimate 148.83 million)\n"
     ]
    },
    {
     "name": "stderr",
     "output_type": "stream",
     "text": [
      "\r",
      "|##################--| 9457/10169  92% [elapsed: 33:05 left: 02:29]"
     ]
    },
    {
     "name": "stdout",
     "output_type": "stream",
     "text": [
      "138.473 million (exact: 138472684, estimate 148.84 million)\n"
     ]
    },
    {
     "name": "stderr",
     "output_type": "stream",
     "text": [
      "\r",
      "|##################--| 9464/10169  93% [elapsed: 33:05 left: 02:27]"
     ]
    },
    {
     "name": "stdout",
     "output_type": "stream",
     "text": [
      "138.606 million (exact: 138606106, estimate 148.82 million)\n"
     ]
    },
    {
     "name": "stderr",
     "output_type": "stream",
     "text": [
      "|##################--| 9480/10169  93% [elapsed: 33:06 left: 02:24]"
     ]
    },
    {
     "name": "stdout",
     "output_type": "stream",
     "text": [
      "138.752 million (exact: 138751727, estimate 148.82 million)\n"
     ]
    },
    {
     "name": "stderr",
     "output_type": "stream",
     "text": [
      "\r",
      "|##################--| 9488/10169  93% [elapsed: 33:07 left: 02:22]"
     ]
    },
    {
     "name": "stdout",
     "output_type": "stream",
     "text": [
      "138.889 million (exact: 138888847, estimate 148.81 million)\n"
     ]
    },
    {
     "name": "stderr",
     "output_type": "stream",
     "text": [
      "\r",
      "|##################--| 9495/10169  93% [elapsed: 33:07 left: 02:21]"
     ]
    },
    {
     "name": "stdout",
     "output_type": "stream",
     "text": [
      "139.033 million (exact: 139032710, estimate 148.81 million)\n"
     ]
    },
    {
     "name": "stderr",
     "output_type": "stream",
     "text": [
      "|##################--| 9510/10169  93% [elapsed: 33:08 left: 02:17]"
     ]
    },
    {
     "name": "stdout",
     "output_type": "stream",
     "text": [
      "139.187 million (exact: 139187171, estimate 148.82 million)\n"
     ]
    },
    {
     "name": "stderr",
     "output_type": "stream",
     "text": [
      "\r",
      "|##################--| 9518/10169  93% [elapsed: 33:09 left: 02:16]"
     ]
    },
    {
     "name": "stdout",
     "output_type": "stream",
     "text": [
      "139.331 million (exact: 139331302, estimate 148.81 million)\n"
     ]
    },
    {
     "name": "stderr",
     "output_type": "stream",
     "text": [
      "\r",
      "|##################--| 9526/10169  93% [elapsed: 33:10 left: 02:14]"
     ]
    },
    {
     "name": "stdout",
     "output_type": "stream",
     "text": [
      "139.479 million (exact: 139479333, estimate 148.82 million)\n"
     ]
    },
    {
     "name": "stderr",
     "output_type": "stream",
     "text": [
      "\r",
      "|##################--| 9534/10169  93% [elapsed: 33:10 left: 02:12]"
     ]
    },
    {
     "name": "stdout",
     "output_type": "stream",
     "text": [
      "139.619 million (exact: 139619077, estimate 148.81 million)\n"
     ]
    },
    {
     "name": "stderr",
     "output_type": "stream",
     "text": [
      "|##################--| 9549/10169  93% [elapsed: 33:11 left: 02:09]"
     ]
    },
    {
     "name": "stdout",
     "output_type": "stream",
     "text": [
      "139.752 million (exact: 139751926, estimate 148.79 million)\n"
     ]
    },
    {
     "name": "stderr",
     "output_type": "stream",
     "text": [
      "\r",
      "|##################--| 9557/10169  93% [elapsed: 33:12 left: 02:07]"
     ]
    },
    {
     "name": "stdout",
     "output_type": "stream",
     "text": [
      "139.893 million (exact: 139892828, estimate 148.79 million)\n"
     ]
    },
    {
     "name": "stderr",
     "output_type": "stream",
     "text": [
      "\r",
      "|##################--| 9565/10169  94% [elapsed: 33:12 left: 02:05]"
     ]
    },
    {
     "name": "stdout",
     "output_type": "stream",
     "text": [
      "140.055 million (exact: 140054734, estimate 148.81 million)\n"
     ]
    },
    {
     "name": "stderr",
     "output_type": "stream",
     "text": [
      "|##################--| 9579/10169  94% [elapsed: 33:13 left: 02:02]"
     ]
    },
    {
     "name": "stdout",
     "output_type": "stream",
     "text": [
      "140.199 million (exact: 140198582, estimate 148.80 million)\n"
     ]
    },
    {
     "name": "stderr",
     "output_type": "stream",
     "text": [
      "\r",
      "|##################--| 9587/10169  94% [elapsed: 33:14 left: 02:01]"
     ]
    },
    {
     "name": "stdout",
     "output_type": "stream",
     "text": [
      "140.350 million (exact: 140349978, estimate 148.81 million)\n"
     ]
    },
    {
     "name": "stderr",
     "output_type": "stream",
     "text": [
      "\r",
      "|##################--| 9595/10169  94% [elapsed: 33:14 left: 01:59]"
     ]
    },
    {
     "name": "stdout",
     "output_type": "stream",
     "text": [
      "140.509 million (exact: 140509249, estimate 148.82 million)\n"
     ]
    },
    {
     "name": "stderr",
     "output_type": "stream",
     "text": [
      "|##################--| 9609/10169  94% [elapsed: 33:16 left: 01:56]"
     ]
    },
    {
     "name": "stdout",
     "output_type": "stream",
     "text": [
      "140.670 million (exact: 140669784, estimate 148.84 million)\n"
     ]
    },
    {
     "name": "stderr",
     "output_type": "stream",
     "text": [
      "\r",
      "|##################--| 9617/10169  94% [elapsed: 33:16 left: 01:54]"
     ]
    },
    {
     "name": "stdout",
     "output_type": "stream",
     "text": [
      "140.799 million (exact: 140798739, estimate 148.82 million)\n"
     ]
    },
    {
     "name": "stderr",
     "output_type": "stream",
     "text": [
      "\r",
      "|##################--| 9625/10169  94% [elapsed: 33:17 left: 01:52]"
     ]
    },
    {
     "name": "stdout",
     "output_type": "stream",
     "text": [
      "140.948 million (exact: 140948468, estimate 148.82 million)\n"
     ]
    },
    {
     "name": "stderr",
     "output_type": "stream",
     "text": [
      "\r",
      "|##################--| 9633/10169  94% [elapsed: 33:17 left: 01:51]"
     ]
    },
    {
     "name": "stdout",
     "output_type": "stream",
     "text": [
      "141.088 million (exact: 141088321, estimate 148.82 million)\n"
     ]
    },
    {
     "name": "stderr",
     "output_type": "stream",
     "text": [
      "|##################--| 9649/10169  94% [elapsed: 33:18 left: 01:47]"
     ]
    },
    {
     "name": "stdout",
     "output_type": "stream",
     "text": [
      "141.225 million (exact: 141224503, estimate 148.80 million)\n"
     ]
    },
    {
     "name": "stderr",
     "output_type": "stream",
     "text": [
      "\r",
      "|##################--| 9656/10169  94% [elapsed: 33:19 left: 01:46]"
     ]
    },
    {
     "name": "stdout",
     "output_type": "stream",
     "text": [
      "141.382 million (exact: 141382248, estimate 148.82 million)\n"
     ]
    },
    {
     "name": "stderr",
     "output_type": "stream",
     "text": [
      "\r",
      "|###################-| 9664/10169  95% [elapsed: 33:19 left: 01:44]"
     ]
    },
    {
     "name": "stdout",
     "output_type": "stream",
     "text": [
      "141.519 million (exact: 141518774, estimate 148.81 million)\n"
     ]
    },
    {
     "name": "stderr",
     "output_type": "stream",
     "text": [
      "|###################-| 9680/10169  95% [elapsed: 33:20 left: 01:41]"
     ]
    },
    {
     "name": "stdout",
     "output_type": "stream",
     "text": [
      "141.636 million (exact: 141636229, estimate 148.78 million)\n"
     ]
    },
    {
     "name": "stderr",
     "output_type": "stream",
     "text": [
      "\r",
      "|###################-| 9688/10169  95% [elapsed: 33:21 left: 01:39]"
     ]
    },
    {
     "name": "stdout",
     "output_type": "stream",
     "text": [
      "141.790 million (exact: 141789748, estimate 148.78 million)\n"
     ]
    },
    {
     "name": "stderr",
     "output_type": "stream",
     "text": [
      "\r",
      "|###################-| 9696/10169  95% [elapsed: 33:21 left: 01:37]"
     ]
    },
    {
     "name": "stdout",
     "output_type": "stream",
     "text": [
      "141.947 million (exact: 141947154, estimate 148.80 million)\n"
     ]
    },
    {
     "name": "stderr",
     "output_type": "stream",
     "text": [
      "\r",
      "|###################-| 9704/10169  95% [elapsed: 33:22 left: 01:35]"
     ]
    },
    {
     "name": "stdout",
     "output_type": "stream",
     "text": [
      "142.072 million (exact: 142072428, estimate 148.77 million)\n"
     ]
    },
    {
     "name": "stderr",
     "output_type": "stream",
     "text": [
      "|###################-| 9720/10169  95% [elapsed: 33:23 left: 01:32]"
     ]
    },
    {
     "name": "stdout",
     "output_type": "stream",
     "text": [
      "142.212 million (exact: 142212268, estimate 148.77 million)\n"
     ]
    },
    {
     "name": "stderr",
     "output_type": "stream",
     "text": [
      "\r",
      "|###################-| 9728/10169  95% [elapsed: 33:24 left: 01:30]"
     ]
    },
    {
     "name": "stdout",
     "output_type": "stream",
     "text": [
      "142.376 million (exact: 142376294, estimate 148.78 million)\n"
     ]
    },
    {
     "name": "stderr",
     "output_type": "stream",
     "text": [
      "\r",
      "|###################-| 9736/10169  95% [elapsed: 33:24 left: 01:29]"
     ]
    },
    {
     "name": "stdout",
     "output_type": "stream",
     "text": [
      "142.515 million (exact: 142515123, estimate 148.78 million)\n"
     ]
    },
    {
     "name": "stderr",
     "output_type": "stream",
     "text": [
      "\r",
      "|###################-| 9744/10169  95% [elapsed: 33:25 left: 01:27]"
     ]
    },
    {
     "name": "stdout",
     "output_type": "stream",
     "text": [
      "142.658 million (exact: 142658374, estimate 148.77 million)\n"
     ]
    },
    {
     "name": "stderr",
     "output_type": "stream",
     "text": [
      "|###################-| 9759/10169  95% [elapsed: 33:26 left: 01:24]"
     ]
    },
    {
     "name": "stdout",
     "output_type": "stream",
     "text": [
      "142.800 million (exact: 142800482, estimate 148.77 million)\n"
     ]
    },
    {
     "name": "stderr",
     "output_type": "stream",
     "text": [
      "\r",
      "|###################-| 9766/10169  96% [elapsed: 33:26 left: 01:22]"
     ]
    },
    {
     "name": "stdout",
     "output_type": "stream",
     "text": [
      "142.948 million (exact: 142947722, estimate 148.77 million)\n"
     ]
    },
    {
     "name": "stderr",
     "output_type": "stream",
     "text": [
      "\r",
      "|###################-| 9774/10169  96% [elapsed: 33:27 left: 01:21]"
     ]
    },
    {
     "name": "stdout",
     "output_type": "stream",
     "text": [
      "143.095 million (exact: 143095020, estimate 148.77 million)\n"
     ]
    },
    {
     "name": "stderr",
     "output_type": "stream",
     "text": [
      "|###################-| 9790/10169  96% [elapsed: 33:28 left: 01:17]"
     ]
    },
    {
     "name": "stdout",
     "output_type": "stream",
     "text": [
      "143.238 million (exact: 143237731, estimate 148.77 million)\n"
     ]
    },
    {
     "name": "stderr",
     "output_type": "stream",
     "text": [
      "\r",
      "|###################-| 9798/10169  96% [elapsed: 33:28 left: 01:16]"
     ]
    },
    {
     "name": "stdout",
     "output_type": "stream",
     "text": [
      "143.381 million (exact: 143381470, estimate 148.77 million)\n"
     ]
    },
    {
     "name": "stderr",
     "output_type": "stream",
     "text": [
      "\r",
      "|###################-| 9806/10169  96% [elapsed: 33:29 left: 01:14]"
     ]
    },
    {
     "name": "stdout",
     "output_type": "stream",
     "text": [
      "143.539 million (exact: 143538878, estimate 148.78 million)\n"
     ]
    },
    {
     "name": "stderr",
     "output_type": "stream",
     "text": [
      "\r",
      "|###################-| 9813/10169  96% [elapsed: 33:29 left: 01:12]"
     ]
    },
    {
     "name": "stdout",
     "output_type": "stream",
     "text": [
      "143.698 million (exact: 143698024, estimate 148.79 million)\n"
     ]
    },
    {
     "name": "stderr",
     "output_type": "stream",
     "text": [
      "|###################-| 9828/10169  96% [elapsed: 33:31 left: 01:09]"
     ]
    },
    {
     "name": "stdout",
     "output_type": "stream",
     "text": [
      "143.842 million (exact: 143841514, estimate 148.79 million)\n"
     ]
    },
    {
     "name": "stderr",
     "output_type": "stream",
     "text": [
      "\r",
      "|###################-| 9836/10169  96% [elapsed: 33:31 left: 01:08]"
     ]
    },
    {
     "name": "stdout",
     "output_type": "stream",
     "text": [
      "143.987 million (exact: 143986855, estimate 148.79 million)\n"
     ]
    },
    {
     "name": "stderr",
     "output_type": "stream",
     "text": [
      "\r",
      "|###################-| 9843/10169  96% [elapsed: 33:32 left: 01:06]"
     ]
    },
    {
     "name": "stdout",
     "output_type": "stream",
     "text": [
      "144.129 million (exact: 144129127, estimate 148.78 million)\n"
     ]
    },
    {
     "name": "stderr",
     "output_type": "stream",
     "text": [
      "|###################-| 9859/10169  96% [elapsed: 33:33 left: 01:03]"
     ]
    },
    {
     "name": "stdout",
     "output_type": "stream",
     "text": [
      "144.283 million (exact: 144282844, estimate 148.79 million)\n"
     ]
    },
    {
     "name": "stderr",
     "output_type": "stream",
     "text": [
      "\r",
      "|###################-| 9867/10169  97% [elapsed: 33:33 left: 01:01]"
     ]
    },
    {
     "name": "stdout",
     "output_type": "stream",
     "text": [
      "144.435 million (exact: 144435019, estimate 148.80 million)\n"
     ]
    },
    {
     "name": "stderr",
     "output_type": "stream",
     "text": [
      "\r",
      "|###################-| 9875/10169  97% [elapsed: 33:34 left: 00:59]"
     ]
    },
    {
     "name": "stdout",
     "output_type": "stream",
     "text": [
      "144.589 million (exact: 144589363, estimate 148.80 million)\n"
     ]
    },
    {
     "name": "stderr",
     "output_type": "stream",
     "text": [
      "\r",
      "|###################-| 9882/10169  97% [elapsed: 33:34 left: 00:58]"
     ]
    },
    {
     "name": "stdout",
     "output_type": "stream",
     "text": [
      "144.729 million (exact: 144728656, estimate 148.80 million)\n"
     ]
    },
    {
     "name": "stderr",
     "output_type": "stream",
     "text": [
      "|###################-| 9900/10169  97% [elapsed: 33:35 left: 00:54]"
     ]
    },
    {
     "name": "stdout",
     "output_type": "stream",
     "text": [
      "144.862 million (exact: 144862496, estimate 148.78 million)\n"
     ]
    },
    {
     "name": "stderr",
     "output_type": "stream",
     "text": [
      "\r",
      "|###################-| 9908/10169  97% [elapsed: 33:36 left: 00:53]"
     ]
    },
    {
     "name": "stdout",
     "output_type": "stream",
     "text": [
      "144.992 million (exact: 144992045, estimate 148.77 million)\n"
     ]
    },
    {
     "name": "stderr",
     "output_type": "stream",
     "text": [
      "\r",
      "|###################-| 9914/10169  97% [elapsed: 33:36 left: 00:51]"
     ]
    },
    {
     "name": "stdout",
     "output_type": "stream",
     "text": [
      "145.143 million (exact: 145142566, estimate 148.77 million)\n"
     ]
    },
    {
     "name": "stderr",
     "output_type": "stream",
     "text": [
      "|###################-| 9930/10169  97% [elapsed: 33:37 left: 00:48]"
     ]
    },
    {
     "name": "stdout",
     "output_type": "stream",
     "text": [
      "145.291 million (exact: 145291117, estimate 148.77 million)\n"
     ]
    },
    {
     "name": "stderr",
     "output_type": "stream",
     "text": [
      "\r",
      "|###################-| 9939/10169  97% [elapsed: 33:38 left: 00:46]"
     ]
    },
    {
     "name": "stdout",
     "output_type": "stream",
     "text": [
      "145.435 million (exact: 145434986, estimate 148.77 million)\n"
     ]
    },
    {
     "name": "stderr",
     "output_type": "stream",
     "text": [
      "\r",
      "|###################-| 9948/10169  97% [elapsed: 33:39 left: 00:44]"
     ]
    },
    {
     "name": "stdout",
     "output_type": "stream",
     "text": [
      "145.584 million (exact: 145583936, estimate 148.77 million)\n"
     ]
    },
    {
     "name": "stderr",
     "output_type": "stream",
     "text": [
      "\r",
      "|###################-| 9957/10169  97% [elapsed: 33:39 left: 00:42]"
     ]
    },
    {
     "name": "stdout",
     "output_type": "stream",
     "text": [
      "145.739 million (exact: 145739211, estimate 148.78 million)\n"
     ]
    },
    {
     "name": "stderr",
     "output_type": "stream",
     "text": [
      "\r",
      "|###################-| 9966/10169  98% [elapsed: 33:40 left: 00:41]"
     ]
    },
    {
     "name": "stdout",
     "output_type": "stream",
     "text": [
      "145.893 million (exact: 145893280, estimate 148.79 million)\n"
     ]
    },
    {
     "name": "stderr",
     "output_type": "stream",
     "text": [
      "\r",
      "|###################-| 9975/10169  98% [elapsed: 33:40 left: 00:39]"
     ]
    },
    {
     "name": "stdout",
     "output_type": "stream",
     "text": [
      "146.047 million (exact: 146046503, estimate 148.80 million)\n"
     ]
    },
    {
     "name": "stderr",
     "output_type": "stream",
     "text": [
      "\r",
      "|###################-| 9984/10169  98% [elapsed: 33:41 left: 00:37]"
     ]
    },
    {
     "name": "stdout",
     "output_type": "stream",
     "text": [
      "146.195 million (exact: 146195348, estimate 148.80 million)\n"
     ]
    },
    {
     "name": "stderr",
     "output_type": "stream",
     "text": [
      "\r",
      "|###################-| 9993/10169  98% [elapsed: 33:41 left: 00:35]"
     ]
    },
    {
     "name": "stdout",
     "output_type": "stream",
     "text": [
      "146.338 million (exact: 146337657, estimate 148.80 million)\n"
     ]
    },
    {
     "name": "stderr",
     "output_type": "stream",
     "text": [
      "|###################-| 10010/10169  98% [elapsed: 33:42 left: 00:32]"
     ]
    },
    {
     "name": "stdout",
     "output_type": "stream",
     "text": [
      "146.496 million (exact: 146495610, estimate 148.81 million)\n"
     ]
    },
    {
     "name": "stderr",
     "output_type": "stream",
     "text": [
      "\r",
      "|###################-| 10019/10169  98% [elapsed: 33:43 left: 00:30]"
     ]
    },
    {
     "name": "stdout",
     "output_type": "stream",
     "text": [
      "146.639 million (exact: 146638695, estimate 148.80 million)\n"
     ]
    },
    {
     "name": "stderr",
     "output_type": "stream",
     "text": [
      "\r",
      "|###################-| 10028/10169  98% [elapsed: 33:43 left: 00:28]"
     ]
    },
    {
     "name": "stdout",
     "output_type": "stream",
     "text": [
      "146.797 million (exact: 146797382, estimate 148.82 million)\n"
     ]
    },
    {
     "name": "stderr",
     "output_type": "stream",
     "text": [
      "\r",
      "|###################-| 10037/10169  98% [elapsed: 33:44 left: 00:26]"
     ]
    },
    {
     "name": "stdout",
     "output_type": "stream",
     "text": [
      "146.956 million (exact: 146955517, estimate 148.83 million)\n"
     ]
    },
    {
     "name": "stderr",
     "output_type": "stream",
     "text": [
      "\r",
      "|###################-| 10045/10169  98% [elapsed: 33:44 left: 00:24]"
     ]
    },
    {
     "name": "stdout",
     "output_type": "stream",
     "text": [
      "147.101 million (exact: 147100746, estimate 148.83 million)\n"
     ]
    },
    {
     "name": "stderr",
     "output_type": "stream",
     "text": [
      "\r",
      "|###################-| 10054/10169  98% [elapsed: 33:45 left: 00:23]"
     ]
    },
    {
     "name": "stdout",
     "output_type": "stream",
     "text": [
      "147.253 million (exact: 147252991, estimate 148.83 million)\n"
     ]
    },
    {
     "name": "stderr",
     "output_type": "stream",
     "text": [
      "|###################-| 10070/10169  99% [elapsed: 33:46 left: 00:19]"
     ]
    },
    {
     "name": "stdout",
     "output_type": "stream",
     "text": [
      "147.401 million (exact: 147400931, estimate 148.84 million)\n"
     ]
    },
    {
     "name": "stderr",
     "output_type": "stream",
     "text": [
      "\r",
      "|###################-| 10079/10169  99% [elapsed: 33:47 left: 00:18]"
     ]
    },
    {
     "name": "stdout",
     "output_type": "stream",
     "text": [
      "147.547 million (exact: 147547139, estimate 148.84 million)\n"
     ]
    },
    {
     "name": "stderr",
     "output_type": "stream",
     "text": [
      "\r",
      "|###################-| 10087/10169  99% [elapsed: 33:47 left: 00:16]"
     ]
    },
    {
     "name": "stdout",
     "output_type": "stream",
     "text": [
      "147.684 million (exact: 147683938, estimate 148.83 million)\n"
     ]
    },
    {
     "name": "stderr",
     "output_type": "stream",
     "text": [
      "\r",
      "|###################-| 10095/10169  99% [elapsed: 33:48 left: 00:14]"
     ]
    },
    {
     "name": "stdout",
     "output_type": "stream",
     "text": [
      "147.822 million (exact: 147822459, estimate 148.82 million)\n"
     ]
    },
    {
     "name": "stderr",
     "output_type": "stream",
     "text": [
      "\r",
      "|###################-| 10103/10169  99% [elapsed: 33:48 left: 00:13]"
     ]
    },
    {
     "name": "stdout",
     "output_type": "stream",
     "text": [
      "147.968 million (exact: 147968147, estimate 148.82 million)\n"
     ]
    },
    {
     "name": "stderr",
     "output_type": "stream",
     "text": [
      "|###################-| 10120/10169  99% [elapsed: 33:49 left: 00:09]"
     ]
    },
    {
     "name": "stdout",
     "output_type": "stream",
     "text": [
      "148.117 million (exact: 148117090, estimate 148.82 million)\n"
     ]
    },
    {
     "name": "stderr",
     "output_type": "stream",
     "text": [
      "\r",
      "|###################-| 10129/10169  99% [elapsed: 33:50 left: 00:08]"
     ]
    },
    {
     "name": "stdout",
     "output_type": "stream",
     "text": [
      "148.270 million (exact: 148270143, estimate 148.83 million)\n"
     ]
    },
    {
     "name": "stderr",
     "output_type": "stream",
     "text": [
      "\r",
      "|###################-| 10136/10169  99% [elapsed: 33:50 left: 00:06]"
     ]
    },
    {
     "name": "stdout",
     "output_type": "stream",
     "text": [
      "148.419 million (exact: 148418589, estimate 148.83 million)\n"
     ]
    },
    {
     "name": "stderr",
     "output_type": "stream",
     "text": [
      "\r",
      "|###################-| 10145/10169  99% [elapsed: 33:51 left: 00:04]"
     ]
    },
    {
     "name": "stdout",
     "output_type": "stream",
     "text": [
      "148.575 million (exact: 148574880, estimate 148.84 million)\n"
     ]
    },
    {
     "name": "stderr",
     "output_type": "stream",
     "text": [
      "|###################-| 10157/10169  99% [elapsed: 33:53 left: 00:02]"
     ]
    },
    {
     "name": "stdout",
     "output_type": "stream",
     "text": [
      "148.730 million (exact: 148729785, estimate 148.85 million)\n"
     ]
    },
    {
     "name": "stderr",
     "output_type": "stream",
     "text": [
      "\r",
      "|###################-| 10161/10169  99% [elapsed: 40:50 left: 00:01]"
     ]
    },
    {
     "ename": "RuntimeError",
     "evalue": "Condor job 44ba91d0b9da4f04a1d863b67989dd0c: status 'Removed' w/ no output",
     "output_type": "error",
     "traceback": [
      "\u001b[0;31m---------------------------------------------------------------------------\u001b[0m",
      "\u001b[0;31mRuntimeError\u001b[0m                              Traceback (most recent call last)",
      "Cell \u001b[0;32mIn[17], line 1\u001b[0m\n\u001b[0;32m----> 1\u001b[0m \u001b[43m_count_fnames\u001b[49m\u001b[43m(\u001b[49m\u001b[43mfnames\u001b[49m\u001b[43m,\u001b[49m\u001b[43m \u001b[49m\u001b[43muse_joblib\u001b[49m\u001b[38;5;241;43m=\u001b[39;49m\u001b[38;5;28;43;01mFalse\u001b[39;49;00m\u001b[43m)\u001b[49m\n",
      "Cell \u001b[0;32mIn[13], line 19\u001b[0m, in \u001b[0;36m_count_fnames\u001b[0;34m(fnames, use_joblib)\u001b[0m\n\u001b[1;32m     13\u001b[0m futs \u001b[38;5;241m=\u001b[39m [\n\u001b[1;32m     14\u001b[0m     joblib\u001b[38;5;241m.\u001b[39mdelayed(_read_and_count)(os\u001b[38;5;241m.\u001b[39mpath\u001b[38;5;241m.\u001b[39mabspath(fname))\n\u001b[1;32m     15\u001b[0m     \u001b[38;5;28;01mfor\u001b[39;00m fname \u001b[38;5;129;01min\u001b[39;00m fnames\n\u001b[1;32m     16\u001b[0m ]\n\u001b[1;32m     18\u001b[0m \u001b[38;5;28;01mfor\u001b[39;00m fut \u001b[38;5;129;01min\u001b[39;00m PBar(exc(futs), total\u001b[38;5;241m=\u001b[39m\u001b[38;5;28mlen\u001b[39m(futs)):\n\u001b[0;32m---> 19\u001b[0m     tot \u001b[38;5;241m+\u001b[39m\u001b[38;5;241m=\u001b[39m \u001b[43mfut\u001b[49m\u001b[38;5;241;43m.\u001b[39;49m\u001b[43mresult\u001b[49m\u001b[43m(\u001b[49m\u001b[43m)\u001b[49m\n\u001b[1;32m     20\u001b[0m     nres \u001b[38;5;241m+\u001b[39m\u001b[38;5;241m=\u001b[39m \u001b[38;5;241m1\u001b[39m\n\u001b[1;32m     22\u001b[0m     \u001b[38;5;28;01mif\u001b[39;00m (nres\u001b[38;5;241m-\u001b[39m\u001b[38;5;241m1\u001b[39m) \u001b[38;5;241m%\u001b[39m \u001b[38;5;241m10\u001b[39m \u001b[38;5;241m==\u001b[39m \u001b[38;5;241m0\u001b[39m:\n",
      "File \u001b[0;32m/gpfs02/astro/workarea/beckermr/miniconda3/envs/des-y6/lib/python3.10/site-packages/mattspy/yield_result.py:8\u001b[0m, in \u001b[0;36mParallelResult.result\u001b[0;34m(self)\u001b[0m\n\u001b[1;32m      6\u001b[0m \u001b[38;5;28;01mdef\u001b[39;00m \u001b[38;5;21mresult\u001b[39m(\u001b[38;5;28mself\u001b[39m):\n\u001b[1;32m      7\u001b[0m     \u001b[38;5;28;01mif\u001b[39;00m \u001b[38;5;28misinstance\u001b[39m(\u001b[38;5;28mself\u001b[39m\u001b[38;5;241m.\u001b[39m_result_or_exception, \u001b[38;5;167;01mException\u001b[39;00m):\n\u001b[0;32m----> 8\u001b[0m         \u001b[38;5;28;01mraise\u001b[39;00m \u001b[38;5;28mself\u001b[39m\u001b[38;5;241m.\u001b[39m_result_or_exception\n\u001b[1;32m      9\u001b[0m     \u001b[38;5;28;01melse\u001b[39;00m:\n\u001b[1;32m     10\u001b[0m         \u001b[38;5;28;01mreturn\u001b[39;00m \u001b[38;5;28mself\u001b[39m\u001b[38;5;241m.\u001b[39m_result_or_exception\n",
      "\u001b[0;31mRuntimeError\u001b[0m: Condor job 44ba91d0b9da4f04a1d863b67989dd0c: status 'Removed' w/ no output"
     ]
    }
   ],
   "source": [
    "_count_fnames(fnames, use_joblib=False)"
   ]
  },
  {
   "cell_type": "code",
   "execution_count": 9,
   "id": "da463c2d",
   "metadata": {
    "scrolled": true
   },
   "outputs": [
    {
     "name": "stderr",
     "output_type": "stream",
     "text": [
      "\r",
      "|--------------------| 0/200   0% [elapsed: 00:00 left: ?]"
     ]
    },
    {
     "name": "stdout",
     "output_type": "stream",
     "text": [
      "0.641 million (exact: 641400, estimate 128.28 million)\n"
     ]
    },
    {
     "name": "stderr",
     "output_type": "stream",
     "text": [
      "|#-------------------| 10/200   5% [elapsed: 03:22 left: 1:04:07]"
     ]
    },
    {
     "name": "stdout",
     "output_type": "stream",
     "text": [
      "7.049 million (exact: 7048880, estimate 128.16 million)\n"
     ]
    },
    {
     "name": "stderr",
     "output_type": "stream",
     "text": [
      "|##------------------| 20/200  10% [elapsed: 03:33 left: 32:01]  "
     ]
    },
    {
     "name": "stdout",
     "output_type": "stream",
     "text": [
      "14.435 million (exact: 14434853, estimate 137.47 million)\n"
     ]
    },
    {
     "name": "stderr",
     "output_type": "stream",
     "text": [
      "|###-----------------| 30/200  15% [elapsed: 04:07 left: 23:21]"
     ]
    },
    {
     "name": "stdout",
     "output_type": "stream",
     "text": [
      "21.247 million (exact: 21247463, estimate 137.08 million)\n"
     ]
    },
    {
     "name": "stderr",
     "output_type": "stream",
     "text": [
      "|####----------------| 40/200  20% [elapsed: 04:24 left: 17:39]"
     ]
    },
    {
     "name": "stdout",
     "output_type": "stream",
     "text": [
      "27.806 million (exact: 27805838, estimate 135.64 million)\n"
     ]
    },
    {
     "name": "stderr",
     "output_type": "stream",
     "text": [
      "|#####---------------| 50/200  25% [elapsed: 04:32 left: 13:37]"
     ]
    },
    {
     "name": "stdout",
     "output_type": "stream",
     "text": [
      "35.670 million (exact: 35669576, estimate 139.88 million)\n"
     ]
    },
    {
     "name": "stderr",
     "output_type": "stream",
     "text": [
      "|######--------------| 60/200  30% [elapsed: 04:42 left: 10:58]"
     ]
    },
    {
     "name": "stdout",
     "output_type": "stream",
     "text": [
      "43.417 million (exact: 43417075, estimate 142.35 million)\n"
     ]
    },
    {
     "name": "stderr",
     "output_type": "stream",
     "text": [
      "|#######-------------| 70/200  35% [elapsed: 05:02 left: 09:22]"
     ]
    },
    {
     "name": "stdout",
     "output_type": "stream",
     "text": [
      "51.323 million (exact: 51322561, estimate 144.57 million)\n"
     ]
    },
    {
     "name": "stderr",
     "output_type": "stream",
     "text": [
      "|#######-------------| 79/200  39% [elapsed: 05:19 left: 08:09]"
     ]
    },
    {
     "name": "stdout",
     "output_type": "stream",
     "text": [
      "59.144 million (exact: 59143929, estimate 146.03 million)\n"
     ]
    },
    {
     "name": "stderr",
     "output_type": "stream",
     "text": [
      "|#########-----------| 90/200  45% [elapsed: 05:31 left: 06:44]"
     ]
    },
    {
     "name": "stdout",
     "output_type": "stream",
     "text": [
      "66.345 million (exact: 66344797, estimate 145.81 million)\n"
     ]
    },
    {
     "name": "stderr",
     "output_type": "stream",
     "text": [
      "|##########----------| 100/200  50% [elapsed: 05:38 left: 05:38]"
     ]
    },
    {
     "name": "stdout",
     "output_type": "stream",
     "text": [
      "73.984 million (exact: 73984430, estimate 146.50 million)\n"
     ]
    },
    {
     "name": "stderr",
     "output_type": "stream",
     "text": [
      "|###########---------| 110/200  55% [elapsed: 05:46 left: 04:43]"
     ]
    },
    {
     "name": "stdout",
     "output_type": "stream",
     "text": [
      "81.675 million (exact: 81675456, estimate 147.16 million)\n"
     ]
    },
    {
     "name": "stderr",
     "output_type": "stream",
     "text": [
      "|###########---------| 119/200  59% [elapsed: 05:51 left: 03:59]"
     ]
    },
    {
     "name": "stdout",
     "output_type": "stream",
     "text": [
      "89.227 million (exact: 89227156, estimate 147.48 million)\n"
     ]
    },
    {
     "name": "stderr",
     "output_type": "stream",
     "text": [
      "|#############-------| 130/200  65% [elapsed: 06:02 left: 03:15]"
     ]
    },
    {
     "name": "stdout",
     "output_type": "stream",
     "text": [
      "97.053 million (exact: 97053466, estimate 148.17 million)\n"
     ]
    },
    {
     "name": "stderr",
     "output_type": "stream",
     "text": [
      "|#############-------| 138/200  69% [elapsed: 06:09 left: 02:45]"
     ]
    },
    {
     "name": "stdout",
     "output_type": "stream",
     "text": [
      "104.699 million (exact: 104699212, estimate 148.51 million)\n"
     ]
    },
    {
     "name": "stderr",
     "output_type": "stream",
     "text": [
      "|###############-----| 150/200  75% [elapsed: 06:16 left: 02:05]"
     ]
    },
    {
     "name": "stdout",
     "output_type": "stream",
     "text": [
      "112.355 million (exact: 112354633, estimate 148.81 million)\n"
     ]
    },
    {
     "name": "stderr",
     "output_type": "stream",
     "text": [
      "|###############-----| 158/200  79% [elapsed: 06:21 left: 01:41]"
     ]
    },
    {
     "name": "stdout",
     "output_type": "stream",
     "text": [
      "120.383 million (exact: 120383162, estimate 149.54 million)\n"
     ]
    },
    {
     "name": "stderr",
     "output_type": "stream",
     "text": [
      "|#################---| 170/200  85% [elapsed: 06:40 left: 01:10]"
     ]
    },
    {
     "name": "stdout",
     "output_type": "stream",
     "text": [
      "127.168 million (exact: 127168270, estimate 148.73 million)\n"
     ]
    },
    {
     "name": "stderr",
     "output_type": "stream",
     "text": [
      "|##################--| 180/200  90% [elapsed: 07:06 left: 00:47]"
     ]
    },
    {
     "name": "stdout",
     "output_type": "stream",
     "text": [
      "134.914 million (exact: 134913970, estimate 149.08 million)\n"
     ]
    },
    {
     "name": "stderr",
     "output_type": "stream",
     "text": [
      "|###################-| 190/200  95% [elapsed: 09:28 left: 00:29]"
     ]
    },
    {
     "name": "stdout",
     "output_type": "stream",
     "text": [
      "142.343 million (exact: 142343032, estimate 149.05 million)\n"
     ]
    },
    {
     "name": "stderr",
     "output_type": "stream",
     "text": [
      "|####################| 200/200 100% [elapsed: 17:39 left: 00:00]"
     ]
    },
    {
     "name": "stdout",
     "output_type": "stream",
     "text": [
      "148.852 million (exact: 148852455, estimate 148.85 million)\n"
     ]
    },
    {
     "name": "stderr",
     "output_type": "stream",
     "text": [
      "\n"
     ]
    }
   ],
   "source": [
    "_count_fnames(fnames_jk, use_joblib=False)"
   ]
  },
  {
   "cell_type": "code",
   "execution_count": null,
   "id": "86e56e31",
   "metadata": {},
   "outputs": [],
   "source": []
  }
 ],
 "metadata": {
  "kernelspec": {
   "display_name": "Python [conda env:des-y6]",
   "language": "python",
   "name": "conda-env-des-y6-py"
  },
  "language_info": {
   "codemirror_mode": {
    "name": "ipython",
    "version": 3
   },
   "file_extension": ".py",
   "mimetype": "text/x-python",
   "name": "python",
   "nbconvert_exporter": "python",
   "pygments_lexer": "ipython3",
   "version": "3.10.9"
  }
 },
 "nbformat": 4,
 "nbformat_minor": 5
}
